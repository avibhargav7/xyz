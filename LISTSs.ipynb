{
 "cells": [
  {
   "cell_type": "code",
   "execution_count": null,
   "id": "jewish-accordance",
   "metadata": {},
   "outputs": [],
   "source": []
  },
  {
   "cell_type": "markdown",
   "id": "funded-essex",
   "metadata": {},
   "source": [
    "LISTS"
   ]
  },
  {
   "cell_type": "raw",
   "id": "rapid-perspective",
   "metadata": {},
   "source": [
    "it's a derived data type\n",
    "Anything written in square brackets [ ] is your lists"
   ]
  },
  {
   "cell_type": "markdown",
   "id": "prescription-acrylic",
   "metadata": {},
   "source": [
    "CREATING A LISTS-------> 4 WAYS"
   ]
  },
  {
   "cell_type": "code",
   "execution_count": 6,
   "id": "anonymous-cause",
   "metadata": {},
   "outputs": [
    {
     "name": "stdout",
     "output_type": "stream",
     "text": [
      "['banana', 'apple', 'mango', 'pomegranate']\n",
      "<class 'list'>\n"
     ]
    }
   ],
   "source": [
    "# 1 WAY-------> YOU SHOULD ALREADY KNOW THE VALUE\n",
    "a = [\"banana\" , \"apple\" , \"mango\" , \"pomegranate\"]\n",
    "print(a)\n",
    "print(type(a))"
   ]
  },
  {
   "cell_type": "code",
   "execution_count": 7,
   "id": "likely-buyer",
   "metadata": {},
   "outputs": [
    {
     "name": "stdout",
     "output_type": "stream",
     "text": [
      "[10, 20, 3000, 22000]\n",
      "<class 'list'>\n"
     ]
    }
   ],
   "source": [
    "b = [10 , 20 , 3000 , 22000]\n",
    "print(b)\n",
    "print(type(b))"
   ]
  },
  {
   "cell_type": "code",
   "execution_count": 8,
   "id": "dress-triumph",
   "metadata": {},
   "outputs": [
    {
     "name": "stdout",
     "output_type": "stream",
     "text": [
      "[1.5, 'lavish', 10, 22.55]\n",
      "<class 'list'>\n"
     ]
    }
   ],
   "source": [
    "c = [ 1.5 , \"lavish\" , 10 , 22.55]\n",
    "print(c)\n",
    "print(type(c))"
   ]
  },
  {
   "cell_type": "code",
   "execution_count": 9,
   "id": "virgin-cisco",
   "metadata": {},
   "outputs": [
    {
     "name": "stdout",
     "output_type": "stream",
     "text": [
      "enter an value : [1.5, 'lavish', 10, 22.55]\n",
      "[1.5, 'lavish', 10, 22.55]\n",
      "<class 'list'>\n"
     ]
    }
   ],
   "source": [
    "# 2 WAY -----> TAKING INPUT FROM THE USER\n",
    "c = eval(input(\"enter an value : \"))\n",
    "print(c)\n",
    "print(type(c))\n",
    "# TYPE IS SHOWING TUPLE IS WHY? ----> BECAUSE WE HAVE TO USE [ ] SQUARE BRACKE"
   ]
  },
  {
   "cell_type": "code",
   "execution_count": 10,
   "id": "current-nothing",
   "metadata": {},
   "outputs": [
    {
     "name": "stdout",
     "output_type": "stream",
     "text": [
      "enter an value : 1.5, 'lavish', 10, 22.55\n",
      "(1.5, 'lavish', 10, 22.55)\n",
      "<class 'tuple'>\n"
     ]
    }
   ],
   "source": [
    "c = eval(input(\"enter an value : \"))\n",
    "print(c)\n",
    "print(type(c))\n",
    "# AS YOU CAN SEE NOW BECAUSE OF SQUARE BRACKET [ ] \n"
   ]
  },
  {
   "cell_type": "code",
   "execution_count": 11,
   "id": "hydraulic-company",
   "metadata": {},
   "outputs": [
    {
     "name": "stdout",
     "output_type": "stream",
     "text": [
      "['a', 'b', 'c']\n",
      "<class 'list'>\n"
     ]
    }
   ],
   "source": [
    "# 3 WAY----> TYPECASTING\n",
    "A = \"abc\"\n",
    "var = list(A)\n",
    "print(var)\n",
    "print(type(var))"
   ]
  },
  {
   "cell_type": "code",
   "execution_count": 12,
   "id": "conditional-longer",
   "metadata": {},
   "outputs": [
    {
     "name": "stdout",
     "output_type": "stream",
     "text": [
      "['we', 'are', 'learning', 'python', 'in', 'jupyter', 'notebook']\n"
     ]
    },
    {
     "data": {
      "text/plain": [
       "str"
      ]
     },
     "execution_count": 12,
     "metadata": {},
     "output_type": "execute_result"
    }
   ],
   "source": [
    "# 4 WAY ------> SPLIT METHOD\n",
    "var = \"we are learning python in jupyter notebook\"\n",
    "print(var.split())\n",
    "(type(var))"
   ]
  },
  {
   "cell_type": "raw",
   "id": "lyric-persian",
   "metadata": {},
   "source": [
    "INTERVIEW QUESTIONS\n",
    "WHAT IS DIFFERENCE BETWEEN LIST AND TUPLE? WHICH ONE IS FASTER ?\n",
    "Tuples are faster as it is immutable . lists are mutables and tuples are immutables .\n",
    "WHAT IS DIFFERENCE BETWEEN LIST AND A NUMPY ARRAY ?\n",
    "Numpy array contains homogenous data .\n",
    "lists contains homogeneous and heterogeneous as well."
   ]
  },
  {
   "cell_type": "code",
   "execution_count": 13,
   "id": "knowing-blowing",
   "metadata": {},
   "outputs": [],
   "source": [
    "# ['a', 'b', 'c']\n",
    "# <class 'list'>\n",
    "# ['we', 'are', 'learning', 'python', 'in', 'jupyter', 'notebook']\n",
    "# Out[4]: str\n",
    "# Out[22]: ['abc']\n",
    "# ['lionel', 'messi', 'is', 'the', 'authentic', 'player']\n",
    "# 1683849143488\n",
    "# 1683860351536"
   ]
  },
  {
   "cell_type": "code",
   "execution_count": 1,
   "id": "signal-healthcare",
   "metadata": {},
   "outputs": [],
   "source": [
    "# append function()\n",
    "var1 = \"abc\""
   ]
  },
  {
   "cell_type": "code",
   "execution_count": 2,
   "id": "53316e97",
   "metadata": {},
   "outputs": [
    {
     "data": {
      "text/plain": [
       "'abc'"
      ]
     },
     "execution_count": 2,
     "metadata": {},
     "output_type": "execute_result"
    }
   ],
   "source": [
    "var1"
   ]
  },
  {
   "cell_type": "code",
   "execution_count": 15,
   "id": "warming-credits",
   "metadata": {},
   "outputs": [],
   "source": [
    "l = []"
   ]
  },
  {
   "cell_type": "code",
   "execution_count": 16,
   "id": "industrial-immune",
   "metadata": {},
   "outputs": [],
   "source": [
    "l.append(var1)"
   ]
  },
  {
   "cell_type": "code",
   "execution_count": 17,
   "id": "criminal-delight",
   "metadata": {},
   "outputs": [
    {
     "data": {
      "text/plain": [
       "['abc']"
      ]
     },
     "execution_count": 17,
     "metadata": {},
     "output_type": "execute_result"
    }
   ],
   "source": [
    "l"
   ]
  },
  {
   "cell_type": "code",
   "execution_count": 3,
   "id": "sapphire-victory",
   "metadata": {},
   "outputs": [
    {
     "name": "stdout",
     "output_type": "stream",
     "text": [
      "['lionel', 'messi', 'is', 'the', 'authentic', 'player']\n",
      "2834957300160\n",
      "2834956870224\n"
     ]
    }
   ],
   "source": [
    "# SPLIT ------> IT SPLITS STRING TO LISTS\n",
    "\n",
    "my_str = \"lionel messi is the authentic player\"\n",
    "var1 = my_str.split()\n",
    "print(var1)\n",
    "print(id(var1))\n",
    "print(id(my_str))"
   ]
  },
  {
   "cell_type": "raw",
   "id": "global-punch",
   "metadata": {},
   "source": [
    "PROPERTIES OF LISTS\n",
    "Sequence data\n",
    "indexing and slicing allowed\n",
    "allows duplicates\n",
    "it is mutable data type\n",
    "it can hold diffrent (HETEROGENOUS) data types\n",
    "operations performed-----> concatination , repetition , membership , identity"
   ]
  },
  {
   "cell_type": "code",
   "execution_count": 8,
   "id": "after-portland",
   "metadata": {},
   "outputs": [],
   "source": [
    "# indexing\n",
    "a = [100 , 200 , 3000 , 5000 , 6000 , 23000]"
   ]
  },
  {
   "cell_type": "code",
   "execution_count": 9,
   "id": "e7d299c8",
   "metadata": {},
   "outputs": [
    {
     "data": {
      "text/plain": [
       "[100, 200, 3000, 5000, 6000, 23000]"
      ]
     },
     "execution_count": 9,
     "metadata": {},
     "output_type": "execute_result"
    }
   ],
   "source": [
    "a"
   ]
  },
  {
   "cell_type": "code",
   "execution_count": 10,
   "id": "above-helicopter",
   "metadata": {},
   "outputs": [
    {
     "data": {
      "text/plain": [
       "5000"
      ]
     },
     "execution_count": 10,
     "metadata": {},
     "output_type": "execute_result"
    }
   ],
   "source": [
    "a[3]"
   ]
  },
  {
   "cell_type": "code",
   "execution_count": 11,
   "id": "necessary-fiber",
   "metadata": {},
   "outputs": [
    {
     "data": {
      "text/plain": [
       "6000"
      ]
     },
     "execution_count": 11,
     "metadata": {},
     "output_type": "execute_result"
    }
   ],
   "source": [
    "a[-2]"
   ]
  },
  {
   "cell_type": "code",
   "execution_count": 12,
   "id": "generous-flower",
   "metadata": {},
   "outputs": [
    {
     "data": {
      "text/plain": [
       "[100, 200, 3000, 5000]"
      ]
     },
     "execution_count": 12,
     "metadata": {},
     "output_type": "execute_result"
    }
   ],
   "source": [
    "# slicing\n",
    "a[0:4:]"
   ]
  },
  {
   "cell_type": "code",
   "execution_count": 13,
   "id": "warming-correlation",
   "metadata": {},
   "outputs": [
    {
     "data": {
      "text/plain": [
       "[]"
      ]
     },
     "execution_count": 13,
     "metadata": {},
     "output_type": "execute_result"
    }
   ],
   "source": [
    "a[-1:-5:]"
   ]
  },
  {
   "cell_type": "code",
   "execution_count": 14,
   "id": "molecular-venue",
   "metadata": {},
   "outputs": [
    {
     "data": {
      "text/plain": [
       "[23000, 6000, 5000, 3000]"
      ]
     },
     "execution_count": 14,
     "metadata": {},
     "output_type": "execute_result"
    }
   ],
   "source": [
    "a[-1:-5:-1]"
   ]
  },
  {
   "cell_type": "code",
   "execution_count": 15,
   "id": "alert-newton",
   "metadata": {},
   "outputs": [
    {
     "name": "stdout",
     "output_type": "stream",
     "text": [
      "[1, 2, 3, 2, 2, 1, 1, 1, 1, 2, 2, 2, 2, 2, 2, 2]\n"
     ]
    }
   ],
   "source": [
    "# allows duplicates\n",
    "b = [1,2,3,2,2,1,1,1,1,2,2,2,2,2,2,2]\n",
    "print(b)"
   ]
  },
  {
   "cell_type": "markdown",
   "id": "duplicate-shoot",
   "metadata": {},
   "source": [
    "Operations on lists ----> concatination , repetition , membership , identity operators"
   ]
  },
  {
   "cell_type": "code",
   "execution_count": 16,
   "id": "pursuant-laser",
   "metadata": {},
   "outputs": [
    {
     "data": {
      "text/plain": [
       "[1, 2, 3, 4, 5, 6, 7, 8, 9, 10]"
      ]
     },
     "execution_count": 16,
     "metadata": {},
     "output_type": "execute_result"
    }
   ],
   "source": [
    "# concatination\n",
    "var1 = [1,2,3,4,5]\n",
    "var2 = [6,7,8,9,10]\n",
    "var1 + var2"
   ]
  },
  {
   "cell_type": "code",
   "execution_count": 24,
   "id": "defined-albania",
   "metadata": {},
   "outputs": [
    {
     "name": "stdout",
     "output_type": "stream",
     "text": [
      "['lavish', 55, 22.22, 100, 'lavish', 55, 22.22, 100, 'lavish', 55, 22.22, 100, 'lavish', 55, 22.22, 100]---"
     ]
    }
   ],
   "source": [
    "# repetition -----> * , operands (list, int)\n",
    "l1 = [\"lavish\", 55, 22.22 , 100]\n",
    "print(l1 * 4, end = \"---\")"
   ]
  },
  {
   "cell_type": "code",
   "execution_count": 25,
   "id": "domestic-pleasure",
   "metadata": {},
   "outputs": [
    {
     "name": "stdout",
     "output_type": "stream",
     "text": [
      "True\n",
      "False\n"
     ]
    }
   ],
   "source": [
    "# membership (in , not in)\n",
    "l2 = [7, 10, 22, 25]\n",
    "print(22 in l2)\n",
    "l2 = [7, 10, 22, 25]\n",
    "print(22 not in l2)"
   ]
  },
  {
   "cell_type": "code",
   "execution_count": null,
   "id": "primary-filename",
   "metadata": {},
   "outputs": [],
   "source": []
  },
  {
   "cell_type": "code",
   "execution_count": 26,
   "id": "attended-american",
   "metadata": {},
   "outputs": [
    {
     "name": "stdout",
     "output_type": "stream",
     "text": [
      "False\n",
      "True\n",
      "2834970631552\n",
      "2834970639808\n"
     ]
    }
   ],
   "source": [
    "# identity (is , is not)\n",
    "lst1 = [1,2,3,4]\n",
    "lst2 = [1,2,3,4]\n",
    "print(lst1 is lst2)\n",
    "print(lst1 is not lst2)\n",
    "print(id(lst1))\n",
    "print(id(lst2))\n",
    "# ids are different because of mutablity of lists it can be changed"
   ]
  },
  {
   "cell_type": "markdown",
   "id": "unlimited-vaccine",
   "metadata": {},
   "source": [
    "Nested list------> lists inside the lists"
   ]
  },
  {
   "cell_type": "code",
   "execution_count": 27,
   "id": "engaged-understanding",
   "metadata": {},
   "outputs": [
    {
     "name": "stdout",
     "output_type": "stream",
     "text": [
      "[1, 2, 4, [6, 7, 8]]\n"
     ]
    }
   ],
   "source": [
    "lst1 = [1, 2, 4, [6, 7, 8]]\n",
    "print(lst1)"
   ]
  },
  {
   "cell_type": "code",
   "execution_count": 28,
   "id": "affecting-frost",
   "metadata": {},
   "outputs": [
    {
     "data": {
      "text/plain": [
       "[8, 7, 6]"
      ]
     },
     "execution_count": 28,
     "metadata": {},
     "output_type": "execute_result"
    }
   ],
   "source": [
    "lst1[3][::-1]"
   ]
  },
  {
   "cell_type": "code",
   "execution_count": 29,
   "id": "unlimited-craft",
   "metadata": {},
   "outputs": [
    {
     "data": {
      "text/plain": [
       "[6, 7, 8]"
      ]
     },
     "execution_count": 29,
     "metadata": {},
     "output_type": "execute_result"
    }
   ],
   "source": [
    "lst1[3][::1]"
   ]
  },
  {
   "cell_type": "code",
   "execution_count": 30,
   "id": "varying-gnome",
   "metadata": {},
   "outputs": [],
   "source": [
    "lst1[3][1]=9"
   ]
  },
  {
   "cell_type": "code",
   "execution_count": 31,
   "id": "blind-selection",
   "metadata": {},
   "outputs": [
    {
     "data": {
      "text/plain": [
       "[1, 2, 4, [6, 9, 8]]"
      ]
     },
     "execution_count": 31,
     "metadata": {},
     "output_type": "execute_result"
    }
   ],
   "source": [
    "lst1"
   ]
  },
  {
   "cell_type": "code",
   "execution_count": 32,
   "id": "liberal-internship",
   "metadata": {},
   "outputs": [],
   "source": [
    "lst1[0] = 3"
   ]
  },
  {
   "cell_type": "code",
   "execution_count": 33,
   "id": "dominant-deposit",
   "metadata": {},
   "outputs": [
    {
     "data": {
      "text/plain": [
       "[3, 2, 4, [6, 9, 8]]"
      ]
     },
     "execution_count": 33,
     "metadata": {},
     "output_type": "execute_result"
    }
   ],
   "source": [
    "lst1"
   ]
  },
  {
   "cell_type": "code",
   "execution_count": 34,
   "id": "arctic-stockholm",
   "metadata": {},
   "outputs": [],
   "source": [
    "d = [[1,2,3],[8,9,[12,14,19],\"lavish\",\"manjunath\",\"geetanjali\",\"shivam\",[\"tom\", \"david\", [20, 70, \"shiva\"]]]]"
   ]
  },
  {
   "cell_type": "code",
   "execution_count": 35,
   "id": "289dd46c",
   "metadata": {},
   "outputs": [
    {
     "data": {
      "text/plain": [
       "[[1, 2, 3],\n",
       " [8,\n",
       "  9,\n",
       "  [12, 14, 19],\n",
       "  'lavish',\n",
       "  'manjunath',\n",
       "  'geetanjali',\n",
       "  'shivam',\n",
       "  ['tom', 'david', [20, 70, 'shiva']]]]"
      ]
     },
     "execution_count": 35,
     "metadata": {},
     "output_type": "execute_result"
    }
   ],
   "source": [
    "d"
   ]
  },
  {
   "cell_type": "code",
   "execution_count": null,
   "id": "59ed80af",
   "metadata": {},
   "outputs": [],
   "source": []
  },
  {
   "cell_type": "code",
   "execution_count": 36,
   "id": "connected-thong",
   "metadata": {},
   "outputs": [],
   "source": [
    "d[0][2] = 4"
   ]
  },
  {
   "cell_type": "code",
   "execution_count": 37,
   "id": "under-walter",
   "metadata": {},
   "outputs": [
    {
     "data": {
      "text/plain": [
       "[[1, 2, 4],\n",
       " [8,\n",
       "  9,\n",
       "  [12, 14, 19],\n",
       "  'lavish',\n",
       "  'manjunath',\n",
       "  'geetanjali',\n",
       "  'shivam',\n",
       "  ['tom', 'david', [20, 70, 'shiva']]]]"
      ]
     },
     "execution_count": 37,
     "metadata": {},
     "output_type": "execute_result"
    }
   ],
   "source": [
    "d"
   ]
  },
  {
   "cell_type": "code",
   "execution_count": 38,
   "id": "swedish-advocacy",
   "metadata": {},
   "outputs": [],
   "source": [
    "lst5 = [[1, 2, 3],\n",
    "[5,\n",
    "9,\n",
    "[12, 14, 19],\n",
    "'lavish',\n",
    "'manjunath',\n",
    "'geetanjali',\n",
    "'shivam',\n",
    "['tom', 'david', [20, 70, 'shiva']]]]"
   ]
  },
  {
   "cell_type": "code",
   "execution_count": 39,
   "id": "accompanied-functionality",
   "metadata": {},
   "outputs": [
    {
     "data": {
      "text/plain": [
       "[1, 2, 3]"
      ]
     },
     "execution_count": 39,
     "metadata": {},
     "output_type": "execute_result"
    }
   ],
   "source": [
    "lst5[0]"
   ]
  },
  {
   "cell_type": "code",
   "execution_count": 40,
   "id": "flexible-hormone",
   "metadata": {},
   "outputs": [
    {
     "data": {
      "text/plain": [
       "[5,\n",
       " 9,\n",
       " [12, 14, 19],\n",
       " 'lavish',\n",
       " 'manjunath',\n",
       " 'geetanjali',\n",
       " 'shivam',\n",
       " ['tom', 'david', [20, 70, 'shiva']]]"
      ]
     },
     "execution_count": 40,
     "metadata": {},
     "output_type": "execute_result"
    }
   ],
   "source": [
    "lst5[1]"
   ]
  },
  {
   "cell_type": "code",
   "execution_count": 41,
   "id": "extensive-thanks",
   "metadata": {},
   "outputs": [],
   "source": [
    "lst5[1][0] = 5"
   ]
  },
  {
   "cell_type": "code",
   "execution_count": 42,
   "id": "ethical-postage",
   "metadata": {},
   "outputs": [
    {
     "data": {
      "text/plain": [
       "[[1, 2, 3],\n",
       " [5,\n",
       "  9,\n",
       "  [12, 14, 19],\n",
       "  'lavish',\n",
       "  'manjunath',\n",
       "  'geetanjali',\n",
       "  'shivam',\n",
       "  ['tom', 'david', [20, 70, 'shiva']]]]"
      ]
     },
     "execution_count": 42,
     "metadata": {},
     "output_type": "execute_result"
    }
   ],
   "source": [
    "lst5"
   ]
  },
  {
   "cell_type": "code",
   "execution_count": 43,
   "id": "technological-shannon",
   "metadata": {},
   "outputs": [],
   "source": [
    "lst5[1][2][1] = 17"
   ]
  },
  {
   "cell_type": "code",
   "execution_count": 44,
   "id": "banned-planning",
   "metadata": {},
   "outputs": [
    {
     "data": {
      "text/plain": [
       "[[1, 2, 3],\n",
       " [5,\n",
       "  9,\n",
       "  [12, 17, 19],\n",
       "  'lavish',\n",
       "  'manjunath',\n",
       "  'geetanjali',\n",
       "  'shivam',\n",
       "  ['tom', 'david', [20, 70, 'shiva']]]]"
      ]
     },
     "execution_count": 44,
     "metadata": {},
     "output_type": "execute_result"
    }
   ],
   "source": [
    "lst5"
   ]
  },
  {
   "cell_type": "code",
   "execution_count": 45,
   "id": "indoor-start",
   "metadata": {},
   "outputs": [],
   "source": [
    "lst5[1][3] = \"LAVISH\""
   ]
  },
  {
   "cell_type": "code",
   "execution_count": 46,
   "id": "korean-bloom",
   "metadata": {},
   "outputs": [
    {
     "data": {
      "text/plain": [
       "[[1, 2, 3],\n",
       " [5,\n",
       "  9,\n",
       "  [12, 17, 19],\n",
       "  'LAVISH',\n",
       "  'manjunath',\n",
       "  'geetanjali',\n",
       "  'shivam',\n",
       "  ['tom', 'david', [20, 70, 'shiva']]]]"
      ]
     },
     "execution_count": 46,
     "metadata": {},
     "output_type": "execute_result"
    }
   ],
   "source": [
    "lst5"
   ]
  },
  {
   "cell_type": "code",
   "execution_count": 47,
   "id": "automated-signature",
   "metadata": {},
   "outputs": [],
   "source": [
    "lst5[1][7][2][0] = 15"
   ]
  },
  {
   "cell_type": "code",
   "execution_count": 48,
   "id": "otherwise-leader",
   "metadata": {},
   "outputs": [
    {
     "data": {
      "text/plain": [
       "[[1, 2, 3],\n",
       " [5,\n",
       "  9,\n",
       "  [12, 17, 19],\n",
       "  'LAVISH',\n",
       "  'manjunath',\n",
       "  'geetanjali',\n",
       "  'shivam',\n",
       "  ['tom', 'david', [15, 70, 'shiva']]]]"
      ]
     },
     "execution_count": 48,
     "metadata": {},
     "output_type": "execute_result"
    }
   ],
   "source": [
    "lst5"
   ]
  },
  {
   "cell_type": "code",
   "execution_count": 49,
   "id": "invalid-berlin",
   "metadata": {},
   "outputs": [],
   "source": [
    "lst5[-1][-2] = \"visham\""
   ]
  },
  {
   "cell_type": "code",
   "execution_count": 50,
   "id": "smaller-religion",
   "metadata": {},
   "outputs": [
    {
     "data": {
      "text/plain": [
       "[[1, 2, 3],\n",
       " [5,\n",
       "  9,\n",
       "  [12, 17, 19],\n",
       "  'LAVISH',\n",
       "  'manjunath',\n",
       "  'geetanjali',\n",
       "  'visham',\n",
       "  ['tom', 'david', [15, 70, 'shiva']]]]"
      ]
     },
     "execution_count": 50,
     "metadata": {},
     "output_type": "execute_result"
    }
   ],
   "source": [
    "lst5"
   ]
  },
  {
   "cell_type": "code",
   "execution_count": 51,
   "id": "normal-coordinate",
   "metadata": {},
   "outputs": [
    {
     "data": {
      "text/plain": [
       "'mahsiv'"
      ]
     },
     "execution_count": 51,
     "metadata": {},
     "output_type": "execute_result"
    }
   ],
   "source": [
    "lst5[-1][-2][::-1]"
   ]
  },
  {
   "cell_type": "code",
   "execution_count": 54,
   "id": "saved-tucson",
   "metadata": {},
   "outputs": [
    {
     "data": {
      "text/plain": [
       "'HSIVAL'"
      ]
     },
     "execution_count": 54,
     "metadata": {},
     "output_type": "execute_result"
    }
   ],
   "source": [
    "lst5[-1][-5][::-1]"
   ]
  },
  {
   "cell_type": "code",
   "execution_count": 55,
   "id": "operational-duration",
   "metadata": {},
   "outputs": [],
   "source": [
    "lst5[-2][0]= 16"
   ]
  },
  {
   "cell_type": "code",
   "execution_count": 56,
   "id": "disturbed-inside",
   "metadata": {},
   "outputs": [
    {
     "data": {
      "text/plain": [
       "[[16, 2, 3],\n",
       " [5,\n",
       "  9,\n",
       "  [12, 17, 19],\n",
       "  'LAVISH',\n",
       "  'manjunath',\n",
       "  'geetanjali',\n",
       "  'visham',\n",
       "  ['tom', 'david', [15, 70, 'shiva']]]]"
      ]
     },
     "execution_count": 56,
     "metadata": {},
     "output_type": "execute_result"
    }
   ],
   "source": [
    "lst5"
   ]
  },
  {
   "cell_type": "code",
   "execution_count": 57,
   "id": "confused-drinking",
   "metadata": {},
   "outputs": [
    {
     "data": {
      "text/plain": [
       "'ilajnateeg'"
      ]
     },
     "execution_count": 57,
     "metadata": {},
     "output_type": "execute_result"
    }
   ],
   "source": [
    "lst5[-1][-3][::-1]"
   ]
  },
  {
   "cell_type": "code",
   "execution_count": 58,
   "id": "returning-enterprise",
   "metadata": {},
   "outputs": [
    {
     "data": {
      "text/plain": [
       "'divad'"
      ]
     },
     "execution_count": 58,
     "metadata": {},
     "output_type": "execute_result"
    }
   ],
   "source": [
    "lst5[-1][-1][-2][::-1]"
   ]
  },
  {
   "cell_type": "code",
   "execution_count": 59,
   "id": "informed-dealer",
   "metadata": {},
   "outputs": [],
   "source": [
    "lst5[1][2][2]= 22"
   ]
  },
  {
   "cell_type": "code",
   "execution_count": 60,
   "id": "offshore-origin",
   "metadata": {},
   "outputs": [
    {
     "data": {
      "text/plain": [
       "[[16, 2, 3],\n",
       " [5,\n",
       "  9,\n",
       "  [12, 17, 22],\n",
       "  'LAVISH',\n",
       "  'manjunath',\n",
       "  'geetanjali',\n",
       "  'visham',\n",
       "  ['tom', 'david', [15, 70, 'shiva']]]]"
      ]
     },
     "execution_count": 60,
     "metadata": {},
     "output_type": "execute_result"
    }
   ],
   "source": [
    "lst5"
   ]
  },
  {
   "cell_type": "code",
   "execution_count": 61,
   "id": "tender-sussex",
   "metadata": {},
   "outputs": [
    {
     "data": {
      "text/plain": [
       "'htanujnam'"
      ]
     },
     "execution_count": 61,
     "metadata": {},
     "output_type": "execute_result"
    }
   ],
   "source": [
    "lst5[1][4][::-1]"
   ]
  },
  {
   "cell_type": "code",
   "execution_count": 62,
   "id": "entire-reproduction",
   "metadata": {},
   "outputs": [
    {
     "data": {
      "text/plain": [
       "'mot'"
      ]
     },
     "execution_count": 62,
     "metadata": {},
     "output_type": "execute_result"
    }
   ],
   "source": [
    "lst5[1][7][0][::-1]"
   ]
  },
  {
   "cell_type": "markdown",
   "id": "million-rough",
   "metadata": {},
   "source": [
    "numpy array difference lists"
   ]
  },
  {
   "cell_type": "code",
   "execution_count": 63,
   "id": "minus-oliver",
   "metadata": {},
   "outputs": [
    {
     "data": {
      "text/plain": [
       "array(['12', 'lavish', '22.25', '15', '715', '75000'], dtype='<U21')"
      ]
     },
     "execution_count": 63,
     "metadata": {},
     "output_type": "execute_result"
    }
   ],
   "source": [
    "import numpy\n",
    "a = [12, \"lavish\", 22.25, 15, 715, 75000]\n",
    "numpy.array(a)"
   ]
  },
  {
   "cell_type": "code",
   "execution_count": 64,
   "id": "seven-reggae",
   "metadata": {},
   "outputs": [
    {
     "data": {
      "text/plain": [
       "[12, 'lavish', 22.25, 15, 715, 75000]"
      ]
     },
     "execution_count": 64,
     "metadata": {},
     "output_type": "execute_result"
    }
   ],
   "source": [
    "a = [12, \"lavish\", 22.25, 15, 715, 75000]\n",
    "list(a)"
   ]
  },
  {
   "cell_type": "code",
   "execution_count": 65,
   "id": "sunset-shark",
   "metadata": {},
   "outputs": [
    {
     "name": "stdout",
     "output_type": "stream",
     "text": [
      "[12, 'lavish', 22.25, 15, 715, 75000] <class 'list'>\n",
      "['12' 'lavish' '22.25' '15' '715' '75000'] <class 'numpy.ndarray'>\n"
     ]
    }
   ],
   "source": [
    "# in numpy.array there ('') and in lists is (,)\n",
    "a = [12, \"lavish\", 22.25, 15, 715, 75000]\n",
    "print(a , type(a))\n",
    "b = numpy.array(a)\n",
    "print(b , type(b))"
   ]
  },
  {
   "cell_type": "markdown",
   "id": "gentle-emission",
   "metadata": {},
   "source": [
    "lists methods"
   ]
  },
  {
   "cell_type": "code",
   "execution_count": 68,
   "id": "imported-maple",
   "metadata": {},
   "outputs": [
    {
     "name": "stdout",
     "output_type": "stream",
     "text": [
      "['__add__', '__class__', '__contains__', '__delattr__', '__delitem__', '__dir__', '__doc__', '__eq__', '__format__', '__ge__', '__getattribute__', '__getitem__', '__gt__', '__hash__', '__iadd__', '__imul__', '__init__', '__init_subclass__', '__iter__', '__le__', '__len__', '__lt__', '__mul__', '__ne__', '__new__', '__reduce__', '__reduce_ex__', '__repr__', '__reversed__', '__rmul__', '__setattr__', '__setitem__', '__sizeof__', '__str__', '__subclasshook__', 'append', 'clear', 'copy', 'count', 'extend', 'index', 'insert', 'pop', 'remove', 'reverse', 'sort']\n"
     ]
    }
   ],
   "source": [
    "print(dir(list))"
   ]
  },
  {
   "cell_type": "code",
   "execution_count": 69,
   "id": "unable-opposition",
   "metadata": {},
   "outputs": [
    {
     "name": "stdout",
     "output_type": "stream",
     "text": [
      "None\n"
     ]
    }
   ],
   "source": [
    "# append -----> it add a element to the list of the last position. you can appe\n",
    "lst = [21, 23, \"lavish\", 89, 78]\n",
    "print(lst.append(\"hello\"))"
   ]
  },
  {
   "cell_type": "code",
   "execution_count": 70,
   "id": "pacific-examination",
   "metadata": {},
   "outputs": [
    {
     "name": "stdout",
     "output_type": "stream",
     "text": [
      "[21, 23, 'lavish', 89, 78, 'hello']\n"
     ]
    }
   ],
   "source": [
    "print(lst)"
   ]
  },
  {
   "cell_type": "code",
   "execution_count": 71,
   "id": "martial-athens",
   "metadata": {},
   "outputs": [
    {
     "name": "stdout",
     "output_type": "stream",
     "text": [
      "before [21, 23, 'lavish', 89, 78]\n"
     ]
    }
   ],
   "source": [
    "lst = [21, 23, \"lavish\", 89, 78]\n",
    "print(\"before\",lst)"
   ]
  },
  {
   "cell_type": "code",
   "execution_count": 72,
   "id": "authorized-finnish",
   "metadata": {},
   "outputs": [
    {
     "data": {
      "text/plain": [
       "[21, 23, 'lavish', 89, 78, 22, 24, 25, 27, 'gangwani']"
      ]
     },
     "execution_count": 72,
     "metadata": {},
     "output_type": "execute_result"
    }
   ],
   "source": [
    "# extend ------> SAME AS CONCATINATION (+) HAPPENS\n",
    "lst = [21, 23, \"lavish\", 89, 78]\n",
    "lst1 = [22, 24, 25, 27, \"gangwani\"]\n",
    "lst + lst1"
   ]
  },
  {
   "cell_type": "code",
   "execution_count": 73,
   "id": "lucky-notion",
   "metadata": {},
   "outputs": [],
   "source": [
    "lst.extend(lst1)"
   ]
  },
  {
   "cell_type": "code",
   "execution_count": 74,
   "id": "stylish-mechanism",
   "metadata": {},
   "outputs": [
    {
     "data": {
      "text/plain": [
       "[21, 23, 'lavish', 89, 78, 22, 24, 25, 27, 'gangwani']"
      ]
     },
     "execution_count": 74,
     "metadata": {},
     "output_type": "execute_result"
    }
   ],
   "source": [
    "lst"
   ]
  },
  {
   "cell_type": "code",
   "execution_count": 75,
   "id": "improving-annual",
   "metadata": {},
   "outputs": [],
   "source": [
    "# differnce between append and extend \n",
    "# extend adds \"hello\" as an SEPRATES element"
   ]
  },
  {
   "cell_type": "code",
   "execution_count": 76,
   "id": "increasing-thunder",
   "metadata": {},
   "outputs": [],
   "source": [
    "lst.extend(\"hello\")"
   ]
  },
  {
   "cell_type": "code",
   "execution_count": 77,
   "id": "chronic-smoke",
   "metadata": {},
   "outputs": [
    {
     "data": {
      "text/plain": [
       "[21, 23, 'lavish', 89, 78, 22, 24, 25, 27, 'gangwani', 'h', 'e', 'l', 'l', 'o']"
      ]
     },
     "execution_count": 77,
     "metadata": {},
     "output_type": "execute_result"
    }
   ],
   "source": [
    "lst"
   ]
  },
  {
   "cell_type": "code",
   "execution_count": 78,
   "id": "burning-geometry",
   "metadata": {},
   "outputs": [],
   "source": [
    "# differnce between append and extend \n",
    "# append adds \"hello\" as an one element\n",
    "lst.append(\"hello\")"
   ]
  },
  {
   "cell_type": "code",
   "execution_count": 79,
   "id": "intermediate-matthew",
   "metadata": {},
   "outputs": [
    {
     "data": {
      "text/plain": [
       "[21,\n",
       " 23,\n",
       " 'lavish',\n",
       " 89,\n",
       " 78,\n",
       " 22,\n",
       " 24,\n",
       " 25,\n",
       " 27,\n",
       " 'gangwani',\n",
       " 'h',\n",
       " 'e',\n",
       " 'l',\n",
       " 'l',\n",
       " 'o',\n",
       " 'hello']"
      ]
     },
     "execution_count": 79,
     "metadata": {},
     "output_type": "execute_result"
    }
   ],
   "source": [
    "lst"
   ]
  },
  {
   "cell_type": "code",
   "execution_count": 80,
   "id": "cooked-freight",
   "metadata": {},
   "outputs": [
    {
     "name": "stdout",
     "output_type": "stream",
     "text": [
      "[21, 23, 'lavish', 'demon', 89, 78, 22, 24, 25, 27]\n"
     ]
    }
   ],
   "source": [
    "# INSERT ------> IF WE WANT TO ADD AN ELEMENT AT THE REQUIRED INDEX<-----ONLY O\n",
    "i1 = [21,23,'lavish',89,78,22,24,25,27]\n",
    "i1.insert(3, \"demon\")\n",
    "print(i1)"
   ]
  },
  {
   "cell_type": "code",
   "execution_count": 81,
   "id": "interested-pioneer",
   "metadata": {},
   "outputs": [],
   "source": [
    "i1.insert(2, [300, 500])"
   ]
  },
  {
   "cell_type": "code",
   "execution_count": 82,
   "id": "experimental-gateway",
   "metadata": {},
   "outputs": [
    {
     "data": {
      "text/plain": [
       "[21, 23, [300, 500], 'lavish', 'demon', 89, 78, 22, 24, 25, 27]"
      ]
     },
     "execution_count": 82,
     "metadata": {},
     "output_type": "execute_result"
    }
   ],
   "source": [
    "i1"
   ]
  },
  {
   "cell_type": "code",
   "execution_count": 83,
   "id": "floppy-montana",
   "metadata": {},
   "outputs": [],
   "source": [
    "a = [12, 24, 36, 48, 60]"
   ]
  },
  {
   "cell_type": "code",
   "execution_count": 84,
   "id": "indie-university",
   "metadata": {},
   "outputs": [],
   "source": [
    "a.insert(-1, [55, 65, 67])"
   ]
  },
  {
   "cell_type": "code",
   "execution_count": 85,
   "id": "entitled-intersection",
   "metadata": {},
   "outputs": [
    {
     "data": {
      "text/plain": [
       "[12, 24, 36, 48, [55, 65, 67], 60]"
      ]
     },
     "execution_count": 85,
     "metadata": {},
     "output_type": "execute_result"
    }
   ],
   "source": [
    "a"
   ]
  },
  {
   "cell_type": "code",
   "execution_count": 86,
   "id": "sixth-accounting",
   "metadata": {},
   "outputs": [],
   "source": [
    "a.insert(0,[55, 65, 67])"
   ]
  },
  {
   "cell_type": "code",
   "execution_count": 87,
   "id": "handy-approval",
   "metadata": {},
   "outputs": [
    {
     "data": {
      "text/plain": [
       "[[55, 65, 67], 12, 24, 36, 48, [55, 65, 67], 60]"
      ]
     },
     "execution_count": 87,
     "metadata": {},
     "output_type": "execute_result"
    }
   ],
   "source": [
    "a"
   ]
  },
  {
   "cell_type": "code",
   "execution_count": 88,
   "id": "impressed-tuner",
   "metadata": {},
   "outputs": [
    {
     "data": {
      "text/plain": [
       "3"
      ]
     },
     "execution_count": 88,
     "metadata": {},
     "output_type": "execute_result"
    }
   ],
   "source": [
    "# index-----> it'll give index no of the element\n",
    "b = [100, 200, 300, 400, 500 ,600]\n",
    "b.index(400)"
   ]
  },
  {
   "cell_type": "code",
   "execution_count": 89,
   "id": "unexpected-prison",
   "metadata": {},
   "outputs": [
    {
     "data": {
      "text/plain": [
       "0"
      ]
     },
     "execution_count": 89,
     "metadata": {},
     "output_type": "execute_result"
    }
   ],
   "source": [
    "b.index(100)"
   ]
  },
  {
   "cell_type": "code",
   "execution_count": 90,
   "id": "wrapped-liberal",
   "metadata": {},
   "outputs": [
    {
     "data": {
      "text/plain": [
       "1"
      ]
     },
     "execution_count": 90,
     "metadata": {},
     "output_type": "execute_result"
    }
   ],
   "source": [
    "# count -----> it will give the count of elements\n",
    "c = [100,22,22,22,22, 22, 34, 45, 56, 67, 78]\n",
    "c.count(100)"
   ]
  },
  {
   "cell_type": "code",
   "execution_count": 91,
   "id": "advanced-agency",
   "metadata": {},
   "outputs": [
    {
     "data": {
      "text/plain": [
       "5"
      ]
     },
     "execution_count": 91,
     "metadata": {},
     "output_type": "execute_result"
    }
   ],
   "source": [
    "c.count(22)"
   ]
  },
  {
   "cell_type": "code",
   "execution_count": 92,
   "id": "valid-perception",
   "metadata": {},
   "outputs": [
    {
     "name": "stdout",
     "output_type": "stream",
     "text": [
      "[500, 400, 300, 200, 100]\n"
     ]
    }
   ],
   "source": [
    "# reverse ---> it'll reverse the lists\n",
    "d = [100, 200, 300, 400, 500]\n",
    "d.reverse()\n",
    "print(d)"
   ]
  },
  {
   "cell_type": "code",
   "execution_count": 93,
   "id": "revolutionary-possible",
   "metadata": {},
   "outputs": [],
   "source": [
    "# sort-----> it will sort the value. and it'll only take homogenous data\n",
    "# a = [20, 10, 50, 30, 40]-------> HOMOGENOUS\n",
    "# b = [\"lavish\", 22, 19, 15, 21]-------> HETEROGENOUS"
   ]
  },
  {
   "cell_type": "code",
   "execution_count": 94,
   "id": "graduate-auction",
   "metadata": {},
   "outputs": [],
   "source": [
    "a = [20, 10, 50, 30, 40]\n",
    "b = [\"lavish\", 22, 19, 15, 21]"
   ]
  },
  {
   "cell_type": "code",
   "execution_count": 95,
   "id": "tamil-recorder",
   "metadata": {},
   "outputs": [
    {
     "name": "stdout",
     "output_type": "stream",
     "text": [
      "[10, 20, 30, 40, 50]\n"
     ]
    }
   ],
   "source": [
    "a.sort()\n",
    "print(a)"
   ]
  },
  {
   "cell_type": "code",
   "execution_count": 96,
   "id": "visible-conducting",
   "metadata": {},
   "outputs": [
    {
     "ename": "TypeError",
     "evalue": "'<' not supported between instances of 'int' and 'str'",
     "output_type": "error",
     "traceback": [
      "\u001b[0;31m---------------------------------------------------------------------------\u001b[0m",
      "\u001b[0;31mTypeError\u001b[0m                                 Traceback (most recent call last)",
      "\u001b[0;32m<ipython-input-96-47d40321b967>\u001b[0m in \u001b[0;36m<module>\u001b[0;34m\u001b[0m\n\u001b[1;32m      1\u001b[0m \u001b[0;31m# as you can see the heterogenous doesn't take\u001b[0m\u001b[0;34m\u001b[0m\u001b[0;34m\u001b[0m\u001b[0;34m\u001b[0m\u001b[0m\n\u001b[0;32m----> 2\u001b[0;31m \u001b[0mb\u001b[0m\u001b[0;34m.\u001b[0m\u001b[0msort\u001b[0m\u001b[0;34m(\u001b[0m\u001b[0;34m)\u001b[0m\u001b[0;34m\u001b[0m\u001b[0;34m\u001b[0m\u001b[0m\n\u001b[0m\u001b[1;32m      3\u001b[0m \u001b[0mprint\u001b[0m\u001b[0;34m(\u001b[0m\u001b[0mb\u001b[0m\u001b[0;34m)\u001b[0m\u001b[0;34m\u001b[0m\u001b[0;34m\u001b[0m\u001b[0m\n",
      "\u001b[0;31mTypeError\u001b[0m: '<' not supported between instances of 'int' and 'str'"
     ]
    }
   ],
   "source": [
    "# as you can see the heterogenous doesn't take \n",
    "b.sort()\n",
    "print(b)"
   ]
  },
  {
   "cell_type": "code",
   "execution_count": 97,
   "id": "french-arthur",
   "metadata": {},
   "outputs": [
    {
     "name": "stdout",
     "output_type": "stream",
     "text": [
      "[10, 20, 30, 40, 50]\n"
     ]
    }
   ],
   "source": [
    "a.sort()\n",
    "print(a)"
   ]
  },
  {
   "cell_type": "code",
   "execution_count": 98,
   "id": "waiting-organizer",
   "metadata": {},
   "outputs": [
    {
     "name": "stdout",
     "output_type": "stream",
     "text": [
      "[50, 40, 30, 20, 10]\n"
     ]
    }
   ],
   "source": [
    "# in reverse order ----> press tab for reverse= in the brackets\n",
    "a.sort(reverse=True)\n",
    "print(a)"
   ]
  },
  {
   "cell_type": "raw",
   "id": "other-failing",
   "metadata": {},
   "source": [
    "for deleting the elements in the list\n",
    "\n",
    "pop\n",
    "remove"
   ]
  },
  {
   "cell_type": "code",
   "execution_count": 100,
   "id": "armed-layer",
   "metadata": {},
   "outputs": [
    {
     "name": "stdout",
     "output_type": "stream",
     "text": [
      "[1, 2, 3, 4]\n"
     ]
    }
   ],
   "source": [
    "# pop ------> by default it'll remove last elements by the index.\n",
    "s = [1, 2, 3, 4, 56]\n",
    "s.pop()\n",
    "print(s)"
   ]
  },
  {
   "cell_type": "code",
   "execution_count": 101,
   "id": "blind-holder",
   "metadata": {},
   "outputs": [
    {
     "name": "stdout",
     "output_type": "stream",
     "text": [
      "[2, 3, 4]\n"
     ]
    }
   ],
   "source": [
    "# as you can see it removes by index\n",
    "s.pop(0)\n",
    "print(s)"
   ]
  },
  {
   "cell_type": "code",
   "execution_count": 102,
   "id": "female-complex",
   "metadata": {},
   "outputs": [
    {
     "name": "stdout",
     "output_type": "stream",
     "text": [
      "[1, 3, 4, 56]\n"
     ]
    }
   ],
   "source": [
    "# REMOVE -----> IT'LL REMOVE ELEMENTS BY TAKING ELEMENTS\n",
    "s = [1, 2, 3, 4, 56]\n",
    "s.remove(2)\n",
    "print(s)"
   ]
  },
  {
   "cell_type": "code",
   "execution_count": 103,
   "id": "comparative-bloom",
   "metadata": {},
   "outputs": [
    {
     "name": "stdout",
     "output_type": "stream",
     "text": [
      "[1, 2, 3, 3, 3, 3, 4, 56]\n"
     ]
    }
   ],
   "source": [
    "# IN DUPLICATES REMOVE TAKES----->FIRST OCCURANCE\n",
    "s = [1, 2,3,3,3,3, 3, 4, 56]\n",
    "s.remove(3)\n",
    "print(s)"
   ]
  },
  {
   "cell_type": "code",
   "execution_count": 104,
   "id": "major-ukraine",
   "metadata": {},
   "outputs": [
    {
     "name": "stdout",
     "output_type": "stream",
     "text": [
      "[1, 2, 3, 3, 3, 4, 56]\n"
     ]
    }
   ],
   "source": [
    "s.remove(3)\n",
    "print(s)"
   ]
  },
  {
   "cell_type": "code",
   "execution_count": 105,
   "id": "threatened-developer",
   "metadata": {},
   "outputs": [
    {
     "name": "stdout",
     "output_type": "stream",
     "text": [
      "139876737002688\n",
      "139876737002688\n"
     ]
    }
   ],
   "source": [
    "# ALAISING\n",
    "a = [1,2,3,4,5]\n",
    "b = a\n",
    "print(id(a))\n",
    "print(id(b))"
   ]
  },
  {
   "cell_type": "code",
   "execution_count": 106,
   "id": "sized-boxing",
   "metadata": {},
   "outputs": [
    {
     "name": "stdout",
     "output_type": "stream",
     "text": [
      "139876737132480\n",
      "139877244675712\n"
     ]
    }
   ],
   "source": [
    "# WITHOUT ALAISING IDS ARE DIFFERENT BECAUSE OF LISTS MUTABILITY\n",
    "a = [1,2,3,4,5]\n",
    "b = [1,2,3,4,5]\n",
    "print(id(a))\n",
    "print(id(b))"
   ]
  },
  {
   "cell_type": "code",
   "execution_count": 107,
   "id": "regulated-carnival",
   "metadata": {},
   "outputs": [
    {
     "ename": "SyntaxError",
     "evalue": "invalid syntax (<ipython-input-107-c18e9268f35e>, line 1)",
     "output_type": "error",
     "traceback": [
      "\u001b[0;36m  File \u001b[0;32m\"<ipython-input-107-c18e9268f35e>\"\u001b[0;36m, line \u001b[0;32m1\u001b[0m\n\u001b[0;31m    normal method by alaising\u001b[0m\n\u001b[0m           ^\u001b[0m\n\u001b[0;31mSyntaxError\u001b[0m\u001b[0;31m:\u001b[0m invalid syntax\n"
     ]
    }
   ],
   "source": [
    "normal method by alaising"
   ]
  },
  {
   "cell_type": "code",
   "execution_count": 108,
   "id": "thorough-annex",
   "metadata": {},
   "outputs": [
    {
     "name": "stdout",
     "output_type": "stream",
     "text": [
      "[2200, 2, 3, 4, 5]\n",
      "[2200, 2, 3, 4, 5]\n",
      "139876737003200\n",
      "139876737003200\n"
     ]
    }
   ],
   "source": [
    "# normal method ----> WHERE WITHOUT COPY METHOD IT IS PRINTING 2200 IN BOTH A A\n",
    "a = [1,2,3,4,5]\n",
    "b = a\n",
    "b[0] = 2200\n",
    "print(a)\n",
    "print(b)\n",
    "print(id(a))\n",
    "print(id(b))"
   ]
  },
  {
   "cell_type": "code",
   "execution_count": 109,
   "id": "eastern-drove",
   "metadata": {},
   "outputs": [
    {
     "name": "stdout",
     "output_type": "stream",
     "text": [
      "[1, 2, 3, 4, 5, 6, 7, [100, 200]]\n",
      "[1, 2, 3, 4, 5, 6, 7, [100, 200]]\n",
      "change1 [1, 2, 3, 4, 5, 6, 7, [300, 400]]\n",
      "change1 [1, 2, 3, 4, 5, 6, 7, [300, 400]]\n",
      "change2a [1, 2, 3, 4, 5, 6, 7, [300, 1000]]\n",
      "change2a [1, 2, 3, 4, 5, 6, 7, [300, 1000]]\n"
     ]
    }
   ],
   "source": [
    "a = [1,2,3,4,5,6,7,[100,200]]\n",
    "b = a\n",
    "print(a)\n",
    "print(b)\n",
    "b[7]=[300,400]\n",
    "print(\"change1\",a)\n",
    "print(\"change1\",b)\n",
    "b[-1][-1] = 1000\n",
    "print(\"change2a\",a)\n",
    "print(\"change2a\",b)"
   ]
  },
  {
   "cell_type": "code",
   "execution_count": 110,
   "id": "floating-johnston",
   "metadata": {},
   "outputs": [
    {
     "name": "stdout",
     "output_type": "stream",
     "text": [
      "[10, 20, 40, 20, 50, 60, [100, 1200, 3400, 500]]\n",
      "[10, 20, 40, 20, 50, 60, [100, 1200, 3400, 500]]\n",
      "change1 [10, 20, 40, 20, 50, 60, ['lavish', 22, 10, 2002]]\n",
      "change1 [10, 20, 40, 20, 50, 60, ['lavish', 22, 10, 2002]]\n",
      "change2 [10, 20, 40, 20, 50, 60, ['hello', 120, 240, 360]]\n",
      "change2 [10, 20, 40, 20, 50, 60, ['hello', 120, 240, 360]]\n",
      "139876736681280\n",
      "139876736681280\n"
     ]
    }
   ],
   "source": [
    "s = [10, 20, 40, 20, 50, 60,[100,1200,3400,500]]\n",
    "m = s\n",
    "print(s)\n",
    "print(m)\n",
    "m[6]= [\"lavish\", 22,10,2002]\n",
    "print(\"change1\",s)\n",
    "print(\"change1\",m)\n",
    "m[-1] = [\"hello\",120,240,360]\n",
    "print(\"change2\",s)\n",
    "print(\"change2\",m)\n",
    "print(id(s))\n",
    "print(id(m))\n"
   ]
  },
  {
   "cell_type": "markdown",
   "id": "daily-check",
   "metadata": {},
   "source": [
    "shallow copy()"
   ]
  },
  {
   "cell_type": "code",
   "execution_count": 113,
   "id": "ceramic-welding",
   "metadata": {},
   "outputs": [
    {
     "name": "stdout",
     "output_type": "stream",
     "text": [
      "[1, 2, 3, 4, 5]\n",
      "[2200, 2, 3, 4, 5]\n",
      "139876737045248\n",
      "139876736756224\n"
     ]
    }
   ],
   "source": [
    "# SHALLOW COPY ------> in this you can see the value added is only in b because\n",
    "a = [1,2,3,4,5]\n",
    "b = a.copy()\n",
    "b[0] = 2200\n",
    "print(a)\n",
    "print(b)\n",
    "print(id(a))\n",
    "print(id(b))"
   ]
  },
  {
   "cell_type": "code",
   "execution_count": 114,
   "id": "practical-acceptance",
   "metadata": {},
   "outputs": [
    {
     "name": "stdout",
     "output_type": "stream",
     "text": [
      "[1, 2, 3, 4, 5, 6, 7, [100, 200]]\n",
      "[1, 2, 3, 4, 5, 6, 7, [100, 200]]\n",
      "change1 [1, 2, 3, 4, 5, 6, 7, [100, 200]]\n",
      "change1 [1, 2, 3, 4, 5, 6, 7, [300, 400]]\n",
      "change2a [1, 2, 3, 4, 5, 6, 7, [100, 200]]\n",
      "change2a [1, 2, 3, 4, 5, 6, 7, [300, 1000]]\n"
     ]
    }
   ],
   "source": [
    "a = [1,2,3,4,5,6,7,[100,200]]\n",
    "b = a.copy()\n",
    "print(a)\n",
    "print(b)\n",
    "b[7]=[300,400]\n",
    "print(\"change1\",a)\n",
    "print(\"change1\",b)\n",
    "b[-1][-1] = 1000\n",
    "print(\"change2a\",a)\n",
    "print(\"change2a\",b)"
   ]
  },
  {
   "cell_type": "code",
   "execution_count": 115,
   "id": "inner-graduate",
   "metadata": {},
   "outputs": [
    {
     "name": "stdout",
     "output_type": "stream",
     "text": [
      "[10, 20, 40, 20, 50, 60, [100, 1200, 3400, 500]]\n",
      "[10, 20, 40, 20, 50, 60, [100, 1200, 3400, 500]]\n",
      "change1 [10, 20, 40, 20, 50, 60, [100, 1200, 3400, 500]]\n",
      "change1 [10, 20, 40, 20, 50, 60, ['lavish', 22, 10, 2002]]\n",
      "change2 [10, 20, 40, 20, 50, 60, [100, 1200, 3400, 500]]\n",
      "change2 [10, 20, 40, 20, 50, 60, ['hello', 120, 240, 360]]\n"
     ]
    }
   ],
   "source": [
    "s = [10, 20, 40, 20, 50, 60,[100,1200,3400,500]]\n",
    "m = s.copy()\n",
    "print(s)\n",
    "print(m)\n",
    "m[6]= [\"lavish\", 22,10,2002]\n",
    "print(\"change1\",s)\n",
    "print(\"change1\",m)\n",
    "m[-1] = [\"hello\",120,240,360]\n",
    "print(\"change2\",s)\n",
    "print(\"change2\",m)"
   ]
  },
  {
   "cell_type": "markdown",
   "id": "mathematical-consciousness",
   "metadata": {},
   "source": [
    "Falling pain of shallow copy"
   ]
  },
  {
   "cell_type": "code",
   "execution_count": 116,
   "id": "cellular-writing",
   "metadata": {},
   "outputs": [
    {
     "name": "stdout",
     "output_type": "stream",
     "text": [
      "[1, 2, 3, 4, 56, 7, [89, 79, 99]]\n",
      "[1, 2, 3, 4, 56, 7, [89, 79, 99]]\n",
      "before change [1, 2, 3, 4, 56, 7, [89, 79, 2200]]\n",
      "before change [1, 2, 3, 4, 56, 7, [89, 79, 2200]]\n",
      "139876736727360\n",
      "139876736725760\n"
     ]
    }
   ],
   "source": [
    "# DOESN'T WORK IN NESTED LIST THAT'S WHY WE USE DEEPCOPY\n",
    "# IT PRINTS VALUE BOTH A AND B ------> WITHOUT ALAISING (ID'S ARE DIFFERENT)\n",
    "a = [1,2,3,4,56,7,[89,79,99]]\n",
    "b = a.copy()\n",
    "print(a)\n",
    "print(b)\n",
    "b[-1][-1] = 2200\n",
    "print(\"before change\",a)\n",
    "print(\"before change\",b)\n",
    "print(id(a))\n",
    "print(id(b))"
   ]
  },
  {
   "cell_type": "code",
   "execution_count": 117,
   "id": "japanese-miller",
   "metadata": {},
   "outputs": [
    {
     "name": "stdout",
     "output_type": "stream",
     "text": [
      "[1, 2, 3, 4, 56, 7, [89, 79, 99]]\n",
      "[1, 2, 3, 4, 56, 7, [89, 79, 99]]\n",
      "before change [1, 2, 3, 4, 56, 7, [2200, 79, 99]]\n",
      "before change [1, 2, 3, 4, 56, 7, [2200, 79, 99]]\n",
      "139876736728960\n",
      "139876736727936\n"
     ]
    }
   ],
   "source": [
    "# DOESN'T WORK IN NESTED LIST THAT'S WHY WE USE DEEPCOPY\n",
    "# IT PRINTS VALUE BOTH A AND B ------> WITHOUT ALAISING (ID'S ARE DIFFERENT)\n",
    "a = [1,2,3,4,56,7,[89,79,99]]\n",
    "b = a.copy()\n",
    "print(a)\n",
    "print(b)\n",
    "b[6][0] = 2200\n",
    "print(\"before change\",a)\n",
    "print(\"before change\",b)\n",
    "print(id(a))\n",
    "print(id(b))"
   ]
  },
  {
   "cell_type": "markdown",
   "id": "settled-ceiling",
   "metadata": {},
   "source": [
    "DEEPCOPY-----> MAINLY USE FOR NESTED LISTS"
   ]
  },
  {
   "cell_type": "code",
   "execution_count": 119,
   "id": "nuclear-jaguar",
   "metadata": {},
   "outputs": [
    {
     "name": "stdout",
     "output_type": "stream",
     "text": [
      "[1, 2, 3, 4, 56, 7, [89, 79, 99]]\n",
      "[1, 2, 3, 4, 56, 7, [89, 79, 99]]\n",
      "before change [1, 2, 3, 4, 56, 7, [89, 79, 99]]\n",
      "before change [1, 2, 3, 4, 56, 7, [89, 79, 2200]]\n",
      "139876736728704\n",
      "139876736730432\n"
     ]
    }
   ],
   "source": [
    "from copy import deepcopy\n",
    "a = [1,2,3,4,56,7,[89,79,99]]\n",
    "b = deepcopy(a)\n",
    "print(a)\n",
    "print(b)\n",
    "b[-1][-1] = 2200\n",
    "print(\"before change\",a)\n",
    "print(\"before change\",b)\n",
    "print(id(a))\n",
    "print(id(b))"
   ]
  },
  {
   "cell_type": "code",
   "execution_count": 120,
   "id": "ignored-hometown",
   "metadata": {},
   "outputs": [
    {
     "name": "stdout",
     "output_type": "stream",
     "text": [
      "[1, 2, 3, 4, 56, 7, [89, 79, 99]]\n",
      "[1, 2, 3, 4, 56, 7, [89, 79, 99]]\n",
      "before change [1, 2, 3, 4, 56, 7, [89, 79, 99]]\n",
      "before change [1, 2, 3, 4, 56, 7, [2200, 79, 99]]\n",
      "139876737200192\n",
      "139877222766400\n"
     ]
    }
   ],
   "source": [
    "a = [1,2,3,4,56,7,[89,79,99]]\n",
    "b = deepcopy(a)\n",
    "print(a)\n",
    "print(b)\n",
    "b[6][0] = 2200\n",
    "print(\"before change\",a)\n",
    "print(\"before change\",b)\n",
    "print(id(a))\n",
    "print(id(b))"
   ]
  },
  {
   "cell_type": "raw",
   "id": "iraqi-funds",
   "metadata": {},
   "source": [
    "POINTS TO REMEMBER:\n",
    "By alaising ids are same and to change value in list it happen in both var.\n",
    "By Copy method ids are diffrent and to change value in list it happens in only one var. but\n",
    "there is loopholes in it you cannot do copy method in nested list because of it prints in both\n",
    "var. thats where we use deepcopy because of nested list.\n",
    "for deepcopy we use:\n",
    "from copy import deepcopy"
   ]
  },
  {
   "cell_type": "markdown",
   "id": "located-raise",
   "metadata": {},
   "source": [
    "LISTS COMPREHENSION:"
   ]
  },
  {
   "cell_type": "markdown",
   "id": "saved-aquarium",
   "metadata": {},
   "source": [
    "Shortest way to write a for loop in format list"
   ]
  },
  {
   "cell_type": "raw",
   "id": "offshore-connectivity",
   "metadata": {},
   "source": [
    "FOR LOOP: IT IS USED TO PERFROM ITERATIONS ON A ITERABLE\n",
    "ITERATION MEANS : performing same operation multiple times"
   ]
  },
  {
   "cell_type": "raw",
   "id": "composite-adelaide",
   "metadata": {},
   "source": [
    "SYNTAX:\n",
    "for (anything) in iterable:\n",
    "print(statement1)\n",
    "print(statement2)\n",
    "print(statement3)\n",
    "print(statement4)\n",
    "print(statement5)\n",
    "var : placeholder\n",
    "iterable : - if dir(obj) should contains ----> (iter) - length (len) should be applicable\n",
    "iterables : lists,string,tuples,dictionary,sets\n",
    "not iterables : bool,complex,float,int,none"
   ]
  },
  {
   "cell_type": "code",
   "execution_count": 122,
   "id": "sufficient-shelter",
   "metadata": {},
   "outputs": [
    {
     "name": "stdout",
     "output_type": "stream",
     "text": [
      "10\n",
      "20\n",
      "30\n",
      "40\n",
      "50\n"
     ]
    }
   ],
   "source": [
    "a = [10,20,30,40,50]\n",
    "for l in a:\n",
    " print(l)"
   ]
  },
  {
   "cell_type": "code",
   "execution_count": 123,
   "id": "dated-shade",
   "metadata": {},
   "outputs": [
    {
     "name": "stdout",
     "output_type": "stream",
     "text": [
      "10 20 30 40 50 "
     ]
    }
   ],
   "source": [
    "a = [10,20,30,40,50]\n",
    "for l in a:\n",
    " print(l, end=\" \")"
   ]
  },
  {
   "cell_type": "code",
   "execution_count": 124,
   "id": "associate-format",
   "metadata": {},
   "outputs": [
    {
     "name": "stdout",
     "output_type": "stream",
     "text": [
      "10 20 30 40 50 "
     ]
    }
   ],
   "source": [
    "a = [10,20,30,40,50]\n",
    "for l in a:\n",
    " print(l, sep=\"^\", end=\" \")"
   ]
  },
  {
   "cell_type": "code",
   "execution_count": 125,
   "id": "threaded-witch",
   "metadata": {},
   "outputs": [
    {
     "name": "stdout",
     "output_type": "stream",
     "text": [
      "2\n",
      "4\n",
      "6\n",
      "8\n",
      "10\n",
      "12\n",
      "14\n",
      "16\n",
      "18\n",
      "20\n"
     ]
    }
   ],
   "source": [
    "# normal method\n",
    "for e in [1,2,3,4,5,6,7,8,9,10]:\n",
    " print(2*e)"
   ]
  },
  {
   "cell_type": "code",
   "execution_count": 126,
   "id": "celtic-performance",
   "metadata": {},
   "outputs": [
    {
     "name": "stdout",
     "output_type": "stream",
     "text": [
      "2 * 1 = 2\n",
      "2 * 2 = 4\n",
      "2 * 3 = 6\n",
      "2 * 4 = 8\n",
      "2 * 5 = 10\n",
      "2 * 6 = 12\n",
      "2 * 7 = 14\n",
      "2 * 8 = 16\n",
      "2 * 9 = 18\n",
      "2 * 10 = 20\n"
     ]
    }
   ],
   "source": [
    "# in format string method\n",
    "r = [1,2,3,4,5,6,7,8,9,10]\n",
    "for e in r:\n",
    " print(f\"2 * {e} = {2*e}\")"
   ]
  },
  {
   "cell_type": "code",
   "execution_count": 127,
   "id": "functional-designer",
   "metadata": {},
   "outputs": [
    {
     "name": "stdout",
     "output_type": "stream",
     "text": [
      "2 * 1 = 2\n",
      "2 * 2 = 4\n",
      "2 * 3 = 6\n",
      "2 * 4 = 8\n",
      "2 * 5 = 10\n",
      "2 * 6 = 12\n",
      "2 * 7 = 14\n",
      "2 * 8 = 16\n",
      "2 * 9 = 18\n",
      "2 * 10 = 20\n"
     ]
    }
   ],
   "source": [
    "# in format string method\n",
    "for e in range(1,11):\n",
    " b = 2*e\n",
    " print(f\"2 * {e} = {b}\")"
   ]
  },
  {
   "cell_type": "code",
   "execution_count": 128,
   "id": "aboriginal-cemetery",
   "metadata": {},
   "outputs": [
    {
     "name": "stdout",
     "output_type": "stream",
     "text": [
      "51\n",
      "52\n",
      "53\n",
      "54\n",
      "55\n",
      "56\n",
      "57\n",
      "58\n",
      "59\n",
      "60\n"
     ]
    }
   ],
   "source": [
    "# in normal method\n",
    "v = [1,2,3,4,5,6,7,8,9,10]\n",
    "for d in v:\n",
    " q = 50+d\n",
    " print(q)"
   ]
  },
  {
   "cell_type": "code",
   "execution_count": 129,
   "id": "collected-hearts",
   "metadata": {},
   "outputs": [
    {
     "name": "stdout",
     "output_type": "stream",
     "text": [
      "50 * 1 = 50\n",
      "50 * 2 = 100\n",
      "50 * 3 = 150\n",
      "50 * 4 = 200\n",
      "50 * 5 = 250\n",
      "50 * 6 = 300\n",
      "50 * 7 = 350\n",
      "50 * 8 = 400\n",
      "50 * 9 = 450\n",
      "50 * 10 = 500\n"
     ]
    }
   ],
   "source": [
    "# in format string method\n",
    "for d in range(1,11):\n",
    " print(f\"50 * {d} = {50*d}\")"
   ]
  },
  {
   "cell_type": "code",
   "execution_count": 130,
   "id": "adolescent-physics",
   "metadata": {},
   "outputs": [
    {
     "name": "stdout",
     "output_type": "stream",
     "text": [
      "100\n",
      "200\n",
      "300\n",
      "400\n",
      "500\n",
      "600\n",
      "700\n",
      "800\n",
      "900\n",
      "1000\n"
     ]
    }
   ],
   "source": [
    "lst = [1,2,3,4,5,6,7,8,9,10]\n",
    "for w in lst:\n",
    " a = 100*w\n",
    " print(a)"
   ]
  },
  {
   "cell_type": "code",
   "execution_count": 139,
   "id": "narrative-style",
   "metadata": {},
   "outputs": [
    {
     "name": "stdout",
     "output_type": "stream",
     "text": [
      "2\n",
      "4\n",
      "6\n",
      "8\n",
      "10\n"
     ]
    }
   ],
   "source": [
    "for i in range(1,11,1):\n",
    "    if i%2==0:\n",
    "        print(i)"
   ]
  },
  {
   "cell_type": "code",
   "execution_count": 146,
   "id": "solid-runner",
   "metadata": {},
   "outputs": [
    {
     "name": "stdout",
     "output_type": "stream",
     "text": [
      "[3, 2, 1]\n",
      "[['tom', 'david', [20, 70, 'shiva']], 'shivam', 'geetanjali', 'manjunath', 'lavish', [12, 14, 19], 9, 8]\n"
     ]
    }
   ],
   "source": [
    "l1 = [[1,2,3],[8,9,[12,14,19],\"lavish\",\"manjunath\",\"geetanjali\",\"shivam\",[\"tom\", \"david\", [20, 70, \"shiva\"]]]]\n",
    "for v in l1:\n",
    "     print(v[::-1])"
   ]
  },
  {
   "cell_type": "code",
   "execution_count": 147,
   "id": "compound-bowling",
   "metadata": {},
   "outputs": [
    {
     "name": "stdout",
     "output_type": "stream",
     "text": [
      "20+1 = 21\n",
      "21+1 = 22\n",
      "22+1 = 23\n",
      "23+1 = 24\n",
      "24+1 = 25\n",
      "25+1 = 26\n",
      "26+1 = 27\n",
      "27+1 = 28\n",
      "28+1 = 29\n",
      "29+1 = 30\n",
      "30+1 = 31\n",
      "31+1 = 32\n",
      "32+1 = 33\n",
      "33+1 = 34\n",
      "34+1 = 35\n",
      "35+1 = 36\n",
      "36+1 = 37\n",
      "37+1 = 38\n",
      "38+1 = 39\n",
      "39+1 = 40\n",
      "40+1 = 41\n",
      "41+1 = 42\n",
      "42+1 = 43\n",
      "43+1 = 44\n",
      "44+1 = 45\n",
      "45+1 = 46\n",
      "46+1 = 47\n",
      "47+1 = 48\n",
      "48+1 = 49\n",
      "49+1 = 50\n",
      "50+1 = 51\n",
      "51+1 = 52\n",
      "52+1 = 53\n",
      "53+1 = 54\n",
      "54+1 = 55\n",
      "55+1 = 56\n",
      "56+1 = 57\n",
      "57+1 = 58\n",
      "58+1 = 59\n",
      "59+1 = 60\n",
      "60+1 = 61\n",
      "61+1 = 62\n",
      "62+1 = 63\n",
      "63+1 = 64\n",
      "64+1 = 65\n",
      "65+1 = 66\n",
      "66+1 = 67\n",
      "67+1 = 68\n",
      "68+1 = 69\n",
      "69+1 = 70\n"
     ]
    }
   ],
   "source": [
    "for i in range(20,70,1):\n",
    "    b=i+1\n",
    "    print(f\"{i}+{1} = {b}\")"
   ]
  },
  {
   "cell_type": "code",
   "execution_count": 148,
   "id": "dietary-water",
   "metadata": {},
   "outputs": [
    {
     "name": "stdout",
     "output_type": "stream",
     "text": [
      "2 // 2 = 1\n",
      "4 // 2 = 2\n",
      "6 // 2 = 3\n",
      "8 // 2 = 4\n",
      "10 // 2 = 5\n",
      "12 // 2 = 6\n",
      "14 // 2 = 7\n",
      "16 // 2 = 8\n",
      "18 // 2 = 9\n",
      "20 // 2 = 10\n"
     ]
    }
   ],
   "source": [
    "for g in range(2,22,2):\n",
    "    c = g//2\n",
    "    print(f\"{g} // {2} = {c}\")"
   ]
  },
  {
   "cell_type": "code",
   "execution_count": 150,
   "id": "authentic-scheme",
   "metadata": {},
   "outputs": [
    {
     "name": "stdout",
     "output_type": "stream",
     "text": [
      "apple\n",
      "banana\n"
     ]
    }
   ],
   "source": [
    "fruits = [\"apple\", \"banana\", \"cherry\"]\n",
    "for x in fruits:\n",
    "    print(x)\n",
    "    if x == \"banana\":\n",
    "        break\n",
    "        print(x)"
   ]
  },
  {
   "cell_type": "code",
   "execution_count": 151,
   "id": "upset-dressing",
   "metadata": {},
   "outputs": [
    {
     "name": "stdout",
     "output_type": "stream",
     "text": [
      "100\n",
      "200\n",
      "300\n",
      "400\n"
     ]
    }
   ],
   "source": [
    "var = [100,200,300,400,500,600,700,800,900,1000,20000]\n",
    "for b in var:\n",
    "    print(b)\n",
    "    if b == 400:\n",
    "        break\n",
    "        print(b)"
   ]
  },
  {
   "cell_type": "code",
   "execution_count": 152,
   "id": "weekly-rover",
   "metadata": {},
   "outputs": [
    {
     "name": "stdout",
     "output_type": "stream",
     "text": [
      "100 + 1 = 101\n",
      "150 + 1 = 151\n",
      "200 + 1 = 201\n",
      "250 + 1 = 251\n",
      "300 + 1 = 301\n",
      "350 + 1 = 351\n",
      "400 + 1 = 401\n",
      "450 + 1 = 451\n"
     ]
    }
   ],
   "source": [
    "for z in range(100,500,50):\n",
    "    print(f\"{z} + {1} = {z+1}\")"
   ]
  },
  {
   "cell_type": "code",
   "execution_count": 153,
   "id": "bored-price",
   "metadata": {},
   "outputs": [
    {
     "name": "stdout",
     "output_type": "stream",
     "text": [
      "5 * 1 = 5\n",
      "5 * 2 = 10\n",
      "5 * 3 = 15\n",
      "5 * 4 = 20\n",
      "5 * 5 = 25\n",
      "5 * 6 = 30\n",
      "5 * 7 = 35\n",
      "5 * 8 = 40\n",
      "5 * 9 = 45\n",
      "5 * 10 = 50\n"
     ]
    }
   ],
   "source": [
    "var1 = [1,2,3,4,5,6,7,8,9,10]\n",
    "for v in var1:\n",
    "     print(f\"{5} * {v} = {v*5}\")"
   ]
  },
  {
   "cell_type": "code",
   "execution_count": 154,
   "id": "judicial-order",
   "metadata": {},
   "outputs": [
    {
     "name": "stdout",
     "output_type": "stream",
     "text": [
      "12*1=12\n",
      "12*2=24\n",
      "12*3=36\n",
      "12*4=48\n",
      "12*5=60\n",
      "12*6=72\n",
      "12*7=84\n",
      "12*8=96\n",
      "12*9=108\n",
      "12*10=120\n"
     ]
    }
   ],
   "source": [
    "for i in range(11):\n",
    "    c=i*12\n",
    "    if(c!=0):\n",
    "        print(f\"{12}*{i}={c}\")"
   ]
  },
  {
   "cell_type": "code",
   "execution_count": 155,
   "id": "green-gothic",
   "metadata": {},
   "outputs": [
    {
     "name": "stdout",
     "output_type": "stream",
     "text": [
      "0\n",
      "1\n",
      "2\n",
      "3\n",
      "4\n",
      "5\n",
      "Finally finished!\n"
     ]
    }
   ],
   "source": [
    "for x in range(6):\n",
    "    print(x)\n",
    "else:\n",
    "    print(\"Finally finished!\")"
   ]
  },
  {
   "cell_type": "code",
   "execution_count": 157,
   "id": "pediatric-glasgow",
   "metadata": {},
   "outputs": [
    {
     "name": "stdout",
     "output_type": "stream",
     "text": [
      "1\n",
      "2\n",
      "3\n",
      "4\n",
      "5\n",
      "6\n",
      "7\n"
     ]
    }
   ],
   "source": [
    "num = [1,2,3,4,5,6,7,8,9,10]\n",
    "for i in num:\n",
    "    print(i)\n",
    "    if i == 7 :\n",
    "        break\n",
    "        print(i)"
   ]
  },
  {
   "cell_type": "code",
   "execution_count": 158,
   "id": "spanish-baptist",
   "metadata": {},
   "outputs": [
    {
     "name": "stdout",
     "output_type": "stream",
     "text": [
      "2\n",
      "4\n",
      "6\n",
      "8\n",
      "10\n",
      "12\n",
      "14\n",
      "16\n",
      "18\n"
     ]
    }
   ],
   "source": [
    "for i in range(2,20,2):\n",
    "    print(i)\n",
    "    if i == 19:\n",
    "        break\n",
    "        print(i)"
   ]
  },
  {
   "cell_type": "code",
   "execution_count": 159,
   "id": "received-vitamin",
   "metadata": {},
   "outputs": [
    {
     "name": "stdout",
     "output_type": "stream",
     "text": [
      "5\n",
      "10\n",
      "15\n",
      "20\n",
      "25\n",
      "30\n"
     ]
    }
   ],
   "source": [
    "for i in range(5,50,5):\n",
    "      print(i)\n",
    "      if i == 30:\n",
    "        break\n",
    "        print(i)"
   ]
  },
  {
   "cell_type": "code",
   "execution_count": 160,
   "id": "perceived-cable",
   "metadata": {},
   "outputs": [],
   "source": [
    "for x in [0, 1, 2]:\n",
    " pass"
   ]
  },
  {
   "cell_type": "code",
   "execution_count": 162,
   "id": "handed-bradley",
   "metadata": {},
   "outputs": [
    {
     "name": "stdout",
     "output_type": "stream",
     "text": [
      "2\n",
      "4\n",
      "6\n",
      "8\n",
      "10\n",
      "12\n",
      "14\n"
     ]
    }
   ],
   "source": [
    "for i in range(2, 22, 2):\n",
    "    print(i)\n",
    "    if i == 14:\n",
    "        break\n",
    "        print(i)"
   ]
  },
  {
   "cell_type": "code",
   "execution_count": 163,
   "id": "mysterious-diving",
   "metadata": {},
   "outputs": [
    {
     "name": "stdout",
     "output_type": "stream",
     "text": [
      "165\n"
     ]
    }
   ],
   "source": [
    "sum = 0\n",
    "for i in range(3, 33, 3):\n",
    "    sum = sum + i\n",
    "print(sum)"
   ]
  },
  {
   "cell_type": "code",
   "execution_count": 164,
   "id": "radio-wrapping",
   "metadata": {},
   "outputs": [
    {
     "name": "stdout",
     "output_type": "stream",
     "text": [
      "3\n",
      "6\n",
      "9\n",
      "12\n",
      "15\n",
      "18\n",
      "21\n",
      "24\n",
      "27\n",
      "30\n"
     ]
    }
   ],
   "source": [
    "for i in range(3,33,3):\n",
    "    print(i)"
   ]
  },
  {
   "cell_type": "code",
   "execution_count": 165,
   "id": "sudden-dakota",
   "metadata": {},
   "outputs": [
    {
     "name": "stdout",
     "output_type": "stream",
     "text": [
      "Square of: 1 is: 1\n",
      "Square of: 2 is: 4\n",
      "Square of: 3 is: 9\n",
      "Square of: 4 is: 16\n",
      "Square of: 5 is: 25\n"
     ]
    }
   ],
   "source": [
    "numbers = [1, 2, 3, 4, 5]\n",
    "# iterate over each element in list num\n",
    "for i in numbers:\n",
    "    # ** exponent operator\n",
    "    square = i ** 2\n",
    "    print(\"Square of:\", i, \"is:\", square)"
   ]
  },
  {
   "cell_type": "code",
   "execution_count": 166,
   "id": "therapeutic-colonial",
   "metadata": {},
   "outputs": [
    {
     "name": "stdout",
     "output_type": "stream",
     "text": [
      "30\n"
     ]
    }
   ],
   "source": [
    "numbers = [10, 20, 30, 40, 50]\n",
    "# definite iteration\n",
    "# run loop 5 times because list contains 5 items\n",
    "sum = 0\n",
    "for i in numbers:\n",
    "    sum = sum + i\n",
    "list_size = len(numbers)\n",
    "average = sum // list_size\n",
    "print(average)"
   ]
  },
  {
   "cell_type": "code",
   "execution_count": 167,
   "id": "broadband-tractor",
   "metadata": {},
   "outputs": [
    {
     "name": "stdout",
     "output_type": "stream",
     "text": [
      "Odd Number: 1\n",
      "Even Number: 2\n",
      "Odd Number: 3\n",
      "Even Number: 4\n",
      "Odd Number: 5\n",
      "Even Number: 6\n",
      "Odd Number: 7\n",
      "Even Number: 8\n",
      "Odd Number: 9\n",
      "Even Number: 10\n"
     ]
    }
   ],
   "source": [
    "for i in range(1, 11):\n",
    "    if i % 2 == 0:\n",
    "        print('Even Number:', i)\n",
    "    else:\n",
    "        print('Odd Number:', i)"
   ]
  },
  {
   "cell_type": "code",
   "execution_count": 169,
   "id": "upper-quebec",
   "metadata": {},
   "outputs": [
    {
     "name": "stdout",
     "output_type": "stream",
     "text": [
      "10\n",
      "12\n",
      "14\n",
      "16\n",
      "18\n",
      "20\n",
      "22\n",
      "24\n",
      "26\n",
      "28\n",
      "30\n",
      "32\n",
      "34\n",
      "36\n",
      "38\n",
      "40\n",
      "42\n",
      "44\n",
      "46\n",
      "48\n",
      "50\n"
     ]
    }
   ],
   "source": [
    "for i in range(9, 51):\n",
    " # divide each number by 2\n",
    " if i%2==0:\n",
    "    print(i)"
   ]
  },
  {
   "cell_type": "code",
   "execution_count": 170,
   "id": "internal-single",
   "metadata": {},
   "outputs": [
    {
     "name": "stdout",
     "output_type": "stream",
     "text": [
      "remainder 10\n",
      "remainder 11\n",
      "divided 12\n",
      "remainder 13\n",
      "remainder 14\n",
      "divided 15\n",
      "remainder 16\n",
      "remainder 17\n",
      "divided 18\n",
      "remainder 19\n",
      "remainder 20\n",
      "divided 21\n",
      "remainder 22\n",
      "remainder 23\n",
      "divided 24\n",
      "remainder 25\n",
      "remainder 26\n",
      "divided 27\n",
      "remainder 28\n",
      "remainder 29\n",
      "divided 30\n",
      "remainder 31\n",
      "remainder 32\n",
      "divided 33\n",
      "remainder 34\n",
      "remainder 35\n",
      "divided 36\n",
      "remainder 37\n",
      "remainder 38\n",
      "divided 39\n",
      "remainder 40\n",
      "remainder 41\n",
      "divided 42\n",
      "remainder 43\n",
      "remainder 44\n",
      "divided 45\n",
      "remainder 46\n",
      "remainder 47\n",
      "divided 48\n",
      "remainder 49\n",
      "remainder 50\n",
      "divided 51\n",
      "remainder 52\n",
      "remainder 53\n",
      "divided 54\n"
     ]
    }
   ],
   "source": [
    "for i in range(10,55):\n",
    " # each elements divide by 3\n",
    " if i%3==0:\n",
    "    print(\"divided\",i)\n",
    " else:\n",
    "    print(\"remainder\",i)"
   ]
  },
  {
   "cell_type": "code",
   "execution_count": 171,
   "id": "saving-reaction",
   "metadata": {},
   "outputs": [
    {
     "name": "stdout",
     "output_type": "stream",
     "text": [
      "cube of 2 cube is 8\n",
      "cube of 4 cube is 64\n",
      "cube of 5 cube is 125\n",
      "cube of 7 cube is 343\n",
      "cube of 9 cube is 729\n"
     ]
    }
   ],
   "source": [
    "num = [2,4,5,7,9]\n",
    "for i in num:\n",
    " cube = i ** 3\n",
    " print(\"cube of\", i , \"cube is\", cube)"
   ]
  },
  {
   "cell_type": "code",
   "execution_count": 172,
   "id": "registered-austin",
   "metadata": {},
   "outputs": [
    {
     "name": "stdout",
     "output_type": "stream",
     "text": [
      "odd number 1\n",
      "even number 2\n",
      "odd number 3\n",
      "even number 4\n",
      "odd number 5\n",
      "even number 6\n",
      "odd number 7\n",
      "even number 8\n",
      "odd number 9\n",
      "even number 10\n"
     ]
    }
   ],
   "source": [
    "for i in range(1,11):\n",
    " if i%2 ==0 :\n",
    "     print(\"even number\",i)\n",
    " else:\n",
    "     print(\"odd number\",i)"
   ]
  },
  {
   "cell_type": "code",
   "execution_count": 173,
   "id": "liked-animal",
   "metadata": {},
   "outputs": [
    {
     "name": "stdout",
     "output_type": "stream",
     "text": [
      "330\n"
     ]
    }
   ],
   "source": [
    "# example : print the sum of ALL even number from 20 to 40\n",
    "sum = 0\n",
    "for i in range(20, 42, 2):\n",
    "   sum = sum + i\n",
    "print(sum)"
   ]
  },
  {
   "cell_type": "code",
   "execution_count": 174,
   "id": "gothic-swing",
   "metadata": {},
   "outputs": [
    {
     "name": "stdout",
     "output_type": "stream",
     "text": [
      "165\n"
     ]
    }
   ],
   "source": [
    "sum = 0\n",
    "for i in range(3, 33, 3):\n",
    " sum = sum + i\n",
    "print(sum)"
   ]
  },
  {
   "cell_type": "code",
   "execution_count": 175,
   "id": "incomplete-brooks",
   "metadata": {},
   "outputs": [
    {
     "name": "stdout",
     "output_type": "stream",
     "text": [
      "squareof 1 square is 1\n",
      "squareof 2 square is 4\n",
      "squareof 3 square is 9\n",
      "squareof 4 square is 16\n",
      "squareof 5 square is 25\n",
      "squareof 6 square is 36\n",
      "squareof 7 square is 49\n",
      "squareof 8 square is 64\n",
      "squareof 9 square is 81\n",
      "squareof 10 square is 100\n"
     ]
    }
   ],
   "source": [
    "for i in range(1,11):\n",
    " square = i ** 2\n",
    " print(\"squareof\", i, \"square is\",square)"
   ]
  },
  {
   "cell_type": "code",
   "execution_count": 176,
   "id": "naval-sunglasses",
   "metadata": {},
   "outputs": [
    {
     "name": "stdout",
     "output_type": "stream",
     "text": [
      "cubeof 1 cube is 1\n",
      "cubeof 2 cube is 8\n",
      "cubeof 3 cube is 27\n",
      "cubeof 4 cube is 64\n",
      "cubeof 5 cube is 125\n",
      "cubeof 6 cube is 216\n",
      "cubeof 7 cube is 343\n",
      "cubeof 8 cube is 512\n",
      "cubeof 9 cube is 729\n",
      "cubeof 10 cube is 1000\n"
     ]
    }
   ],
   "source": [
    "for i in range(1,11):\n",
    " cube = i ** 3\n",
    " print(\"cubeof\", i, \"cube is\",cube)"
   ]
  },
  {
   "cell_type": "code",
   "execution_count": 177,
   "id": "lasting-absence",
   "metadata": {},
   "outputs": [
    {
     "name": "stdout",
     "output_type": "stream",
     "text": [
      "3\n",
      "6\n",
      "9\n",
      "12\n",
      "15\n",
      "18\n",
      "21\n",
      "24\n",
      "27\n",
      "30\n"
     ]
    }
   ],
   "source": [
    "for i in range(1,11):\n",
    " num = i * 3\n",
    " print(num)"
   ]
  },
  {
   "cell_type": "code",
   "execution_count": 178,
   "id": "becoming-sacramento",
   "metadata": {},
   "outputs": [
    {
     "name": "stdout",
     "output_type": "stream",
     "text": [
      "sq's are:  1 1\n",
      "sq's are:  2 4\n",
      "sq's are:  3 9\n",
      "sq's are:  4 16\n",
      "sq's are:  5 25\n",
      "sq's are:  6 36\n",
      "sq's are:  7 49\n",
      "sq's are:  8 64\n",
      "sq's are:  9 81\n",
      "sq's are:  10 100\n"
     ]
    }
   ],
   "source": [
    "for i in range(1,11):\n",
    " num = i*i\n",
    " print(\"sq's are: \",i,num)"
   ]
  },
  {
   "cell_type": "code",
   "execution_count": 181,
   "id": "portable-complex",
   "metadata": {},
   "outputs": [
    {
     "name": "stdout",
     "output_type": "stream",
     "text": [
      "not divided 1\n",
      "divided 2\n",
      "not divided 3\n",
      "divided 4\n",
      "not divided 5\n",
      "divided 6\n",
      "not divided 7\n",
      "divided 8\n",
      "not divided 9\n"
     ]
    }
   ],
   "source": [
    "for i in range(1,10,1):\n",
    " if i%2==0:\n",
    "    print(\"divided\",i)\n",
    " else:\n",
    "    print(\"not divided\",i)"
   ]
  },
  {
   "cell_type": "code",
   "execution_count": 182,
   "id": "identified-business",
   "metadata": {},
   "outputs": [
    {
     "name": "stdout",
     "output_type": "stream",
     "text": [
      "even num:  2\n",
      "odd num:  3\n",
      "even num:  4\n",
      "even num:  5\n",
      "odd num:  6\n",
      "even num:  7\n",
      "even num:  8\n",
      "odd num:  9\n",
      "even num:  10\n"
     ]
    }
   ],
   "source": [
    "for i in range(2,11):\n",
    " if i%3==0:\n",
    "     print(\"odd num: \",i)\n",
    " else:\n",
    "     print(\"even num: \",i)"
   ]
  },
  {
   "cell_type": "code",
   "execution_count": 183,
   "id": "linear-kelly",
   "metadata": {},
   "outputs": [
    {
     "name": "stdout",
     "output_type": "stream",
     "text": [
      "110\n"
     ]
    }
   ],
   "source": [
    "sum = 0\n",
    "for i in range(2,22,2):\n",
    " sum = sum + i\n",
    "print(sum)"
   ]
  },
  {
   "cell_type": "code",
   "execution_count": 184,
   "id": "embedded-forward",
   "metadata": {},
   "outputs": [
    {
     "name": "stdout",
     "output_type": "stream",
     "text": [
      "5 * 1 = 5\n",
      "5 * 2 = 10\n",
      "5 * 3 = 15\n",
      "5 * 4 = 20\n",
      "5 * 5 = 25\n",
      "5 * 6 = 30\n",
      "5 * 7 = 35\n",
      "5 * 8 = 40\n",
      "5 * 9 = 45\n",
      "5 * 10 = 50\n"
     ]
    }
   ],
   "source": [
    "for i in range(1,11):\n",
    " print(f\"{5} * {i} = {5*i}\")"
   ]
  },
  {
   "cell_type": "code",
   "execution_count": 185,
   "id": "strong-treatment",
   "metadata": {},
   "outputs": [
    {
     "name": "stdout",
     "output_type": "stream",
     "text": [
      "even numbers:  2\n",
      "even numbers:  4\n",
      "even numbers:  6\n",
      "even numbers:  8\n",
      "even numbers:  10\n",
      "even numbers:  12\n",
      "even numbers:  14\n",
      "even numbers:  16\n",
      "even numbers:  18\n",
      "even numbers:  20\n"
     ]
    }
   ],
   "source": [
    "for i in range(2,22,2):\n",
    " print(\"even numbers: \",i)"
   ]
  },
  {
   "cell_type": "code",
   "execution_count": 188,
   "id": "cardiac-personal",
   "metadata": {},
   "outputs": [
    {
     "name": "stdout",
     "output_type": "stream",
     "text": [
      "odd num:  1\n",
      "even num:  2\n",
      "odd num:  3\n",
      "even num:  4\n",
      "odd num:  5\n",
      "even num:  6\n",
      "odd num:  7\n",
      "even num:  8\n",
      "odd num:  9\n",
      "even num:  10\n"
     ]
    }
   ],
   "source": [
    "for i in range(1,11):\n",
    " if i%2==0:\n",
    "     print(\"even num: \",i)\n",
    " else:\n",
    "     print(\"odd num: \",i)"
   ]
  },
  {
   "cell_type": "code",
   "execution_count": 189,
   "id": "unable-union",
   "metadata": {},
   "outputs": [
    {
     "name": "stdout",
     "output_type": "stream",
     "text": [
      "T h i s   i s   p y t h o n ' s   c l a s s "
     ]
    }
   ],
   "source": [
    "b = \"This is python's class\"\n",
    "b.split()\n",
    "for i in b:\n",
    " print(i[::-1], end=\" \")"
   ]
  },
  {
   "cell_type": "code",
   "execution_count": 190,
   "id": "activated-azerbaijan",
   "metadata": {},
   "outputs": [
    {
     "name": "stdout",
     "output_type": "stream",
     "text": [
      "class python's is This\n"
     ]
    }
   ],
   "source": [
    "b = \"This is python's class\"\n",
    "c = \" \".join(b.split()[::-1])\n",
    "print(c)"
   ]
  },
  {
   "cell_type": "code",
   "execution_count": 191,
   "id": "controversial-insert",
   "metadata": {},
   "outputs": [
    {
     "name": "stdout",
     "output_type": "stream",
     "text": [
      "class python's is This\n"
     ]
    }
   ],
   "source": [
    "a = \"This is python's class\"\n",
    "b = \" \".join(a.split()[::-1])\n",
    "print(b)"
   ]
  },
  {
   "cell_type": "code",
   "execution_count": 192,
   "id": "fantastic-latin",
   "metadata": {},
   "outputs": [
    {
     "data": {
      "text/plain": [
       "'Lavish is name My'"
      ]
     },
     "execution_count": 192,
     "metadata": {},
     "output_type": "execute_result"
    }
   ],
   "source": [
    "a = \"My name is Lavish\"\n",
    "b = \" \".join(a.split()[::-1])\n",
    "b"
   ]
  },
  {
   "cell_type": "code",
   "execution_count": 193,
   "id": "cleared-irrigation",
   "metadata": {},
   "outputs": [
    {
     "name": "stdout",
     "output_type": "stream",
     "text": [
      "[1]\n",
      "[1, 4]\n",
      "[1, 4, 9]\n",
      "[1, 4, 9, 16]\n",
      "[1, 4, 9, 16, 25]\n",
      "[1, 4, 9, 16, 25, 36]\n",
      "[1, 4, 9, 16, 25, 36, 49]\n",
      "[1, 4, 9, 16, 25, 36, 49, 64]\n",
      "[1, 4, 9, 16, 25, 36, 49, 64, 81]\n",
      "[1, 4, 9, 16, 25, 36, 49, 64, 81, 121]\n"
     ]
    }
   ],
   "source": [
    "a = [1,2,3,4,5,6,7,8,9,11]\n",
    "b = []\n",
    "for i in a:\n",
    " b.append(i*i)\n",
    " print(b)"
   ]
  },
  {
   "cell_type": "code",
   "execution_count": 194,
   "id": "excess-heading",
   "metadata": {},
   "outputs": [
    {
     "data": {
      "text/plain": [
       "[1, 4, 9, 16, 25, 36, 49, 64, 81, 121]"
      ]
     },
     "execution_count": 194,
     "metadata": {},
     "output_type": "execute_result"
    }
   ],
   "source": [
    "b"
   ]
  },
  {
   "cell_type": "code",
   "execution_count": 195,
   "id": "employed-gamma",
   "metadata": {},
   "outputs": [
    {
     "name": "stdout",
     "output_type": "stream",
     "text": [
      "0\n",
      "1\n",
      "2\n",
      "3\n",
      "4\n",
      "5\n",
      "6\n",
      "7\n",
      "8\n",
      "9\n"
     ]
    }
   ],
   "source": [
    "hello = [1, 4, 9, 16, 25, 36, 49, 64, 81, 121]\n",
    "for i in range(len(hello)):\n",
    " print(i)"
   ]
  },
  {
   "cell_type": "code",
   "execution_count": 196,
   "id": "developed-yield",
   "metadata": {},
   "outputs": [],
   "source": [
    "a = \"this is python\"\n",
    "b = a.split()"
   ]
  },
  {
   "cell_type": "code",
   "execution_count": 197,
   "id": "architectural-bailey",
   "metadata": {},
   "outputs": [
    {
     "data": {
      "text/plain": [
       "['this', 'is', 'python']"
      ]
     },
     "execution_count": 197,
     "metadata": {},
     "output_type": "execute_result"
    }
   ],
   "source": [
    "b"
   ]
  },
  {
   "cell_type": "code",
   "execution_count": 198,
   "id": "weird-excellence",
   "metadata": {},
   "outputs": [],
   "source": [
    "b.reverse()"
   ]
  },
  {
   "cell_type": "code",
   "execution_count": 199,
   "id": "former-condition",
   "metadata": {},
   "outputs": [
    {
     "data": {
      "text/plain": [
       "'python is this'"
      ]
     },
     "execution_count": 199,
     "metadata": {},
     "output_type": "execute_result"
    }
   ],
   "source": [
    "\" \".join(b)"
   ]
  },
  {
   "cell_type": "markdown",
   "id": "beautiful-avatar",
   "metadata": {},
   "source": [
    "LIST COMPREHENSION"
   ]
  },
  {
   "cell_type": "code",
   "execution_count": 201,
   "id": "executive-acting",
   "metadata": {},
   "outputs": [
    {
     "name": "stdout",
     "output_type": "stream",
     "text": [
      "['t', 'h', 'i', 's', ' ', 'i', 's', ' ', 'p', 'y', 't', 'h', 'o', 'n']\n"
     ]
    }
   ],
   "source": [
    "b = [i for i in a]\n",
    "print(b)"
   ]
  },
  {
   "cell_type": "code",
   "execution_count": 215,
   "id": "prostate-cartridge",
   "metadata": {},
   "outputs": [
    {
     "name": "stdout",
     "output_type": "stream",
     "text": [
      "['usman']\n",
      "['usman', 'lavish']\n",
      "['usman', 'lavish', 'geetanjali']\n",
      "['usman', 'lavish', 'geetanjali', 'riya12']\n"
     ]
    }
   ],
   "source": [
    "list_com = [\"usman@gmail.com\",\"lavish@icloud.com\",\"geetanjali@yahoo.com\",\"riya12@xyz.com\"]\n",
    "list1 = []\n",
    "for i in list_com:\n",
    "    list1.append(i.split(\"@\")[0])\n",
    "    print(list1)"
   ]
  },
  {
   "cell_type": "code",
   "execution_count": 216,
   "id": "clear-month",
   "metadata": {},
   "outputs": [
    {
     "data": {
      "text/plain": [
       "['usman', 'lavish', 'geetanjali', 'riya12']"
      ]
     },
     "execution_count": 216,
     "metadata": {},
     "output_type": "execute_result"
    }
   ],
   "source": [
    "list1"
   ]
  },
  {
   "cell_type": "code",
   "execution_count": 217,
   "id": "disabled-exemption",
   "metadata": {},
   "outputs": [
    {
     "name": "stdout",
     "output_type": "stream",
     "text": [
      "['lavish']\n",
      "['lavish', 'harry']\n",
      "['lavish', 'harry', 'verma']\n",
      "['lavish', 'harry', 'verma', 'garry']\n"
     ]
    }
   ],
   "source": [
    "section1 = [\"lavish&1234\",\"harry&765\",\"verma&123\",\"garry&1234\"]\n",
    "sec1 = []\n",
    "for i in section1:\n",
    " sec1.append(i.split(\"&\")[0])\n",
    " print(sec1)"
   ]
  },
  {
   "cell_type": "code",
   "execution_count": 218,
   "id": "graduate-necessity",
   "metadata": {},
   "outputs": [
    {
     "data": {
      "text/plain": [
       "['lavish', 'harry', 'verma', 'garry']"
      ]
     },
     "execution_count": 218,
     "metadata": {},
     "output_type": "execute_result"
    }
   ],
   "source": [
    "sec1"
   ]
  },
  {
   "cell_type": "code",
   "execution_count": 219,
   "id": "unnecessary-compensation",
   "metadata": {},
   "outputs": [
    {
     "name": "stdout",
     "output_type": "stream",
     "text": [
      "5 * 1 = 5\n",
      "5 * 2 = 10\n",
      "5 * 3 = 15\n",
      "5 * 4 = 20\n",
      "5 * 5 = 25\n",
      "5 * 6 = 30\n",
      "5 * 7 = 35\n",
      "5 * 8 = 40\n",
      "5 * 9 = 45\n",
      "5 * 10 = 50\n"
     ]
    }
   ],
   "source": [
    "for i in range(1,11):\n",
    " print(f\"{5} * {i} = {5*i}\")"
   ]
  },
  {
   "cell_type": "code",
   "execution_count": 220,
   "id": "arctic-tobacco",
   "metadata": {},
   "outputs": [
    {
     "name": "stdout",
     "output_type": "stream",
     "text": [
      "odd num:  1\n",
      "even num:  2\n",
      "odd num:  3\n",
      "even num:  4\n",
      "odd num:  5\n",
      "even num:  6\n",
      "odd num:  7\n",
      "even num:  8\n",
      "odd num:  9\n",
      "even num:  10\n"
     ]
    }
   ],
   "source": [
    "for i in range(1,11):\n",
    " if i%2==0:\n",
    "    print(\"even num: \",i)\n",
    " else:\n",
    "    print(\"odd num: \",i)"
   ]
  },
  {
   "cell_type": "code",
   "execution_count": 221,
   "id": "guided-fireplace",
   "metadata": {},
   "outputs": [
    {
     "name": "stdout",
     "output_type": "stream",
     "text": [
      "15\n"
     ]
    }
   ],
   "source": [
    "# average program\n",
    "a = [12,13,14,15,16,17,18]\n",
    "sum = 0\n",
    "for i in a:\n",
    " sum = sum + i\n",
    "list_size = len(a)\n",
    "average = sum//list_size\n",
    "print(average) "
   ]
  },
  {
   "cell_type": "code",
   "execution_count": 222,
   "id": "through-voltage",
   "metadata": {},
   "outputs": [
    {
     "name": "stdout",
     "output_type": "stream",
     "text": [
      "55\n"
     ]
    }
   ],
   "source": [
    "sum = 0\n",
    "for i in range(1,11):\n",
    " sum = sum + i\n",
    "print(sum)"
   ]
  },
  {
   "cell_type": "code",
   "execution_count": 223,
   "id": "foster-table",
   "metadata": {},
   "outputs": [
    {
     "name": "stdout",
     "output_type": "stream",
     "text": [
      "1\n",
      "4\n",
      "9\n",
      "16\n",
      "25\n",
      "36\n",
      "49\n",
      "64\n",
      "81\n",
      "100\n"
     ]
    }
   ],
   "source": [
    "for i in range(1,11):\n",
    " b = i*i\n",
    " print(b)"
   ]
  },
  {
   "cell_type": "code",
   "execution_count": null,
   "id": "macro-champion",
   "metadata": {},
   "outputs": [],
   "source": []
  }
 ],
 "metadata": {
  "kernelspec": {
   "display_name": "Python 3 (ipykernel)",
   "language": "python",
   "name": "python3"
  },
  "language_info": {
   "codemirror_mode": {
    "name": "ipython",
    "version": 3
   },
   "file_extension": ".py",
   "mimetype": "text/x-python",
   "name": "python",
   "nbconvert_exporter": "python",
   "pygments_lexer": "ipython3",
   "version": "3.11.3"
  }
 },
 "nbformat": 4,
 "nbformat_minor": 5
}
