{
 "cells": [
  {
   "cell_type": "raw",
   "id": "0c64d6ce",
   "metadata": {},
   "source": [
    "1.\tWrite a Python program to print \"Hello Python\"?"
   ]
  },
  {
   "cell_type": "code",
   "execution_count": 1,
   "id": "e5a208e4",
   "metadata": {},
   "outputs": [
    {
     "name": "stdout",
     "output_type": "stream",
     "text": [
      "Hello World\n"
     ]
    }
   ],
   "source": [
    "print(\"Hello World\")"
   ]
  },
  {
   "cell_type": "raw",
   "id": "5e82c4e5",
   "metadata": {},
   "source": [
    "2.\tWrite a Python program to do arithmetical operations addition and division.?"
   ]
  },
  {
   "cell_type": "code",
   "execution_count": 2,
   "id": "779c15ea",
   "metadata": {},
   "outputs": [
    {
     "name": "stdout",
     "output_type": "stream",
     "text": [
      "Enter the first number: 3\n",
      "Enter the second number: 3\n",
      "Sum of num1 and num2 :  6\n"
     ]
    }
   ],
   "source": [
    "num1 = int(input(\"Enter the first number: \"))\n",
    "num2 = int(input(\"Enter the second number: \"))\n",
    "\n",
    "sum_result = num1 + num2\n",
    "print(\"Sum of num1 and num2 : \",sum_result)"
   ]
  },
  {
   "cell_type": "code",
   "execution_count": null,
   "id": "36de860c",
   "metadata": {},
   "outputs": [],
   "source": [
    "num1 = int(input(\"Enter the first number: \"))\n",
    "num2 = int(input(\"Enter the second number: \"))\n",
    "\n",
    "if num2 != 0:\n",
    "    division_result = num1/num2\n",
    "else:\n",
    "    division_result = \"Division by zero is not allowed\"\n",
    "print(\"Division: \", division_result)    "
   ]
  },
  {
   "cell_type": "raw",
   "id": "1bf0ebac",
   "metadata": {},
   "source": [
    "3.\tWrite a Python program to find the area of a triangle?"
   ]
  },
  {
   "cell_type": "code",
   "execution_count": null,
   "id": "07b49358",
   "metadata": {},
   "outputs": [],
   "source": [
    "base = int(input(\"Enter the base: \"))\n",
    "height = int(input(\"Enter the height: \"))\n",
    "\n",
    "are_of_triangle = 0.5*base*height\n",
    "print(\"Area of triangle\",are_of_triangle )"
   ]
  },
  {
   "cell_type": "raw",
   "id": "ca8c612a",
   "metadata": {},
   "source": [
    "4.\tWrite a Python program to swap two variables?"
   ]
  },
  {
   "cell_type": "code",
   "execution_count": null,
   "id": "7c634b41",
   "metadata": {},
   "outputs": [],
   "source": [
    "# Input two variables\n",
    "a = input(\"Enter the first variable: \")\n",
    "b = input(\"Enter the second variable: \")\n",
    "\n",
    "# Print the original values\n",
    "print(\"Original values:\")\n",
    "print(\"a =\", a)\n",
    "print(\"b =\", b)\n",
    "\n",
    "# Swap the variables using a temporary variable\n",
    "temp = a\n",
    "a = b\n",
    "b = temp\n",
    "\n",
    "# Print the swapped values\n",
    "print(\"\\nValues after swapping:\")\n",
    "print(\"a =\", a)\n",
    "print(\"b =\", b)\n"
   ]
  },
  {
   "cell_type": "raw",
   "id": "078201a1",
   "metadata": {},
   "source": [
    "5.\tWrite a Python program to generate a random number?"
   ]
  },
  {
   "cell_type": "code",
   "execution_count": null,
   "id": "ad2bcb31",
   "metadata": {},
   "outputs": [],
   "source": [
    "import random\n",
    "\n",
    "# Generate a random integer between a specified range\n",
    "random_number = random.randint(1, 100)  # This generates a random integer between 1 and 100 (inclusive)\n",
    "\n",
    "print(\"Random number:\", random_number)\n"
   ]
  },
  {
   "cell_type": "raw",
   "id": "e33724b8",
   "metadata": {},
   "source": [
    "1.\tWrite a Python program to convert kilometers to miles?"
   ]
  },
  {
   "cell_type": "code",
   "execution_count": null,
   "id": "6def231a",
   "metadata": {},
   "outputs": [],
   "source": [
    "# Function to convert kilometers to miles\n",
    "def km_to_miles(kilometers):\n",
    "    miles = kilometers * 0.621371\n",
    "    return miles\n",
    "\n",
    "# Input distance in kilometers\n",
    "kilometers = float(input(\"Enter distance in kilometers: \"))\n",
    "\n",
    "# Convert and print the result\n",
    "miles = km_to_miles(kilometers)\n",
    "print(f\"{kilometers} kilometers is equal to {miles} miles.\")\n"
   ]
  },
  {
   "cell_type": "raw",
   "id": "51234cee",
   "metadata": {},
   "source": [
    "2.\tWrite a Python program to convert Celsius to Fahrenheit?"
   ]
  },
  {
   "cell_type": "code",
   "execution_count": null,
   "id": "162bb05c",
   "metadata": {},
   "outputs": [],
   "source": [
    "# Function to convert Celsius to Fahrenheit\n",
    "def celsius_to_fahrenheit(celsius):\n",
    "    fahrenheit = (celsius * 9/5) + 32\n",
    "    return fahrenheit\n",
    "\n",
    "# Input temperature in Celsius\n",
    "celsius = float(input(\"Enter temperature in Celsius: \"))\n",
    "\n",
    "# Convert and print the result\n",
    "fahrenheit = celsius_to_fahrenheit(celsius)\n",
    "print(f\"{celsius} degrees Celsius is equal to {fahrenheit} degrees Fahrenheit.\")\n"
   ]
  },
  {
   "cell_type": "raw",
   "id": "1eae404e",
   "metadata": {},
   "source": [
    "3.\tWrite a Python program to display calendar?"
   ]
  },
  {
   "cell_type": "code",
   "execution_count": null,
   "id": "861fc6ff",
   "metadata": {},
   "outputs": [],
   "source": [
    "import calendar\n",
    "\n",
    "# Input year and month\n",
    "year = int(input(\"Enter year (e.g., 2023): \"))\n",
    "month = int(input(\"Enter month (1-12): \"))\n",
    "\n",
    "# Create a calendar for the specified year and month\n",
    "cal = calendar.month(year, month)\n",
    "\n",
    "# Display the calendar\n",
    "print(f\"Calendar for {calendar.month_name[month]} {year}:\\n\")\n",
    "print(cal)\n"
   ]
  },
  {
   "cell_type": "raw",
   "id": "5e41e55b",
   "metadata": {},
   "source": [
    "4.\tWrite a Python program to solve quadratic equation?"
   ]
  },
  {
   "cell_type": "code",
   "execution_count": null,
   "id": "e7e0b9ba",
   "metadata": {},
   "outputs": [],
   "source": [
    "import math\n",
    "\n",
    "# Input coefficients a, b, and c\n",
    "a = float(input(\"Enter coefficient a: \"))\n",
    "b = float(input(\"Enter coefficient b: \"))\n",
    "c = float(input(\"Enter coefficient c: \"))\n",
    "\n",
    "# Calculate the discriminant\n",
    "discriminant = b**2 - 4*a*c\n",
    "\n",
    "# Check if the discriminant is positive, negative, or zero\n",
    "if discriminant > 0:\n",
    "    # Two real and distinct solutions\n",
    "    x1 = (-b + math.sqrt(discriminant)) / (2*a)\n",
    "    x2 = (-b - math.sqrt(discriminant)) / (2*a)\n",
    "    print(f\"Two real solutions: x1 = {x1}, x2 = {x2}\")\n",
    "elif discriminant == 0:\n",
    "    # One real solution (repeated)\n",
    "    x = -b / (2*a)\n",
    "    print(f\"One real solution: x = {x}\")\n",
    "else:\n",
    "    # No real solutions (complex)\n",
    "    realPart = -b / (2*a)\n",
    "    imaginaryPart = math.sqrt(-discriminant) / (2*a)\n",
    "    print(f\"Complex solutions: x1 = {realPart} + {imaginaryPart}i, x2 = {realPart} - {imaginaryPart}i\")\n"
   ]
  },
  {
   "cell_type": "raw",
   "id": "681b5ed0",
   "metadata": {},
   "source": [
    "5.\tWrite a Python program to swap two variables without temp variable?"
   ]
  },
  {
   "cell_type": "code",
   "execution_count": null,
   "id": "c7456977",
   "metadata": {},
   "outputs": [],
   "source": [
    "# Input two variables\n",
    "x = int(input(\"Enter the first variable (x): \"))\n",
    "y = int(input(\"Enter the second variable (y): \"))\n",
    "\n",
    "# Swap the variables without a temporary variable\n",
    "x, y = y, x\n",
    "\n",
    "# Print the swapped values\n",
    "print(f\"After swapping: x = {x}, y = {y}\")\n"
   ]
  },
  {
   "cell_type": "raw",
   "id": "04f4906d",
   "metadata": {},
   "source": [
    "1.\tWrite a Python Program to Check if a Number is Positive, Negative or Zero?"
   ]
  },
  {
   "cell_type": "code",
   "execution_count": null,
   "id": "8caa1e7c",
   "metadata": {},
   "outputs": [],
   "source": [
    "# Input a number from the user\n",
    "number = float(input(\"Enter a number: \"))\n",
    "\n",
    "# Check if the number is positive, negative, or zero\n",
    "if number > 0:\n",
    "    print(\"The number is positive.\")\n",
    "elif number < 0:\n",
    "    print(\"The number is negative.\")\n",
    "else:\n",
    "    print(\"The number is zero.\")\n"
   ]
  },
  {
   "cell_type": "raw",
   "id": "f9c12ead",
   "metadata": {},
   "source": [
    "2.\tWrite a Python Program to Check if a Number is Odd or Even?"
   ]
  },
  {
   "cell_type": "code",
   "execution_count": null,
   "id": "84c224b9",
   "metadata": {},
   "outputs": [],
   "source": [
    "# Input a number from the user\n",
    "number = int(input(\"Enter a number: \"))\n",
    "\n",
    "# Check if the number is odd or even\n",
    "if number % 2 == 0:\n",
    "    print(\"The number is even.\")\n",
    "else:\n",
    "    print(\"The number is odd.\")\n"
   ]
  },
  {
   "cell_type": "raw",
   "id": "6e4ee9a8",
   "metadata": {},
   "source": [
    "3.\tWrite a Python Program to Check Leap Year?"
   ]
  },
  {
   "cell_type": "code",
   "execution_count": null,
   "id": "32bdac7a",
   "metadata": {},
   "outputs": [],
   "source": [
    "# Input a year from the user\n",
    "year = int(input(\"Enter a year: \"))\n",
    "\n",
    "# Check if it's a leap year\n",
    "if (year % 4 == 0 and year % 100 != 0) or (year % 400 == 0):\n",
    "    print(year, \"is a leap year.\")\n",
    "else:\n",
    "    print(year, \"is not a leap year.\")\n"
   ]
  },
  {
   "cell_type": "raw",
   "id": "e857c5b2",
   "metadata": {},
   "source": [
    "4.\tWrite a Python Program to Check Prime Number?"
   ]
  },
  {
   "cell_type": "code",
   "execution_count": null,
   "id": "53aae06d",
   "metadata": {},
   "outputs": [],
   "source": [
    "# Input a number from the user\n",
    "num = int(input(\"Enter a number: \"))\n",
    "\n",
    "# Check if it's a prime number\n",
    "if num > 1:\n",
    "    for i in range(2, int(num**0.5) + 1):\n",
    "        if (num % i) == 0:\n",
    "            print(num, \"is not a prime number.\")\n",
    "            break\n",
    "    else:\n",
    "        print(num, \"is a prime number.\")\n",
    "else:\n",
    "    print(num, \"is not a prime number.\")\n"
   ]
  },
  {
   "cell_type": "raw",
   "id": "f7f16480",
   "metadata": {},
   "source": [
    "5.\tWrite a Python Program to Print all Prime Numbers in an Interval of 1-10000?"
   ]
  },
  {
   "cell_type": "code",
   "execution_count": null,
   "id": "d63ddcd7",
   "metadata": {},
   "outputs": [],
   "source": [
    "# Function to check if a number is prime\n",
    "def is_prime(num):\n",
    "    if num <= 1:\n",
    "        return False\n",
    "    if num <= 3:\n",
    "        return True\n",
    "    if num % 2 == 0 or num % 3 == 0:\n",
    "        return False\n",
    "    i = 5\n",
    "    while i * i <= num:\n",
    "        if num % i == 0 or num % (i + 2) == 0:\n",
    "            return False\n",
    "        i += 6\n",
    "    return True\n",
    "\n",
    "# Find and print prime numbers in the interval [1, 10000]\n",
    "print(\"Prime numbers in the interval [1, 10000]:\")\n",
    "for number in range(1, 10001):\n",
    "    if is_prime(number):\n",
    "        print(number, end=' ')\n"
   ]
  },
  {
   "cell_type": "raw",
   "id": "985287aa",
   "metadata": {},
   "source": [
    "1.\tWrite a Python Program to Check if a Number is Positive, Negative or Zero?"
   ]
  },
  {
   "cell_type": "code",
   "execution_count": null,
   "id": "9277e74d",
   "metadata": {},
   "outputs": [],
   "source": [
    "# Input a number from the user\n",
    "number = float(input(\"Enter a number: \"))\n",
    "\n",
    "# Check if the number is positive, negative, or zero\n",
    "if number > 0:\n",
    "    print(\"The number is positive.\")\n",
    "elif number < 0:\n",
    "    print(\"The number is negative.\")\n",
    "else:\n",
    "    print(\"The number is zero.\")\n"
   ]
  },
  {
   "cell_type": "raw",
   "id": "b9c1297e",
   "metadata": {},
   "source": [
    "2.\tWrite a Python Program to Check if a Number is Odd or Even?"
   ]
  },
  {
   "cell_type": "code",
   "execution_count": null,
   "id": "6264db98",
   "metadata": {},
   "outputs": [],
   "source": [
    "# Input a number from the user\n",
    "number = int(input(\"Enter a number: \"))\n",
    "\n",
    "# Check if the number is odd or even\n",
    "if number % 2 == 0:\n",
    "    print(\"The number is even.\")\n",
    "else:\n",
    "    print(\"The number is odd.\")\n"
   ]
  },
  {
   "cell_type": "raw",
   "id": "89fbd22c",
   "metadata": {},
   "source": [
    "3.\tWrite a Python Program to Check Leap Year?"
   ]
  },
  {
   "cell_type": "code",
   "execution_count": null,
   "id": "3cc467e0",
   "metadata": {},
   "outputs": [],
   "source": [
    "# Input a year from the user\n",
    "year = int(input(\"Enter a year: \"))\n",
    "\n",
    "# Check if it's a leap year\n",
    "if (year % 4 == 0 and year % 100 != 0) or (year % 400 == 0):\n",
    "    print(year, \"is a leap year.\")\n",
    "else:\n",
    "    print(year, \"is not a leap year.\")\n"
   ]
  },
  {
   "cell_type": "raw",
   "id": "b7f8c421",
   "metadata": {},
   "source": [
    "4.\tWrite a Python Program to Check Prime Number?"
   ]
  },
  {
   "cell_type": "code",
   "execution_count": null,
   "id": "bd211844",
   "metadata": {},
   "outputs": [],
   "source": [
    "# Input a number from the user\n",
    "num = int(input(\"Enter a number: \"))\n",
    "\n",
    "# Check if it's a prime number\n",
    "if num > 1:\n",
    "    for i in range(2, int(num**0.5) + 1):\n",
    "        if (num % i) == 0:\n",
    "            print(num, \"is not a prime number.\")\n",
    "            break\n",
    "    else:\n",
    "        print(num, \"is a prime number.\")\n",
    "else:\n",
    "    print(num, \"is not a prime number.\")\n"
   ]
  },
  {
   "cell_type": "raw",
   "id": "eab8172f",
   "metadata": {},
   "source": [
    "5.\tWrite a Python Program to Print all Prime Numbers in an Interval of 1-10000?"
   ]
  },
  {
   "cell_type": "code",
   "execution_count": null,
   "id": "394e6030",
   "metadata": {},
   "outputs": [],
   "source": [
    "# Function to check if a number is prime\n",
    "def is_prime(num):\n",
    "    if num <= 1:\n",
    "        return False\n",
    "    if num <= 3:\n",
    "        return True\n",
    "    if num % 2 == 0 or num % 3 == 0:\n",
    "        return False\n",
    "    i = 5\n",
    "    while i * i <= num:\n",
    "        if num % i == 0 or num % (i + 2) == 0:\n",
    "            return False\n",
    "        i += 6\n",
    "    return True\n",
    "\n",
    "# Find and print prime numbers in the interval [1, 10000]\n",
    "print(\"Prime numbers in the interval [1, 10000]:\")\n",
    "for number in range(1, 10001):\n",
    "    if is_prime(number):\n",
    "        print(number, end=' ')\n"
   ]
  },
  {
   "cell_type": "raw",
   "id": "056bcf95",
   "metadata": {},
   "source": [
    "1.\tWrite a Python Program to Find the Factorial of a Number?"
   ]
  },
  {
   "cell_type": "code",
   "execution_count": null,
   "id": "3be30f69",
   "metadata": {},
   "outputs": [],
   "source": [
    "# Function to calculate the factorial of a number\n",
    "def factorial(n):\n",
    "    if n < 0:\n",
    "        return \"Factorial is not defined for negative numbers\"\n",
    "    elif n == 0:\n",
    "        return 1\n",
    "    else:\n",
    "        result = 1\n",
    "        for i in range(1, n + 1):\n",
    "            result *= i\n",
    "        return result\n",
    "\n",
    "# Input: Get the number from the user\n",
    "num = int(input(\"Enter a number: \"))\n",
    "\n",
    "# Calculate and print the factorial\n",
    "fact = factorial(num)\n",
    "if isinstance(fact, int):\n",
    "    print(f\"The factorial of {num} is {fact}\")\n",
    "else:\n",
    "    print(fact)\n"
   ]
  },
  {
   "cell_type": "raw",
   "id": "570a3385",
   "metadata": {},
   "source": [
    "2.\tWrite a Python Program to Display the multiplication Table?"
   ]
  },
  {
   "cell_type": "code",
   "execution_count": null,
   "id": "f251035f",
   "metadata": {},
   "outputs": [],
   "source": [
    "# Function to display the multiplication table\n",
    "def multiplication_table(num):\n",
    "    print(f\"Multiplication Table for {num}:\")\n",
    "    for i in range(1, 11):\n",
    "        result = num * i\n",
    "        print(f\"{num} x {i} = {result}\")\n",
    "\n",
    "# Input: Get the number from the user\n",
    "num = int(input(\"Enter a number to display its multiplication table: \"))\n",
    "\n",
    "# Call the multiplication_table function\n",
    "multiplication_table(num)\n"
   ]
  },
  {
   "cell_type": "raw",
   "id": "6d042fa4",
   "metadata": {},
   "source": [
    "3.\tWrite a Python Program to Print the Fibonacci sequence?"
   ]
  },
  {
   "cell_type": "code",
   "execution_count": null,
   "id": "db8a3aa7",
   "metadata": {},
   "outputs": [],
   "source": [
    "# Function to generate the Fibonacci sequence\n",
    "def fibonacci_sequence(n):\n",
    "    fib_seq = []\n",
    "    a, b = 0, 1\n",
    "    for _ in range(n):\n",
    "        fib_seq.append(a)\n",
    "        a, b = b, a + b\n",
    "    return fib_seq\n",
    "\n",
    "# Input: Get the number of terms from the user\n",
    "n = int(input(\"Enter the number of terms in the Fibonacci sequence: \"))\n",
    "\n",
    "# Call the fibonacci_sequence function\n",
    "fib_seq = fibonacci_sequence(n)\n",
    "\n",
    "# Print the Fibonacci sequence\n",
    "print(\"Fibonacci Sequence:\")\n",
    "print(fib_seq)\n"
   ]
  },
  {
   "cell_type": "raw",
   "id": "5efa562c",
   "metadata": {},
   "source": [
    "4.\tWrite a Python Program to Check Armstrong Number?"
   ]
  },
  {
   "cell_type": "code",
   "execution_count": null,
   "id": "8e31d32f",
   "metadata": {},
   "outputs": [],
   "source": [
    "# Function to check if a number is an Armstrong number\n",
    "def is_armstrong(number):\n",
    "    # Convert the number to a string to count the digits\n",
    "    num_str = str(number)\n",
    "    # Calculate the number of digits\n",
    "    num_digits = len(num_str)\n",
    "    \n",
    "    # Calculate the sum of digits raised to the power of num_digits\n",
    "    sum_of_digits = sum(int(digit) ** num_digits for digit in num_str)\n",
    "    \n",
    "    # Check if the sum of digits is equal to the original number\n",
    "    return sum_of_digits == number\n",
    "\n",
    "# Input: Get the number from the user\n",
    "number = int(input(\"Enter a number: \"))\n",
    "\n",
    "# Check if the number is an Armstrong number\n",
    "if is_armstrong(number):\n",
    "    print(f\"{number} is an Armstrong number.\")\n",
    "else:\n",
    "    print(f\"{number} is not an Armstrong number.\")\n"
   ]
  },
  {
   "cell_type": "raw",
   "id": "0719472f",
   "metadata": {},
   "source": [
    "5.\tWrite a Python Program to Find Armstrong Number in an Interval?"
   ]
  },
  {
   "cell_type": "code",
   "execution_count": null,
   "id": "3a589b77",
   "metadata": {},
   "outputs": [],
   "source": [
    "# Function to check if a number is an Armstrong number\n",
    "def is_armstrong(number):\n",
    "    # Convert the number to a string to count the digits\n",
    "    num_str = str(number)\n",
    "    # Calculate the number of digits\n",
    "    num_digits = len(num_str)\n",
    "    \n",
    "    # Calculate the sum of digits raised to the power of num_digits\n",
    "    sum_of_digits = sum(int(digit) ** num_digits for digit in num_str)\n",
    "    \n",
    "    # Check if the sum of digits is equal to the original number\n",
    "    return sum_of_digits == number\n",
    "\n",
    "# Input: Get the lower and upper bounds of the interval from the user\n",
    "lower_bound = int(input(\"Enter the lower bound of the interval: \"))\n",
    "upper_bound = int(input(\"Enter the upper bound of the interval: \"))\n",
    "\n",
    "# Find and print Armstrong numbers within the given interval\n",
    "print(f\"Armstrong numbers in the interval [{lower_bound}, {upper_bound}]:\")\n",
    "for number in range(lower_bound, upper_bound + 1):\n",
    "    if is_armstrong(number):\n",
    "        print(number)\n"
   ]
  },
  {
   "cell_type": "raw",
   "id": "4b07a8fb",
   "metadata": {},
   "source": [
    "6.\tWrite a Python Program to Find the Sum of Natural Numbers?"
   ]
  },
  {
   "cell_type": "code",
   "execution_count": null,
   "id": "9cfb719d",
   "metadata": {},
   "outputs": [],
   "source": [
    "# Input: Get the positive integer from the user\n",
    "n = int(input(\"Enter a positive integer: \"))\n",
    "\n",
    "# Initialize a variable to store the sum\n",
    "sum_of_numbers = 0\n",
    "\n",
    "# Check if the input is a positive integer\n",
    "if n <= 0:\n",
    "    print(\"Please enter a positive integer.\")\n",
    "else:\n",
    "    # Calculate the sum of natural numbers up to n\n",
    "    for i in range(1, n + 1):\n",
    "        sum_of_numbers += i\n",
    "\n",
    "    # Print the result\n",
    "    print(f\"The sum of natural numbers up to {n} is: {sum_of_numbers}\")\n"
   ]
  },
  {
   "cell_type": "raw",
   "id": "fd700d47",
   "metadata": {},
   "source": [
    "1.\tWrite a Python Program to Find LCM?"
   ]
  },
  {
   "cell_type": "code",
   "execution_count": null,
   "id": "b1ced51b",
   "metadata": {},
   "outputs": [],
   "source": [
    "# Function to find the greatest common divisor (GCD) using Euclidean algorithm\n",
    "def gcd(a, b):\n",
    "    while b:\n",
    "        a, b = b, a % b\n",
    "    return a\n",
    "\n",
    "# Function to find the LCM\n",
    "def lcm(a, b):\n",
    "    return (a * b) // gcd(a, b)\n",
    "\n",
    "# Input: Get two positive integers from the user\n",
    "a = int(input(\"Enter the first positive integer: \"))\n",
    "b = int(input(\"Enter the second positive integer: \"))\n",
    "\n",
    "# Check if both inputs are positive integers\n",
    "if a <= 0 or b <= 0:\n",
    "    print(\"Please enter positive integers.\")\n",
    "else:\n",
    "    # Calculate and print the LCM\n",
    "    result = lcm(a, b)\n",
    "    print(f\"The LCM of {a} and {b} is: {result}\")\n"
   ]
  },
  {
   "cell_type": "raw",
   "id": "247bc97d",
   "metadata": {},
   "source": [
    "2.\tWrite a Python Program to Find HCF?"
   ]
  },
  {
   "cell_type": "code",
   "execution_count": null,
   "id": "36b75b27",
   "metadata": {},
   "outputs": [],
   "source": [
    "# Function to find the greatest common divisor (GCD) using Euclidean algorithm\n",
    "def gcd(a, b):\n",
    "    while b:\n",
    "        a, b = b, a % b\n",
    "    return a\n",
    "\n",
    "# Input: Get two positive integers from the user\n",
    "a = int(input(\"Enter the first positive integer: \"))\n",
    "b = int(input(\"Enter the second positive integer: \"))\n",
    "\n",
    "# Check if both inputs are positive integers\n",
    "if a <= 0 or b <= 0:\n",
    "    print(\"Please enter positive integers.\")\n",
    "else:\n",
    "    # Calculate and print the HCF (GCD)\n",
    "    result = gcd(a, b)\n",
    "    print(f\"The HCF of {a} and {b} is: {result}\")\n"
   ]
  },
  {
   "cell_type": "raw",
   "id": "f9275052",
   "metadata": {},
   "source": [
    "3.\tWrite a Python Program to Convert Decimal to Binary, Octal and Hexadecimal?"
   ]
  },
  {
   "cell_type": "code",
   "execution_count": null,
   "id": "5b27973a",
   "metadata": {},
   "outputs": [],
   "source": [
    "# Input: Get a decimal number from the user\n",
    "decimal_number = int(input(\"Enter a decimal number: \"))\n",
    "\n",
    "# Convert to binary, octal, and hexadecimal\n",
    "binary_number = bin(decimal_number)\n",
    "octal_number = oct(decimal_number)\n",
    "hexadecimal_number = hex(decimal_number)\n",
    "\n",
    "# Remove the \"0b\" prefix from the binary representation\n",
    "binary_number = binary_number[2:]\n",
    "\n",
    "# Display the results\n",
    "print(f\"Binary: {binary_number}\")\n",
    "print(f\"Octal: {octal_number}\")\n",
    "print(f\"Hexadecimal: {hexadecimal_number}\")\n"
   ]
  },
  {
   "cell_type": "raw",
   "id": "1d174245",
   "metadata": {},
   "source": [
    "4.\tWrite a Python Program To Find ASCII value of a character?"
   ]
  },
  {
   "cell_type": "code",
   "execution_count": null,
   "id": "2fe009d8",
   "metadata": {},
   "outputs": [],
   "source": [
    "# Input: Get a character from the user\n",
    "char = input(\"Enter a character: \")\n",
    "\n",
    "# Use the ord() function to find the ASCII value\n",
    "ascii_value = ord(char)\n",
    "\n",
    "# Display the ASCII value\n",
    "print(f\"The ASCII value of '{char}' is {ascii_value}\")\n"
   ]
  },
  {
   "cell_type": "raw",
   "id": "ceca2020",
   "metadata": {},
   "source": [
    "5.\tWrite a Python Program to Make a Simple Calculator with 4 basic mathematical operations?"
   ]
  },
  {
   "cell_type": "code",
   "execution_count": null,
   "id": "39e5ef13",
   "metadata": {},
   "outputs": [],
   "source": [
    "# Function to perform addition\n",
    "def add(x, y):\n",
    "    return x + y\n",
    "\n",
    "# Function to perform subtraction\n",
    "def subtract(x, y):\n",
    "    return x - y\n",
    "\n",
    "# Function to perform multiplication\n",
    "def multiply(x, y):\n",
    "    return x * y\n",
    "\n",
    "# Function to perform division\n",
    "def divide(x, y):\n",
    "    if y == 0:\n",
    "        return \"Cannot divide by zero\"\n",
    "    return x / y\n",
    "\n",
    "# Main calculator loop\n",
    "while True:\n",
    "    print(\"Options:\")\n",
    "    print(\"Enter 'add' for addition\")\n",
    "    print(\"Enter 'subtract' for subtraction\")\n",
    "    print(\"Enter 'multiply' for multiplication\")\n",
    "    print(\"Enter 'divide' for division\")\n",
    "    print(\"Enter 'quit' to end the program\")\n",
    "    \n",
    "    user_input = input(\": \")\n",
    "    \n",
    "    if user_input == \"quit\":\n",
    "        break\n",
    "    elif user_input in (\"add\", \"subtract\", \"multiply\", \"divide\"):\n",
    "        num1 = float(input(\"Enter first number: \"))\n",
    "        num2 = float(input(\"Enter second number: \"))\n",
    "        \n",
    "        if user_input == \"add\":\n",
    "            print(\"Result:\", add(num1, num2))\n",
    "        elif user_input == \"subtract\":\n",
    "            print(\"Result:\", subtract(num1, num2))\n",
    "        elif user_input == \"multiply\":\n",
    "            print(\"Result:\", multiply(num1, num2))\n",
    "        elif user_input == \"divide\":\n",
    "            print(\"Result:\", divide(num1, num2))\n",
    "    else:\n",
    "        print(\"Invalid input\")\n"
   ]
  },
  {
   "cell_type": "raw",
   "id": "c01be51d",
   "metadata": {},
   "source": [
    "1.\tWrite a Python Program to Display Fibonacci Sequence Using Recursion?"
   ]
  },
  {
   "cell_type": "code",
   "execution_count": null,
   "id": "f97e2d18",
   "metadata": {},
   "outputs": [],
   "source": [
    "# Function to generate Fibonacci sequence using recursion\n",
    "def fibonacci(n):\n",
    "    if n <= 0:\n",
    "        return []\n",
    "    elif n == 1:\n",
    "        return [0]\n",
    "    elif n == 2:\n",
    "        return [0, 1]\n",
    "    else:\n",
    "        fib_sequence = fibonacci(n - 1)\n",
    "        fib_sequence.append(fib_sequence[-1] + fib_sequence[-2])\n",
    "        return fib_sequence\n",
    "\n",
    "# Input the number of terms you want to display\n",
    "n = int(input(\"Enter the number of Fibonacci terms to generate: \"))\n",
    "\n",
    "if n <= 0:\n",
    "    print(\"Invalid input. Please enter a positive integer.\")\n",
    "else:\n",
    "    result = fibonacci(n)\n",
    "    print(\"Fibonacci Sequence:\")\n",
    "    print(result)\n"
   ]
  },
  {
   "cell_type": "raw",
   "id": "a5cb589e",
   "metadata": {},
   "source": [
    "2.\tWrite a Python Program to Find Factorial of Number Using Recursion?"
   ]
  },
  {
   "cell_type": "code",
   "execution_count": null,
   "id": "b459253a",
   "metadata": {},
   "outputs": [],
   "source": [
    "# Function to calculate factorial using recursion\n",
    "def factorial(n):\n",
    "    if n == 0:\n",
    "        return 1\n",
    "    else:\n",
    "        return n * factorial(n - 1)\n",
    "\n",
    "# Input the number for which you want to find the factorial\n",
    "num = int(input(\"Enter a non-negative integer: \"))\n",
    "\n",
    "if num < 0:\n",
    "    print(\"Factorial is not defined for negative numbers.\")\n",
    "else:\n",
    "    result = factorial(num)\n",
    "    print(f\"The factorial of {num} is {result}\")\n"
   ]
  },
  {
   "cell_type": "raw",
   "id": "e0021936",
   "metadata": {},
   "source": [
    "3.\tWrite a Python Program to calculate your Body Mass Index?"
   ]
  },
  {
   "cell_type": "code",
   "execution_count": null,
   "id": "41ddc2fc",
   "metadata": {},
   "outputs": [],
   "source": [
    "# Function to calculate BMI\n",
    "def calculate_bmi(weight_kg, height_m):\n",
    "    return weight_kg / (height_m ** 2)\n",
    "\n",
    "# Input weight and height from the user\n",
    "weight_kg = float(input(\"Enter your weight in kilograms: \"))\n",
    "height_m = float(input(\"Enter your height in meters: \"))\n",
    "\n",
    "# Calculate BMI\n",
    "bmi = calculate_bmi(weight_kg, height_m)\n",
    "\n",
    "# Display the result\n",
    "print(f\"Your Body Mass Index (BMI) is: {bmi:.2f}\")\n",
    "\n",
    "# Interpret the BMI\n",
    "if bmi < 18.5:\n",
    "    print(\"You are underweight.\")\n",
    "elif 18.5 <= bmi < 24.9:\n",
    "    print(\"Your weight is normal.\")\n",
    "elif 25 <= bmi < 29.9:\n",
    "    print(\"You are overweight.\")\n",
    "else:\n",
    "    print(\"You are obese.\")\n"
   ]
  },
  {
   "cell_type": "raw",
   "id": "b924e360",
   "metadata": {},
   "source": [
    "4.\tWrite a Python Program to calculate the natural logarithm of any number?"
   ]
  },
  {
   "cell_type": "code",
   "execution_count": null,
   "id": "6cc93757",
   "metadata": {},
   "outputs": [],
   "source": [
    "import math\n",
    "\n",
    "# Input a number from the user\n",
    "number = float(input(\"Enter a number: \"))\n",
    "\n",
    "# Calculate the natural logarithm\n",
    "result = math.log(number)\n",
    "\n",
    "# Display the result\n",
    "print(f\"The natural logarithm of {number} is {result:.4f}\")\n"
   ]
  },
  {
   "cell_type": "raw",
   "id": "efff31c3",
   "metadata": {},
   "source": [
    "5.\tWrite a Python Program for cube sum of first n natural numbers?"
   ]
  },
  {
   "cell_type": "code",
   "execution_count": null,
   "id": "f0012a5e",
   "metadata": {},
   "outputs": [],
   "source": [
    "# Input the value of n\n",
    "n = int(input(\"Enter the value of n: \"))\n",
    "\n",
    "# Initialize the sum to 0\n",
    "cube_sum = 0\n",
    "\n",
    "# Calculate the cube sum of the first n natural numbers\n",
    "for i in range(1, n + 1):\n",
    "    cube_sum += i ** 3\n",
    "\n",
    "# Display the cube sum\n",
    "print(f\"The cube sum of the first {n} natural numbers is {cube_sum}\")\n"
   ]
  },
  {
   "cell_type": "raw",
   "id": "1f01da1d",
   "metadata": {},
   "source": [
    "1.\tWrite a Python Program to find sum of array?"
   ]
  },
  {
   "cell_type": "code",
   "execution_count": null,
   "id": "4ac68a50",
   "metadata": {},
   "outputs": [],
   "source": [
    "# Input the array of numbers\n",
    "arr = [int(x) for x in input(\"Enter the array of numbers separated by spaces: \").split()]\n",
    "\n",
    "# Initialize the sum to 0\n",
    "array_sum = 0\n",
    "\n",
    "# Calculate the sum of the array\n",
    "for num in arr:\n",
    "    array_sum += num\n",
    "\n",
    "# Display the sum\n",
    "print(f\"The sum of the array is: {array_sum}\")\n"
   ]
  },
  {
   "cell_type": "raw",
   "id": "2a6e78f8",
   "metadata": {},
   "source": [
    "2.\tWrite a Python Program to find largest element in an array?"
   ]
  },
  {
   "cell_type": "code",
   "execution_count": null,
   "id": "14307bb1",
   "metadata": {},
   "outputs": [],
   "source": [
    "# Input the array of numbers\n",
    "arr = [int(x) for x in input(\"Enter the array of numbers separated by spaces: \").split()]\n",
    "\n",
    "# Initialize the maximum value to the first element of the array\n",
    "max_value = arr[0]\n",
    "\n",
    "# Iterate through the array to find the maximum value\n",
    "for num in arr:\n",
    "    if num > max_value:\n",
    "        max_value = num\n",
    "\n",
    "# Display the largest element\n",
    "print(f\"The largest element in the array is: {max_value}\")\n"
   ]
  },
  {
   "cell_type": "raw",
   "id": "7db0f62c",
   "metadata": {},
   "source": [
    "3.\tWrite a Python Program for array rotation?"
   ]
  },
  {
   "cell_type": "code",
   "execution_count": null,
   "id": "da8689f7",
   "metadata": {},
   "outputs": [],
   "source": [
    "def rotate_left(arr, n):\n",
    "    # Calculate the length of the array\n",
    "    length = len(arr)\n",
    "    \n",
    "    # Ensure n is within a valid range\n",
    "    n = n % length\n",
    "    \n",
    "    # Slice the array to perform rotation\n",
    "    rotated = arr[n:] + arr[:n]\n",
    "    \n",
    "    return rotated\n",
    "\n",
    "# Input the array of numbers\n",
    "arr = [int(x) for x in input(\"Enter the array of numbers separated by spaces: \").split()]\n",
    "\n",
    "# Input the number of positions to rotate\n",
    "n = int(input(\"Enter the number of positions to rotate left: \"))\n",
    "\n",
    "# Perform the left rotation\n",
    "rotated_arr = rotate_left(arr, n)\n",
    "\n",
    "# Display the rotated array\n",
    "print(\"Rotated Array:\", rotated_arr)\n"
   ]
  },
  {
   "cell_type": "raw",
   "id": "2a95edcc",
   "metadata": {},
   "source": [
    "4.\tWrite a Python Program to Split the array and add the first part to the end?"
   ]
  },
  {
   "cell_type": "code",
   "execution_count": null,
   "id": "a0e7d9fd",
   "metadata": {},
   "outputs": [],
   "source": [
    "def split_and_rotate(arr, n):\n",
    "    # Check if the array can be split\n",
    "    if len(arr) < 2:\n",
    "        return arr\n",
    "\n",
    "    # Ensure n is within a valid range\n",
    "    n = n % len(arr)\n",
    "\n",
    "    # Split the array into two parts\n",
    "    first_part = arr[:n]\n",
    "    second_part = arr[n:]\n",
    "\n",
    "    # Add the first part to the end of the second part\n",
    "    rotated_arr = second_part + first_part\n",
    "\n",
    "    return rotated_arr\n",
    "\n",
    "# Input the array of numbers\n",
    "arr = [int(x) for x in input(\"Enter the array of numbers separated by spaces: \").split()]\n",
    "\n",
    "# Input the number of positions to split and rotate\n",
    "n = int(input(\"Enter the number of positions to split and rotate: \"))\n",
    "\n",
    "# Perform the split and rotate operation\n",
    "rotated_arr = split_and_rotate(arr, n)\n",
    "\n",
    "# Display the rotated array\n",
    "print(\"Rotated Array:\", rotated_arr)\n"
   ]
  },
  {
   "cell_type": "raw",
   "id": "6e910ecf",
   "metadata": {},
   "source": [
    "5.\tWrite a Python Program to check if given array is Monotonic?"
   ]
  },
  {
   "cell_type": "code",
   "execution_count": null,
   "id": "c7cdb03f",
   "metadata": {},
   "outputs": [],
   "source": [
    "def is_monotonic(arr):\n",
    "    increasing = decreasing = True\n",
    "\n",
    "    for i in range(1, len(arr)):\n",
    "        if arr[i] > arr[i - 1]:\n",
    "            decreasing = False\n",
    "        elif arr[i] < arr[i - 1]:\n",
    "            increasing = False\n",
    "\n",
    "    return increasing or decreasing\n",
    "\n",
    "# Input the array of numbers\n",
    "arr = [int(x) for x in input(\"Enter the array of numbers separated by spaces: \").split()]\n",
    "\n",
    "# Check if the array is monotonic\n",
    "if is_monotonic(arr):\n",
    "    print(\"The array is monotonic.\")\n",
    "else:\n",
    "    print(\"The array is not monotonic.\")\n"
   ]
  },
  {
   "cell_type": "raw",
   "id": "9ac4b7b4",
   "metadata": {},
   "source": [
    "1.\tWrite a Python Program to Add Two Matrices?"
   ]
  },
  {
   "cell_type": "code",
   "execution_count": null,
   "id": "e028b4ac",
   "metadata": {},
   "outputs": [],
   "source": [
    "def add_matrices(matrix1, matrix2):\n",
    "    # Check if the matrices have the same dimensions\n",
    "    if len(matrix1) != len(matrix2) or len(matrix1[0]) != len(matrix2[0]):\n",
    "        return \"Matrices must have the same dimensions for addition.\"\n",
    "\n",
    "    # Initialize a result matrix with zeros of the same dimensions\n",
    "    result = [[0 for _ in range(len(matrix1[0]))] for _ in range(len(matrix1))]\n",
    "\n",
    "    # Perform matrix addition\n",
    "    for i in range(len(matrix1)):\n",
    "        for j in range(len(matrix1[0])):\n",
    "            result[i][j] = matrix1[i][j] + matrix2[i][j]\n",
    "\n",
    "    return result\n",
    "\n",
    "# Input matrices\n",
    "matrix1 = [\n",
    "    [1, 2, 3],\n",
    "    [4, 5, 6],\n",
    "    [7, 8, 9]\n",
    "]\n",
    "\n",
    "matrix2 = [\n",
    "    [9, 8, 7],\n",
    "    [6, 5, 4],\n",
    "    [3, 2, 1]\n",
    "]\n",
    "\n",
    "# Add the matrices\n",
    "result_matrix = add_matrices(matrix1, matrix2)\n",
    "\n",
    "# Display the result\n",
    "if isinstance(result_matrix, str):\n",
    "    print(result_matrix)\n",
    "else:\n",
    "    print(\"Resultant Matrix:\")\n",
    "    for row in result_matrix:\n",
    "        print(row)\n"
   ]
  },
  {
   "cell_type": "raw",
   "id": "5a6b14a0",
   "metadata": {},
   "source": [
    "2.\tWrite a Python Program to Multiply Two Matrices?"
   ]
  },
  {
   "cell_type": "code",
   "execution_count": null,
   "id": "2824bab7",
   "metadata": {},
   "outputs": [],
   "source": [
    "def multiply_matrices(matrix1, matrix2):\n",
    "    # Check if matrices can be multiplied\n",
    "    if len(matrix1[0]) != len(matrix2):\n",
    "        return \"Matrices cannot be multiplied. Number of columns in the first matrix must be equal to the number of rows in the second matrix.\"\n",
    "\n",
    "    # Initialize a result matrix with zeros\n",
    "    result = [[0 for _ in range(len(matrix2[0]))] for _ in range(len(matrix1))]\n",
    "\n",
    "    # Perform matrix multiplication\n",
    "    for i in range(len(matrix1)):\n",
    "        for j in range(len(matrix2[0])):\n",
    "            for k in range(len(matrix2)):\n",
    "                result[i][j] += matrix1[i][k] * matrix2[k][j]\n",
    "\n",
    "    return result\n",
    "\n",
    "# Input matrices\n",
    "matrix1 = [\n",
    "    [1, 2, 3],\n",
    "    [4, 5, 6]\n",
    "]\n",
    "\n",
    "matrix2 = [\n",
    "    [7, 8],\n",
    "    [9, 10],\n",
    "    [11, 12]\n",
    "]\n",
    "\n",
    "# Multiply the matrices\n",
    "result_matrix = multiply_matrices(matrix1, matrix2)\n",
    "\n",
    "# Display the result\n",
    "if isinstance(result_matrix, str):\n",
    "    print(result_matrix)\n",
    "else:\n",
    "    print(\"Resultant Matrix:\")\n",
    "    for row in result_matrix:\n",
    "        print(row)\n"
   ]
  },
  {
   "cell_type": "raw",
   "id": "3ad9555a",
   "metadata": {},
   "source": [
    "3.\tWrite a Python Program to Transpose a Matrix?"
   ]
  },
  {
   "cell_type": "code",
   "execution_count": null,
   "id": "6a37844b",
   "metadata": {},
   "outputs": [],
   "source": [
    "def transpose_matrix(matrix):\n",
    "    # Use nested list comprehension to transpose the matrix\n",
    "    transpose = [[matrix[j][i] for j in range(len(matrix))] for i in range(len(matrix[0]))]\n",
    "    return transpose\n",
    "\n",
    "# Input matrix\n",
    "matrix = [\n",
    "    [1, 2, 3],\n",
    "    [4, 5, 6]\n",
    "]\n",
    "\n",
    "# Transpose the matrix\n",
    "transposed_matrix = transpose_matrix(matrix)\n",
    "\n",
    "# Display the transposed matrix\n",
    "print(\"Original Matrix:\")\n",
    "for row in matrix:\n",
    "    print(row)\n",
    "\n",
    "print(\"\\nTransposed Matrix:\")\n",
    "for row in transposed_matrix:\n",
    "    print(row)\n"
   ]
  },
  {
   "cell_type": "raw",
   "id": "cf497d33",
   "metadata": {},
   "source": [
    "4.\tWrite a Python Program to Sort Words in Alphabetic Order?"
   ]
  },
  {
   "cell_type": "code",
   "execution_count": null,
   "id": "c50d11bd",
   "metadata": {},
   "outputs": [],
   "source": [
    "def sort_words_alphabetically(sentence):\n",
    "    # Split the sentence into words\n",
    "    words = sentence.split()\n",
    "\n",
    "    # Sort the words alphabetically\n",
    "    sorted_words = sorted(words)\n",
    "\n",
    "    # Join the sorted words to form a sorted sentence\n",
    "    sorted_sentence = ' '.join(sorted_words)\n",
    "\n",
    "    return sorted_sentence\n",
    "\n",
    "# Input sentence\n",
    "sentence = \"Python is a powerful and versatile programming language\"\n",
    "\n",
    "# Sort the words alphabetically\n",
    "sorted_sentence = sort_words_alphabetically(sentence)\n",
    "\n",
    "# Display the sorted sentence\n",
    "print(\"Original Sentence:\", sentence)\n",
    "print(\"Sorted Sentence:\", sorted_sentence)\n"
   ]
  },
  {
   "cell_type": "raw",
   "id": "ecd8f95c",
   "metadata": {},
   "source": [
    "5.\tWrite a Python Program to Remove Punctuation From a String?"
   ]
  },
  {
   "cell_type": "code",
   "execution_count": null,
   "id": "e6b4064a",
   "metadata": {},
   "outputs": [],
   "source": [
    "import string\n",
    "\n",
    "def remove_punctuation(input_string):\n",
    "    # Create a translation table to remove punctuation\n",
    "    translator = str.maketrans('', '', string.punctuation)\n",
    "\n",
    "    # Remove punctuation from the input string\n",
    "    clean_string = input_string.translate(translator)\n",
    "\n",
    "    return clean_string\n",
    "\n",
    "# Input string with punctuation\n",
    "input_string = \"Hello, World! This is an example of removing punctuation.\"\n",
    "\n",
    "# Remove punctuation from the string\n",
    "cleaned_string = remove_punctuation(input_string)\n",
    "\n",
    "# Display the cleaned string\n",
    "print(\"Original String:\", input_string)\n",
    "print(\"Cleaned String:\", cleaned_string)\n"
   ]
  },
  {
   "cell_type": "raw",
   "id": "d73cfd80",
   "metadata": {},
   "source": [
    "1.\tWrite a Python program to check if the given number is a Disarium Number?"
   ]
  },
  {
   "cell_type": "code",
   "execution_count": null,
   "id": "aae35901",
   "metadata": {},
   "outputs": [],
   "source": [
    "def is_disarium_number(number):\n",
    "    # Convert the number to a string to iterate through its digits\n",
    "    num_str = str(number)\n",
    "    length = len(num_str)\n",
    "    \n",
    "    # Calculate the sum of digits, each raised to the power of its position\n",
    "    total = sum(int(digit) ** (i + 1) for i, digit in enumerate(num_str))\n",
    "    \n",
    "    # Check if the total is equal to the original number\n",
    "    return total == number\n",
    "\n",
    "# Input a number to check\n",
    "num = int(input(\"Enter a number: \"))\n",
    "\n",
    "# Check if it's a Disarium number and print the result\n",
    "if is_disarium_number(num):\n",
    "    print(f\"{num} is a Disarium number.\")\n",
    "else:\n",
    "    print(f\"{num} is not a Disarium number.\")\n"
   ]
  },
  {
   "cell_type": "raw",
   "id": "700e5fd6",
   "metadata": {},
   "source": [
    "2.\tWrite a Python program to print all disarium numbers between 1 to 100?"
   ]
  },
  {
   "cell_type": "code",
   "execution_count": null,
   "id": "1a945cd2",
   "metadata": {},
   "outputs": [],
   "source": [
    "def is_disarium_number(number):\n",
    "    num_str = str(number)\n",
    "    length = len(num_str)\n",
    "    total = sum(int(digit) ** (i + 1) for i, digit in enumerate(num_str))\n",
    "    return total == number\n",
    "\n",
    "# Define the range of numbers to check\n",
    "start = 1\n",
    "end = 100\n",
    "\n",
    "print(\"Disarium numbers between 1 and 100:\")\n",
    "for num in range(start, end + 1):\n",
    "    if is_disarium_number(num):\n",
    "        print(num)\n"
   ]
  },
  {
   "cell_type": "raw",
   "id": "cc73bc72",
   "metadata": {},
   "source": [
    "3.\tWrite a Python program to check if the given number is Happy Number?"
   ]
  },
  {
   "cell_type": "code",
   "execution_count": null,
   "id": "9821e243",
   "metadata": {},
   "outputs": [],
   "source": [
    "def is_happy_number(num):\n",
    "    seen = set()\n",
    "    while num != 1 and num not in seen:\n",
    "        seen.add(num)\n",
    "        num = sum(int(digit) ** 2 for digit in str(num))\n",
    "    return num == 1\n",
    "\n",
    "# Input a number to check if it's a happy number\n",
    "number = int(input(\"Enter a number: \"))\n",
    "\n",
    "if is_happy_number(number):\n",
    "    print(f\"{number} is a happy number.\")\n",
    "else:\n",
    "    print(f\"{number} is not a happy number.\")\n"
   ]
  },
  {
   "cell_type": "raw",
   "id": "71de7dfe",
   "metadata": {},
   "source": [
    "4.\tWrite a Python program to print all happy numbers between 1 and 100?"
   ]
  },
  {
   "cell_type": "code",
   "execution_count": null,
   "id": "d454f3e6",
   "metadata": {},
   "outputs": [],
   "source": [
    "def is_happy_number(num):\n",
    "    seen = set()\n",
    "    while num != 1 and num not in seen:\n",
    "        seen.add(num)\n",
    "        num = sum(int(digit) ** 2 for digit in str(num))\n",
    "    return num == 1\n",
    "\n",
    "def find_happy_numbers_in_range(start, end):\n",
    "    happy_numbers = []\n",
    "    for number in range(start, end + 1):\n",
    "        if is_happy_number(number):\n",
    "            happy_numbers.append(number)\n",
    "    return happy_numbers\n",
    "\n",
    "# Define the range\n",
    "start_range = 1\n",
    "end_range = 100\n",
    "\n",
    "# Find and print happy numbers in the specified range\n",
    "happy_numbers = find_happy_numbers_in_range(start_range, end_range)\n",
    "print(\"Happy numbers between 1 and 100:\")\n",
    "print(happy_numbers)\n"
   ]
  },
  {
   "cell_type": "raw",
   "id": "d3add1b8",
   "metadata": {},
   "source": [
    "5.\tWrite a Python program to determine whether the given number is a Harshad Number?"
   ]
  },
  {
   "cell_type": "code",
   "execution_count": null,
   "id": "abd6427d",
   "metadata": {},
   "outputs": [],
   "source": [
    "def is_harshad_number(number):\n",
    "    # Convert the number to a string to work with individual digits\n",
    "    num_str = str(number)\n",
    "    \n",
    "    # Calculate the sum of the digits\n",
    "    digit_sum = sum(int(digit) for digit in num_str)\n",
    "    \n",
    "    # Check if the number is divisible by the sum of its digits\n",
    "    return number % digit_sum == 0\n",
    "\n",
    "# Input a number to check if it's a Harshad Number\n",
    "num = int(input(\"Enter a number: \"))\n",
    "\n",
    "if is_harshad_number(num):\n",
    "    print(f\"{num} is a Harshad Number.\")\n",
    "else:\n",
    "    print(f\"{num} is not a Harshad Number.\")\n"
   ]
  },
  {
   "cell_type": "raw",
   "id": "659126e2",
   "metadata": {},
   "source": [
    "6.\tWrite a Python program to print all pronic numbers between 1 and 100?"
   ]
  },
  {
   "cell_type": "code",
   "execution_count": null,
   "id": "901f3d60",
   "metadata": {},
   "outputs": [],
   "source": [
    "def generate_pronic_numbers(limit):\n",
    "    pronic_numbers = []\n",
    "    n = 1\n",
    "    \n",
    "    while n * (n + 1) <= limit:\n",
    "        pronic_numbers.append(n * (n + 1))\n",
    "        n += 1\n",
    "    \n",
    "    return pronic_numbers\n",
    "\n",
    "limit = 100\n",
    "pronic_numbers = generate_pronic_numbers(limit)\n",
    "\n",
    "print(f\"Pronic numbers between 1 and {limit}:\")\n",
    "print(pronic_numbers)\n"
   ]
  },
  {
   "cell_type": "raw",
   "id": "144e6e9a",
   "metadata": {},
   "source": [
    "1.\tWrite a Python program to find sum of elements in list?"
   ]
  },
  {
   "cell_type": "code",
   "execution_count": null,
   "id": "f8706397",
   "metadata": {},
   "outputs": [],
   "source": [
    "#1. Using a for loop\n",
    "\n",
    "# Sample list of numbers\n",
    "numbers = [1, 2, 3, 4, 5]\n",
    "\n",
    "# Initialize a variable to store the sum\n",
    "total_sum = 0\n",
    "\n",
    "# Iterate through the list and add each element to the sum\n",
    "for num in numbers:\n",
    "    total_sum += num\n",
    "\n",
    "# Print the sum\n",
    "print(\"The sum of elements in the list is:\", total_sum)"
   ]
  },
  {
   "cell_type": "code",
   "execution_count": null,
   "id": "479aa591",
   "metadata": {},
   "outputs": [],
   "source": [
    "# Using a sum() function\n",
    "\n",
    "# Sample list of numbers\n",
    "numbers = [1, 2, 3, 4, 5]\n",
    "\n",
    "# Use the sum() function to find the sum of elements in the list\n",
    "total_sum = sum(numbers)\n",
    "\n",
    "# Print the sum\n",
    "print(\"The sum of elements in the list is:\", total_sum)\n"
   ]
  },
  {
   "cell_type": "raw",
   "id": "3a4a2a37",
   "metadata": {},
   "source": [
    "2.\tWrite a Python program to  Multiply all numbers in the list?"
   ]
  },
  {
   "cell_type": "code",
   "execution_count": null,
   "id": "e9427221",
   "metadata": {},
   "outputs": [],
   "source": [
    "#Using a for loop:\n",
    "\n",
    "# Sample list of numbers\n",
    "numbers = [1, 2, 3, 4, 5]\n",
    "\n",
    "# Initialize a variable to store the product\n",
    "total_product = 1  # Initialize to 1 because multiplying by 0 would always result in 0\n",
    "\n",
    "# Iterate through the list and multiply each element to the product\n",
    "for num in numbers:\n",
    "    total_product *= num\n",
    "\n",
    "# Print the product\n",
    "print(\"The product of all numbers in the list is:\", total_product)\n"
   ]
  },
  {
   "cell_type": "code",
   "execution_count": null,
   "id": "7afef79f",
   "metadata": {},
   "outputs": [],
   "source": [
    "#Using the reduce() function (requires importing functools):\n",
    "\n",
    "\n",
    "from functools import reduce\n",
    "\n",
    "# Sample list of numbers\n",
    "numbers = [1, 2, 3, 4, 5]\n",
    "\n",
    "# Define a function to multiply two numbers\n",
    "def multiply(x, y):\n",
    "    return x * y\n",
    "\n",
    "# Use the reduce() function to multiply all elements in the list\n",
    "total_product = reduce(multiply, numbers)\n",
    "\n",
    "# Print the product\n",
    "print(\"The product of all numbers in the list is:\", total_product)\n"
   ]
  },
  {
   "cell_type": "raw",
   "id": "cca80678",
   "metadata": {},
   "source": [
    "3.\tWrite a Python program to find smallest number in a list?"
   ]
  },
  {
   "cell_type": "code",
   "execution_count": null,
   "id": "219961c0",
   "metadata": {},
   "outputs": [],
   "source": [
    "#Using a for loop\n",
    "\n",
    "# Sample list of numbers\n",
    "numbers = [5, 2, 9, 1, 8]\n",
    "\n",
    "# Initialize a variable to store the smallest number, starting with the first element\n",
    "smallest = numbers[0]\n",
    "\n",
    "# Iterate through the list to find the smallest number\n",
    "for num in numbers:\n",
    "    if num < smallest:\n",
    "        smallest = num\n",
    "\n",
    "# Print the smallest number\n",
    "print(\"The smallest number in the list is:\", smallest)\n"
   ]
  },
  {
   "cell_type": "code",
   "execution_count": null,
   "id": "a3bd992b",
   "metadata": {},
   "outputs": [],
   "source": [
    "#Using a min() function:\n",
    "\n",
    "# Sample list of numbers\n",
    "numbers = [5, 2, 9, 1, 8]\n",
    "\n",
    "# Use the min() function to find the smallest number in the list\n",
    "smallest = min(numbers)\n",
    "\n",
    "# Print the smallest number\n",
    "print(\"The smallest number in the list is:\", smallest)\n"
   ]
  },
  {
   "cell_type": "raw",
   "id": "c3d34d17",
   "metadata": {},
   "source": [
    "4.\tWrite a Python program to find largest number in a list?"
   ]
  },
  {
   "cell_type": "code",
   "execution_count": null,
   "id": "21f62663",
   "metadata": {},
   "outputs": [],
   "source": [
    "#Using a for loop\n",
    "\n",
    "# Sample list of numbers\n",
    "numbers = [5, 2, 9, 1, 8]\n",
    "\n",
    "# Initialize a variable to store the largest number, starting with the first element\n",
    "largest = numbers[0]\n",
    "\n",
    "# Iterate through the list to find the largest number\n",
    "for num in numbers:\n",
    "    if num > largest:\n",
    "        largest = num\n",
    "\n",
    "# Print the largest number\n",
    "print(\"The largest number in the list is:\", largest)\n"
   ]
  },
  {
   "cell_type": "code",
   "execution_count": null,
   "id": "34a6fcc7",
   "metadata": {},
   "outputs": [],
   "source": [
    "# Using a max() function\n",
    "\n",
    "# Sample list of numbers\n",
    "numbers = [5, 2, 9, 1, 8]\n",
    "\n",
    "# Use the max() function to find the largest number in the list\n",
    "largest = max(numbers)\n",
    "\n",
    "# Print the largest number\n",
    "print(\"The largest number in the list is:\", largest)\n"
   ]
  },
  {
   "cell_type": "raw",
   "id": "7e348d2f",
   "metadata": {},
   "source": [
    "5.\tWrite a Python program to find second largest number in a list?"
   ]
  },
  {
   "cell_type": "code",
   "execution_count": null,
   "id": "772c3416",
   "metadata": {},
   "outputs": [],
   "source": [
    "# Sample list of numbers\n",
    "numbers = [5, 2, 9, 1, 8]\n",
    "\n",
    "# Sort the list in ascending order\n",
    "sorted_numbers = sorted(numbers)\n",
    "\n",
    "# Check if there are at least two elements in the list\n",
    "if len(sorted_numbers) >= 2:\n",
    "    second_largest = sorted_numbers[-2]  # Get the second-to-last element\n",
    "    print(\"The second largest number in the list is:\", second_largest)\n",
    "else:\n",
    "    print(\"There is no second largest number in the list.\")\n"
   ]
  },
  {
   "cell_type": "code",
   "execution_count": null,
   "id": "fca1bd0f",
   "metadata": {},
   "outputs": [],
   "source": [
    "# Sample list of numbers\n",
    "numbers = [5, 2, 9, 1, 8]\n",
    "\n",
    "# Remove duplicates by converting the list to a set and then back to a list\n",
    "unique_numbers = list(set(numbers))\n",
    "\n",
    "# Check if there are at least two unique elements in the list\n",
    "if len(unique_numbers) >= 2:\n",
    "    # Sort the list in descending order\n",
    "    unique_numbers.sort(reverse=True)\n",
    "    \n",
    "    # The second largest number is at index 1 in the sorted list\n",
    "    second_largest = unique_numbers[1]\n",
    "    \n",
    "    print(\"The second largest number in the list is:\", second_largest)\n",
    "else:\n",
    "    print(\"There is no second largest number in the list.\")\n"
   ]
  },
  {
   "cell_type": "raw",
   "id": "bbdd325e",
   "metadata": {},
   "source": [
    "6. Write a Python program to find N largest elements from a list?"
   ]
  },
  {
   "cell_type": "code",
   "execution_count": null,
   "id": "6f1eb6ab",
   "metadata": {},
   "outputs": [],
   "source": [
    "import heapq\n",
    "\n",
    "# Sample list of numbers\n",
    "numbers = [5, 2, 9, 1, 8, 10, 7]\n",
    "\n",
    "# Specify the value of N\n",
    "N = 3  # Change this value to find a different number of largest elements\n",
    "\n",
    "# Use heapq to find the N largest elements\n",
    "n_largest_elements = heapq.nlargest(N, numbers)\n",
    "\n",
    "# Print the result\n",
    "if n_largest_elements:\n",
    "    print(f\"The {N} largest elements in the list are:\", n_largest_elements)\n",
    "else:\n",
    "    print(\"Invalid value of N. Please provide a positive integer greater than 0.\")\n"
   ]
  },
  {
   "cell_type": "code",
   "execution_count": null,
   "id": "b58cccfb",
   "metadata": {},
   "outputs": [],
   "source": [
    "# Sample list of numbers\n",
    "numbers = [5, 2, 9, 1, 8, 10, 7]\n",
    "\n",
    "# Specify the value of N\n",
    "N = 3  # Change this value to find a different number of largest elements\n",
    "\n",
    "# Use sorted() to find the N largest elements\n",
    "n_largest_elements = sorted(numbers, reverse=True)[:N]\n",
    "\n",
    "# Print the result\n",
    "if n_largest_elements:\n",
    "    print(f\"The {N} largest elements in the list are:\", n_largest_elements)\n",
    "else:\n",
    "    print(\"Invalid value of N. Please provide a positive integer greater than 0.\")\n"
   ]
  },
  {
   "cell_type": "raw",
   "id": "c0ace252",
   "metadata": {},
   "source": [
    "7. Write a Python program to print even numbers in a list?"
   ]
  },
  {
   "cell_type": "code",
   "execution_count": null,
   "id": "ad101c8d",
   "metadata": {},
   "outputs": [],
   "source": [
    "# Sample list of numbers\n",
    "numbers = [1, 2, 3, 4, 5, 6, 7, 8, 9, 10]\n",
    "\n",
    "# Iterate through the list and print even numbers\n",
    "print(\"Even numbers in the list:\")\n",
    "for num in numbers:\n",
    "    if num % 2 == 0:\n",
    "        print(num)\n",
    "\n",
    "        "
   ]
  },
  {
   "cell_type": "code",
   "execution_count": null,
   "id": "bd6a577d",
   "metadata": {},
   "outputs": [],
   "source": [
    "# Sample list of numbers\n",
    "numbers = [1, 2, 3, 4, 5, 6, 7, 8, 9, 10]\n",
    "\n",
    "# Use a list comprehension to filter even numbers\n",
    "even_numbers = [num for num in numbers if num % 2 == 0]\n",
    "\n",
    "# Print the even numbers\n",
    "print(\"Even numbers in the list:\", even_numbers)\n"
   ]
  },
  {
   "cell_type": "raw",
   "id": "b5f9b51e",
   "metadata": {},
   "source": [
    "8.\tWrite a Python program to print odd numbers in a List?"
   ]
  },
  {
   "cell_type": "code",
   "execution_count": null,
   "id": "91c0a7cf",
   "metadata": {},
   "outputs": [],
   "source": [
    "# Sample list of numbers\n",
    "numbers = [1, 2, 3, 4, 5, 6, 7, 8, 9, 10]\n",
    "\n",
    "# Iterate through the list and print odd numbers\n",
    "print(\"Odd numbers in the list:\")\n",
    "for num in numbers:\n",
    "    if num % 2 != 0:\n",
    "        print(num)\n"
   ]
  },
  {
   "cell_type": "code",
   "execution_count": null,
   "id": "fb880ecc",
   "metadata": {},
   "outputs": [],
   "source": [
    "# Sample list of numbers\n",
    "numbers = [1, 2, 3, 4, 5, 6, 7, 8, 9, 10]\n",
    "\n",
    "# Use a list comprehension to filter odd numbers\n",
    "odd_numbers = [num for num in numbers if num % 2 != 0]\n",
    "\n",
    "# Print the odd numbers\n",
    "print(\"Odd numbers in the list:\", odd_numbers)\n"
   ]
  },
  {
   "cell_type": "raw",
   "id": "ed9d40bc",
   "metadata": {},
   "source": [
    "9.\tWrite a Python program to Remove empty List from List?"
   ]
  },
  {
   "cell_type": "code",
   "execution_count": null,
   "id": "f1dd13c8",
   "metadata": {},
   "outputs": [],
   "source": [
    "# Sample list of lists\n",
    "list_of_lists = [[1, 2, 3], [], [4, 5], [], [6], []]\n",
    "\n",
    "# Use a list comprehension to remove empty lists\n",
    "non_empty_lists = [sublist for sublist in list_of_lists if sublist]\n",
    "\n",
    "# Print the result\n",
    "print(\"List after removing empty lists:\", non_empty_lists)\n"
   ]
  },
  {
   "cell_type": "raw",
   "id": "865caac8",
   "metadata": {},
   "source": [
    "10.\tWrite a Python program to Cloning or Copying a list?"
   ]
  },
  {
   "cell_type": "code",
   "execution_count": null,
   "id": "c59d0272",
   "metadata": {},
   "outputs": [],
   "source": [
    "# Original list\n",
    "original_list = [1, 2, 3, 4, 5]\n",
    "\n",
    "# Clone the list using the slice operator\n",
    "cloned_list = original_list[:]\n",
    "\n",
    "# Print the cloned list\n",
    "print(\"Cloned List:\", cloned_list)\n"
   ]
  },
  {
   "cell_type": "code",
   "execution_count": null,
   "id": "edceba6a",
   "metadata": {},
   "outputs": [],
   "source": [
    "# Original list\n",
    "original_list = [1, 2, 3, 4, 5]\n",
    "\n",
    "# Clone the list using the list() constructor\n",
    "cloned_list = list(original_list)\n",
    "\n",
    "# Print the cloned list\n",
    "print(\"Cloned List:\", cloned_list)\n"
   ]
  },
  {
   "cell_type": "code",
   "execution_count": null,
   "id": "8d3c64d6",
   "metadata": {},
   "outputs": [],
   "source": [
    "# Original list\n",
    "original_list = [1, 2, 3, 4, 5]\n",
    "\n",
    "# Clone the list using the list() constructor\n",
    "cloned_list = list(original_list)\n",
    "\n",
    "# Print the cloned list\n",
    "print(\"Cloned List:\", cloned_list)\n"
   ]
  },
  {
   "cell_type": "code",
   "execution_count": null,
   "id": "1832d5e4",
   "metadata": {},
   "outputs": [],
   "source": [
    "import copy\n",
    "\n",
    "# Original list with nested lists\n",
    "original_list = [1, [2, 3], [4, 5]]\n",
    "\n",
    "# Clone the list using the copy module's copy() function\n",
    "cloned_list = copy.copy(original_list)\n",
    "\n",
    "# Print the cloned list\n",
    "print(\"Cloned List:\", cloned_list)\n"
   ]
  },
  {
   "cell_type": "raw",
   "id": "04dd1c28",
   "metadata": {},
   "source": [
    "11.\tWrite a Python program to Count occurrences of an element in a list?"
   ]
  },
  {
   "cell_type": "code",
   "execution_count": null,
   "id": "f9f5146a",
   "metadata": {},
   "outputs": [],
   "source": [
    "# Sample list\n",
    "my_list = [1, 2, 3, 4, 2, 2, 5, 6, 3, 7, 2]\n",
    "\n",
    "# Element to count\n",
    "element_to_count = 2\n",
    "\n",
    "# Use the count() method to count occurrences\n",
    "count = my_list.count(element_to_count)\n",
    "\n",
    "# Print the count\n",
    "print(f\"The element {element_to_count} appears {count} times in the list.\")\n"
   ]
  },
  {
   "cell_type": "code",
   "execution_count": null,
   "id": "7bf59f66",
   "metadata": {},
   "outputs": [],
   "source": [
    "# Sample list\n",
    "my_list = [1, 2, 3, 4, 2, 2, 5, 6, 3, 7, 2]\n",
    "\n",
    "# Element to count\n",
    "element_to_count = 2\n",
    "\n",
    "# Initialize a count variable\n",
    "count = 0\n",
    "\n",
    "# Iterate through the list and count occurrences\n",
    "for item in my_list:\n",
    "    if item == element_to_count:\n",
    "        count += 1\n",
    "\n",
    "# Print the count\n",
    "print(f\"The element {element_to_count} appears {count} times in the list.\")\n"
   ]
  },
  {
   "cell_type": "raw",
   "id": "e03d2ecd",
   "metadata": {},
   "source": [
    "1.\tWrite a Python program to find words which are greater than given length k?"
   ]
  },
  {
   "cell_type": "code",
   "execution_count": null,
   "id": "4cc19b3b",
   "metadata": {},
   "outputs": [],
   "source": [
    "# Function to find words greater than length k in a string\n",
    "def find_words_greater_than_k(text, k):\n",
    "    # Split the input text into words\n",
    "    words = text.split()\n",
    "\n",
    "    # Initialize a list to store words greater than length k\n",
    "    result = []\n",
    "\n",
    "    # Iterate through the words and check their lengths\n",
    "    for word in words:\n",
    "        if len(word) > k:\n",
    "            result.append(word)\n",
    "\n",
    "    return result\n",
    "\n",
    "# Input text\n",
    "input_text = \"This is a sample sentence to find words greater than a given length k in Python programming.\"\n",
    "\n",
    "# Specify the minimum length (k) for words\n",
    "k = 5\n",
    "\n",
    "# Call the function to find words greater than length k\n",
    "result_words = find_words_greater_than_k(input_text, k)\n",
    "\n",
    "# Print the result\n",
    "if result_words:\n",
    "    print(f\"Words greater than length {k} in the text:\")\n",
    "    for word in result_words:\n",
    "        print(word)\n",
    "else:\n",
    "    print(f\"No words greater than length {k} found in the text.\")\n"
   ]
  },
  {
   "cell_type": "raw",
   "id": "1b52838a",
   "metadata": {},
   "source": [
    "2. Write a Python program for removing i-th character from a string?"
   ]
  },
  {
   "cell_type": "code",
   "execution_count": null,
   "id": "713a6cc7",
   "metadata": {},
   "outputs": [],
   "source": [
    "# Function to remove i-th character from a string\n",
    "def remove_ith_character(input_string, i):\n",
    "    if i < 0 or i >= len(input_string):\n",
    "        return \"Index out of range\"\n",
    "    else:\n",
    "        return input_string[:i] + input_string[i+1:]\n",
    "\n",
    "# Input string\n",
    "input_string = \"Python\"\n",
    "\n",
    "# Specify the index (i) of the character to remove\n",
    "i = 2  # This will remove the character at index 2 (0-based index)\n",
    "\n",
    "# Call the function to remove the i-th character\n",
    "result_string = remove_ith_character(input_string, i)\n",
    "\n",
    "# Print the result\n",
    "print(f\"String after removing character at index {i}: {result_string}\")"
   ]
  },
  {
   "cell_type": "raw",
   "id": "3af0ff4c",
   "metadata": {},
   "source": [
    "3.\tWrite a Python program to split and join a string?"
   ]
  },
  {
   "cell_type": "code",
   "execution_count": null,
   "id": "0493499c",
   "metadata": {},
   "outputs": [],
   "source": [
    "# Sample input string\n",
    "input_string = \"This is a sample string for splitting and joining.\"\n",
    "\n",
    "# Split the input string into a list of words\n",
    "words = input_string.split()\n",
    "\n",
    "# Join the words back into a single string with a different delimiter\n",
    "delimiter = \"-\"\n",
    "joined_string = delimiter.join(words)\n",
    "\n",
    "# Print the original and joined strings\n",
    "print(\"Original string:\", input_string)\n",
    "print(\"Joined string with '{}' as delimiter:\".format(delimiter))\n",
    "print(joined_string)\n"
   ]
  },
  {
   "cell_type": "raw",
   "id": "745d5027",
   "metadata": {},
   "source": [
    "4.\tWrite a Python to check if a given string is binary string or not?"
   ]
  },
  {
   "cell_type": "code",
   "execution_count": null,
   "id": "f06aceb2",
   "metadata": {},
   "outputs": [],
   "source": [
    "#Using a loop\n",
    "\n",
    "# Function to check if a string is a binary string\n",
    "def is_binary_string(input_string):\n",
    "    # Iterate through each character in the string\n",
    "    for char in input_string:\n",
    "        if char != '0' and char != '1':\n",
    "            return False\n",
    "    return True\n",
    "\n",
    "# Input string\n",
    "input_string = \"101010101\"\n",
    "\n",
    "# Check if it's a binary string\n",
    "if is_binary_string(input_string):\n",
    "    print(f\"'{input_string}' is a binary string.\")\n",
    "else:\n",
    "    print(f\"'{input_string}' is not a binary string.\")\n"
   ]
  },
  {
   "cell_type": "code",
   "execution_count": null,
   "id": "331008c5",
   "metadata": {},
   "outputs": [],
   "source": [
    "#Using Regular Expressions\n",
    "\n",
    "import re\n",
    "\n",
    "# Function to check if a string is a binary string using regular expressions\n",
    "def is_binary_string(input_string):\n",
    "    pattern = \"^[01]+$\"\n",
    "    return bool(re.match(pattern, input_string))\n",
    "\n",
    "# Input string\n",
    "input_string = \"101010101\"\n",
    "\n",
    "# Check if it's a binary string\n",
    "if is_binary_string(input_string):\n",
    "    print(f\"'{input_string}' is a binary string.\")\n",
    "else:\n",
    "    print(f\"'{input_string}' is not a binary string.\")\n"
   ]
  },
  {
   "cell_type": "raw",
   "id": "b48f44ef",
   "metadata": {},
   "source": [
    "5.\tWrite a Python program to find uncommon words from two Strings?"
   ]
  },
  {
   "cell_type": "code",
   "execution_count": null,
   "id": "03036e7b",
   "metadata": {},
   "outputs": [],
   "source": [
    "# Function to find uncommon words between two strings\n",
    "def find_uncommon_words(string1, string2):\n",
    "    # Split the strings into words and convert them to sets\n",
    "    words1 = set(string1.split())\n",
    "    words2 = set(string2.split())\n",
    "    \n",
    "    # Find uncommon words using symmetric difference\n",
    "    uncommon_words = words1.symmetric_difference(words2)\n",
    "    \n",
    "    return uncommon_words\n",
    "\n",
    "# Input strings\n",
    "string1 = \"This is the first string\"\n",
    "string2 = \"This is the second string with different words\"\n",
    "\n",
    "# Call the function to find uncommon words\n",
    "result = find_uncommon_words(string1, string2)\n",
    "\n",
    "# Print the uncommon words\n",
    "print(\"Uncommon words between the two strings:\")\n",
    "for word in result:\n",
    "    print(word)\n"
   ]
  },
  {
   "cell_type": "code",
   "execution_count": null,
   "id": "b6cd0321",
   "metadata": {},
   "outputs": [],
   "source": [
    "# Function to find uncommon words between two strings\n",
    "def find_uncommon_words(string1, string2):\n",
    "    # Split the strings into words\n",
    "    words1 = string1.split()\n",
    "    words2 = string2.split()\n",
    "    \n",
    "    # Convert the word lists into sets for efficient comparison\n",
    "    set1 = set(words1)\n",
    "    set2 = set(words2)\n",
    "    \n",
    "    # Find uncommon words using set operations\n",
    "    uncommon_words = set1.symmetric_difference(set2)\n",
    "    \n",
    "    return uncommon_words\n",
    "\n",
    "# Input strings\n",
    "string1 = \"This is the first string\"\n",
    "string2 = \"This is the second string with different words\"\n",
    "\n",
    "# Call the function to find uncommon words\n",
    "result = find_uncommon_words(string1, string2)\n",
    "\n",
    "# Print the uncommon words\n",
    "print(\"Uncommon words between the two strings:\")\n",
    "for word in result:\n",
    "    print(word)\n"
   ]
  },
  {
   "cell_type": "raw",
   "id": "4302cb23",
   "metadata": {},
   "source": [
    "6.\tWrite a Python to find all duplicate characters in string?"
   ]
  },
  {
   "cell_type": "code",
   "execution_count": null,
   "id": "e6365aaf",
   "metadata": {},
   "outputs": [],
   "source": [
    "# Function to find all duplicate characters in a string\n",
    "def find_duplicate_characters(input_string):\n",
    "    # Initialize an empty list to store duplicate characters\n",
    "    duplicates = []\n",
    "    \n",
    "    # Create a set to keep track of seen characters\n",
    "    seen_characters = set()\n",
    "    \n",
    "    # Iterate through the string\n",
    "    for char in input_string:\n",
    "        # Check if the character is in the set of seen characters\n",
    "        if char in seen_characters:\n",
    "            # If it's already seen, add it to the duplicates list\n",
    "            duplicates.append(char)\n",
    "        else:\n",
    "            # Otherwise, add it to the set of seen characters\n",
    "            seen_characters.add(char)\n",
    "    \n",
    "    return duplicates\n",
    "\n",
    "# Input string\n",
    "input_string = \"programming\"\n",
    "\n",
    "# Call the function to find duplicate characters\n",
    "result = find_duplicate_characters(input_string)\n",
    "\n",
    "# Print the duplicate characters\n",
    "if result:\n",
    "    print(\"Duplicate characters in the string:\", result)\n",
    "else:\n",
    "    print(\"No duplicate characters found in the string.\")\n"
   ]
  },
  {
   "cell_type": "code",
   "execution_count": null,
   "id": "a62660e7",
   "metadata": {},
   "outputs": [],
   "source": [
    "# Function to find all duplicate characters in a string\n",
    "def find_duplicate_characters(input_string):\n",
    "    # Initialize an empty dictionary to store character frequencies\n",
    "    char_count = {}\n",
    "    \n",
    "    # Initialize an empty list to store duplicate characters\n",
    "    duplicates = []\n",
    "    \n",
    "    # Iterate through the string\n",
    "    for char in input_string:\n",
    "        # If the character is already in the dictionary, increment its count\n",
    "        if char in char_count:\n",
    "            char_count[char] += 1\n",
    "        else:\n",
    "            # Otherwise, add it to the dictionary with a count of 1\n",
    "            char_count[char] = 1\n",
    "    \n",
    "    # Iterate through the dictionary to find characters with counts > 1\n",
    "    for char, count in char_count.items():\n",
    "        if count > 1:\n",
    "            duplicates.append(char)\n",
    "    \n",
    "    return duplicates\n",
    "\n",
    "# Input string\n",
    "input_string = \"programming\"\n",
    "\n",
    "# Call the function to find duplicate characters\n",
    "result = find_duplicate_characters(input_string)\n",
    "\n",
    "# Print the duplicate characters\n",
    "if result:\n",
    "    print(\"Duplicate characters in the string:\", result)\n",
    "else:\n",
    "    print(\"No duplicate characters found in the string.\")\n"
   ]
  },
  {
   "cell_type": "raw",
   "id": "8a7784df",
   "metadata": {},
   "source": [
    "7.\tWrite a Python Program to check if a string contains any special character?"
   ]
  },
  {
   "cell_type": "code",
   "execution_count": null,
   "id": "98ea326f",
   "metadata": {},
   "outputs": [],
   "source": [
    "import re\n",
    "\n",
    "# Function to check if a string contains any special character\n",
    "def contains_special_character(input_string):\n",
    "    # Define a regular expression pattern for special characters\n",
    "    pattern = r'[!@#$%^&*()_+{}\\[\\]:;<>,.?~\\\\|]'\n",
    "    \n",
    "    # Use re.search() to find a match\n",
    "    if re.search(pattern, input_string):\n",
    "        return True\n",
    "    else:\n",
    "        return False\n",
    "\n",
    "# Input string\n",
    "input_string = \"HelloWorld123\"\n",
    "\n",
    "# Call the function to check for special characters\n",
    "if contains_special_character(input_string):\n",
    "    print(\"The string contains special characters.\")\n",
    "else:\n",
    "    print(\"The string does not contain any special characters.\")\n"
   ]
  },
  {
   "cell_type": "raw",
   "id": "c101c889",
   "metadata": {},
   "source": [
    "1.\tWrite a Python program to Extract Unique values dictionary values?"
   ]
  },
  {
   "cell_type": "code",
   "execution_count": null,
   "id": "1e672b26",
   "metadata": {},
   "outputs": [],
   "source": [
    "# Function to extract unique values from dictionary values\n",
    "def extract_unique_values(dictionary):\n",
    "    # Create an empty set to store unique values\n",
    "    unique_values = set()\n",
    "    \n",
    "    # Iterate through the values of the dictionary\n",
    "    for values in dictionary.values():\n",
    "        # Convert the values to a list and add them to the set\n",
    "        unique_values.update(values)\n",
    "    \n",
    "    return unique_values\n",
    "\n",
    "# Input dictionary\n",
    "my_dict = {\n",
    "    'A': [1, 2, 3],\n",
    "    'B': [2, 3, 4],\n",
    "    'C': [3, 4, 5]\n",
    "}\n",
    "\n",
    "# Call the function to extract unique values\n",
    "result = extract_unique_values(my_dict)\n",
    "\n",
    "# Print the unique values\n",
    "print(\"Unique values in the dictionary:\", result)"
   ]
  },
  {
   "cell_type": "raw",
   "id": "a3baa1c5",
   "metadata": {},
   "source": [
    "2.\tWrite a Python program to find the sum of all items in a dictionary?"
   ]
  },
  {
   "cell_type": "code",
   "execution_count": null,
   "id": "311fdffb",
   "metadata": {},
   "outputs": [],
   "source": [
    "# Function to find the sum of all items in a dictionary\n",
    "def sum_of_dictionary_values(dictionary):\n",
    "    # Initialize a variable to store the sum\n",
    "    total_sum = 0\n",
    "    \n",
    "    # Iterate through the values of the dictionary\n",
    "    for value in dictionary.values():\n",
    "        total_sum += value\n",
    "    \n",
    "    return total_sum\n",
    "\n",
    "# Input dictionary with numeric values\n",
    "my_dict = {\n",
    "    'A': 10,\n",
    "    'B': 20,\n",
    "    'C': 30,\n",
    "    'D': 40\n",
    "}\n",
    "\n",
    "# Call the function to find the sum of values\n",
    "result = sum_of_dictionary_values(my_dict)\n",
    "\n",
    "# Print the sum of values\n",
    "print(\"Sum of all items in the dictionary:\", result)"
   ]
  },
  {
   "cell_type": "raw",
   "id": "96b99443",
   "metadata": {},
   "source": [
    "3.\tWrite a Python program to Merging two Dictionaries?"
   ]
  },
  {
   "cell_type": "code",
   "execution_count": null,
   "id": "93e68d25",
   "metadata": {},
   "outputs": [],
   "source": [
    "# Method 1: Using the update() method\n",
    "def merge_dictionaries(dict1, dict2):\n",
    "    merged_dict = dict1.copy()  # Make a copy of the first dictionary\n",
    "    merged_dict.update(dict2)   # Update it with the second dictionary\n",
    "    return merged_dict\n",
    "\n",
    "# Method 2: Using the ** unpacking operator (Python 3.5+)\n",
    "def merge_dictionaries_unpacking(dict1, dict2):\n",
    "    merged_dict = {**dict1, **dict2}\n",
    "    return merged_dict\n",
    "\n",
    "# Input dictionaries\n",
    "dict1 = {'a': 1, 'b': 2}\n",
    "dict2 = {'b': 3, 'c': 4}\n",
    "\n",
    "# Method 1: Merge dictionaries using update()\n",
    "merged_dict1 = merge_dictionaries(dict1, dict2)\n",
    "\n",
    "# Method 2: Merge dictionaries using unpacking operator\n",
    "merged_dict2 = merge_dictionaries_unpacking(dict1, dict2)\n",
    "\n",
    "# Print the merged dictionaries\n",
    "print(\"Merged Dictionary (Method 1):\", merged_dict1)\n",
    "print(\"Merged Dictionary (Method 2):\", merged_dict2)"
   ]
  },
  {
   "cell_type": "raw",
   "id": "527ce196",
   "metadata": {},
   "source": [
    "4.\tWrite a Python program to convert key-values list to flat dictionary?"
   ]
  },
  {
   "cell_type": "code",
   "execution_count": null,
   "id": "4220caaf",
   "metadata": {},
   "outputs": [],
   "source": [
    "# Function to convert key-values list to a flat dictionary\n",
    "def convert_to_flat_dictionary(key_value_list):\n",
    "    flat_dict = {}\n",
    "    \n",
    "    for pair in key_value_list:\n",
    "        key, value = pair\n",
    "        flat_dict[key] = value\n",
    "    \n",
    "    return flat_dict\n",
    "\n",
    "# Input list of key-value pairs\n",
    "key_value_list = [(\"a\", 1), (\"b\", 2), (\"c\", 3)]\n",
    "\n",
    "# Call the function to convert to a flat dictionary\n",
    "flat_dictionary = convert_to_flat_dictionary(key_value_list)\n",
    "\n",
    "# Print the flat dictionary\n",
    "print(\"Flat Dictionary:\", flat_dictionary)"
   ]
  },
  {
   "cell_type": "raw",
   "id": "808f9058",
   "metadata": {},
   "source": [
    "5.\tWrite a Python program to insertion at the beginning in OrderedDict?"
   ]
  },
  {
   "cell_type": "code",
   "execution_count": null,
   "id": "add673f8",
   "metadata": {},
   "outputs": [],
   "source": [
    "from collections import OrderedDict\n",
    "\n",
    "# Function to insert an item at the beginning of an OrderedDict\n",
    "def insert_at_beginning(ordered_dict, key, value):\n",
    "    # Create a new OrderedDict with the new item at the beginning\n",
    "    new_ordered_dict = OrderedDict([(key, value)] + list(ordered_dict.items()))\n",
    "    \n",
    "    return new_ordered_dict\n",
    "\n",
    "# Create an OrderedDict\n",
    "ordered_dict = OrderedDict([('a', 1), ('b', 2), ('c', 3)])\n",
    "\n",
    "# Key and value to insert at the beginning\n",
    "key_to_insert = 'x'\n",
    "value_to_insert = 0\n",
    "\n",
    "# Call the function to insert at the beginning\n",
    "new_ordered_dict = insert_at_beginning(ordered_dict, key_to_insert, value_to_insert)\n",
    "\n",
    "# Print the updated OrderedDict\n",
    "print(\"Original OrderedDict:\")\n",
    "print(ordered_dict)\n",
    "print(\"\\nOrderedDict after insertion at the beginning:\")\n",
    "print(new_ordered_dict)"
   ]
  },
  {
   "cell_type": "raw",
   "id": "0e230aeb",
   "metadata": {},
   "source": [
    "6.\tWrite a Python program to check order of character in string using OrderedDict()?"
   ]
  },
  {
   "cell_type": "code",
   "execution_count": null,
   "id": "28dd9e17",
   "metadata": {},
   "outputs": [],
   "source": [
    "from collections import OrderedDict\n",
    "\n",
    "# Function to check the order of characters in a string using OrderedDict\n",
    "def check_order_of_characters(input_string, pattern):\n",
    "    # Create an OrderedDict to store the order of characters in the input string\n",
    "    char_order = OrderedDict()\n",
    "\n",
    "    # Initialize the position index\n",
    "    position = 0\n",
    "\n",
    "    # Iterate through the input string\n",
    "    for char in input_string:\n",
    "        if char not in char_order:\n",
    "            char_order[char] = position\n",
    "            position += 1\n",
    "\n",
    "    # Create a list of character positions based on the order in the input string\n",
    "    char_positions = [char_order[char] for char in pattern if char in char_order]\n",
    "\n",
    "    # Check if the list of character positions is sorted (indicating the same order as in the input string)\n",
    "    return char_positions == sorted(char_positions)\n",
    "\n",
    "# Input string\n",
    "input_string = \"hello world\"\n",
    "pattern = \"hlo\"\n",
    "\n",
    "# Call the function to check the order of characters\n",
    "result = check_order_of_characters(input_string, pattern)\n",
    "\n",
    "# Print the result\n",
    "if result:\n",
    "    print(f\"The characters in '{pattern}' appear in the same order as in the string.\")\n",
    "else:\n",
    "    print(f\"The characters in '{pattern}' do not appear in the same order as in the string.\")"
   ]
  },
  {
   "cell_type": "code",
   "execution_count": null,
   "id": "eab6e53d",
   "metadata": {},
   "outputs": [],
   "source": [
    "7.\tWrite a Python program to sort Python Dictionaries by Key or Value?"
   ]
  },
  {
   "cell_type": "code",
   "execution_count": null,
   "id": "3c210aa9",
   "metadata": {},
   "outputs": [],
   "source": [
    "# Function to sort a dictionary by keys\n",
    "def sort_dict_by_key(input_dict):\n",
    "    sorted_dict = dict(sorted(input_dict.items()))\n",
    "    return sorted_dict\n",
    "\n",
    "# Function to sort a dictionary by values\n",
    "def sort_dict_by_value(input_dict):\n",
    "    sorted_dict = dict(sorted(input_dict.items(), key=lambda item: item[1]))\n",
    "    return sorted_dict\n",
    "\n",
    "# Input dictionary\n",
    "my_dict = {'b': 3, 'a': 1, 'c': 2, 'd': 4}\n",
    "\n",
    "# Sort the dictionary by keys\n",
    "sorted_by_key = sort_dict_by_key(my_dict)\n",
    "\n",
    "# Sort the dictionary by values\n",
    "sorted_by_value = sort_dict_by_value(my_dict)\n",
    "\n",
    "# Print the sorted dictionaries\n",
    "print(\"Sorted by Key:\", sorted_by_key)\n",
    "print(\"Sorted by Value:\", sorted_by_value)\n",
    "\n",
    "\n"
   ]
  },
  {
   "cell_type": "raw",
   "id": "26eb9525",
   "metadata": {},
   "source": [
    "Question 1: Write a program that calculates and prints the value according to the given formula:\n",
    "\n",
    "Q = Square root of [(2 * C * D)/H]\n",
    "\n",
    "Following are the fixed values of C and H:\n",
    "\n",
    "C is 50. H is 30.\n",
    "\n",
    "D is the variable whose values should be input to your program in a comma-separated sequence.\n",
    "\n",
    "Example\n",
    "\n",
    "Let us assume the following comma separated input sequence is given to the program:\n",
    "\n",
    "100,150,180\n",
    "\n",
    "The output of the program should be:\n",
    "\n",
    "18,22,24\n",
    "        "
   ]
  },
  {
   "cell_type": "code",
   "execution_count": null,
   "id": "11d84b5c",
   "metadata": {},
   "outputs": [],
   "source": [
    "import math\n",
    "\n",
    "# Fixed values\n",
    "C = 50\n",
    "H = 30\n",
    "\n",
    "# Function to calculate Q for each D value\n",
    "def calculate_Q(D):\n",
    "    return int(math.sqrt((2 * C * D) / H))\n",
    "\n",
    "# Input comma-separated sequence of D values\n",
    "input_sequence = input(\"Enter comma-separated values of D: \")\n",
    "\n",
    "# Split the input into a list of D values\n",
    "D_values = input_sequence.split(',')\n",
    "\n",
    "# Calculate Q for each D value and store the results in a list\n",
    "results = [calculate_Q(float(D)) for D in D_values]\n",
    "\n",
    "# Convert the results to a comma-separated string\n",
    "result_string = ','.join(map(str, results))\n",
    "\n",
    "# Print the result\n",
    "print(\"Output:\", result_string)"
   ]
  },
  {
   "cell_type": "raw",
   "id": "c376f8d2",
   "metadata": {},
   "source": [
    "Question 2:\n",
    "Write a program which takes 2 digits, X,Y as input and generates a 2-dimensional array. The element value in the i-th row and j-th column of the array should be i*j.\n",
    "\n",
    "Note: i=0,1.., X-1; j=0,1,¡¬Y-1.\n",
    "\n",
    "Example\n",
    "\n",
    "Suppose the following inputs are given to the program:\n",
    "\n",
    "3,5\n",
    "\n",
    "Then, the output of the program should be:\n",
    "\n",
    "[[0, 0, 0, 0, 0], [0, 1, 2, 3, 4], [0, 2, 4, 6, 8]] "
   ]
  },
  {
   "cell_type": "code",
   "execution_count": null,
   "id": "59095bdd",
   "metadata": {},
   "outputs": [],
   "source": [
    "# Input X and Y values\n",
    "X, Y = map(int, input(\"Enter two digits X and Y (comma-separated): \").split(','))\n",
    "\n",
    "# Generate the 2-dimensional array\n",
    "result = []\n",
    "\n",
    "for i in range(X):\n",
    "    row = []\n",
    "    for j in range(Y):\n",
    "        row.append(i * j)\n",
    "    result.append(row)\n",
    "\n",
    "# Print the generated array\n",
    "for row in result:\n",
    "    print(row)\n",
    "\n",
    "\n",
    "# In[7]:\n",
    "\n",
    "\n",
    "# Input X and Y values\n",
    "X, Y = map(int, input(\"Enter two digits X and Y (comma-separated): \").split(','))\n",
    "\n",
    "# Generate the 2-dimensional array\n",
    "array_2d = [[i * j for j in range(Y)] for i in range(X)]\n",
    "\n",
    "# Print the generated array\n",
    "for row in array_2d:\n",
    "    print(row)"
   ]
  },
  {
   "cell_type": "raw",
   "id": "9c1d5fd1",
   "metadata": {},
   "source": [
    "Question 3:\n",
    "Write a program that accepts a comma separated sequence of words as input and prints the words in a comma-separated sequence after sorting them alphabetically.\n",
    "\n",
    "Suppose the following input is supplied to the program:\n",
    "\n",
    "without,hello,bag,world\n",
    "\n",
    "Then, the output should be:\n",
    "\n",
    "bag,hello,without,world"
   ]
  },
  {
   "cell_type": "code",
   "execution_count": null,
   "id": "2a217a54",
   "metadata": {},
   "outputs": [],
   "source": [
    "# Input a comma-separated sequence of words\n",
    "input_sequence = input(\"Enter a comma-separated sequence of words: \")\n",
    "\n",
    "# Split the input into a list of words\n",
    "words = input_sequence.split(',')\n",
    "\n",
    "# Sort the words alphabetically\n",
    "sorted_words = sorted(words)\n",
    "\n",
    "# Join the sorted words into a comma-separated string\n",
    "result = ','.join(sorted_words)\n",
    "\n",
    "# Print the sorted words\n",
    "print(\"Sorted words:\", result)"
   ]
  },
  {
   "cell_type": "raw",
   "id": "f8f668ce",
   "metadata": {},
   "source": [
    "Question 4:\n",
    "Write a program that accepts a sequence of whitespace separated words as input and prints the words after removing all duplicate words and sorting them alphanumerically.\n",
    "\n",
    "Suppose the following input is supplied to the program:\n",
    "\n",
    "hello world and practice makes perfect and hello world again\n",
    "\n",
    "Then, the output should be:\n",
    "\n",
    "again and hello makes perfect practice world"
   ]
  },
  {
   "cell_type": "code",
   "execution_count": null,
   "id": "987989d3",
   "metadata": {},
   "outputs": [],
   "source": [
    "# Input a sequence of whitespace-separated words\n",
    "input_sequence = input(\"Enter a sequence of whitespace-separated words: \")\n",
    "\n",
    "# Split the input into a list of words\n",
    "words = input_sequence.split()\n",
    "\n",
    "# Remove duplicates by creating a set and converting it back to a list\n",
    "unique_words = list(set(words))\n",
    "\n",
    "# Sort the unique words alphanumerically\n",
    "sorted_words = sorted(unique_words)\n",
    "\n",
    "# Join the sorted words into a whitespace-separated string\n",
    "result = ' '.join(sorted_words)\n",
    "\n",
    "# Print the result\n",
    "print(\"Words after removing duplicates and sorting:\", result)"
   ]
  },
  {
   "cell_type": "raw",
   "id": "7e44ef0b",
   "metadata": {},
   "source": [
    "Question 5:\n",
    "Write a program that accepts a sentence and calculate the number of letters and digits.\n",
    "\n",
    "Suppose the following input is supplied to the program:\n",
    "\n",
    "hello world! 123\n",
    "\n",
    "Then, the output should be:\n",
    "\n",
    "LETTERS 10\n",
    "\n",
    "DIGITS 3"
   ]
  },
  {
   "cell_type": "code",
   "execution_count": null,
   "id": "756c754e",
   "metadata": {},
   "outputs": [],
   "source": [
    "# Input a sentence\n",
    "sentence = input(\"Enter a sentence: \")\n",
    "\n",
    "# Initialize counters for letters and digits\n",
    "letter_count = 0\n",
    "digit_count = 0\n",
    "\n",
    "# Iterate through each character in the sentence\n",
    "for char in sentence:\n",
    "    if char.isalpha():  # Check if the character is a letter\n",
    "        letter_count += 1\n",
    "    elif char.isdigit():  # Check if the character is a digit\n",
    "        digit_count += 1\n",
    "\n",
    "# Print the counts\n",
    "print(\"LETTERS\", letter_count)\n",
    "print(\"DIGITS\", digit_count)"
   ]
  },
  {
   "cell_type": "raw",
   "id": "2b330506",
   "metadata": {},
   "source": [
    "Question 6:\n",
    "A website requires the users to input username and password to register. Write a program to check the validity of password input by users.\n",
    "\n",
    "Following are the criteria for checking the password:\n",
    "\n",
    "1. At least 1 letter between [a-z]\n",
    "\n",
    "2. At least 1 number between [0-9]\n",
    "\n",
    "1. At least 1 letter between [A-Z]\n",
    "\n",
    "3. At least 1 character from [$#@]\n",
    "\n",
    "4. Minimum length of transaction password: 6\n",
    "\n",
    "5. Maximum length of transaction password: 12\n",
    "\n",
    "Your program should accept a sequence of comma separated passwords and will check them according to the above criteria. Passwords that match the criteria are to be printed, each separated by a comma.\n",
    "\n",
    "Example\n",
    "\n",
    "If the following passwords are given as input to the program:\n",
    "\n",
    "ABd1234@1,a F1#,2w3E*,2We3345\n",
    "\n",
    "Then, the output of the program should be:\n",
    "\n",
    "ABd1234@1"
   ]
  },
  {
   "cell_type": "code",
   "execution_count": null,
   "id": "8d64eda9",
   "metadata": {},
   "outputs": [],
   "source": [
    "import re\n",
    "\n",
    "# Function to check the validity of a password\n",
    "def is_valid_password(password):\n",
    "    # Check if the password length is between 6 and 12 characters\n",
    "    if 6 <= len(password) <= 12:\n",
    "        # Check if the password contains at least 1 lowercase letter\n",
    "        if re.search(\"[a-z]\", password):\n",
    "            # Check if the password contains at least 1 uppercase letter\n",
    "            if re.search(\"[A-Z]\", password):\n",
    "                # Check if the password contains at least 1 digit\n",
    "                if re.search(\"[0-9]\", password):\n",
    "                    # Check if the password contains at least 1 special character from [$#@]\n",
    "                    if re.search(\"[$#@]\", password):\n",
    "                        return True\n",
    "\n",
    "    return False\n",
    "\n",
    "# Input comma-separated passwords\n",
    "input_passwords = input(\"Enter comma-separated passwords: \")\n",
    "\n",
    "# Split the input into a list of passwords\n",
    "passwords = input_passwords.split(',')\n",
    "\n",
    "# List to store valid passwords\n",
    "valid_passwords = []\n",
    "\n",
    "# Check the validity of each password\n",
    "for password in passwords:\n",
    "    if is_valid_password(password):\n",
    "        valid_passwords.append(password)\n",
    "\n",
    "# Print the valid passwords separated by commas\n",
    "print(','.join(valid_passwords))\n",
    "\n",
    "\n",
    "# In[ ]:"
   ]
  },
  {
   "cell_type": "raw",
   "id": "501fbbed",
   "metadata": {},
   "source": [
    "Question 1:\n",
    "\n",
    "Define a class with a generator which can iterate the numbers, which are divisible by 7, between a given range 0 and n."
   ]
  },
  {
   "cell_type": "code",
   "execution_count": null,
   "id": "ee36ceba",
   "metadata": {},
   "outputs": [],
   "source": [
    "class DivisibleBySeven:\n",
    "    def __init__(self, n):\n",
    "        self.n = n\n",
    "\n",
    "    def generate_divisible_by_seven(self):\n",
    "        for num in range(self.n + 1):\n",
    "            if num % 7 == 0:\n",
    "                yield num\n",
    "\n",
    "# Input the value of n\n",
    "n = int(input(\"Enter the value of n: \"))\n",
    "\n",
    "# Create an instance of the class\n",
    "divisible_by_seven_obj = DivisibleBySeven(n)\n",
    "\n",
    "# Use the generator to iterate through numbers divisible by 7\n",
    "print(\"Numbers divisible by 7 between 0 and\", n, \":\")\n",
    "for num in divisible_by_seven_obj.generate_divisible_by_seven():\n",
    "    print(num)"
   ]
  },
  {
   "cell_type": "raw",
   "id": "6862279a",
   "metadata": {},
   "source": [
    "Question 2:\n",
    "Write a program to compute the frequency of the words from the input. The output should output after sorting the key alphanumerically. \n",
    "\n",
    "Suppose the following input is supplied to the program:\n",
    "\n",
    "New to Python or choosing between Python 2 and Python 3? Read Python 2 or Python 3.\n",
    "\n",
    "Then, the output should be:\n",
    "\n",
    "2:2\n",
    "\n",
    "3.:1\n",
    "\n",
    "3?:1\n",
    "\n",
    "New:1\n",
    "\n",
    "Python:5\n",
    "\n",
    "Read:1\n",
    "\n",
    "and:1\n",
    "\n",
    "between:1\n",
    "\n",
    "choosing:1\n",
    "\n",
    "or:2\n",
    "\n",
    "to:1"
   ]
  },
  {
   "cell_type": "code",
   "execution_count": null,
   "id": "0a77a130",
   "metadata": {},
   "outputs": [],
   "source": [
    "# Input a sentence\n",
    "sentence = input(\"Enter a sentence: \")\n",
    "\n",
    "# Split the sentence into words\n",
    "words = sentence.split()\n",
    "\n",
    "# Create a dictionary to store word frequencies\n",
    "word_freq = {}\n",
    "\n",
    "# Iterate through each word and update the frequency\n",
    "for word in words:\n",
    "    word_freq[word] = word_freq.get(word, 0) + 1\n",
    "\n",
    "# Sort the dictionary by keys in alphanumeric order\n",
    "sorted_word_freq = sorted(word_freq.items(), key=lambda x: x[0])\n",
    "\n",
    "# Print the sorted word frequencies\n",
    "for word, freq in sorted_word_freq:\n",
    "    print(f\"{word}:{freq}\")"
   ]
  },
  {
   "cell_type": "raw",
   "id": "b5026c9d",
   "metadata": {},
   "source": [
    "Question 3:\n",
    "\n",
    "\n",
    "\n",
    "Define a class Person and its two child classes: Male and Female. All classes have a method \"getGender\" which can print \"Male\" for Male class and \"Female\" for Female class."
   ]
  },
  {
   "cell_type": "code",
   "execution_count": null,
   "id": "ebaadada",
   "metadata": {},
   "outputs": [],
   "source": [
    "class Person:\n",
    "    def getGender(self):\n",
    "        return \"Unknown\"\n",
    "\n",
    "class Male(Person):\n",
    "    def getGender(self):\n",
    "        return \"Male\"\n",
    "\n",
    "class Female(Person):\n",
    "    def getGender(self):\n",
    "        return \"Female\"\n",
    "\n",
    "# Create instances of the classes\n",
    "person = Person()\n",
    "male = Male()\n",
    "female = Female()\n",
    "\n",
    "# Call the getGender method for each instance\n",
    "print(\"Person's gender:\", person.getGender())\n",
    "print(\"Male's gender:\", male.getGender())\n",
    "print(\"Female's gender:\", female.getGender())"
   ]
  },
  {
   "cell_type": "raw",
   "id": "383769b7",
   "metadata": {},
   "source": [
    "Question 4:\n",
    "Please write a program to generate all sentences where subject is in [\"I\", \"You\"] and verb is in [\"Play\", \"Love\"] and the object is in [\"Hockey\",\"Football\"]."
   ]
  },
  {
   "cell_type": "code",
   "execution_count": null,
   "id": "be730700",
   "metadata": {},
   "outputs": [],
   "source": [
    "# Lists of subjects, verbs, and objects\n",
    "subjects = [\"I\", \"You\"]\n",
    "verbs = [\"Play\", \"Love\"]\n",
    "objects = [\"Hockey\", \"Football\"]\n",
    "\n",
    "# Generate and print all possible sentences\n",
    "for subject in subjects:\n",
    "    for verb in verbs:\n",
    "        for obj in objects:\n",
    "            sentence = f\"{subject} {verb} {obj}.\"\n",
    "            print(sentence)"
   ]
  },
  {
   "cell_type": "raw",
   "id": "70c5b81e",
   "metadata": {},
   "source": [
    "Question 5:\n",
    "Please write a program to compress and decompress the string \"hello world!hello world!hello world!hello world!\"."
   ]
  },
  {
   "cell_type": "code",
   "execution_count": null,
   "id": "9ea7d91b",
   "metadata": {},
   "outputs": [],
   "source": [
    "import zlib\n",
    "\n",
    "# Original string\n",
    "original_string = \"hello world!hello world!hello world!hello world!\"\n",
    "\n",
    "# Compress the string\n",
    "compressed_data = zlib.compress(original_string.encode(\"utf-8\"))\n",
    "\n",
    "# Decompress the string\n",
    "decompressed_string = zlib.decompress(compressed_data).decode(\"utf-8\")\n",
    "\n",
    "# Print the results\n",
    "print(\"Original String:\", original_string)\n",
    "print(\"Compressed Data:\", compressed_data)\n",
    "print(\"Decompressed String:\", decompressed_string)"
   ]
  },
  {
   "cell_type": "raw",
   "id": "20035167",
   "metadata": {},
   "source": [
    "Question 6:\n",
    "Please write a binary search function which searches an item in a sorted list. The function should return the index of element to be searched in the list."
   ]
  },
  {
   "cell_type": "code",
   "execution_count": null,
   "id": "e58e029d",
   "metadata": {},
   "outputs": [],
   "source": [
    "def binary_search(arr, target):\n",
    "    left, right = 0, len(arr) - 1\n",
    "\n",
    "    while left <= right:\n",
    "        mid = left + (right - left) // 2\n",
    "\n",
    "        if arr[mid] == target:\n",
    "            return mid\n",
    "        elif arr[mid] < target:\n",
    "            left = mid + 1\n",
    "        else:\n",
    "            right = mid - 1\n",
    "\n",
    "    return -1  # Element not found\n",
    "\n",
    "# Example usage:\n",
    "sorted_list = [1, 3, 5, 7, 9, 11, 13]\n",
    "target_element = 7\n",
    "\n",
    "result = binary_search(sorted_list, target_element)\n",
    "\n",
    "if result != -1:\n",
    "    print(f\"Element {target_element} found at index {result}.\")\n",
    "else:\n",
    "    print(f\"Element {target_element} not found in the list.\")\n",
    "\n",
    "\n",
    "# In[ ]:\n",
    "\n",
    "\n",
    "\n",
    "\n",
    "\n",
    "# In[ ]:"
   ]
  },
  {
   "cell_type": "raw",
   "id": "630409be",
   "metadata": {},
   "source": [
    "Question 1:\n",
    "Please write a program using generator to print the numbers which can be divisible by 5 and 7 between 0 and n in comma separated form while n is input by console.\n",
    "Example:\n",
    "If the following n is given as input to the program:\n",
    "100\n",
    "Then, the output of the program should be:\n",
    "0,35,70"
   ]
  },
  {
   "cell_type": "code",
   "execution_count": null,
   "id": "4c50a1ff",
   "metadata": {},
   "outputs": [],
   "source": [
    "def divisible_by_5_and_7(n):\n",
    "    for num in range(n + 1):\n",
    "        if num % 5 == 0 and num % 7 == 0:\n",
    "            yield num\n",
    "\n",
    "# Input the value of n\n",
    "n = int(input(\"Enter the value of n: \"))\n",
    "\n",
    "# Use the generator to find numbers divisible by 5 and 7\n",
    "result = list(divisible_by_5_and_7(n))\n",
    "\n",
    "# Convert the result list to a comma-separated string\n",
    "result_str = ','.join(map(str, result))\n",
    "\n",
    "# Print the result\n",
    "print(result_str)"
   ]
  },
  {
   "cell_type": "raw",
   "id": "38219034",
   "metadata": {},
   "source": [
    "Question 2:\n",
    "Please write a program using generator to print the even numbers between 0 and n in comma separated form while n is input by console.\n",
    "Example:\n",
    "If the following n is given as input to the program:\n",
    "10\n",
    "Then, the output of the program should be:\n",
    "0,2,4,6,8,10"
   ]
  },
  {
   "cell_type": "code",
   "execution_count": null,
   "id": "1ad7b7ad",
   "metadata": {},
   "outputs": [],
   "source": [
    "def even_numbers(n):\n",
    "    for num in range(n + 1):\n",
    "        if num % 2 == 0:\n",
    "            yield num\n",
    "\n",
    "# Input the value of n\n",
    "n = int(input(\"Enter the value of n: \"))\n",
    "\n",
    "# Use the generator to find even numbers\n",
    "result = list(even_numbers(n))\n",
    "\n",
    "# Convert the result list to a comma-separated string\n",
    "result_str = ','.join(map(str, result))\n",
    "\n",
    "# Print the result\n",
    "print(result_str)"
   ]
  },
  {
   "cell_type": "raw",
   "id": "977eeb65",
   "metadata": {},
   "source": [
    "Question 3:\n",
    "The Fibonacci Sequence is computed based on the following formula:\n",
    "f(n)=0 if n=0\n",
    "f(n)=1 if n=1\n",
    "f(n)=f(n-1)+f(n-2) if n>1\n",
    "Please write a program using list comprehension to print the Fibonacci Sequence in comma separated form with a given n input by console.\n",
    "Example:\n",
    "If the following n is given as input to the program:\n",
    "7\n",
    "\n",
    "Then, the output of the program should be:\n",
    "0,1,1,2,3,5,8,13"
   ]
  },
  {
   "cell_type": "code",
   "execution_count": null,
   "id": "bc42a3b8",
   "metadata": {},
   "outputs": [],
   "source": [
    "# Function to generate the Fibonacci sequence up to n\n",
    "def generate_fibonacci(n):\n",
    "    fibonacci = [0, 1]  # Initialize the sequence with the first two elements\n",
    "\n",
    "    while fibonacci[-1] + fibonacci[-2] <= n:\n",
    "        next_fib = fibonacci[-1] + fibonacci[-2]\n",
    "        fibonacci.append(next_fib)\n",
    "\n",
    "    return fibonacci\n",
    "\n",
    "# Input the value of n\n",
    "n = int(input(\"Enter the value of n: \"))\n",
    "\n",
    "# Generate the Fibonacci sequence using list comprehension\n",
    "fibonacci_sequence = generate_fibonacci(n)\n",
    "\n",
    "# Convert the sequence list to a comma-separated string\n",
    "result_str = ','.join(map(str, fibonacci_sequence))\n",
    "\n",
    "# Print the result\n",
    "print(result_str)"
   ]
  },
  {
   "cell_type": "raw",
   "id": "31e75b6e",
   "metadata": {},
   "source": [
    "Question 4:\n",
    "Assuming that we have some email addresses in the \"username@companyname.com\" format, please write program to print the user name of a given email address. Both user names and company names are composed of letters only.\n",
    "Example:\n",
    "If the following email address is given as input to the program:\n",
    "john@google.com\n",
    "Then, the output of the program should be:\n",
    "john"
   ]
  },
  {
   "cell_type": "code",
   "execution_count": null,
   "id": "2899f276",
   "metadata": {},
   "outputs": [],
   "source": [
    "# Input the email address\n",
    "email = input(\"Enter an email address: \")\n",
    "\n",
    "# Split the email address at '@' to separate the username and domain\n",
    "parts = email.split('@')\n",
    "\n",
    "# Check if the email address is in the expected format\n",
    "if len(parts) == 2 and parts[0].isalpha() and parts[1].count('.') == 1:\n",
    "    username = parts[0]\n",
    "    print(\"Username:\", username)\n",
    "else:\n",
    "    print(\"Invalid email address format.\")"
   ]
  },
  {
   "cell_type": "raw",
   "id": "77370f68",
   "metadata": {},
   "source": [
    "Question 5:\n",
    "Define a class named Shape and its subclass Square. The Square class has an init function which takes a length as argument. Both classes have a area function which can print the area of the shape where Shape's area is 0 by default."
   ]
  },
  {
   "cell_type": "code",
   "execution_count": null,
   "id": "b5e97e69",
   "metadata": {},
   "outputs": [],
   "source": [
    "class Shape:\n",
    "    def area(self):\n",
    "        return 0\n",
    "\n",
    "class Square(Shape):\n",
    "    def __init__(self, length):\n",
    "        self.length = length\n",
    "\n",
    "    def area(self):\n",
    "        return self.length ** 2\n",
    "\n",
    "# Create an instance of the Square class\n",
    "square = Square(5)\n",
    "\n",
    "# Calculate and print the area of the square\n",
    "print(\"Area of the square:\", square.area())\n",
    "\n",
    "# Create an instance of the Shape class\n",
    "shape = Shape()\n",
    "\n",
    "# Calculate and print the area of the generic shape (0 by default)\n",
    "print(\"Area of the shape:\", shape.area())\n",
    "\n",
    "\n",
    "# In[ ]:"
   ]
  },
  {
   "cell_type": "raw",
   "id": "a0558835",
   "metadata": {},
   "source": [
    "Question1. Write a function that stutters a word as if someone is struggling to read it. The first two letters are repeated twice with an ellipsis ... and space after each, and then the word is pronounced with a question mark ?.\n",
    "Examples\n",
    "stutter(\"incredible\") ➞ \"in... in... incredible?\"\n",
    "\n",
    "stutter(\"enthusiastic\") ➞ \"en... en... enthusiastic?\"\n",
    "\n",
    "stutter(\"outstanding\") ➞ \"ou... ou... outstanding?\"\n",
    "\n",
    "Hint :- Assume all input is in lower case and at least two characters long."
   ]
  },
  {
   "cell_type": "code",
   "execution_count": null,
   "id": "662843b9",
   "metadata": {},
   "outputs": [],
   "source": [
    "def stutter(word):\n",
    "    # Check if the word has at least two characters\n",
    "    if len(word) >= 2:\n",
    "        # Repeat the first two characters with ellipsis and space\n",
    "        stuttered_word = f\"{word[:2]}... {word[:2]}... {word}?\"\n",
    "        return stuttered_word\n",
    "    else:\n",
    "        # If the word is too short, return it as is\n",
    "        return word\n",
    "\n",
    "# Test the function with examples\n",
    "print(stutter(\"incredible\"))     # \"in... in... incredible?\"\n",
    "print(stutter(\"enthusiastic\"))   # \"en... en... enthusiastic?\"\n",
    "print(stutter(\"outstanding\"))    # \"ou... ou... outstanding?\""
   ]
  },
  {
   "cell_type": "raw",
   "id": "ad9fd5a9",
   "metadata": {},
   "source": [
    "Question 2.Create a function that takes an angle in radians and returns the corresponding angle in degrees rounded to one decimal place.\n",
    "Examples\n",
    "radians_to_degrees(1) ➞ 57.3\n",
    "\n",
    "radians_to_degrees(20) ➞ 1145.9\n",
    "\n",
    "radians_to_degrees(50) ➞ 2864.8"
   ]
  },
  {
   "cell_type": "code",
   "execution_count": null,
   "id": "c59e7052",
   "metadata": {},
   "outputs": [],
   "source": [
    "import math\n",
    "\n",
    "def radians_to_degrees(radians):\n",
    "    degrees = radians * (180 / math.pi)\n",
    "    return round(degrees, 1)\n",
    "\n",
    "# Test the function with examples\n",
    "print(radians_to_degrees(1))   # 57.3\n",
    "print(radians_to_degrees(20))  # 1145.9\n",
    "print(radians_to_degrees(50))  # 2864.8"
   ]
  },
  {
   "cell_type": "raw",
   "id": "91cb6d8f",
   "metadata": {},
   "source": [
    "Question 3. In this challenge, establish if a given integer num is a Curzon number. If 1 plus 2 elevated to num is exactly divisible by 1 plus 2 multiplied by num, then num is a Curzon number.\n",
    "Given a non-negative integer num, implement a function that returns True if num is a Curzon number, or False otherwise.\n",
    "Examples\n",
    "is_curzon(5) ➞ True\n",
    "# 2 ** 5 + 1 = 33\n",
    "# 2 * 5 + 1 = 11\n",
    "# 33 is a multiple of 11\n",
    "\n",
    "is_curzon(10) ➞ False\n",
    "# 2 ** 10 + 1 = 1025\n",
    "# 2 * 10 + 1 = 21\n",
    "# 1025 is not a multiple of 21\n",
    "\n",
    "is_curzon(14) ➞ True\n",
    "# 2 ** 14 + 1 = 16385\n",
    "# 2 * 14 + 1 = 29\n",
    "# 16385 is a multiple of 29"
   ]
  },
  {
   "cell_type": "code",
   "execution_count": null,
   "id": "5b07bf95",
   "metadata": {},
   "outputs": [],
   "source": [
    "def is_curzon(num):\n",
    "    numerator = 2 ** num + 1\n",
    "    denominator = 2 * num + 1\n",
    "    \n",
    "    return numerator % denominator == 0\n",
    "\n",
    "# Test the function with examples\n",
    "print(is_curzon(5))   # True\n",
    "print(is_curzon(10))  # False\n",
    "print(is_curzon(14))  # True"
   ]
  },
  {
   "cell_type": "raw",
   "id": "24dfad3c",
   "metadata": {},
   "source": [
    "Question 4.Given the side length x find the area of a hexagon.\n",
    " \n",
    "Examples\n",
    "area_of_hexagon(1) ➞ 2.6\n",
    "\n",
    "area_of_hexagon(2) ➞ 10.4\n",
    "\n",
    "area_of_hexagon(3) ➞ 23.4"
   ]
  },
  {
   "cell_type": "code",
   "execution_count": null,
   "id": "22560026",
   "metadata": {},
   "outputs": [],
   "source": [
    "import math\n",
    "\n",
    "def area_of_hexagon(side_length):\n",
    "    area = (3 * math.sqrt(3) * (side_length ** 2)) / 2\n",
    "    return round(area, 1)\n",
    "\n",
    "# Test the function with examples\n",
    "print(area_of_hexagon(1))  # 2.6\n",
    "print(area_of_hexagon(2))  # 10.4\n",
    "print(area_of_hexagon(3))  # 23.4"
   ]
  },
  {
   "cell_type": "raw",
   "id": "65575295",
   "metadata": {},
   "source": [
    "Question 5. Create a function that returns a base-2 (binary) representation of a base-10 (decimal) string number. To convert is simple: ((2) means base-2 and (10) means base-10) 010101001(2) = 1 + 8 + 32 + 128.\n",
    "Going from right to left, the value of the most right bit is 1, now from that every bit to the left will be x2 the value, value of an 8 bit binary numbers are (256, 128, 64, 32, 16, 8, 4, 2, 1).\n",
    "Examples\n",
    "binary(1) ➞ \"1\"\n",
    "# 1*1 = 1\n",
    "\n",
    "binary(5) ➞ \"101\"\n",
    "# 1*1 + 1*4 = 5\n",
    "\n",
    "binary(10) ➞ \"1010\"\n",
    "# 1*2 + 1*8 = 10"
   ]
  },
  {
   "cell_type": "code",
   "execution_count": null,
   "id": "ff462fd4",
   "metadata": {},
   "outputs": [],
   "source": [
    "def binary(decimal_number):\n",
    "    binary_string = bin(decimal_number)[2:]\n",
    "    return binary_string\n",
    "\n",
    "# Test the function with examples\n",
    "print(binary(1))   # \"1\"\n",
    "print(binary(5))   # \"101\"\n",
    "print(binary(10))  # \"1010\"\n",
    "\n"
   ]
  },
  {
   "cell_type": "raw",
   "id": "5154ee83",
   "metadata": {},
   "source": [
    "Question1. Create a function that takes three arguments a, b, c and returns the sum of the numbers that are evenly divided by c from the range a, b inclusive.\n",
    "Examples\n",
    "evenly_divisible(1, 10, 20) ➞ 0\n",
    "# No number between 1 and 10 can be evenly divided by 20.\n",
    "\n",
    "evenly_divisible(1, 10, 2) ➞ 30\n",
    "# 2 + 4 + 6 + 8 + 10 = 30\n",
    "\n",
    "evenly_divisible(1, 10, 3) ➞ 18\n",
    "# 3 + 6 + 9 = 18"
   ]
  },
  {
   "cell_type": "code",
   "execution_count": null,
   "id": "398108da",
   "metadata": {},
   "outputs": [],
   "source": [
    "def evenly_divisible(a, b, c):\n",
    "    total = 0\n",
    "    for num in range(a, b + 1):\n",
    "        if num % c == 0:\n",
    "            total += num\n",
    "    return total\n",
    "\n",
    "# Test the function with examples\n",
    "print(evenly_divisible(1, 10, 20))  # 0\n",
    "print(evenly_divisible(1, 10, 2))   # 30\n",
    "print(evenly_divisible(1, 10, 3))   # 18"
   ]
  },
  {
   "cell_type": "raw",
   "id": "c365eedc",
   "metadata": {},
   "source": [
    "Question2. Create a function that returns True if a given inequality expression is correct and False otherwise.\n",
    "Examples\n",
    "correct_signs(\"3 < 7 < 11\") ➞ True\n",
    "\n",
    "correct_signs(\"13 > 44 > 33 > 1\") ➞ False\n",
    "\n",
    "correct_signs(\"1 < 2 < 6 < 9 > 3\") ➞ True"
   ]
  },
  {
   "cell_type": "code",
   "execution_count": null,
   "id": "b6129180",
   "metadata": {},
   "outputs": [],
   "source": [
    "def correct_signs(expression):\n",
    "    try:\n",
    "        return eval(expression)\n",
    "    except:\n",
    "        return False\n",
    "\n",
    "# Test the function with examples\n",
    "print(correct_signs(\"3 < 7 < 11\"))              # True\n",
    "print(correct_signs(\"13 > 44 > 33 > 1\"))         # False\n",
    "print(correct_signs(\"1 < 2 < 6 < 9 > 3\"))       # True"
   ]
  },
  {
   "cell_type": "raw",
   "id": "9efb320c",
   "metadata": {},
   "source": [
    "Question3. Create a function that replaces all the vowels in a string with a specified character.\n",
    "Examples\n",
    "replace_vowels(\"the aardvark\", \"#\") ➞ \"th# ##rdv#rk\"\n",
    "\n",
    "replace_vowels(\"minnie mouse\", \"?\") ➞ \"m?nn?? m??s?\"\n",
    "\n",
    "replace_vowels(\"shakespeare\", \"*\") ➞ \"sh*k*sp**r*\""
   ]
  },
  {
   "cell_type": "code",
   "execution_count": null,
   "id": "f0301c60",
   "metadata": {},
   "outputs": [],
   "source": [
    "def replace_vowels(text, char):\n",
    "    vowels = \"AEIOUaeiou\"\n",
    "    result = \"\"\n",
    "    for letter in text:\n",
    "        if letter in vowels:\n",
    "            result += char\n",
    "        else:\n",
    "            result += letter\n",
    "    return result\n",
    "\n",
    "# Test the function with examples\n",
    "print(replace_vowels(\"the aardvark\", \"#\"))   # \"th# ##rdv#rk\"\n",
    "print(replace_vowels(\"minnie mouse\", \"?\"))   # \"m?nn?? m??s?\"\n",
    "print(replace_vowels(\"shakespeare\", \"*\"))    # \"sh*k*sp**r*\""
   ]
  },
  {
   "cell_type": "raw",
   "id": "dfde768b",
   "metadata": {},
   "source": [
    "Question4. Write a function that calculates the factorial of a number recursively.\n",
    "Examples\n",
    "factorial(5) ➞ 120\n",
    "\n",
    "factorial(3) ➞ 6\n",
    "\n",
    "factorial(1) ➞ 1\n",
    "\n",
    "factorial(0) ➞ 1"
   ]
  },
  {
   "cell_type": "code",
   "execution_count": null,
   "id": "71e57636",
   "metadata": {},
   "outputs": [],
   "source": [
    "def factorial(n):\n",
    "    if n == 0 or n == 1:\n",
    "        return 1\n",
    "    else:\n",
    "        return n * factorial(n - 1)\n",
    "\n",
    "# Test the function with examples\n",
    "print(factorial(5))  # 120\n",
    "print(factorial(3))  # 6\n",
    "print(factorial(1))  # 1\n",
    "print(factorial(0))  # 1"
   ]
  },
  {
   "cell_type": "raw",
   "id": "7baef367",
   "metadata": {},
   "source": [
    "Question 5\n",
    "Hamming distance is the number of characters that differ between two strings.\n",
    "To illustrate:\n",
    "String1: \"abcbba\"\n",
    "String2: \"abcbda\"\n",
    "\n",
    "Hamming Distance: 1 - \"b\" vs. \"d\" is the only difference.\n",
    "Create a function that computes the hamming distance between two strings.\n",
    "Examples\n",
    "hamming_distance(\"abcde\", \"bcdef\") ➞ 5\n",
    "\n",
    "hamming_distance(\"abcde\", \"abcde\") ➞ 0\n",
    "\n",
    "hamming_distance(\"strong\", \"strung\") ➞ 1"
   ]
  },
  {
   "cell_type": "code",
   "execution_count": null,
   "id": "8fa6acd6",
   "metadata": {},
   "outputs": [],
   "source": [
    "def hamming_distance(str1, str2):\n",
    "    # Check if the strings have the same length\n",
    "    if len(str1) != len(str2):\n",
    "        return None  # Hamming distance is undefined for strings of different lengths\n",
    "    \n",
    "    distance = 0\n",
    "    for i in range(len(str1)):\n",
    "        if str1[i] != str2[i]:\n",
    "            distance += 1\n",
    "    return distance\n",
    "\n",
    "# Test the function with examples\n",
    "print(hamming_distance(\"abcde\", \"bcdef\"))  # 5\n",
    "print(hamming_distance(\"abcde\", \"abcde\"))  # 0\n",
    "print(hamming_distance(\"strong\", \"strung\"))  # 1\n",
    "\n",
    "\n",
    "# In[ ]:"
   ]
  },
  {
   "cell_type": "raw",
   "id": "e7d08136",
   "metadata": {},
   "source": [
    "Question 1\n",
    "Create a function that takes a list of non-negative integers and strings and return a new list without the strings.\n",
    "Examples\n",
    "filter_list([1, 2, \"a\", \"b\"]) ➞ [1, 2]\n",
    "\n",
    "filter_list([1, \"a\", \"b\", 0, 15]) ➞ [1, 0, 15]\n",
    "\n",
    "filter_list([1, 2, \"aasf\", \"1\", \"123\", 123]) ➞ [1, 2, 123]"
   ]
  },
  {
   "cell_type": "code",
   "execution_count": null,
   "id": "7cdff2cb",
   "metadata": {},
   "outputs": [],
   "source": [
    "def filter_list(lst):\n",
    "    filtered_list = [x for x in lst if isinstance(x, int) and x >= 0]\n",
    "    return filtered_list\n",
    "\n",
    "# Test the function with examples\n",
    "print(filter_list([1, 2, \"a\", \"b\"]))              # [1, 2]\n",
    "print(filter_list([1, \"a\", \"b\", 0, 15]))         # [1, 0, 15]\n",
    "print(filter_list([1, 2, \"aasf\", \"1\", \"123\", 123]))  # [1, 2, 123]"
   ]
  },
  {
   "cell_type": "raw",
   "id": "aa28aafb",
   "metadata": {},
   "source": [
    "Question 2\n",
    "The \"Reverser\" takes a string as input and returns that string in reverse order, with the opposite case.\n",
    "Examples\n",
    "reverse(\"Hello World\") ➞ \"DLROw OLLEh\"\n",
    "\n",
    "reverse(\"ReVeRsE\") ➞ \"eSrEvEr\"\n",
    "\n",
    "reverse(\"Radar\") ➞ \"RADAr\""
   ]
  },
  {
   "cell_type": "code",
   "execution_count": null,
   "id": "6a387a23",
   "metadata": {},
   "outputs": [],
   "source": [
    "def reverse(input_string):\n",
    "    reversed_string = input_string[::-1]\n",
    "    reversed_string = ''.join([c.lower() if c.isupper() else c.upper() for c in reversed_string])\n",
    "    return reversed_string\n",
    "\n",
    "# Test the function with examples\n",
    "print(reverse(\"Hello World\"))  # \"DLROw OLLEh\"\n",
    "print(reverse(\"ReVeRsE\"))      # \"eSrEvEr\"\n",
    "print(reverse(\"Radar\"))        # \"RADAr\""
   ]
  },
  {
   "cell_type": "raw",
   "id": "60110b2d",
   "metadata": {},
   "source": [
    "Question 3\n",
    "You can assign variables from lists like this:\n",
    "lst = [1, 2, 3, 4, 5, 6]\n",
    "first = lst[0]\n",
    "middle = lst[1:-1]\n",
    "last = lst[-1]\n",
    "\n",
    "print(first) ➞ outputs 1\n",
    "print(middle) ➞ outputs [2, 3, 4, 5]\n",
    "print(last) ➞ outputs 6\n",
    "With Python 3, you can assign variables from lists in a much more succinct way. Create variables first, middle and last from the given list using destructuring assignment (check the Resources tab for some examples), where:\n",
    "first  ➞ 1\n",
    "\n",
    "middle ➞ [2, 3, 4, 5]\n",
    "\n",
    "last ➞ 6\n",
    "Your task is to unpack the list writeyourcodehere into three variables, being first, middle, and last, with middle being everything in between the first and last element. Then print all three variables."
   ]
  },
  {
   "cell_type": "code",
   "execution_count": null,
   "id": "3cf63712",
   "metadata": {},
   "outputs": [],
   "source": [
    "writeyourcodehere = [1, 2, 3, 4, 5, 6]\n",
    "\n",
    "first, *middle, last = writeyourcodehere\n",
    "\n",
    "print(first)   # 1\n",
    "print(middle)  # [2, 3, 4, 5]\n",
    "print(last)    # 6"
   ]
  },
  {
   "cell_type": "raw",
   "id": "6b0b8b41",
   "metadata": {},
   "source": [
    "Question 4\n",
    "Write a function that calculates the factorial of a number recursively.\n",
    "Examples\n",
    "factorial(5) ➞ 120\n",
    "\n",
    "factorial(3) ➞ 6\n",
    "\n",
    "factorial(1) ➞ 1\n",
    "\n",
    "factorial(0) ➞ 1"
   ]
  },
  {
   "cell_type": "code",
   "execution_count": null,
   "id": "c82ac9e0",
   "metadata": {},
   "outputs": [],
   "source": [
    "def factorial(n):\n",
    "    if n == 0 or n == 1:\n",
    "        return 1\n",
    "    else:\n",
    "        return n * factorial(n - 1)\n",
    "\n",
    "# Test the function with examples\n",
    "print(factorial(5))  # 120\n",
    "print(factorial(3))  # 6\n",
    "print(factorial(1))  # 1\n",
    "print(factorial(0))  # 1"
   ]
  },
  {
   "cell_type": "raw",
   "id": "78d6f9fe",
   "metadata": {},
   "source": [
    "Question 5\n",
    "Write a function that moves all elements of one type to the end of the list.\n",
    "Examples\n",
    "move_to_end([1, 3, 2, 4, 4, 1], 1) ➞ [3, 2, 4, 4, 1, 1]\n",
    "# Move all the 1s to the end of the array.\n",
    "\n",
    "move_to_end([7, 8, 9, 1, 2, 3, 4], 9) ➞ [7, 8, 1, 2, 3, 4, 9]\n",
    "\n",
    "move_to_end([\"a\", \"a\", \"a\", \"b\"], \"a\") ➞ [\"b\", \"a\", \"a\", \"a\"]"
   ]
  },
  {
   "cell_type": "code",
   "execution_count": null,
   "id": "e48ce405",
   "metadata": {},
   "outputs": [],
   "source": [
    "def move_to_end(lst, element):\n",
    "    if element in lst:\n",
    "        count = lst.count(element)\n",
    "        lst.remove(element)\n",
    "        lst.extend([element] * count)\n",
    "    return lst\n",
    "\n",
    "# Test the function with examples\n",
    "print(move_to_end([1, 3, 2, 4, 4, 1], 1))           # [3, 2, 4, 4, 1, 1]\n",
    "print(move_to_end([7, 8, 9, 1, 2, 3, 4], 9))        # [7, 8, 1, 2, 3, 4, 9]\n",
    "print(move_to_end([\"a\", \"a\", \"a\", \"b\"], \"a\"))       # [\"b\", \"a\", \"a\", \"a\"]\n",
    "\n",
    "\n"
   ]
  },
  {
   "cell_type": "raw",
   "id": "3d192f52",
   "metadata": {},
   "source": [
    "Question1\n",
    "Create a function that takes a string and returns a string in which each character is repeated once.\n",
    "Examples\n",
    "double_char(\"String\") ➞ \"SSttrriinngg\"\n",
    "\n",
    "double_char(\"Hello World!\") ➞ \"HHeelllloo  WWoorrlldd!!\"\n",
    "\n",
    "double_char(\"1234!_ \") ➞ \"11223344!!__  \""
   ]
  },
  {
   "cell_type": "code",
   "execution_count": null,
   "id": "c71aac0a",
   "metadata": {},
   "outputs": [],
   "source": [
    "def double_char(input_string):\n",
    "    result = \"\"\n",
    "    for char in input_string:\n",
    "        result += char * 2\n",
    "    return result\n",
    "\n",
    "# Test the function with examples\n",
    "print(double_char(\"String\"))         # \"SSttrriinngg\"\n",
    "print(double_char(\"Hello World!\"))   # \"HHeelllloo  WWoorrlldd!!\"\n",
    "print(double_char(\"1234!_ \"))       # \"11223344!!__  \""
   ]
  },
  {
   "cell_type": "raw",
   "id": "22033906",
   "metadata": {},
   "source": [
    "Question2\n",
    "Create a function that reverses a boolean value and returns the string \"boolean expected\" if another variable type is given.\n",
    "Examples\n",
    "reverse(True) ➞ False\n",
    "\n",
    "reverse(False) ➞ True\n",
    "\n",
    "reverse(0) ➞ \"boolean expected\"\n",
    "\n",
    "reverse(None) ➞ \"boolean expected\""
   ]
  },
  {
   "cell_type": "code",
   "execution_count": null,
   "id": "5a51d234",
   "metadata": {},
   "outputs": [],
   "source": [
    "def reverse(value):\n",
    "    if isinstance(value, bool):\n",
    "        return not value\n",
    "    else:\n",
    "        return \"boolean expected\"\n",
    "\n",
    "# Test the function with examples\n",
    "print(reverse(True))    # False\n",
    "print(reverse(False))   # True\n",
    "print(reverse(0))       # \"boolean expected\"\n",
    "print(reverse(None))    # \"boolean expected\""
   ]
  },
  {
   "cell_type": "raw",
   "id": "6b73acee",
   "metadata": {},
   "source": [
    "Question3\n",
    "Create a function that returns the thickness (in meters) of a piece of paper after folding it n number of times. The paper starts off with a thickness of 0.5mm.\n",
    "Examples\n",
    "num_layers(1) ➞ \"0.001m\"\n",
    "# Paper folded once is 1mm (equal to 0.001m)\n",
    "\n",
    "num_layers(4) ➞ \"0.008m\"\n",
    "# Paper folded 4 times is 8mm (equal to 0.008m)\n",
    "\n",
    "num_layers(21) ➞ \"1048.576m\"\n",
    "# Paper folded 21 times is 1048576mm (equal to 1048.576m)"
   ]
  },
  {
   "cell_type": "code",
   "execution_count": null,
   "id": "0fe5b697",
   "metadata": {},
   "outputs": [],
   "source": [
    "def num_layers(n):\n",
    "    # Initial thickness of the paper in millimeters\n",
    "    thickness_mm = 0.5\n",
    "\n",
    "    # Calculate the thickness after folding n times\n",
    "    for _ in range(n):\n",
    "        thickness_mm *= 2\n",
    "\n",
    "    # Convert the thickness to meters (1 meter = 1000 millimeters)\n",
    "    thickness_m = thickness_mm / 1000\n",
    "\n",
    "    # Format the result as a string with 3 decimal places\n",
    "    return \"{:.3f}m\".format(thickness_m)\n",
    "\n",
    "# Test the function with examples\n",
    "print(num_layers(1))    # \"0.001m\"\n",
    "print(num_layers(4))    # \"0.008m\"\n",
    "print(num_layers(21))   # \"1048.576m\""
   ]
  },
  {
   "cell_type": "raw",
   "id": "fc46ef2e",
   "metadata": {},
   "source": [
    "Question4\n",
    "Create a function that takes a single string as argument and returns an ordered list containing the indices of all capital letters in the string.\n",
    "Examples\n",
    "index_of_caps(\"eDaBiT\") ➞ [1, 3, 5]\n",
    "\n",
    "index_of_caps(\"eQuINoX\") ➞ [1, 3, 4, 6]\n",
    "\n",
    "index_of_caps(\"determine\") ➞ []\n",
    "\n",
    "index_of_caps(\"STRIKE\") ➞ [0, 1, 2, 3, 4, 5]\n",
    "\n",
    "index_of_caps(\"sUn\") ➞ [1]"
   ]
  },
  {
   "cell_type": "code",
   "execution_count": null,
   "id": "bf99095f",
   "metadata": {},
   "outputs": [],
   "source": [
    "def index_of_caps(input_string):\n",
    "    # Initialize an empty list to store the indices of capital letters\n",
    "    indices = []\n",
    "\n",
    "    # Iterate through the characters and their indices in the string\n",
    "    for index, char in enumerate(input_string):\n",
    "        if char.isupper():\n",
    "            # If the character is uppercase, add its index to the list\n",
    "            indices.append(index)\n",
    "\n",
    "    return indices\n",
    "\n",
    "# Test the function with examples\n",
    "print(index_of_caps(\"eDaBiT\"))     # [1, 3, 5]\n",
    "print(index_of_caps(\"eQuINoX\"))    # [1, 3, 4, 6]\n",
    "print(index_of_caps(\"determine\"))   # []\n",
    "print(index_of_caps(\"STRIKE\"))      # [0, 1, 2, 3, 4, 5]\n",
    "print(index_of_caps(\"sUn\"))         # [1]"
   ]
  },
  {
   "cell_type": "raw",
   "id": "3078c6c7",
   "metadata": {},
   "source": [
    "Question5\n",
    "Using list comprehensions, create a function that finds all even numbers from 1 to the given number.\n",
    "Examples\n",
    "find_even_nums(8) ➞ [2, 4, 6, 8]\n",
    "\n",
    "find_even_nums(4) ➞ [2, 4]\n",
    "\n",
    "find_even_nums(2) ➞ [2]"
   ]
  },
  {
   "cell_type": "code",
   "execution_count": null,
   "id": "7b65108a",
   "metadata": {},
   "outputs": [],
   "source": [
    "def find_even_nums(n):\n",
    "    # Use a list comprehension to generate a list of even numbers\n",
    "    even_numbers = [x for x in range(1, n + 1) if x % 2 == 0]\n",
    "    return even_numbers\n",
    "\n",
    "# Test the function with examples\n",
    "print(find_even_nums(8))  # [2, 4, 6, 8]\n",
    "print(find_even_nums(4))  # [2, 4]\n",
    "print(find_even_nums(2))  # [2]\n",
    "\n",
    "\n"
   ]
  },
  {
   "cell_type": "raw",
   "id": "be037801",
   "metadata": {},
   "source": [
    "Question1\n",
    "Create a function that takes a list of strings and integers, and filters out the list so that it returns a list of integers only.\n",
    "Examples\n",
    "filter_list([1, 2, 3, \"a\", \"b\", 4]) ➞ [1, 2, 3, 4]\n",
    "\n",
    "filter_list([\"A\", 0, \"Edabit\", 1729, \"Python\", \"1729\"]) ➞ [0, 1729]\n",
    "\n",
    "filter_list([\"Nothing\", \"here\"]) ➞ []"
   ]
  },
  {
   "cell_type": "code",
   "execution_count": null,
   "id": "b60f32c3",
   "metadata": {},
   "outputs": [],
   "source": [
    "def filter_list(lst):\n",
    "    # Use list comprehension to filter out integers\n",
    "    integers = [x for x in lst if isinstance(x, int)]\n",
    "    return integers\n",
    "\n",
    "# Test the function with examples\n",
    "print(filter_list([1, 2, 3, \"a\", \"b\", 4]))         # [1, 2, 3, 4]\n",
    "print(filter_list([\"A\", 0, \"Edabit\", 1729, \"Python\", \"1729\"]))  # [0, 1729]\n",
    "print(filter_list([\"Nothing\", \"here\"]))             # []"
   ]
  },
  {
   "cell_type": "raw",
   "id": "8210981f",
   "metadata": {},
   "source": [
    "Question2\n",
    "Given a list of numbers, create a function which returns the list but with each element's index in the list added to itself. This means you add 0 to the number at index 0, add 1 to the number at index 1, etc...\n",
    "Examples\n",
    "add_indexes([0, 0, 0, 0, 0]) ➞ [0, 1, 2, 3, 4]\n",
    "\n",
    "add_indexes([1, 2, 3, 4, 5]) ➞ [1, 3, 5, 7, 9]\n",
    "\n",
    "add_indexes([5, 4, 3, 2, 1]) ➞ [5, 5, 5, 5, 5]"
   ]
  },
  {
   "cell_type": "code",
   "execution_count": null,
   "id": "7aeb36aa",
   "metadata": {},
   "outputs": [],
   "source": [
    "def add_indexes(lst):\n",
    "    # Use a list comprehension to add the index to each element\n",
    "    result = [i + lst[i] for i in range(len(lst))]\n",
    "    return result\n",
    "\n",
    "# Test the function with examples\n",
    "print(add_indexes([0, 0, 0, 0, 0]))      # [0, 1, 2, 3, 4]\n",
    "print(add_indexes([1, 2, 3, 4, 5]))    # [1, 3, 5, 7, 9]\n",
    "print(add_indexes([5, 4, 3, 2, 1]))    # [5, 5, 5, 5, 5]"
   ]
  },
  {
   "cell_type": "raw",
   "id": "ac6296b9",
   "metadata": {},
   "source": [
    "Question3\n",
    "Create a function that takes the height and radius of a cone as arguments and returns the volume of the cone rounded to the nearest hundredth. See the resources tab for the formula.\n",
    " \n",
    "Examples\n",
    "cone_volume(3, 2) ➞ 12.57\n",
    "\n",
    "cone_volume(15, 6) ➞ 565.49\n",
    "\n",
    "cone_volume(18, 0) ➞ 0"
   ]
  },
  {
   "cell_type": "code",
   "execution_count": null,
   "id": "2c86930c",
   "metadata": {},
   "outputs": [],
   "source": [
    "import math\n",
    "\n",
    "def cone_volume(height, radius):\n",
    "    # Calculate the volume of the cone using the formula (1/3) * π * r^2 * h\n",
    "    volume = (1/3) * math.pi * (radius ** 2) * height\n",
    "    # Round the volume to two decimal places\n",
    "    rounded_volume = round(volume, 2)\n",
    "    return rounded_volume\n",
    "\n",
    "# Test the function with examples\n",
    "print(cone_volume(3, 2))    # 12.57\n",
    "print(cone_volume(15, 6))   # 565.49\n",
    "print(cone_volume(18, 0))   # 0.0"
   ]
  },
  {
   "cell_type": "raw",
   "id": "4b4b37f0",
   "metadata": {},
   "source": [
    "Question4\n",
    "This Triangular Number Sequence is generated from a pattern of dots that form a triangle. The first 5 numbers of the sequence, or dots, are: \n",
    "1, 3, 6, 10, 15\n",
    "This means that the first triangle has just one dot, the second one has three dots, the third one has 6 dots and so on.\n",
    "Write a function that gives the number of dots with its corresponding triangle number of the sequence.\n",
    "Examples\n",
    "triangle(1) ➞ 1\n",
    "\n",
    "triangle(6) ➞ 21\n",
    "\n",
    "triangle(215) ➞ 23220"
   ]
  },
  {
   "cell_type": "code",
   "execution_count": null,
   "id": "06a3bc65",
   "metadata": {},
   "outputs": [],
   "source": [
    "def triangle(n):\n",
    "    # Calculate the nth triangular number using the formula n(n+1)/2\n",
    "    triangular_number = (n * (n + 1)) // 2\n",
    "    return triangular_number\n",
    "\n",
    "# Test the function with examples\n",
    "print(triangle(1))     # 1\n",
    "print(triangle(6))     # 21\n",
    "print(triangle(215))   # 23220"
   ]
  },
  {
   "cell_type": "raw",
   "id": "89ab28a9",
   "metadata": {},
   "source": [
    "Question5\n",
    "Create a function that takes a list of numbers between 1 and 10 (excluding one number) and returns the missing number.\n",
    "Examples\n",
    "missing_num([1, 2, 3, 4, 6, 7, 8, 9, 10]) ➞ 5\n",
    "\n",
    "missing_num([7, 2, 3, 6, 5, 9, 1, 4, 8]) ➞ 10\n",
    "\n",
    "missing_num([10, 5, 1, 2, 4, 6, 8, 3, 9]) ➞ 7"
   ]
  },
  {
   "cell_type": "code",
   "execution_count": null,
   "id": "8972a335",
   "metadata": {},
   "outputs": [],
   "source": [
    "def missing_num(lst):\n",
    "    # Calculate the sum of numbers from 1 to 10 (inclusive)\n",
    "    expected_sum = sum(range(1, 11))\n",
    "    # Calculate the actual sum of the given list\n",
    "    actual_sum = sum(lst)\n",
    "    # Find the missing number by subtracting the actual sum from the expected sum\n",
    "    missing_number = expected_sum - actual_sum\n",
    "    return missing_number\n",
    "\n",
    "# Test the function with examples\n",
    "print(missing_num([1, 2, 3, 4, 6, 7, 8, 9, 10]))   # 5\n",
    "print(missing_num([7, 2, 3, 6, 5, 9, 1, 4, 8]))    # 10\n",
    "print(missing_num([10, 5, 1, 2, 4, 6, 8, 3, 9]))   # 7\n",
    "\n",
    "\n"
   ]
  },
  {
   "cell_type": "raw",
   "id": "db4f3580",
   "metadata": {},
   "source": [
    "Question1\n",
    "Write a function that takes a list and a number as arguments. Add the number to the end of the list, then remove the first element of the list. The function should then return the updated list.\n",
    "Examples\n",
    "next_in_line([5, 6, 7, 8, 9], 1) ➞ [6, 7, 8, 9, 1]\n",
    "\n",
    "next_in_line([7, 6, 3, 23, 17], 10) ➞ [6, 3, 23, 17, 10]\n",
    "\n",
    "next_in_line([1, 10, 20, 42 ], 6) ➞ [10, 20, 42, 6]\n",
    "\n",
    "next_in_line([], 6) ➞ \"No list has been selected\""
   ]
  },
  {
   "cell_type": "code",
   "execution_count": null,
   "id": "1897f5b5",
   "metadata": {},
   "outputs": [],
   "source": [
    "def next_in_line(lst, num):\n",
    "    # Check if the list is empty\n",
    "    if not lst:\n",
    "        return \"No list has been selected\"\n",
    "    \n",
    "    # Remove the first element of the list\n",
    "    lst.pop(0)\n",
    "    \n",
    "    # Add the number to the end of the list\n",
    "    lst.append(num)\n",
    "    \n",
    "    return lst\n",
    "\n",
    "# Test the function with examples\n",
    "print(next_in_line([5, 6, 7, 8, 9], 1))          # [6, 7, 8, 9, 1]\n",
    "print(next_in_line([7, 6, 3, 23, 17], 10))        # [6, 3, 23, 17, 10]\n",
    "print(next_in_line([1, 10, 20, 42], 6))           # [10, 20, 42, 6]\n",
    "print(next_in_line([], 6))                        # \"No list has been selected\""
   ]
  },
  {
   "cell_type": "raw",
   "id": "90feaa4c",
   "metadata": {},
   "source": [
    "Question2\n",
    "Create the function that takes a list of dictionaries and returns the sum of people's budgets.\n",
    "Examples\n",
    "get_budgets([\n",
    "  { \"name\": \"John\", \"age\": 21, \"budget\": 23000 },\n",
    "  { \"name\": \"Steve\",  \"age\": 32, \"budget\": 40000 },\n",
    "  { \"name\": \"Martin\",  \"age\": 16, \"budget\": 2700 }\n",
    "]) ➞ 65700\n",
    "\n",
    "get_budgets([\n",
    "  { \"name\": \"John\",  \"age\": 21, \"budget\": 29000 },\n",
    "  { \"name\": \"Steve\",  \"age\": 32, \"budget\": 32000 },\n",
    "  { \"name\": \"Martin\",  \"age\": 16, \"budget\": 1600 }\n",
    "]) ➞ 62600"
   ]
  },
  {
   "cell_type": "code",
   "execution_count": null,
   "id": "d0aec120",
   "metadata": {},
   "outputs": [],
   "source": [
    "def get_budgets(lst):\n",
    "    # Initialize a variable to store the total budget\n",
    "    total_budget = 0\n",
    "    \n",
    "    # Iterate through the list of dictionaries\n",
    "    for person in lst:\n",
    "        # Add the budget of each person to the total_budget\n",
    "        total_budget += person[\"budget\"]\n",
    "    \n",
    "    return total_budget\n",
    "\n",
    "# Test the function with examples\n",
    "print(get_budgets([\n",
    "  { \"name\": \"John\", \"age\": 21, \"budget\": 23000 },\n",
    "  { \"name\": \"Steve\",  \"age\": 32, \"budget\": 40000 },\n",
    "  { \"name\": \"Martin\",  \"age\": 16, \"budget\": 2700 }\n",
    "]))  # 65700\n",
    "\n",
    "print(get_budgets([\n",
    "  { \"name\": \"John\",  \"age\": 21, \"budget\": 29000 },\n",
    "  { \"name\": \"Steve\",  \"age\": 32, \"budget\": 32000 },\n",
    "  { \"name\": \"Martin\",  \"age\": 16, \"budget\": 1600 }\n",
    "]))  # 62600"
   ]
  },
  {
   "cell_type": "raw",
   "id": "50405dc3",
   "metadata": {},
   "source": [
    "Question3\n",
    "Create a function that takes a string and returns a string with its letters in alphabetical order.\n",
    "Examples\n",
    "alphabet_soup(\"hello\") ➞ \"ehllo\"\n",
    "\n",
    "alphabet_soup(\"edabit\") ➞ \"abdeit\"\n",
    "\n",
    "alphabet_soup(\"hacker\") ➞ \"acehkr\"\n",
    "\n",
    "alphabet_soup(\"geek\") ➞ \"eegk\"\n",
    "\n",
    "alphabet_soup(\"javascript\") ➞ \"aacijprstv\""
   ]
  },
  {
   "cell_type": "code",
   "execution_count": null,
   "id": "056fe9f4",
   "metadata": {},
   "outputs": [],
   "source": [
    "def alphabet_soup(s):\n",
    "    # Convert the string to a list of characters, sort it, and then join it back into a string\n",
    "    sorted_string = ''.join(sorted(s))\n",
    "    \n",
    "    return sorted_string\n",
    "\n",
    "# Test the function with examples\n",
    "print(alphabet_soup(\"hello\"))  # \"ehllo\"\n",
    "print(alphabet_soup(\"edabit\"))  # \"abdeit\"\n",
    "print(alphabet_soup(\"hacker\"))  # \"acehkr\"\n",
    "print(alphabet_soup(\"geek\"))    # \"eegk\"\n",
    "print(alphabet_soup(\"javascript\"))  # \"aacijprstv\""
   ]
  },
  {
   "cell_type": "raw",
   "id": "94b9d96a",
   "metadata": {},
   "source": [
    "Question4\n",
    "Suppose that you invest $10,000 for 10 years at an interest rate of 6% compounded monthly. What will be the value of your investment at the end of the 10 year period?\n",
    "Create a function that accepts the principal p, the term in years t, the interest rate r, and the number of compounding periods per year n. The function returns the value at the end of term rounded to the nearest cent.\n",
    "For the example above:\n",
    "compound_interest(10000, 10, 0.06, 12) ➞ 18193.97\n",
    "Note that the interest rate is given as a decimal and n=12 because with monthly compounding there are 12 periods per year. Compounding can also be done annually, quarterly, weekly, or daily.\n",
    "Examples\n",
    "compound_interest(100, 1, 0.05, 1) ➞ 105.0\n",
    "\n",
    "compound_interest(3500, 15, 0.1, 4) ➞ 15399.26\n",
    "\n",
    "compound_interest(100000, 20, 0.15, 365) ➞ 2007316.26"
   ]
  },
  {
   "cell_type": "code",
   "execution_count": null,
   "id": "2e12693c",
   "metadata": {},
   "outputs": [],
   "source": [
    "def compound_interest(p, t, r, n):\n",
    "    # Calculate the value at the end of the term\n",
    "    a = p * (1 + (r / n))**(n * t)\n",
    "    # Round the result to the nearest cent\n",
    "    return round(a, 2)\n",
    "\n",
    "# Test the function with examples\n",
    "print(compound_interest(10000, 10, 0.06, 12))  # 18193.97\n",
    "print(compound_interest(100, 1, 0.05, 1))      # 105.0\n",
    "print(compound_interest(3500, 15, 0.1, 4))    # 15399.26\n",
    "print(compound_interest(100000, 20, 0.15, 365))  # 2007316.26"
   ]
  },
  {
   "cell_type": "raw",
   "id": "fee678ea",
   "metadata": {},
   "source": [
    "Question5\n",
    "Write a function that takes a list of elements and returns only the integers.\n",
    "Examples\n",
    "return_only_integer([9, 2, \"space\", \"car\", \"lion\", 16]) ➞ [9, 2, 16]\n",
    "\n",
    "return_only_integer([\"hello\", 81, \"basketball\", 123, \"fox\"]) ➞ [81, 123]\n",
    "\n",
    "return_only_integer([10, \"121\", 56, 20, \"car\", 3, \"lion\"]) ➞ [10, 56, 20, 3]\n",
    "\n",
    "return_only_integer([\"String\",  True,  3.3,  1]) ➞ [1]"
   ]
  },
  {
   "cell_type": "code",
   "execution_count": null,
   "id": "3bf9e95d",
   "metadata": {},
   "outputs": [],
   "source": [
    "def return_only_integer(lst):\n",
    "    # Use list comprehension to filter integers from the list\n",
    "    return [x for x in lst if isinstance(x, int)]\n",
    "\n",
    "# Test the function with examples\n",
    "print(return_only_integer([9, 2, \"space\", \"car\", \"lion\", 16]))  # [9, 2, 16]\n",
    "print(return_only_integer([\"hello\", 81, \"basketball\", 123, \"fox\"]))  # [81, 123]\n",
    "print(return_only_integer([10, \"121\", 56, 20, \"car\", 3, \"lion\"]))  # [10, 56, 20, 3]\n",
    "print(return_only_integer([\"String\", True, 3.3, 1]))  # [1]\n",
    "\n",
    "\n"
   ]
  },
  {
   "cell_type": "raw",
   "id": "c1f1b6f6",
   "metadata": {},
   "source": [
    "Question1\n",
    "Create a function that takes three parameters where:\n",
    "•\tx is the start of the range (inclusive).\n",
    "•\ty is the end of the range (inclusive).\n",
    "•\tn is the divisor to be checked against.\n",
    "Return an ordered list with numbers in the range that are divisible by the third parameter n. Return an empty list if there are no numbers that are divisible by n.\n",
    "Examples\n",
    "list_operation(1, 10, 3) ➞ [3, 6, 9]\n",
    "\n",
    "list_operation(7, 9, 2) ➞ [8]\n",
    "\n",
    "list_operation(15, 20, 7) ➞ []"
   ]
  },
  {
   "cell_type": "code",
   "execution_count": null,
   "id": "2923056e",
   "metadata": {},
   "outputs": [],
   "source": [
    "def list_operation(x, y, n):\n",
    "    # Use list comprehension to generate the list of divisible numbers\n",
    "    result = [i for i in range(x, y + 1) if i % n == 0]\n",
    "    return result\n",
    "\n",
    "# Test the function with examples\n",
    "print(list_operation(1, 10, 3))  # [3, 6, 9]\n",
    "print(list_operation(7, 9, 2))   # [8]\n",
    "print(list_operation(15, 20, 7)) # []"
   ]
  },
  {
   "cell_type": "raw",
   "id": "603ce62c",
   "metadata": {},
   "source": [
    "Question2\n",
    "Create a function that takes in two lists and returns True if the second list follows the first list by one element, and False otherwise. In other words, determine if the second list is the first list shifted to the right by 1.\n",
    "Examples\n",
    "simon_says([1, 2], [5, 1]) ➞ True\n",
    "\n",
    "simon_says([1, 2], [5, 5]) ➞ False\n",
    "\n",
    "simon_says([1, 2, 3, 4, 5], [0, 1, 2, 3, 4]) ➞ True\n",
    "\n",
    "simon_says([1, 2, 3, 4, 5], [5, 5, 1, 2, 3]) ➞ False\n",
    "Notes\n",
    "•\tBoth input lists will be of the same length, and will have a minimum length of 2.\n",
    "•\tThe values of the 0-indexed element in the second list and the n-1th indexed element in the first list do not matter."
   ]
  },
  {
   "cell_type": "code",
   "execution_count": null,
   "id": "b60bcc74",
   "metadata": {},
   "outputs": [],
   "source": [
    "def simon_says(list1, list2):\n",
    "    # Check if list2 is a rotation of list1 by one element to the right\n",
    "    return list1[:-1] == list2[1:]\n",
    "\n",
    "# Test the function with examples\n",
    "print(simon_says([1, 2], [5, 1]))                  # True\n",
    "print(simon_says([1, 2], [5, 5]))                  # False\n",
    "print(simon_says([1, 2, 3, 4, 5], [0, 1, 2, 3, 4])) # True\n",
    "print(simon_says([1, 2, 3, 4, 5], [5, 5, 1, 2, 3])) # False"
   ]
  },
  {
   "cell_type": "raw",
   "id": "6e4cc3ed",
   "metadata": {},
   "source": [
    "Question3\n",
    "A group of friends have decided to start a secret society. The name will be the first letter of each of their names, sorted in alphabetical order.\n",
    "Create a function that takes in a list of names and returns the name of the secret society.\n",
    "Examples\n",
    "society_name([\"Adam\", \"Sarah\", \"Malcolm\"]) ➞ \"AMS\"\n",
    "\n",
    "society_name([\"Harry\", \"Newt\", \"Luna\", \"Cho\"]) ➞ \"CHLN\"\n",
    "\n",
    "society_name([\"Phoebe\", \"Chandler\", \"Rachel\", \"Ross\", \"Monica\", \"Joey\"])"
   ]
  },
  {
   "cell_type": "code",
   "execution_count": null,
   "id": "34638831",
   "metadata": {},
   "outputs": [],
   "source": [
    "def society_name(names):\n",
    "    # Extract the first letter of each name and join them\n",
    "    initials = \"\".join([name[0] for name in names])\n",
    "    \n",
    "    # Sort the initials alphabetically\n",
    "    sorted_initials = sorted(initials)\n",
    "    \n",
    "    # Convert the sorted initials back to a string\n",
    "    secret_name = \"\".join(sorted_initials)\n",
    "    \n",
    "    return secret_name\n",
    "\n",
    "# Test the function with examples\n",
    "print(society_name([\"Adam\", \"Sarah\", \"Malcolm\"]))               # \"AMS\"\n",
    "print(society_name([\"Harry\", \"Newt\", \"Luna\", \"Cho\"]))           # \"CHLN\"\n",
    "print(society_name([\"Phoebe\", \"Chandler\", \"Rachel\", \"Ross\", \"Monica\", \"Joey\"]))  # \"CJMPRR\""
   ]
  },
  {
   "cell_type": "raw",
   "id": "7bcd4ab4",
   "metadata": {},
   "source": [
    "Question4\n",
    "An isogram is a word that has no duplicate letters. Create a function that takes a string and returns either True or False depending on whether or not it's an \"isogram\".\n",
    "Examples\n",
    "is_isogram(\"Algorism\") ➞ True\n",
    "\n",
    "is_isogram(\"PasSword\") ➞ False\n",
    "# Not case sensitive.\n",
    "\n",
    "is_isogram(\"Consecutive\") ➞ False\n",
    "Notes\n",
    "•\tIgnore letter case (should not be case sensitive).\n",
    "•\tAll test cases contain valid one word strings."
   ]
  },
  {
   "cell_type": "code",
   "execution_count": null,
   "id": "973dd057",
   "metadata": {},
   "outputs": [],
   "source": [
    "def is_isogram(word):\n",
    "    # Convert the word to lowercase\n",
    "    lowercase_word = word.lower()\n",
    "    \n",
    "    # Check if the length of the set of characters is equal to the length of the word\n",
    "    return len(set(lowercase_word)) == len(word)\n",
    "\n",
    "# Test the function with examples\n",
    "print(is_isogram(\"Algorism\"))       # True\n",
    "print(is_isogram(\"PasSword\"))       # False\n",
    "print(is_isogram(\"Consecutive\"))    # False"
   ]
  },
  {
   "cell_type": "raw",
   "id": "a7460824",
   "metadata": {},
   "source": [
    "Question5\n",
    "Create a function that takes a string and returns True or False, depending on whether the characters are in order or not.\n",
    "Examples\n",
    "is_in_order(\"abc\") ➞ True\n",
    "\n",
    "is_in_order(\"edabit\") ➞ False\n",
    "\n",
    "is_in_order(\"123\") ➞ True\n",
    "\n",
    "is_in_order(\"xyzz\") ➞ True\n",
    "Notes\n",
    "You don't have to handle empty strings."
   ]
  },
  {
   "cell_type": "code",
   "execution_count": null,
   "id": "345f1b36",
   "metadata": {},
   "outputs": [],
   "source": [
    "def is_in_order(s):\n",
    "    # Iterate through the string from the first character to the second-to-last character\n",
    "    for i in range(len(s) - 1):\n",
    "        # Compare the current character with the next character\n",
    "        if s[i] > s[i + 1]:\n",
    "            return False\n",
    "    # If all characters are in order, return True\n",
    "    return True\n",
    "\n",
    "# Test the function with examples\n",
    "print(is_in_order(\"abc\"))      # True\n",
    "print(is_in_order(\"edabit\"))   # False\n",
    "print(is_in_order(\"123\"))      # True\n",
    "print(is_in_order(\"xyzz\"))     # True\n",
    "\n",
    "\n"
   ]
  },
  {
   "cell_type": "raw",
   "id": "e93d6ea7",
   "metadata": {},
   "source": [
    "Question 1\n",
    "Create a function that takes a number as an argument and returns True or False depending on whether the number is symmetrical or not. A number is symmetrical when it is the same as its reverse.\n",
    "Examples\n",
    "is_symmetrical(7227) ➞ True\n",
    "\n",
    "is_symmetrical(12567) ➞ False\n",
    "\n",
    "is_symmetrical(44444444) ➞ True\n",
    "\n",
    "is_symmetrical(9939) ➞ False\n",
    "\n",
    "is_symmetrical(1112111) ➞ True"
   ]
  },
  {
   "cell_type": "code",
   "execution_count": null,
   "id": "ccb460ce",
   "metadata": {},
   "outputs": [],
   "source": [
    "def is_symmetrical(num):\n",
    "    # Convert the number to a string\n",
    "    num_str = str(num)\n",
    "    \n",
    "    # Check if the string is the same as its reverse\n",
    "    return num_str == num_str[::-1]\n",
    "\n",
    "# Test the function with examples\n",
    "print(is_symmetrical(7227))       # True\n",
    "print(is_symmetrical(12567))      # False\n",
    "print(is_symmetrical(44444444))   # True\n",
    "print(is_symmetrical(9939))       # False\n",
    "print(is_symmetrical(1112111))    # True"
   ]
  },
  {
   "cell_type": "raw",
   "id": "ad5e22c5",
   "metadata": {},
   "source": [
    "Question 2\n",
    "Given a string of numbers separated by a comma and space, return the product of the numbers.\n",
    "Examples\n",
    "multiply_nums(\"2, 3\") ➞ 6\n",
    "\n",
    "multiply_nums(\"1, 2, 3, 4\") ➞ 24\n",
    "\n",
    "multiply_nums(\"54, 75, 453, 0\") ➞ 0\n",
    "\n",
    "multiply_nums(\"10, -2\") ➞ -20"
   ]
  },
  {
   "cell_type": "code",
   "execution_count": null,
   "id": "b800984e",
   "metadata": {},
   "outputs": [],
   "source": [
    "def multiply_nums(nums_str):\n",
    "    # Split the input string by \", \" to get a list of numbers as strings\n",
    "    num_str_list = nums_str.split(\", \")\n",
    "    \n",
    "    # Initialize the product as 1\n",
    "    product = 1\n",
    "    \n",
    "    # Iterate through the list of number strings and multiply them\n",
    "    for num_str in num_str_list:\n",
    "        # Convert the number string to an integer\n",
    "        num = int(num_str)\n",
    "        # Multiply it with the current product\n",
    "        product *= num\n",
    "    \n",
    "    return product\n",
    "\n",
    "# Test the function with examples\n",
    "print(multiply_nums(\"2, 3\"))            # 6\n",
    "print(multiply_nums(\"1, 2, 3, 4\"))       # 24\n",
    "print(multiply_nums(\"54, 75, 453, 0\"))   # 0\n",
    "print(multiply_nums(\"10, -2\"))           # -20"
   ]
  },
  {
   "cell_type": "raw",
   "id": "6017b71c",
   "metadata": {},
   "source": [
    "Question 3\n",
    "Create a function that squares every digit of a number.\n",
    "Examples\n",
    "square_digits(9119) ➞ 811181\n",
    "\n",
    "square_digits(2483) ➞ 416649\n",
    "\n",
    "square_digits(3212) ➞ 9414\n",
    "Notes\n",
    "The function receives an integer and must return an integer."
   ]
  },
  {
   "cell_type": "code",
   "execution_count": null,
   "id": "f061170d",
   "metadata": {},
   "outputs": [],
   "source": [
    "def square_digits(num):\n",
    "    # Convert the number to a string to iterate through its digits\n",
    "    num_str = str(num)\n",
    "    \n",
    "    # Initialize an empty string to store the squared digits\n",
    "    result_str = \"\"\n",
    "    \n",
    "    # Iterate through the digits of the number\n",
    "    for digit_str in num_str:\n",
    "        # Convert the digit string to an integer, square it, and convert it back to a string\n",
    "        squared_digit_str = str(int(digit_str) ** 2)\n",
    "        \n",
    "        # Append the squared digit string to the result string\n",
    "        result_str += squared_digit_str\n",
    "    \n",
    "    # Convert the result string to an integer and return it\n",
    "    return int(result_str)\n",
    "\n",
    "# Test the function with examples\n",
    "print(square_digits(9119))  # 811181\n",
    "print(square_digits(2483))  # 416649\n",
    "print(square_digits(3212))  # 9414"
   ]
  },
  {
   "cell_type": "raw",
   "id": "650eb5ba",
   "metadata": {},
   "source": [
    "Question 4\n",
    "Create a function that sorts a list and removes all duplicate items from it.\n",
    "Examples\n",
    "setify([1, 3, 3, 5, 5]) ➞ [1, 3, 5]\n",
    "\n",
    "setify([4, 4, 4, 4]) ➞ [4]\n",
    "\n",
    "setify([5, 7, 8, 9, 10, 15]) ➞ [5, 7, 8, 9, 10, 15]\n",
    "\n",
    "setify([3, 3, 3, 2, 1]) ➞ [1, 2, 3]"
   ]
  },
  {
   "cell_type": "code",
   "execution_count": null,
   "id": "b3ec30a0",
   "metadata": {},
   "outputs": [],
   "source": [
    "def setify(lst):\n",
    "    # Use sorted() to sort the list and use set() to remove duplicates\n",
    "    unique_sorted_lst = sorted(set(lst))\n",
    "    \n",
    "    # Convert the result back to a list and return it\n",
    "    return list(unique_sorted_lst)\n",
    "\n",
    "# Test the function with examples\n",
    "print(setify([1, 3, 3, 5, 5]))  # [1, 3, 5]\n",
    "print(setify([4, 4, 4, 4]))  # [4]\n",
    "print(setify([5, 7, 8, 9, 10, 15]))  # [5, 7, 8, 9, 10, 15]\n",
    "print(setify([3, 3, 3, 2, 1]))  # [1, 2, 3]"
   ]
  },
  {
   "cell_type": "raw",
   "id": "ca944705",
   "metadata": {},
   "source": [
    "Question 5\n",
    "Create a function that returns the mean of all digits.\n",
    "Examples\n",
    "mean(42) ➞ 3\n",
    "\n",
    "mean(12345) ➞ 3\n",
    "\n",
    "mean(666) ➞ 6\n",
    "Notes\n",
    "•\tThe mean of all digits is the sum of digits / how many digits there are (e.g. mean of digits in 512 is (5+1+2)/3(number of digits) = 8/3=2).\n",
    "•\tThe mean will always be an integer."
   ]
  },
  {
   "cell_type": "code",
   "execution_count": null,
   "id": "6975ac8e",
   "metadata": {},
   "outputs": [],
   "source": [
    "def mean(num):\n",
    "    # Convert the number to a string\n",
    "    num_str = str(num)\n",
    "    \n",
    "    # Initialize variables to calculate the sum and count of digits\n",
    "    digit_sum = 0\n",
    "    digit_count = 0\n",
    "    \n",
    "    # Iterate through the digits in the string\n",
    "    for digit_char in num_str:\n",
    "        # Convert the digit character back to an integer\n",
    "        digit = int(digit_char)\n",
    "        \n",
    "        # Update the sum and count\n",
    "        digit_sum += digit\n",
    "        digit_count += 1\n",
    "    \n",
    "    # Calculate the mean (sum of digits / number of digits)\n",
    "    if digit_count == 0:\n",
    "        return 0  # Avoid division by zero\n",
    "    else:\n",
    "        return digit_sum // digit_count  # Use integer division for the mean\n",
    "\n",
    "# Test the function with examples\n",
    "print(mean(42))  # 3\n",
    "print(mean(12345))  # 3\n",
    "print(mean(666))  # 6\n",
    "\n",
    "\n"
   ]
  },
  {
   "cell_type": "raw",
   "id": "ea6b3033",
   "metadata": {},
   "source": [
    "Question1\n",
    "Create a function that takes an integer and returns a list from 1 to the given number, where:\n",
    "1.\tIf the number can be divided evenly by 4, amplify it by 10 (i.e. return 10 times the number).\n",
    "2.\tIf the number cannot be divided evenly by 4, simply return the number.\n",
    "Examples\n",
    "amplify(4) ➞ [1, 2, 3, 40]\n",
    "\n",
    "amplify(3) ➞ [1, 2, 3]\n",
    "\n",
    "amplify(25) ➞ [1, 2, 3, 40, 5, 6, 7, 80, 9, 10, 11, 120, 13, 14, 15, 160, 17, 18, 19, 200, 21, 22, 23, 240, 25]\n",
    "Notes\n",
    "•\tThe given integer will always be equal to or greater than 1.\n",
    "•\tInclude the number (see example above).\n",
    "•\tTo perform this problem with its intended purpose, try doing it with list comprehensions. If that's too difficult, just solve the challenge any way you can."
   ]
  },
  {
   "cell_type": "code",
   "execution_count": null,
   "id": "469f328a",
   "metadata": {},
   "outputs": [],
   "source": [
    "def amplify(num):\n",
    "    # Use a list comprehension to generate the list\n",
    "    return [i * 10 if i % 4 == 0 else i for i in range(1, num + 1)]\n",
    "\n",
    "# Test the function with examples\n",
    "print(amplify(4))  # [1, 2, 3, 40]\n",
    "print(amplify(3))  # [1, 2, 3]\n",
    "print(amplify(25))  # [1, 2, 3, 40, 5, 6, 7, 80, 9, 10, 11, 120, 13, 14, 15, 160, 17, 18, 19, 200, 21, 22, 23, 240, 25]"
   ]
  },
  {
   "cell_type": "raw",
   "id": "7cf9f1e6",
   "metadata": {},
   "source": [
    "Question2\n",
    "Create a function that takes a list of numbers and return the number that's unique.\n",
    "Examples\n",
    "unique([3, 3, 3, 7, 3, 3]) ➞ 7\n",
    "\n",
    "unique([0, 0, 0.77, 0, 0]) ➞ 0.77\n",
    "\n",
    "unique([0, 1, 1, 1, 1, 1, 1, 1]) ➞ 0\n",
    "Notes\n",
    "Test cases will always have exactly one unique number while all others are the same."
   ]
  },
  {
   "cell_type": "code",
   "execution_count": null,
   "id": "aaa8ed1b",
   "metadata": {},
   "outputs": [],
   "source": [
    "def unique(numbers):\n",
    "    # Create a dictionary to count the occurrences of each number\n",
    "    counts = {}\n",
    "    \n",
    "    # Iterate through the list and count occurrences\n",
    "    for num in numbers:\n",
    "        if num in counts:\n",
    "            counts[num] += 1\n",
    "        else:\n",
    "            counts[num] = 1\n",
    "    \n",
    "    # Find the unique number with a count of 1\n",
    "    for num, count in counts.items():\n",
    "        if count == 1:\n",
    "            return num\n",
    "\n",
    "# Test the function with examples\n",
    "print(unique([3, 3, 3, 7, 3, 3]))  # 7\n",
    "print(unique([0, 0, 0.77, 0, 0]))  # 0.77\n",
    "print(unique([0, 1, 1, 1, 1, 1, 1, 1]))  # 0"
   ]
  },
  {
   "cell_type": "raw",
   "id": "a1d6c9db",
   "metadata": {},
   "source": [
    "Question3\n",
    "Your task is to create a Circle constructor that creates a circle with a radius provided by an argument. The circles constructed must have two getters getArea() (PIr^2) and getPerimeter() (2PI*r) which give both respective areas and perimeter (circumference).\n",
    "For help with this class, I have provided you with a Rectangle constructor which you can use as a base example.\n",
    "Examples\n",
    "circy = Circle(11)\n",
    "circy.getArea()\n",
    "\n",
    "# Should return 380.132711084365\n",
    "\n",
    "circy = Circle(4.44)\n",
    "circy.getPerimeter()\n",
    "\n",
    "# Should return 27.897342763877365\n",
    "Notes\n",
    "Round results up to the nearest integer."
   ]
  },
  {
   "cell_type": "code",
   "execution_count": null,
   "id": "6547f4cd",
   "metadata": {},
   "outputs": [],
   "source": [
    "import math\n",
    "\n",
    "class Circle:\n",
    "    def __init__(self, radius):\n",
    "        self.radius = radius\n",
    "\n",
    "    def getArea(self):\n",
    "        area = math.pi * self.radius ** 2\n",
    "        return round(area)\n",
    "\n",
    "    def getPerimeter(self):\n",
    "        perimeter = 2 * math.pi * self.radius\n",
    "        return round(perimeter)\n",
    "\n",
    "# Test the Circle class with examples\n",
    "circy = Circle(11)\n",
    "print(circy.getArea())  # Should return 380\n",
    "\n",
    "circy = Circle(4.44)\n",
    "print(circy.getPerimeter())  # Should return 28"
   ]
  },
  {
   "cell_type": "raw",
   "id": "ea89fc22",
   "metadata": {},
   "source": [
    "Question4\n",
    "Create a function that takes a list of strings and return a list, sorted from shortest to longest.\n",
    "Examples\n",
    "sort_by_length([\"Google\", \"Apple\", \"Microsoft\"])\n",
    "➞ [\"Apple\", \"Google\", \"Microsoft\"]\n",
    "\n",
    "sort_by_length([\"Leonardo\", \"Michelangelo\", \"Raphael\", \"Donatello\"])\n",
    "➞ [\"Raphael\", \"Leonardo\", \"Donatello\", \"Michelangelo\"]\n",
    "\n",
    "sort_by_length([\"Turing\", \"Einstein\", \"Jung\"])\n",
    "➞ [\"Jung\", \"Turing\", \"Einstein\"]\n",
    "Notes\n",
    "All test cases contain lists with strings of different lengths, so you won't have to deal with multiple strings of the same length."
   ]
  },
  {
   "cell_type": "code",
   "execution_count": null,
   "id": "0af9d4d3",
   "metadata": {},
   "outputs": [],
   "source": [
    "def sort_by_length(strings):\n",
    "    # Use the sorted() function with a custom key function to sort by string length\n",
    "    sorted_strings = sorted(strings, key=lambda x: len(x))\n",
    "    return sorted_strings\n",
    "\n",
    "# Test the function with examples\n",
    "print(sort_by_length([\"Google\", \"Apple\", \"Microsoft\"]))\n",
    "# Should return [\"Apple\", \"Google\", \"Microsoft\"]\n",
    "\n",
    "print(sort_by_length([\"Leonardo\", \"Michelangelo\", \"Raphael\", \"Donatello\"]))\n",
    "# Should return [\"Raphael\", \"Leonardo\", \"Donatello\", \"Michelangelo\"]\n",
    "\n",
    "print(sort_by_length([\"Turing\", \"Einstein\", \"Jung\"]))\n",
    "# Should return [\"Jung\", \"Turing\", \"Einstein\"]"
   ]
  },
  {
   "cell_type": "raw",
   "id": "145c4d48",
   "metadata": {},
   "source": [
    "Question5\n",
    "Create a function that validates whether three given integers form a Pythagorean triplet. The sum of the squares of the two smallest integers must equal the square of the largest number to be validated.\n",
    "\n",
    "\n",
    "Examples\n",
    "is_triplet(3, 4, 5) ➞ True\n",
    "# 3² + 4² = 25\n",
    "# 5² = 25\n",
    "\n",
    "is_triplet(13, 5, 12) ➞ True\n",
    "# 5² + 12² = 169\n",
    "# 13² = 169\n",
    "\n",
    "is_triplet(1, 2, 3) ➞ False\n",
    "# 1² + 2² = 5\n",
    "# 3² = 9\n",
    "Notes\n",
    "Numbers may not be given in a sorted order."
   ]
  },
  {
   "cell_type": "code",
   "execution_count": null,
   "id": "fe1c15e2",
   "metadata": {},
   "outputs": [],
   "source": [
    "def is_triplet(a, b, c):\n",
    "    # Sort the three numbers\n",
    "    numbers = [a, b, c]\n",
    "    numbers.sort()\n",
    "\n",
    "    # Check if it's a Pythagorean triplet\n",
    "    return numbers[0]**2 + numbers[1]**2 == numbers[2]**2\n",
    "\n",
    "# Test the function with examples\n",
    "print(is_triplet(3, 4, 5))  # Should return True\n",
    "print(is_triplet(13, 5, 12))  # Should return True\n",
    "print(is_triplet(1, 2, 3))  # Should return False\n",
    "\n",
    "\n"
   ]
  },
  {
   "cell_type": "raw",
   "id": "18af9440",
   "metadata": {},
   "source": [
    "Question1\n",
    "Create a function that takes three integer arguments (a, b, c) and returns the amount of integers which are of equal value.\n",
    "Examples\n",
    "equal(3, 4, 3) ➞ 2\n",
    "\n",
    "equal(1, 1, 1) ➞ 3\n",
    "\n",
    "equal(3, 4, 1) ➞ 0 \n",
    "Notes\n",
    "Your function must return 0, 2 or 3."
   ]
  },
  {
   "cell_type": "code",
   "execution_count": null,
   "id": "9b54b357",
   "metadata": {},
   "outputs": [],
   "source": [
    "def equal(a, b, c):\n",
    "    if a == b == c:\n",
    "        return 3\n",
    "    elif a == b or a == c or b == c:\n",
    "        return 2\n",
    "    else:\n",
    "        return 0\n",
    "\n",
    "# Test the function with examples\n",
    "print(equal(3, 4, 3))  # Should return 2\n",
    "print(equal(1, 1, 1))  # Should return 3\n",
    "print(equal(3, 4, 1))  # Should return 0"
   ]
  },
  {
   "cell_type": "raw",
   "id": "dd96506c",
   "metadata": {},
   "source": [
    "Question2\n",
    "Write a function that converts a dictionary into a list of keys-values tuples.\n",
    "Examples\n",
    "dict_to_list({\n",
    "  \"D\": 1,\n",
    "  \"B\": 2,\n",
    "  \"C\": 3\n",
    "}) ➞ [(\"B\", 2), (\"C\", 3), (\"D\", 1)]\n",
    "\n",
    "dict_to_list({\n",
    "  \"likes\": 2,\n",
    "  \"dislikes\": 3,\n",
    "  \"followers\": 10\n",
    "}) ➞ [(\"dislikes\", 3), (\"followers\", 10), (\"likes\", 2)]\n",
    "Notes\n",
    "Return the elements in the list in alphabetical order."
   ]
  },
  {
   "cell_type": "code",
   "execution_count": null,
   "id": "e8235ed9",
   "metadata": {},
   "outputs": [],
   "source": [
    "def dict_to_list(d):\n",
    "    # Convert the dictionary items into a list of tuples\n",
    "    items = list(d.items())\n",
    "    \n",
    "    # Sort the list of tuples alphabetically by the first element (keys)\n",
    "    items.sort(key=lambda x: x[0])\n",
    "    \n",
    "    return items\n",
    "\n",
    "# Test the function with examples\n",
    "print(dict_to_list({\n",
    "  \"D\": 1,\n",
    "  \"B\": 2,\n",
    "  \"C\": 3\n",
    "}))  # Should return [(\"B\", 2), (\"C\", 3), (\"D\", 1)]\n",
    "\n",
    "print(dict_to_list({\n",
    "  \"likes\": 2,\n",
    "  \"dislikes\": 3,\n",
    "  \"followers\": 10\n",
    "}))  # Should return [(\"dislikes\", 3), (\"followers\", 10), (\"likes\", 2)]"
   ]
  },
  {
   "cell_type": "raw",
   "id": "7b7bce5a",
   "metadata": {},
   "source": [
    "Question3\n",
    "Write a function that creates a dictionary with each (key, value) pair being the (lower case, upper case) versions of a letter, respectively.\n",
    "Examples\n",
    "mapping([\"p\", \"s\"]) ➞ { \"p\": \"P\", \"s\": \"S\" }\n",
    "\n",
    "mapping([\"a\", \"b\", \"c\"]) ➞ { \"a\": \"A\", \"b\": \"B\", \"c\": \"C\" }\n",
    "\n",
    "mapping([\"a\", \"v\", \"y\", \"z\"]) ➞ { \"a\": \"A\", \"v\": \"V\", \"y\": \"Y\", \"z\": \"Z\" }\n",
    "Notes\n",
    "All of the letters in the input list will always be lowercase."
   ]
  },
  {
   "cell_type": "code",
   "execution_count": null,
   "id": "4be566b4",
   "metadata": {},
   "outputs": [],
   "source": [
    "def mapping(letters):\n",
    "    # Create a dictionary using a dictionary comprehension\n",
    "    result = {letter: letter.upper() for letter in letters}\n",
    "    return result\n",
    "\n",
    "# Test the function with examples\n",
    "print(mapping([\"p\", \"s\"]))  # Should return { \"p\": \"P\", \"s\": \"S\" }\n",
    "\n",
    "print(mapping([\"a\", \"b\", \"c\"]))  # Should return { \"a\": \"A\", \"b\": \"B\", \"c\": \"C\" }\n",
    "\n",
    "print(mapping([\"a\", \"v\", \"y\", \"z\"]))  # Should return { \"a\": \"A\", \"v\": \"V\", \"y\": \"Y\", \"z\": \"Z\" }"
   ]
  },
  {
   "cell_type": "raw",
   "id": "3165912b",
   "metadata": {},
   "source": [
    "Question4\n",
    "Write a function, that replaces all vowels in a string with a specified vowel.\n",
    "Examples\n",
    "vow_replace(\"apples and bananas\", \"u\") ➞ \"upplus und bununus\"\n",
    "\n",
    "vow_replace(\"cheese casserole\", \"o\") ➞ \"chooso cossorolo\"\n",
    "\n",
    "vow_replace(\"stuffed jalapeno poppers\", \"e\") ➞ \"steffed jelepene peppers\"\n",
    "Notes\n",
    "All words will be lowercase. Y is not considered a vowel."
   ]
  },
  {
   "cell_type": "code",
   "execution_count": null,
   "id": "75ce89c3",
   "metadata": {},
   "outputs": [],
   "source": [
    "def vow_replace(input_string, new_vowel):\n",
    "    # Define a set of vowels\n",
    "    vowels = \"aeiou\"\n",
    "    \n",
    "    # Initialize an empty string to store the result\n",
    "    result = \"\"\n",
    "    \n",
    "    # Iterate through each character in the input string\n",
    "    for char in input_string:\n",
    "        # If the character is a vowel, add the new vowel to the result\n",
    "        if char in vowels:\n",
    "            result += new_vowel\n",
    "        else:\n",
    "            result += char  # Otherwise, add the original character\n",
    "    \n",
    "    return result\n",
    "\n",
    "# Test the function with examples\n",
    "print(vow_replace(\"apples and bananas\", \"u\"))  # Should return \"upplus und bununus\"\n",
    "\n",
    "print(vow_replace(\"cheese casserole\", \"o\"))  # Should return \"chooso cossorolo\"\n",
    "\n",
    "print(vow_replace(\"stuffed jalapeno poppers\", \"e\"))  # Should return \"steffed jelepene peppers\""
   ]
  },
  {
   "cell_type": "raw",
   "id": "798ad7e7",
   "metadata": {},
   "source": [
    "Question5\n",
    "Create a function that takes a string as input and capitalizes a letter if its ASCII code is even and returns its lower case version if its ASCII code is odd.\n",
    "Examples\n",
    "ascii_capitalize(\"to be or not to be!\") ➞ \"To Be oR NoT To Be!\"\n",
    "\n",
    "ascii_capitalize(\"THE LITTLE MERMAID\") ➞ \"THe LiTTLe meRmaiD\"\n",
    "\n",
    "ascii_capitalize(\"Oh what a beautiful morning.\") ➞ \"oH wHaT a BeauTiFuL moRNiNg.\""
   ]
  },
  {
   "cell_type": "code",
   "execution_count": null,
   "id": "35faf84d",
   "metadata": {},
   "outputs": [],
   "source": [
    "def ascii_capitalize(input_string):\n",
    "    result = \"\"\n",
    "    \n",
    "    for char in input_string:\n",
    "        # Check if the ASCII code of the character is even\n",
    "        if ord(char) % 2 == 0:\n",
    "            result += char.upper()  # Capitalize the character\n",
    "        else:\n",
    "            result += char.lower()  # Convert the character to lowercase\n",
    "    \n",
    "    return result\n",
    "\n",
    "# Test the function with examples\n",
    "print(ascii_capitalize(\"to be or not to be!\"))  # Should return \"To Be oR NoT To Be!\"\n",
    "\n",
    "print(ascii_capitalize(\"THE LITTLE MERMAID\"))  # Should return \"THe LiTTLe meRmaiD\"\n",
    "\n",
    "print(ascii_capitalize(\"Oh what a beautiful morning.\"))  # Should return \"oH wHaT a BeauTiFuL moRNiNg.\"\n",
    "\n",
    "\n"
   ]
  },
  {
   "cell_type": "code",
   "execution_count": null,
   "id": "19f772cf",
   "metadata": {},
   "outputs": [],
   "source": []
  }
 ],
 "metadata": {
  "kernelspec": {
   "display_name": "Python 3 (ipykernel)",
   "language": "python",
   "name": "python3"
  },
  "language_info": {
   "codemirror_mode": {
    "name": "ipython",
    "version": 3
   },
   "file_extension": ".py",
   "mimetype": "text/x-python",
   "name": "python",
   "nbconvert_exporter": "python",
   "pygments_lexer": "ipython3",
   "version": "3.11.3"
  }
 },
 "nbformat": 4,
 "nbformat_minor": 5
}
