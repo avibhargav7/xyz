{
 "cells": [
  {
   "cell_type": "raw",
   "id": "7296b581",
   "metadata": {},
   "source": [
    "1. What is the output of the following code?\n",
    "\n",
    "x = 5\n",
    "\n",
    "y = 3\n",
    "\n",
    "x = y\n",
    "\n",
    "y = x + 2\n",
    "\n",
    "print(x, y)"
   ]
  },
  {
   "cell_type": "code",
   "execution_count": null,
   "id": "02250258",
   "metadata": {},
   "outputs": [],
   "source": [
    "x = 5\n",
    "\n",
    "y = 3\n",
    "\n",
    "x = y\n",
    "\n",
    "y = x + 2\n",
    "\n",
    "print(x, y)"
   ]
  },
  {
   "cell_type": "raw",
   "id": "ee114278",
   "metadata": {},
   "source": [
    "What is the output of the following code?\n",
    "\n",
    "a = 10\n",
    "\n",
    "b = 5\n",
    "\n",
    "c = a // b\n",
    "\n",
    "d = a % b\n",
    "\n",
    "print(c, d)"
   ]
  },
  {
   "cell_type": "code",
   "execution_count": null,
   "id": "86cabc28",
   "metadata": {},
   "outputs": [],
   "source": [
    "a = 10\n",
    "\n",
    "b = 5\n",
    "\n",
    "c = a // b\n",
    "\n",
    "d = a % b\n",
    "\n",
    "print(c, d)"
   ]
  },
  {
   "cell_type": "raw",
   "id": "312ed43c",
   "metadata": {},
   "source": [
    "3. What is the output of the following code?\n",
    "\n",
    "x = 5\n",
    "\n",
    "y = 10\n",
    "\n",
    "x = y\n",
    "\n",
    "y = 20\n",
    "\n",
    "print(x)"
   ]
  },
  {
   "cell_type": "code",
   "execution_count": null,
   "id": "b570d816",
   "metadata": {},
   "outputs": [],
   "source": [
    "x = 5\n",
    "\n",
    "y = 10\n",
    "\n",
    "x = y\n",
    "\n",
    "y = 20\n",
    "\n",
    "print(x)"
   ]
  },
  {
   "cell_type": "raw",
   "id": "cedf9749",
   "metadata": {},
   "source": [
    "4. What is the output of the following code snippet?\n",
    "\n",
    "x = 5\n",
    "\n",
    "y = 10\n",
    "\n",
    "if x > y:\n",
    "\n",
    "    print(\"x is greater\")\n",
    "\n",
    "else:\n",
    "\n",
    "    print(\"y is greater\")"
   ]
  },
  {
   "cell_type": "code",
   "execution_count": null,
   "id": "ac81646c",
   "metadata": {},
   "outputs": [],
   "source": [
    "x = 5\n",
    "\n",
    "y = 10\n",
    "\n",
    "if x > y:\n",
    "\n",
    "    print(\"x is greater\")\n",
    "\n",
    "else:\n",
    "\n",
    "    print(\"y is greater\")"
   ]
  },
  {
   "cell_type": "raw",
   "id": "e6d1dfb2",
   "metadata": {},
   "source": [
    "5. What will be the output of the given code?\n",
    "\n",
    "sum = 0\n",
    "\n",
    "for i in range(1, 6):\n",
    "\n",
    "    sum += i\n",
    "\n",
    "print(sum)"
   ]
  },
  {
   "cell_type": "code",
   "execution_count": null,
   "id": "8a443af7",
   "metadata": {},
   "outputs": [],
   "source": [
    "sum = 0\n",
    "\n",
    "for i in range(1, 6):\n",
    "    sum += i\n",
    "print(sum)"
   ]
  },
  {
   "cell_type": "raw",
   "id": "0c2458fa",
   "metadata": {},
   "source": [
    "6. What will be the output of the given code?\n",
    "\n",
    "count = 0\n",
    "\n",
    "while count < 5:\n",
    "\n",
    "    print(count)\n",
    "\n",
    "    count += 1"
   ]
  },
  {
   "cell_type": "code",
   "execution_count": null,
   "id": "ee4855d2",
   "metadata": {},
   "outputs": [],
   "source": [
    "count = 0\n",
    "\n",
    "while count < 5:\n",
    "\n",
    "    print(count)\n",
    "\n",
    "    count += 1"
   ]
  },
  {
   "cell_type": "raw",
   "id": "0df53b0f",
   "metadata": {},
   "source": [
    "7. What will be the output of the given code if x = 10?\n",
    "\n",
    "\n",
    "x = 10\n",
    "\n",
    "if x > 5:\n",
    "\n",
    "    print(\"x is greater than 5\")\n",
    "\n",
    "elif x == 5:\n",
    "\n",
    "    print(\"x is equal to 5\")\n",
    "\n",
    "else:\n",
    "\n",
    "    print(\"x is less than 5\")"
   ]
  },
  {
   "cell_type": "code",
   "execution_count": null,
   "id": "82ae90cf",
   "metadata": {},
   "outputs": [],
   "source": [
    "x = 10\n",
    "\n",
    "if x > 5:\n",
    "\n",
    "    print(\"x is greater than 5\")\n",
    "\n",
    "elif x == 5:\n",
    "\n",
    "    print(\"x is equal to 5\")\n",
    "\n",
    "else:\n",
    "\n",
    "    print(\"x is less than 5\")"
   ]
  },
  {
   "cell_type": "raw",
   "id": "f90ce865",
   "metadata": {},
   "source": [
    "8. Which of the following data types in Python is mutable?\n",
    "\n",
    "\n",
    "int\n",
    "\n",
    "\n",
    "float\n",
    "\n",
    "\n",
    "tuple\n",
    "\n",
    "\n",
    "list"
   ]
  },
  {
   "cell_type": "markdown",
   "id": "88621c44",
   "metadata": {},
   "source": [
    "List"
   ]
  },
  {
   "cell_type": "markdown",
   "id": "60f1d879",
   "metadata": {},
   "source": [
    "###  immutable  - Strings ,  tuples \n",
    "### mutable -  lists, dictionaries, sets"
   ]
  },
  {
   "cell_type": "raw",
   "id": "3d45822e",
   "metadata": {},
   "source": [
    "9. Which of the following data types in Python is immutable?\n",
    "\n",
    "\n",
    "set\n",
    "\n",
    "\n",
    "dict\n",
    "\n",
    "\n",
    "list\n",
    "\n",
    "\n",
    "str"
   ]
  },
  {
   "cell_type": "markdown",
   "id": "977924cb",
   "metadata": {},
   "source": [
    "str"
   ]
  },
  {
   "cell_type": "raw",
   "id": "5fae5124",
   "metadata": {},
   "source": [
    "10. Which of the following operations can be performed on immutable objects?\n",
    "\n",
    "\n",
    "(A). Appending new elements\n",
    "(B). Removing elements\n",
    "(C). Modifying elements\n",
    "(D). None of the above"
   ]
  },
  {
   "cell_type": "markdown",
   "id": "744c59b3",
   "metadata": {},
   "source": [
    "(D). None of the above"
   ]
  },
  {
   "cell_type": "markdown",
   "id": "df8c9c70",
   "metadata": {},
   "source": [
    "- (A) Appending new elements: Immutable objects like strings and tuples cannot have new elements appended to them. Attempting to do so will result in creating a new object with the appended element(s).\n",
    "\n",
    "- (B) Removing elements: Immutable objects cannot have elements removed from them since their contents cannot be changed after creation.\n",
    "\n",
    "- (C) Modifying elements: Immutable objects cannot have their elements modified. Once an immutable object is created, its elements remain the same throughout its lifetime."
   ]
  },
  {
   "cell_type": "raw",
   "id": "aee65bef",
   "metadata": {},
   "source": [
    "11. What happens when you assign a new value to an existing variable of an immutable data type?\n",
    "\n",
    "\n",
    "(A). The existing object is modified with the new value.\n",
    "(B). A new object is created with the new value and assigned to the variable.\n",
    "(C). An error occurs as you cannot assign a new value to an existing variable of an immutable data type.\n",
    "(D). None of the above."
   ]
  },
  {
   "cell_type": "markdown",
   "id": "368660f1",
   "metadata": {},
   "source": [
    "B). A new object is created with the new value and assigned to the variable."
   ]
  },
  {
   "cell_type": "code",
   "execution_count": null,
   "id": "caa101d4",
   "metadata": {},
   "outputs": [],
   "source": [
    "x = \"hello\"  # x references the string \"hello\"\n",
    "x = \"world\"  # A new string \"world\" is created, and x is rebound to it\n"
   ]
  },
  {
   "cell_type": "raw",
   "id": "c4c76c5f",
   "metadata": {},
   "source": [
    "12. Consider the following code:\n",
    "\n",
    "my_list = [1, 2, 3]\n",
    "\n",
    "new_list = my_list\n",
    "\n",
    "new_list.append(4)\n",
    "\n",
    "print(my_list)\n",
    "\n",
    "What will be the output of the above code?"
   ]
  },
  {
   "cell_type": "code",
   "execution_count": null,
   "id": "0f65edd9",
   "metadata": {},
   "outputs": [],
   "source": [
    "my_list = [1, 2, 3]\n",
    "\n",
    "new_list = my_list\n",
    "\n",
    "new_list.append(4)\n",
    "\n",
    "print(my_list)\n"
   ]
  },
  {
   "cell_type": "raw",
   "id": "f9eb1f8d",
   "metadata": {},
   "source": [
    "1. Which operator is used for exponentiation in Python?\n",
    "\n",
    "(a) *\n",
    "(b)  ^\n",
    "(c) **\n",
    "(d) //"
   ]
  },
  {
   "cell_type": "markdown",
   "id": "af820f03",
   "metadata": {},
   "source": [
    "(c) **"
   ]
  },
  {
   "cell_type": "raw",
   "id": "70c3e39d",
   "metadata": {},
   "source": [
    "2. What is the result of the following expression in Python? 10 % 3\n",
    "\n",
    "\n",
    "0\n",
    "\n",
    "\n",
    "1\n",
    "\n",
    "\n",
    "2\n",
    "\n",
    "\n",
    "3"
   ]
  },
  {
   "cell_type": "markdown",
   "id": "01d4ec31",
   "metadata": {},
   "source": [
    "1"
   ]
  },
  {
   "cell_type": "raw",
   "id": "8e83c5e9",
   "metadata": {},
   "source": [
    "3. Which comparison operator is used to check for inequality in Python?\n",
    "\n",
    "\n",
    "!=\n",
    "\n",
    "\n",
    "==\n",
    "\n",
    "\n",
    "<=\n",
    "\n",
    "\n",
    ">="
   ]
  },
  {
   "cell_type": "markdown",
   "id": "606dd6f7",
   "metadata": {},
   "source": [
    "!="
   ]
  },
  {
   "cell_type": "raw",
   "id": "fc6218dd",
   "metadata": {},
   "source": [
    "4. What is the output of the following code snippet?\n",
    "\n",
    " \n",
    "\n",
    "x = 5\n",
    "\n",
    "y = 2\n",
    "\n",
    " \n",
    "\n",
    "if x > y:\n",
    "\n",
    "print(\"x is greater than y\")\n",
    "\n",
    "elif x < y:\n",
    "\n",
    "print(\"x is less than y\")\n",
    "\n",
    "else:\n",
    "\n",
    "print(\"x is equal to y\")"
   ]
  },
  {
   "cell_type": "code",
   "execution_count": null,
   "id": "94da2fec",
   "metadata": {},
   "outputs": [],
   "source": [
    "x = 5\n",
    "\n",
    "y = 2\n",
    "\n",
    " \n",
    "\n",
    "if x > y:\n",
    "    print(\"x is greater than y\")\n",
    "elif x < y:\n",
    "    print(\"x is less than y\")\n",
    "else:\n",
    "    print(\"x is equal to y\")"
   ]
  },
  {
   "cell_type": "raw",
   "id": "83afd9ca",
   "metadata": {},
   "source": [
    "5. Which loop is suitable when the number of iterations is unknown in advance?\n",
    "\n",
    "\n",
    "while loop\n",
    "for loop\n",
    "break statement\n",
    "continue statement"
   ]
  },
  {
   "cell_type": "markdown",
   "id": "c774dc3d",
   "metadata": {},
   "source": [
    "while loop\n",
    "\n",
    "- When the number of iterations is unknown in advance and you want to execute a loop until a certain condition is met, you should use a \"while loop\" in Python. The while loop continues to execute as long as a specified condition evaluates to True. Once the condition becomes False, the loop terminates."
   ]
  },
  {
   "cell_type": "raw",
   "id": "1b33345a",
   "metadata": {},
   "source": [
    "6. What is the purpose of the break statement in Python?\n",
    "\n",
    "\n",
    "(a) It terminates the execution of the current iteration and proceeds to the next iteration.\n",
    "(b) It terminates the entire loop and resumes the execution from the next statement after the loop.\n",
    "(c) It skips the current iteration and proceeds to the next iteration.\n",
    "(d) It is used for comparing values and returning the Boolean result."
   ]
  },
  {
   "cell_type": "markdown",
   "id": "31fda11a",
   "metadata": {},
   "source": [
    "(b) It terminates the entire loop and resumes the execution from the next statement after the loop."
   ]
  },
  {
   "cell_type": "markdown",
   "id": "c2e09e19",
   "metadata": {},
   "source": [
    "- When a break statement is encountered within a loop (such as a for or while loop), it immediately exits the loop, and the program continues executing from the next statement after the loop. It does not proceed to the next iteration within the loop; instead, it terminates the loop entirely."
   ]
  },
  {
   "cell_type": "raw",
   "id": "72077107",
   "metadata": {},
   "source": [
    "7. What is the output of the following code snippet?\n",
    "\n",
    "for i in range(5):\n",
    "    if i == 2:\n",
    "        continue\n",
    "    print(i)"
   ]
  },
  {
   "cell_type": "code",
   "execution_count": null,
   "id": "c7d38811",
   "metadata": {},
   "outputs": [],
   "source": [
    "for i in range(5):\n",
    "    if i == 2:\n",
    "        continue\n",
    "    print(i)"
   ]
  },
  {
   "cell_type": "markdown",
   "id": "1b4cee21",
   "metadata": {},
   "source": [
    "- The provided code snippet contains a for loop that iterates over the range from 0 to 4 (inclusive). Inside the loop, there is an if statement that checks if the value of i is equal to 2. If i is equal to 2, it continues to the next iteration of the loop using the continue statement. Otherwise, it prints the value of i. Here's the expected output:\n",
    "\n",
    "- When i is 0, it's not equal to 2, so 0 is printed.\n",
    "- When i is 1, it's not equal to 2, so 1 is printed.\n",
    "- When i is 2, the if condition is true, so the continue statement is executed, and the loop proceeds to the next iteration.\n",
    "- When i is 3, it's not equal to 2, so 3 is printed.\n",
    "- When i is 4, it's not equal to 2, so 4 is printed.\n"
   ]
  },
  {
   "cell_type": "raw",
   "id": "10c203fb",
   "metadata": {},
   "source": [
    "Is python case sensitive while dealing with identifiers?"
   ]
  },
  {
   "cell_type": "code",
   "execution_count": 1,
   "id": "9862146d",
   "metadata": {},
   "outputs": [],
   "source": [
    "#yes"
   ]
  },
  {
   "cell_type": "raw",
   "id": "1c2afc34",
   "metadata": {},
   "source": [
    "Which of the following is an invalid invalid?"
   ]
  },
  {
   "cell_type": "raw",
   "id": "e27efc99",
   "metadata": {},
   "source": [
    "1. My_string1\n",
    "2. while\n",
    "3. foo\n",
    "4. __"
   ]
  },
  {
   "cell_type": "raw",
   "id": "74b84bf5",
   "metadata": {},
   "source": [
    "2. while"
   ]
  },
  {
   "cell_type": "raw",
   "id": "d246ae56",
   "metadata": {},
   "source": [
    "Why python is general purpose programming language?"
   ]
  },
  {
   "cell_type": "code",
   "execution_count": null,
   "id": "f4dd22ec",
   "metadata": {},
   "outputs": [],
   "source": [
    "1. python supports object oriented concepts"
   ]
  },
  {
   "cell_type": "code",
   "execution_count": 2,
   "id": "459b217e",
   "metadata": {},
   "outputs": [
    {
     "name": "stdout",
     "output_type": "stream",
     "text": [
      "[1, 6, 7, 3, 4, 5]\n"
     ]
    }
   ],
   "source": [
    "a = [1, 2, 3, 4, 5]\n",
    "a[1:2] = [6, 7]\n",
    "print(a)"
   ]
  },
  {
   "cell_type": "code",
   "execution_count": 5,
   "id": "4c24d2ae",
   "metadata": {},
   "outputs": [
    {
     "data": {
      "text/plain": [
       "3.3333333333333335"
      ]
     },
     "execution_count": 5,
     "metadata": {},
     "output_type": "execute_result"
    }
   ],
   "source": [
    "10/3"
   ]
  },
  {
   "cell_type": "code",
   "execution_count": 6,
   "id": "9fc264f6",
   "metadata": {},
   "outputs": [
    {
     "name": "stdout",
     "output_type": "stream",
     "text": [
      "7\n"
     ]
    }
   ],
   "source": [
    "s = 'linkedin'\n",
    "print(s.find('n', 3))"
   ]
  },
  {
   "cell_type": "code",
   "execution_count": 7,
   "id": "85ea246f",
   "metadata": {},
   "outputs": [],
   "source": [
    "#find function will start search after 3rd position, so next 'n' position is 7"
   ]
  },
  {
   "cell_type": "code",
   "execution_count": 8,
   "id": "50c41926",
   "metadata": {},
   "outputs": [
    {
     "name": "stdout",
     "output_type": "stream",
     "text": [
      "net\n"
     ]
    }
   ],
   "source": [
    "k = 'internet'\n",
    "print(k[5:9])"
   ]
  },
  {
   "cell_type": "code",
   "execution_count": 9,
   "id": "0376cae7",
   "metadata": {},
   "outputs": [
    {
     "name": "stdout",
     "output_type": "stream",
     "text": [
      "hhs\n",
      "<class 'str'>\n"
     ]
    }
   ],
   "source": [
    "m = input( )\n",
    "print(type(m))"
   ]
  },
  {
   "cell_type": "code",
   "execution_count": null,
   "id": "5a05a120",
   "metadata": {},
   "outputs": [],
   "source": []
  }
 ],
 "metadata": {
  "kernelspec": {
   "display_name": "Python 3 (ipykernel)",
   "language": "python",
   "name": "python3"
  },
  "language_info": {
   "codemirror_mode": {
    "name": "ipython",
    "version": 3
   },
   "file_extension": ".py",
   "mimetype": "text/x-python",
   "name": "python",
   "nbconvert_exporter": "python",
   "pygments_lexer": "ipython3",
   "version": "3.11.3"
  }
 },
 "nbformat": 4,
 "nbformat_minor": 5
}
