{
 "cells": [
  {
   "cell_type": "raw",
   "id": "68541bcc",
   "metadata": {},
   "source": [
    "1.  Write a python program to reverse internal content of each word."
   ]
  },
  {
   "cell_type": "code",
   "execution_count": null,
   "id": "92f27f37",
   "metadata": {},
   "outputs": [],
   "source": [
    "str1 = \"python is easy\""
   ]
  },
  {
   "cell_type": "code",
   "execution_count": 2,
   "id": "6b09ef05",
   "metadata": {},
   "outputs": [],
   "source": [
    "l = str1.split()"
   ]
  },
  {
   "cell_type": "code",
   "execution_count": 3,
   "id": "89e70610",
   "metadata": {},
   "outputs": [
    {
     "data": {
      "text/plain": [
       "['python', 'is', 'easy']"
      ]
     },
     "execution_count": 3,
     "metadata": {},
     "output_type": "execute_result"
    }
   ],
   "source": [
    "l"
   ]
  },
  {
   "cell_type": "code",
   "execution_count": 5,
   "id": "177aff6a",
   "metadata": {},
   "outputs": [
    {
     "name": "stdout",
     "output_type": "stream",
     "text": [
      "['nohtyp', 'si', 'ysae']\n"
     ]
    }
   ],
   "source": [
    "l1 = []\n",
    "for i in l:\n",
    "    l1.append(i[::-1])\n",
    "print(l1)    "
   ]
  },
  {
   "cell_type": "code",
   "execution_count": 7,
   "id": "8a4d9e69",
   "metadata": {},
   "outputs": [],
   "source": [
    "output = \" \".join(l1)"
   ]
  },
  {
   "cell_type": "code",
   "execution_count": 8,
   "id": "19abf2fc",
   "metadata": {},
   "outputs": [
    {
     "data": {
      "text/plain": [
       "'nohtyp si ysae'"
      ]
     },
     "execution_count": 8,
     "metadata": {},
     "output_type": "execute_result"
    }
   ],
   "source": [
    "output"
   ]
  },
  {
   "cell_type": "raw",
   "id": "77696784",
   "metadata": {},
   "source": [
    "2. Write a python  program to print duplicate present in list."
   ]
  },
  {
   "cell_type": "code",
   "execution_count": 10,
   "id": "afe25800",
   "metadata": {},
   "outputs": [
    {
     "name": "stdout",
     "output_type": "stream",
     "text": [
      "[20, 40]\n"
     ]
    }
   ],
   "source": [
    "l = [\"hello\",10,20,40,20,60,40,30]\n",
    "d = []\n",
    "for i in l:\n",
    "    if l.count(i)>1 and i not in d:\n",
    "        d.append(i)\n",
    "print(d)        "
   ]
  },
  {
   "cell_type": "code",
   "execution_count": null,
   "id": "db275570",
   "metadata": {},
   "outputs": [],
   "source": []
  }
 ],
 "metadata": {
  "kernelspec": {
   "display_name": "Python 3 (ipykernel)",
   "language": "python",
   "name": "python3"
  },
  "language_info": {
   "codemirror_mode": {
    "name": "ipython",
    "version": 3
   },
   "file_extension": ".py",
   "mimetype": "text/x-python",
   "name": "python",
   "nbconvert_exporter": "python",
   "pygments_lexer": "ipython3",
   "version": "3.11.3"
  }
 },
 "nbformat": 4,
 "nbformat_minor": 5
}
