{
 "cells": [
  {
   "cell_type": "markdown",
   "id": "e16c2c16",
   "metadata": {},
   "source": [
    "### Basic Programs"
   ]
  },
  {
   "cell_type": "markdown",
   "id": "5ee8cf81",
   "metadata": {},
   "source": [
    "### Question1 - Python Program to Add Two Numbers"
   ]
  },
  {
   "cell_type": "markdown",
   "id": "a5ec4a05",
   "metadata": {},
   "source": [
    "- Given two numbers num1 and num2. The task is to write a Python program to find the addition of these two numbers. "
   ]
  },
  {
   "cell_type": "code",
   "execution_count": 3,
   "id": "9ae7b313",
   "metadata": {},
   "outputs": [],
   "source": [
    "#Here num1 and num2 is a variable and we are going to add the both variable with + operator."
   ]
  },
  {
   "cell_type": "code",
   "execution_count": 4,
   "id": "90e09859",
   "metadata": {},
   "outputs": [],
   "source": [
    "#Operator - https://www.geeksforgeeks.org/python-operators/"
   ]
  },
  {
   "cell_type": "code",
   "execution_count": 6,
   "id": "cf54272a",
   "metadata": {},
   "outputs": [
    {
     "name": "stdout",
     "output_type": "stream",
     "text": [
      "Sum of 15 and 12 is 27\n"
     ]
    }
   ],
   "source": [
    "#simple program to add two value\n",
    "num1 = 15\n",
    "num2 = 12\n",
    "\n",
    "#adding two nos\n",
    "sum = num1 + num2\n",
    "\n",
    "#priting values\n",
    "print(\"Sum of\", num1 ,\"and\", num2, \"is\", sum)"
   ]
  },
  {
   "cell_type": "code",
   "execution_count": 7,
   "id": "cf38794b",
   "metadata": {},
   "outputs": [],
   "source": [
    "#Adding two numbers with user input"
   ]
  },
  {
   "cell_type": "code",
   "execution_count": 8,
   "id": "ee4707ef",
   "metadata": {},
   "outputs": [
    {
     "name": "stdout",
     "output_type": "stream",
     "text": [
      "first number: 2\n",
      "Second number: 2\n",
      "The sum of 2 and 2 is 4.0\n"
     ]
    }
   ],
   "source": [
    "number1 = input(\"first number: \")\n",
    "number2 = input(\"Second number: \")\n",
    "\n",
    "#Adding two numbers\n",
    "# User might also enter float numbers\n",
    "\n",
    "sum = float(number1) + float(number2)\n",
    "\n",
    "#disply the sum\n",
    "# Will print value in float\n",
    "\n",
    "print(\"The sum of {0} and {1} is {2}\".format(number1, number2,sum))"
   ]
  },
  {
   "cell_type": "code",
   "execution_count": 9,
   "id": "1a395d72",
   "metadata": {},
   "outputs": [],
   "source": [
    "#Defining add function and returning the result"
   ]
  },
  {
   "cell_type": "code",
   "execution_count": 10,
   "id": "f2292278",
   "metadata": {},
   "outputs": [
    {
     "name": "stdout",
     "output_type": "stream",
     "text": [
      "Sum of 10 and 5 is 15:\n"
     ]
    }
   ],
   "source": [
    "# To define a function that take two integers\n",
    "# and return the sum of those two numbers\n",
    "\n",
    "def add(a,b):\n",
    "    return a+b\n",
    "\n",
    "#initializing the variables\n",
    "num1 = 10\n",
    "num2 = 5\n",
    "\n",
    "#function calling and store the result into sum_of_twonumbers\n",
    "sum_of_twonumbers =  add(num1, num2)\n",
    "\n",
    "#To print the result\n",
    "print(\"Sum of {0} and {1} is {2}:\".format(num1, num2, sum_of_twonumbers))"
   ]
  },
  {
   "cell_type": "markdown",
   "id": "aafe1c50",
   "metadata": {},
   "source": [
    "Add two numbers in Python using operator.add() method"
   ]
  },
  {
   "cell_type": "code",
   "execution_count": 11,
   "id": "46df481b",
   "metadata": {},
   "outputs": [],
   "source": [
    "# Operator.add() - https://www.geeksforgeeks.org/operator-functions-in-python-set-1/"
   ]
  },
  {
   "cell_type": "code",
   "execution_count": 12,
   "id": "cd91dd7f",
   "metadata": {},
   "outputs": [
    {
     "name": "stdout",
     "output_type": "stream",
     "text": [
      "Sum of 15 and 12 is 27\n"
     ]
    }
   ],
   "source": [
    "num1 = 15\n",
    "num2 = 12\n",
    "\n",
    "#Adding two nos\n",
    "import operator\n",
    "su = operator.add(num1,num2)\n",
    "\n",
    "#printing values\n",
    "print(\"Sum of {0} and {1} is {2}\".format(num1, num2,su))"
   ]
  },
  {
   "cell_type": "markdown",
   "id": "f04e4148",
   "metadata": {},
   "source": [
    "Adding two number using lambda function"
   ]
  },
  {
   "cell_type": "code",
   "execution_count": 13,
   "id": "2fd6e784",
   "metadata": {},
   "outputs": [],
   "source": [
    "# lambda function - https://www.geeksforgeeks.org/python-lambda-anonymous-functions-filter-map-reduce/"
   ]
  },
  {
   "cell_type": "code",
   "execution_count": 14,
   "id": "83021665",
   "metadata": {},
   "outputs": [
    {
     "name": "stdout",
     "output_type": "stream",
     "text": [
      "The sum of 1 and 2 is 3\n"
     ]
    }
   ],
   "source": [
    "#Define a lambda function to add two numbers\n",
    "add_numbers = lambda x,y : x+y\n",
    "\n",
    "#Take input from the user\n",
    "num1 = 1\n",
    "num2 = 2\n",
    "\n",
    "#Call the lambda function to add the two numbers\n",
    "result = add_numbers(num1, num2)\n",
    "\n",
    "#Print the result\n",
    "print(\"The sum of\", num1, \"and\", num2, \"is\", result)"
   ]
  },
  {
   "cell_type": "markdown",
   "id": "7842b5a0",
   "metadata": {},
   "source": [
    "Python program to add two numbers with recursive function"
   ]
  },
  {
   "cell_type": "markdown",
   "id": "bf726e81",
   "metadata": {},
   "source": [
    "- This code defines a recursive function to add two numbers by incrementing one number and decrementing the other. User inputs two numbers, and the sum is calculated and displayed"
   ]
  },
  {
   "cell_type": "code",
   "execution_count": null,
   "id": "7c297cb8",
   "metadata": {},
   "outputs": [],
   "source": [
    "# Define a recursive function to add two numbers\n",
    "def add_numbers_recursive(x, y):\n",
    "    if y == 0:\n",
    "        return x\n",
    "    else:\n",
    "        return add_numbers_recursive(x + 1, y - 1)\n",
    " \n",
    "# Take input from the user\n",
    "num1 = 1\n",
    "num2 = 2\n",
    " \n",
    "# Call the recursive function to add the two numbers\n",
    "result = add_numbers_recursive(num1, num2)\n",
    " \n",
    "# Print the result\n",
    "print(\"The sum of\", num1, \"and\", num2, \"is\", result)"
   ]
  },
  {
   "cell_type": "markdown",
   "id": "7e0582bd",
   "metadata": {},
   "source": [
    "## Question 2. Find Maximum of two numbers in Python"
   ]
  },
  {
   "cell_type": "markdown",
   "id": "c1f26303",
   "metadata": {},
   "source": [
    "- This is the naive approach where we will compare two numbers using if-else statement and will print the output accordingly."
   ]
  },
  {
   "cell_type": "code",
   "execution_count": 15,
   "id": "18f8d868",
   "metadata": {},
   "outputs": [],
   "source": [
    "#IF Else - https://www.geeksforgeeks.org/python-if-else/"
   ]
  },
  {
   "cell_type": "code",
   "execution_count": 16,
   "id": "a1a63d30",
   "metadata": {},
   "outputs": [
    {
     "name": "stdout",
     "output_type": "stream",
     "text": [
      "4\n"
     ]
    }
   ],
   "source": [
    "# Python program to find the\n",
    "# maximum of two numbers\n",
    " \n",
    " \n",
    "def maximum(a, b):\n",
    "     \n",
    "    if a >= b:\n",
    "        return a\n",
    "    else:\n",
    "        return b\n",
    "     \n",
    "# Driver code\n",
    "a = 2\n",
    "b = 4\n",
    "print(maximum(a, b))"
   ]
  },
  {
   "cell_type": "markdown",
   "id": "78bcb476",
   "metadata": {},
   "source": [
    "Find Maximum of two numbers Using max() function"
   ]
  },
  {
   "cell_type": "code",
   "execution_count": 17,
   "id": "80290ec0",
   "metadata": {},
   "outputs": [],
   "source": [
    "#This function is used to find the maximum of the values passed as its arguments."
   ]
  },
  {
   "cell_type": "code",
   "execution_count": 18,
   "id": "b46bebc7",
   "metadata": {},
   "outputs": [
    {
     "name": "stdout",
     "output_type": "stream",
     "text": [
      "4\n"
     ]
    }
   ],
   "source": [
    "# Python program to find the\n",
    "# maximum of two numbers\n",
    " \n",
    " \n",
    "a = 2\n",
    "b = 4\n",
    " \n",
    "maximum = max(a, b)\n",
    "print(maximum)"
   ]
  },
  {
   "cell_type": "markdown",
   "id": "fb73c21c",
   "metadata": {},
   "source": [
    "Maximum of two numbers Using Ternary Operator"
   ]
  },
  {
   "cell_type": "code",
   "execution_count": 19,
   "id": "b495587e",
   "metadata": {},
   "outputs": [],
   "source": [
    "#Ternary Oprator - https://www.geeksforgeeks.org/python-operators/"
   ]
  },
  {
   "cell_type": "markdown",
   "id": "ce75f08e",
   "metadata": {},
   "source": [
    "- This operator is also known as conditional expression are operators that evaluate something based on a condition being true or false. It simply allows testing a condition in a single line"
   ]
  },
  {
   "cell_type": "code",
   "execution_count": 20,
   "id": "ec4130eb",
   "metadata": {},
   "outputs": [
    {
     "name": "stdout",
     "output_type": "stream",
     "text": [
      "4\n"
     ]
    }
   ],
   "source": [
    "# Python program to find the\n",
    "# maximum of two numbers\n",
    "     \n",
    "# Driver code\n",
    "a = 2\n",
    "b = 4\n",
    " \n",
    "# Use of ternary operator\n",
    "print(a if a >= b else b)"
   ]
  },
  {
   "cell_type": "markdown",
   "id": "1313e748",
   "metadata": {},
   "source": [
    "Maximum of two numbers Using lambda function "
   ]
  },
  {
   "cell_type": "code",
   "execution_count": 22,
   "id": "141ef3ae",
   "metadata": {},
   "outputs": [
    {
     "name": "stdout",
     "output_type": "stream",
     "text": [
      "4 is a maximum number\n"
     ]
    }
   ],
   "source": [
    "# python code to find maximum of two numbers\n",
    " \n",
    "a=2\n",
    "b=4\n",
    "maximum = lambda a,b:a if a > b else b\n",
    "print(f'{maximum(a,b)} is a maximum number')"
   ]
  },
  {
   "cell_type": "markdown",
   "id": "4e837b91",
   "metadata": {},
   "source": [
    "Maximum of two numbers Using list comprehension"
   ]
  },
  {
   "cell_type": "code",
   "execution_count": 24,
   "id": "0594c1aa",
   "metadata": {},
   "outputs": [
    {
     "name": "stdout",
     "output_type": "stream",
     "text": [
      "maximum number is: [4]\n"
     ]
    }
   ],
   "source": [
    "a=2\n",
    "b=4\n",
    "\n",
    "x=[a if a>b else b]\n",
    "print(\"maximum number is:\",x)"
   ]
  },
  {
   "cell_type": "markdown",
   "id": "b2828678",
   "metadata": {},
   "source": [
    "Maximum of two numbers Using sort() method"
   ]
  },
  {
   "cell_type": "code",
   "execution_count": 25,
   "id": "526e4aa1",
   "metadata": {},
   "outputs": [
    {
     "name": "stdout",
     "output_type": "stream",
     "text": [
      "4\n"
     ]
    }
   ],
   "source": [
    "# Python program to find the\n",
    "# maximum of two numbers\n",
    "a = 2\n",
    "b = 4\n",
    "x=[a,b]\n",
    "x.sort()\n",
    "print(x[-1])"
   ]
  },
  {
   "cell_type": "markdown",
   "id": "f85a3796",
   "metadata": {},
   "source": [
    "## Question 3 . Python Program to Find the Factorial of a Number"
   ]
  },
  {
   "cell_type": "markdown",
   "id": "d3efadc7",
   "metadata": {},
   "source": [
    "Factorial of a non-negative integer, is multiplication of all integers smaller than or equal to n. "
   ]
  },
  {
   "cell_type": "markdown",
   "id": "3bcae18b",
   "metadata": {},
   "source": [
    "Find the Factorial of a Number Using Recursive approach"
   ]
  },
  {
   "cell_type": "markdown",
   "id": "944f9f91",
   "metadata": {},
   "source": [
    "- This Python program uses a recursive function to calculate the factorial of a given number. The factorial is computed by multiplying the number with the factorial of its preceding number."
   ]
  },
  {
   "cell_type": "code",
   "execution_count": 26,
   "id": "7b49c7cf",
   "metadata": {},
   "outputs": [
    {
     "name": "stdout",
     "output_type": "stream",
     "text": [
      "Factorial of 5 is 120\n"
     ]
    }
   ],
   "source": [
    "# Python 3 program to find\n",
    "# factorial of given number\n",
    "def factorial(n):\n",
    "     \n",
    "    # single line to find factorial\n",
    "    return 1 if (n==1 or n==0) else n * factorial(n - 1)\n",
    " \n",
    "# Driver Code\n",
    "num = 5\n",
    "print(\"Factorial of\",num,\"is\",factorial(num))"
   ]
  },
  {
   "cell_type": "markdown",
   "id": "38b447f9",
   "metadata": {},
   "source": [
    "Find the Factorial of a Number Using Iterative approach"
   ]
  },
  {
   "cell_type": "code",
   "execution_count": 27,
   "id": "5fa0ecd9",
   "metadata": {},
   "outputs": [
    {
     "name": "stdout",
     "output_type": "stream",
     "text": [
      "Factorial of 5 is 120\n"
     ]
    }
   ],
   "source": [
    "# Python 3 program to find \n",
    "# factorial of given number\n",
    "def factorial(n):\n",
    "    if n < 0:\n",
    "        return 0\n",
    "    elif n == 0 or n == 1:\n",
    "        return 1\n",
    "    else:\n",
    "        fact = 1\n",
    "        while(n > 1):\n",
    "            fact *= n\n",
    "            n -= 1\n",
    "        return fact\n",
    " \n",
    "# Driver Code\n",
    "num = 5\n",
    "print(\"Factorial of\",num,\"is\",\n",
    "factorial(num))"
   ]
  },
  {
   "cell_type": "code",
   "execution_count": 28,
   "id": "1ea70e97",
   "metadata": {},
   "outputs": [
    {
     "name": "stdout",
     "output_type": "stream",
     "text": [
      "Factorial of 5 is 120\n"
     ]
    }
   ],
   "source": [
    "# Python 3 program to find\n",
    "# factorial of given number\n",
    "  \n",
    "# Function to find factorial of given number\n",
    "def factorial(n):\n",
    "       \n",
    "    res = 1\n",
    "      \n",
    "    for i in range(2, n+1):\n",
    "        res *= i\n",
    "    return res\n",
    " # Driver Code\n",
    "num = 5\n",
    "print(\"Factorial of\", num, \"is\",\n",
    "factorial(num))"
   ]
  },
  {
   "cell_type": "markdown",
   "id": "655c11a5",
   "metadata": {},
   "source": [
    "Find the Factorial of a Number Using One line Solution (Using Ternary operator): "
   ]
  },
  {
   "cell_type": "code",
   "execution_count": 29,
   "id": "28c6e432",
   "metadata": {},
   "outputs": [
    {
     "name": "stdout",
     "output_type": "stream",
     "text": [
      "Factorial of 5 is 120\n"
     ]
    }
   ],
   "source": [
    "# Python 3 program to find\n",
    "# factorial of given number\n",
    " \n",
    "def factorial(n):\n",
    " \n",
    "    # single line to find factorial\n",
    "    return 1 if (n==1 or n==0) else n * factorial(n - 1)\n",
    " \n",
    " \n",
    "# Driver Code\n",
    "num = 5\n",
    "print (\"Factorial of\",num,\"is\",\n",
    "      factorial(num))"
   ]
  },
  {
   "cell_type": "markdown",
   "id": "2ab4be4e",
   "metadata": {},
   "source": [
    "Find the Factorial of a Number Using using In-built function "
   ]
  },
  {
   "cell_type": "markdown",
   "id": "ffed9608",
   "metadata": {},
   "source": [
    "In Python, math module contains a number of mathematical operations, which can be performed with ease using the module. math.factorial() function returns the factorial of desired number."
   ]
  },
  {
   "cell_type": "raw",
   "id": "a36d401c",
   "metadata": {},
   "source": [
    "Syntax: math.factorial(x)\n",
    "\n",
    "Parameter:\n",
    "x: This is a numeric expression.\n",
    "\n",
    "Returns:  factorial of desired number."
   ]
  },
  {
   "cell_type": "code",
   "execution_count": 31,
   "id": "946ccb5e",
   "metadata": {},
   "outputs": [
    {
     "name": "stdout",
     "output_type": "stream",
     "text": [
      "Factorial of 5 is 120\n"
     ]
    }
   ],
   "source": [
    "# Python 3 program to find\n",
    "# factorial of given number\n",
    "import math\n",
    " \n",
    "def factorial(n):\n",
    "    return(math.factorial(n))\n",
    " \n",
    " \n",
    "# Driver Code\n",
    "num = 5\n",
    "print(\"Factorial of\", num, \"is\",\n",
    "      factorial(num))"
   ]
  },
  {
   "cell_type": "markdown",
   "id": "25ac1652",
   "metadata": {},
   "source": [
    "Find the Factorial of a Number Using numpy.prod "
   ]
  },
  {
   "cell_type": "code",
   "execution_count": 32,
   "id": "508db22a",
   "metadata": {},
   "outputs": [
    {
     "name": "stdout",
     "output_type": "stream",
     "text": [
      "120\n"
     ]
    }
   ],
   "source": [
    "import numpy\n",
    "n=5\n",
    "x=numpy.prod([i for i in range(1,n+1)])\n",
    "print(x)"
   ]
  },
  {
   "cell_type": "raw",
   "id": "d10af151",
   "metadata": {},
   "source": [
    "Prime Factorization Method to find Factorial\n",
    "\n",
    "1 Initialize the factorial variable to 1.\n",
    "2 For each number i from 2 to n, do the following:\n",
    "\n",
    "a. Find the prime factorization of i.\n",
    "b. For each prime factor p and its corresponding power k in the factorization of i, multiply the factorial variable by p raised to the power of k.\n",
    "3 Return the factorial variable."
   ]
  },
  {
   "cell_type": "code",
   "execution_count": 34,
   "id": "55b4cff9",
   "metadata": {},
   "outputs": [
    {
     "name": "stdout",
     "output_type": "stream",
     "text": [
      "Factorial of 5 is 120\n"
     ]
    }
   ],
   "source": [
    "# Python 3 program to find factorial\n",
    "# of a given number using prime\n",
    "# factorization method.\n",
    " \n",
    "# Function to find prime factors of a number\n",
    "def primeFactors(n):\n",
    "    factors = {}\n",
    "    i = 2\n",
    "    while i*i <= n:\n",
    "        while n % i == 0:\n",
    "            if i not in factors:\n",
    "                factors[i] = 0\n",
    "            factors[i] += 1\n",
    "            n //= i\n",
    "        i += 1\n",
    "    if n > 1:\n",
    "        if n not in factors:\n",
    "            factors[n] = 0\n",
    "        factors[n] += 1\n",
    "    return factors\n",
    " \n",
    "# Function to find factorial of a number\n",
    "def factorial(n):\n",
    "    result = 1\n",
    "    for i in range(2, n+1):\n",
    "        factors = primeFactors(i)\n",
    "        for p in factors:\n",
    "            result *= p ** factors[p]\n",
    "    return result\n",
    " \n",
    "# Driver Code\n",
    "num = 5\n",
    "print(\"Factorial of\", num, \"is\", factorial(num))"
   ]
  },
  {
   "cell_type": "markdown",
   "id": "fb93f625",
   "metadata": {},
   "source": [
    "## Question 4. Python Program for Simple Interest"
   ]
  },
  {
   "cell_type": "markdown",
   "id": "55343826",
   "metadata": {},
   "source": [
    "Simple interest formula is given by: Simple Interest = (P x T x R)/100 Where, P is the principal amount T is the time and R is the rate"
   ]
  },
  {
   "cell_type": "raw",
   "id": "8d59d768",
   "metadata": {},
   "source": [
    "Input : P = 10000\n",
    "        R = 5\n",
    "        T = 5\n",
    "Output :2500.0\n",
    "We need to find simple interest on \n",
    "Rs. 10,000 at the rate of 5% for 5 \n",
    "units of time."
   ]
  },
  {
   "cell_type": "markdown",
   "id": "85a3ada3",
   "metadata": {},
   "source": [
    "Python Program for simple interest"
   ]
  },
  {
   "cell_type": "code",
   "execution_count": 35,
   "id": "743ce8a0",
   "metadata": {},
   "outputs": [
    {
     "name": "stdout",
     "output_type": "stream",
     "text": [
      "The principal is 8\n",
      "The time period is 6\n",
      "The rate of interest is 8\n",
      "The Simple Interest is 3.84\n"
     ]
    },
    {
     "data": {
      "text/plain": [
       "3.84"
      ]
     },
     "execution_count": 35,
     "metadata": {},
     "output_type": "execute_result"
    }
   ],
   "source": [
    "# Python3 program to find simple interest\n",
    "# for given principal amount, time and\n",
    "# rate of interest.\n",
    " \n",
    " \n",
    "def simple_interest(p,t,r):\n",
    "    print('The principal is', p)\n",
    "    print('The time period is', t)\n",
    "    print('The rate of interest is',r)\n",
    "     \n",
    "    si = (p * t * r)/100\n",
    "     \n",
    "    print('The Simple Interest is', si)\n",
    "    return si\n",
    "     \n",
    "# Driver code\n",
    "simple_interest(8, 6, 8)"
   ]
  },
  {
   "cell_type": "markdown",
   "id": "27f547da",
   "metadata": {},
   "source": [
    "Program for simple interest with Taking input from user"
   ]
  },
  {
   "cell_type": "code",
   "execution_count": 36,
   "id": "54183d8d",
   "metadata": {},
   "outputs": [
    {
     "name": "stdout",
     "output_type": "stream",
     "text": [
      "Enter the principal amount :2\n",
      "Enter the time period :3\n",
      "Enter the rate of interest :3\n",
      "The principal is 2\n",
      "The time period is 3\n",
      "The rate of interest is 3\n",
      "The Simple Interest is 0.18\n"
     ]
    }
   ],
   "source": [
    "# Python3 program to find simple interest\n",
    "#  principal amount, time and\n",
    "# rate of interest taken from user.\n",
    " \n",
    " \n",
    "def simple_interest(p,t,r):\n",
    "    print('The principal is', p)\n",
    "    print('The time period is', t)\n",
    "    print('The rate of interest is',r)\n",
    "     \n",
    "    si = (p * t * r)/100\n",
    "     \n",
    "    print('The Simple Interest is', si)\n",
    "     \n",
    "     \n",
    "# Driver code\n",
    "P = int(input(\"Enter the principal amount :\"))\n",
    "T = int(input(\"Enter the time period :\"))\n",
    "R = int(input(\"Enter the rate of interest :\"))\n",
    "simple_interest(P,T,R)"
   ]
  },
  {
   "cell_type": "markdown",
   "id": "8beda591",
   "metadata": {},
   "source": [
    "## Question 5. Python Program for Compound Interest"
   ]
  },
  {
   "cell_type": "raw",
   "id": "4583974f",
   "metadata": {},
   "source": [
    "A = P(1 + R/100) t \n",
    "\n",
    "Compound Interest = A – P \n",
    "\n",
    "Where, \n",
    "A is amount \n",
    "P is the principal amount \n",
    "R is the rate and \n",
    "T is the time span"
   ]
  },
  {
   "cell_type": "code",
   "execution_count": 37,
   "id": "2eb8e3c5",
   "metadata": {},
   "outputs": [
    {
     "name": "stdout",
     "output_type": "stream",
     "text": [
      "Compound interest is 6288.946267774416\n"
     ]
    }
   ],
   "source": [
    "# Python3 program to find compound\n",
    "# interest for given values.\n",
    " \n",
    " \n",
    "def compound_interest(principal, rate, time):\n",
    " \n",
    "    # Calculates compound interest\n",
    "    Amount = principal * (pow((1 + rate / 100), time))\n",
    "    CI = Amount - principal\n",
    "    print(\"Compound interest is\", CI)\n",
    " \n",
    " \n",
    "# Driver Code\n",
    "compound_interest(10000, 10.25, 5)"
   ]
  },
  {
   "cell_type": "markdown",
   "id": "42f89b49",
   "metadata": {},
   "source": [
    "Compound Interest with Input taking from user"
   ]
  },
  {
   "cell_type": "code",
   "execution_count": 38,
   "id": "19a1a65d",
   "metadata": {},
   "outputs": [
    {
     "name": "stdout",
     "output_type": "stream",
     "text": [
      "Enter the principal amount: 3000\n",
      "Enter rate of interest: 5\n",
      "Enter time in years: 3\n",
      "Compound interest is 472.87500000000045\n"
     ]
    }
   ],
   "source": [
    "# Python3 program to find compound\n",
    "# interest for input taking from user.\n",
    " \n",
    " \n",
    "def compound_interest(principal, rate, time):\n",
    " \n",
    "    # Calculates compound interest\n",
    "    Amount = principal * (pow((1 + rate / 100), time))\n",
    "    CI = Amount - principal\n",
    "    print(\"Compound interest is\", CI)\n",
    " \n",
    " \n",
    "# Driver Code\n",
    "#Taking input from user.\n",
    "principal = int(input(\"Enter the principal amount: \"))\n",
    "rate = int(input(\"Enter rate of interest: \"))\n",
    "time = int(input(\"Enter time in years: \" ))\n",
    "#Function Call\n",
    "compound_interest(principal,rate,time)"
   ]
  },
  {
   "cell_type": "markdown",
   "id": "f23cf0c2",
   "metadata": {},
   "source": [
    "Finding compound interest of given values without using pow() function."
   ]
  },
  {
   "cell_type": "code",
   "execution_count": 39,
   "id": "0d5ec6f3",
   "metadata": {},
   "outputs": [
    {
     "name": "stdout",
     "output_type": "stream",
     "text": [
      "133.0992000000001\n"
     ]
    }
   ],
   "source": [
    "# Python code\n",
    "# To find compound interest\n",
    " \n",
    "# inputs\n",
    "p= 1200   # principal amount\n",
    "t= 2      # time\n",
    "r= 5.4    # rate\n",
    "# calculates the compound interest\n",
    "a=p*(1+(r/100))**t  # formula for calculating amount\n",
    "ci=a-p  # compound interest = amount - principal amount\n",
    "# printing compound interest value\n",
    "print(ci)"
   ]
  },
  {
   "cell_type": "markdown",
   "id": "700ba516",
   "metadata": {},
   "source": [
    "Compound Interest using for loop"
   ]
  },
  {
   "cell_type": "code",
   "execution_count": 40,
   "id": "fbcb72cf",
   "metadata": {},
   "outputs": [
    {
     "name": "stdout",
     "output_type": "stream",
     "text": [
      "Compound interest is 133.0992000000001\n"
     ]
    }
   ],
   "source": [
    "def compound_interest(principal, rate, time):\n",
    "    Amount = principal\n",
    "    for i in range(time):\n",
    "        Amount = Amount * (1 + rate/100)\n",
    "    CI = Amount - principal\n",
    "    print(\"Compound interest is\", CI)\n",
    "# Driver Code\n",
    "compound_interest(1200, 5.4, 2)"
   ]
  },
  {
   "cell_type": "markdown",
   "id": "20f8370b",
   "metadata": {},
   "source": [
    "## Queston 6. Python Program to Check Armstrong Number"
   ]
  },
  {
   "cell_type": "markdown",
   "id": "b0291a88",
   "metadata": {},
   "source": [
    "Given a number x, determine whether the given number is Armstrong number or not. A positive integer of n digits is called an Armstrong number of order n (order is number of digits) if."
   ]
  },
  {
   "cell_type": "markdown",
   "id": "4a20f23a",
   "metadata": {},
   "source": [
    "abcd... = pow(a,n) + pow(b,n) + pow(c,n) + pow(d,n) + .... "
   ]
  },
  {
   "cell_type": "raw",
   "id": "fe48c667",
   "metadata": {},
   "source": [
    "Input : 153\n",
    "Output : Yes\n",
    "153 is an Armstrong number.\n",
    "1*1*1 + 5*5*5 + 3*3*3 = 153\n",
    "\n",
    "Input : 120\n",
    "Output : No\n",
    "120 is not a Armstrong number.\n",
    "1*1*1 + 2*2*2 + 0*0*0 = 9"
   ]
  },
  {
   "cell_type": "code",
   "execution_count": 42,
   "id": "b60a1cf4",
   "metadata": {},
   "outputs": [
    {
     "name": "stdout",
     "output_type": "stream",
     "text": [
      "True\n",
      "False\n"
     ]
    }
   ],
   "source": [
    "# Python program to determine whether\n",
    "# the number is Armstrong number or not\n",
    " \n",
    "# Function to calculate x raised to\n",
    "# the power y\n",
    "def power(x, y):\n",
    "     \n",
    "    if y == 0:\n",
    "        return 1\n",
    "    if y % 2 == 0:\n",
    "        return power(x, y // 2) * power(x, y // 2)\n",
    "         \n",
    "    return x * power(x, y // 2) * power(x, y // 2)\n",
    " \n",
    "# Function to calculate order of the number\n",
    "def order(x):\n",
    " \n",
    "    # Variable to store of the number\n",
    "    n = 0\n",
    "    while (x != 0):\n",
    "        n = n + 1\n",
    "        x = x // 10\n",
    "         \n",
    "    return n\n",
    "# Function to check whether the given\n",
    "# number is Armstrong number or not\n",
    "def isArmstrong(x):\n",
    "     \n",
    "    n = order(x)\n",
    "    temp = x\n",
    "    sum1 = 0\n",
    "     \n",
    "    while (temp != 0):\n",
    "        r = temp % 10\n",
    "        sum1 = sum1 + power(r, n)\n",
    "        temp = temp // 10\n",
    " \n",
    "    # If condition satisfies\n",
    "    return (sum1 == x)\n",
    " \n",
    "# Driver code\n",
    "x = 153\n",
    "print(isArmstrong(x))\n",
    " \n",
    "x = 1253\n",
    "print(isArmstrong(x))"
   ]
  },
  {
   "cell_type": "markdown",
   "id": "215f0b19",
   "metadata": {},
   "source": [
    "Python program to check if a number is an Armstrong number without using the power function"
   ]
  },
  {
   "cell_type": "raw",
   "id": "4f502ce2",
   "metadata": {},
   "source": [
    "A positive integer is called an Armstrong number if an Armstrong number of 3 digits, the sum of cubes of each digit is equal to the number itself. For example, 153 is an Armstrong number because\n",
    "\n",
    "   153 = 1*1*1 + 5*5*5 + 3*3*3\n",
    "\n",
    " The while loop iterates like first, it checks if the number is not equal to zero or not. if it is not equal to zero then enter into the loop and find the reminder of number ex: 153%10 gives reminder 3. In the next step add the cube of a number to the sum1(3*3*3). Then the step gives the quotient of the number (153//10=15). this loop will continue till the given number is equal to zero."
   ]
  },
  {
   "cell_type": "code",
   "execution_count": 43,
   "id": "93419d39",
   "metadata": {},
   "outputs": [
    {
     "name": "stdout",
     "output_type": "stream",
     "text": [
      "The given number 153 is armstrong number\n"
     ]
    }
   ],
   "source": [
    "# python 3 program\n",
    "# to check whether the given number is armstrong or not\n",
    "# without using power function\n",
    " \n",
    "n = 153  # or n=int(input()) -> taking input from user\n",
    "s = n  # assigning input value to the s variable\n",
    "b = len(str(n))\n",
    "sum1 = 0\n",
    "while n != 0:\n",
    "    r = n % 10\n",
    "    sum1 = sum1+(r**b)\n",
    "    n = n//10\n",
    "if s == sum1:\n",
    "    print(\"The given number\", s, \"is armstrong number\")\n",
    "else:\n",
    "    print(\"The given number\", s, \"is not armstrong number\")\n",
    " \n"
   ]
  },
  {
   "cell_type": "markdown",
   "id": "772456b8",
   "metadata": {},
   "source": [
    "Python program to check if a number is an Armstrong number Using string manipulation"
   ]
  },
  {
   "cell_type": "markdown",
   "id": "607337ab",
   "metadata": {},
   "source": [
    "This approach involves converting the input number into a string and iterating through each digit in the string. For each digit, we raise it to the power of the number of digits in the input number, and sum up the results. If the final sum equals the input number, it is an Armstrong number."
   ]
  },
  {
   "cell_type": "markdown",
   "id": "baf97b45",
   "metadata": {},
   "source": [
    "Algorithm\n",
    "1. Convert the input number into a string using str(num).\n",
    "2. Find the length of the string using len(num_str) and store it in n.\n",
    "3. Initialize a variable sum to zero.\n",
    "4. Iterate through each digit in the string using a for loop, and convert each digit back to an integer using int(digit).\n",
    "5. Raise each digit to the power of n using int(digit)**n, and add the result to sum.\n",
    "6. After the loop is complete, check whether sum is equal to num.\n",
    "7. If sum is equal to num, return True (the input number is an Armstrong number).\n",
    "8. If sum is not equal to num, return False (the input number is not an Armstrong number)."
   ]
  },
  {
   "cell_type": "code",
   "execution_count": 44,
   "id": "0745d4a9",
   "metadata": {},
   "outputs": [
    {
     "name": "stdout",
     "output_type": "stream",
     "text": [
      "True\n"
     ]
    }
   ],
   "source": [
    "def is_armstrong(num):\n",
    "    num_str = str(num)\n",
    "    n = len(num_str)\n",
    "    sum = 0\n",
    "    for digit in num_str:\n",
    "        sum += int(digit)**n\n",
    "    if sum == num:\n",
    "        return True\n",
    "    else:\n",
    "        return False\n",
    "num=153\n",
    "print(is_armstrong(num))"
   ]
  },
  {
   "cell_type": "markdown",
   "id": "3618bbef",
   "metadata": {},
   "source": [
    "Digit by digit sum approach to check for Armstrong number\n",
    "\n",
    "1. Find the number of digits in the given number.\n",
    "2. Initialize a variable sum to zero.\n",
    "3. Extract each digit from the given number and raise it to the power of the number of digits and add it to the sum.\n",
    "4. If the sum is equal to the given number, then it is an Armstrong number, else it is not. #include <iostream>"
   ]
  },
  {
   "cell_type": "code",
   "execution_count": 45,
   "id": "242a3fd0",
   "metadata": {},
   "outputs": [
    {
     "name": "stdout",
     "output_type": "stream",
     "text": [
      "1634 is an Armstrong number.\n",
      "120 is not an Armstrong number.\n"
     ]
    }
   ],
   "source": [
    "import math\n",
    " \n",
    "def isArmstrong(num):\n",
    "    n = num\n",
    "    numDigits = 0\n",
    "    sum = 0\n",
    "     \n",
    "    # Find number of digits in num\n",
    "    while n > 0:\n",
    "        n //= 10\n",
    "        numDigits += 1\n",
    "     \n",
    "    n = num\n",
    "     \n",
    "    # Calculate sum of digits raised to the power of numDigits\n",
    "    while n > 0:\n",
    "        digit = n % 10\n",
    "        sum += math.pow(digit, numDigits)\n",
    "        n //= 10\n",
    "     \n",
    "    # Check if num is Armstrong number or not\n",
    "    if sum == num:\n",
    "        return True\n",
    "    return False\n",
    "\n",
    "# Example 1\n",
    "num1 = 1634\n",
    "if isArmstrong(num1):\n",
    "    print(num1, \"is an Armstrong number.\")\n",
    "else:\n",
    "    print(num1, \"is not an Armstrong number.\")\n",
    " \n",
    "# Example 2\n",
    "num2 = 120\n",
    "if isArmstrong(num2):\n",
    "    print(num2, \"is an Armstrong number.\")\n",
    "else:\n",
    "    print(num2, \"is not an Armstrong number.\")"
   ]
  },
  {
   "cell_type": "markdown",
   "id": "af634b59",
   "metadata": {},
   "source": [
    "Python program to check if a number is an Armstrong number in return statement"
   ]
  },
  {
   "cell_type": "code",
   "execution_count": 46,
   "id": "fb9272ad",
   "metadata": {},
   "outputs": [
    {
     "ename": "TypeError",
     "evalue": "'float' object is not callable",
     "output_type": "error",
     "traceback": [
      "\u001b[1;31m---------------------------------------------------------------------------\u001b[0m",
      "\u001b[1;31mTypeError\u001b[0m                                 Traceback (most recent call last)",
      "Cell \u001b[1;32mIn[46], line 7\u001b[0m\n\u001b[0;32m      5\u001b[0m \u001b[38;5;66;03m# Example usage:\u001b[39;00m\n\u001b[0;32m      6\u001b[0m num \u001b[38;5;241m=\u001b[39m \u001b[38;5;241m153\u001b[39m\n\u001b[1;32m----> 7\u001b[0m \u001b[38;5;28;01mif\u001b[39;00m is_armstrong_number(num):\n\u001b[0;32m      8\u001b[0m     \u001b[38;5;28mprint\u001b[39m(\u001b[38;5;124mf\u001b[39m\u001b[38;5;124m\"\u001b[39m\u001b[38;5;132;01m{\u001b[39;00mnum\u001b[38;5;132;01m}\u001b[39;00m\u001b[38;5;124m is an Armstrong number\u001b[39m\u001b[38;5;124m\"\u001b[39m)\n\u001b[0;32m      9\u001b[0m \u001b[38;5;28;01melse\u001b[39;00m:\n",
      "Cell \u001b[1;32mIn[46], line 2\u001b[0m, in \u001b[0;36mis_armstrong_number\u001b[1;34m(number)\u001b[0m\n\u001b[0;32m      1\u001b[0m \u001b[38;5;28;01mdef\u001b[39;00m \u001b[38;5;21mis_armstrong_number\u001b[39m(number):\n\u001b[1;32m----> 2\u001b[0m     \u001b[38;5;28;01mreturn\u001b[39;00m \u001b[38;5;28msum\u001b[39m(\u001b[38;5;28mint\u001b[39m(digit)\u001b[38;5;241m*\u001b[39m\u001b[38;5;241m*\u001b[39m\u001b[38;5;28mlen\u001b[39m(\u001b[38;5;28mstr\u001b[39m(number)) \u001b[38;5;28;01mfor\u001b[39;00m digit \u001b[38;5;129;01min\u001b[39;00m \u001b[38;5;28mstr\u001b[39m(number)) \u001b[38;5;241m==\u001b[39m number\n",
      "\u001b[1;31mTypeError\u001b[0m: 'float' object is not callable"
     ]
    }
   ],
   "source": [
    "def is_armstrong_number(number):\n",
    "    return sum(int(digit)**len(str(number)) for digit in str(number)) == number\n",
    " \n",
    " \n",
    "# Example usage:\n",
    "num = 153\n",
    "if is_armstrong_number(num):\n",
    "    print(f\"{num} is an Armstrong number\")\n",
    "else:\n",
    "    print(f\"{num} is not an Armstrong number\")"
   ]
  },
  {
   "cell_type": "markdown",
   "id": "d7652c58",
   "metadata": {},
   "source": [
    "## Question 7. Python Program to Find Area of a Circle"
   ]
  },
  {
   "cell_type": "raw",
   "id": "1f9681db",
   "metadata": {},
   "source": [
    "The area of a circle can simply be evaluated using the following formula.\n",
    "\n",
    "Area = pi * r2\n",
    "where r is radius of circle "
   ]
  },
  {
   "cell_type": "code",
   "execution_count": 47,
   "id": "f8269c10",
   "metadata": {},
   "outputs": [
    {
     "name": "stdout",
     "output_type": "stream",
     "text": [
      "Area is 78.550000\n"
     ]
    }
   ],
   "source": [
    "# Python program to find Area of a circle\n",
    " \n",
    "def findArea(r):\n",
    "    PI = 3.142\n",
    "    return PI * (r*r);\n",
    " \n",
    "# Driver method\n",
    "print(\"Area is %.6f\" % findArea(5));"
   ]
  },
  {
   "cell_type": "markdown",
   "id": "d1e3cc0c",
   "metadata": {},
   "source": [
    "Python Program to Find Area of a Circle With Math library"
   ]
  },
  {
   "cell_type": "code",
   "execution_count": 48,
   "id": "8ffb7c99",
   "metadata": {},
   "outputs": [
    {
     "name": "stdout",
     "output_type": "stream",
     "text": [
      "Area of circle is: 50.26548245743669\n"
     ]
    }
   ],
   "source": [
    "# Python program to find Area of a circle\n",
    "# using inbuild library\n",
    " \n",
    "import math\n",
    "def area(r):\n",
    "  area = math.pi* pow(r,2)\n",
    "  return print('Area of circle is:' ,area)\n",
    "area(4)"
   ]
  },
  {
   "cell_type": "markdown",
   "id": "98fdd2bc",
   "metadata": {},
   "source": [
    "## Qustion 8. Python Program to Print all Prime numbers in an Interval"
   ]
  },
  {
   "cell_type": "markdown",
   "id": "624d48a4",
   "metadata": {},
   "source": [
    "Definition: A prime number is a natural number greater than 1 that has no positive divisors other than 1 and itself. The first few prime numbers are {2, 3, 5, 7, 11, ….}."
   ]
  },
  {
   "cell_type": "code",
   "execution_count": 49,
   "id": "b470d16a",
   "metadata": {},
   "outputs": [],
   "source": [
    "# Loop - https://www.geeksforgeeks.org/loops-in-python/"
   ]
  },
  {
   "cell_type": "code",
   "execution_count": 50,
   "id": "b2f2f654",
   "metadata": {},
   "outputs": [
    {
     "name": "stdout",
     "output_type": "stream",
     "text": [
      "The prime numbers in this range are:  [2, 3, 5]\n"
     ]
    }
   ],
   "source": [
    "def prime(x, y):\n",
    "    prime_list = []\n",
    "    for i in range(x, y):\n",
    "        if i == 0 or i == 1:\n",
    "            continue\n",
    "        else:\n",
    "            for j in range(2, int(i/2)+1):\n",
    "                if i % j == 0:\n",
    "                    break\n",
    "            else:\n",
    "                prime_list.append(i)\n",
    "    return prime_list\n",
    " \n",
    "# Driver program\n",
    "starting_range = 2\n",
    "ending_range = 7\n",
    "lst = prime(starting_range, ending_range)\n",
    "if len(lst) == 0:\n",
    "    print(\"There are no prime numbers in this range\")\n",
    "else:\n",
    "    print(\"The prime numbers in this range are: \", lst)"
   ]
  },
  {
   "cell_type": "markdown",
   "id": "604dbc56",
   "metadata": {},
   "source": [
    "Optimized way to find a Prime Number"
   ]
  },
  {
   "cell_type": "markdown",
   "id": "3c121db3",
   "metadata": {},
   "source": [
    "The idea to solve this problem is to iterate the value from start to end using a for loop and for every number if it is divisible by any number except 1 and itself (prime number definition) then the flag variable will become 1. And in the next block if the flag value is zero then the only element will be appended to the list."
   ]
  },
  {
   "cell_type": "code",
   "execution_count": 52,
   "id": "aa7f0463",
   "metadata": {},
   "outputs": [],
   "source": [
    "#For Loop - https://www.geeksforgeeks.org/python-for-loops/"
   ]
  },
  {
   "cell_type": "code",
   "execution_count": 53,
   "id": "5b3df86b",
   "metadata": {},
   "outputs": [],
   "source": [
    "# append() and extend() - https://www.geeksforgeeks.org/append-extend-python/"
   ]
  },
  {
   "cell_type": "raw",
   "id": "2709cdff",
   "metadata": {},
   "source": [
    "Step and implementation:\n",
    "Step 1: Declare the flag and list.\n",
    "Step 2: We will check the elements if it is divisible or not. (prime number definition)\n",
    "Step 3: If divisible then flag =1 and break. if not divisible then flag =0.\n",
    "Step 4: If flag=0, then the element is appended to the list.\n",
    "Step 5: Return the list."
   ]
  },
  {
   "cell_type": "code",
   "execution_count": 54,
   "id": "8a128dfe",
   "metadata": {},
   "outputs": [
    {
     "name": "stdout",
     "output_type": "stream",
     "text": [
      "The prime numbers in this range are:  [2, 3, 5]\n"
     ]
    }
   ],
   "source": [
    "# Python program to print all\n",
    "# prime number in an interval\n",
    " \n",
    "def prime(starting_range, ending_range):\n",
    "  lst=[]\n",
    "  flag=0                   #Declaring flag variable\n",
    "  for i in range(starting_range, ending_range):#elements range between starting and ending range\n",
    "    for j in range(2,i): \n",
    "      if(i%j==0):     #checking if number is divisible or not\n",
    "        flag=1        #if number is divisible, then flag variable will become 1\n",
    "        break\n",
    "      else:\n",
    "        flag=0     \n",
    "    if(flag==0):    #if flag variable is 0, then element will append in list \n",
    "      lst.append(i)\n",
    "  return lst\n",
    " \n",
    "# Driver program\n",
    "starting_range = 2\n",
    "ending_range = 7\n",
    "lst = prime(starting_range, ending_range)\n",
    "if len(lst) == 0:\n",
    "    print(\"There are no prime numbers in this range\")\n",
    "else:\n",
    "    print(\"The prime numbers in this range are: \", lst)"
   ]
  },
  {
   "cell_type": "markdown",
   "id": "6d251805",
   "metadata": {},
   "source": [
    "Sieve of Eratosthenes Method:"
   ]
  },
  {
   "cell_type": "markdown",
   "id": "3c3362d1",
   "metadata": {},
   "source": [
    "The sieve of Eratosthenes is one of the most efficient ways to find all primes smaller than N when N is smaller than 10 million or so."
   ]
  },
  {
   "cell_type": "markdown",
   "id": "143be0fc",
   "metadata": {},
   "source": [
    "Steps and implementation:\n",
    "\n",
    "1. Create a boolean array prime[srt to n] and initialize all its entries as true.\n",
    "2. Mark prime[0] and prime[1] as false because they are not prime numbers.\n",
    "3. Starting from p = srt, for each prime number p less than or equal to the square root of n, mark all multiples of p greater than or equal to p*p as composite by setting prime[i] to false.\n",
    "4. Finally, print all prime numbers between srt and n."
   ]
  },
  {
   "cell_type": "code",
   "execution_count": 55,
   "id": "9429b8bc",
   "metadata": {},
   "outputs": [
    {
     "name": "stdout",
     "output_type": "stream",
     "text": [
      "2 3 5 7 "
     ]
    }
   ],
   "source": [
    "# Python program to find the prime numbers\n",
    "# between a given interval using Sieve of Eratosthenes\n",
    "import math\n",
    " \n",
    "def SieveOfEratosthenes(srt, n):\n",
    "    # Create a boolean array \"prime[srt to n]\" and\n",
    "    # initialize all entries it as true. A value in\n",
    "    # prime[i] will finally be false if i is Not a prime,\n",
    "    # else true.\n",
    "    prime = [True for i in range(n + 2 - srt)]\n",
    "    prime[0] = False\n",
    "    prime[1] = False\n",
    " \n",
    "    for p in range(srt, int(math.sqrt(n))+1):\n",
    "        # If prime[p] is not changed, then it is a prime\n",
    "        if prime[p] == True:\n",
    "            # Update all multiples of p greater than or\n",
    "            # equal to the square of it numbers which are\n",
    "            # multiple of p and are less than p^2 are\n",
    "            # already been marked.\n",
    "            for i in range(p*p, n+1, p):\n",
    "                prime[i] = False\n",
    " \n",
    "    # Print all prime numbers\n",
    "    for p in range(srt, n+1):\n",
    "        if prime[p]:\n",
    "            print(p, end=\" \")\n",
    " \n",
    "# Driver Code\n",
    "if __name__ == \"__main__\":\n",
    "    srt = 1\n",
    "    end = 10\n",
    "    SieveOfEratosthenes(srt, end)"
   ]
  },
  {
   "cell_type": "markdown",
   "id": "a18aabc8",
   "metadata": {},
   "source": [
    "Optimized Sieve of Eratosthenes"
   ]
  },
  {
   "cell_type": "code",
   "execution_count": 56,
   "id": "8cb980a9",
   "metadata": {},
   "outputs": [],
   "source": [
    "# Bitwise Sieve method - https://www.geeksforgeeks.org/bitwise-sieve/"
   ]
  },
  {
   "cell_type": "markdown",
   "id": "167f087b",
   "metadata": {},
   "source": [
    "One optimization of the above method is, we have skipped all even numbers altogether.  We reduce the size of the prime array to half. We also reduce all iterations to half."
   ]
  },
  {
   "cell_type": "code",
   "execution_count": 57,
   "id": "9bf83026",
   "metadata": {},
   "outputs": [
    {
     "name": "stdout",
     "output_type": "stream",
     "text": [
      "2 3 5 7 "
     ]
    }
   ],
   "source": [
    "# Python program to Print all Prime numbers in an Interval\n",
    "# using simple optimized Sieve of Eratosthenes\n",
    "# to reduce size of prime array to half and\n",
    "# reducing iterations.\n",
    "def bitwiseSieve(srt, n):\n",
    " \n",
    "    # prime[i] is going to store\n",
    "    # true if if i*2 + 1 is composite.\n",
    "    prime = [0]*int(n / 2);\n",
    " \n",
    "    # 2 is the only even prime so\n",
    "    # we can ignore that. Loop\n",
    "    # starts from 3.\n",
    "    if (srt%2 == 0):\n",
    "        srt += 1\n",
    "    if(srt <= 2):\n",
    "        srt = 3\n",
    "    i = srt\n",
    "    while(i * i < n):\n",
    "        # If i is prime, mark all its\n",
    "        # multiples as composite\n",
    "        if (prime[int(i / 2)] == 0):\n",
    "            j = i * i;\n",
    "            while(j < n):\n",
    "                prime[int(j / 2)] = 1;\n",
    "                j += i * 2;\n",
    "        i += 2;\n",
    " \n",
    "    # writing 2 separately\n",
    "    print(2,end=\" \");\n",
    " \n",
    "    # Printing other primes\n",
    "    i = 3;\n",
    "    while(i < n):\n",
    "        if (prime[int(i / 2)] == 0):\n",
    "            print(i,end=\" \");\n",
    "        i += 2;\n",
    " \n",
    " \n",
    "# Driver code\n",
    "if __name__=='__main__':\n",
    "    srt = 1\n",
    "    end = 10\n",
    "    bitwiseSieve(srt, end)\n",
    " "
   ]
  },
  {
   "cell_type": "markdown",
   "id": "89f5bc5c",
   "metadata": {},
   "source": [
    "## Question 9. Python Program to Check Prime Number"
   ]
  },
  {
   "cell_type": "raw",
   "id": "73a83950",
   "metadata": {},
   "source": [
    "Input:  n = 11\n",
    "Output: True\n",
    "\n",
    "\n",
    "Input:  n = 1\n",
    "Output: False\n",
    "\n",
    "Explanation: A prime number is a natural number greater than 1 that\n",
    " has no positive divisors other than 1 and itself.\n",
    "  The first few prime numbers are {2, 3, 5, 7, 11, ….}. "
   ]
  },
  {
   "cell_type": "markdown",
   "id": "af8cae15",
   "metadata": {},
   "source": [
    "The idea to solve this problem is to iterate through all the numbers starting from 2 to (N/2) using a for loop and for every number check if it divides N. If we find any number that divides, we return false. If we did not find any number between 2 and N/2 which divides N then it means that N is prime and we will return True."
   ]
  },
  {
   "cell_type": "code",
   "execution_count": 58,
   "id": "01fedf0d",
   "metadata": {},
   "outputs": [
    {
     "name": "stdout",
     "output_type": "stream",
     "text": [
      "11 is a prime number\n"
     ]
    }
   ],
   "source": [
    "num = 11\n",
    "# If given number is greater than 1\n",
    "if num > 1:\n",
    "    # Iterate from 2 to n / 2\n",
    "    for i in range(2, int(num/2)+1):\n",
    "        # If num is divisible by any number between\n",
    "        # 2 and n / 2, it is not prime\n",
    "        if (num % i) == 0:\n",
    "            print(num, \"is not a prime number\")\n",
    "            break\n",
    "    else:\n",
    "        print(num, \"is a prime number\")\n",
    "else:\n",
    "    print(num, \"is not a prime number\")"
   ]
  },
  {
   "cell_type": "markdown",
   "id": "9ec7caa1",
   "metadata": {},
   "source": [
    "Find Prime Numbers with a flag variable"
   ]
  },
  {
   "cell_type": "markdown",
   "id": "3e69205e",
   "metadata": {},
   "source": [
    "Instead of checking till n, we can check till √n because a larger factor of n must be a multiple of a smaller factor that has been already checked. Now let’s see the code for the first optimization method ( i.e. checking till √n )"
   ]
  },
  {
   "cell_type": "markdown",
   "id": "4b279c82",
   "metadata": {},
   "source": [
    "Check Prime Numbers Using Recursion"
   ]
  },
  {
   "cell_type": "code",
   "execution_count": 59,
   "id": "d363a8a1",
   "metadata": {},
   "outputs": [
    {
     "name": "stdout",
     "output_type": "stream",
     "text": [
      "True\n"
     ]
    }
   ],
   "source": [
    "from math import sqrt\n",
    " \n",
    "def Prime(number,itr):  #prime function to check given number prime or not\n",
    "  if itr == 1:   #base condition\n",
    "    return True\n",
    "  if number % itr == 0:  #if given number divided by itr or not\n",
    "    return False\n",
    "  if Prime(number,itr-1) == False:   #Recursive function Call\n",
    "    return False\n",
    "     \n",
    "  return True\n",
    "  \n",
    "num = 13\n",
    " \n",
    "itr = int(sqrt(num)+1)\n",
    " \n",
    "print(Prime(num,itr))"
   ]
  },
  {
   "cell_type": "markdown",
   "id": "31a6d6f6",
   "metadata": {},
   "source": [
    "Check the Prime Trial Division Method"
   ]
  },
  {
   "cell_type": "code",
   "execution_count": 60,
   "id": "a7bf3602",
   "metadata": {},
   "outputs": [
    {
     "name": "stdout",
     "output_type": "stream",
     "text": [
      "True\n"
     ]
    }
   ],
   "source": [
    "def is_prime_trial_division(n):\n",
    "    # Check if the number is less than\n",
    "    # or equal to 1, return False if it is\n",
    "    if n <= 1:\n",
    "        return False\n",
    "    # Loop through all numbers from 2 to\n",
    "    # the square root of n (rounded down to the nearest integer)\n",
    "    for i in range(2, int(n**0.5)+1):\n",
    "        # If n is divisible by any of these numbers, return False\n",
    "        if n % i == 0:\n",
    "            return False\n",
    "    # If n is not divisible by any of these numbers, return True\n",
    "    return True\n",
    " \n",
    " \n",
    "# Test the function with n = 11\n",
    "print(is_prime_trial_division(11))"
   ]
  },
  {
   "cell_type": "markdown",
   "id": "cd24ceef",
   "metadata": {},
   "source": [
    "Python Program to Check Prime Number Using a while loop to check divisibility"
   ]
  },
  {
   "cell_type": "markdown",
   "id": "897d25da",
   "metadata": {},
   "source": [
    "Initialize a variable i to 2, While i squared is less than or equal to n, check if n is divisible by i. If n is divisible by i, return False. Otherwise, increment i by 1. If the loop finishes without finding a divisor, return True."
   ]
  },
  {
   "cell_type": "code",
   "execution_count": 61,
   "id": "2f4d7662",
   "metadata": {},
   "outputs": [
    {
     "name": "stdout",
     "output_type": "stream",
     "text": [
      "True\n",
      "False\n"
     ]
    }
   ],
   "source": [
    "import math\n",
    " \n",
    "def is_prime(n):\n",
    "    if n < 2:\n",
    "        return False\n",
    "    i = 2\n",
    "    while i*i <= n:\n",
    "        if n % i == 0:\n",
    "            return False\n",
    "        i += 1\n",
    "    return True\n",
    " \n",
    "print(is_prime(11))  # True\n",
    "print(is_prime(1))   # False"
   ]
  },
  {
   "cell_type": "markdown",
   "id": "57cf8ab8",
   "metadata": {},
   "source": [
    "Python Program to Check Prime Number Using Math module"
   ]
  },
  {
   "cell_type": "markdown",
   "id": "dbe26308",
   "metadata": {},
   "source": [
    "The code implements a basic approach to check if a number is prime or not, by traversing all the numbers from 2 to sqrt(n)+1 and checking if n is divisible by any of those numbers. "
   ]
  },
  {
   "cell_type": "code",
   "execution_count": 62,
   "id": "c855299c",
   "metadata": {},
   "outputs": [
    {
     "name": "stdout",
     "output_type": "stream",
     "text": [
      "True\n"
     ]
    }
   ],
   "source": [
    "import math\n",
    " \n",
    "def is_prime(n):\n",
    "    if n <= 1:\n",
    "        return False\n",
    "    for i in range(2, int(math.sqrt(n)) + 1):\n",
    "        if n % i == 0:\n",
    "            return False\n",
    "    return True\n",
    " \n",
    "n = 11\n",
    "print(is_prime(n))"
   ]
  },
  {
   "cell_type": "markdown",
   "id": "f97bfa97",
   "metadata": {},
   "source": [
    "Python Program to Check Prime Number Using sympy.isprime() method"
   ]
  },
  {
   "cell_type": "markdown",
   "id": "b2dd53c4",
   "metadata": {},
   "source": [
    "In the sympy module, we can test whether a given number n is prime or not using sympy.isprime() function. For n < 264 the answer is definitive; larger n values have a small probability of actually being pseudoprimes."
   ]
  },
  {
   "cell_type": "code",
   "execution_count": 63,
   "id": "132424e0",
   "metadata": {},
   "outputs": [
    {
     "name": "stdout",
     "output_type": "stream",
     "text": [
      "False\n",
      "True\n",
      "True\n"
     ]
    }
   ],
   "source": [
    "# Python program to check prime number\n",
    "# using sympy.isprime() method\n",
    " \n",
    "# importing sympy module\n",
    "from sympy import *\n",
    " \n",
    "# calling isprime function on different numbers\n",
    "geek1 = isprime(30)\n",
    "geek2 = isprime(13)\n",
    "geek3 = isprime(2)\n",
    " \n",
    "print(geek1) # check for 30 is prime or not\n",
    "print(geek2) # check for 13 is prime or not\n",
    "print(geek3) # check for 2 is prime or not"
   ]
  },
  {
   "cell_type": "markdown",
   "id": "8bb818c9",
   "metadata": {},
   "source": [
    "## Question 10. Python Program for n-th Fibonacci number"
   ]
  },
  {
   "cell_type": "raw",
   "id": "257805d1",
   "metadata": {},
   "source": [
    "In mathematical terms, the sequence Fn of Fibonacci numbers is defined by the recurrence relation \n",
    "\n",
    "Fn = Fn-1 + Fn-2\n",
    "\n",
    "With seed values \n",
    "\n",
    "F0 = 0 and F1 = 1."
   ]
  },
  {
   "cell_type": "markdown",
   "id": "00d064cb",
   "metadata": {},
   "source": [
    "Python Program for n-th Fibonacci number Using recursion\n",
    "Here we will use recursion function. The code defines a function Fibonacci(n) that calculates the nth Fibonacci number recursively. It checks for invalid input and returns the Fibonacci number based on the base cases (0 and 1) or by recursively calling itself with reduced values of n. The driver program prints the 10th Fibonacci number."
   ]
  },
  {
   "cell_type": "code",
   "execution_count": 64,
   "id": "fc8a3fa1",
   "metadata": {},
   "outputs": [
    {
     "name": "stdout",
     "output_type": "stream",
     "text": [
      "34\n"
     ]
    }
   ],
   "source": [
    "# Function for nth Fibonacci number\n",
    " \n",
    "def Fibonacci(n):\n",
    "    if n<= 0:\n",
    "        print(\"Incorrect input\")\n",
    "    # First Fibonacci number is 0\n",
    "    elif n == 1:\n",
    "        return 0\n",
    "    # Second Fibonacci number is 1\n",
    "    elif n == 2:\n",
    "        return 1\n",
    "    else:\n",
    "        return Fibonacci(n-1)+Fibonacci(n-2)\n",
    " \n",
    "# Driver Program\n",
    " \n",
    "print(Fibonacci(10))"
   ]
  },
  {
   "cell_type": "markdown",
   "id": "461f9d98",
   "metadata": {},
   "source": [
    "Python Program for n-th Fibonacci number Using Dynamic Programming "
   ]
  },
  {
   "cell_type": "markdown",
   "id": "00b7c585",
   "metadata": {},
   "source": [
    "The code defines a function fibonacci(n) that calculates the nth Fibonacci number using dynamic programming. It initializes a list FibArray with the first two Fibonacci numbers (0 and 1). The function checks if the Fibonacci number for n is already present in FibArray and returns it. Otherwise, it calculates the Fibonacci number recursively, stores it in FibArray for future use, and returns the calculated value. The driver program prints the 9th Fibonacci number using this approach."
   ]
  },
  {
   "cell_type": "code",
   "execution_count": 65,
   "id": "569705f8",
   "metadata": {},
   "outputs": [
    {
     "name": "stdout",
     "output_type": "stream",
     "text": [
      "21\n"
     ]
    }
   ],
   "source": [
    "# Function for nth fibonacci number - Dynamic Programming\n",
    "# Taking 1st two fibonacci numbers as 0 and 1\n",
    " \n",
    "FibArray = [0, 1]\n",
    " \n",
    "def fibonacci(n):\n",
    "    if n<0:\n",
    "        print(\"Incorrect input\")\n",
    "    elif n<= len(FibArray):\n",
    "        return FibArray[n-1]\n",
    "    else:\n",
    "        temp_fib = fibonacci(n-1)+fibonacci(n-2)\n",
    "        FibArray.append(temp_fib)\n",
    "        return temp_fib\n",
    " \n",
    "# Driver Program\n",
    " \n",
    "print(fibonacci(9))"
   ]
  },
  {
   "cell_type": "markdown",
   "id": "dfa33a2f",
   "metadata": {},
   "source": [
    "n-th Fibonacci number Using Dynamic Programming with Space Optimization"
   ]
  },
  {
   "cell_type": "code",
   "execution_count": 66,
   "id": "75a6e076",
   "metadata": {},
   "outputs": [
    {
     "name": "stdout",
     "output_type": "stream",
     "text": [
      "21\n"
     ]
    }
   ],
   "source": [
    "# Function for nth fibonacci number - Space Optimisation\n",
    "# Taking 1st two fibonacci numbers as 0 and 1\n",
    " \n",
    "def fibonacci(n):\n",
    "    a = 0\n",
    "    b = 1\n",
    "    if n < 0:\n",
    "        print(\"Incorrect input\")\n",
    "    elif n == 0:\n",
    "        return a\n",
    "    elif n == 1:\n",
    "        return b\n",
    "    else:\n",
    "        for i in range(2, n):\n",
    "            c = a + b\n",
    "            a = b\n",
    "            b = c\n",
    "        return b\n",
    " \n",
    "# Driver Program\n",
    " \n",
    "print(fibonacci(9))"
   ]
  },
  {
   "cell_type": "markdown",
   "id": "ad7d97fd",
   "metadata": {},
   "source": [
    "Python Program for n-th Fibonacci number Using Using Arrays "
   ]
  },
  {
   "cell_type": "markdown",
   "id": "76fc1b45",
   "metadata": {},
   "source": [
    "The code defines a function fibonacci(n) that calculates the nth Fibonacci number by creating an array data containing the Fibonacci sequence up to the nth number. It initializes data with the first two Fibonacci numbers (0 and 1) and then iteratively calculates the subsequent numbers. The function returns the nth number from data. The driver program prints the 9th Fibonacci number using this approach."
   ]
  },
  {
   "cell_type": "code",
   "execution_count": 67,
   "id": "afb5992b",
   "metadata": {},
   "outputs": [
    {
     "name": "stdout",
     "output_type": "stream",
     "text": [
      "21\n"
     ]
    }
   ],
   "source": [
    "# creating an array in the function to find the\n",
    "#nth number in fibonacci series. [0, 1, 1, ...]\n",
    "def fibonacci(n):\n",
    "    if n <= 0:\n",
    "        return \"Incorrect Output\"\n",
    "    data = [0, 1]\n",
    "    if n > 2:\n",
    "        for i in range(2, n):\n",
    "            data.append(data[i-1] + data[i-2])\n",
    "    return data[n-1]\n",
    " \n",
    "# Driver Program\n",
    "print(fibonacci(9))"
   ]
  },
  {
   "cell_type": "raw",
   "id": "32881a0c",
   "metadata": {},
   "source": [
    "[0, 1, 1, 2, 3, 5, 8, 13, 21, 34, 55, 89, 144]\n",
    "As we know that the Fibonacci series is the sum of the previous two terms, so if we enter 12 as the input in the program, so we should get 144 as the output. And that is what is the result. "
   ]
  },
  {
   "cell_type": "raw",
   "id": "a36b563b",
   "metadata": {},
   "source": [
    "Python Program for n-th Fibonacci number Using Direct Formula \n",
    "The formula for finding the n-th Fibonacci number is as follows:\n",
    "\n",
    "Fibonacci number Fn\n",
    "\n",
    "(1) Fn=F{n-1}+F{n-2}\\hspace{5px} F_1=1,\\ F_2=1\\\\ (2)\\ F_n={\\large\\frac{(1+\\sqrt5)^n-(1-\\sqrt5)^n}{2^n\\sqrt5}}\\\\ "
   ]
  },
  {
   "cell_type": "code",
   "execution_count": 68,
   "id": "bfd39fd4",
   "metadata": {},
   "outputs": [
    {
     "name": "stdout",
     "output_type": "stream",
     "text": [
      "144 is 12th fibonacci number\n"
     ]
    }
   ],
   "source": [
    "# To find the n-th Fibonacci Number using formula\n",
    "from math import sqrt\n",
    "# import square-root method from math library\n",
    "def nthFib(n):\n",
    "    res = (((1+sqrt(5))**n)-((1-sqrt(5)))**n)/(2**n*sqrt(5))\n",
    "    # compute the n-th fibonacci number\n",
    "    print(int(res),'is',str(n)+'th fibonacci number')\n",
    "    # format and print the number\n",
    "     \n",
    "# driver code\n",
    "nthFib(12)"
   ]
  },
  {
   "cell_type": "markdown",
   "id": "6de1b4ae",
   "metadata": {},
   "source": [
    "Python Program for n-th Fibonacci number Using power of the matrix {{1, 1}, {1, 0}}"
   ]
  },
  {
   "cell_type": "markdown",
   "id": "728f560c",
   "metadata": {},
   "source": [
    "This is another O(n) that relies on the fact that if we n times multiply the matrix M = {{1,1},{1,0}} to itself (in other words calculate power(M, n)), then we get the (n+1)th Fibonacci number as the element at row and column (0, 0) in the resultant matrix.\n",
    "The matrix representation gives the following closed expression for the Fibonacci numbers: "
   ]
  },
  {
   "cell_type": "code",
   "execution_count": 69,
   "id": "73dbfc96",
   "metadata": {},
   "outputs": [
    {
     "name": "stdout",
     "output_type": "stream",
     "text": [
      "34\n"
     ]
    }
   ],
   "source": [
    "# Helper function that multiplies\n",
    "# 2 matrices F and M of size 2*2,\n",
    "# and puts the multiplication\n",
    "# result back to F[][]\n",
    " \n",
    "# Helper function that calculates\n",
    "# F[][] raise to the power n and\n",
    "# puts the result in F[][]\n",
    "# Note that this function is\n",
    "# designed only for fib() and\n",
    "# won't work as general\n",
    "# power function\n",
    "def fib(n):\n",
    "    F = [[1, 1],\n",
    "         [1, 0]]\n",
    "    if (n == 0):\n",
    "        return 0\n",
    "    power(F, n - 1)\n",
    "    return F[0][0]\n",
    " \n",
    " \n",
    "def multiply(F, M):\n",
    "  x = (F[0][0] * M[0][0] + F[0][1] * M[1][0])\n",
    "  y = (F[0][0] * M[0][1] + F[0][1] * M[1][1])\n",
    "  z = (F[1][0] * M[0][0] + F[1][1] * M[1][0])\n",
    "  w = (F[1][0] * M[0][1] + F[1][1] * M[1][1])\n",
    "  F[0][0] = x\n",
    "  F[0][1] = y\n",
    "  F[1][0] = z\n",
    "  F[1][1] = w\n",
    " \n",
    " \n",
    "def power(F, n):\n",
    "    M = [[1, 1], [1, 0]]\n",
    "    # n - 1 times multiply the\n",
    "    # matrix to {{1,0},{0,1}}\n",
    "    for i in range(2, n + 1):\n",
    "        multiply(F, M)\n",
    " \n",
    " \n",
    "# Driver Code\n",
    "if __name__ == \"__main__\":\n",
    "    n = 9\n",
    "    print(fib(n))\n",
    " "
   ]
  },
  {
   "cell_type": "code",
   "execution_count": 70,
   "id": "eae85dd3",
   "metadata": {},
   "outputs": [
    {
     "name": "stdout",
     "output_type": "stream",
     "text": [
      "5\n"
     ]
    }
   ],
   "source": [
    "# Nth Fibonacci Number using\n",
    "# optimized power of the matrix method\n",
    " \n",
    "# function that returns nth\n",
    "# Fibonacci number\n",
    " \n",
    " \n",
    "def fib(n):\n",
    "    F = [[1, 1],\n",
    "         [1, 0]]\n",
    "    if (n == 0):\n",
    "        return 0\n",
    "    power(F, n - 1)\n",
    " \n",
    "    return F[0][0]\n",
    " \n",
    " \n",
    "def multiply(F, M):\n",
    "    x = (F[0][0] * M[0][0] +\n",
    "         F[0][1] * M[1][0])\n",
    "    y = (F[0][0] * M[0][1] +\n",
    "         F[0][1] * M[1][1])\n",
    "    z = (F[1][0] * M[0][0] +\n",
    "         F[1][1] * M[1][0])\n",
    "    w = (F[1][0] * M[0][1] +\n",
    "         F[1][1] * M[1][1])\n",
    " \n",
    "    F[0][0] = x\n",
    "    F[0][1] = y\n",
    "    F[1][0] = z\n",
    "    F[1][1] = w\n",
    " \n",
    "# Optimized version of\n",
    "# power() in method 6\n",
    " \n",
    " \n",
    "def power(F, n):\n",
    "    if(n == 0 or n == 1):\n",
    "        return\n",
    "    M = [[1, 1],\n",
    "         [1, 0]]\n",
    " \n",
    "    power(F, n // 2)\n",
    "    multiply(F, F)\n",
    " \n",
    "    if (n % 2 != 0):\n",
    "        multiply(F, M)\n",
    " \n",
    " \n",
    "# Driver Code\n",
    "if __name__ == \"__main__\":\n",
    "    n = 5\n",
    "    print(fib(n))"
   ]
  },
  {
   "cell_type": "markdown",
   "id": "1786a220",
   "metadata": {},
   "source": [
    "## Question 11. Python Program for How to check if a given number is Fibonacci number?"
   ]
  },
  {
   "cell_type": "markdown",
   "id": "08a3531d",
   "metadata": {},
   "source": [
    "Given a number \\’n\\’, how to check if n is a Fibonacci number. First few Fibonacci numbers are 0, 1, 1, 2, 3, 5, 8, 13, 21, 34, 55, 89, 144, .. "
   ]
  },
  {
   "cell_type": "raw",
   "id": "00426ea7",
   "metadata": {},
   "source": [
    "A number is Fibonacci if and only if one or both of (5*n2 + 4) or (5*n2 – 4) is a perfect square"
   ]
  },
  {
   "cell_type": "code",
   "execution_count": 71,
   "id": "5f8251fa",
   "metadata": {},
   "outputs": [
    {
     "name": "stdout",
     "output_type": "stream",
     "text": [
      "1 is a Fibonacci Number\n",
      "2 is a Fibonacci Number\n",
      "3 is a Fibonacci Number\n",
      "4 is a not Fibonacci Number \n",
      "5 is a Fibonacci Number\n",
      "6 is a not Fibonacci Number \n",
      "7 is a not Fibonacci Number \n",
      "8 is a Fibonacci Number\n",
      "9 is a not Fibonacci Number \n",
      "10 is a not Fibonacci Number \n"
     ]
    }
   ],
   "source": [
    "# python program to check if x is a perfect square\n",
    "import math\n",
    " \n",
    "# A utility function that returns true if x is perfect square\n",
    " \n",
    " \n",
    "def isPerfectSquare(x):\n",
    "    s = int(math.sqrt(x))\n",
    "    return s*s == x\n",
    " \n",
    "# Returns true if n is a Fibonacci Number, else false\n",
    " \n",
    " \n",
    "def isFibonacci(n):\n",
    " \n",
    "    # n is Fibonacci if one of 5*n*n + 4 or 5*n*n - 4 or both\n",
    "    # is a perfect square\n",
    "    return isPerfectSquare(5*n*n + 4) or isPerfectSquare(5*n*n - 4)\n",
    " \n",
    " \n",
    "# A utility function to test above functions\n",
    "for i in range(1, 11):\n",
    "    if (isFibonacci(i) == True):\n",
    "        print(i, \"is a Fibonacci Number\")\n",
    "    else:\n",
    "        print(i, \"is a not Fibonacci Number \")"
   ]
  },
  {
   "cell_type": "markdown",
   "id": "2fd7b452",
   "metadata": {},
   "source": [
    "## Queston 12. Python Program for nth multiple of a number in Fibonacci Series"
   ]
  },
  {
   "cell_type": "markdown",
   "id": "dcceb021",
   "metadata": {},
   "source": [
    "Given two integers n and k. Find position the nth multiple of K in the Fibonacci series. "
   ]
  },
  {
   "cell_type": "code",
   "execution_count": 72,
   "id": "4a7f2a7b",
   "metadata": {},
   "outputs": [],
   "source": [
    "#Fibonacci series - https://www.geeksforgeeks.org/program-for-nth-fibonacci-number/"
   ]
  },
  {
   "cell_type": "raw",
   "id": "868ba365",
   "metadata": {},
   "source": [
    "Input: k = 2, n = 3\n",
    "Output: 9, 3rd multiple of 2 in Fibonacci Series is 34 that appears at position 9.\n",
    "\n",
    "Input: k = 4, n = 5 \n",
    "Output: 30, 5th multiple of 5 in Fibonacci Series is 832040 which appears at position 30."
   ]
  },
  {
   "cell_type": "code",
   "execution_count": 73,
   "id": "ffef62e1",
   "metadata": {},
   "outputs": [
    {
     "name": "stdout",
     "output_type": "stream",
     "text": [
      "Position of n'th multiple of k inFibonacci Series is 30\n"
     ]
    }
   ],
   "source": [
    "# Python Program to find position of n\\'th multiple\n",
    "# of a number k in Fibonacci Series\n",
    " \n",
    "def findPosition(k, n):\n",
    "    f1 = 0\n",
    "    f2 = 1\n",
    "    i =2;\n",
    "    while i!=0:\n",
    "        f3 = f1 + f2;\n",
    "        f1 = f2;\n",
    "        f2 = f3;\n",
    " \n",
    "        if f2%k == 0:\n",
    "            return n*i\n",
    " \n",
    "        i+=1\n",
    "         \n",
    "    return\n",
    " \n",
    " \n",
    "# Multiple no.\n",
    "n = 5;\n",
    "# Number of whose multiple we are finding\n",
    "k = 4;\n",
    " \n",
    "print(\"Position of n\\'th multiple of k in\"\n",
    "                \"Fibonacci Series is\", findPosition(k,n));"
   ]
  },
  {
   "cell_type": "markdown",
   "id": "32f884c5",
   "metadata": {},
   "source": [
    "Method: Iterative approach using a list to store Fibonacci series"
   ]
  },
  {
   "cell_type": "markdown",
   "id": "29bf929b",
   "metadata": {},
   "source": [
    "- First, we generate the Fibonacci series till the nth term.\n",
    "- Then, we check if the current term is a multiple of k or not.\n",
    "- If it is a multiple of k, we increment our counter variable.\n",
    "- Once the counter becomes equal to n, we return the position of the current term in the Fibonacci series."
   ]
  },
  {
   "cell_type": "markdown",
   "id": "55ccb408",
   "metadata": {},
   "source": [
    "Steps\n",
    "\n",
    "- Define a function nth_fib_multiple that takes two integers n and k as input.\n",
    "- Initialize a list called fibonacci with the first two terms of the Fibonacci series.\n",
    "- Initialize a variable called counter with value 0.\n",
    "- Iterate from the third term of the Fibonacci series till the end.\n",
    "- Check if the current term is a multiple of k or not.\n",
    "- If it is a multiple of k, increment the counter.\n",
    "- Check if the counter is equal to n or not.\n",
    "- If it is equal to n, return the position of the current term in the Fibonacci series.\n",
    "-If the counter is not equal to n, append the current term to the fibonacci list and continue the loop."
   ]
  },
  {
   "cell_type": "code",
   "execution_count": 74,
   "id": "8f46e3e3",
   "metadata": {},
   "outputs": [
    {
     "name": "stdout",
     "output_type": "stream",
     "text": [
      "9\n"
     ]
    }
   ],
   "source": [
    "def nth_fib_multiple(n, k):\n",
    "    fibonacci = [0, 1]\n",
    "    counter = 0\n",
    "    for i in range(2, 10000):\n",
    "        current = fibonacci[i-1] + fibonacci[i-2]\n",
    "        if current % k == 0:\n",
    "            counter += 1\n",
    "            if counter == n:\n",
    "                return i\n",
    "        fibonacci.append(current)\n",
    "         \n",
    "# Example usage\n",
    "print(nth_fib_multiple(3, 2)) # Output: 9"
   ]
  },
  {
   "cell_type": "markdown",
   "id": "1708aeb7",
   "metadata": {},
   "source": [
    "Approach: Recursive Fibonacci series with memoization."
   ]
  },
  {
   "cell_type": "markdown",
   "id": "6baac588",
   "metadata": {},
   "source": [
    "- Define a recursive function fib(n) that returns the nth number in the Fibonacci series.\n",
    "- Implement memoization to store the values of previously calculated Fibonacci numbers.\n",
    "- Define a function fib_multiple(k, n) that finds the nth multiple of k in the Fibonacci series.\n",
    "- Iterate through the Fibonacci series until the nth multiple of k is found.\n",
    "- Return the position of the nth multiple of k in the Fibonacci series."
   ]
  },
  {
   "cell_type": "code",
   "execution_count": 75,
   "id": "5a53893b",
   "metadata": {},
   "outputs": [
    {
     "name": "stdout",
     "output_type": "stream",
     "text": [
      "The 3th multiple of 2 in the Fibonacci series is at position 9\n"
     ]
    }
   ],
   "source": [
    "# Recursive function to find the nth number in the Fibonacci series\n",
    "def fib(n, memo):\n",
    "    if n == 1 or n == 2:\n",
    "        return 1\n",
    "    if memo[n] != 0:\n",
    "        return memo[n]\n",
    "    memo[n] = fib(n-1, memo) + fib(n-2, memo)\n",
    "    return memo[n]\n",
    " \n",
    "# Function to find the nth multiple of k in the Fibonacci series\n",
    "def fib_multiple(k, n):\n",
    "    memo = [0] * 100\n",
    "    count = 0\n",
    "    for i in range(1, 100):\n",
    "        if fib(i, memo) % k == 0:\n",
    "            count += 1\n",
    "            if count == n:\n",
    "                return i\n",
    "    return -1\n",
    " \n",
    "# Test the function with sample inputs\n",
    "k = 2\n",
    "n = 3\n",
    "result = fib_multiple(k, n)\n",
    "print(f\"The {n}th multiple of {k} in the Fibonacci series is at position {result}\")"
   ]
  },
  {
   "cell_type": "markdown",
   "id": "f288615a",
   "metadata": {},
   "source": [
    "## Question 13. Program to print ASCII Value of a character"
   ]
  },
  {
   "cell_type": "code",
   "execution_count": null,
   "id": "5a69da2d",
   "metadata": {},
   "outputs": [],
   "source": []
  }
 ],
 "metadata": {
  "kernelspec": {
   "display_name": "Python 3 (ipykernel)",
   "language": "python",
   "name": "python3"
  },
  "language_info": {
   "codemirror_mode": {
    "name": "ipython",
    "version": 3
   },
   "file_extension": ".py",
   "mimetype": "text/x-python",
   "name": "python",
   "nbconvert_exporter": "python",
   "pygments_lexer": "ipython3",
   "version": "3.11.3"
  }
 },
 "nbformat": 4,
 "nbformat_minor": 5
}
