{
 "cells": [
  {
   "cell_type": "markdown",
   "id": "outstanding-relation",
   "metadata": {},
   "source": [
    "- 1 Introduction to Python\n",
    "- 2 Strings in Python \n",
    "- 3 Lists in Python  \n",
    "- 4 Tuples in Python  \n",
    "- 5 Sets in Python  \n",
    "- 6 Dictionaries in Python \n",
    "- 7 Conditions in Python  \n",
    "- 8 Loops in Python \n",
    "- 9 Functions in Python\n",
    "- 10 Exception Handling in Python \n",
    "- 11 Built-in Functions in Python \n",
    "- 12 Classes and Objects in Python \n",
    "- 13 Reading Files in Python \n",
    "- 14 Writing Files in Python \n",
    "- 15 String Operators and Functions in Python \n",
    "- 16 Arrays in Python \n",
    "- 17 Lambda Functions in Python \n",
    "- 18 Math Module Functions in Python \n",
    "- 19 List Comprehension in Python\n",
    "- 20 Decorators in Python 235\n",
    "- 21 Generators in Python"
   ]
  },
  {
   "cell_type": "markdown",
   "id": "applicable-competition",
   "metadata": {},
   "source": [
    "# 1. Introduction to Python"
   ]
  },
  {
   "cell_type": "markdown",
   "id": "99bb35a5",
   "metadata": {},
   "source": [
    "### First Code"
   ]
  },
  {
   "cell_type": "code",
   "execution_count": null,
   "id": "016a4224",
   "metadata": {},
   "outputs": [],
   "source": [
    "#First python output with 'Print' functions\n",
    "print('Hello World!')\n",
    "print('Hi, Python!')"
   ]
  },
  {
   "cell_type": "markdown",
   "id": "04978eda",
   "metadata": {},
   "source": [
    "### Version control"
   ]
  },
  {
   "cell_type": "code",
   "execution_count": 1,
   "id": "aa2c5f46",
   "metadata": {},
   "outputs": [
    {
     "name": "stdout",
     "output_type": "stream",
     "text": [
      "3.8.6 | packaged by conda-forge | (default, Dec 26 2020, 05:05:16) \n",
      "[GCC 9.3.0]\n",
      "<built-in function gettrace>\n",
      "['/opt/conda/lib/python3.8/site-packages/ipykernel_launcher.py', '-f', '/home/jovyan/.local/share/jupyter/runtime/kernel-35b1a547-672a-4698-a57e-2433b16f42f9.json']\n"
     ]
    }
   ],
   "source": [
    "# Python version check\n",
    "import sys\n",
    "print(sys.version) # version control\n",
    "#print(sys.winver) # [Windows only] version number of the Python DLL\n",
    "print(sys.gettrace) # get the global debug tracing function\n",
    "print(sys.argv) # keeps the parameters used while running the program we wrote in a list."
   ]
  },
  {
   "cell_type": "markdown",
   "id": "dee74bc6",
   "metadata": {},
   "source": [
    "### help() function"
   ]
  },
  {
   "cell_type": "code",
   "execution_count": 2,
   "id": "a3738a10",
   "metadata": {},
   "outputs": [
    {
     "name": "stdout",
     "output_type": "stream",
     "text": [
      "Help on built-in module sys:\n",
      "\n",
      "NAME\n",
      "    sys\n",
      "\n",
      "MODULE REFERENCE\n",
      "    https://docs.python.org/3.8/library/sys\n",
      "    \n",
      "    The following documentation is automatically generated from the Python\n",
      "    source files.  It may be incomplete, incorrect or include features that\n",
      "    are considered implementation detail and may vary between Python\n",
      "    implementations.  When in doubt, consult the module reference at the\n",
      "    location listed above.\n",
      "\n",
      "DESCRIPTION\n",
      "    This module provides access to some objects used or maintained by the\n",
      "    interpreter and to functions that interact strongly with the interpreter.\n",
      "    \n",
      "    Dynamic objects:\n",
      "    \n",
      "    argv -- command line arguments; argv[0] is the script pathname if known\n",
      "    path -- module search path; path[0] is the script directory, else ''\n",
      "    modules -- dictionary of loaded modules\n",
      "    \n",
      "    displayhook -- called to show results in an interactive session\n",
      "    excepthook -- called to handle any uncaught exception other than SystemExit\n",
      "      To customize printing in an interactive session or to install a custom\n",
      "      top-level exception handler, assign other functions to replace these.\n",
      "    \n",
      "    stdin -- standard input file object; used by input()\n",
      "    stdout -- standard output file object; used by print()\n",
      "    stderr -- standard error object; used for error messages\n",
      "      By assigning other file objects (or objects that behave like files)\n",
      "      to these, it is possible to redirect all of the interpreter's I/O.\n",
      "    \n",
      "    last_type -- type of last uncaught exception\n",
      "    last_value -- value of last uncaught exception\n",
      "    last_traceback -- traceback of last uncaught exception\n",
      "      These three are only available in an interactive session after a\n",
      "      traceback has been printed.\n",
      "    \n",
      "    Static objects:\n",
      "    \n",
      "    builtin_module_names -- tuple of module names built into this interpreter\n",
      "    copyright -- copyright notice pertaining to this interpreter\n",
      "    exec_prefix -- prefix used to find the machine-specific Python library\n",
      "    executable -- absolute path of the executable binary of the Python interpreter\n",
      "    float_info -- a named tuple with information about the float implementation.\n",
      "    float_repr_style -- string indicating the style of repr() output for floats\n",
      "    hash_info -- a named tuple with information about the hash algorithm.\n",
      "    hexversion -- version information encoded as a single integer\n",
      "    implementation -- Python implementation information.\n",
      "    int_info -- a named tuple with information about the int implementation.\n",
      "    maxsize -- the largest supported length of containers.\n",
      "    maxunicode -- the value of the largest Unicode code point\n",
      "    platform -- platform identifier\n",
      "    prefix -- prefix used to find the Python library\n",
      "    thread_info -- a named tuple with information about the thread implementation.\n",
      "    version -- the version of this interpreter as a string\n",
      "    version_info -- version information as a named tuple\n",
      "    __stdin__ -- the original stdin; don't touch!\n",
      "    __stdout__ -- the original stdout; don't touch!\n",
      "    __stderr__ -- the original stderr; don't touch!\n",
      "    __displayhook__ -- the original displayhook; don't touch!\n",
      "    __excepthook__ -- the original excepthook; don't touch!\n",
      "    \n",
      "    Functions:\n",
      "    \n",
      "    displayhook() -- print an object to the screen, and save it in builtins._\n",
      "    excepthook() -- print an exception and its traceback to sys.stderr\n",
      "    exc_info() -- return thread-safe information about the current exception\n",
      "    exit() -- exit the interpreter by raising SystemExit\n",
      "    getdlopenflags() -- returns flags to be used for dlopen() calls\n",
      "    getprofile() -- get the global profiling function\n",
      "    getrefcount() -- return the reference count for an object (plus one :-)\n",
      "    getrecursionlimit() -- return the max recursion depth for the interpreter\n",
      "    getsizeof() -- return the size of an object in bytes\n",
      "    gettrace() -- get the global debug tracing function\n",
      "    setcheckinterval() -- control how often the interpreter checks for events\n",
      "    setdlopenflags() -- set the flags to be used for dlopen() calls\n",
      "    setprofile() -- set the global profiling function\n",
      "    setrecursionlimit() -- set the max recursion depth for the interpreter\n",
      "    settrace() -- set the global debug tracing function\n",
      "\n",
      "FUNCTIONS\n",
      "    __breakpointhook__ = breakpointhook(...)\n",
      "        breakpointhook(*args, **kws)\n",
      "        \n",
      "        This hook function is called by built-in breakpoint().\n",
      "    \n",
      "    __displayhook__ = displayhook(object, /)\n",
      "        Print an object to sys.stdout and also save it in builtins._\n",
      "    \n",
      "    __excepthook__ = excepthook(exctype, value, traceback, /)\n",
      "        Handle an exception by displaying it with a traceback on sys.stderr.\n",
      "    \n",
      "    __unraisablehook__ = unraisablehook(unraisable, /)\n",
      "        Handle an unraisable exception.\n",
      "        \n",
      "        The unraisable argument has the following attributes:\n",
      "        \n",
      "        * exc_type: Exception type.\n",
      "        * exc_value: Exception value, can be None.\n",
      "        * exc_traceback: Exception traceback, can be None.\n",
      "        * err_msg: Error message, can be None.\n",
      "        * object: Object causing the exception, can be None.\n",
      "    \n",
      "    addaudithook(hook)\n",
      "        Adds a new audit hook callback.\n",
      "    \n",
      "    audit(...)\n",
      "        audit(event, *args)\n",
      "        \n",
      "        Passes the event to any audit hooks that are attached.\n",
      "    \n",
      "    breakpointhook(...)\n",
      "        breakpointhook(*args, **kws)\n",
      "        \n",
      "        This hook function is called by built-in breakpoint().\n",
      "    \n",
      "    call_tracing(func, args, /)\n",
      "        Call func(*args), while tracing is enabled.\n",
      "        \n",
      "        The tracing state is saved, and restored afterwards.  This is intended\n",
      "        to be called from a debugger from a checkpoint, to recursively debug\n",
      "        some other code.\n",
      "    \n",
      "    callstats()\n",
      "        Return a tuple of function call statistics.\n",
      "        \n",
      "        A tuple is returned only if CALL_PROFILE was defined when Python was\n",
      "        built.  Otherwise, this returns None.\n",
      "        \n",
      "        When enabled, this function returns detailed, implementation-specific\n",
      "        details about the number of function calls executed. The return value\n",
      "        is a 11-tuple where the entries in the tuple are counts of:\n",
      "        0. all function calls\n",
      "        1. calls to PyFunction_Type objects\n",
      "        2. PyFunction calls that do not create an argument tuple\n",
      "        3. PyFunction calls that do not create an argument tuple\n",
      "           and bypass PyEval_EvalCodeEx()\n",
      "        4. PyMethod calls\n",
      "        5. PyMethod calls on bound methods\n",
      "        6. PyType calls\n",
      "        7. PyCFunction calls\n",
      "        8. generator calls\n",
      "        9. All other calls\n",
      "        10. Number of stack pops performed by call_function()\n",
      "    \n",
      "    exc_info()\n",
      "        Return current exception information: (type, value, traceback).\n",
      "        \n",
      "        Return information about the most recent exception caught by an except\n",
      "        clause in the current stack frame or in an older stack frame.\n",
      "    \n",
      "    exit(status=None, /)\n",
      "        Exit the interpreter by raising SystemExit(status).\n",
      "        \n",
      "        If the status is omitted or None, it defaults to zero (i.e., success).\n",
      "        If the status is an integer, it will be used as the system exit status.\n",
      "        If it is another kind of object, it will be printed and the system\n",
      "        exit status will be one (i.e., failure).\n",
      "    \n",
      "    get_asyncgen_hooks()\n",
      "        Return the installed asynchronous generators hooks.\n",
      "        \n",
      "        This returns a namedtuple of the form (firstiter, finalizer).\n",
      "    \n",
      "    get_coroutine_origin_tracking_depth()\n",
      "        Check status of origin tracking for coroutine objects in this thread.\n",
      "    \n",
      "    getallocatedblocks()\n",
      "        Return the number of memory blocks currently allocated.\n",
      "    \n",
      "    getcheckinterval()\n",
      "        Return the current check interval; see sys.setcheckinterval().\n",
      "    \n",
      "    getdefaultencoding()\n",
      "        Return the current default encoding used by the Unicode implementation.\n",
      "    \n",
      "    getdlopenflags()\n",
      "        Return the current value of the flags that are used for dlopen calls.\n",
      "        \n",
      "        The flag constants are defined in the os module.\n",
      "    \n",
      "    getfilesystemencodeerrors()\n",
      "        Return the error mode used Unicode to OS filename conversion.\n",
      "    \n",
      "    getfilesystemencoding()\n",
      "        Return the encoding used to convert Unicode filenames to OS filenames.\n",
      "    \n",
      "    getprofile()\n",
      "        Return the profiling function set with sys.setprofile.\n",
      "        \n",
      "        See the profiler chapter in the library manual.\n",
      "    \n",
      "    getrecursionlimit()\n",
      "        Return the current value of the recursion limit.\n",
      "        \n",
      "        The recursion limit is the maximum depth of the Python interpreter\n",
      "        stack.  This limit prevents infinite recursion from causing an overflow\n",
      "        of the C stack and crashing Python.\n",
      "    \n",
      "    getrefcount(object, /)\n",
      "        Return the reference count of object.\n",
      "        \n",
      "        The count returned is generally one higher than you might expect,\n",
      "        because it includes the (temporary) reference as an argument to\n",
      "        getrefcount().\n",
      "    \n",
      "    getsizeof(...)\n",
      "        getsizeof(object [, default]) -> int\n",
      "        \n",
      "        Return the size of object in bytes.\n",
      "    \n",
      "    getswitchinterval()\n",
      "        Return the current thread switch interval; see sys.setswitchinterval().\n",
      "    \n",
      "    gettrace()\n",
      "        Return the global debug tracing function set with sys.settrace.\n",
      "        \n",
      "        See the debugger chapter in the library manual.\n",
      "    \n",
      "    intern(string, /)\n",
      "        ``Intern'' the given string.\n",
      "        \n",
      "        This enters the string in the (global) table of interned strings whose\n",
      "        purpose is to speed up dictionary lookups. Return the string itself or\n",
      "        the previously interned string object with the same value.\n",
      "    \n",
      "    is_finalizing()\n",
      "        Return True if Python is exiting.\n",
      "    \n",
      "    set_asyncgen_hooks(...)\n",
      "        set_asyncgen_hooks(* [, firstiter] [, finalizer])\n",
      "        \n",
      "        Set a finalizer for async generators objects.\n",
      "    \n",
      "    set_coroutine_origin_tracking_depth(depth)\n",
      "        Enable or disable origin tracking for coroutine objects in this thread.\n",
      "        \n",
      "        Coroutine objects will track 'depth' frames of traceback information\n",
      "        about where they came from, available in their cr_origin attribute.\n",
      "        \n",
      "        Set a depth of 0 to disable.\n",
      "    \n",
      "    setcheckinterval(n, /)\n",
      "        Set the async event check interval to n instructions.\n",
      "        \n",
      "        This tells the Python interpreter to check for asynchronous events\n",
      "        every n instructions.\n",
      "        \n",
      "        This also affects how often thread switches occur.\n",
      "    \n",
      "    setdlopenflags(flags, /)\n",
      "        Set the flags used by the interpreter for dlopen calls.\n",
      "        \n",
      "        This is used, for example, when the interpreter loads extension\n",
      "        modules. Among other things, this will enable a lazy resolving of\n",
      "        symbols when importing a module, if called as sys.setdlopenflags(0).\n",
      "        To share symbols across extension modules, call as\n",
      "        sys.setdlopenflags(os.RTLD_GLOBAL).  Symbolic names for the flag\n",
      "        modules can be found in the os module (RTLD_xxx constants, e.g.\n",
      "        os.RTLD_LAZY).\n",
      "    \n",
      "    setprofile(...)\n",
      "        setprofile(function)\n",
      "        \n",
      "        Set the profiling function.  It will be called on each function call\n",
      "        and return.  See the profiler chapter in the library manual.\n",
      "    \n",
      "    setrecursionlimit(limit, /)\n",
      "        Set the maximum depth of the Python interpreter stack to n.\n",
      "        \n",
      "        This limit prevents infinite recursion from causing an overflow of the C\n",
      "        stack and crashing Python.  The highest possible limit is platform-\n",
      "        dependent.\n",
      "    \n",
      "    setswitchinterval(interval, /)\n",
      "        Set the ideal thread switching delay inside the Python interpreter.\n",
      "        \n",
      "        The actual frequency of switching threads can be lower if the\n",
      "        interpreter executes long sequences of uninterruptible code\n",
      "        (this is implementation-specific and workload-dependent).\n",
      "        \n",
      "        The parameter must represent the desired switching delay in seconds\n",
      "        A typical value is 0.005 (5 milliseconds).\n",
      "    \n",
      "    settrace(...)\n",
      "        settrace(function)\n",
      "        \n",
      "        Set the global debug tracing function.  It will be called on each\n",
      "        function call.  See the debugger chapter in the library manual.\n",
      "    \n",
      "    unraisablehook(unraisable, /)\n",
      "        Handle an unraisable exception.\n",
      "        \n",
      "        The unraisable argument has the following attributes:\n",
      "        \n",
      "        * exc_type: Exception type.\n",
      "        * exc_value: Exception value, can be None.\n",
      "        * exc_traceback: Exception traceback, can be None.\n",
      "        * err_msg: Error message, can be None.\n",
      "        * object: Object causing the exception, can be None.\n",
      "\n",
      "DATA\n",
      "    __stderr__ = <_io.TextIOWrapper name='<stderr>' mode='w' encoding='utf...\n",
      "    __stdin__ = <_io.TextIOWrapper name='<stdin>' mode='r' encoding='utf-8...\n",
      "    __stdout__ = <_io.TextIOWrapper name='<stdout>' mode='w' encoding='utf...\n",
      "    abiflags = ''\n",
      "    api_version = 1013\n",
      "    argv = ['/opt/conda/lib/python3.8/site-packages/ipykernel_launcher.py'...\n",
      "    base_exec_prefix = '/opt/conda'\n",
      "    base_prefix = '/opt/conda'\n",
      "    builtin_module_names = ('_abc', '_ast', '_codecs', '_collections', '_f...\n",
      "    byteorder = 'little'\n",
      "    copyright = 'Copyright (c) 2001-2020 Python Software Foundati...ematis...\n",
      "    displayhook = <ipykernel.displayhook.ZMQShellDisplayHook object>\n",
      "    dont_write_bytecode = False\n",
      "    exec_prefix = '/opt/conda'\n",
      "    executable = '/opt/conda/bin/python'\n",
      "    flags = sys.flags(debug=0, inspect=0, interactive=0, opt...ation=1, is...\n",
      "    float_info = sys.float_info(max=1.7976931348623157e+308, max_...epsilo...\n",
      "    float_repr_style = 'short'\n",
      "    hash_info = sys.hash_info(width=64, modulus=2305843009213693...iphash2...\n",
      "    hexversion = 50857712\n",
      "    implementation = namespace(_multiarch='x86_64-linux-gnu', cache_t...in...\n",
      "    int_info = sys.int_info(bits_per_digit=30, sizeof_digit=4)\n",
      "    maxsize = 9223372036854775807\n",
      "    maxunicode = 1114111\n",
      "    meta_path = [<class '_frozen_importlib.BuiltinImporter'>, <class '_fro...\n",
      "    modules = {'IPython': <module 'IPython' from '/opt/conda/lib/python3.8...\n",
      "    path = ['/home/jovyan', '/opt/conda/lib/python38.zip', '/opt/conda/lib...\n",
      "    path_hooks = [<class 'zipimport.zipimporter'>, <function FileFinder.pa...\n",
      "    path_importer_cache = {'/home/jovyan': FileFinder('/home/jovyan'), '/h...\n",
      "    platform = 'linux'\n",
      "    prefix = '/opt/conda'\n",
      "    ps1 = 'In : '\n",
      "    ps2 = '...: '\n",
      "    ps3 = 'Out: '\n",
      "    pycache_prefix = None\n",
      "    stderr = <ipykernel.iostream.OutStream object>\n",
      "    stdin = <_io.TextIOWrapper name='<stdin>' mode='r' encoding='utf-8'>\n",
      "    stdout = <ipykernel.iostream.OutStream object>\n",
      "    thread_info = sys.thread_info(name='pthread', lock='semaphore', versio...\n",
      "    version = '3.8.6 | packaged by conda-forge | (default, Dec 26 2020, 05...\n",
      "    version_info = sys.version_info(major=3, minor=8, micro=6, releaseleve...\n",
      "    warnoptions = []\n",
      "\n",
      "FILE\n",
      "    (built-in)\n",
      "\n",
      "\n"
     ]
    }
   ],
   "source": [
    "# The Python help function is used to display the documentation of modules, functions, classes, keywords, etc.\n",
    "help(sys) # here the module name is 'sys'"
   ]
  },
  {
   "cell_type": "markdown",
   "id": "f9804920",
   "metadata": {},
   "source": [
    "### Comment"
   ]
  },
  {
   "cell_type": "code",
   "execution_count": 3,
   "id": "1eea6200",
   "metadata": {},
   "outputs": [
    {
     "name": "stdout",
     "output_type": "stream",
     "text": [
      "Hello World!\n",
      "Hello\n"
     ]
    }
   ],
   "source": [
    "# This is a comment, and to write a comment, '#' symbol is used.\n",
    "print('Hello World!') # This line prints a string.\n",
    "# Print 'Hello'\n",
    "print('Hello')"
   ]
  },
  {
   "cell_type": "markdown",
   "id": "6a73717a",
   "metadata": {},
   "source": [
    "### Errors"
   ]
  },
  {
   "cell_type": "code",
   "execution_count": 4,
   "id": "642f21c1",
   "metadata": {},
   "outputs": [
    {
     "ename": "NameError",
     "evalue": "name 'frint' is not defined",
     "output_type": "error",
     "traceback": [
      "\u001b[0;31m---------------------------------------------------------------------------\u001b[0m",
      "\u001b[0;31mNameError\u001b[0m                                 Traceback (most recent call last)",
      "\u001b[0;32m<ipython-input-4-235d81bdea77>\u001b[0m in \u001b[0;36m<module>\u001b[0;34m\u001b[0m\n\u001b[1;32m      1\u001b[0m \u001b[0;31m# Print string as error message\u001b[0m\u001b[0;34m\u001b[0m\u001b[0;34m\u001b[0m\u001b[0;34m\u001b[0m\u001b[0m\n\u001b[0;32m----> 2\u001b[0;31m \u001b[0mfrint\u001b[0m\u001b[0;34m(\u001b[0m\u001b[0;34m'Hello, World!'\u001b[0m\u001b[0;34m)\u001b[0m\u001b[0;34m\u001b[0m\u001b[0;34m\u001b[0m\u001b[0m\n\u001b[0m",
      "\u001b[0;31mNameError\u001b[0m: name 'frint' is not defined"
     ]
    }
   ],
   "source": [
    "# Print string as error message\n",
    "frint('Hello, World!')"
   ]
  },
  {
   "cell_type": "code",
   "execution_count": 5,
   "id": "c3bbad38",
   "metadata": {},
   "outputs": [
    {
     "ename": "SyntaxError",
     "evalue": "EOL while scanning string literal (<ipython-input-5-1ecb0a4e95c3>, line 2)",
     "output_type": "error",
     "traceback": [
      "\u001b[0;36m  File \u001b[0;32m\"<ipython-input-5-1ecb0a4e95c3>\"\u001b[0;36m, line \u001b[0;32m2\u001b[0m\n\u001b[0;31m    print('Hello, World!)\u001b[0m\n\u001b[0m                         ^\u001b[0m\n\u001b[0;31mSyntaxError\u001b[0m\u001b[0;31m:\u001b[0m EOL while scanning string literal\n"
     ]
    }
   ],
   "source": [
    "# Built-in error message\n",
    "print('Hello, World!)"
   ]
  },
  {
   "cell_type": "code",
   "execution_count": 6,
   "id": "c0b9e2f1",
   "metadata": {},
   "outputs": [
    {
     "name": "stdout",
     "output_type": "stream",
     "text": [
      "This string is printed\n"
     ]
    },
    {
     "ename": "NameError",
     "evalue": "name 'frint' is not defined",
     "output_type": "error",
     "traceback": [
      "\u001b[0;31m---------------------------------------------------------------------------\u001b[0m",
      "\u001b[0;31mNameError\u001b[0m                                 Traceback (most recent call last)",
      "\u001b[0;32m<ipython-input-6-4f3f05936d90>\u001b[0m in \u001b[0;36m<module>\u001b[0;34m\u001b[0m\n\u001b[1;32m      1\u001b[0m \u001b[0;31m# Print both string and error to see the running order\u001b[0m\u001b[0;34m\u001b[0m\u001b[0;34m\u001b[0m\u001b[0;34m\u001b[0m\u001b[0m\n\u001b[1;32m      2\u001b[0m \u001b[0mprint\u001b[0m\u001b[0;34m(\u001b[0m\u001b[0;34m'This string is printed'\u001b[0m\u001b[0;34m)\u001b[0m\u001b[0;34m\u001b[0m\u001b[0;34m\u001b[0m\u001b[0m\n\u001b[0;32m----> 3\u001b[0;31m \u001b[0mfrint\u001b[0m\u001b[0;34m(\u001b[0m\u001b[0;34m'This gives an error message'\u001b[0m\u001b[0;34m)\u001b[0m\u001b[0;34m\u001b[0m\u001b[0;34m\u001b[0m\u001b[0m\n\u001b[0m\u001b[1;32m      4\u001b[0m \u001b[0mprint\u001b[0m\u001b[0;34m(\u001b[0m\u001b[0;34m'This string will not be printed'\u001b[0m\u001b[0;34m)\u001b[0m\u001b[0;34m\u001b[0m\u001b[0;34m\u001b[0m\u001b[0m\n",
      "\u001b[0;31mNameError\u001b[0m: name 'frint' is not defined"
     ]
    }
   ],
   "source": [
    "# Print both string and error to see the running order\n",
    "print('This string is printed')\n",
    "frint('This gives an error message')\n",
    "print('This string will not be printed')\n"
   ]
  },
  {
   "cell_type": "markdown",
   "id": "b004e619",
   "metadata": {},
   "source": [
    "### Basic data types in Python"
   ]
  },
  {
   "cell_type": "code",
   "execution_count": 8,
   "id": "9e59555c",
   "metadata": {},
   "outputs": [
    {
     "name": "stdout",
     "output_type": "stream",
     "text": [
      "Hello, World!\n",
      "13\n",
      "4.54\n",
      "True\n",
      "False\n",
      "True\n",
      "False\n"
     ]
    }
   ],
   "source": [
    "# String\n",
    "print(\"Hello, World!\")\n",
    "# Integer\n",
    "print(13)\n",
    "# Float\n",
    "print(4.54)\n",
    "# Boolean\n",
    "print(True)\n",
    "print(False)\n",
    "print(bool(1))     # Output = True\n",
    "print(bool(0))     # Output = False"
   ]
  },
  {
   "cell_type": "markdown",
   "id": "904b6f29",
   "metadata": {},
   "source": [
    "### type() function"
   ]
  },
  {
   "cell_type": "code",
   "execution_count": 9,
   "id": "f99af6b9",
   "metadata": {},
   "outputs": [
    {
     "name": "stdout",
     "output_type": "stream",
     "text": [
      "<class 'str'>\n",
      "<class 'int'>\n",
      "<class 'int'>\n",
      "<class 'int'>\n",
      "<class 'int'>\n",
      "<class 'float'>\n",
      "<class 'float'>\n",
      "<class 'float'>\n",
      "<class 'float'>\n",
      "<class 'bool'>\n",
      "<class 'bool'>\n"
     ]
    }
   ],
   "source": [
    "# String\n",
    "print(type('Hello, World!'))\n",
    "# Integer\n",
    "print(type(29))\n",
    "print(type(-34))\n",
    "print(type(0))\n",
    "print(type(1))\n",
    "# Float\n",
    "print(type(4.14))\n",
    "print(type(5.5))\n",
    "print(type(1.0))\n",
    "print(type(-6.0))\n",
    "# Boolean\n",
    "print(type(True))\n",
    "print(type(False))"
   ]
  },
  {
   "cell_type": "code",
   "execution_count": 10,
   "id": "4cd5aaff",
   "metadata": {},
   "outputs": [
    {
     "name": "stdout",
     "output_type": "stream",
     "text": [
      "sys.int_info(bits_per_digit=30, sizeof_digit=4)\n",
      "\n",
      "sys.float_info(max=1.7976931348623157e+308, max_exp=1024, max_10_exp=308, min=2.2250738585072014e-308, min_exp=-1021, min_10_exp=-307, dig=15, mant_dig=53, epsilon=2.220446049250313e-16, radix=2, rounds=1)\n"
     ]
    }
   ],
   "source": [
    "# to obtain the information about 'interger' and 'float'\n",
    "print(sys.int_info)\n",
    "print() # to add a space between two outputs, use 'print()' function\n",
    "print(sys.float_info)"
   ]
  },
  {
   "cell_type": "markdown",
   "id": "065edd74",
   "metadata": {},
   "source": [
    "### Converting an abject type to another object type"
   ]
  },
  {
   "cell_type": "code",
   "execution_count": 11,
   "id": "801f91ed",
   "metadata": {},
   "outputs": [
    {
     "name": "stdout",
     "output_type": "stream",
     "text": [
      "8\n",
      "8.0\n",
      "<class 'int'>\n",
      "<class 'str'>\n",
      "<class 'float'>\n"
     ]
    },
    {
     "data": {
      "text/plain": [
       "'8'"
      ]
     },
     "execution_count": 11,
     "metadata": {},
     "output_type": "execute_result"
    }
   ],
   "source": [
    "# Let's convert the integer number 8 to a string and a float\n",
    "number = 8\n",
    "print(str(number))\n",
    "print(float(number))\n",
    "print(type(number))\n",
    "print(type(str(number)))\n",
    "print(type(float(number)))\n",
    "str(number)"
   ]
  },
  {
   "cell_type": "code",
   "execution_count": null,
   "id": "d8902986",
   "metadata": {},
   "outputs": [],
   "source": [
    "# Let's conver the float number 2.72 to a string and an integer\n",
    "number = 2.72\n",
    "print(str(number))\n",
    "print(int(number))\n",
    "print(type(number))\n",
    "print(type(str(number)))\n",
    "print(type(int(number)))\n",
    "str(number)"
   ]
  },
  {
   "cell_type": "code",
   "execution_count": null,
   "id": "9d260266",
   "metadata": {},
   "outputs": [],
   "source": [
    "# Let's convert the booleans to an integer, a float, and a string\n",
    "bool_1 = True\n",
    "bool_2 = False\n",
    "print(int(bool_1))\n",
    "print(int(bool_2))\n",
    "print(float(bool_1))\n",
    "print(float(bool_2))\n",
    "print(str(bool_1))\n",
    "print(str(bool_2))\n",
    "print(bool(1))\n",
    "print(bool(0))"
   ]
  },
  {
   "cell_type": "code",
   "execution_count": null,
   "id": "8b2654bd",
   "metadata": {},
   "outputs": [],
   "source": [
    "# Let's find the data types of 9/3 and 9//4\n",
    "print(9/3)\n",
    "print(9//4)\n",
    "print(type(9/3))\n",
    "print(type(9//4))"
   ]
  },
  {
   "cell_type": "markdown",
   "id": "religious-intellectual",
   "metadata": {},
   "source": [
    "- Floating-point division (/) produces a floating-point result, which includes decimal places.\n",
    "- Floor division (//) produces an integer result rounded down to the nearest integer, disregarding any decimal places."
   ]
  },
  {
   "cell_type": "markdown",
   "id": "fd6f6fd1",
   "metadata": {},
   "source": [
    "### Experesion and variables"
   ]
  },
  {
   "cell_type": "code",
   "execution_count": null,
   "id": "11ede941",
   "metadata": {},
   "outputs": [],
   "source": [
    "# Addition\n",
    "x = 34+45+29+45+68.5+58.2\n",
    "print(x)\n",
    "print(type(x))"
   ]
  },
  {
   "cell_type": "code",
   "execution_count": null,
   "id": "3f8855b6",
   "metadata": {},
   "outputs": [],
   "source": [
    "# Substraction\n",
    "x = 85-42-11-4\n",
    "print(x)\n",
    "print(type(x))"
   ]
  },
  {
   "cell_type": "code",
   "execution_count": null,
   "id": "b015be9d",
   "metadata": {},
   "outputs": [],
   "source": [
    "# Multiplication\n",
    "x = 4*54\n",
    "print(x)\n",
    "print(type(x))"
   ]
  },
  {
   "cell_type": "code",
   "execution_count": null,
   "id": "cbf13a39",
   "metadata": {},
   "outputs": [],
   "source": [
    "# Division\n",
    "x = 125/23\n",
    "print(x)\n",
    "print(type(x))"
   ]
  },
  {
   "cell_type": "code",
   "execution_count": null,
   "id": "6cbfa831",
   "metadata": {},
   "outputs": [],
   "source": [
    "# Floor division\n",
    "x = 125//23\n",
    "print(x)\n",
    "print(type(x))"
   ]
  },
  {
   "cell_type": "code",
   "execution_count": null,
   "id": "7cce245e",
   "metadata": {},
   "outputs": [],
   "source": [
    "# Modulus\n",
    "x = 125%24\n",
    "print(x)\n",
    "print(type(x))"
   ]
  },
  {
   "cell_type": "code",
   "execution_count": null,
   "id": "984116a9",
   "metadata": {},
   "outputs": [],
   "source": [
    "# Exponentiation\n",
    "x = 3**2\n",
    "print(x)\n",
    "print(type(x))"
   ]
  },
  {
   "cell_type": "code",
   "execution_count": null,
   "id": "0a0523dd",
   "metadata": {},
   "outputs": [],
   "source": [
    "# An example: Let's calculate how many minutes there are in 25 hours?\n",
    "one_hour = 60     # 60 minutes\n",
    "hour = 25\n",
    "minutes = one_hour *hour\n",
    "print(minutes)\n",
    "print(type(minutes))\n",
    "# An example: Let's calculate how many hours there are in 142 minutes?\n",
    "minutes = 142\n",
    "one_hour = 60\n",
    "hours = 142/60\n",
    "print(hours)\n",
    "print(type(hours))"
   ]
  },
  {
   "cell_type": "code",
   "execution_count": null,
   "id": "2374f1d6",
   "metadata": {},
   "outputs": [],
   "source": [
    "# Mathematica expression\n",
    "x = 2+3*6\n",
    "y = (2+3)*6\n",
    "print(x)\n",
    "print(y)\n",
    "print(x+y)\n",
    "print(x-y)\n",
    "print(x*y)\n",
    "print(x/y)\n",
    "print(x**y)\n",
    "print(x//y)\n",
    "print(x%y)"
   ]
  },
  {
   "cell_type": "markdown",
   "id": "2e346ac7",
   "metadata": {},
   "source": [
    "### Variables"
   ]
  },
  {
   "cell_type": "code",
   "execution_count": null,
   "id": "de045f07",
   "metadata": {},
   "outputs": [],
   "source": [
    "# Store the value 70 into the variabe 'number'\n",
    "number = 70\n",
    "print(number)\n",
    "print(type(number))"
   ]
  },
  {
   "cell_type": "code",
   "execution_count": null,
   "id": "98b78de4",
   "metadata": {},
   "outputs": [],
   "source": [
    "x = 34\n",
    "y = 56\n",
    "z = 5*x - 2*y\n",
    "print(z)\n",
    "t = z/7\n",
    "print(t)\n",
    "z = z/14\n",
    "print(z)"
   ]
  },
  {
   "cell_type": "code",
   "execution_count": null,
   "id": "4296a393",
   "metadata": {},
   "outputs": [],
   "source": [
    "x, y, z = 8, 4, 2        # the values of x, y, and z can be written in one line.\n",
    "print(x, y, z)\n",
    "print(x)\n",
    "print(y)\n",
    "print(z)\n",
    "print(x/y)\n",
    "print(x/z)\n",
    "print(y/z)\n",
    "print(x+y+z)\n",
    "print(x*y*z)\n",
    "print(x-y-z)\n",
    "print(x/y/z)\n",
    "print(x//y//z)\n",
    "print(x%y%z)"
   ]
  },
  {
   "cell_type": "markdown",
   "id": "e02c9436",
   "metadata": {},
   "source": [
    "## 2. Strings"
   ]
  },
  {
   "cell_type": "code",
   "execution_count": null,
   "id": "cf0ef499",
   "metadata": {},
   "outputs": [],
   "source": [
    "# Employ double quotation marks for describing a string\n",
    "\"Hello World!\""
   ]
  },
  {
   "cell_type": "code",
   "execution_count": null,
   "id": "4b9eb06f",
   "metadata": {},
   "outputs": [],
   "source": [
    "# Employ single quotation marks for describing a string\n",
    "'Hello World!'"
   ]
  },
  {
   "cell_type": "code",
   "execution_count": null,
   "id": "1ef39f4c",
   "metadata": {},
   "outputs": [],
   "source": [
    "# Digitals and spaces in a string\n",
    "'1 2 3 4 5 6'"
   ]
  },
  {
   "cell_type": "code",
   "execution_count": null,
   "id": "2121009a",
   "metadata": {},
   "outputs": [],
   "source": [
    "# Specific characters in a string\n",
    "'@#5_]*$%^&'"
   ]
  },
  {
   "cell_type": "code",
   "execution_count": null,
   "id": "c0927984",
   "metadata": {},
   "outputs": [],
   "source": [
    "# printing a string\n",
    "print('Hello World!')"
   ]
  },
  {
   "cell_type": "code",
   "execution_count": null,
   "id": "4eda44f0",
   "metadata": {},
   "outputs": [],
   "source": [
    "# Assigning a string to a variable 'message'\n",
    "message = 'Hello World!'\n",
    "print(message)\n",
    "message"
   ]
  },
  {
   "cell_type": "markdown",
   "id": "795c464a",
   "metadata": {},
   "source": [
    "### Indexing of a string"
   ]
  },
  {
   "cell_type": "code",
   "execution_count": null,
   "id": "040eb28e",
   "metadata": {},
   "outputs": [],
   "source": [
    "# printing the first element in a string\n",
    "message = 'Hello World!'\n",
    "print(message[0])"
   ]
  },
  {
   "cell_type": "code",
   "execution_count": null,
   "id": "565c96bf",
   "metadata": {},
   "outputs": [],
   "source": [
    "# Printing the element on index 8 in a string\n",
    "print(message[8])"
   ]
  },
  {
   "cell_type": "code",
   "execution_count": null,
   "id": "1acbe48e",
   "metadata": {},
   "outputs": [],
   "source": [
    "# lenght of a string includign spaces\n",
    "len(message)"
   ]
  },
  {
   "cell_type": "code",
   "execution_count": null,
   "id": "b4c09edb",
   "metadata": {},
   "outputs": [],
   "source": [
    "# Printing the last element in a string\n",
    "print(message[11])\n",
    "# Another comment writing type is as follows using triple quotes.\n",
    "\n",
    "\"\"\"\n",
    "Although the length of the string is 12, since the indexing in Python starts with 0,\n",
    "the number of the last element is therefore 11.\n",
    "\"\"\""
   ]
  },
  {
   "cell_type": "markdown",
   "id": "9688552e",
   "metadata": {},
   "source": [
    "### Negative indexing of a string"
   ]
  },
  {
   "cell_type": "code",
   "execution_count": null,
   "id": "6a7ae4ee",
   "metadata": {},
   "outputs": [],
   "source": [
    "# printing the last element of a string\n",
    "message[-1]"
   ]
  },
  {
   "cell_type": "code",
   "execution_count": null,
   "id": "f63d3a81",
   "metadata": {},
   "outputs": [],
   "source": [
    "# printing the first element of a string\n",
    "message[-12]\n",
    "\"\"\"\n",
    "Since the negative indexing starts with -1, in this case, the negative index number\n",
    "of the first element is equal to -12.\n",
    "\"\"\""
   ]
  },
  {
   "cell_type": "code",
   "execution_count": null,
   "id": "52c5145d",
   "metadata": {},
   "outputs": [],
   "source": [
    "print(len(message))\n",
    "len(message)"
   ]
  },
  {
   "cell_type": "code",
   "execution_count": null,
   "id": "87db566d",
   "metadata": {},
   "outputs": [],
   "source": [
    "len('Hello World!')"
   ]
  },
  {
   "cell_type": "markdown",
   "id": "85967fad",
   "metadata": {},
   "source": [
    "### Slicing of a string"
   ]
  },
  {
   "cell_type": "code",
   "execution_count": null,
   "id": "c3344f79",
   "metadata": {},
   "outputs": [],
   "source": [
    "# Slicing on the variable 'message' with only index 0 to index 5\n",
    "message[0:5]"
   ]
  },
  {
   "cell_type": "code",
   "execution_count": null,
   "id": "f386ba84",
   "metadata": {},
   "outputs": [],
   "source": [
    "# Slicing on the variable 'message' with only index 6 to index 12\n",
    "message[6:12]"
   ]
  },
  {
   "cell_type": "markdown",
   "id": "1c41327d",
   "metadata": {},
   "source": [
    "### Striding in a string"
   ]
  },
  {
   "cell_type": "code",
   "execution_count": null,
   "id": "b55d4898",
   "metadata": {},
   "outputs": [],
   "source": [
    "# to select every second element in the variable 'message'\n",
    "message[::2]"
   ]
  },
  {
   "cell_type": "code",
   "execution_count": null,
   "id": "e16f6565",
   "metadata": {},
   "outputs": [],
   "source": [
    "# corporation of slicing and striding\n",
    "# get every second element in range from index 0 to index 6\n",
    "message[0:6:2]"
   ]
  },
  {
   "cell_type": "markdown",
   "id": "21bebeb6",
   "metadata": {},
   "source": [
    "### Concatenate of strings"
   ]
  },
  {
   "cell_type": "code",
   "execution_count": null,
   "id": "444eb938",
   "metadata": {},
   "outputs": [],
   "source": [
    "message = 'Hello World!'\n",
    "question = ' How many people are living on the earth?'\n",
    "statement = message+question\n",
    "statement"
   ]
  },
  {
   "cell_type": "code",
   "execution_count": null,
   "id": "08f06465",
   "metadata": {},
   "outputs": [],
   "source": [
    "# printing a string for 4 times\n",
    "4*\" Hello World!\""
   ]
  },
  {
   "cell_type": "markdown",
   "id": "b16b9cb3",
   "metadata": {},
   "source": [
    "### Escape sequences"
   ]
  },
  {
   "cell_type": "code",
   "execution_count": null,
   "id": "aeccf597",
   "metadata": {},
   "outputs": [],
   "source": [
    "# New line escape sequence\n",
    "print('Hello World! \\nHow many people are living on the earth?')"
   ]
  },
  {
   "cell_type": "code",
   "execution_count": null,
   "id": "b1dd4f64",
   "metadata": {},
   "outputs": [],
   "source": [
    "# Tab escape sequence\n",
    "print('Hello World! \\tHow many people are living on the earth?')"
   ]
  },
  {
   "cell_type": "code",
   "execution_count": null,
   "id": "67ffa1d3",
   "metadata": {},
   "outputs": [],
   "source": [
    "# back slash in a string\n",
    "print('Hello World! \\\\ How many people are living on the earth?')\n",
    "# r will say python that a string will be show as a raw string\n",
    "print(r'Hello World! \\ How many people are living on the earth?')"
   ]
  },
  {
   "cell_type": "markdown",
   "id": "f7e6b464",
   "metadata": {},
   "source": [
    "### String operations"
   ]
  },
  {
   "cell_type": "code",
   "execution_count": null,
   "id": "114e7207",
   "metadata": {},
   "outputs": [],
   "source": [
    "message = 'hello python!'\n",
    "print('Before uppercase: ', message )\n",
    "# convert uppercase the elements in a string\n",
    "message_upper = message.upper()\n",
    "print('After uppercase: ', message_upper)\n",
    "# convert lowercase the elements in a string\n",
    "message_lower = message.lower()\n",
    "print('Again lowercase: ', message_lower)\n",
    "# convert first letter of string to uppercase\n",
    "message_title = message.title()\n",
    "print('The first element of the string is uppercase: ', message_title)"
   ]
  },
  {
   "cell_type": "code",
   "execution_count": null,
   "id": "b480d47c",
   "metadata": {},
   "outputs": [],
   "source": [
    "# replace() method in a string\n",
    "message = 'Hello Python!'\n",
    "message_hi = message.replace('Hello', 'Hi')\n",
    "message_python = message.replace('Python', 'World')\n",
    "print(message_hi)\n",
    "print(message_python)"
   ]
  },
  {
   "cell_type": "code",
   "execution_count": null,
   "id": "f5500a13",
   "metadata": {},
   "outputs": [],
   "source": [
    "# find() method application in a string\n",
    "message = 'Hello World!'\n",
    "print(message.find('Wo'))\n",
    "# the output is the index number of the first element of the substring"
   ]
  },
  {
   "cell_type": "code",
   "execution_count": null,
   "id": "999ea367",
   "metadata": {},
   "outputs": [],
   "source": [
    "# find() method application to obtain a substring in a string\n",
    "message.find('World!')"
   ]
  },
  {
   "cell_type": "code",
   "execution_count": null,
   "id": "e0c6e00c",
   "metadata": {},
   "outputs": [],
   "source": [
    "# if cannot find the substring in a string, the output is -1.\n",
    "message.find('cndsjnd')"
   ]
  },
  {
   "cell_type": "code",
   "execution_count": null,
   "id": "3e20790f",
   "metadata": {},
   "outputs": [],
   "source": [
    "text = 'Jean-Paul Sartre somewhere observed that we each of us make our own hell out of the people around us. Had Nancy'\n",
    "# find the first index of the substring 'Nancy'\n",
    "text.find('Nancy')"
   ]
  },
  {
   "cell_type": "code",
   "execution_count": null,
   "id": "84a26144",
   "metadata": {},
   "outputs": [],
   "source": [
    "# replace the substring 'Nancy' with 'Nancy Lier Cosgrove Mullis'\n",
    "text.replace('Nancy', 'Nancy Lier Cosgrove Mullis')"
   ]
  },
  {
   "cell_type": "code",
   "execution_count": null,
   "id": "d801e708",
   "metadata": {},
   "outputs": [],
   "source": [
    "# convet the text to lower case\n",
    "text.lower()"
   ]
  },
  {
   "cell_type": "code",
   "execution_count": null,
   "id": "a9ce6fef",
   "metadata": {},
   "outputs": [],
   "source": [
    "# convert the first letter of the text to capital letter\n",
    "text.capitalize()"
   ]
  },
  {
   "cell_type": "code",
   "execution_count": null,
   "id": "479226b3",
   "metadata": {},
   "outputs": [],
   "source": [
    "# casefold() method returns a string where all the characters are in lower case\n",
    "text.casefold()"
   ]
  },
  {
   "cell_type": "code",
   "execution_count": null,
   "id": "56411aae",
   "metadata": {},
   "outputs": [],
   "source": [
    "# center() method will center align the string, using a specified character (space is the default) as the fill character.\n",
    "message = 'Hallo Leute!'\n",
    "message.center(50, '-')"
   ]
  },
  {
   "cell_type": "code",
   "execution_count": null,
   "id": "c474422a",
   "metadata": {},
   "outputs": [],
   "source": [
    "# count() method returns the number of elements with the specified value\n",
    "text.count('and')"
   ]
  },
  {
   "cell_type": "code",
   "execution_count": null,
   "id": "160d4223",
   "metadata": {},
   "outputs": [],
   "source": [
    "# format() method\n",
    "\"\"\"\n",
    "The format() method formats the specified value(s) and insert them inside the string's placeholder.\n",
    "The placeholder is defined using curly brackets: {}.\n",
    "\"\"\"\n",
    "txt = \"Hello {word}\"\n",
    "print(txt.format(word = 'World!'))\n",
    "message1 = 'Hi, My name is {} and I am {} years old.'\n",
    "print(message1.format('Bob', 36))\n",
    "message2 = 'Hi, My name is {name} and I am {number} years old.'\n",
    "print(message2.format(name ='Bob', number = 36))\n",
    "message3 = 'Hi, My name is {0} and I am {1} years old.'\n",
    "print(message3.format('Bob', 36))"
   ]
  },
  {
   "cell_type": "markdown",
   "id": "90b404bd",
   "metadata": {},
   "source": [
    "## 3. Lists"
   ]
  },
  {
   "cell_type": "markdown",
   "id": "56387f72",
   "metadata": {},
   "source": [
    "- Lists are ordered.\n",
    "- Lists can contain any arbitrary objects.\n",
    "- List elements can be accessed by index.\n",
    "- Lists can be nested to arbitrary depth.\n",
    "- Lists are mutable.\n",
    "- Lists are dynamic."
   ]
  },
  {
   "cell_type": "markdown",
   "id": "f779f6c8",
   "metadata": {},
   "source": [
    "### Indexing"
   ]
  },
  {
   "cell_type": "code",
   "execution_count": null,
   "id": "cab4f771",
   "metadata": {},
   "outputs": [],
   "source": [
    "# creatinng a list\n",
    "nlis = ['python', 25, 2022]\n",
    "nlis"
   ]
  },
  {
   "cell_type": "code",
   "execution_count": null,
   "id": "499a0e6b",
   "metadata": {},
   "outputs": [],
   "source": [
    "print('Positive and negative indexing of the first element: \\n - Positive index:', nlis[0], '\\n - Negative index:', nlis[-3])\n",
    "print()\n",
    "print('Positive and negative indexing of the second element: \\n - Positive index:', nlis[1], '\\n - Negative index:', nlis[-2])\n",
    "print()\n",
    "print('Positive and negative indexing of the third element: \\n - Positive index:', nlis[2], '\\n - Negative index:', nlis[-1])"
   ]
  },
  {
   "cell_type": "markdown",
   "id": "e358b560",
   "metadata": {},
   "source": [
    "### What can content a list?"
   ]
  },
  {
   "cell_type": "markdown",
   "id": "f14bd46b",
   "metadata": {},
   "source": [
    "- Strings\n",
    "- Floats\n",
    "- Integer\n",
    "- Boolean\n",
    "- Nested List\n",
    "- Nested Tuple\n",
    "- Other data structures"
   ]
  },
  {
   "cell_type": "code",
   "execution_count": null,
   "id": "2b4b0ec8",
   "metadata": {},
   "outputs": [],
   "source": [
    "nlis = ['python', 3.14, 2022, [1, 1, 2, 3, 5, 8, 13, 21, 34], ('hello', 'python', 3,14, 2022)]\n",
    "nlis"
   ]
  },
  {
   "cell_type": "markdown",
   "id": "4ed6e8df",
   "metadata": {},
   "source": [
    "### List operations"
   ]
  },
  {
   "cell_type": "code",
   "execution_count": null,
   "id": "e08b64f3",
   "metadata": {},
   "outputs": [],
   "source": [
    "# take a list\n",
    "nlis = ['python', 3.14, 2022, [1, 1, 2, 3, 5, 8, 13, 21, 34], ('hello', 'python', 3,14, 2022)]\n",
    "nlis"
   ]
  },
  {
   "cell_type": "code",
   "execution_count": null,
   "id": "1b9895fc",
   "metadata": {},
   "outputs": [],
   "source": [
    "# length of the list\n",
    "len(nlis)"
   ]
  },
  {
   "cell_type": "markdown",
   "id": "c307de81",
   "metadata": {},
   "source": [
    "### Slicing"
   ]
  },
  {
   "cell_type": "code",
   "execution_count": null,
   "id": "df275f3e",
   "metadata": {},
   "outputs": [],
   "source": [
    "# slicing of a list\n",
    "print(nlis[0:2])\n",
    "print(nlis[2:4])\n",
    "print(nlis[4:6])"
   ]
  },
  {
   "cell_type": "markdown",
   "id": "3e63e754",
   "metadata": {},
   "source": [
    "### Extending the list"
   ]
  },
  {
   "cell_type": "markdown",
   "id": "5eeab5b7",
   "metadata": {},
   "source": [
    "- we use the extend() function to add a new element to the list.\n",
    "- With this function, we add more than one element to the list."
   ]
  },
  {
   "cell_type": "code",
   "execution_count": null,
   "id": "6acbcdec",
   "metadata": {},
   "outputs": [],
   "source": [
    "# take a list\n",
    "nlis = ['python', 3.14, 2022, [1, 1, 2, 3, 5, 8, 13, 21, 34], ('hello', 'python', 3,14, 2022)]\n",
    "nlis.extend(['hello world!', 1.618])\n",
    "nlis"
   ]
  },
  {
   "cell_type": "markdown",
   "id": "a946fdaa",
   "metadata": {},
   "source": [
    "### append() method"
   ]
  },
  {
   "cell_type": "markdown",
   "id": "6f17f007",
   "metadata": {},
   "source": [
    "- As different from the extend() method, with the append() method, we add only one element to the list\n",
    "- You can see the difference by comparing the above and below codes."
   ]
  },
  {
   "cell_type": "code",
   "execution_count": null,
   "id": "dc5f0b9b",
   "metadata": {},
   "outputs": [],
   "source": [
    "nlis = ['python', 3.14, 2022, [1, 1, 2, 3, 5, 8, 13, 21, 34], ('hello', 'python', 3,14, 2022)]\n",
    "nlis.append(['hello world!', 1.618])\n",
    "nlis"
   ]
  },
  {
   "cell_type": "markdown",
   "id": "4b02b821",
   "metadata": {},
   "source": [
    "### len(), append(), count(), index(), insert(), max(), min(), sum() functions"
   ]
  },
  {
   "cell_type": "code",
   "execution_count": null,
   "id": "82ae406b",
   "metadata": {},
   "outputs": [],
   "source": [
    "lis = [1,2,3,4,5,6,7]\n",
    "print(len(lis))\n",
    "lis.append(4)\n",
    "print(lis)\n",
    "print(lis.count(4)) # How many 4 are on the list 'lis'?\n",
    "print(lis.index(2)) # What is the index of the number 2 in the list 'lis'?\n",
    "lis.insert(8, 9) # Add number 9 to the index 8.\n",
    "print(lis)\n",
    "print(max(lis)) # What is the maximum number in the list?\n",
    "print(min(lis)) # What is the minimum number in the list?\n",
    "print(sum(lis)) # What is the sum of the numbers in the list?"
   ]
  },
  {
   "cell_type": "markdown",
   "id": "9f52bb2b",
   "metadata": {},
   "source": [
    "### Changing the element of a list since it is mutable"
   ]
  },
  {
   "cell_type": "code",
   "execution_count": null,
   "id": "94bd6602",
   "metadata": {},
   "outputs": [],
   "source": [
    "nlis = ['python', 3.14, 2022, [1, 1, 2, 3, 5, 8, 13, 21, 34], ('hello', 'python', 3,14, 2022)]\n",
    "print('Before changing:', nlis)\n",
    "nlis[0] = 'hello python!'\n",
    "print('After changing:', nlis)\n",
    "nlis[1] = 1.618\n",
    "print('After changing:', nlis)\n",
    "nlis[2] = [3.14, 2022]\n",
    "print('After changing:', nlis)"
   ]
  },
  {
   "cell_type": "markdown",
   "id": "5a13bd45",
   "metadata": {},
   "source": [
    "### Deleting the element from the list using del() function"
   ]
  },
  {
   "cell_type": "code",
   "execution_count": null,
   "id": "2661e3fd",
   "metadata": {},
   "outputs": [],
   "source": [
    "print('Before changing:', nlis)\n",
    "del(nlis[0])\n",
    "print('After changing:', nlis)\n",
    "del(nlis[-1])\n",
    "print('After changing:', nlis)"
   ]
  },
  {
   "cell_type": "code",
   "execution_count": null,
   "id": "b9e9597d",
   "metadata": {},
   "outputs": [],
   "source": [
    "nlis = ['python', 3.14, 2022, [1, 1, 2, 3, 5, 8, 13, 21, 34], ('hello', 'python', 3,14, 2022)]\n",
    "print('Before deleting:', nlis)\n",
    "del nlis\n",
    "print('After deleting:', nlis)"
   ]
  },
  {
   "cell_type": "markdown",
   "id": "573567e9",
   "metadata": {},
   "source": [
    "### Conversion of a string into a list using split() function"
   ]
  },
  {
   "cell_type": "code",
   "execution_count": null,
   "id": "7a82b60d",
   "metadata": {},
   "outputs": [],
   "source": [
    "message = 'Python is a programming language.'\n",
    "message.split()"
   ]
  },
  {
   "cell_type": "markdown",
   "id": "aaa6efd6",
   "metadata": {},
   "source": [
    "### Use of split() function with a delimiter"
   ]
  },
  {
   "cell_type": "code",
   "execution_count": null,
   "id": "5ef59397",
   "metadata": {},
   "outputs": [],
   "source": [
    "text = 'p,y,t,h,o,n'\n",
    "text.split(\",\" )"
   ]
  },
  {
   "cell_type": "markdown",
   "id": "c967dc4e",
   "metadata": {},
   "source": [
    "### Basic Operations"
   ]
  },
  {
   "cell_type": "code",
   "execution_count": null,
   "id": "d2ac8f73",
   "metadata": {},
   "outputs": [],
   "source": [
    "nlis_1 = ['a', 'b', 'hello', 'Python']\n",
    "nlis_2 = [1,2,3,4, 5, 6]\n",
    "print(len(nlis_1))\n",
    "print(len(nlis_2))\n",
    "print(nlis_1+nlis_2)\n",
    "print(nlis_1*3)\n",
    "print(nlis_2*3)\n",
    "for i in nlis_1:\n",
    "    print(i)\n",
    "for i in nlis_2:\n",
    "    print(i)\n",
    "print(4 in nlis_1)\n",
    "print(4 in nlis_2)"
   ]
  },
  {
   "cell_type": "markdown",
   "id": "1043e77f",
   "metadata": {},
   "source": [
    "### Copy the list"
   ]
  },
  {
   "cell_type": "code",
   "execution_count": null,
   "id": "59c7ebab",
   "metadata": {},
   "outputs": [],
   "source": [
    "nlis = ['python', 3.14, 2022, [1, 1, 2, 3, 5, 8, 13, 21, 34], ('hello', 'python', 3,14, 2022)]\n",
    "copy_list = nlis\n",
    "print('nlis:', nlis)\n",
    "print('copy_list:', copy_list)"
   ]
  },
  {
   "cell_type": "code",
   "execution_count": null,
   "id": "f4b02fc6",
   "metadata": {},
   "outputs": [],
   "source": [
    "# The element in the copied list also changes when the element in the original list was changed.\n",
    "# See the following example\n",
    "nlis = ['python', 3.14, 2022, [1, 1, 2, 3, 5, 8, 13, 21, 34], ('hello', 'python', 3,14, 2022)]\n",
    "print(nlis)\n",
    "copy_list = nlis\n",
    "print(copy_list)\n",
    "print('copy_list[0]:', copy_list[0])\n",
    "nlis[0] = 'hello python!'\n",
    "print('copy_list[0]:', copy_list[0])"
   ]
  },
  {
   "cell_type": "markdown",
   "id": "differential-clothing",
   "metadata": {},
   "source": [
    "### Clone the list"
   ]
  },
  {
   "cell_type": "code",
   "execution_count": null,
   "id": "hollywood-vermont",
   "metadata": {},
   "outputs": [],
   "source": [
    "# The cloned list is a new copy or clone of the original list.\n",
    "nlis = ['python', 3.14, 2022, [1, 1, 2, 3, 5, 8, 13, 21, 34], ('hello', 'python', 3,14, 2022)]\n",
    "clone_lis = nlis[:]\n",
    "clone_lis"
   ]
  },
  {
   "cell_type": "code",
   "execution_count": null,
   "id": "superior-metadata",
   "metadata": {},
   "outputs": [],
   "source": [
    "# When an element in the original list is changed, the element in the cloned list does not change. \n",
    "nlis = ['python', 3.14, 2022, [1, 1, 2, 3, 5, 8, 13, 21, 34], ('hello', 'python', 3,14, 2022)]\n",
    "print(nlis)\n",
    "clone_list = nlis[:]\n",
    "print(clone_list)\n",
    "print('clone_list[0]:', clone_list[0])\n",
    "nlis[0] = 'hello, python!'\n",
    "print('nlis[0]:', nlis[0])"
   ]
  },
  {
   "cell_type": "markdown",
   "id": "descending-editor",
   "metadata": {},
   "source": [
    "### Concatenate the list"
   ]
  },
  {
   "cell_type": "code",
   "execution_count": null,
   "id": "geographic-uzbekistan",
   "metadata": {},
   "outputs": [],
   "source": [
    "a_list = ['a', 'b', ['c', 'd'], 'e']\n",
    "b_list = [1,2,3,4,5,(6,7), True, False]\n",
    "new_list = a_list + b_list\n",
    "print(new_list)"
   ]
  },
  {
   "cell_type": "markdown",
   "id": "radical-rotation",
   "metadata": {},
   "source": [
    "### As different from the list, I also find significant the following information."
   ]
  },
  {
   "cell_type": "markdown",
   "id": "inappropriate-worry",
   "metadata": {},
   "source": [
    "### input() function"
   ]
  },
  {
   "cell_type": "markdown",
   "id": "current-evanescence",
   "metadata": {},
   "source": [
    "#### input() function in Python provides a user of a program supply inputs to the program at runtime."
   ]
  },
  {
   "cell_type": "code",
   "execution_count": null,
   "id": "dietary-wallace",
   "metadata": {},
   "outputs": [],
   "source": [
    "text = input('Enter a string:')\n",
    "print('The text is', text)\n",
    "print(type(text))"
   ]
  },
  {
   "cell_type": "code",
   "execution_count": null,
   "id": "appropriate-glenn",
   "metadata": {},
   "outputs": [],
   "source": [
    "# Although the function wants an integer, the type of the entered number is a string.\n",
    "number = input('Enter an integer: ')\n",
    "print('The number is', number)\n",
    "print(type(number))"
   ]
  },
  {
   "cell_type": "markdown",
   "id": "passing-marking",
   "metadata": {},
   "source": [
    "number = int(input('Enter an integer:'))\n",
    "print('The number is', number)\n",
    "print(type(number))\n"
   ]
  },
  {
   "cell_type": "code",
   "execution_count": null,
   "id": "clean-disposal",
   "metadata": {},
   "outputs": [],
   "source": [
    "number = float(input('Enter an integer:'))\n",
    "print('The number is', number)\n",
    "print(type(number))\n"
   ]
  },
  {
   "cell_type": "markdown",
   "id": "palestinian-salad",
   "metadata": {},
   "source": [
    "### eval() functions"
   ]
  },
  {
   "cell_type": "markdown",
   "id": "hairy-recorder",
   "metadata": {},
   "source": [
    "- This function serves the aim of converting a string to an integer or a float"
   ]
  },
  {
   "cell_type": "code",
   "execution_count": null,
   "id": "split-century",
   "metadata": {},
   "outputs": [],
   "source": [
    "expression = '8+7'\n",
    "total = eval(expression)\n",
    "print('Sum of the expression is', total)\n",
    "print(type(expression))\n",
    "print(type(total))"
   ]
  },
  {
   "cell_type": "markdown",
   "id": "promising-vector",
   "metadata": {},
   "source": [
    "### format() function"
   ]
  },
  {
   "cell_type": "markdown",
   "id": "roman-tanzania",
   "metadata": {},
   "source": [
    "- This function helps to format the output printed on the secreen with good look and attractive."
   ]
  },
  {
   "cell_type": "code",
   "execution_count": null,
   "id": "unavailable-syndicate",
   "metadata": {},
   "outputs": [],
   "source": [
    "a = float(input('Enter the pi number:'))\n",
    "b = float(input('Enter the golden ratio:'))\n",
    "total = a + b\n",
    "print('Sum of {} and {} is {}.'.format(a, b, total))\n"
   ]
  },
  {
   "cell_type": "code",
   "execution_count": null,
   "id": "excellent-alberta",
   "metadata": {},
   "outputs": [],
   "source": [
    "a = input('Enter your favorite fruit:')\n",
    "b = input('Enter your favorite food:')\n",
    "print('I like {} and {}.'.format(a, b))\n",
    "print('I like {0} and {1}.'.format(a, b))\n",
    "print('I like {1} and {0}.'.format(a, b))"
   ]
  },
  {
   "cell_type": "markdown",
   "id": "confidential-ukraine",
   "metadata": {},
   "source": [
    "### Comparison operators"
   ]
  },
  {
   "cell_type": "markdown",
   "id": "integrated-joseph",
   "metadata": {},
   "source": [
    "- The operators such as <, >, <=, >=, ==, and != compare the certain two operands and return True or False."
   ]
  },
  {
   "cell_type": "code",
   "execution_count": null,
   "id": "exciting-folder",
   "metadata": {},
   "outputs": [],
   "source": [
    "a = 3.14\n",
    "b = 1.618\n",
    "print('a>b is:', a>b)\n",
    "print('a<b is:', a<b)\n",
    "print('a<=b is:', a<=b)\n",
    "print('a>=b is:', a>=b)\n",
    "print('a==b is:', a==b)\n",
    "print('a!=b is:', a!=b)\n"
   ]
  },
  {
   "cell_type": "markdown",
   "id": "matched-hardwood",
   "metadata": {},
   "source": [
    "### Logical operators"
   ]
  },
  {
   "cell_type": "markdown",
   "id": "ready-texas",
   "metadata": {},
   "source": [
    "- The operators including and, or, not are utilized to bring two conditions together and assess them. The\n",
    "output returns True or False"
   ]
  },
  {
   "cell_type": "code",
   "execution_count": null,
   "id": "flying-president",
   "metadata": {},
   "outputs": [],
   "source": [
    "a = 3.14\n",
    "b = 1.618\n",
    "c = 12\n",
    "d = 3.14\n",
    "print(a>b and c>a)\n",
    "print(b>c and d>a)\n",
    "print(b<c or d>a)\n",
    "print( not a==b)\n",
    "print(not a==d)"
   ]
  },
  {
   "cell_type": "markdown",
   "id": "cutting-leather",
   "metadata": {},
   "source": [
    "### Assignment operators"
   ]
  },
  {
   "cell_type": "markdown",
   "id": "immediate-referral",
   "metadata": {},
   "source": [
    "-  operators including =, +=, -=, =, /=, %=, //=, *=, &=, |=, ^=, >>=, and <<= are employed to evaluate a\n",
    "value to a variable."
   ]
  },
  {
   "cell_type": "code",
   "execution_count": null,
   "id": "obvious-chapter",
   "metadata": {},
   "outputs": [],
   "source": [
    "x = 3.14\n",
    "x+=5\n",
    "print(x)\n"
   ]
  },
  {
   "cell_type": "code",
   "execution_count": null,
   "id": "annual-basis",
   "metadata": {},
   "outputs": [],
   "source": [
    "x = 3.14\n",
    "x-=5\n",
    "print(x)"
   ]
  },
  {
   "cell_type": "code",
   "execution_count": null,
   "id": "afraid-doctor",
   "metadata": {},
   "outputs": [],
   "source": [
    "x = 3.14\n",
    "x*=5\n",
    "print(x)\n"
   ]
  },
  {
   "cell_type": "code",
   "execution_count": null,
   "id": "right-category",
   "metadata": {},
   "outputs": [],
   "source": [
    "x = 3.14\n",
    "x/=5\n",
    "print(x)\n"
   ]
  },
  {
   "cell_type": "code",
   "execution_count": null,
   "id": "through-canal",
   "metadata": {},
   "outputs": [],
   "source": [
    "x = 3.14\n",
    "x%=5\n",
    "print(x)\n"
   ]
  },
  {
   "cell_type": "code",
   "execution_count": null,
   "id": "signed-spyware",
   "metadata": {},
   "outputs": [],
   "source": [
    "x = 3.14\n",
    "x//=5\n",
    "print(x)"
   ]
  },
  {
   "cell_type": "code",
   "execution_count": null,
   "id": "apart-passport",
   "metadata": {},
   "outputs": [],
   "source": [
    "x = 3.14\n",
    "x**=5\n",
    "print(x)\n"
   ]
  },
  {
   "cell_type": "markdown",
   "id": "other-branch",
   "metadata": {},
   "source": [
    "### Identity operators"
   ]
  },
  {
   "cell_type": "markdown",
   "id": "sustainable-folder",
   "metadata": {},
   "source": [
    "- The operators is or is not are employed to control if the operands or objects to the left and right of these\n",
    "operators are referring to a value stored in the same momory location and return True or False."
   ]
  },
  {
   "cell_type": "code",
   "execution_count": null,
   "id": "understood-presentation",
   "metadata": {},
   "outputs": [],
   "source": [
    "a = 3.14\n",
    "b = 1.618\n",
    "print(a is b)\n",
    "print(a is not b)\n",
    "msg1= 'Hello, Python!'\n",
    "msg2 = 'Hello, World!'\n",
    "print(msg1 is msg2)\n",
    "print(msg1 is not msg2)\n",
    "lis1 = [3.14, 1.618]\n",
    "lis2 = [3.14, 1.618]\n",
    "print(lis1 is lis2) # You should see a list copy behavior\n",
    "print(lis1 is not lis2)"
   ]
  },
  {
   "cell_type": "code",
   "execution_count": null,
   "id": "spatial-oakland",
   "metadata": {},
   "outputs": [],
   "source": [
    "Membership operators\n",
    "These operators inclusing in and not in are employed to check if the certain value is available in the\n",
    "sequence of values and return True or False."
   ]
  },
  {
   "cell_type": "code",
   "execution_count": null,
   "id": "baking-capture",
   "metadata": {},
   "outputs": [],
   "source": [
    "# take a list\n",
    "nlis = [4, 6, 7, 8, 'hello', (4,5), {'name': 'Python'}, {1,2,3}, [1,2,3]]\n",
    "print(5 in nlis)\n",
    "print(4 not in nlis)\n",
    "print((4,5) in nlis)\n",
    "print(9 not in nlis)"
   ]
  },
  {
   "cell_type": "markdown",
   "id": "headed-roots",
   "metadata": {},
   "source": [
    "## 4. Tuples in Python"
   ]
  },
  {
   "cell_type": "markdown",
   "id": "negative-eligibility",
   "metadata": {},
   "source": [
    "Tuples are immutable lists and cannot be changed in any way once it is created."
   ]
  },
  {
   "cell_type": "markdown",
   "id": "seven-justice",
   "metadata": {},
   "source": [
    "- Tuples are defined in the same way as lists.\n",
    "- They are enclosed within parenthesis and not within square braces.\n",
    "- Tuples are ordered, indexed collections of data.\n",
    "- Similar to string indices, the first value in the tuple will have the index [0], the second value [1]\n",
    "- Negative indices are counted from the end of the tuple, just like lists.\n",
    "- Tuple also has the same structure where commas separate the values.\n",
    "- Tuples can store duplicate values.\n",
    "- Tuples allow you to store several data items including string, integer, float in one variable."
   ]
  },
  {
   "cell_type": "code",
   "execution_count": null,
   "id": "adverse-variation",
   "metadata": {},
   "outputs": [],
   "source": [
    "# Take a tuple\n",
    "tuple_1 = ('Hello', 'Python', 3.14, 1.618, True, False, 32, [1,2,3], {1,2,3}, {'A': 3, 'B': 8}, (0, 1))\n",
    "tuple_1\n"
   ]
  },
  {
   "cell_type": "code",
   "execution_count": null,
   "id": "celtic-senegal",
   "metadata": {},
   "outputs": [],
   "source": [
    "print(type(tuple_1))\n",
    "print(len(tuple_1))"
   ]
  },
  {
   "cell_type": "markdown",
   "id": "annual-infrared",
   "metadata": {},
   "source": [
    "#### Indexing"
   ]
  },
  {
   "cell_type": "code",
   "execution_count": null,
   "id": "discrete-arbitration",
   "metadata": {},
   "outputs": [],
   "source": [
    "# Printing the each value in a tuple using both positive and negative indexing\n",
    "tuple_1 = ('Hello', 'Python', 3.14, 1.618, True, False, 32, [1,2,3], {1,2,3}, {'A': 3, 'B': 8}, (0, 1))\n",
    "print(tuple_1[0])\n",
    "print(tuple_1[1])\n",
    "print(tuple_1[2])\n",
    "print(tuple_1[-1])\n",
    "print(tuple_1[-2])\n",
    "print(tuple_1[-3])"
   ]
  },
  {
   "cell_type": "code",
   "execution_count": null,
   "id": "atmospheric-medication",
   "metadata": {},
   "outputs": [],
   "source": [
    "# Printing the type of each value in the tuple\n",
    "tuple_1 = ('Hello', 'Python', 3.14, 1.618, True, False, 32, [1,2,3], {1,2,3}, {'A': 3, 'B': 8}, (0, 1))\n",
    "print(type(tuple_1[0]))\n",
    "print(type(tuple_1[2]))\n",
    "print(type(tuple_1[4]))\n",
    "print(type(tuple_1[6]))\n",
    "print(type(tuple_1[7]))\n",
    "print(type(tuple_1[8]))\n",
    "print(type(tuple_1[9]))\n",
    "print(type(tuple_1[10]))"
   ]
  },
  {
   "cell_type": "markdown",
   "id": "decreased-reality",
   "metadata": {},
   "source": [
    "#### Concatenation of tuples"
   ]
  },
  {
   "cell_type": "markdown",
   "id": "ahead-kernel",
   "metadata": {},
   "source": [
    "To concatenate tuples, + sign is used"
   ]
  },
  {
   "cell_type": "code",
   "execution_count": 1,
   "id": "wooden-canal",
   "metadata": {},
   "outputs": [
    {
     "ename": "NameError",
     "evalue": "name 'tuple_1' is not defined",
     "output_type": "error",
     "traceback": [
      "\u001b[1;31m---------------------------------------------------------------------------\u001b[0m",
      "\u001b[1;31mNameError\u001b[0m                                 Traceback (most recent call last)",
      "Cell \u001b[1;32mIn[1], line 1\u001b[0m\n\u001b[1;32m----> 1\u001b[0m tuple_2 \u001b[38;5;241m=\u001b[39m tuple_1 \u001b[38;5;241m+\u001b[39m (\u001b[38;5;124m'\u001b[39m\u001b[38;5;124mHello World!\u001b[39m\u001b[38;5;124m'\u001b[39m, \u001b[38;5;241m2022\u001b[39m)\n\u001b[0;32m      2\u001b[0m tuple_2\n",
      "\u001b[1;31mNameError\u001b[0m: name 'tuple_1' is not defined"
     ]
    }
   ],
   "source": [
    "tuple_2 = tuple_1 + ('Hello World!', 2022)\n",
    "tuple_2"
   ]
  },
  {
   "cell_type": "markdown",
   "id": "tracked-slovak",
   "metadata": {},
   "source": [
    "#### Repetition of a tuple"
   ]
  },
  {
   "cell_type": "code",
   "execution_count": null,
   "id": "alleged-slave",
   "metadata": {},
   "outputs": [],
   "source": [
    "rep_tup = (1,2,3,4)\n",
    "rep_tup*2\n"
   ]
  },
  {
   "cell_type": "markdown",
   "id": "olympic-gentleman",
   "metadata": {},
   "source": [
    "#### Membership"
   ]
  },
  {
   "cell_type": "code",
   "execution_count": null,
   "id": "forty-honey",
   "metadata": {},
   "outputs": [],
   "source": [
    "rep_tup = (1,2,3,4)\n",
    "print(2 in rep_tup)\n",
    "print(2 not in rep_tup)\n",
    "print(5 in rep_tup)\n",
    "print(5 not in rep_tup)"
   ]
  },
  {
   "cell_type": "markdown",
   "id": "advised-arrival",
   "metadata": {},
   "source": [
    "#### Iteration"
   ]
  },
  {
   "cell_type": "code",
   "execution_count": null,
   "id": "drawn-underwear",
   "metadata": {},
   "outputs": [],
   "source": [
    "rep_tup = (1,2,3,4)\n",
    "for i in rep_tup:\n",
    " print(i)"
   ]
  },
  {
   "cell_type": "markdown",
   "id": "complex-columbus",
   "metadata": {},
   "source": [
    "#### cmp() function"
   ]
  },
  {
   "cell_type": "markdown",
   "id": "approved-script",
   "metadata": {},
   "source": [
    "It is to compare two tuples and returs True or False"
   ]
  },
  {
   "cell_type": "code",
   "execution_count": null,
   "id": "single-fortune",
   "metadata": {},
   "outputs": [],
   "source": [
    "def cmp(t1, t2): \n",
    " return bool(t1 > t2) - bool(t1 < t2)\n",
    "def cmp(t31, t4): \n",
    " return bool(t3 > t4) - bool(t3 < t4)\n",
    "def cmp(t5, t6): \n",
    " return bool(t5 > t6) - bool(t5 < t6)\n",
    "t1 = (1,3,5) # Here t1 is lower than t2, since the output is -1\n",
    "t2 = (2,4,6)\n",
    "t3 = (5,) # Here t3 is higher than t4 since the output is 1\n",
    "t4 = (4,)\n",
    "t5 = (3.14,) # Here t5 is equal to t6 since the output is 0\n",
    "t6 = (3.14,)\n",
    "print(cmp(t1, t2))\n",
    "print(cmp(t3, t4))\n",
    "print(cmp(t5, t6))"
   ]
  },
  {
   "cell_type": "markdown",
   "id": "banned-indianapolis",
   "metadata": {},
   "source": [
    "#### min() function"
   ]
  },
  {
   "cell_type": "code",
   "execution_count": null,
   "id": "changing-carolina",
   "metadata": {},
   "outputs": [],
   "source": [
    "rep_tup = (1,2,3,4)\n",
    "min(rep_tup)\n"
   ]
  },
  {
   "cell_type": "markdown",
   "id": "brutal-giving",
   "metadata": {},
   "source": [
    "#### max() function"
   ]
  },
  {
   "cell_type": "code",
   "execution_count": null,
   "id": "interpreted-dimension",
   "metadata": {},
   "outputs": [],
   "source": [
    "rep_tup = (1,2,3,4)\n",
    "max(rep_tup)\n"
   ]
  },
  {
   "cell_type": "markdown",
   "id": "horizontal-hospital",
   "metadata": {},
   "source": [
    "#### tup(seq) function"
   ]
  },
  {
   "cell_type": "markdown",
   "id": "vulnerable-remains",
   "metadata": {},
   "source": [
    "It converts a specific sequence to a tuple"
   ]
  },
  {
   "cell_type": "code",
   "execution_count": null,
   "id": "trained-sector",
   "metadata": {},
   "outputs": [],
   "source": [
    "seq = 'ATGCGTATTGCCAT'\n",
    "tuple(seq)"
   ]
  },
  {
   "cell_type": "markdown",
   "id": "packed-simpson",
   "metadata": {},
   "source": [
    "#### Slicing"
   ]
  },
  {
   "cell_type": "markdown",
   "id": "catholic-respondent",
   "metadata": {},
   "source": [
    "To obtain a new tuple from the current tuple, the slicing method is used."
   ]
  },
  {
   "cell_type": "code",
   "execution_count": null,
   "id": "invisible-wallpaper",
   "metadata": {},
   "outputs": [],
   "source": [
    "# Obtaining a new tuple from the index 2 to index 6\n",
    "tuple_1 = ('Hello', 'Python', 3.14, 1.618, True, False, 32, [1,2,3], {1,2,3}, {'A': 3, 'B': 8}, (0, 1))\n",
    "tuple_1[2:7]\n"
   ]
  },
  {
   "cell_type": "code",
   "execution_count": null,
   "id": "outside-brunei",
   "metadata": {},
   "outputs": [],
   "source": [
    "# Obtaining tuple using negative indexing\n",
    "tuple_1 = ('Hello', 'Python', 3.14, 1.618, True, False, 32, [1,2,3], {1,2,3}, {'A': 3, 'B': 8}, (0, 1))\n",
    "tuple_1[-4:-1]\n"
   ]
  },
  {
   "cell_type": "markdown",
   "id": "spatial-education",
   "metadata": {},
   "source": [
    "#### len() function"
   ]
  },
  {
   "cell_type": "markdown",
   "id": "excited-newton",
   "metadata": {},
   "source": [
    "To obtain how many elements there are in the tuple, use len() function"
   ]
  },
  {
   "cell_type": "code",
   "execution_count": null,
   "id": "fundamental-helena",
   "metadata": {},
   "outputs": [],
   "source": [
    "tuple_1 = ('Hello', 'Python', 3.14, 1.618, True, False, 32, [1,2,3], {1,2,3}, {'A': 3, 'B': 8}, (0, 1))\n",
    "len(tuple_1)\n"
   ]
  },
  {
   "cell_type": "markdown",
   "id": "choice-screen",
   "metadata": {},
   "source": [
    "#### Sorting tuple"
   ]
  },
  {
   "cell_type": "code",
   "execution_count": null,
   "id": "respected-stream",
   "metadata": {},
   "outputs": [],
   "source": [
    "# Tuples can be sorted and save as a new tuple.\n",
    "tuple_3 = (0,9,7,4,6,2,9,8,3,1)\n",
    "sorted_tuple_3 = sorted(tuple_3)\n",
    "sorted_tuple_3"
   ]
  },
  {
   "cell_type": "markdown",
   "id": "dramatic-enemy",
   "metadata": {},
   "source": [
    "#### Nested tuple"
   ]
  },
  {
   "cell_type": "markdown",
   "id": "numeric-luxury",
   "metadata": {},
   "source": [
    "In Python, a tuple written inside another tuple is known as a nested tuple."
   ]
  },
  {
   "cell_type": "code",
   "execution_count": null,
   "id": "fresh-event",
   "metadata": {},
   "outputs": [],
   "source": [
    "# Take a nested tuple\n",
    "nested_tuple =('biotechnology', (0, 5), ('fermentation', 'ethanol'), (3.14, 'pi', (1.618, 'golden ratio')) )\n",
    "nested_tuple\n"
   ]
  },
  {
   "cell_type": "code",
   "execution_count": null,
   "id": "quantitative-training",
   "metadata": {},
   "outputs": [],
   "source": [
    "# Now printing the each element of the nested tuple\n",
    "print('Item 0 of nested tuple is', nested_tuple[0])\n",
    "print('Item 1 of nested tuple is', nested_tuple[1])\n",
    "print('Item 2 of nested tuple is', nested_tuple[2])\n",
    "print('Item 3 of nested tuple is', nested_tuple[3])"
   ]
  },
  {
   "cell_type": "code",
   "execution_count": null,
   "id": "plastic-canon",
   "metadata": {},
   "outputs": [],
   "source": [
    "# Using second index to access other tuples in the nested tuple\n",
    "print('Item 1, 0 of the nested tuple is', nested_tuple[1][0])\n",
    "print('Item 1, 1 of the nested tuple is', nested_tuple[1][1])\n",
    "print('Item 2, 0 of the nested tuple is', nested_tuple[2][0])\n",
    "print('Item 2, 1 of the nested tuple is', nested_tuple[2][1])\n",
    "print('Item 3, 0 of the nested tuple is', nested_tuple[3][0])\n",
    "print('Item 3, 1 of the nested tuple is', nested_tuple[3][1])\n",
    "print('Item 3, 2 of the nested tuple is', nested_tuple[3][2])\n",
    "# Accesing to the items in the second nested tuples using a third index\n",
    "print('Item 3, 2, 0 of the nested tuple is', nested_tuple[3][2][0])\n",
    "print('Item 3, 2, 1 of the nested tuple is', nested_tuple[3][2][1])\n"
   ]
  },
  {
   "cell_type": "markdown",
   "id": "polished-surfing",
   "metadata": {},
   "source": [
    "#### Tuples are immutable"
   ]
  },
  {
   "cell_type": "code",
   "execution_count": null,
   "id": "pleasant-morocco",
   "metadata": {},
   "outputs": [],
   "source": [
    "# Take a tuple\n",
    "tuple_4 = (1,3,5,7,8)\n",
    "tuple_4[0] = 9\n",
    "print(tuple_4)\n",
    "# The output shows the tuple is immutable"
   ]
  },
  {
   "cell_type": "markdown",
   "id": "psychological-corruption",
   "metadata": {},
   "source": [
    "#### Delete a tuple"
   ]
  },
  {
   "cell_type": "markdown",
   "id": "delayed-screening",
   "metadata": {},
   "source": [
    "- An element in a tuple can not be deleted since it is immutable.\n",
    "- But a whole tuple can be deleted"
   ]
  },
  {
   "cell_type": "code",
   "execution_count": null,
   "id": "moral-viewer",
   "metadata": {},
   "outputs": [],
   "source": [
    "tuple_4 = (1,3,5,7,8)\n",
    "print('Before deleting:', tuple_4)\n",
    "del tuple_4\n",
    "print('After deleting:', tuple_4)\n"
   ]
  },
  {
   "cell_type": "markdown",
   "id": "independent-dictionary",
   "metadata": {},
   "source": [
    "#### count() method"
   ]
  },
  {
   "cell_type": "markdown",
   "id": "hydraulic-championship",
   "metadata": {},
   "source": [
    "This method returns the number of time an item occurs in a tuple."
   ]
  },
  {
   "cell_type": "code",
   "execution_count": null,
   "id": "mounted-giving",
   "metadata": {},
   "outputs": [],
   "source": [
    "tuple_5 = (1,1,3,3,5,5,5,5,6,6,7,8,9)\n",
    "tuple_5.count(5)"
   ]
  },
  {
   "cell_type": "markdown",
   "id": "parental-sunglasses",
   "metadata": {},
   "source": [
    "#### index() method"
   ]
  },
  {
   "cell_type": "markdown",
   "id": "roman-xerox",
   "metadata": {},
   "source": [
    "It returns the index of the first occurrence of the specified value in a tuple"
   ]
  },
  {
   "cell_type": "code",
   "execution_count": null,
   "id": "round-factory",
   "metadata": {},
   "outputs": [],
   "source": [
    "tuple_5 = (1,1,3,3,5,5,5,5,6,6,7,8,9)\n",
    "print(tuple_5.index(5))\n",
    "print(tuple_5.index(1))\n",
    "print(tuple_5.index(9))"
   ]
  },
  {
   "cell_type": "markdown",
   "id": "thirty-spider",
   "metadata": {},
   "source": [
    "#### One element tuple"
   ]
  },
  {
   "cell_type": "markdown",
   "id": "employed-inspection",
   "metadata": {},
   "source": [
    "if a tuple includes only one element, you should put a comma after the element. Otherwise, it is not considered\n",
    "as a tuple."
   ]
  },
  {
   "cell_type": "code",
   "execution_count": null,
   "id": "attempted-indonesian",
   "metadata": {},
   "outputs": [],
   "source": [
    "tuple_6 = (0)\n",
    "print(tuple_6)\n",
    "print(type(tuple_6))\n",
    "# Here, you see that the output is an integer"
   ]
  },
  {
   "cell_type": "code",
   "execution_count": null,
   "id": "electrical-halifax",
   "metadata": {},
   "outputs": [],
   "source": [
    "tuple_7 = (0,)\n",
    "print(tuple_7)\n",
    "print(type(tuple_7))\n",
    "# You see that the output is a tuple"
   ]
  },
  {
   "cell_type": "markdown",
   "id": "reserved-african",
   "metadata": {},
   "source": [
    "## 5. Sets in Python"
   ]
  },
  {
   "cell_type": "markdown",
   "id": "military-reform",
   "metadata": {},
   "source": [
    "- Set is one of 4 built-in data types in Python used to store collections of data including List, Tuple, and\n",
    "Dictionary\n",
    "- Sets are unordered, but you can remove items and add new items.\n",
    "- Set elements are unique. Duplicate elements are not allowed.\n",
    "- A set itself may be modified, but the elements contained in the set must be of an immutable type.\n",
    "- Sets are used to store multiple items in a single variable.\n",
    "- You can denote a set with a pair of curly brackets {}."
   ]
  },
  {
   "cell_type": "code",
   "execution_count": null,
   "id": "announced-pepper",
   "metadata": {},
   "outputs": [],
   "source": [
    "# The empty set of curly braces denotes the empty dictionary, not empty set\n",
    "x = {}\n",
    "print(type(x))"
   ]
  },
  {
   "cell_type": "code",
   "execution_count": null,
   "id": "instant-photographer",
   "metadata": {},
   "outputs": [],
   "source": [
    "# To take a set without elements, use set() function without any items\n",
    "y = set()\n",
    "print(type(y))\n"
   ]
  },
  {
   "cell_type": "code",
   "execution_count": null,
   "id": "surgical-modern",
   "metadata": {},
   "outputs": [],
   "source": [
    "# Take a set\n",
    "set1 = {'Hello Python!', 3.14, 1.618, 'Hello World!', 3.14, 1.618, True, False, 2022}\n",
    "set1\n"
   ]
  },
  {
   "cell_type": "markdown",
   "id": "independent-moses",
   "metadata": {},
   "source": [
    "#### Converting list to set"
   ]
  },
  {
   "cell_type": "code",
   "execution_count": null,
   "id": "scheduled-gamma",
   "metadata": {},
   "outputs": [],
   "source": [
    "# A list can convert to a set\n",
    "# Take a list\n",
    "nlis = ['Hello Python!', 3.14, 1.618, 'Hello World!', 3.14, 1.618, True, False, 2022]\n",
    "# Convert the list to a set\n",
    "set2 = set(nlis)\n",
    "set2\n"
   ]
  },
  {
   "cell_type": "markdown",
   "id": "explicit-abraham",
   "metadata": {},
   "source": [
    "### Set operations"
   ]
  },
  {
   "cell_type": "code",
   "execution_count": null,
   "id": "jewish-pacific",
   "metadata": {},
   "outputs": [],
   "source": [
    "# Take a set\n",
    "set3 = set(['Hello Python!', 3.14, 1.618, 'Hello World!', 3.14, 1.618, True, False, 2022])\n",
    "set3\n"
   ]
  },
  {
   "cell_type": "markdown",
   "id": "superb-casino",
   "metadata": {},
   "source": [
    "#### add() function"
   ]
  },
  {
   "cell_type": "markdown",
   "id": "surgical-custom",
   "metadata": {},
   "source": [
    "To add an element into a set, we use the function add(). If the same element is added to the set, nothing will\n",
    "happen because the set accepts no duplicates."
   ]
  },
  {
   "cell_type": "code",
   "execution_count": null,
   "id": "quiet-weekly",
   "metadata": {},
   "outputs": [],
   "source": [
    "# Addition of an element to a set\n",
    "set3 = set(['Hello Python!', 3.14, 1.618, 'Hello World!', 3.14, 1.618, True, False, 2022])\n",
    "set3.add('Hi, Python!')\n",
    "set3"
   ]
  },
  {
   "cell_type": "code",
   "execution_count": null,
   "id": "liable-parking",
   "metadata": {},
   "outputs": [],
   "source": [
    "# Addition of the same element\n",
    "set3.add('Hi, Python!')\n",
    "set3\n",
    "# As you see that there is only one from the added element 'Hi, Python!'"
   ]
  },
  {
   "cell_type": "markdown",
   "id": "complex-theme",
   "metadata": {},
   "source": [
    "#### update() function"
   ]
  },
  {
   "cell_type": "markdown",
   "id": "legislative-principle",
   "metadata": {},
   "source": [
    "To add multiple elements into the set"
   ]
  },
  {
   "cell_type": "code",
   "execution_count": null,
   "id": "impaired-count",
   "metadata": {},
   "outputs": [],
   "source": [
    "x_set = {6,7,8,9}\n",
    "print(x_set)\n",
    "x_set.update({3,4,5})\n",
    "print(x_set)"
   ]
  },
  {
   "cell_type": "markdown",
   "id": "judicial-overview",
   "metadata": {},
   "source": [
    "#### remove() function"
   ]
  },
  {
   "cell_type": "markdown",
   "id": "grateful-religious",
   "metadata": {},
   "source": [
    "To remove an element from the set"
   ]
  },
  {
   "cell_type": "code",
   "execution_count": null,
   "id": "forbidden-violation",
   "metadata": {},
   "outputs": [],
   "source": [
    "set3.remove('Hello Python!')\n",
    "set3"
   ]
  },
  {
   "cell_type": "markdown",
   "id": "square-atmosphere",
   "metadata": {},
   "source": [
    "#### discard() function"
   ]
  },
  {
   "cell_type": "markdown",
   "id": "given-shopping",
   "metadata": {},
   "source": [
    "It leaves the set unchanged if the element to be deleted is not available in the set."
   ]
  },
  {
   "cell_type": "code",
   "execution_count": null,
   "id": "interesting-billion",
   "metadata": {},
   "outputs": [],
   "source": [
    "set3.discard(3.14)\n",
    "set3\n"
   ]
  },
  {
   "cell_type": "code",
   "execution_count": null,
   "id": "exceptional-significance",
   "metadata": {},
   "outputs": [],
   "source": [
    "# To verify if the element is in the set\n",
    "1.618 in set3"
   ]
  },
  {
   "cell_type": "markdown",
   "id": "quarterly-arlington",
   "metadata": {},
   "source": [
    "### Logic operations in Sets"
   ]
  },
  {
   "cell_type": "code",
   "execution_count": null,
   "id": "vocal-musician",
   "metadata": {},
   "outputs": [],
   "source": [
    "# Take two sets\n",
    "set4 = set(['Hello Python!', 3.14, 1.618, 'Hello World!'])\n",
    "set5 = set([3.14, 1.618, True, False, 2022])\n",
    "# Printing two sets\n",
    "set4, set5"
   ]
  },
  {
   "cell_type": "markdown",
   "id": "imported-thailand",
   "metadata": {},
   "source": [
    "#### To find the intersect of two sets using &"
   ]
  },
  {
   "cell_type": "code",
   "execution_count": null,
   "id": "union-commerce",
   "metadata": {},
   "outputs": [],
   "source": [
    "intersection = set4 & set5\n",
    "intersection"
   ]
  },
  {
   "cell_type": "markdown",
   "id": "living-hazard",
   "metadata": {},
   "source": [
    "#### To find the intersect of two sets, use intersection() function"
   ]
  },
  {
   "cell_type": "code",
   "execution_count": null,
   "id": "ambient-palace",
   "metadata": {},
   "outputs": [],
   "source": [
    "set4.intersection(set5) # The output is the same as that of above"
   ]
  },
  {
   "cell_type": "markdown",
   "id": "considerable-print",
   "metadata": {},
   "source": [
    "#### difference() function"
   ]
  },
  {
   "cell_type": "markdown",
   "id": "terminal-europe",
   "metadata": {},
   "source": [
    "To find the difference between two sets"
   ]
  },
  {
   "cell_type": "code",
   "execution_count": null,
   "id": "explicit-blackberry",
   "metadata": {},
   "outputs": [],
   "source": [
    "print(set4.difference(set5))\n",
    "print(set5.difference(set4))\n",
    "# The same process can make using subtraction operator as follows:\n",
    "print(set4-set5)\n",
    "print(set5-set4)"
   ]
  },
  {
   "cell_type": "markdown",
   "id": "authentic-counter",
   "metadata": {},
   "source": [
    "#### Set comparison"
   ]
  },
  {
   "cell_type": "code",
   "execution_count": null,
   "id": "brilliant-settlement",
   "metadata": {},
   "outputs": [],
   "source": [
    "print(set4>set5)\n",
    "print(set5>set4)\n",
    "print(set4==set5)"
   ]
  },
  {
   "cell_type": "markdown",
   "id": "center-boating",
   "metadata": {},
   "source": [
    "#### union() function"
   ]
  },
  {
   "cell_type": "markdown",
   "id": "spanish-ballot",
   "metadata": {},
   "source": [
    "it corresponds to all the elements in both sets"
   ]
  },
  {
   "cell_type": "code",
   "execution_count": null,
   "id": "dependent-belarus",
   "metadata": {},
   "outputs": [],
   "source": [
    "set4.union(set5)"
   ]
  },
  {
   "cell_type": "markdown",
   "id": "extra-praise",
   "metadata": {},
   "source": [
    "#### issuperset() and issubset() functions"
   ]
  },
  {
   "cell_type": "markdown",
   "id": "japanese-issue",
   "metadata": {},
   "source": [
    "To control if a set is a superset or a subset of another set"
   ]
  },
  {
   "cell_type": "code",
   "execution_count": null,
   "id": "divided-european",
   "metadata": {},
   "outputs": [],
   "source": [
    "set(set4).issuperset(set5)"
   ]
  },
  {
   "cell_type": "code",
   "execution_count": null,
   "id": "patient-zimbabwe",
   "metadata": {},
   "outputs": [],
   "source": [
    "set(set4).issubset(set5)"
   ]
  },
  {
   "cell_type": "code",
   "execution_count": null,
   "id": "thrown-instrumentation",
   "metadata": {},
   "outputs": [],
   "source": [
    "print(set([3.14, 1.618]).issubset(set5))\n",
    "print(set([3.14, 1.618]).issubset(set4))\n",
    "print(set4.issuperset([3.14, 1.618]))\n",
    "print(set5.issuperset([3.14, 1.618]))\n"
   ]
  },
  {
   "cell_type": "markdown",
   "id": "pointed-montana",
   "metadata": {},
   "source": [
    "#### min(), max() and sum() functions"
   ]
  },
  {
   "cell_type": "code",
   "execution_count": null,
   "id": "intensive-football",
   "metadata": {},
   "outputs": [],
   "source": [
    "A = [1,1,2,2,3,3,4,4,5,5] # Take a list\n",
    "B = {1,1,2,2,3,3,4,4,5,5} # Take a set\n",
    "print('The minimum number of A is', min(A))\n",
    "print('The minimum number of B is', min(B))\n",
    "print('The maximum number of A is', max(A))\n",
    "print('The maximum number of B is', max(B))\n",
    "print('The sum of A is', sum(A))\n",
    "print('The sum of B is', sum(B))\n",
    "# As you see that the sum of A and B is different. Because the set takes no duplicate. "
   ]
  },
  {
   "cell_type": "markdown",
   "id": "greatest-bradley",
   "metadata": {},
   "source": [
    "#### No mutable sequence in a set"
   ]
  },
  {
   "cell_type": "markdown",
   "id": "chief-silicon",
   "metadata": {},
   "source": [
    "A set can not have mutable elements such as list or dictionary in it. If any, it returns error as follows:"
   ]
  },
  {
   "cell_type": "code",
   "execution_count": null,
   "id": "stylish-regulation",
   "metadata": {},
   "outputs": [],
   "source": [
    "set6 = {'Python', 1,2,3, [1,2,3]}\n",
    "set6\n"
   ]
  },
  {
   "cell_type": "markdown",
   "id": "suffering-bones",
   "metadata": {},
   "source": [
    "#### index() function"
   ]
  },
  {
   "cell_type": "markdown",
   "id": "consolidated-gregory",
   "metadata": {},
   "source": [
    "This function does not work in set since the set is unordered collection"
   ]
  },
  {
   "cell_type": "code",
   "execution_count": null,
   "id": "upper-startup",
   "metadata": {},
   "outputs": [],
   "source": [
    "set7 = {1,2,3,4}\n",
    "set7[1]"
   ]
  },
  {
   "cell_type": "markdown",
   "id": "outside-isolation",
   "metadata": {},
   "source": [
    "#### Copy the set"
   ]
  },
  {
   "cell_type": "code",
   "execution_count": null,
   "id": "underlying-spiritual",
   "metadata": {},
   "outputs": [],
   "source": [
    "set8 = {1,3,5,7,9}\n",
    "print(set8)\n",
    "set9 = set8\n",
    "print(set9)\n",
    "set8.add(11)\n",
    "print(set8)\n",
    "print(set9)\n",
    "\"\"\"\n",
    "As you see that although the number 8 is added into the set 'set8', the added number\n",
    "is also added into the set 'set9'\n",
    "\"\"\""
   ]
  },
  {
   "cell_type": "markdown",
   "id": "settled-farming",
   "metadata": {},
   "source": [
    "#### copy() function"
   ]
  },
  {
   "cell_type": "markdown",
   "id": "reverse-pound",
   "metadata": {},
   "source": [
    "it returns a shallow copy of the original set."
   ]
  },
  {
   "cell_type": "code",
   "execution_count": null,
   "id": "informal-underground",
   "metadata": {},
   "outputs": [],
   "source": [
    "set8 = {1,3,5,7,9}\n",
    "print(set8)\n",
    "set9 = set8.copy()\n",
    "print(set9)\n",
    "set8.add(11)\n",
    "print(set8)\n",
    "print(set9)\n",
    "\"\"\"\n",
    "When this function is used, the original set stays unmodified.\n",
    "A new copy stored in another set of memory locations is created.\n",
    "The change made in one copy won't reflect in another.\n",
    "\"\"\""
   ]
  },
  {
   "cell_type": "markdown",
   "id": "directed-donna",
   "metadata": {},
   "source": [
    "#### clear() function"
   ]
  },
  {
   "cell_type": "markdown",
   "id": "rental-worse",
   "metadata": {},
   "source": [
    "it removes all elements in the set and then do the set empty."
   ]
  },
  {
   "cell_type": "code",
   "execution_count": null,
   "id": "spare-wellington",
   "metadata": {},
   "outputs": [],
   "source": [
    "x = {0, 1,1,2,3,5,8,13, 21,34}\n",
    "print( x)\n",
    "x.clear()\n",
    "print(x)\n"
   ]
  },
  {
   "cell_type": "markdown",
   "id": "smooth-aluminum",
   "metadata": {},
   "source": [
    "#### pop() function"
   ]
  },
  {
   "cell_type": "markdown",
   "id": "statewide-contamination",
   "metadata": {},
   "source": [
    "It removes and returns an arbitrary set element."
   ]
  },
  {
   "cell_type": "code",
   "execution_count": null,
   "id": "occupational-secretariat",
   "metadata": {},
   "outputs": [],
   "source": [
    "x = {0, 1,1,2,3,5,8,13,21,34}\n",
    "print(x)\n",
    "x.pop()\n",
    "print(x)\n"
   ]
  },
  {
   "cell_type": "code",
   "execution_count": null,
   "id": "filled-cornell",
   "metadata": {},
   "outputs": [],
   "source": [
    "6. Dictionaries in Python"
   ]
  },
  {
   "cell_type": "markdown",
   "id": "naval-professional",
   "metadata": {},
   "source": [
    "- Dictionaries are used to store data values in key:value pairs.\n",
    "- A dictionary is a collection which is ordered, changeable or mutable and do not allow duplicates.\n",
    "- Dictionary items are ordered, changeable, and does not allow duplicates.\n",
    "- Dictionary items are presented in key:value pairs, and can be referred to by using the key name.\n",
    "- Dictionaries are changeable, meaning that we can change, add or remove items after the dictionary has\n",
    "been created.\n",
    "- Dictionaries cannot have two items with the same key.\n",
    "- A dictionary can nested and can contain another dictionary."
   ]
  },
  {
   "cell_type": "code",
   "execution_count": null,
   "id": "vertical-round",
   "metadata": {},
   "outputs": [],
   "source": [
    "# Take a sample dictionary\n",
    "sample_dict = {'key_1': 3.14, 'key_2': 1.618, \n",
    " 'key_3': True, 'key_4': [3.14, 1.618], \n",
    " 'key_5': (3.14, 1.618), 'key_6': 2022, (3.14, 1.618): 'pi and golden ratio'}\n",
    "sample_dict"
   ]
  },
  {
   "cell_type": "markdown",
   "id": "linear-offset",
   "metadata": {},
   "source": [
    "Note: As you see that the whole dictionary is enclosed in curly braces, each key is separated from its value by\n",
    "a column \":\", and commas are used to separate the items in the dictionary"
   ]
  },
  {
   "cell_type": "code",
   "execution_count": null,
   "id": "representative-active",
   "metadata": {},
   "outputs": [],
   "source": [
    "# Accessing to the value using the key\n",
    "print(sample_dict['key_1'])\n",
    "print(sample_dict['key_2'])\n",
    "print(sample_dict['key_3'])\n",
    "print(sample_dict['key_4'])\n",
    "print(sample_dict['key_5'])\n",
    "print(sample_dict['key_6'])\n",
    "print(sample_dict[(3.14, 1.618)]) # Keys can be any immutable object like tuple"
   ]
  },
  {
   "cell_type": "markdown",
   "id": "personalized-figure",
   "metadata": {},
   "source": [
    "### Keys"
   ]
  },
  {
   "cell_type": "code",
   "execution_count": null,
   "id": "integrated-wagner",
   "metadata": {},
   "outputs": [],
   "source": [
    "# Take a sample dictionary\n",
    "product = {'Aspergillus niger': 'inulinase', 'Saccharomyces cerevisiae': 'ethanol', \n",
    " 'Scheffersomyces stipitis': 'ethanol', 'Aspergillus sojae_1': 'mannanase', \n",
    " 'Streptococcus zooepidemicus': 'hyaluronic acid', 'Lactobacillus casei': 'lactic acid',\n",
    " 'Aspergillus sojae_2': 'polygalacturonase'}\n",
    "product\n"
   ]
  },
  {
   "cell_type": "code",
   "execution_count": null,
   "id": "massive-twelve",
   "metadata": {},
   "outputs": [],
   "source": [
    "# Retrieving the value by keys\n",
    "print(product['Aspergillus niger'])\n",
    "print(product['Saccharomyces cerevisiae'])\n",
    "print(product['Scheffersomyces stipitis'])"
   ]
  },
  {
   "cell_type": "markdown",
   "id": "respiratory-boating",
   "metadata": {},
   "source": [
    "#### keys() function to get the keys in the dictionary"
   ]
  },
  {
   "cell_type": "code",
   "execution_count": null,
   "id": "arbitrary-prediction",
   "metadata": {},
   "outputs": [],
   "source": [
    "# What are the keys in the dictionary?\n",
    "product.keys()"
   ]
  },
  {
   "cell_type": "markdown",
   "id": "aquatic-roads",
   "metadata": {},
   "source": [
    "#### values() function to get the values in the dictionary"
   ]
  },
  {
   "cell_type": "code",
   "execution_count": null,
   "id": "federal-interpretation",
   "metadata": {},
   "outputs": [],
   "source": [
    "# What are the values in the dictionary?\n",
    "product.values()\n"
   ]
  },
  {
   "cell_type": "markdown",
   "id": "gross-french",
   "metadata": {},
   "source": [
    "#### Addition of a new key:value pair in the dictionary"
   ]
  },
  {
   "cell_type": "code",
   "execution_count": null,
   "id": "acting-ribbon",
   "metadata": {},
   "outputs": [],
   "source": [
    "product['Yarrovia lipolytica'] = 'microbial oil'\n",
    "product"
   ]
  },
  {
   "cell_type": "markdown",
   "id": "wanted-circus",
   "metadata": {},
   "source": [
    "#### Delete an item using del() function in the dictionary by key"
   ]
  },
  {
   "cell_type": "code",
   "execution_count": null,
   "id": "every-muscle",
   "metadata": {},
   "outputs": [],
   "source": [
    "del(product['Aspergillus niger'])\n",
    "del(product['Aspergillus sojae_1'])\n",
    "product"
   ]
  },
  {
   "cell_type": "code",
   "execution_count": null,
   "id": "surrounded-strength",
   "metadata": {},
   "outputs": [],
   "source": [
    "del product\n",
    "print(product)\n",
    "# The dictionary was deleted."
   ]
  },
  {
   "cell_type": "markdown",
   "id": "integrated-locking",
   "metadata": {},
   "source": [
    "#### Verification using in or not in"
   ]
  },
  {
   "cell_type": "code",
   "execution_count": null,
   "id": "rocky-warner",
   "metadata": {},
   "outputs": [],
   "source": [
    "print('Saccharomyces cerevisiae' in product)\n",
    "print('Saccharomyces cerevisiae' not in product)"
   ]
  },
  {
   "cell_type": "markdown",
   "id": "regulated-front",
   "metadata": {},
   "source": [
    "#### dict() function"
   ]
  },
  {
   "cell_type": "markdown",
   "id": "editorial-january",
   "metadata": {},
   "source": [
    "This function is used to create a dictionary"
   ]
  },
  {
   "cell_type": "code",
   "execution_count": null,
   "id": "dying-season",
   "metadata": {},
   "outputs": [],
   "source": [
    "dict_sample = dict(family = 'music', type='pop', year='2022' , name='happy new year')\n",
    "dict_sample"
   ]
  },
  {
   "cell_type": "code",
   "execution_count": null,
   "id": "municipal-seeker",
   "metadata": {},
   "outputs": [],
   "source": [
    "# Numerical index is not used to take the dictionary values. It gives a KeyError\n",
    "dict_sample[1]"
   ]
  },
  {
   "cell_type": "markdown",
   "id": "generic-honor",
   "metadata": {},
   "source": [
    "#### clear() functions"
   ]
  },
  {
   "cell_type": "markdown",
   "id": "aerial-medicaid",
   "metadata": {},
   "source": [
    "It removes all the items in the dictionary and returns an empty dictionary"
   ]
  },
  {
   "cell_type": "code",
   "execution_count": null,
   "id": "weekly-editor",
   "metadata": {},
   "outputs": [],
   "source": [
    "dict_sample = dict(family = 'music', type='pop', year='2022' , name='happy new year')\n",
    "dict_sample.clear()\n",
    "dict_sample"
   ]
  },
  {
   "cell_type": "markdown",
   "id": "current-aaron",
   "metadata": {},
   "source": [
    "#### copy() function"
   ]
  },
  {
   "cell_type": "markdown",
   "id": "failing-execution",
   "metadata": {},
   "source": [
    "It returns a shallow copy of the main dictionary"
   ]
  },
  {
   "cell_type": "code",
   "execution_count": null,
   "id": "legislative-chick",
   "metadata": {},
   "outputs": [],
   "source": [
    "sample_original = dict(family = 'music', type='pop', year='2022' , name='happy new year')\n",
    "sample_copy = sample_original.copy()\n",
    "print(sample_original)\n",
    "print(sample_copy)"
   ]
  },
  {
   "cell_type": "code",
   "execution_count": null,
   "id": "presidential-tomato",
   "metadata": {},
   "outputs": [],
   "source": [
    "# This method can be made usign '=' sign\n",
    "sample_copy = sample_original\n",
    "print(sample_copy)\n",
    "print(sample_original)\n"
   ]
  },
  {
   "cell_type": "markdown",
   "id": "substantial-toolbox",
   "metadata": {},
   "source": [
    "#### pop() function"
   ]
  },
  {
   "cell_type": "markdown",
   "id": "cathedral-house",
   "metadata": {},
   "source": [
    "This function is used to remove a specific item from the dictionary"
   ]
  },
  {
   "cell_type": "code",
   "execution_count": null,
   "id": "lonely-given",
   "metadata": {},
   "outputs": [],
   "source": [
    "sample_original = dict(family = 'music', type='pop', year='2022' , name='happy new year')\n",
    "print(sample_original.pop('type'))\n",
    "print(sample_original)"
   ]
  },
  {
   "cell_type": "markdown",
   "id": "mysterious-chinese",
   "metadata": {},
   "source": [
    "#### popitem() function"
   ]
  },
  {
   "cell_type": "markdown",
   "id": "temporal-buying",
   "metadata": {},
   "source": [
    "It is used to remove the abitrary items from the dictionary and returns as a tuple."
   ]
  },
  {
   "cell_type": "code",
   "execution_count": null,
   "id": "widespread-point",
   "metadata": {},
   "outputs": [],
   "source": [
    "sample_original = dict(family = 'music', type='pop', year='2022' , name='happy new year')\n",
    "print(sample_original.popitem())\n",
    "print(sample_original)\n"
   ]
  },
  {
   "cell_type": "markdown",
   "id": "planned-links",
   "metadata": {},
   "source": [
    "#### get() function"
   ]
  },
  {
   "cell_type": "markdown",
   "id": "intermediate-focus",
   "metadata": {},
   "source": [
    "This method returns the value for the specified key if it is available in the dictionary. If the key is not available, it\n",
    "returns None."
   ]
  },
  {
   "cell_type": "code",
   "execution_count": null,
   "id": "invisible-recycling",
   "metadata": {},
   "outputs": [],
   "source": [
    "sample_original = dict(family = 'music', type='pop', year='2022' , name='happy new year')\n",
    "print(sample_original.get('family'))\n",
    "print(sample_original.get(3))"
   ]
  },
  {
   "cell_type": "markdown",
   "id": "working-aggregate",
   "metadata": {},
   "source": [
    "#### fromkeys() function"
   ]
  },
  {
   "cell_type": "markdown",
   "id": "defensive-crazy",
   "metadata": {},
   "source": [
    "It returns a new dictionary with the certain sequence of the items as the keys of the dictionary and the values\n",
    "are assigned with None."
   ]
  },
  {
   "cell_type": "code",
   "execution_count": null,
   "id": "dominican-dancing",
   "metadata": {},
   "outputs": [],
   "source": [
    "keys = {'A', 'T', 'C', 'G'}\n",
    "sequence = dict.fromkeys(keys)\n",
    "print(sequence)\n"
   ]
  },
  {
   "cell_type": "markdown",
   "id": "celtic-costa",
   "metadata": {},
   "source": [
    "#### update() function"
   ]
  },
  {
   "cell_type": "markdown",
   "id": "lined-binding",
   "metadata": {},
   "source": [
    "It integrates a dictionary with another dictionary or with an iterable of key:value pairs."
   ]
  },
  {
   "cell_type": "code",
   "execution_count": null,
   "id": "expected-public",
   "metadata": {},
   "outputs": [],
   "source": [
    "product = {'Aspergillus niger': 'inulinase', 'Saccharomyces cerevisiae': 'ethanol', \n",
    " 'Scheffersomyces stipitis': 'ethanol', 'Aspergillus sojae_1': 'mannanase', \n",
    " 'Streptococcus zooepidemicus': 'hyaluronic acid', 'Lactobacillus casei': 'lactic acid',\n",
    " 'Aspergillus sojae_2': 'polygalacturonase'}\n",
    "sample_original = dict(family = 'music', type='pop', year='2022' , name='happy new year')\n",
    "product.update(sample_original)\n",
    "print(product)\n"
   ]
  },
  {
   "cell_type": "markdown",
   "id": "divided-oakland",
   "metadata": {},
   "source": [
    "#### items() function"
   ]
  },
  {
   "cell_type": "markdown",
   "id": "prostate-observer",
   "metadata": {},
   "source": [
    "It returns a list of key:value pairs in a dictionary. The elements in the lists are tuples."
   ]
  },
  {
   "cell_type": "code",
   "execution_count": null,
   "id": "limited-royalty",
   "metadata": {},
   "outputs": [],
   "source": [
    "product = {'Aspergillus niger': 'inulinase', 'Saccharomyces cerevisiae': 'ethanol', \n",
    " 'Scheffersomyces stipitis': 'ethanol', 'Aspergillus sojae_1': 'mannanase', \n",
    " 'Streptococcus zooepidemicus': 'hyaluronic acid', 'Lactobacillus casei': 'lactic acid',\n",
    " 'Aspergillus sojae_2': 'polygalacturonase'}\n",
    "product.items()"
   ]
  },
  {
   "cell_type": "markdown",
   "id": "genuine-particle",
   "metadata": {},
   "source": [
    "#### Iterating dictionary"
   ]
  },
  {
   "cell_type": "markdown",
   "id": "chubby-directive",
   "metadata": {},
   "source": [
    "A dictionary can be iterated using the for loop"
   ]
  },
  {
   "cell_type": "code",
   "execution_count": null,
   "id": "fitting-colony",
   "metadata": {},
   "outputs": [],
   "source": [
    "# 'for' loop print all the keys in the dictionary\n",
    "product = {'Aspergillus niger': 'inulinase', 'Saccharomyces cerevisiae': 'ethanol', \n",
    " 'Scheffersomyces stipitis': 'ethanol', 'Aspergillus sojae_1': 'mannanase', \n",
    " 'Streptococcus zooepidemicus': 'hyaluronic acid', 'Lactobacillus casei': 'lactic acid',\n",
    " 'Aspergillus sojae_2': 'polygalacturonase'}\n",
    "for k in product:\n",
    " print(k)"
   ]
  },
  {
   "cell_type": "code",
   "execution_count": null,
   "id": "allied-inventory",
   "metadata": {},
   "outputs": [],
   "source": [
    "# 'for' loop to print the values of the dictionary by using values() and other method\n",
    "product = {'Aspergillus niger': 'inulinase', 'Saccharomyces cerevisiae': 'ethanol', \n",
    " 'Scheffersomyces stipitis': 'ethanol', 'Aspergillus sojae_1': 'mannanase', \n",
    " 'Streptococcus zooepidemicus': 'hyaluronic acid', 'Lactobacillus casei': 'lactic acid',\n",
    " 'Aspergillus sojae_2': 'polygalacturonase'}\n",
    "for x in product.values():\n",
    " print(x)\n",
    "print()\n",
    "# 'for' loop to print the values of the dictionary by using values() and other method\n",
    "for x in product:\n",
    " print(product[x])\n"
   ]
  },
  {
   "cell_type": "code",
   "execution_count": null,
   "id": "funny-contamination",
   "metadata": {},
   "outputs": [],
   "source": [
    "# 'for' loop to print the items of the dictionary by using items() method\n",
    "product = {'Aspergillus niger': 'inulinase', 'Saccharomyces cerevisiae': 'ethanol', \n",
    " 'Scheffersomyces stipitis': 'ethanol', 'Aspergillus sojae_1': 'mannanase', \n",
    " 'Streptococcus zooepidemicus': 'hyaluronic acid', 'Lactobacillus casei': 'lactic acid',\n",
    " 'Aspergillus sojae_2': 'polygalacturonase'}\n",
    "for x in product.items():\n",
    " print(x)"
   ]
  },
  {
   "cell_type": "code",
   "execution_count": null,
   "id": "periodic-annual",
   "metadata": {},
   "outputs": [],
   "source": [
    "product = {'Aspergillus niger': 'inulinase', 'Saccharomyces cerevisiae': 'ethanol', \n",
    " 'Scheffersomyces stipitis': 'ethanol', 'Aspergillus sojae_1': 'mannanase', \n",
    " 'Streptococcus zooepidemicus': 'hyaluronic acid', 'Lactobacillus casei': 'lactic acid',\n",
    " 'Aspergillus sojae_2': 'polygalacturonase'}\n",
    "for x, y in product.items():\n",
    " print(x, y)"
   ]
  },
  {
   "cell_type": "markdown",
   "id": "stable-distinction",
   "metadata": {},
   "source": [
    "# 7. Conditions in Python"
   ]
  },
  {
   "cell_type": "markdown",
   "id": "enhanced-narrative",
   "metadata": {},
   "source": [
    "### Comparison operators"
   ]
  },
  {
   "cell_type": "markdown",
   "id": "speaking-object",
   "metadata": {},
   "source": [
    "Comparison operations compare some value or operand and based on a condition, produce a Boolean. Python\n",
    "has six comparison operators as below:"
   ]
  },
  {
   "cell_type": "markdown",
   "id": "derived-beatles",
   "metadata": {},
   "source": [
    "- Less than (<)\n",
    "- Less than or equal to (<=)\n",
    "- Greater than (>)\n",
    "- Greater than or equal to (>=)\n",
    "- Equal to (==)\n",
    "- Not equal to (!=)"
   ]
  },
  {
   "cell_type": "code",
   "execution_count": null,
   "id": "recovered-daily",
   "metadata": {},
   "outputs": [],
   "source": [
    "# Take a variable\n",
    "golden_ratio = 1.618\n",
    "# Condition less than\n",
    "print(golden_ratio<2) # The golden ratio is lower than 2, thus the output is True\n",
    "print(golden_ratio<1) # The golden ratio is greater than 1, thus the output is False"
   ]
  },
  {
   "cell_type": "code",
   "execution_count": null,
   "id": "fitting-pixel",
   "metadata": {},
   "outputs": [],
   "source": [
    "# Take a variable\n",
    "golden_ratio = 1.618\n",
    "# Condition less than or equal to\n",
    "print(golden_ratio<=2) # The golden ratio is lower than 2, thus the condition is True.\n",
    "print(golden_ratio<=1) # The golden ratio is greater than 1, thus the condition is False.\n",
    "print(golden_ratio<=1.618) # The golden ratio is equal to 1.618, thus the condition is True.\n"
   ]
  },
  {
   "cell_type": "code",
   "execution_count": null,
   "id": "chemical-suggestion",
   "metadata": {},
   "outputs": [],
   "source": [
    "# Take a variable\n",
    "golden_ratio = 1.618\n",
    "# Condition greater than\n",
    "print(golden_ratio>2) # The golden ratio is lower than 2, thus the condition is False.\n",
    "print(golden_ratio>1) # The golden ratio is greater than 1, thus the condition is True."
   ]
  },
  {
   "cell_type": "code",
   "execution_count": null,
   "id": "modified-thanksgiving",
   "metadata": {},
   "outputs": [],
   "source": [
    "# Take a variable\n",
    "golden_ratio = 1.618\n",
    "# Condition greater than or equal to\n",
    "print(golden_ratio>=2) # The golden ratio is not greater than 2, thus the condition is False.\n",
    "print(golden_ratio>=1) # The golden ratio is greater than 1, thus the condition is True.\n",
    "print(golden_ratio>=1.618) # The golden ratio is equal to 1.618, thus the condition is True.\n"
   ]
  },
  {
   "cell_type": "code",
   "execution_count": null,
   "id": "synthetic-bowling",
   "metadata": {},
   "outputs": [],
   "source": [
    "# Take a variable\n",
    "golden_ratio = 1.618\n",
    "# Condition equal to\n",
    "print(golden_ratio==2) # The golden ratio is not equal to 1.618, thus the condition is False.\n",
    "print(golden_ratio==1.618) # The golden ratio is equal to 1.618, thus the condition is True."
   ]
  },
  {
   "cell_type": "code",
   "execution_count": null,
   "id": "existing-purple",
   "metadata": {},
   "outputs": [],
   "source": [
    "# Take a variable\n",
    "golden_ratio = 1.618\n",
    "# Condition not equal to\n",
    "print(golden_ratio!=2) # The golden ratio is not equal to 1.618, thus the condition is True.\n",
    "print(golden_ratio!=1.618) # The golden ratio is equal to 1.618, thus the condition is False."
   ]
  },
  {
   "cell_type": "code",
   "execution_count": null,
   "id": "announced-geneva",
   "metadata": {},
   "outputs": [],
   "source": [
    "# Compare strings\n",
    "print('Hello' == 'Python')\n",
    "print('Hello' != 'Python')\n",
    "print('Hello' <= 'Python')\n",
    "print('Hello' >= 'Python')\n",
    "print('Hello' < 'Python')\n",
    "print('Hello' > 'Python')\n",
    "print('B'>'A') # According to ASCII table, the values of A and B are equal 65 and 66, respectively.\n",
    "print('a'>'b') # According to ASCII table, the values of a and b are equal 97 and 98, respectively.\n",
    "print('CD'>'DC') # According to ASCII table, the value of C (67) is lower than that of D (68)\n",
    "# The values of uppercase and lowercase letters are different since python is case sensitive."
   ]
  },
  {
   "cell_type": "markdown",
   "id": "editorial-howard",
   "metadata": {},
   "source": [
    "### Branching (if, elif, else)"
   ]
  },
  {
   "cell_type": "markdown",
   "id": "million-scheme",
   "metadata": {},
   "source": [
    "- Decision making is required when we want to execute a code only if a certain condition is satisfied.\n",
    "- The if/elif/else statement is used in Python for decision making.\n",
    "- An else statement can be combined with an if statement.\n",
    "- An else statement contains the block of code that executes if the conditional expression in the if statement\n",
    "- resolves to 0 or a False value\n",
    "- The else statement is an optional statement and there could be at most only one else statement following\n",
    "if.\n",
    "- The elif statement allows you to check multiple expressions for True and execute a block of code as soon\n",
    "as one of the conditions evaluates to True.\n",
    "- Similar to the else, the elif statement is optional.\n",
    "- However, unlike else, for which there can be at most one statement, there can be an arbitrary number of\n",
    "elif statements following an if."
   ]
  },
  {
   "cell_type": "markdown",
   "id": "danish-market",
   "metadata": {},
   "source": [
    "#### If statement"
   ]
  },
  {
   "cell_type": "code",
   "execution_count": null,
   "id": "blessed-watch",
   "metadata": {},
   "outputs": [],
   "source": [
    "pi = 3.14\n",
    "golden_ratio = 1.618\n",
    "# This statement can be True or False.\n",
    "if pi > golden_ratio:\n",
    " # If the conditions is True, the following statement will be printed.\n",
    " print(f'The number pi {pi} is greater than the golden ratio {golden_ratio}.')\n",
    "# The following statement will be printed in each situtation.\n",
    "print('Done!')"
   ]
  },
  {
   "cell_type": "code",
   "execution_count": null,
   "id": "tropical-manitoba",
   "metadata": {},
   "outputs": [],
   "source": [
    "if 2:\n",
    " print('Hello, python!')"
   ]
  },
  {
   "cell_type": "code",
   "execution_count": null,
   "id": "clinical-response",
   "metadata": {},
   "outputs": [],
   "source": [
    "if True:\n",
    " print('This is true.')"
   ]
  },
  {
   "cell_type": "markdown",
   "id": "occasional-kelly",
   "metadata": {},
   "source": [
    "#### else statement"
   ]
  },
  {
   "cell_type": "code",
   "execution_count": null,
   "id": "stone-patient",
   "metadata": {},
   "outputs": [],
   "source": [
    "pi = 3.14\n",
    "golden_ratio = 1.618\n",
    "if pi < golden_ratio:\n",
    " print(f'The number pi {pi} is greater than the golden ratio {golden_ratio}.')\n",
    "else:\n",
    " print(f'The golden ratio {golden_ratio} is lower than the number pi {pi}.')\n",
    "print('Done!')"
   ]
  },
  {
   "cell_type": "markdown",
   "id": "functional-surgery",
   "metadata": {},
   "source": [
    "#### elif statement"
   ]
  },
  {
   "cell_type": "code",
   "execution_count": null,
   "id": "turkish-bridal",
   "metadata": {},
   "outputs": [],
   "source": [
    "age = 5\n",
    "if age > 6:\n",
    " print('You can go to primary school.' )\n",
    "elif age == 5:\n",
    " print('You should go to kindergarten.')\n",
    "else:\n",
    " print('You are a baby' )\n",
    " \n",
    "print('Done!')"
   ]
  },
  {
   "cell_type": "code",
   "execution_count": null,
   "id": "polyphonic-medium",
   "metadata": {},
   "outputs": [],
   "source": [
    "album_year = 2000\n",
    "album_year = 1990\n",
    "if album_year >= 1995:\n",
    " print('Album year is higher than 1995.')\n",
    "print('Done!')"
   ]
  },
  {
   "cell_type": "code",
   "execution_count": null,
   "id": "unusual-struggle",
   "metadata": {},
   "outputs": [],
   "source": [
    "album_year = 2000\n",
    "# album_year = 1990\n",
    "if album_year >= 1995:\n",
    " print('Album year is higher than 1995.')\n",
    "else:\n",
    " print('Album year is lower than 1995.')\n",
    "print('Done!')\n"
   ]
  },
  {
   "cell_type": "code",
   "execution_count": null,
   "id": "fossil-romantic",
   "metadata": {},
   "outputs": [],
   "source": [
    "imdb_point = 9.0\n",
    "if imdb_point > 8.5:\n",
    " print('The movie could win Oscar.')"
   ]
  },
  {
   "cell_type": "code",
   "execution_count": null,
   "id": "aggregate-investor",
   "metadata": {},
   "outputs": [],
   "source": [
    "movie_rating = float(input('Enter a rating number:'))\n",
    "print(f'The entered movie rating is: {movie_rating}')\n",
    "if movie_rating > 8.5:\n",
    " print('The movie is awesome with {} rating and you should watch it.'.format(movie_rating))\n",
    "else:\n",
    " print('The movie has merit to be watched with {} rating.'.format(movie_rating))"
   ]
  },
  {
   "cell_type": "code",
   "execution_count": null,
   "id": "employed-count",
   "metadata": {},
   "outputs": [],
   "source": [
    "note = float(input('Enter a note:'))\n",
    "print(f'The entered note value is: {note}')\n",
    "if note >= 90 and note <= 100:\n",
    " print('The letter grade is AA.')\n",
    "elif note >= 85 and note <= 89:\n",
    " print('The letter grade is BA.')\n",
    "elif note >= 80 and note <= 84:\n",
    " print('The letter grade is BB.')\n",
    "elif note >= 75 and note <= 79:\n",
    " print('The letter grade is CB.')\n",
    "elif note >= 70 and note <= 74:\n",
    " print('The letter grade is CC.')\n",
    "elif note >= 65 and note <= 69:\n",
    " print('The letter grade is DC.')\n",
    "elif note >= 60 and note <= 64:\n",
    " print('The letter grade is DD.')\n",
    "elif note >=55 and note <= 59:\n",
    " print('The letter grade is ED.')\n",
    "elif note >=50 and note <= 54:\n",
    " print('The letter grade is EE.')\n",
    "elif note >=45 and note <=49:\n",
    " print('The letter grade is FE.')\n",
    "else:\n",
    " print('The letter grade is FF.')"
   ]
  },
  {
   "cell_type": "code",
   "execution_count": null,
   "id": "close-victim",
   "metadata": {},
   "outputs": [],
   "source": [
    "number = int(input('Enter a number:'))\n",
    "print(f'The entered number is: {number}')\n",
    "if number %2 == 0:\n",
    " print(f'The entered number {number} is even')\n",
    "else:\n",
    " print(f'The entered number {number} is odd')\n"
   ]
  },
  {
   "cell_type": "markdown",
   "id": "simplified-temperature",
   "metadata": {},
   "source": [
    "### Logical operators"
   ]
  },
  {
   "cell_type": "markdown",
   "id": "confused-nurse",
   "metadata": {},
   "source": [
    "Logical operators are used to combine conditional statements."
   ]
  },
  {
   "cell_type": "markdown",
   "id": "alternate-dublin",
   "metadata": {},
   "source": [
    "- and: Returns True if both statements are true\n",
    "- or: Returns True if one of the statements is true\n",
    "- not: Reverse the result, returns False if the result is true"
   ]
  },
  {
   "cell_type": "markdown",
   "id": "subject-lodge",
   "metadata": {},
   "source": [
    "### and"
   ]
  },
  {
   "cell_type": "code",
   "execution_count": null,
   "id": "floating-replication",
   "metadata": {},
   "outputs": [],
   "source": [
    "birth_year = 1990\n",
    "if birth_year > 1989 and birth_year < 1995:\n",
    " print('You were born between 1990 and 1994')\n",
    "print('Done!')\n"
   ]
  },
  {
   "cell_type": "code",
   "execution_count": null,
   "id": "divine-jumping",
   "metadata": {},
   "outputs": [],
   "source": [
    "x = int(input('Enter a number:'))\n",
    "y = int(input('Enter a number: '))\n",
    "z = int(input('Enter a number:'))\n",
    "print(f'The entered numbers for x, y, and z are {x}, {y}, and {z}, respectively.')\n",
    "if x>y and x>z:\n",
    " print(f'The number x with {x} is the greatest number.')\n",
    "elif y>x and y>z:\n",
    " print(f'The number y with {y} is the greatest number.')\n",
    "else:\n",
    " print(f'The number z with {z} is the greatest number.')\n"
   ]
  },
  {
   "cell_type": "markdown",
   "id": "accessible-horizon",
   "metadata": {},
   "source": [
    "### or"
   ]
  },
  {
   "cell_type": "code",
   "execution_count": null,
   "id": "lovely-ownership",
   "metadata": {},
   "outputs": [],
   "source": [
    "birth_year = 1990\n",
    "if birth_year < 1980 or birth_year > 1989:\n",
    " print('You were not born in 1980s.')\n",
    "else:\n",
    " print('You were born in 1990s.')\n",
    "print('Done!')\n"
   ]
  },
  {
   "cell_type": "markdown",
   "id": "respiratory-bulgarian",
   "metadata": {},
   "source": [
    "### not"
   ]
  },
  {
   "cell_type": "code",
   "execution_count": null,
   "id": "swedish-penetration",
   "metadata": {},
   "outputs": [],
   "source": [
    "birth_year = 1990\n",
    "if not birth_year == 1991:\n",
    " print('The year of birth is not 1991.')\n"
   ]
  },
  {
   "cell_type": "code",
   "execution_count": null,
   "id": "fuzzy-mother",
   "metadata": {},
   "outputs": [],
   "source": [
    "birth_year = int(input('Enter a year of birth: '))\n",
    "print(f'The entered year of birth is: {birth_year}')\n",
    "if birth_year < 1985 or birth_year == 1991 or birth_year == 1995:\n",
    " print(f'You were born in {birth_year}')\n",
    "else:\n",
    " # For instance, if your year of birth is 1993\n",
    " print(f'Your year of birth with {birth_year} is wrong.')\n"
   ]
  },
  {
   "cell_type": "code",
   "execution_count": null,
   "id": "lesser-suspect",
   "metadata": {},
   "outputs": [],
   "source": [
    "birth_year = int(input('Enter a year of birth: '))\n",
    "print(f'The entered year of birth is: {birth_year}')\n",
    "if birth_year < 1985 or birth_year == 1991 or birth_year == 1995:\n",
    " # For instance, if your year of birth is 1995\n",
    " print(f'You were born in {birth_year}')\n",
    "else:\n",
    " print(f'Your year of birth with {birth_year} is wrong.')"
   ]
  },
  {
   "cell_type": "markdown",
   "id": "protected-folks",
   "metadata": {},
   "source": [
    "## 8. Loops in Python"
   ]
  },
  {
   "cell_type": "markdown",
   "id": "dangerous-serbia",
   "metadata": {},
   "source": [
    "- A for loop is used for iterating over a sequence (that is either a list, a tuple, a dictionary, a set, or a string).\n",
    "- This is less like the for keyword in other programming languages, and works more like an iterator method\n",
    "as found in other object-orientated programming languages.\n",
    "- With the for loop we can execute a set of statements, once for each item in a list, tuple, set etc.\n",
    "- The for loop does not require an indexing variable to set beforehand.\n",
    "- With the while loop we can execute a set of statements as long as a condition is true.\n",
    "- Note: remember to increment i, or else the loop will continue forever.\n",
    "- The while loop requires relevant variables to be ready, in this example we need to define an indexing\n",
    "variable, i, which we set to 1."
   ]
  },
  {
   "cell_type": "markdown",
   "id": "interesting-monte",
   "metadata": {},
   "source": [
    "### range() function"
   ]
  },
  {
   "cell_type": "markdown",
   "id": "several-intake",
   "metadata": {},
   "source": [
    "- It is helpful to think of the range object as an ordered list.\n",
    "- To loop through a set of code a specified number of times, we can use the range() function,\n",
    "- The range() function returns a sequence of numbers, starting from 0 by default, and increments by 1 (by\n",
    "default), and ends at a specified number."
   ]
  },
  {
   "cell_type": "code",
   "execution_count": null,
   "id": "paperback-landing",
   "metadata": {},
   "outputs": [],
   "source": [
    "# Take a range() function\n",
    "print(range(5))\n",
    "print(range(10))"
   ]
  },
  {
   "cell_type": "markdown",
   "id": "stunning-experience",
   "metadata": {},
   "source": [
    "### for loop"
   ]
  },
  {
   "cell_type": "markdown",
   "id": "shared-message",
   "metadata": {},
   "source": [
    "The for loop enables you to execute a code block multiple times."
   ]
  },
  {
   "cell_type": "code",
   "execution_count": null,
   "id": "applied-stocks",
   "metadata": {},
   "outputs": [],
   "source": [
    "# Take an example\n",
    "# Diectly accessing to the elements in the list\n",
    "years = [2005, 2006, 2007, 2008, 2009, 2010]\n",
    "for i in years:\n",
    " print(i)"
   ]
  },
  {
   "cell_type": "code",
   "execution_count": null,
   "id": "derived-minister",
   "metadata": {},
   "outputs": [],
   "source": [
    "# Again, directly accessing to the elements in the list\n",
    "years = [2005, 2006, 2007, 2008, 2009, 2010]\n",
    "for year in years:\n",
    " print(year)\n"
   ]
  },
  {
   "cell_type": "code",
   "execution_count": null,
   "id": "increased-vitamin",
   "metadata": {},
   "outputs": [],
   "source": [
    "# Take an example\n",
    "years = [2005, 2006, 2007, 2008, 2009, 2010]\n",
    "for i in range(len(years)):\n",
    " print(years[i])"
   ]
  },
  {
   "cell_type": "code",
   "execution_count": null,
   "id": "tired-plant",
   "metadata": {},
   "outputs": [],
   "source": [
    "# Another for loop example\n",
    "for i in range(2, 12):\n",
    " print(i)"
   ]
  },
  {
   "cell_type": "code",
   "execution_count": null,
   "id": "going-management",
   "metadata": {},
   "outputs": [],
   "source": [
    "# Striding in for loop\n",
    "for i in range(2, 12, 3):\n",
    " print(i)\n"
   ]
  },
  {
   "cell_type": "code",
   "execution_count": null,
   "id": "hawaiian-tunnel",
   "metadata": {},
   "outputs": [],
   "source": [
    "# Changing the elements in the list\n",
    "languages = ['Java', 'JavaScript', 'C', 'C++', 'PHP']\n",
    "for i in range(len(languages)):\n",
    " print('Before language', i, 'is', languages[i])\n",
    " languages[i] = 'Python'\n",
    " print('After language', i, 'is', languages[i])"
   ]
  },
  {
   "cell_type": "code",
   "execution_count": null,
   "id": "intended-cattle",
   "metadata": {},
   "outputs": [],
   "source": [
    "# Enumaeration of the elements in the list\n",
    "languages = ['Python', 'Java', 'JavaScript', 'C', 'C++', 'PHP']\n",
    "for index, language in enumerate(languages):\n",
    " print(index, language)\n"
   ]
  },
  {
   "cell_type": "code",
   "execution_count": null,
   "id": "responsible-court",
   "metadata": {},
   "outputs": [],
   "source": [
    "# Take the numbers between -3 and 6 using for loop\n",
    "# Use range() function\n",
    "for i in range(-3, 7):\n",
    " print(i)"
   ]
  },
  {
   "cell_type": "code",
   "execution_count": null,
   "id": "cosmetic-assistant",
   "metadata": {},
   "outputs": [],
   "source": [
    "# Take a list and print the elements using for loop\n",
    "languages = ['Python', 'Java', 'JavaScript', 'C', 'C++', 'PHP']\n",
    "for i in range(len(languages)):\n",
    " print(i, languages[i])"
   ]
  },
  {
   "cell_type": "code",
   "execution_count": null,
   "id": "technological-specification",
   "metadata": {},
   "outputs": [],
   "source": [
    "number1 = int(input('Enter a number:'))\n",
    "number2 = int(input('Enter a number:'))\n",
    "print(f'The entered numbers are {number1} and {number2}.')\n",
    "for i in range(0, 11):\n",
    " print(('%d x %d = %d' %(number1, i, number1*i)), ',', ('%d x %d = %d' %(number2, i, number2*i )))\n"
   ]
  },
  {
   "cell_type": "markdown",
   "id": "innovative-partner",
   "metadata": {},
   "source": [
    "#### Addition and average calculation in for loop"
   ]
  },
  {
   "cell_type": "code",
   "execution_count": null,
   "id": "recorded-domain",
   "metadata": {},
   "outputs": [],
   "source": [
    "# Take a list\n",
    "nlis = [0.577, 2.718, 3.14, 1.618, 1729, 6, 37]\n",
    "# Write a for loop for addition\n",
    "count = 0\n",
    "for i in nlis:\n",
    " count+=i\n",
    "print('The total value of the numbers in the list is', count)\n",
    "# Calculate the average using len() function\n",
    "print('The avearge value of the numbers in the list is', count/len(nlis))"
   ]
  },
  {
   "cell_type": "markdown",
   "id": "romance-european",
   "metadata": {},
   "source": [
    "### for-else statement"
   ]
  },
  {
   "cell_type": "code",
   "execution_count": null,
   "id": "broke-executive",
   "metadata": {},
   "outputs": [],
   "source": [
    "for i in range(1,6):\n",
    " print(i, end=\", \")\n",
    "else:\n",
    " print('These are numbers from 1 to 5.')\n"
   ]
  },
  {
   "cell_type": "markdown",
   "id": "fitted-tuition",
   "metadata": {},
   "source": [
    "#### nested for loop"
   ]
  },
  {
   "cell_type": "code",
   "execution_count": null,
   "id": "vital-regular",
   "metadata": {},
   "outputs": [],
   "source": [
    "num = int(input('Enter a number:'))\n",
    "print(f'The entered the number is {num}.')\n",
    "i, j = 0, 0\n",
    "for i in range(0, num):\n",
    " print()\n",
    " for j in range(0, i+1):\n",
    "    print('*', end='')\n"
   ]
  },
  {
   "cell_type": "markdown",
   "id": "fallen-range",
   "metadata": {},
   "source": [
    "#### continue in for loop"
   ]
  },
  {
   "cell_type": "code",
   "execution_count": null,
   "id": "fewer-mississippi",
   "metadata": {},
   "outputs": [],
   "source": [
    "# Take a list\n",
    "nlis = [1,2,4,5,6,7,8,9,10,11,12,13,14]\n",
    "for i in nlis:\n",
    " if i == 5:\n",
    "    continue\n",
    " print(i)\n",
    " \n",
    "\"\"\"\n",
    "You see that the output includes the numbers without 5. \n",
    "The continue function jumps when it meets with the reference.\n",
    "\"\"\""
   ]
  },
  {
   "cell_type": "markdown",
   "id": "decreased-vertical",
   "metadata": {},
   "source": [
    "#### break in for loop"
   ]
  },
  {
   "cell_type": "code",
   "execution_count": null,
   "id": "accessible-major",
   "metadata": {},
   "outputs": [],
   "source": [
    "# Take a list\n",
    "nlis = [1,2,4,5,6,7,8,9,10,11,12,13,14]\n",
    "for i in nlis:\n",
    " if i == 5:\n",
    "    break\n",
    " print(i)\n",
    " \n",
    "\"\"\"\n",
    "You see that the output includes the numbers before 5. \n",
    "The break function terminate the loop when it meets with the reference.\n",
    "\"\"\""
   ]
  },
  {
   "cell_type": "markdown",
   "id": "higher-release",
   "metadata": {},
   "source": [
    "### while loop"
   ]
  },
  {
   "cell_type": "markdown",
   "id": "charged-drinking",
   "metadata": {},
   "source": [
    "The while loop exists as a tool for repeated execution based on a condition. The code block will keep being\n",
    "executed until the given logical condition returns a False boolean value."
   ]
  },
  {
   "cell_type": "code",
   "execution_count": null,
   "id": "periodic-texas",
   "metadata": {},
   "outputs": [],
   "source": [
    "# Take an example\n",
    "i = 22\n",
    "while i<27:\n",
    " print(i)\n",
    " i+=1"
   ]
  },
  {
   "cell_type": "code",
   "execution_count": null,
   "id": "applicable-weather",
   "metadata": {},
   "outputs": [],
   "source": [
    "#Take an example\n",
    "i = 22\n",
    "while i>=17:\n",
    " print(i)\n",
    " i-=1\n"
   ]
  },
  {
   "cell_type": "code",
   "execution_count": null,
   "id": "static-blind",
   "metadata": {},
   "outputs": [],
   "source": [
    "# Take an example\n",
    "years = [2005, 2006, 2007, 2008, 2009, 2010]\n",
    "index = 0\n",
    "year = years[0]\n",
    "while year !=2008:\n",
    " print(year)\n",
    " index+=1\n",
    " year = years[index]\n",
    "print('It gives us only', index, 'repetititons to get out of loop')"
   ]
  },
  {
   "cell_type": "code",
   "execution_count": null,
   "id": "original-language",
   "metadata": {},
   "outputs": [],
   "source": [
    "# Print the movie ratings gretater than 6.\n",
    "movie_rating = [8.0, 7.5, 5.4, 9.1, 6.3, 6.5, 2.1, 4.8, 3.3]\n",
    "index = 0\n",
    "rating = movie_rating[0]\n",
    "while rating>=6:\n",
    " print(rating)\n",
    " index += 1\n",
    " rating = movie_rating[index]\n",
    "print('There is only', index, 'movie rating, because the loop stops when it meets with the number lower than 6.')\n"
   ]
  },
  {
   "cell_type": "code",
   "execution_count": null,
   "id": "super-switzerland",
   "metadata": {},
   "outputs": [],
   "source": [
    "# Print the movie ratings gretater than 6.\n",
    "movie_rating = [8.0, 7.5, 5.4, 9.1, 6.3, 6.5, 2.1, 4.8, 3.3]\n",
    "index = 0\n",
    "for i in range(len(movie_rating)):\n",
    " if movie_rating[i] >= 6:\n",
    "    index += 1\n",
    "    print(index, movie_rating[i])\n",
    "print('There is only', index, 'films gretater than movie rating 6')\n"
   ]
  },
  {
   "cell_type": "code",
   "execution_count": null,
   "id": "social-theta",
   "metadata": {},
   "outputs": [],
   "source": [
    "# Adding the element in a list to a new list \n",
    "fruits = ['banana', 'apple', 'banana', 'orange', 'kiwi', 'banana', 'Cherry', 'Grapes']\n",
    "new_fruits = []\n",
    "index = 0\n",
    "while fruits[index] == 'banana':\n",
    " new_fruits.append(fruits[index])\n",
    " index += 1\n",
    "print(new_fruits)\n"
   ]
  },
  {
   "cell_type": "code",
   "execution_count": null,
   "id": "lightweight-solution",
   "metadata": {},
   "outputs": [],
   "source": [
    "number1 = int(input('Enter a number:'))\n",
    "number2 = int(input('Enter a number:'))\n",
    "print(f'The entered numbers are {number1} and {number2}.')\n",
    "i = 0\n",
    "while i<=10:\n",
    " print(('%d x %d = %d' %(number1, i, number1*i)), ',', ('%d x %d = %d' %(number2, i, number2*i )))\n",
    " i+=1\n"
   ]
  },
  {
   "cell_type": "markdown",
   "id": "personalized-framing",
   "metadata": {},
   "source": [
    "#### while-else statement"
   ]
  },
  {
   "cell_type": "code",
   "execution_count": null,
   "id": "remarkable-storage",
   "metadata": {},
   "outputs": [],
   "source": [
    "index = 0\n",
    "while index <=5:\n",
    " print(index, end=' ')\n",
    " index += 1\n",
    "else:\n",
    " print('It gives us the numbers between 0 and 5.')\n"
   ]
  },
  {
   "cell_type": "markdown",
   "id": "decreased-syndication",
   "metadata": {},
   "source": [
    "#### continue in while loop"
   ]
  },
  {
   "cell_type": "code",
   "execution_count": null,
   "id": "norman-shape",
   "metadata": {},
   "outputs": [],
   "source": [
    "i = 0\n",
    "while i<=5:\n",
    " print(i)\n",
    " i+=1\n",
    " if i == 3:\n",
    "   continue\n"
   ]
  },
  {
   "cell_type": "markdown",
   "id": "threatened-tiffany",
   "metadata": {},
   "source": [
    "#### break in while loop"
   ]
  },
  {
   "cell_type": "code",
   "execution_count": null,
   "id": "joint-service",
   "metadata": {},
   "outputs": [],
   "source": [
    "i = 0\n",
    "while i<=5:\n",
    " print(i)\n",
    " i+=1\n",
    " if i == 3:\n",
    "    break\n"
   ]
  },
  {
   "cell_type": "code",
   "execution_count": null,
   "id": "mediterranean-property",
   "metadata": {},
   "outputs": [],
   "source": [
    "9. Functions in Python"
   ]
  },
  {
   "cell_type": "markdown",
   "id": "coastal-bristol",
   "metadata": {},
   "source": [
    "- In Python, a function is a group of related statements that performs a specific task.\n",
    "- Functions help break our program into smaller and modular chunks. * As our program grows larger and\n",
    "- larger, functions make it more organized and manageable.\n",
    "- Furthermore, it avoids repetition and makes the code reusable.\n",
    "- There are two types of functions :\n",
    "- Pre-defined functions\n",
    "- User defined functions\n",
    "- In Python a function is defined using the def keyword followed by the function name and parentheses ().\n",
    "- Keyword def that marks the start of the function header.\n",
    "- A function name to uniquely identify the function.\n",
    "- Function naming follows the same rules of writing identifiers in Python.\n",
    "- Parameters (arguments) through which we pass values to a function. They are optional.\n",
    "- A colon (:) to mark the end of the function header.\n",
    "- Optional documentation string (docstring) to describe what the function does.\n",
    "- One or more valid python statements that make up the function body.\n",
    "- Statements must have the same indentation level (usually 4 spaces).\n",
    "- An optional return statement to return a value from the function."
   ]
  },
  {
   "cell_type": "code",
   "execution_count": null,
   "id": "cardiac-opera",
   "metadata": {},
   "outputs": [],
   "source": [
    "# Take a function sample\n",
    "# Mathematical operations in a function\n",
    "def process(x):\n",
    " y1 = x-8\n",
    " y2 = x+8\n",
    " y3 = x*8\n",
    " y4 = x/8\n",
    " y5 = x%8\n",
    " y6 = x//8\n",
    " print(f'If you make the above operations with {x}, the results will be {y1}, {y2}, {y3}, {y4}, {y5}, {y6}.')\n",
    " return y1, y2, y3, y4, y5, y6\n",
    "process(5)\n"
   ]
  },
  {
   "cell_type": "markdown",
   "id": "adjustable-basement",
   "metadata": {},
   "source": [
    "#### You can request help using help() function"
   ]
  },
  {
   "cell_type": "code",
   "execution_count": null,
   "id": "gross-desperate",
   "metadata": {},
   "outputs": [],
   "source": [
    "help(process)"
   ]
  },
  {
   "cell_type": "markdown",
   "id": "immune-thickness",
   "metadata": {},
   "source": [
    "#### Call the function again with the number 3.14"
   ]
  },
  {
   "cell_type": "code",
   "execution_count": null,
   "id": "hairy-contents",
   "metadata": {},
   "outputs": [],
   "source": [
    "process(3.14)"
   ]
  },
  {
   "cell_type": "markdown",
   "id": "commercial-ministry",
   "metadata": {},
   "source": [
    "### Functions with multiple parameters"
   ]
  },
  {
   "cell_type": "code",
   "execution_count": null,
   "id": "spiritual-exclusive",
   "metadata": {},
   "outputs": [],
   "source": [
    "# Define a function with multiple elements\n",
    "def mult(x, y):\n",
    "    z = 2*x + 5*y + 45\n",
    "    return z\n",
    "output = mult(3.14, 1.618) # You can yield the output by assigning to a variable\n",
    "print(output)\n",
    "print(mult(3.14, 1.618)) # You can obtain the result directly\n",
    "mult(3.14, 1.618) # This is also another version"
   ]
  },
  {
   "cell_type": "code",
   "execution_count": null,
   "id": "controlling-thompson",
   "metadata": {},
   "outputs": [],
   "source": [
    "# Call again the defined function with different arguments\n",
    "print(mult(25, 34))"
   ]
  },
  {
   "cell_type": "markdown",
   "id": "natural-trainer",
   "metadata": {},
   "source": [
    "### Variables"
   ]
  },
  {
   "cell_type": "markdown",
   "id": "plastic-junior",
   "metadata": {},
   "source": [
    "- The input to a function is called a formal parameter.\n",
    "- A variable that is declared inside a function is called a local variable.\n",
    "- The parameter only exists within the function (i.e. the point where the function starts and stops).\n",
    "- A variable that is declared outside a function definition is a global variable, and its value is accessible and\n",
    "modifiable throughout the program."
   ]
  },
  {
   "cell_type": "code",
   "execution_count": null,
   "id": "cordless-persian",
   "metadata": {},
   "outputs": [],
   "source": [
    "# Define a function\n",
    "def function(x):\n",
    " \n",
    " # Take a local variable\n",
    " y = 3.14\n",
    " z = 3*x + 1.618*y\n",
    " print(f'If you make the above operations with {x}, the results will be {z}.')\n",
    " return z\n",
    "with_golden_ratio = function(1.618)\n",
    "print(with_golden_ratio)"
   ]
  },
  {
   "cell_type": "code",
   "execution_count": null,
   "id": "tribal-breakdown",
   "metadata": {},
   "outputs": [],
   "source": [
    "# It starts the gloabal variable\n",
    "a = 3.14\n",
    "# call function and return function\n",
    "y = function(a)\n",
    "print(y)\n"
   ]
  },
  {
   "cell_type": "code",
   "execution_count": null,
   "id": "coastal-design",
   "metadata": {},
   "outputs": [],
   "source": [
    "# Enter a number directly as a parameter\n",
    "function(2.718)"
   ]
  },
  {
   "cell_type": "markdown",
   "id": "bottom-copyright",
   "metadata": {},
   "source": [
    "#### Without return statement, the function returns None"
   ]
  },
  {
   "cell_type": "code",
   "execution_count": null,
   "id": "union-google",
   "metadata": {},
   "outputs": [],
   "source": [
    "# Define a function with and without return statement\n",
    "def msg1():\n",
    " print('Hello, Python!')\n",
    "def msg2():\n",
    " print('Hello, World!')\n",
    " return None\n",
    "msg1()\n",
    "msg2()\n"
   ]
  },
  {
   "cell_type": "code",
   "execution_count": null,
   "id": "incredible-reality",
   "metadata": {},
   "outputs": [],
   "source": [
    "# Printing the function after a call indicates a None is the default return statement.\n",
    "# See the following prontings what functions returns are.\n",
    "print(msg1())\n",
    "print(msg2())\n"
   ]
  },
  {
   "cell_type": "markdown",
   "id": "sunrise-looking",
   "metadata": {},
   "source": [
    "#### Concatetantion of two strings"
   ]
  },
  {
   "cell_type": "code",
   "execution_count": null,
   "id": "traditional-pakistan",
   "metadata": {},
   "outputs": [],
   "source": [
    "# Define a function\n",
    "def strings(x, y):\n",
    " return x + y\n",
    "# Testing the function 'strings(x, y)'\n",
    "strings('Hello', ' ' 'Python')"
   ]
  },
  {
   "cell_type": "markdown",
   "id": "undefined-republican",
   "metadata": {},
   "source": [
    "#### Simplicity of functions"
   ]
  },
  {
   "cell_type": "code",
   "execution_count": null,
   "id": "interim-stretch",
   "metadata": {},
   "outputs": [],
   "source": [
    "# The following codes are not used again.\n",
    "x = 2.718\n",
    "y = 0.577\n",
    "equation = x*y + x+y - 37\n",
    "if equation>0:\n",
    " equation = 6\n",
    "else: equation = 37\n",
    "equation"
   ]
  },
  {
   "cell_type": "code",
   "execution_count": null,
   "id": "periodic-equality",
   "metadata": {},
   "outputs": [],
   "source": [
    "# The following codes are not used again.\n",
    "x = 0\n",
    "y = 0\n",
    "equation = x*y + x+y - 37\n",
    "if equation<0:\n",
    " equation = 0\n",
    "else: equation = 37\n",
    "equation\n"
   ]
  },
  {
   "cell_type": "code",
   "execution_count": null,
   "id": "dependent-software",
   "metadata": {},
   "outputs": [],
   "source": [
    "# The following codes can be write as a function.\n",
    "def function(x, y):\n",
    " equation = x*y + x+y - 37\n",
    " if equation>0:\n",
    "    equation = 6\n",
    " else: equation = 37\n",
    " return equation\n",
    "x = 2.718\n",
    "y = 0.577\n",
    "function(x, y)\n"
   ]
  },
  {
   "cell_type": "code",
   "execution_count": null,
   "id": "congressional-increase",
   "metadata": {},
   "outputs": [],
   "source": [
    "# The following codes can be write as a function.\n",
    "def function(x, y):\n",
    " equation = x*y + x+y - 37\n",
    " if equation<0:\n",
    "    equation = 6\n",
    " else: equation = 37\n",
    " return equation\n",
    "x = 0\n",
    "y = 0\n",
    "function(x, y)"
   ]
  },
  {
   "cell_type": "markdown",
   "id": "general-netscape",
   "metadata": {},
   "source": [
    "#### Predefined functions like print(), sum(), len(), min(), max(), input()"
   ]
  },
  {
   "cell_type": "code",
   "execution_count": null,
   "id": "extended-european",
   "metadata": {},
   "outputs": [],
   "source": [
    "# print() is a built-in function \n",
    "special_numbers = [0.577, 2.718, 3.14, 1.618, 1729, 6, 28, 37]\n",
    "print(special_numbers)"
   ]
  },
  {
   "cell_type": "code",
   "execution_count": null,
   "id": "wired-amino",
   "metadata": {},
   "outputs": [],
   "source": [
    "# The function sum() add all elements in a list or a tuple\n",
    "sum(special_numbers)"
   ]
  },
  {
   "cell_type": "code",
   "execution_count": null,
   "id": "handmade-triumph",
   "metadata": {},
   "outputs": [],
   "source": [
    "# The function len() gives us the length of the list or tuple\n",
    "len(special_numbers)"
   ]
  },
  {
   "cell_type": "markdown",
   "id": "looking-tampa",
   "metadata": {},
   "source": [
    "#### Using conditions and loops in functions"
   ]
  },
  {
   "cell_type": "code",
   "execution_count": null,
   "id": "eligible-greece",
   "metadata": {},
   "outputs": [],
   "source": [
    "# Define a function including conditions if/else\n",
    "def fermentation(microorganism, substrate, product, activity):\n",
    "    print(microorganism, substrate, product, activity)\n",
    "    if activity < 1000:\n",
    "        return f'The fermentation process was unsuccessful with the {product} activity of {activity} U/mL from {substrate} using A spergillus niger.'\n",
    "    else:\n",
    "        return f'The fermentation process was successful with the {product} activity of {activity} U/mL from {substrate} using Aspergillus niger. You should repeat the fermentation process.'\n",
    "result1 = fermentation('Aspergillus niger', 'molasses', 'inulinase', 1800)\n",
    "print(result1)\n",
    "print()\n",
    "result2 = fermentation('Aspergillus niger', 'molasses', 'inulinase', 785)\n",
    "print(result2)\n"
   ]
  },
  {
   "cell_type": "code",
   "execution_count": null,
   "id": "broken-avatar",
   "metadata": {},
   "outputs": [],
   "source": [
    "# Define a function using the loop 'for'\n",
    "def fermentation(content):\n",
    "    for parameters in content:\n",
    "        print(parameters)\n",
    "content = ['Stirred-tank bioreactor' ,'30°C temperature', '200 rpm agitation speed', '1 vvm aeration', '1% (v/v) inoculum ratio','pH control at 5.0']\n",
    "fermentation(content)\n"
   ]
  },
  {
   "cell_type": "markdown",
   "id": "level-ideal",
   "metadata": {},
   "source": [
    "#### Adjustiing default values of independent variables in functions"
   ]
  },
  {
   "cell_type": "code",
   "execution_count": null,
   "id": "configured-january",
   "metadata": {},
   "outputs": [],
   "source": [
    "# Define a function adjusting the default value of the variable\n",
    "def rating_value(rating = 5.5):\n",
    "    if rating < 8:\n",
    "        return f'You should not watch this film with the rating value of {rating}'\n",
    "    else:\n",
    "        return f'You should watch this film with the rating value of {rating}'\n",
    "print(rating_value())\n",
    "print(rating_value(8.6))\n"
   ]
  },
  {
   "cell_type": "markdown",
   "id": "dangerous-latitude",
   "metadata": {},
   "source": [
    "### Global variables"
   ]
  },
  {
   "cell_type": "markdown",
   "id": "ultimate-right",
   "metadata": {},
   "source": [
    "- Variables that are created outside of a function (as in all of the examples above) are known as global\n",
    "variables.\n",
    "- Global variables can be used by everyone, both inside of functions and outside."
   ]
  },
  {
   "cell_type": "code",
   "execution_count": null,
   "id": "excellent-smart",
   "metadata": {},
   "outputs": [],
   "source": [
    "# Define a function for a global variable\n",
    "language = 'Python'\n",
    "def lang(language):\n",
    "    global_var = language\n",
    "    print(f'{language} is a program language.')\n",
    "lang(language)\n",
    "lang(global_var)\n",
    "\"\"\"\n",
    "The output gives a NameError, since all variables in the function are local variables, \n",
    "so variable assignment is not persistent outside the function.\n",
    "\"\"\"\n"
   ]
  },
  {
   "cell_type": "code",
   "execution_count": null,
   "id": "indirect-nebraska",
   "metadata": {},
   "outputs": [],
   "source": [
    "# Define a function for a global variable\n",
    "language = 'JavaScript'\n",
    "def lang(language):\n",
    " global global_var\n",
    " global_var = 'Python'\n",
    " print(f'{language} is a programing language.')\n",
    "lang(language)\n",
    "lang(global_var)"
   ]
  },
  {
   "cell_type": "markdown",
   "id": "textile-penalty",
   "metadata": {},
   "source": [
    "### Variables in functions"
   ]
  },
  {
   "cell_type": "markdown",
   "id": "scientific-premium",
   "metadata": {},
   "source": [
    "- The scope of a variable is the part of the program to which that variable is accessible.\n",
    "- Variables declared outside of all function definitions can be accessed from anywhere in the program.\n",
    "- Consequently, such variables are said to have global scope and are known as global variables."
   ]
  },
  {
   "cell_type": "code",
   "execution_count": null,
   "id": "assured-favor",
   "metadata": {},
   "outputs": [],
   "source": [
    "process = 'Continuous fermentation'\n",
    "def fermentation(process_name):\n",
    "    if process_name == process:\n",
    "        return '0.5 g/L/h.'\n",
    "    else:\n",
    "        return '0.25 g/L/h.'\n",
    "print('The productiovity in continuous fermentation is', fermentation('Continuous fermentation'))\n",
    "print('The productiovity in batch fermentation is', fermentation('Batch fermentation'))\n",
    "print('Continuous fermentation has many advantages over batch fermentation.')\n",
    "print(f'My favourite process is {process}.')\n"
   ]
  },
  {
   "cell_type": "code",
   "execution_count": null,
   "id": "swiss-technology",
   "metadata": {},
   "outputs": [],
   "source": [
    "# If the variable 'process' is deleted, it returns a NameError as follows\n",
    "del process\n",
    "# Since the variable 'process' is deleted, the following function is an example of local variable\n",
    "def fermentation(process_name):\n",
    "    process = 'Continuous fermentation'\n",
    "    if process_name == process:\n",
    "        return '0.5 g/L/h.'\n",
    "    else:\n",
    "        return '0.25 g/L/h.'\n",
    "print('The productiovity in continuous fermentation is', fermentation('Continuous fermentation'))\n",
    "print('The productiovity in batch fermentation is', fermentation('Batch fermentation'))\n",
    "print('Continuous fermentation has many advantages over batch fermentation.')\n",
    "print(f'My favourite process is {process}.')\n"
   ]
  },
  {
   "cell_type": "code",
   "execution_count": null,
   "id": "approved-indicator",
   "metadata": {},
   "outputs": [],
   "source": [
    "# When the global variable and local variable have the same name:\n",
    "process = 'Continuous fermentation'\n",
    "def fermentation(process_name):\n",
    "    process = 'Batch fermentation'\n",
    "    if process_name == process:\n",
    "        return '0.5 g/L/h.'\n",
    "    else:\n",
    "        return '0.25 g/L/h.'\n",
    "print('The productiovity in continuous fermentation is', fermentation('Continuous fermentation'))\n",
    "print('The productiovity in batch fermentation is', fermentation('Batch fermentation'))\n",
    "print(f'My favourite process is {process}.')\n"
   ]
  },
  {
   "cell_type": "markdown",
   "id": "documented-tracy",
   "metadata": {},
   "source": [
    "### (args) and/or (*args) and Functions"
   ]
  },
  {
   "cell_type": "markdown",
   "id": "ideal-storm",
   "metadata": {},
   "source": [
    "When the number of arguments are unkknown for a function, then the arguments can be packet into a tuple or\n",
    "a dictionary"
   ]
  },
  {
   "cell_type": "code",
   "execution_count": null,
   "id": "awful-asthma",
   "metadata": {},
   "outputs": [],
   "source": [
    "# Define a function regarding a tuple example\n",
    "def function(*args):\n",
    "    print('Number of elements is', len(args))\n",
    "    for element in args:\n",
    "        print(element)\n",
    "function('Aspergillus niger', 'inulinase', 'batch', '1800 U/mL activity')\n",
    "print()\n",
    "function('Saccharomyces cerevisia', 'ethanol', 'continuous', '45% yield', 'carob')\n"
   ]
  },
  {
   "cell_type": "code",
   "execution_count": null,
   "id": "insured-layout",
   "metadata": {},
   "outputs": [],
   "source": [
    "# Another example regarding 'args'\n",
    "def total(*args):\n",
    "    total = 0\n",
    "    for i in args:\n",
    "        total += i\n",
    "    return total\n",
    "print('The total of the numbers is', total(0.577, 2.718, 3.14, 1.618, 1729, 6, 37))"
   ]
  },
  {
   "cell_type": "code",
   "execution_count": null,
   "id": "hairy-print",
   "metadata": {},
   "outputs": [],
   "source": [
    "# Define a function regarding a dictionary example\n",
    "def function(**args):\n",
    "    for key in args:\n",
    "        print(key, ':', args[key])\n",
    "\n",
    "function(Micoorganism='Aspergillus niger', Substrate='Molasses', Product='Inulinase', Fermentation_mode='Batch', Activity = '1800 U/mL')"
   ]
  },
  {
   "cell_type": "code",
   "execution_count": null,
   "id": "analyzed-claim",
   "metadata": {},
   "outputs": [],
   "source": [
    "# Define a function regarding the addition of elements into a list\n",
    "def addition(nlist):\n",
    " nlist.append(3.14)\n",
    " nlist.append(1.618)\n",
    " nlist.append(1729)\n",
    " nlist.append(6)\n",
    " nlist.append(37)\n",
    "my_list= [0.577, 2.718]\n",
    "addition(my_list)\n",
    "print(my_list)\n",
    "print(sum(my_list))\n",
    "print(min(my_list))\n",
    "print(max(my_list))\n",
    "print(len(my_list))"
   ]
  },
  {
   "cell_type": "markdown",
   "id": "celtic-desperate",
   "metadata": {},
   "source": [
    "#### Doctsting in Functions"
   ]
  },
  {
   "cell_type": "code",
   "execution_count": null,
   "id": "studied-monte",
   "metadata": {},
   "outputs": [],
   "source": [
    "# Define a function\n",
    "def addition(x, y):\n",
    " \"\"\"The following function returns the sum of two parameters.\"\"\"\n",
    " z = x+y\n",
    " return z\n",
    "print(addition.__doc__)\n",
    "print(addition(3.14, 2.718))\n"
   ]
  },
  {
   "cell_type": "markdown",
   "id": "fancy-accountability",
   "metadata": {},
   "source": [
    "#### Recursive functions"
   ]
  },
  {
   "cell_type": "code",
   "execution_count": null,
   "id": "cognitive-alberta",
   "metadata": {},
   "outputs": [],
   "source": [
    "# Calculating the factorial of a certain number.\n",
    "def factorial(number):\n",
    "    if number == 0:\n",
    "        return 1\n",
    "    else:\n",
    "        return number*factorial(number-1)\n",
    "print('The value is', factorial(6))\n"
   ]
  },
  {
   "cell_type": "code",
   "execution_count": null,
   "id": "automotive-liechtenstein",
   "metadata": {},
   "outputs": [],
   "source": [
    "# Define a function that gives the total of the first ten numbers\n",
    "def total_numbers(number, sum):\n",
    "    if number == 11:\n",
    "        return sum\n",
    "    else:\n",
    "        return total_numbers(number+1, sum+number)\n",
    "print('The total of first ten numbers is', total_numbers(1, 0))"
   ]
  },
  {
   "cell_type": "markdown",
   "id": "desirable-prize",
   "metadata": {},
   "source": [
    "### Nested functions"
   ]
  },
  {
   "cell_type": "code",
   "execution_count": null,
   "id": "welcome-baltimore",
   "metadata": {},
   "outputs": [],
   "source": [
    "# Define a function that add a number to another number \n",
    "def added_num(num1):\n",
    "    def incremented_num(num1):\n",
    "        num1 = num1 + 1\n",
    "        return num1\n",
    "    num2 = incremented_num(num1)\n",
    "    print(num1, '------->>', num2)\n",
    "added_num(25)\n"
   ]
  },
  {
   "cell_type": "markdown",
   "id": "dimensional-bobby",
   "metadata": {},
   "source": [
    "### nonlocal function"
   ]
  },
  {
   "cell_type": "code",
   "execution_count": null,
   "id": "bulgarian-credits",
   "metadata": {},
   "outputs": [],
   "source": [
    "# Define a function regarding 'nonlocal' function\n",
    "def print_year():\n",
    "    year = 1990\n",
    "    def print_current_year():\n",
    "        nonlocal year\n",
    "        year += 32\n",
    "        print('Current year is', year)\n",
    "    print_current_year()\n",
    "print_year()"
   ]
  },
  {
   "cell_type": "code",
   "execution_count": null,
   "id": "right-pricing",
   "metadata": {},
   "outputs": [],
   "source": [
    "# Define a function giving a message\n",
    "def function(name):\n",
    "    msg = 'Hi ' + name\n",
    "    return msg\n",
    "name = input('Enter a name: ')\n",
    "print(function(name))"
   ]
  },
  {
   "cell_type": "markdown",
   "id": "geographic-transmission",
   "metadata": {},
   "source": [
    "## 10. Exception Handling in Python"
   ]
  },
  {
   "cell_type": "markdown",
   "id": "hungry-inspiration",
   "metadata": {},
   "source": [
    "- An exception is an event, which occurs during the execution of a program that disrupts the normal flow of\n",
    "the program's instructions.\n",
    "- In general, when a Python script encounters a situation that it cannot cope with, it raises an exception.\n",
    "- An exception is a Python object that represents an error.\n",
    "- When a Python script raises an exception, it must either handle the exception immediately otherwise it\n",
    "terminates and quits.\n",
    "- If you have some suspicious code that may raise an exception, you can defend your program by placing\n",
    "the suspicious code in a try: block.\n",
    "- After the try: block, include an except: statement, followed by a block of code which handles the problem\n",
    "as elegantly as possible."
   ]
  },
  {
   "cell_type": "markdown",
   "id": "young-merchant",
   "metadata": {},
   "source": [
    "#### Common exceptions"
   ]
  },
  {
   "cell_type": "markdown",
   "id": "announced-mainland",
   "metadata": {},
   "source": [
    "- ZeroDivisionError\n",
    "- NameError\n",
    "- ValueError\n",
    "- IOError\n",
    "- EOFError\n",
    "- IdentationError"
   ]
  },
  {
   "cell_type": "markdown",
   "id": "wireless-newton",
   "metadata": {},
   "source": [
    "#### ZeroDivisionError"
   ]
  },
  {
   "cell_type": "code",
   "execution_count": null,
   "id": "accepting-angola",
   "metadata": {},
   "outputs": [],
   "source": [
    "# If a number is divided by 0, it gives a ZeroDivisionError.\n",
    "try: \n",
    "    1/0\n",
    "except ZeroDivisionError:\n",
    "    print('This code gives a ZeroDivisionError.')\n",
    "print(1/0)\n"
   ]
  },
  {
   "cell_type": "code",
   "execution_count": null,
   "id": "adopted-relief",
   "metadata": {},
   "outputs": [],
   "source": [
    "nlis = []\n",
    "count = 0\n",
    "try:\n",
    " mean = count/len(nlis)\n",
    " print('The mean value is', mean)\n",
    "except ZeroDivisionError:\n",
    " print('This code gives a ZeroDivisionError')\n",
    "print(count/len(nlis))"
   ]
  },
  {
   "cell_type": "markdown",
   "id": "sunset-payroll",
   "metadata": {},
   "source": [
    "#### NameError"
   ]
  },
  {
   "cell_type": "code",
   "execution_count": null,
   "id": "careful-graph",
   "metadata": {},
   "outputs": [],
   "source": [
    "nlis = []\n",
    "count = 0\n",
    "try:\n",
    " mean = count/len(nlis)\n",
    " print('The mean value is', mean)\n",
    "except ZeroDivisionError:\n",
    " print('This code gives a ZeroDivisionError')\n",
    "# Since the variable 'mean' is not defined, it gives us a 'NameError\n",
    "print(mean)\n"
   ]
  },
  {
   "cell_type": "code",
   "execution_count": null,
   "id": "proper-viewer",
   "metadata": {},
   "outputs": [],
   "source": [
    "try:\n",
    " y = x+5\n",
    "except NameError:\n",
    " print('This code gives a NameError.')\n",
    "print(y)"
   ]
  },
  {
   "cell_type": "code",
   "execution_count": null,
   "id": "unsigned-kingston",
   "metadata": {},
   "outputs": [],
   "source": [
    "# Define a function giving a NameError\n",
    "def addition(x, y):\n",
    " z = x + y\n",
    " return z\n",
    "print('This function gives a NameError.')\n",
    "total = add(3.14, 1.618)\n",
    "print(total)"
   ]
  },
  {
   "cell_type": "code",
   "execution_count": null,
   "id": "invisible-recipe",
   "metadata": {},
   "outputs": [],
   "source": [
    "# Since 'Mustafa' is not defined, the following code gives us a 'NameError.'\n",
    "try:\n",
    " name = (Mustafa)\n",
    " print(name, 'today is your wedding day.')\n",
    "except NameError:\n",
    " print('This code gives a NameError.')\n",
    "name = (Mustafa)\n",
    "print(name, 'today is your wedding day.')"
   ]
  },
  {
   "cell_type": "markdown",
   "id": "upset-morocco",
   "metadata": {},
   "source": [
    "#### IndexError"
   ]
  },
  {
   "cell_type": "code",
   "execution_count": null,
   "id": "elementary-cuisine",
   "metadata": {},
   "outputs": [],
   "source": [
    "nlis = [0.577, 1.618, 2.718, 3.14, 6, 28, 37, 1729]\n",
    "try:\n",
    " nlis[10]\n",
    "except IndexError:\n",
    " print('This code gives us a IndexError.')\n",
    "print(nlis[10])"
   ]
  },
  {
   "cell_type": "code",
   "execution_count": null,
   "id": "human-ceramic",
   "metadata": {},
   "outputs": [],
   "source": [
    "# You can also supplytake this error type with tuple\n",
    "tuple_sample = (0.577, 1.618, 2.718, 3.14, 6, 28, 37, 1729)\n",
    "try:\n",
    " tuple_sample[10]\n",
    "except IndexError:\n",
    " print('This code gives us a IndexError.')\n",
    "print(tuple_sample[10])"
   ]
  },
  {
   "cell_type": "markdown",
   "id": "infinite-activity",
   "metadata": {},
   "source": [
    "#### KeyError"
   ]
  },
  {
   "cell_type": "code",
   "execution_count": null,
   "id": "unlikely-angel",
   "metadata": {},
   "outputs": [],
   "source": [
    "dictionary = {'euler_constant': 0.577, 'golden_ratio': 1.618}\n",
    "try:\n",
    " dictonary = dictionary['euler_number']\n",
    "except KeyError:\n",
    " print('This code gives us a KeyError.')\n",
    "dictonary = dictionary['euler_number']\n",
    "print(dictonary)\n"
   ]
  },
  {
   "cell_type": "markdown",
   "id": "magnetic-enough",
   "metadata": {},
   "source": [
    "### Exception Handling"
   ]
  },
  {
   "cell_type": "markdown",
   "id": "nasty-product",
   "metadata": {},
   "source": [
    "### try/except"
   ]
  },
  {
   "cell_type": "code",
   "execution_count": null,
   "id": "absolute-participant",
   "metadata": {},
   "outputs": [],
   "source": [
    "try:\n",
    "    print(name)\n",
    "except NameError:\n",
    "    print('Since the variable name is not defined, the function gives a NameError.')"
   ]
  },
  {
   "cell_type": "code",
   "execution_count": null,
   "id": "expired-union",
   "metadata": {},
   "outputs": [],
   "source": [
    "num1 = float(input('Enter a number:'))\n",
    "print('The entered value is', num1)\n",
    "try:\n",
    " num2 = float(input('Enter a number:'))\n",
    " print('The entered value is', num2)\n",
    " value = num1/num2\n",
    " print('This process is running with value = ', value)\n",
    "except:\n",
    " print('This process is not running.')"
   ]
  },
  {
   "cell_type": "markdown",
   "id": "hairy-bulgaria",
   "metadata": {},
   "source": [
    "### Multiple Except Blocks"
   ]
  },
  {
   "cell_type": "markdown",
   "id": "wanted-tract",
   "metadata": {},
   "source": [
    "### try/except/except etc."
   ]
  },
  {
   "cell_type": "code",
   "execution_count": null,
   "id": "operating-wayne",
   "metadata": {},
   "outputs": [],
   "source": [
    "num1 = float(input('Enter a number:'))\n",
    "print('The entered value is', num1)\n",
    "try:\n",
    " num2 = float(input('Enter a number:'))\n",
    " print('The entered value is', num2)\n",
    " value = num1/num2\n",
    " print('This process is running with value = ', value)\n",
    "except ZeroDivisionError:\n",
    " print('This function gives a ZeroDivisionError since a number cannot divide by 0.')\n",
    "except ValueError:\n",
    " print('You should provide a number.')\n",
    "except:\n",
    " print('Soething went wrong!')"
   ]
  },
  {
   "cell_type": "markdown",
   "id": "expensive-announcement",
   "metadata": {},
   "source": [
    "### try/except/else"
   ]
  },
  {
   "cell_type": "code",
   "execution_count": null,
   "id": "junior-forge",
   "metadata": {},
   "outputs": [],
   "source": [
    "num1 = float(input('Enter a number:'))\n",
    "print('The entered value is', num1)\n",
    "try:\n",
    " num2 = float(input('Enter a number:'))\n",
    " print('The entered value is', num2)\n",
    " value = num1/num2\n",
    "except ZeroDivisionError:\n",
    " print('This function gives a ZeroDivisionError since a number cannot divide by 0.')\n",
    "except ValueError:\n",
    " print('You should provide a number.')\n",
    "except:\n",
    " print('Soething went wrong!')\n",
    "else:\n",
    " print('This process is running with value = ', value)\n"
   ]
  },
  {
   "cell_type": "markdown",
   "id": "continued-reason",
   "metadata": {},
   "source": [
    "### try/except/else/finally"
   ]
  },
  {
   "cell_type": "code",
   "execution_count": null,
   "id": "competent-lancaster",
   "metadata": {
    "scrolled": true
   },
   "outputs": [],
   "source": [
    "num1 = float(input('Enter a number:'))\n",
    "print('The entered value is', num1)\n",
    "try:\n",
    " num2 = float(input('Enter a number:'))\n",
    " print('The entered value is', num2)\n",
    " value = num1/num2\n",
    "except ZeroDivisionError:\n",
    " print('This function gives a ZeroDivisionError since a number cannot divide by 0.')\n",
    "except ValueError:\n",
    " print('You should provide a number.')\n",
    "except:\n",
    " print('Soething went wrong!')\n",
    "else:\n",
    " print('This process is running with value = ', value)\n",
    "finally:\n",
    " print('The process is completed.')\n"
   ]
  },
  {
   "cell_type": "markdown",
   "id": "adapted-celebration",
   "metadata": {},
   "source": [
    "### Multiple except clauses"
   ]
  },
  {
   "cell_type": "code",
   "execution_count": null,
   "id": "conditional-idaho",
   "metadata": {},
   "outputs": [],
   "source": [
    "num1 = float(input('Enter a number:'))\n",
    "print('The entered value is', num1)\n",
    "try:\n",
    " num2 = float(input('Enter a number:'))\n",
    " print('The entered value is', num2)\n",
    " value = num1/num2\n",
    "except (ZeroDivisionError, NameError, ValueError): #Multiple except clauses\n",
    " print('This function gives a ZeroDivisionError, NameError or ValueError.')\n",
    "except:\n",
    " print('Soething went wrong!')\n",
    "else:\n",
    " print('This process is running with value = ', value)\n",
    "finally:\n",
    " print('The process is completed.')\n"
   ]
  },
  {
   "cell_type": "markdown",
   "id": "lyric-beginning",
   "metadata": {},
   "source": [
    "### Raising in exception"
   ]
  },
  {
   "cell_type": "markdown",
   "id": "chief-receptor",
   "metadata": {},
   "source": [
    "Using the 'raise' keyword, the programmer can throw an exception when a certain condition is reached."
   ]
  },
  {
   "cell_type": "code",
   "execution_count": null,
   "id": "frank-outreach",
   "metadata": {},
   "outputs": [],
   "source": [
    "num = int(input('Enter a number:'))\n",
    "print('The entered value is', num)\n",
    "try:\n",
    " if num>1000 and num %2 == 0 or num %2 !=0:\n",
    "    raise Exception('Do not allow to the even numbers higher than 1000.')\n",
    "except:\n",
    " print('Even or odd numbers higher than 1000 are not allowed!')\n",
    "else:\n",
    " print('This process is running with value = ', num)\n",
    "finally:\n",
    " print('The process is completed.')\n"
   ]
  },
  {
   "cell_type": "markdown",
   "id": "dominican-compact",
   "metadata": {},
   "source": [
    "## 11. Built-in Functions in Python"
   ]
  },
  {
   "cell_type": "markdown",
   "id": "weekly-acceptance",
   "metadata": {},
   "source": [
    "### abs()"
   ]
  },
  {
   "cell_type": "markdown",
   "id": "approved-prediction",
   "metadata": {},
   "source": [
    "Returns the absolute value of a number"
   ]
  },
  {
   "cell_type": "code",
   "execution_count": null,
   "id": "enabling-trial",
   "metadata": {},
   "outputs": [],
   "source": [
    "num1 = int(input('Enter a number: '))\n",
    "print('The entered number is', num1)\n",
    "num2 = float(input('Enter a number: '))\n",
    "print('The entered number is', num2)\n",
    "print('The absolute value of the first number is', abs(num1))\n",
    "print('The absolute number of the second number is', abs(num2))\n",
    "print('The difference between the two numbers is', abs(num1-num2))"
   ]
  },
  {
   "cell_type": "markdown",
   "id": "appointed-profile",
   "metadata": {},
   "source": [
    "### all()"
   ]
  },
  {
   "cell_type": "markdown",
   "id": "skilled-politics",
   "metadata": {},
   "source": [
    "Retturns True if all elements in passes iterable are true. When the iterable object is empty, it returns True. Here,\n",
    "0 and False return False in this function."
   ]
  },
  {
   "cell_type": "code",
   "execution_count": null,
   "id": "metric-booth",
   "metadata": {},
   "outputs": [],
   "source": [
    "nlis1 = [0.577, 1.618, 2.718, 3.14, 6, 28, 37, 1729]\n",
    "print(all(nlis1))\n",
    "nlis1.append(0) # Add '0' to the end of the list\n",
    "print(nlis1)\n",
    "print(all(nlis1))\n",
    "nlis1.append(False) # Adds 'False' to the end of the list\n",
    "print(nlis1)\n",
    "print(all(nlis1))\n",
    "nlis1.clear() # It returns an emtpy list\n",
    "print(nlis1)\n",
    "print(all(nlis1))"
   ]
  },
  {
   "cell_type": "markdown",
   "id": "afraid-transportation",
   "metadata": {},
   "source": [
    "### bin()"
   ]
  },
  {
   "cell_type": "markdown",
   "id": "interim-skill",
   "metadata": {},
   "source": [
    "Returns the binary representation of a specificied integer"
   ]
  },
  {
   "cell_type": "code",
   "execution_count": null,
   "id": "spatial-passenger",
   "metadata": {},
   "outputs": [],
   "source": [
    "num = int(input('Enter a number: '))\n",
    "print(f'The entered number is {num}.')\n",
    "print(f'The binary representation of {num} is {bin(num)}.')\n"
   ]
  },
  {
   "cell_type": "markdown",
   "id": "mexican-financing",
   "metadata": {},
   "source": [
    "### bool()"
   ]
  },
  {
   "cell_type": "markdown",
   "id": "interested-process",
   "metadata": {},
   "source": [
    "Converts a value to boolean, namely True and False"
   ]
  },
  {
   "cell_type": "code",
   "execution_count": null,
   "id": "intimate-parking",
   "metadata": {},
   "outputs": [],
   "source": [
    "lis, dict, tuple = [], {}, ()\n",
    "print(bool(lis), bool(dict), bool(tuple))\n",
    "lis, dict, tuple = [0], {'a': 1}, (1,)\n",
    "print(bool(lis), bool(dict), bool(tuple))\n",
    "lis, dict, tuple = [0.0], {'a': 1.0}, (1.0,)\n",
    "print(bool(lis), bool(dict), bool(tuple))\n",
    "a, b, c = 0, 3.14, 'Hello, Python!'\n",
    "print(bool(a), bool(b), bool(c))\n",
    "statement = None\n",
    "print(bool(None))\n",
    "true = True\n",
    "print(bool(true))\n"
   ]
  },
  {
   "cell_type": "markdown",
   "id": "adjusted-blast",
   "metadata": {},
   "source": [
    "### bytes()"
   ]
  },
  {
   "cell_type": "markdown",
   "id": "worst-worker",
   "metadata": {},
   "source": [
    "Returns a btyes object"
   ]
  },
  {
   "cell_type": "code",
   "execution_count": null,
   "id": "optional-biodiversity",
   "metadata": {},
   "outputs": [],
   "source": [
    "msg = 'Hello, Python!'\n",
    "new_msg = bytes(msg, 'utf-8')\n",
    "print(new_msg)\n"
   ]
  },
  {
   "cell_type": "markdown",
   "id": "sought-ethernet",
   "metadata": {},
   "source": [
    "### callable()"
   ]
  },
  {
   "cell_type": "markdown",
   "id": "rocky-syria",
   "metadata": {},
   "source": [
    "Checks and returns True if the object passed appears to be callable"
   ]
  },
  {
   "cell_type": "code",
   "execution_count": null,
   "id": "processed-israel",
   "metadata": {},
   "outputs": [],
   "source": [
    "var = 3.14\n",
    "print(callable(var)) # since the object does not appear callable, it returns False\n",
    "def function(): # since the object appears callable, it returns True\n",
    " print('Hi, Python!')\n",
    "msg = function\n",
    "print(callable(msg))\n"
   ]
  },
  {
   "cell_type": "markdown",
   "id": "rubber-validity",
   "metadata": {},
   "source": [
    "### chr()"
   ]
  },
  {
   "cell_type": "markdown",
   "id": "recorded-begin",
   "metadata": {},
   "source": [
    "It returns a character from the specified Unicode code."
   ]
  },
  {
   "cell_type": "code",
   "execution_count": null,
   "id": "still-installation",
   "metadata": {},
   "outputs": [],
   "source": [
    "print(chr(66))\n",
    "print(chr(89))\n",
    "print(chr(132))\n",
    "print(chr(1500))\n",
    "print(chr(3))\n",
    "print(chr(-500)) # The argument must be inside of the range."
   ]
  },
  {
   "cell_type": "markdown",
   "id": "hairy-seventh",
   "metadata": {},
   "source": [
    "### compile()"
   ]
  },
  {
   "cell_type": "markdown",
   "id": "mental-eclipse",
   "metadata": {},
   "source": [
    "Returns a code object that can subsequently be executed by exec() function"
   ]
  },
  {
   "cell_type": "code",
   "execution_count": null,
   "id": "close-massachusetts",
   "metadata": {},
   "outputs": [],
   "source": [
    "code_line = 'x=3.14\\ny=2.718\\nprint(\"Result =\", 2*x+5*y)'\n",
    "code = compile(code_line, 'Result.py', 'exec')\n",
    "print(type(code))\n",
    "exec(code)\n"
   ]
  },
  {
   "cell_type": "markdown",
   "id": "eastern-martin",
   "metadata": {},
   "source": [
    "### exec()"
   ]
  },
  {
   "cell_type": "markdown",
   "id": "wired-magazine",
   "metadata": {},
   "source": [
    "Executes the specified code or object"
   ]
  },
  {
   "cell_type": "code",
   "execution_count": null,
   "id": "higher-contest",
   "metadata": {},
   "outputs": [],
   "source": [
    "var = 3.14\n",
    "exec('print(var==3.14)')\n",
    "exec('print(var!=3.14)')\n",
    "exec('print(var+2.718)')"
   ]
  },
  {
   "cell_type": "markdown",
   "id": "modular-plaza",
   "metadata": {},
   "source": [
    "### getattr()"
   ]
  },
  {
   "cell_type": "markdown",
   "id": "social-casino",
   "metadata": {},
   "source": [
    "It returns the value of the specified attribute (property or method). If it is not found, it returns the default value."
   ]
  },
  {
   "cell_type": "code",
   "execution_count": null,
   "id": "signal-advance",
   "metadata": {},
   "outputs": [],
   "source": [
    "class SpecialNumbers:\n",
    " euler_constant = 0.577\n",
    " euler_number = 2.718\n",
    " pi = 3.14\n",
    " golden_ratio = 1.618\n",
    " msg = 'These numbers are special.'\n",
    "special_numbers = SpecialNumbers()\n",
    "print('The euler number is', getattr(special_numbers, 'euler_number'))\n",
    "print('The golden ratio is', special_numbers.golden_ratio)\n"
   ]
  },
  {
   "cell_type": "markdown",
   "id": "extra-period",
   "metadata": {},
   "source": [
    "### delattr()"
   ]
  },
  {
   "cell_type": "markdown",
   "id": "deadly-watershed",
   "metadata": {},
   "source": [
    "It deletes the specified attribute (property or method) from the specified object."
   ]
  },
  {
   "cell_type": "code",
   "execution_count": null,
   "id": "empty-effectiveness",
   "metadata": {},
   "outputs": [],
   "source": [
    "class SpecialNumbers:\n",
    "    euler_constant = 0.577\n",
    "    euler_number = 2.718\n",
    "    pi = 3.14\n",
    "    golden_ratio = 1.618\n",
    "    msg = 'These numbers are special.'\n",
    " \n",
    "def parameter(self):\n",
    "    print(self.euler_constant, self.euler_number, self.pi, self.golden_ratio, self.msg)\n",
    "special_numbers = SpecialNumbers()\n",
    "special_numbers.parameter()\n",
    "delattr(SpecialNumbers, 'msg') # The code deleted the 'msg'.\n",
    "special_numbers.parameter() # Since the code deleted the 'msg', it returns an AttributeError."
   ]
  },
  {
   "cell_type": "markdown",
   "id": "continent-lodge",
   "metadata": {},
   "source": [
    "### dict()"
   ]
  },
  {
   "cell_type": "markdown",
   "id": "collective-brunswick",
   "metadata": {},
   "source": [
    "It returns a dictionary (Array)."
   ]
  },
  {
   "cell_type": "code",
   "execution_count": null,
   "id": "governmental-swedish",
   "metadata": {},
   "outputs": [],
   "source": [
    "name = dict()\n",
    "print(name)\n",
    "dictionary = dict(euler_constant = 0.577, euler_number=2.718, golden_ratio=1.618)\n",
    "print(dictionary)"
   ]
  },
  {
   "cell_type": "markdown",
   "id": "future-inspection",
   "metadata": {},
   "source": [
    "### enumerate()"
   ]
  },
  {
   "cell_type": "markdown",
   "id": "opposed-ranch",
   "metadata": {},
   "source": [
    "It takes a collection (e.g. a tuple) and returns it as an enumerate object."
   ]
  },
  {
   "cell_type": "code",
   "execution_count": null,
   "id": "charitable-objective",
   "metadata": {},
   "outputs": [],
   "source": [
    "str_list = ['Hello Python!','Hello, World!']\n",
    "for i, str_list in enumerate(str_list):\n",
    " print(i, str_list)"
   ]
  },
  {
   "cell_type": "code",
   "execution_count": null,
   "id": "sporting-complaint",
   "metadata": {},
   "outputs": [],
   "source": [
    "str_list = ['Hello Python!','Hello, World!']\n",
    "enumerate_list = enumerate(str_list)\n",
    "print(list(enumerate_list))"
   ]
  },
  {
   "cell_type": "markdown",
   "id": "damaged-tenant",
   "metadata": {},
   "source": [
    "### filter()"
   ]
  },
  {
   "cell_type": "raw",
   "id": "global-pontiac",
   "metadata": {},
   "source": [
    "It excludes items in an iterable object."
   ]
  },
  {
   "cell_type": "code",
   "execution_count": null,
   "id": "passing-somalia",
   "metadata": {},
   "outputs": [],
   "source": [
    "def filtering(data):\n",
    "    if data > 30:\n",
    "        return data\n",
    "data = [0.577, 1.618, 2.718, 3.14, 6, 28, 37, 1729]\n",
    "result = filter(filtering, data)\n",
    "print(list(result))\n"
   ]
  },
  {
   "cell_type": "markdown",
   "id": "split-uzbekistan",
   "metadata": {},
   "source": [
    "### globals()"
   ]
  },
  {
   "cell_type": "markdown",
   "id": "packed-stupid",
   "metadata": {},
   "source": [
    " It returns the current global symbol table as a dictionary."
   ]
  },
  {
   "cell_type": "code",
   "execution_count": null,
   "id": "victorian-afternoon",
   "metadata": {},
   "outputs": [],
   "source": [
    "num = 37\n",
    "globals()['num'] = 3.14\n",
    "print(f'The number is {num}.')"
   ]
  },
  {
   "cell_type": "markdown",
   "id": "presidential-baptist",
   "metadata": {},
   "source": [
    "### frozen()"
   ]
  },
  {
   "cell_type": "markdown",
   "id": "arbitrary-whole",
   "metadata": {},
   "source": [
    "It returns a frozenset object"
   ]
  },
  {
   "cell_type": "code",
   "execution_count": null,
   "id": "british-rally",
   "metadata": {},
   "outputs": [],
   "source": [
    "nlis = [0.577, 1.618, 2.718, 3.14, 6, 28, 37, 1729]\n",
    "frozen_nlis = frozenset(nlis)\n",
    "print('Frozen set is', frozen_nlis)"
   ]
  },
  {
   "cell_type": "markdown",
   "id": "unique-cargo",
   "metadata": {},
   "source": [
    "### any()"
   ]
  },
  {
   "cell_type": "markdown",
   "id": "electronic-startup",
   "metadata": {},
   "source": [
    "It returns True if any iterable is True."
   ]
  },
  {
   "cell_type": "code",
   "execution_count": null,
   "id": "confident-north",
   "metadata": {},
   "outputs": [],
   "source": [
    "nlis = [0.577, 1.618, 2.718, 3.14, 6, 28, 37, 1729]\n",
    "print(nlis)\n",
    "print(any(nlis))\n",
    "nlis.clear()\n",
    "print(nlis)\n",
    "print(any(nlis)) # An emptly list returns False\n",
    "nlis.append(0)\n",
    "print(nlis)\n",
    "print(any(nlis)) # 0 in a list returns False\n",
    "nlis.append(False)\n",
    "print(nlis)\n",
    "print(any(nlis)) # False in a list returns False\n",
    "nlis.append(True)\n",
    "print(nlis)\n",
    "print(any(nlis)) # True in a list returns True\n",
    "nlis.append(1)\n",
    "print(nlis)\n",
    "print(any(nlis)) # 1 in a list returns True\n",
    "nlis.clear()\n",
    "nlis.append(None)\n",
    "print(nlis)\n",
    "print(any(nlis)) # None in a list returns False"
   ]
  },
  {
   "cell_type": "markdown",
   "id": "strong-scottish",
   "metadata": {},
   "source": [
    "### ascii()"
   ]
  },
  {
   "cell_type": "markdown",
   "id": "german-baptist",
   "metadata": {},
   "source": [
    "It returns a string including a printable representation of an object and escapes non-ASCII characters in the\n",
    "string employing \\u, \\x or \\U escapes"
   ]
  },
  {
   "cell_type": "code",
   "execution_count": null,
   "id": "consecutive-firewall",
   "metadata": {},
   "outputs": [],
   "source": [
    "txt = 'Hello, Python!'\n",
    "print(ascii(txt))\n",
    "text = 'Hello, Pythän!'\n",
    "print(ascii(text))\n",
    "print('Hello, Pyth\\xe4n!')\n",
    "msg = 'Hellü, World!'\n",
    "print(ascii(msg))\n",
    "print('Hell\\xfc, World!')"
   ]
  },
  {
   "cell_type": "markdown",
   "id": "shaped-guatemala",
   "metadata": {},
   "source": [
    "### bytearray()"
   ]
  },
  {
   "cell_type": "markdown",
   "id": "metric-finance",
   "metadata": {},
   "source": [
    "It returns a new array of bytes."
   ]
  },
  {
   "cell_type": "code",
   "execution_count": null,
   "id": "endangered-screw",
   "metadata": {},
   "outputs": [],
   "source": [
    "txt = 'Hello, Python!'\n",
    "print(bytearray(txt, 'utf-8')) # String with encoding 'UTF-8'\n",
    "int_num = 37\n",
    "print(bytearray(int_num))\n",
    "nlis = [0, 1, 1, 2, 3, 5, 8, 13, 21, 34] # Fibonacci numbers\n",
    "print(bytearray(nlis))\n",
    "float_num = 3.14\n",
    "print(bytearray(float_num)) # It returns TypeError"
   ]
  },
  {
   "cell_type": "markdown",
   "id": "checked-patient",
   "metadata": {},
   "source": [
    "### hasattr()"
   ]
  },
  {
   "cell_type": "markdown",
   "id": "grateful-investment",
   "metadata": {},
   "source": [
    "It returns True if the specified object has the specified attribute (property/method)."
   ]
  },
  {
   "cell_type": "code",
   "execution_count": null,
   "id": "statistical-weight",
   "metadata": {},
   "outputs": [],
   "source": [
    "class SpecialNumbers:\n",
    " euler_constant = 0.577\n",
    " euler_number = 2.718\n",
    " pi = 3.14\n",
    " golden_ratio = 1.618\n",
    " msg = 'These numbers are special.'\n",
    "special_numbers = SpecialNumbers()\n",
    "print('The euler number is', hasattr(special_numbers, 'euler_number'))\n",
    "print('The golden ratio is', hasattr(special_numbers, 'golden_ratio'))\n",
    "print('The golden ratio is', hasattr(special_numbers, 'prime_number')) # Since there is no prime number, the output"
   ]
  },
  {
   "cell_type": "markdown",
   "id": "addressed-spell",
   "metadata": {},
   "source": [
    "### hash()"
   ]
  },
  {
   "cell_type": "markdown",
   "id": "cooked-damages",
   "metadata": {},
   "source": [
    "It returns the hash value of a specified object."
   ]
  },
  {
   "cell_type": "code",
   "execution_count": null,
   "id": "political-finder",
   "metadata": {},
   "outputs": [],
   "source": [
    "print(hash(3.14))\n",
    "print(hash(0.577))\n",
    "print(hash('Hello, Python!'))\n",
    "print(hash(1729))\n",
    "n_tuple = (0.577, 1.618, 2.718, 3.14, 6, 28, 37, 1729)\n",
    "print(hash(n_tuple))\n"
   ]
  },
  {
   "cell_type": "markdown",
   "id": "magnetic-matthew",
   "metadata": {},
   "source": [
    "### help()"
   ]
  },
  {
   "cell_type": "markdown",
   "id": "close-batch",
   "metadata": {},
   "source": [
    "Executes the built-in help system"
   ]
  },
  {
   "cell_type": "code",
   "execution_count": null,
   "id": "narrative-traffic",
   "metadata": {},
   "outputs": [],
   "source": [
    "import pandas as pd\n",
    "help(pd) # You can find more information about pandas."
   ]
  },
  {
   "cell_type": "markdown",
   "id": "continental-tunnel",
   "metadata": {},
   "source": [
    "### id()"
   ]
  },
  {
   "cell_type": "markdown",
   "id": "comparable-walnut",
   "metadata": {},
   "source": [
    "Returns the id of an object"
   ]
  },
  {
   "cell_type": "code",
   "execution_count": null,
   "id": "innovative-workplace",
   "metadata": {},
   "outputs": [],
   "source": [
    "print(id('Hello, Python!'))\n",
    "print(id(3.14))\n",
    "print(id(1729))\n",
    "special_nums_list = [0.577, 1.618, 2.718, 3.14, 28, 37, 1729]\n",
    "print(id(special_nums_list))\n",
    "special_nums_tuple = (0.577, 1.618, 2.718, 3.14, 28, 37, 1729)\n",
    "print(id(special_nums_tuple))\n",
    "special_nums_set = {0.577, 1.618, 2.718, 3.14, 28, 37, 1729}\n",
    "print(id(special_nums_set))\n",
    "special_nums_dict = {'Euler constant': 0.577, 'Golden ratio': 1.618, \n",
    " 'Euler number': 2.718, 'PI number': 3.14, \n",
    " 'Perfect number': 28, 'Prime number': 37, \n",
    " 'Ramanujan Hardy number': 1729}\n",
    "print(id(special_nums_dict))"
   ]
  },
  {
   "cell_type": "markdown",
   "id": "documentary-possibility",
   "metadata": {},
   "source": [
    "### eval()"
   ]
  },
  {
   "cell_type": "markdown",
   "id": "simple-detection",
   "metadata": {},
   "source": [
    "This function evaluates and executes an expression."
   ]
  },
  {
   "cell_type": "code",
   "execution_count": null,
   "id": "daily-authorization",
   "metadata": {},
   "outputs": [],
   "source": [
    "num = int(input('Enter a number: '))\n",
    "print(f'The entered number is {num}.')\n",
    "print(eval('num*num'))"
   ]
  },
  {
   "cell_type": "markdown",
   "id": "automated-judges",
   "metadata": {},
   "source": [
    "### map()"
   ]
  },
  {
   "cell_type": "markdown",
   "id": "specific-parallel",
   "metadata": {},
   "source": [
    "It returns the specified iterator with the specified function applied to each item."
   ]
  },
  {
   "cell_type": "code",
   "execution_count": null,
   "id": "seventh-stuff",
   "metadata": {},
   "outputs": [],
   "source": [
    "special_nums = [0.577, 1.618, 2.718, 3.14, 28, 37, 1729]\n",
    "def division(number):\n",
    " return number/number\n",
    "division_number_iterator = map(division, special_nums)\n",
    "divided_nums = list(division_number_iterator)\n",
    "print(divided_nums)\n",
    "# Similar codings can be made for other operations"
   ]
  },
  {
   "cell_type": "markdown",
   "id": "another-render",
   "metadata": {},
   "source": [
    "### len()"
   ]
  },
  {
   "cell_type": "markdown",
   "id": "mexican-thanksgiving",
   "metadata": {},
   "source": [
    "It returns the length of an object"
   ]
  },
  {
   "cell_type": "code",
   "execution_count": null,
   "id": "labeled-career",
   "metadata": {},
   "outputs": [],
   "source": [
    "special_nums = [0.577, 1.618, 2.718, 3.14, 6, 28, 37, 1729]\n",
    "print('The length of the list is', len(special_nums))\n"
   ]
  },
  {
   "cell_type": "code",
   "execution_count": null,
   "id": "romance-skating",
   "metadata": {},
   "outputs": [],
   "source": [
    "# Calculate the average of values in the following list\n",
    "special_nums = [0.577, 1.618, 2.718, 3.14, 6, 28, 37, 1729]\n",
    "count = 0\n",
    "for i in special_nums:\n",
    " count = count + i\n",
    "print('The average of the values in the list is', count/len(special_nums))\n"
   ]
  },
  {
   "cell_type": "markdown",
   "id": "athletic-royal",
   "metadata": {},
   "source": [
    "### min()"
   ]
  },
  {
   "cell_type": "markdown",
   "id": "peripheral-snowboard",
   "metadata": {},
   "source": [
    "Returns the smallest item in an iterable"
   ]
  },
  {
   "cell_type": "code",
   "execution_count": null,
   "id": "virgin-cannon",
   "metadata": {},
   "outputs": [],
   "source": [
    "special_nums = [0.577, 1.618, 2.718, 3.14, 6, 28, 37, 1729]\n",
    "print(min(special_nums))"
   ]
  },
  {
   "cell_type": "markdown",
   "id": "stopped-possible",
   "metadata": {},
   "source": [
    "### max()"
   ]
  },
  {
   "cell_type": "markdown",
   "id": "awful-apple",
   "metadata": {},
   "source": [
    "Returns the largest item in an iterable"
   ]
  },
  {
   "cell_type": "code",
   "execution_count": null,
   "id": "suspended-regression",
   "metadata": {},
   "outputs": [],
   "source": [
    "special_nums = [0.577, 1.618, 2.718, 3.14, 6, 28, 37, 1729]\n",
    "print(max(special_nums))\n"
   ]
  },
  {
   "cell_type": "markdown",
   "id": "celtic-blair",
   "metadata": {},
   "source": [
    "### sum()"
   ]
  },
  {
   "cell_type": "markdown",
   "id": "northern-anatomy",
   "metadata": {},
   "source": [
    "To get the sum of numbers in a list"
   ]
  },
  {
   "cell_type": "code",
   "execution_count": null,
   "id": "important-chosen",
   "metadata": {},
   "outputs": [],
   "source": [
    "special_nums = [0.577, 1.618, 2.718, 3.14, 6, 28, 37, 1729]\n",
    "print(sum(special_nums))"
   ]
  },
  {
   "cell_type": "markdown",
   "id": "appreciated-documentary",
   "metadata": {},
   "source": [
    "### float()"
   ]
  },
  {
   "cell_type": "markdown",
   "id": "dried-acceptance",
   "metadata": {},
   "source": [
    "It returns a floating point number."
   ]
  },
  {
   "cell_type": "code",
   "execution_count": null,
   "id": "ceramic-faith",
   "metadata": {},
   "outputs": [],
   "source": [
    "int_num = 37\n",
    "print(float(int_num))\n",
    "float_num = 3.14\n",
    "print(float(float_num))\n",
    "txt = '2.718'\n",
    "print(float(txt))\n",
    "msg = 'Hello, Python!' # It resturns a ValueError\n",
    "print(float(msg))\n"
   ]
  },
  {
   "cell_type": "markdown",
   "id": "infectious-figure",
   "metadata": {},
   "source": [
    "### locals()"
   ]
  },
  {
   "cell_type": "markdown",
   "id": "stuffed-munich",
   "metadata": {},
   "source": [
    "It returns an updated dictionary of the current local symbol table."
   ]
  },
  {
   "cell_type": "code",
   "execution_count": null,
   "id": "fantastic-mistress",
   "metadata": {},
   "outputs": [],
   "source": [
    "def function():\n",
    "    variable = True\n",
    "    print(variable)\n",
    "    locals()['variable'] = False # locals() dictionary may not change the information inside the locals table.\n",
    "    print(variable)\n",
    "function()\n"
   ]
  },
  {
   "cell_type": "code",
   "execution_count": null,
   "id": "silent-technical",
   "metadata": {},
   "outputs": [],
   "source": [
    "def dict_1():\n",
    " return locals()\n",
    "def dict_2():\n",
    " program = 'Python'\n",
    " return locals()\n",
    "print('If there is no locals(), it returns an empty dictionary', dict_1())\n",
    "print('If there is locals(), it returns a dictionary', dict_2())"
   ]
  },
  {
   "cell_type": "markdown",
   "id": "experienced-trading",
   "metadata": {},
   "source": [
    "### format()"
   ]
  },
  {
   "cell_type": "markdown",
   "id": "owned-housing",
   "metadata": {},
   "source": [
    "This function formats a specified value. d, f, and b are a type."
   ]
  },
  {
   "cell_type": "code",
   "execution_count": null,
   "id": "processed-crack",
   "metadata": {},
   "outputs": [],
   "source": [
    "# integer format\n",
    "int_num = 37\n",
    "print(format(int_num, 'd'))\n",
    "# float numbers\n",
    "float_num = 2.7182818284\n",
    "print(format(float_num, 'f'))\n",
    "# binary format\n",
    "num = 1729\n",
    "print(format(num, 'b'))"
   ]
  },
  {
   "cell_type": "markdown",
   "id": "fantastic-purchase",
   "metadata": {},
   "source": [
    "### hex()"
   ]
  },
  {
   "cell_type": "markdown",
   "id": "international-chance",
   "metadata": {},
   "source": [
    "Converts a number into a hexadecimal value"
   ]
  },
  {
   "cell_type": "code",
   "execution_count": null,
   "id": "optional-combination",
   "metadata": {},
   "outputs": [],
   "source": [
    "print(hex(6))\n",
    "print(hex(37))\n",
    "print(hex(1729))"
   ]
  },
  {
   "cell_type": "markdown",
   "id": "tough-earthquake",
   "metadata": {},
   "source": [
    "### input()"
   ]
  },
  {
   "cell_type": "markdown",
   "id": "likely-playing",
   "metadata": {},
   "source": [
    "Allowing user input"
   ]
  },
  {
   "cell_type": "code",
   "execution_count": null,
   "id": "hearing-projection",
   "metadata": {},
   "outputs": [],
   "source": [
    "txt = input('Enter a message: ')\n",
    "print('The entered message is', txt)"
   ]
  },
  {
   "cell_type": "markdown",
   "id": "oriental-reputation",
   "metadata": {},
   "source": [
    "### int()"
   ]
  },
  {
   "cell_type": "markdown",
   "id": "ranking-richardson",
   "metadata": {},
   "source": [
    "Returns an integer number"
   ]
  },
  {
   "cell_type": "code",
   "execution_count": null,
   "id": "communist-teacher",
   "metadata": {},
   "outputs": [],
   "source": [
    "num1 = int(6)\n",
    "num2 = int(3.14)\n",
    "num3 = int('28')\n",
    "print(f'The numbers are {num1}, {num2},and {num3}.')\n"
   ]
  },
  {
   "cell_type": "markdown",
   "id": "animal-progressive",
   "metadata": {},
   "source": [
    "### isinstance()"
   ]
  },
  {
   "cell_type": "markdown",
   "id": "local-traffic",
   "metadata": {},
   "source": [
    "It checks if the object (first argument) is an instance or subclass of classinfo class (second argument)."
   ]
  },
  {
   "cell_type": "code",
   "execution_count": null,
   "id": "uniform-fantasy",
   "metadata": {},
   "outputs": [],
   "source": [
    "special_nums = [0.577, 1.618, 2.718, 3.14, 6, 28, 37, 1729]\n",
    "result = isinstance(special_nums, list)\n",
    "print(result)\n"
   ]
  },
  {
   "cell_type": "code",
   "execution_count": null,
   "id": "lesser-evolution",
   "metadata": {},
   "outputs": [],
   "source": [
    "class SpecialNumbers:\n",
    " euler_constant = 0.577\n",
    " euler_number = 2.718\n",
    " pi = 3.14\n",
    " golden_ratio = 1.618\n",
    " msg = 'These numbers are very special'\n",
    " \n",
    " def __init__(self, euler_constant, euler_number, pi, golden_ratio, msg):\n",
    "    self.euler_constant = euler_constant\n",
    "    self.euler_number = euler_number\n",
    "    self.pi = pi\n",
    "    self.golden_ratio = golden_ratio\n",
    "    self.msg = msg\n",
    "special_numbers = SpecialNumbers(0.577, 2.718, 3.14, 1.618, 'These numbers are very special.')\n",
    "nums = [0, 1, 1, 2, 3, 5, 8, 13, 21, 34]\n",
    "print(isinstance(special_numbers, SpecialNumbers))\n",
    "print(isinstance(nums, SpecialNumbers))\n"
   ]
  },
  {
   "cell_type": "markdown",
   "id": "outdoor-machinery",
   "metadata": {},
   "source": [
    "### issubclass()"
   ]
  },
  {
   "cell_type": "markdown",
   "id": "owned-fundamental",
   "metadata": {},
   "source": [
    "Checks if the class argument (first argument) is a subclass of classinfo class (second argument)."
   ]
  },
  {
   "cell_type": "code",
   "execution_count": null,
   "id": "racial-stake",
   "metadata": {},
   "outputs": [],
   "source": [
    "class Circle:\n",
    "    def __init__(circleType):\n",
    "        print('Circle is a ', circleType)\n",
    " \n",
    "class Square(Circle):\n",
    "    def __init__(self):\n",
    " \n",
    "        Circle.__init__('square')\n",
    " \n",
    "print(issubclass(Square, Circle))\n",
    "print(issubclass(Square, list))\n",
    "print(issubclass(Square, (list, Circle)))\n",
    "print(issubclass(Circle, (list, Circle)))"
   ]
  },
  {
   "cell_type": "markdown",
   "id": "offensive-reggae",
   "metadata": {},
   "source": [
    "### iter()"
   ]
  },
  {
   "cell_type": "markdown",
   "id": "dental-practice",
   "metadata": {},
   "source": [
    "It returns an iterator object."
   ]
  },
  {
   "cell_type": "code",
   "execution_count": null,
   "id": "terminal-species",
   "metadata": {},
   "outputs": [],
   "source": [
    "special_nums = [0.577, 1.618, 2.718, 3.14, 6, 28, 37, 1729]\n",
    "special_nums_iter = iter(special_nums)\n",
    "print('Euler constant is', next(special_nums_iter))\n",
    "print('The golden ratio is', next(special_nums_iter))\n",
    "print('Euler number is', next(special_nums_iter))\n",
    "print('Pi number is', next(special_nums_iter))\n",
    "print(next(special_nums_iter), 'is a perfect number.')\n",
    "print(next(special_nums_iter), 'is a perfect number.')\n",
    "print(next(special_nums_iter), 'is a special and prime number.')\n",
    "print(next(special_nums_iter), 'is Ramanujan-Hardy number.')\n"
   ]
  },
  {
   "cell_type": "markdown",
   "id": "dramatic-celebrity",
   "metadata": {},
   "source": [
    "### object()"
   ]
  },
  {
   "cell_type": "markdown",
   "id": "selective-edward",
   "metadata": {},
   "source": [
    "It returns a new object"
   ]
  },
  {
   "cell_type": "code",
   "execution_count": null,
   "id": "married-bernard",
   "metadata": {},
   "outputs": [],
   "source": [
    "name= object()\n",
    "print(type(name))\n",
    "print(dir(name))"
   ]
  },
  {
   "cell_type": "markdown",
   "id": "incorporated-director",
   "metadata": {},
   "source": [
    "### oct()"
   ]
  },
  {
   "cell_type": "markdown",
   "id": "bizarre-accounting",
   "metadata": {},
   "source": [
    "It returns an octal string from the given integer number. The oct() function takes an integer number and returns\n",
    "its octal representation."
   ]
  },
  {
   "cell_type": "code",
   "execution_count": null,
   "id": "roman-strategy",
   "metadata": {},
   "outputs": [],
   "source": [
    "num = int(input('Enter a number:'))\n",
    "print(f'The octal value of {num} us {oct(num)}.')\n"
   ]
  },
  {
   "cell_type": "code",
   "execution_count": null,
   "id": "driving-dancing",
   "metadata": {},
   "outputs": [],
   "source": [
    "# decimal to octal\n",
    "print('oct(1729) is:', oct(1729))\n",
    "# binary to octal\n",
    "print('oct(0b101) is:', oct(0b101))\n",
    "# hexadecimal to octal\n",
    "print('oct(0XA) is:', oct(0XA))\n"
   ]
  },
  {
   "cell_type": "markdown",
   "id": "polar-clothing",
   "metadata": {},
   "source": [
    "### list()"
   ]
  },
  {
   "cell_type": "markdown",
   "id": "southwest-software",
   "metadata": {},
   "source": [
    "It creates a list in Python."
   ]
  },
  {
   "cell_type": "code",
   "execution_count": null,
   "id": "environmental-typing",
   "metadata": {},
   "outputs": [],
   "source": [
    "print(list())\n",
    "txt = 'Python'\n",
    "print(list(txt))\n",
    "special_nums_set = {0.577, 1.618, 2.718, 3.14, 6, 28, 37, 1729}\n",
    "print(list(special_nums_set))\n",
    "special_nums_tuple = (0.577, 1.618, 2.718, 3.14, 6, 28, 37, 1729)\n",
    "print(list(special_nums_tuple))\n",
    "special_nums_dict = {'Euler constant': 0.577, \n",
    " 'Golden ratio': 1.618, \n",
    " 'Euler number': 2.718, \n",
    " 'Pi number': 3.14, \n",
    " 'Perfect number': 6, \n",
    " 'Prime number': 37, \n",
    " 'Ramanujan Hardy number': 1729}\n",
    "print(list(special_nums_dict))\n"
   ]
  },
  {
   "cell_type": "markdown",
   "id": "korean-lawyer",
   "metadata": {},
   "source": [
    "### memoryview()"
   ]
  },
  {
   "cell_type": "markdown",
   "id": "popular-arlington",
   "metadata": {},
   "source": [
    "It returns a memory view object."
   ]
  },
  {
   "cell_type": "code",
   "execution_count": null,
   "id": "atomic-regular",
   "metadata": {},
   "outputs": [],
   "source": [
    "ba = bytearray('XYZ', 'utf-8')\n",
    "mv = memoryview(ba)\n",
    "print(mv)\n",
    "print(mv[0])\n",
    "print(mv[1])\n",
    "print(mv[2])\n",
    "print(bytes(mv[0:2]))\n",
    "print(list(mv[:]))\n",
    "print(set(mv[:]))\n",
    "print(tuple(mv[:]))\n",
    "mv[1] = 65 # 'Y' was replaced with 'A'\n",
    "print(list(mv[:])) \n",
    "print(ba)\n"
   ]
  },
  {
   "cell_type": "code",
   "execution_count": null,
   "id": "mechanical-volunteer",
   "metadata": {},
   "outputs": [],
   "source": [
    "special_nums = [0.577, 1.618, 2.718, 3.14, 6, 28, 37, 1729]\n",
    "number = iter(special_nums) # Create an iteration\n",
    "item = next(number) # First item\n",
    "print(item)\n",
    "item = next(number) # Second item\n",
    "print(item)\n",
    "item = next(number) # Third item, etc\n",
    "print(item)\n",
    "item = next(number)\n",
    "print(item)\n",
    "item = next(number)\n",
    "print(item)\n",
    "item = next(number)\n",
    "print(item)\n",
    "item = next(number)\n",
    "print(item)\n",
    "item = next(number)\n",
    "print(item)\n"
   ]
  },
  {
   "cell_type": "markdown",
   "id": "alone-sitting",
   "metadata": {},
   "source": [
    "### Read image"
   ]
  },
  {
   "cell_type": "code",
   "execution_count": null,
   "id": "ceramic-chick",
   "metadata": {},
   "outputs": [],
   "source": [
    "pip install Pillow"
   ]
  },
  {
   "cell_type": "code",
   "execution_count": null,
   "id": "automated-morrison",
   "metadata": {},
   "outputs": [],
   "source": [
    "from PIL import Image\n",
    "\n",
    "# Open an image file\n",
    "image_path = \"open.png\"\n",
    "image = Image.open(image_path)\n",
    "\n",
    "# You can now work with the 'image' object\n"
   ]
  },
  {
   "cell_type": "code",
   "execution_count": null,
   "id": "pending-transition",
   "metadata": {},
   "outputs": [],
   "source": [
    "image"
   ]
  },
  {
   "cell_type": "code",
   "execution_count": null,
   "id": "human-exhaust",
   "metadata": {},
   "outputs": [],
   "source": [
    "path = \"authors.txt\"\n",
    "file = open(path, mode = 'r', encoding='utf-8')\n",
    "print(file.name)\n",
    "print(file.read())"
   ]
  },
  {
   "cell_type": "code",
   "execution_count": null,
   "id": "green-mirror",
   "metadata": {},
   "outputs": [],
   "source": [
    "# Open file using with\n",
    "path = \"authors.txt\"\n",
    "with open(path, \"r\") as file:\n",
    " FileContent = file.read()\n",
    " print(FileContent)\n"
   ]
  },
  {
   "cell_type": "markdown",
   "id": "opposite-acoustic",
   "metadata": {},
   "source": [
    "### complex()"
   ]
  },
  {
   "cell_type": "markdown",
   "id": "subtle-raising",
   "metadata": {},
   "source": [
    "It returns a complex number."
   ]
  },
  {
   "cell_type": "code",
   "execution_count": null,
   "id": "animal-converter",
   "metadata": {},
   "outputs": [],
   "source": [
    "print(complex(1))\n",
    "print(complex(2, 2))\n",
    "print(complex(3.14, 1.618))\n"
   ]
  },
  {
   "cell_type": "markdown",
   "id": "gross-retail",
   "metadata": {},
   "source": [
    "### dir()"
   ]
  },
  {
   "cell_type": "markdown",
   "id": "descending-video",
   "metadata": {},
   "source": [
    "It returns a list of the specified object's properties and methods."
   ]
  },
  {
   "cell_type": "code",
   "execution_count": null,
   "id": "gentle-azerbaijan",
   "metadata": {},
   "outputs": [],
   "source": [
    "name = dir()\n",
    "print(name)\n",
    "print()\n",
    "number = 3.14\n",
    "print(dir(number))\n",
    "print()\n",
    "nlis = [3.14]\n",
    "print(dir(nlis))\n",
    "print()\n",
    "nset = {3.14}\n",
    "print(dir(nset))"
   ]
  },
  {
   "cell_type": "markdown",
   "id": "aging-launch",
   "metadata": {},
   "source": [
    "### divmod()"
   ]
  },
  {
   "cell_type": "markdown",
   "id": "adjusted-florence",
   "metadata": {},
   "source": [
    "It returns the quotient and the remainder when argument1 is divided by argument2."
   ]
  },
  {
   "cell_type": "code",
   "execution_count": null,
   "id": "union-filter",
   "metadata": {},
   "outputs": [],
   "source": [
    "print(divmod(3.14, 0.577))\n",
    "print(divmod(9, 3))\n",
    "print(divmod(12, 5))\n",
    "print(divmod('Hello', 'Python!')) # It returns TypeError.\n"
   ]
  },
  {
   "cell_type": "markdown",
   "id": "dangerous-barcelona",
   "metadata": {},
   "source": [
    "### set()"
   ]
  },
  {
   "cell_type": "markdown",
   "id": "exposed-ordinary",
   "metadata": {},
   "source": [
    "It returns a new set object."
   ]
  },
  {
   "cell_type": "code",
   "execution_count": null,
   "id": "weighted-democrat",
   "metadata": {},
   "outputs": [],
   "source": [
    "print(set())\n",
    "print(set('3.15'))\n",
    "print(set('Hello Python!'))\n",
    "special_nums = [0.577, 1.618, 2.718, 3.14, 6, 28, 37, 1729]\n",
    "print(set(special_nums))\n",
    "print(set(range(2, 9)))\n",
    "special_nums_dict = {'Euler constant': 0.577, 'Golden ratio': 1.618, 'Euler number': 2.718, 'Pi number': 3.14, 'Perfect number':6}\n",
    "print(set(special_nums_dict))"
   ]
  },
  {
   "cell_type": "markdown",
   "id": "worse-armstrong",
   "metadata": {},
   "source": [
    "### setattr()"
   ]
  },
  {
   "cell_type": "markdown",
   "id": "needed-prague",
   "metadata": {},
   "source": [
    "Sets an attribute (property/method) of an object"
   ]
  },
  {
   "cell_type": "code",
   "execution_count": null,
   "id": "least-cleaners",
   "metadata": {},
   "outputs": [],
   "source": [
    "class SpecialNumbers:\n",
    " euler_constant = 0.0\n",
    " euler_number = 0.0\n",
    " pi = 0.0\n",
    " golden_ratio = 0.0\n",
    " msg = ''\n",
    " \n",
    " def __init__(self, euler_constant, euler_number, pi, golden_ratio, msg):\n",
    "    self.euler_constant = euler_constant\n",
    "    self.euler_number = euler_number\n",
    "    self.pi = pi\n",
    "    self.golden_ratio = golden_ratio\n",
    "    self.msg = msg\n",
    "special_numbers = SpecialNumbers(0.577, 2.718, 3.14, 1.618, 'These numbers are special.')\n",
    "print(special_numbers.euler_constant)\n",
    "print(special_numbers.euler_number)\n",
    "print(special_numbers.pi)\n",
    "print(special_numbers.golden_ratio)\n",
    "print(special_numbers.msg)\n",
    "setattr(special_numbers, 'Ramanujan_Hardy_number', 1729)\n",
    "print(special_numbers.Ramanujan_Hardy_number)\n"
   ]
  },
  {
   "cell_type": "markdown",
   "id": "hollywood-baltimore",
   "metadata": {},
   "source": [
    "### slice()"
   ]
  },
  {
   "cell_type": "markdown",
   "id": "looking-hearts",
   "metadata": {},
   "source": [
    "Returns a slice object that is used to slice any sequence (string, tuple, list, range, or bytes)."
   ]
  },
  {
   "cell_type": "code",
   "execution_count": null,
   "id": "modular-partition",
   "metadata": {},
   "outputs": [],
   "source": [
    "print(slice(2.718))\n",
    "print(slice(0.577, 1.618, 3.14))\n",
    "msg = 'Hello, Python!'\n",
    "sliced_msg = slice(5)\n",
    "print(msg[sliced_msg])\n",
    "special_nums = [0.577, 1.618, 2.718, 3.14, 6, 28, 37, 1729]\n",
    "sliced_list = slice(4)\n",
    "print(special_nums[sliced_list])\n",
    "sliced_list = slice(-1, -6, -2)\n",
    "print(special_nums[sliced_list])\n",
    "print(special_nums[0:4]) # Slicing with indexing\n",
    "print(special_nums[-4:-1])"
   ]
  },
  {
   "cell_type": "markdown",
   "id": "registered-fetish",
   "metadata": {},
   "source": [
    "### sorted()"
   ]
  },
  {
   "cell_type": "markdown",
   "id": "racial-receiver",
   "metadata": {},
   "source": [
    "Returns a sorted list"
   ]
  },
  {
   "cell_type": "code",
   "execution_count": null,
   "id": "opposed-pixel",
   "metadata": {},
   "outputs": [],
   "source": [
    "special_nums = [2.718, 1729, 0.577, 1.618, 28, 3.14, 6, 37]\n",
    "print(sorted(special_nums))\n",
    "txt = 'Hello, Python!'\n",
    "print(sorted(txt))\n"
   ]
  },
  {
   "cell_type": "markdown",
   "id": "supported-milton",
   "metadata": {},
   "source": [
    "### ord()"
   ]
  },
  {
   "cell_type": "markdown",
   "id": "deadly-mineral",
   "metadata": {},
   "source": [
    "- Convert an integer representing the Unicode of the specified character\n",
    "- Type Markdown and LaTeX: 𝛼2"
   ]
  },
  {
   "cell_type": "code",
   "execution_count": null,
   "id": "unauthorized-wagner",
   "metadata": {},
   "outputs": [],
   "source": [
    "print(ord('9'))\n",
    "print(ord('X'))\n",
    "print(ord('W'))\n",
    "print(ord('^'))"
   ]
  },
  {
   "cell_type": "markdown",
   "id": "bored-token",
   "metadata": {},
   "source": [
    "### pow()"
   ]
  },
  {
   "cell_type": "markdown",
   "id": "suspected-input",
   "metadata": {},
   "source": [
    "The pow() function returns the power of a number."
   ]
  },
  {
   "cell_type": "code",
   "execution_count": null,
   "id": "associate-recognition",
   "metadata": {},
   "outputs": [],
   "source": [
    "print(pow(2.718, 3.14))\n",
    "print(pow(-25, -2))\n",
    "print(pow(16, 3))\n",
    "print(pow(-6, 2))\n",
    "print(pow(6, -2))\n"
   ]
  },
  {
   "cell_type": "markdown",
   "id": "graphic-assurance",
   "metadata": {},
   "source": [
    "### print()"
   ]
  },
  {
   "cell_type": "markdown",
   "id": "brazilian-youth",
   "metadata": {},
   "source": [
    "It prints the given object to the standard output device (screen) or to the text stream file."
   ]
  },
  {
   "cell_type": "code",
   "execution_count": null,
   "id": "hidden-designer",
   "metadata": {},
   "outputs": [],
   "source": [
    "msg = 'Hello, Python!'\n",
    "print(msg)\n"
   ]
  },
  {
   "cell_type": "markdown",
   "id": "choice-brick",
   "metadata": {},
   "source": [
    "### range()"
   ]
  },
  {
   "cell_type": "markdown",
   "id": "buried-hands",
   "metadata": {},
   "source": [
    " Returns a sequence of numbers between the given start integer to the stop integer."
   ]
  },
  {
   "cell_type": "code",
   "execution_count": null,
   "id": "identified-hungarian",
   "metadata": {},
   "outputs": [],
   "source": [
    "print(list(range(0)))\n",
    "print(list(range(9)))\n",
    "print(list(range(2, 9)))\n",
    "for i in range(2, 9):\n",
    " print(i)"
   ]
  },
  {
   "cell_type": "markdown",
   "id": "domestic-horizon",
   "metadata": {},
   "source": [
    "### reversed()"
   ]
  },
  {
   "cell_type": "markdown",
   "id": "turkish-prior",
   "metadata": {},
   "source": [
    "Returns the reversed iterator of the given sequence"
   ]
  },
  {
   "cell_type": "code",
   "execution_count": null,
   "id": "congressional-manitoba",
   "metadata": {},
   "outputs": [],
   "source": [
    "txt = 'Python'\n",
    "print(list(reversed(txt)))\n",
    "special_nums = [2.718, 1729, 0.577, 1.618, 28, 3.14, 6, 37]\n",
    "print(list(reversed(special_nums)))\n",
    "nums = range(6, 28)\n",
    "print(list(reversed(nums)))\n",
    "special_nums_tuple = (2.718, 1729, 0.577, 1.618, 28, 3.14, 6, 37)\n",
    "print(list(reversed(special_nums_tuple)))"
   ]
  },
  {
   "cell_type": "markdown",
   "id": "liberal-waterproof",
   "metadata": {},
   "source": [
    "### round()"
   ]
  },
  {
   "cell_type": "markdown",
   "id": "moderate-receptor",
   "metadata": {},
   "source": [
    "Returns a floating-point number rounded to the specified number of decimals."
   ]
  },
  {
   "cell_type": "code",
   "execution_count": null,
   "id": "hundred-extent",
   "metadata": {},
   "outputs": [],
   "source": [
    "print(round(3.14))\n",
    "print(round(2.718))\n",
    "print(round(0.577))\n",
    "print(round(1.618))\n",
    "print(round(1729))"
   ]
  },
  {
   "cell_type": "markdown",
   "id": "structural-orbit",
   "metadata": {},
   "source": [
    "### str()"
   ]
  },
  {
   "cell_type": "markdown",
   "id": "brazilian-diabetes",
   "metadata": {},
   "source": [
    "Returns the string version of the given object."
   ]
  },
  {
   "cell_type": "code",
   "execution_count": null,
   "id": "understood-administrator",
   "metadata": {},
   "outputs": [],
   "source": [
    "num = 3.14\n",
    "val = str(num)\n",
    "print(val)\n",
    "print(type(val))"
   ]
  },
  {
   "cell_type": "markdown",
   "id": "tropical-bouquet",
   "metadata": {},
   "source": [
    "### tuple()"
   ]
  },
  {
   "cell_type": "markdown",
   "id": "widespread-hawaii",
   "metadata": {},
   "source": [
    "- The tuple() builtin can be used to create tuples in Python. \n",
    "- In Python, a tuple is an immutable sequence type.\n",
    "- One of the ways of creating tuple is by using the tuple() construct."
   ]
  },
  {
   "cell_type": "code",
   "execution_count": null,
   "id": "under-vatican",
   "metadata": {},
   "outputs": [],
   "source": [
    "special_nums = [2.718, 1729, 0.577, 1.618, 28, 3.14, 6, 37]\n",
    "special_nums_tuple = tuple(special_nums)\n",
    "print(special_nums_tuple)\n",
    "txt = 'Hello, Python!'\n",
    "txt_tuple = tuple(txt)\n",
    "print(txt_tuple)\n",
    "dictionary = {'A': 0.577, 'B': 2.718, 'C': 3.14}\n",
    "dictionary_tuple = tuple(dictionary)\n",
    "print(dictionary_tuple)"
   ]
  },
  {
   "cell_type": "markdown",
   "id": "downtown-looking",
   "metadata": {},
   "source": [
    "### type()"
   ]
  },
  {
   "cell_type": "markdown",
   "id": "missing-management",
   "metadata": {},
   "source": [
    "It either returns the type of the object or returns a new type object based on the arguments passed."
   ]
  },
  {
   "cell_type": "code",
   "execution_count": null,
   "id": "framed-metropolitan",
   "metadata": {},
   "outputs": [],
   "source": [
    "special_nums = [2.718, 1729, 0.577, 1.618, 28, 3.14, 6, 37]\n",
    "special_nums_tuple = tuple(special_nums)\n",
    "print(special_nums_tuple)\n",
    "print(type(special_nums))\n",
    "print()\n",
    "txt = 'Hello, Python!'\n",
    "txt_tuple = tuple(txt)\n",
    "print(txt_tuple)\n",
    "print(type(txt))\n",
    "print()\n",
    "dictionary = {'A': 0.577, 'B': 2.718, 'C': 3.14}\n",
    "dictionary_tuple = tuple(dictionary)\n",
    "print(dictionary_tuple)\n",
    "print(type(dictionary))\n",
    "print()\n",
    "special_nums_set = {2.718, 1729, 0.577, 1.618, 28, 3.14, 6, 37}\n",
    "special_nums_tuple = tuple(special_nums_set)\n",
    "print(special_nums_tuple)\n",
    "print(type(special_nums_set))\n",
    "print()\n",
    "class SpecialNumbers:\n",
    " euler_constant = 0.577\n",
    " euler_number = 2.718\n",
    " pi = 3.14\n",
    " golden_ratio = 1.618\n",
    " msg = 'These numbers are very special'\n",
    " \n",
    " def __init__(self, euler_constant, euler_number, pi, golden_ratio, msg):\n",
    "    self.euler_constant = euler_constant\n",
    "    self.euler_number = euler_number\n",
    "    self.pi = pi\n",
    "    self.golden_ratio = golden_ratio\n",
    "    self.msg = msg\n",
    "special_numbers = SpecialNumbers(0.577, 2.718, 3.14, 1.618, 'These numbers are very special.')\n",
    "print(type(special_numbers))"
   ]
  },
  {
   "cell_type": "markdown",
   "id": "assumed-mileage",
   "metadata": {},
   "source": [
    "### vars()"
   ]
  },
  {
   "cell_type": "markdown",
   "id": "spoken-toyota",
   "metadata": {},
   "source": [
    "The vars() function returns the dict attribute of the given object."
   ]
  },
  {
   "cell_type": "code",
   "execution_count": null,
   "id": "judicial-breeding",
   "metadata": {},
   "outputs": [],
   "source": [
    "class SpecialNumbers:\n",
    " euler_constant = 0.577\n",
    " euler_number = 2.718\n",
    " pi = 3.14\n",
    " golden_ratio = 1.618\n",
    " msg = 'These numbers are very special'\n",
    " \n",
    " def __init__(self, euler_constant, euler_number, pi, golden_ratio, msg):\n",
    "    self.euler_constant = euler_constant\n",
    "    self.euler_number = euler_number\n",
    "    self.pi = pi\n",
    "    self.golden_ratio = golden_ratio\n",
    "    self.msg = msg\n",
    "special_numbers = SpecialNumbers(0.577, 2.718, 3.14, 1.618, 'These numbers are very special.')\n",
    "print(vars(special_numbers))"
   ]
  },
  {
   "cell_type": "markdown",
   "id": "sacred-conviction",
   "metadata": {},
   "source": [
    "### zip()"
   ]
  },
  {
   "cell_type": "markdown",
   "id": "similar-workshop",
   "metadata": {},
   "source": [
    "It takes iterables (can be zero or more), aggregates them in a tuple, and returns it."
   ]
  },
  {
   "cell_type": "code",
   "execution_count": null,
   "id": "ahead-former",
   "metadata": {},
   "outputs": [],
   "source": [
    "special_nums = [2.718, 1729, 0.577, 1.618, 28, 3.14, 37]\n",
    "special_nums_name = ['Euler number', 'Ramanujan-Hardy number', 'Euler constant', 'Golden ratio', 'Perfect number', \n",
    "output = zip()\n",
    "output_list = list(output)\n",
    "print(output_list)\n",
    "reel_output = zip(special_nums_name, special_nums)\n",
    "reel_output_set = set(reel_output)\n",
    "print(reel_output_set)"
   ]
  },
  {
   "cell_type": "markdown",
   "id": "favorite-particle",
   "metadata": {},
   "source": [
    "### super()"
   ]
  },
  {
   "cell_type": "markdown",
   "id": "aging-communication",
   "metadata": {},
   "source": [
    "Returns a proxy object (temporary object of the superclass) that allows us to access methods of the base class."
   ]
  },
  {
   "cell_type": "code",
   "execution_count": null,
   "id": "exposed-bulletin",
   "metadata": {},
   "outputs": [],
   "source": [
    "class SpecialNumbers(object):\n",
    " def __init__(self, special_numbers):\n",
    "     print('6 and 28 are', special_numbers)\n",
    "class PerfectNumbers(SpecialNumbers): \n",
    " def __init__(self):\n",
    " \n",
    " # call superclass\n",
    "    super().__init__('perfect numbers.')\n",
    "\n",
    "    print('These numbers are very special in mathematik.')\n",
    "nums = PerfectNumbers()\n"
   ]
  },
  {
   "cell_type": "code",
   "execution_count": null,
   "id": "incorporate-edmonton",
   "metadata": {},
   "outputs": [],
   "source": [
    "class Animal(object):\n",
    " def __init__(self, AnimalName):\n",
    "     print(AnimalName, 'lives in a farm.')\n",
    " \n",
    "class Cow(Animal):\n",
    " def __init__(self):\n",
    "    print('Cow gives us milk.')\n",
    "    super().__init__('Cow')\n",
    " \n",
    "result = Cow()\n"
   ]
  },
  {
   "cell_type": "markdown",
   "id": "romantic-monaco",
   "metadata": {},
   "source": [
    "### import()"
   ]
  },
  {
   "cell_type": "markdown",
   "id": "theoretical-sister",
   "metadata": {},
   "source": [
    "It is a function that is called by the import statement."
   ]
  },
  {
   "cell_type": "code",
   "execution_count": null,
   "id": "diverse-halloween",
   "metadata": {},
   "outputs": [],
   "source": [
    "math = __import__('math', globals(), locals(), [], 0)\n",
    "print(math.fabs(3.14))\n",
    "print(math.fabs(-2.718))\n",
    "print(math.pow(4, 3))\n",
    "print(math.exp(-5))\n",
    "print(math.log(2.718))\n",
    "print(math.factorial(6))"
   ]
  },
  {
   "cell_type": "code",
   "execution_count": null,
   "id": "incorrect-smart",
   "metadata": {},
   "outputs": [],
   "source": [
    "import math\n",
    "print(math.fabs(3.14))\n",
    "print(math.fabs(-2.718))\n",
    "print(math.pow(4, 3))\n",
    "print(math.exp(-5))\n",
    "print(math.log(2.718))\n",
    "print(math.factorial(6))"
   ]
  },
  {
   "cell_type": "markdown",
   "id": "domestic-heater",
   "metadata": {},
   "source": [
    "## 12. Classes and Objects in Python"
   ]
  },
  {
   "cell_type": "markdown",
   "id": "ceramic-mileage",
   "metadata": {},
   "source": [
    "- Python is an object-oriented programming language.\n",
    "- Unlike procedure-oriented programming, where the main emphasis is on functions, object-oriented\n",
    "programming stresses on objects.\n",
    "- An object is simply a collection of data (variables) and methods (functions) that act on those data.\n",
    "- Similarly, a class is a blueprint for that object.\n",
    "- Like function definitions begin with the def keyword in Python, class definitions begin with a class keyword.\n",
    "- The first string inside the class is called docstring and has a brief description of the class.\n",
    "Although not mandatory, this is highly recommended."
   ]
  },
  {
   "cell_type": "code",
   "execution_count": null,
   "id": "african-hepatitis",
   "metadata": {},
   "outputs": [],
   "source": [
    "image_path = \"class and object.png\"\n",
    "image = Image.open(image_path)"
   ]
  },
  {
   "cell_type": "code",
   "execution_count": null,
   "id": "solar-radius",
   "metadata": {},
   "outputs": [],
   "source": [
    "image"
   ]
  },
  {
   "cell_type": "markdown",
   "id": "auburn-platinum",
   "metadata": {},
   "source": [
    "### Create a class"
   ]
  },
  {
   "cell_type": "code",
   "execution_count": null,
   "id": "worst-recall",
   "metadata": {},
   "outputs": [],
   "source": [
    "class Data:\n",
    " num = 3.14\n",
    "print(Data)"
   ]
  },
  {
   "cell_type": "markdown",
   "id": "sacred-peoples",
   "metadata": {},
   "source": [
    "### Create an object"
   ]
  },
  {
   "cell_type": "code",
   "execution_count": null,
   "id": "female-mainland",
   "metadata": {},
   "outputs": [],
   "source": [
    "class Data:\n",
    " num = 3.14\n",
    "var = Data()\n",
    "print(var.num)\n"
   ]
  },
  {
   "cell_type": "markdown",
   "id": "recovered-gender",
   "metadata": {},
   "source": [
    "#### Function init()"
   ]
  },
  {
   "cell_type": "code",
   "execution_count": null,
   "id": "collaborative-preview",
   "metadata": {},
   "outputs": [],
   "source": [
    "class Data:\n",
    "    def __init__(self, euler_number, pi_number, golden_ratio):\n",
    "        self.euler_number = euler_number\n",
    "        self.pi_number = pi_number\n",
    "        self.golden_ratio = golden_ratio\n",
    "val = Data(2.718, 3.14, 1.618)\n",
    "print(val.euler_number)\n",
    "print(val.golden_ratio)\n",
    "print(val.pi_number)"
   ]
  },
  {
   "cell_type": "markdown",
   "id": "precious-canon",
   "metadata": {},
   "source": [
    "### Methods"
   ]
  },
  {
   "cell_type": "code",
   "execution_count": null,
   "id": "prime-wesley",
   "metadata": {},
   "outputs": [],
   "source": [
    "class Data:\n",
    " def __init__(self, euler_number, pi_number, golden_ratio):\n",
    "    self.euler_number = euler_number\n",
    "    self.pi_number = pi_number\n",
    "    self.golden_ratio = golden_ratio\n",
    " def msg_function(self):\n",
    "    print(\"The euler number is\", self.euler_number)\n",
    "    print(\"The golden ratio is\", self.golden_ratio)\n",
    "    print(\"The pi number is\", self.pi_number)\n",
    "val = Data(2.718, 3.14, 1.618)\n",
    "val.msg_function()\n"
   ]
  },
  {
   "cell_type": "markdown",
   "id": "hundred-tablet",
   "metadata": {},
   "source": [
    "### Self parameter"
   ]
  },
  {
   "cell_type": "markdown",
   "id": "difficult-worth",
   "metadata": {},
   "source": [
    "- The self parameter is a reference to the current instance of the class, and is used to access variables that\n",
    "belongs to the class.\n",
    "- It does not have to be named self, you can call it whatever you like, but it has to be the first parameter of\n",
    "any function in the class.\n",
    "- Check the following example:"
   ]
  },
  {
   "cell_type": "code",
   "execution_count": null,
   "id": "located-opera",
   "metadata": {},
   "outputs": [],
   "source": [
    "\"\"\"\n",
    "The following codes are the same as the above codes under the title 'Methods'.\n",
    "You see that the output is the same, but this codes contain 'classFirstParameter' instead of 'self'. \n",
    "\"\"\"\n",
    "class Data:\n",
    "    def __init__(classFirstParameter, euler_number, pi_number, golden_ratio):\n",
    "        classFirstParameter.euler_number = euler_number\n",
    "        classFirstParameter.pi_number = pi_number\n",
    "        classFirstParameter.golden_ratio = golden_ratio\n",
    "    def msg_function(classFirstParameter):\n",
    "        print(\"The euler number is\", classFirstParameter.euler_number)\n",
    "        print(\"The golden ratio is\", classFirstParameter.golden_ratio)\n",
    "        print(\"The pi number is\", classFirstParameter.pi_number)\n",
    "val = Data(2.718, 3.14, 1.618)\n",
    "val.msg_function()"
   ]
  },
  {
   "cell_type": "markdown",
   "id": "excessive-gothic",
   "metadata": {},
   "source": [
    "### Creating a Class to draw a Rectangle"
   ]
  },
  {
   "cell_type": "code",
   "execution_count": null,
   "id": "supposed-converter",
   "metadata": {},
   "outputs": [],
   "source": [
    "# Creating a class to draw a rectangle\n",
    "class Rectangle(object):\n",
    " # Contructor\n",
    " def __init__(self, width, height, color):\n",
    " self.width = width\n",
    " self.height = height\n",
    " self.color = color\n",
    " # Method\n",
    " def drawRectangle(self):\n",
    " plt.gca().add_patch(plt.Rectangle((0, 0), self.width, self.height, fc=self.color))\n",
    " plt.axis('scaled')\n",
    " plt.show()\n",
    "# import library to draw the Rectangle\n",
    "import matplotlib.pyplot as plt\n",
    "%matplotlib inline\n",
    "# creating an object blue rectangle\n",
    "one_Rectangle = Rectangle(20, 10, 'blue')\n",
    "# Printing the object attribute width\n",
    "print(one_Rectangle.width)\n",
    "# Printing the object attribute height\n",
    "print(one_Rectangle.height)\n",
    "# Printing the object attribute color\n",
    "print(one_Rectangle.color)\n",
    "# Drawing the object\n",
    "one_Rectangle.drawRectangle()\n",
    "# Learning the methods that can be utilized on the object 'one_rectangle'\n",
    "print(dir(one_Rectangle))\n",
    "# We can change the properties of the rectangle\n",
    "one_Rectangle.width = 15\n",
    "one_Rectangle.height = 15\n",
    "one_Rectangle.color = 'green'\n",
    "one_Rectangle.drawRectangle()\n",
    "# Using new variables, we can change the properties of the rectangle\n",
    "two_Rectangle = Rectangle(100, 50, 'yellow')\n",
    "two_Rectangle.drawRectangle()"
   ]
  },
  {
   "cell_type": "markdown",
   "id": "maritime-athens",
   "metadata": {},
   "source": [
    "### Creating a class to draw a circle"
   ]
  },
  {
   "cell_type": "code",
   "execution_count": null,
   "id": "established-controversy",
   "metadata": {},
   "outputs": [],
   "source": [
    "# Creating a class to draw a circle\n",
    "class Circle(object):\n",
    " # Contructor\n",
    " def __init__(self, radius, color):\n",
    " self.radius = radius\n",
    " self.color = color\n",
    " # Method\n",
    " def increase_radius(self, r):\n",
    " self.radius = self.radius + r\n",
    " return self.radius\n",
    " # Method\n",
    " def drawCircle(self):\n",
    " plt.gca().add_patch(plt.Circle((0, 0), self.radius, fc=self.color))\n",
    " plt.axis('scaled')\n",
    " plt.show()\n",
    "# import library to draw the circle\n",
    "import matplotlib.pyplot as plt\n",
    "%matplotlib inline\n",
    "# creating an object blue circle\n",
    "one_Circle = Circle(3.14, 'blue')\n",
    "# Printing the object attribute radius\n",
    "print(one_Circle.radius)\n",
    "# Printing the object attribute color\n",
    "print(one_Circle.color)\n",
    "# Drawing the object\n",
    "one_Circle.drawCircle()\n",
    "# Learning the methods that can be utilized on the object 'one_rectangle'\n",
    "print(dir(one_Circle))\n",
    "# We can change the properties of the rectangle\n",
    "one_Circle.radius = 15\n",
    "one_Circle.color = 'green'\n",
    "one_Circle.drawCircle()\n",
    "# Using new variables, we can change the properties of the rectangle\n",
    "two_Circle = Circle(100, 'yellow')\n",
    "print(two_Circle.radius)\n",
    "print(two_Circle.color)\n",
    "two_Circle.drawCircle()\n",
    "# Changing the radius of the object\n",
    "print('Before increment: ',one_Circle.radius)\n",
    "one_Circle.drawCircle()\n",
    "# Increment by 15 units\n",
    "one_Circle.increase_radius(15)\n",
    "print('Increase the radius by 15 units: ', one_Circle.radius)\n",
    "one_Circle.drawCircle()\n",
    "# Increment by 30 units\n",
    "\n",
    "one_Circle.increase_radius(30)\n",
    "print('Increase the radius by 30 units: ', one_Circle.radius)\n",
    "one_Circle.drawCircle()"
   ]
  },
  {
   "cell_type": "markdown",
   "id": "anonymous-climate",
   "metadata": {},
   "source": [
    "# Some examples"
   ]
  },
  {
   "cell_type": "code",
   "execution_count": null,
   "id": "stupid-chancellor",
   "metadata": {},
   "outputs": [],
   "source": [
    "class SpecialNumbers:\n",
    " euler_constant = 0.577\n",
    " euler_number = 2.718\n",
    " pi_number = 3.14\n",
    " golden_ratio = 1.618\n",
    " msg = 'These numbers are special.'\n",
    "special_numbers = SpecialNumbers()\n",
    "print('The euler number is', getattr(special_numbers, 'euler_number'))\n",
    "print('The golden ratio is', special_numbers.golden_ratio)\n",
    "print('The pi number is', getattr(special_numbers, 'pi_number'))\n",
    "print('The message is ', getattr(special_numbers, 'msg'))"
   ]
  },
  {
   "cell_type": "code",
   "execution_count": null,
   "id": "simple-checklist",
   "metadata": {},
   "outputs": [],
   "source": [
    "class SpecialNumbers:\n",
    "    euler_constant = 0.577\n",
    "    euler_number = 2.718\n",
    "    pi = 3.14\n",
    "    golden_ratio = 1.618\n",
    "    msg = 'These numbers are special.'\n",
    " \n",
    "def parameter(self):\n",
    "    print(self.euler_constant, self.euler_number, self.pi, self.golden_ratio, self.msg)\n",
    "special_numbers = SpecialNumbers()\n",
    "special_numbers.parameter()\n",
    "delattr(SpecialNumbers, 'msg') # The code deleted the 'msg'.\n",
    "special_numbers.parameter() # Since the code deleted the 'msg', it returns an AttributeError.\n"
   ]
  },
  {
   "cell_type": "code",
   "execution_count": null,
   "id": "paperback-triumph",
   "metadata": {},
   "outputs": [],
   "source": [
    "class ComplexNum:\n",
    "    def __init__(self, a, b):\n",
    "        self.a = a\n",
    "        self.b = b\n",
    "    def data(self):\n",
    "        print(f'{self.a}-{self.b}j')\n",
    "var = ComplexNum(3.14, 1.618)\n",
    "var.data()\n"
   ]
  },
  {
   "cell_type": "markdown",
   "id": "perfect-aviation",
   "metadata": {},
   "source": [
    "### Create a Data Classs"
   ]
  },
  {
   "cell_type": "code",
   "execution_count": null,
   "id": "convertible-nepal",
   "metadata": {},
   "outputs": [],
   "source": [
    "class Data:\n",
    " def __init__(self, genus, species):\n",
    " self.genus = genus\n",
    " self.species = species\n",
    " \n",
    " def microorganism(self):\n",
    " print(f'The name of a microorganism is in the form of {self.genus} {self.species}.')\n",
    "#Use the Data class to create an object, and then execute the microorganism method\n",
    "value = Data('Aspergillus', 'niger')\n",
    "value.microorganism()\n"
   ]
  },
  {
   "cell_type": "markdown",
   "id": "injured-services",
   "metadata": {},
   "source": [
    "### Create a Child Class in Data Class"
   ]
  },
  {
   "cell_type": "code",
   "execution_count": null,
   "id": "pleased-light",
   "metadata": {},
   "outputs": [],
   "source": [
    "class Data:\n",
    " def __init__(self, genus, species):\n",
    " self.genus = genus\n",
    " self.species = species\n",
    " def microorganism(self):\n",
    " print(f'The name of a microorganism is in the form of {self.genus} {self.species}.')\n",
    "class Recombinant(Data):\n",
    " pass\n",
    "value = Recombinant('Aspergillus', 'sojae')\n",
    "value.microorganism()\n"
   ]
  },
  {
   "cell_type": "markdown",
   "id": "tribal-excuse",
   "metadata": {},
   "source": [
    "### Addition of init() Functions"
   ]
  },
  {
   "cell_type": "code",
   "execution_count": null,
   "id": "first-design",
   "metadata": {},
   "outputs": [],
   "source": [
    "class Data:\n",
    " def __init__(self, genus, species):\n",
    " self.genus = genus\n",
    " self.species = species\n",
    " def microorganism(self):\n",
    " print(f'The name of a microorganism is in the form of {self.genus} {self.species}.')\n",
    "class Recombinant(Data):\n",
    " def __init__(self, genus, species):\n",
    " Data.__init__(self, genus, species)\n",
    "value = Recombinant('Aspergillus', 'sojae')\n",
    "value.microorganism()"
   ]
  },
  {
   "cell_type": "markdown",
   "id": "dimensional-principal",
   "metadata": {},
   "source": [
    "### Addition of super() Function"
   ]
  },
  {
   "cell_type": "code",
   "execution_count": null,
   "id": "equivalent-bennett",
   "metadata": {},
   "outputs": [],
   "source": [
    "class SpecialNumbers(object):\n",
    " def __init__(self, special_numbers):\n",
    " print('6 and 28 are', special_numbers)\n",
    "class PerfectNumbers(SpecialNumbers): \n",
    " def __init__(self):\n",
    " \n",
    " # call superclass\n",
    " super().__init__('perfect numbers.')\n",
    " print('These numbers are very special in mathematik.')\n",
    "nums = PerfectNumbers()"
   ]
  },
  {
   "cell_type": "code",
   "execution_count": null,
   "id": "physical-modern",
   "metadata": {},
   "outputs": [],
   "source": [
    "class Animal(object):\n",
    " def __init__(self, AnimalName):\n",
    " print(AnimalName, 'lives in a farm.')\n",
    " \n",
    "class Cow(Animal):\n",
    " def __init__(self):\n",
    " print('Cow gives us milk.')\n",
    " super().__init__('Cow')\n",
    " \n",
    "result = Cow()"
   ]
  },
  {
   "cell_type": "code",
   "execution_count": null,
   "id": "global-spare",
   "metadata": {},
   "outputs": [],
   "source": [
    "class Data:\n",
    " def __init__(self, genus, species):\n",
    " self.genus = genus\n",
    " self.species = species\n",
    " def microorganism(self):\n",
    " print(f'The name of a microorganism is in the form of {self.genus} {self.species}.')\n",
    "class Recombinant(Data):\n",
    " def __init__(self, genus, species):\n",
    " super().__init__(genus, species) # 'self' statement in this line was deleted as different from the above codes\n",
    "value = Recombinant('Aspergillus', 'sojae')\n",
    "value.microorganism()"
   ]
  },
  {
   "cell_type": "markdown",
   "id": "detected-holmes",
   "metadata": {},
   "source": [
    "### Addition of Properties under the super() Function"
   ]
  },
  {
   "cell_type": "code",
   "execution_count": null,
   "id": "quick-belly",
   "metadata": {},
   "outputs": [],
   "source": [
    "class Data:\n",
    " def __init__(self, genus, species):\n",
    " self.genus = genus\n",
    " self.species = species\n",
    " def microorganism(self):\n",
    " print(f'The name of a microorganism is in the form of {self.genus} {self.species}.')\n",
    "class Recombinant(Data):\n",
    " def __init__(self, genus, species):\n",
    " super().__init__(genus, species)\n",
    " self.activity = 2500 # This information was adedd as a Property\n",
    "value = Recombinant('Aspergillus', 'sojae')\n",
    "print(f'The enzyme activity increased to {value.activity} U/mL.')"
   ]
  },
  {
   "cell_type": "code",
   "execution_count": null,
   "id": "dutch-romance",
   "metadata": {},
   "outputs": [],
   "source": [
    "class Data:\n",
    " def __init__(self, genus, species):\n",
    " self.genus = genus\n",
    " self.species = species\n",
    " def microorganism(self):\n",
    " print(f'The name of a microorganism is in the form of {self.genus} {self.species}.')\n",
    "class Recombinant(Data):\n",
    " def __init__(self, genus, species, activity):\n",
    " super().__init__(genus, species)\n",
    " self.activity = activity # This information was adedd as a Property\n",
    "value = Recombinant('Aspergillus', 'sojae', 2500)\n",
    "print(f'The enzyme activity increased to {value.activity} U/mL.')\n"
   ]
  },
  {
   "cell_type": "markdown",
   "id": "liberal-palace",
   "metadata": {},
   "source": [
    "### Addition of Methods under the Child Class"
   ]
  },
  {
   "cell_type": "code",
   "execution_count": null,
   "id": "latest-usage",
   "metadata": {},
   "outputs": [],
   "source": [
    "class Data:\n",
    " def __init__(self, genus, species):\n",
    " self.genus = genus\n",
    " self.species = species\n",
    " def microorganism(self):\n",
    " print(f'The name of a microorganism is in the form of {self.genus} {self.species}.')\n",
    "class Recombinant(Data):\n",
    " def __init__(self, genus, species, activity):\n",
    " super().__init__(genus, species)\n",
    " self.activity = activity # This information was adedd as a Property\n",
    " \n",
    " def increment(self):\n",
    " print(f'With this new recombinant {self.genus} {self.species} strain, the enzyme activity increased 2-times with {se\n",
    "value = Recombinant('Aspergillus', 'sojae', 2500)\n",
    "value.increment()\n"
   ]
  },
  {
   "cell_type": "markdown",
   "id": "wireless-savings",
   "metadata": {},
   "source": [
    "# 13. Reading Files in Python"
   ]
  },
  {
   "cell_type": "markdown",
   "id": "surprising-external",
   "metadata": {},
   "source": [
    "To read a text file in Python, you follow these steps:"
   ]
  },
  {
   "cell_type": "markdown",
   "id": "identical-mills",
   "metadata": {},
   "source": [
    "- First, open a text file for reading by using the open() function\n",
    "- Second, read text from the text file using the file read(), readline(), or readlines() method of the file object.\n",
    "- Third, close the file using the file close() method. This frees up resources and ensures consistency across\n",
    "different python versions."
   ]
  },
  {
   "cell_type": "code",
   "execution_count": null,
   "id": "excited-chart",
   "metadata": {},
   "outputs": [],
   "source": [
    "image_path = \"reading_file.png\"\n",
    "image = Image.open(image_path)"
   ]
  },
  {
   "cell_type": "code",
   "execution_count": null,
   "id": "deadly-flavor",
   "metadata": {},
   "outputs": [],
   "source": [
    "image"
   ]
  },
  {
   "cell_type": "markdown",
   "id": "raising-benjamin",
   "metadata": {},
   "source": [
    "### Reading File"
   ]
  },
  {
   "cell_type": "code",
   "execution_count": null,
   "id": "accompanied-worry",
   "metadata": {},
   "outputs": [],
   "source": [
    "# Reading the txt file\n",
    "file_name = \"pcr_file.txt\"\n",
    "file = open(file_name, \"r\")\n",
    "content = file.read()\n",
    "content\n"
   ]
  },
  {
   "cell_type": "code",
   "execution_count": null,
   "id": "regulated-yugoslavia",
   "metadata": {},
   "outputs": [],
   "source": [
    "# Printing the path of file\n",
    "print(file.name)\n",
    "# Printing the mode of file\n",
    "print(file.mode)\n",
    "# Printing the file with '\\n' as a new file\n",
    "print(content)\n",
    "# Printing the type of file\n",
    "print(type(content))\n"
   ]
  },
  {
   "cell_type": "code",
   "execution_count": null,
   "id": "broadband-center",
   "metadata": {},
   "outputs": [],
   "source": [
    "# Close the file\n",
    "file.close()\n"
   ]
  },
  {
   "cell_type": "code",
   "execution_count": null,
   "id": "operational-playlist",
   "metadata": {},
   "outputs": [],
   "source": [
    "# Verification of the closed file \n",
    "file.closed"
   ]
  },
  {
   "cell_type": "markdown",
   "id": "olive-promise",
   "metadata": {},
   "source": [
    "### Another way to read a file"
   ]
  },
  {
   "cell_type": "code",
   "execution_count": null,
   "id": "taken-crawford",
   "metadata": {},
   "outputs": [],
   "source": [
    "image_path = \"reading_file1.png\"\n",
    "image = Image.open(image_path)"
   ]
  },
  {
   "cell_type": "code",
   "execution_count": null,
   "id": "appropriate-conference",
   "metadata": {},
   "outputs": [],
   "source": [
    "image"
   ]
  },
  {
   "cell_type": "code",
   "execution_count": null,
   "id": "stretch-mistress",
   "metadata": {},
   "outputs": [],
   "source": [
    "fname = 'pcr_file.txt'\n",
    "with open(fname, 'r') as f:\n",
    " content = f.read()\n",
    " print(content)\n"
   ]
  },
  {
   "cell_type": "code",
   "execution_count": null,
   "id": "conscious-thesaurus",
   "metadata": {},
   "outputs": [],
   "source": [
    "# Verification of the closed file\n",
    "f.closed"
   ]
  },
  {
   "cell_type": "code",
   "execution_count": null,
   "id": "curious-mobility",
   "metadata": {},
   "outputs": [],
   "source": [
    "# See the content of the file\n",
    "print(content)"
   ]
  },
  {
   "cell_type": "code",
   "execution_count": null,
   "id": "extensive-cooperation",
   "metadata": {},
   "outputs": [],
   "source": [
    "# Reading the first 20 characters in the text file\n",
    "with open(fname, 'r') as f:\n",
    " print(f.read(20))\n"
   ]
  },
  {
   "cell_type": "code",
   "execution_count": null,
   "id": "secondary-forward",
   "metadata": {},
   "outputs": [],
   "source": [
    "# Reading certain amount of characters in the file\n",
    "with open(fname, 'r') as f:\n",
    " print(f.read(20))\n",
    " print(f.read(20))\n",
    " print(f.read(50))\n",
    " print(f.read(100))\n"
   ]
  },
  {
   "cell_type": "code",
   "execution_count": null,
   "id": "interesting-business",
   "metadata": {},
   "outputs": [],
   "source": [
    "# Reading first line in the text file\n",
    "with open(fname, 'r') as f:\n",
    " print('The first line is: ', f.readline())"
   ]
  },
  {
   "cell_type": "code",
   "execution_count": null,
   "id": "ultimate-savannah",
   "metadata": {},
   "outputs": [],
   "source": [
    "# Difference between read() and readline()\n",
    "with open(fname, 'r') as f:\n",
    " print(f.readline(20))\n",
    " print(f.read(20)) # This code returns the next 20 characters in the line.\n"
   ]
  },
  {
   "cell_type": "code",
   "execution_count": null,
   "id": "suffering-practice",
   "metadata": {},
   "outputs": [],
   "source": [
    "Loop usage in the text file"
   ]
  },
  {
   "cell_type": "code",
   "execution_count": null,
   "id": "hazardous-landing",
   "metadata": {},
   "outputs": [],
   "source": [
    "with open(fname, 'r') as f:\n",
    "    line_number = 1\n",
    "    for line in f:\n",
    "        print('Line number', str(line_number), ':', line)\n",
    "        line_number+=1"
   ]
  },
  {
   "cell_type": "markdown",
   "id": "fiscal-dakota",
   "metadata": {},
   "source": [
    "### Methods"
   ]
  },
  {
   "cell_type": "markdown",
   "id": "solved-blind",
   "metadata": {},
   "source": [
    "### read(n) function"
   ]
  },
  {
   "cell_type": "markdown",
   "id": "civic-first",
   "metadata": {},
   "source": [
    "- Reads atmost n bytes from the file if n is specified, else reads the entire file.\n",
    "- Returns the retrieved bytes in the form of a string."
   ]
  },
  {
   "cell_type": "code",
   "execution_count": null,
   "id": "sorted-tribe",
   "metadata": {},
   "outputs": [],
   "source": [
    "with open(fname, 'r') as f:\n",
    " print(f.read())"
   ]
  },
  {
   "cell_type": "code",
   "execution_count": null,
   "id": "gothic-leonard",
   "metadata": {},
   "outputs": [],
   "source": [
    "with open(fname, 'r') as f:\n",
    " print(f.read(30))\n"
   ]
  },
  {
   "cell_type": "markdown",
   "id": "successful-messaging",
   "metadata": {},
   "source": [
    "### readline() function"
   ]
  },
  {
   "cell_type": "markdown",
   "id": "recognized-train",
   "metadata": {},
   "source": [
    "Reads one line at a time from the file in the form of string"
   ]
  },
  {
   "cell_type": "code",
   "execution_count": null,
   "id": "collect-turner",
   "metadata": {},
   "outputs": [],
   "source": [
    "with open(fname, 'r') as f:\n",
    " file_list = f.readlines()\n",
    " # Printing the first line\n",
    " print(file_list[0])\n",
    " # Printing the second line\n",
    " print(file_list[1])\n",
    " # Printing the third line\n",
    " print(file_list[2])\n",
    " # Printing the fourth line\n",
    " print(file_list[3])"
   ]
  },
  {
   "cell_type": "markdown",
   "id": "basic-difference",
   "metadata": {},
   "source": [
    "### readlines() function"
   ]
  },
  {
   "cell_type": "markdown",
   "id": "acceptable-assignment",
   "metadata": {},
   "source": [
    "Reads all the lines from the file and returns a list of lines."
   ]
  },
  {
   "cell_type": "code",
   "execution_count": null,
   "id": "transparent-export",
   "metadata": {},
   "outputs": [],
   "source": [
    "fname = r'\"C:\\Users\\Narayan Lal\\Desktop\\pcr_file.txt\"\n",
    "with open(fname, 'r') as f:\n",
    "    content=f.readlines()\n",
    "    print(content)"
   ]
  },
  {
   "cell_type": "markdown",
   "id": "intended-tuition",
   "metadata": {},
   "source": [
    "### strip() function"
   ]
  },
  {
   "cell_type": "markdown",
   "id": "vietnamese-puppy",
   "metadata": {},
   "source": [
    "Removes the leading and trailing spaces from the given string."
   ]
  },
  {
   "cell_type": "code",
   "execution_count": null,
   "id": "metropolitan-alabama",
   "metadata": {},
   "outputs": [],
   "source": [
    "with open(fname, 'r') as f:\n",
    " len_file = 0\n",
    " total_len_file = 0\n",
    " for line in f:\n",
    " # Total length of line in the text file\n",
    " total_len_file = total_len_file+len(line)\n",
    " # Lenght of the line after removing leading and trailing spaces\n",
    " len_file = len_file+len(line.strip()) \n",
    " print(f'Total lenght of the line is {total_len_file}.')\n",
    " print(f'The length of the line after removing leading and trailing spaces is {len_file}.')"
   ]
  },
  {
   "cell_type": "markdown",
   "id": "geological-chest",
   "metadata": {},
   "source": [
    "### Size of the text file"
   ]
  },
  {
   "cell_type": "code",
   "execution_count": null,
   "id": "bored-leone",
   "metadata": {},
   "outputs": [],
   "source": [
    "with open(fname, 'r') as f:\n",
    " str = \"\"\n",
    " for line in f:\n",
    " str+=line\n",
    " print(f'The size of the text file is {len(str)}.')"
   ]
  },
  {
   "cell_type": "markdown",
   "id": "requested-aspect",
   "metadata": {},
   "source": [
    "### Number of lines in the text"
   ]
  },
  {
   "cell_type": "code",
   "execution_count": null,
   "id": "tamil-attack",
   "metadata": {},
   "outputs": [],
   "source": [
    "with open(fname, 'r') as f:\n",
    " count = 0\n",
    " for line in f:\n",
    " count = count + 1\n",
    " print(f'The number of lines in the text file is {count}.')\n"
   ]
  },
  {
   "cell_type": "markdown",
   "id": "three-invalid",
   "metadata": {},
   "source": [
    "# 14. Writing Files in Python"
   ]
  },
  {
   "cell_type": "markdown",
   "id": "framed-split",
   "metadata": {},
   "source": [
    "To write to a text file in Python, you follow these steps:"
   ]
  },
  {
   "cell_type": "markdown",
   "id": "reliable-faith",
   "metadata": {},
   "source": [
    "- First, open the text file for writing (or appending) using the open() function.\n",
    "- Second, write to the text file using the write() or writelines() method.\n",
    "- Third, close the file using the close() method."
   ]
  },
  {
   "cell_type": "code",
   "execution_count": null,
   "id": "italian-secret",
   "metadata": {},
   "outputs": [],
   "source": [
    "image_path = \"writing_file.png\"\n",
    "image = Image.open(image_path)"
   ]
  },
  {
   "cell_type": "code",
   "execution_count": null,
   "id": "single-exposure",
   "metadata": {},
   "outputs": [],
   "source": [
    "image"
   ]
  },
  {
   "cell_type": "code",
   "execution_count": null,
   "id": "biblical-scotland",
   "metadata": {},
   "outputs": [],
   "source": [
    "image_path = \"open.png\"\n",
    "image = Image.open(image_path)"
   ]
  },
  {
   "cell_type": "code",
   "execution_count": null,
   "id": "adequate-documentation",
   "metadata": {},
   "outputs": [],
   "source": [
    "image"
   ]
  },
  {
   "cell_type": "markdown",
   "id": "drawn-editing",
   "metadata": {},
   "source": [
    "### Writing Files"
   ]
  },
  {
   "cell_type": "code",
   "execution_count": null,
   "id": "clear-flashing",
   "metadata": {},
   "outputs": [],
   "source": [
    "# Writing lines to a file.\n",
    "fname = 'pcr_file.txt'\n",
    "with open(fname, 'w') as f:\n",
    " f.write(\"I dedicate this book to Nancy Lier Cosgrove Mullis.\\n\")\n",
    " f.write(\"Jean-Paul Sartre somewhere observed that we each of us make our own hell out of the people around us. Had Jean-Paul known Nancy, he may have noted that at least one man, someday, might get very lucky,and make his own heaven out of one of the people around him. She will be his morning and his eveningstar, shining with the brightest and the softest light in his heaven. She will be the end of his wanderings,and their love will arouse the daffodils in the spring to follow the crocuses and precede the irises. Their faith in one another will be deeper than time and their eternal spirit will be seamless once again.\\n\")\n",
    " f.write(\"Or maybe he would have just said, 'If I would had a woman like that, my books would not have been about despair.\\n\")\n",
    " f.write(\"This book is not about despair. It is about a little bit of a lot of things, and, if not a single one of them iswet with sadness, it is not due to my lack of depth; it is due to a year of Nancy, and the prospect of never again being without her.\\n\")\n",
    " f.write(\"A feedback from Elle on the book\\n\")\n",
    " f.write(\"This bona-fide wild card of the scientific community writes with eccentric gusto.… Mullis has created a free-wheeling adventure yarn that just happens to be the story of his life.\\n\")"
   ]
  },
  {
   "cell_type": "code",
   "execution_count": null,
   "id": "experienced-junior",
   "metadata": {},
   "outputs": [],
   "source": [
    "# Checking the file whether it was written or not\n",
    "with open(fname, 'r') as f: \n",
    " content = f.read()\n",
    " print(content)\n"
   ]
  },
  {
   "cell_type": "code",
   "execution_count": null,
   "id": "incoming-repair",
   "metadata": {},
   "outputs": [],
   "source": [
    "# Writing a list to a file\n",
    "added_text = [\"From The New Yorker\\n\",\n",
    " \"Entertaini ng … [Mullis is] usefully cranky and combative, raising provocative questions about receive\n",
    " \"From Chicago Sun-Times\\n\",\n",
    " \"One of the most unusual scientists of our times, a man who would be a joy to put under a microscope\n",
    " \"From Andrew Weil, M.D.\\n\",\n",
    " \"In this entertaining romp through diverse fields of inquiry, [Mullis] displays the openmindedness, ecc\n",
    " ]\n",
    "fname = 'sample.txt'\n",
    "with open(fname, 'w') as f:\n",
    " for line in added_text:\n",
    " print(line)\n",
    " f.write(line)\n"
   ]
  },
  {
   "cell_type": "markdown",
   "id": "adequate-scott",
   "metadata": {},
   "source": [
    "### Appending files"
   ]
  },
  {
   "cell_type": "code",
   "execution_count": null,
   "id": "academic-colony",
   "metadata": {},
   "outputs": [],
   "source": [
    "# Wrting and tehn reading the file\n",
    "new_file = 'pcr_file.txt'\n",
    "with open(new_file, 'w') as f:\n",
    " f.write('Overright\\n')\n",
    "with open(new_file, 'r') as f:\n",
    " print(f.read())\n"
   ]
  },
  {
   "cell_type": "code",
   "execution_count": null,
   "id": "finished-enterprise",
   "metadata": {},
   "outputs": [],
   "source": [
    "# Writing a new line to the text file\n",
    "with open(new_file, 'a') as f: # To append a new line to the text file, use 'a' in the syntax string\n",
    " f.write(\"I dedicate this book to Nancy Lier Cosgrove Mullis.\\n\")\n",
    " f.write(\"Jean-Paul Sartre somewhere observed that we each of us make our own hell out of the people around us. Had Jean-Paul known Nancy, he may have noted that at least one man, someday, might get very lucky,and make his own heaven out of one of the people around him. She will be his morning and his eveningstar, shining with the brightest and the softest light in his heaven. She will be the end of his wanderings,and their love will arouse the daffodils in the spring to follow the crocuses and precede the irises. Their faith in one another will be deeper than time and their eternal spirit will be seamless once again.\\n\")\n",
    " f.write(\"Or maybe he would have just said, 'If I would had a woman like that, my books would not have been about despair.\\n\")\n",
    " f.write(\"This book is not about despair. It is about a little bit of a lot of things, and, if not a single one of them iswet with sadness, it is not due to my lack of depth; it is due to a year of Nancy, and the prospect of never again being without her.\\n\")\n",
    " f.write(\"A feedback from Elle on the book\\n\")\n",
    " f.write(\"This bona-fide wild card of the scientific community writes with eccentric gusto.… Mullis has created a free-wheeling adventure yarn that just happens to be the story of his life.\\n\")\n",
    "    # Verification of the new lines in the text file\n",
    "with open(new_file, 'r') as f:\n",
    " print(f.read())\n"
   ]
  },
  {
   "cell_type": "markdown",
   "id": "specialized-perry",
   "metadata": {},
   "source": [
    "### Other modes"
   ]
  },
  {
   "cell_type": "markdown",
   "id": "domestic-lewis",
   "metadata": {},
   "source": [
    "### a+"
   ]
  },
  {
   "cell_type": "markdown",
   "id": "paperback-scroll",
   "metadata": {},
   "source": [
    "#### Appending and Reading. Creates a new file, if none exists."
   ]
  },
  {
   "cell_type": "code",
   "execution_count": null,
   "id": "timely-prevention",
   "metadata": {},
   "outputs": [],
   "source": [
    "fname = 'pcr_file.txt'\n",
    "with open(fname, 'a+') as f:\n",
    " f.write(\"From F. Lee Bailey\\n\")\n",
    " f.write(\"A very good book by a fascinating man.… [Mullis] enjoys an almost frighteningly brilliant mind and yet somehow manages to keep his feet firmly on the ground.… This guy cuts through the nonsense to the quick, tells it like it is, and manages to do so with insouciance [and] occasional puckishness.… But lighter moments aside, what he has to say is important.\")\n",
    " print(f.read())\n"
   ]
  },
  {
   "cell_type": "code",
   "execution_count": null,
   "id": "novel-phenomenon",
   "metadata": {},
   "outputs": [],
   "source": [
    "# To verify the text file whether it is added or not\n",
    "with open(fname, 'r') as f:\n",
    " print(f.read())"
   ]
  },
  {
   "cell_type": "markdown",
   "id": "subsequent-graph",
   "metadata": {},
   "source": [
    "#### tell() and seek() functions with a+"
   ]
  },
  {
   "cell_type": "code",
   "execution_count": null,
   "id": "associate-template",
   "metadata": {},
   "outputs": [],
   "source": [
    "with open(fname, 'a+') as f:\n",
    " print(\"First location: {}\".format(f.tell())) # it returns the current position in bytes\n",
    " content = f.read()\n",
    " if not content:\n",
    " print('Read nothing.')\n",
    " else:\n",
    " print(f.read())\n",
    " \n",
    " f.seek(0, 0)\n",
    " \"\"\"\n",
    " seek() function is used to change the position of the File Handle to a given specific position. \n",
    " File handle is like a cursor, which defines from where the data has to be read or written in the file. \n",
    " Syntax: f.seek(offset, from_what), where f is file pointer\n",
    " Parameters: \n",
    " Offset: Number of positions to move forward \n",
    " from_what: It defines point of reference.\n",
    " Returns: Return the new absolute position.\n",
    " The reference point is selected by the from_what argument. It accepts three values: \n",
    " 0: sets the reference point at the beginning of the file \n",
    " 1: sets the reference point at the current file position \n",
    " 2: sets the reference point at the end of the file\n",
    " \"\"\"\n",
    " print('\\nSecond location: {}'.format(f.tell()))\n",
    " content = f.read()\n",
    " if not content:\n",
    " print('Read nothing.')\n",
    " else:\n",
    " print(content)\n",
    " print('Location after reading: {}'.format(f.tell()))\n"
   ]
  },
  {
   "cell_type": "markdown",
   "id": "temporal-cooling",
   "metadata": {},
   "source": [
    "### r+"
   ]
  },
  {
   "cell_type": "markdown",
   "id": "initial-meeting",
   "metadata": {},
   "source": [
    "#### Reading and writing. Cannot truncate the file."
   ]
  },
  {
   "cell_type": "code",
   "execution_count": null,
   "id": "numeric-listing",
   "metadata": {},
   "outputs": [],
   "source": [
    "with open(fname, 'r+') as f:\n",
    " content=f.readlines()\n",
    " f.seek(0,0) # writing at the beginning of the file\n",
    " f.write('From The San Diego Union-Tribune' + '\\n')\n",
    " f.write(\"Refreshing … brashly confident … indisputably entertaining.\" + \"\\n\")\n",
    " f.write(\"To my family...\" + '\\n')\n",
    " f.seek(0,0)\n",
    " print(f.read())"
   ]
  },
  {
   "cell_type": "markdown",
   "id": "sharp-phoenix",
   "metadata": {},
   "source": [
    "### Copy the file"
   ]
  },
  {
   "cell_type": "code",
   "execution_count": null,
   "id": "anonymous-crisis",
   "metadata": {},
   "outputs": [],
   "source": [
    "# Let's copy the text file 'pcr_file.txt' to another one 'pcr_file_1.txt'\n",
    "fname = 'pcr_file.txt'\n",
    "with open(fname, 'r') as f_reading:\n",
    " with open('pcr_file_1.txt', 'w') as f_writing:\n",
    " for line in f_reading:\n",
    " f_writing.write(line)"
   ]
  },
  {
   "cell_type": "code",
   "execution_count": null,
   "id": "appointed-croatia",
   "metadata": {},
   "outputs": [],
   "source": [
    "# For the verification, execute the following codes\n",
    "fname = 'pcr_file_1.txt'\n",
    "with open(fname, 'r') as f:\n",
    " print(f.read())\n",
    "# Now, there are 2 files from the same file content. "
   ]
  },
  {
   "cell_type": "markdown",
   "id": "handled-offer",
   "metadata": {},
   "source": [
    "### Some examples"
   ]
  },
  {
   "cell_type": "code",
   "execution_count": null,
   "id": "neither-princess",
   "metadata": {},
   "outputs": [],
   "source": [
    "# Writing the student names into a file\n",
    "fname = open(r'student_name.txt', 'w')\n",
    "for i in range(3):\n",
    " name = input('Enter a student name: ')\n",
    " fname.write(name)\n",
    " fname.write('\\n') # To write names as a new line\n",
    "fname = open(r'student_name.txt', 'r')\n",
    "for line in fname:\n",
    " print(line)\n",
    "fname.close()\n"
   ]
  },
  {
   "cell_type": "code",
   "execution_count": null,
   "id": "cleared-guyana",
   "metadata": {},
   "outputs": [],
   "source": [
    "# To write the file\n",
    "fname = open(r'student_name.txt', 'w')\n",
    "name_list = []\n",
    "for i in range(3):\n",
    " name = input('Enter a student name: ')\n",
    " name_list.append(name + '\\n')\n",
    "fname.writelines(name_list)\n",
    "# To read the file\n",
    "fname = open(r'student_name.txt', 'r')\n",
    "for line in fname:\n",
    " print(line)\n",
    "fname.close()"
   ]
  },
  {
   "cell_type": "code",
   "execution_count": null,
   "id": "elegant-ranch",
   "metadata": {},
   "outputs": [],
   "source": [
    "lines = ['Hello, World!', 'Hi, Python!']\n",
    "with open('new_file.txt', 'w') as f:\n",
    " for line in lines:\n",
    " f.write(line)\n",
    " f.write('\\n')\n",
    "with open('new_file.txt', 'r') as f:\n",
    " print(f.read())"
   ]
  },
  {
   "cell_type": "code",
   "execution_count": null,
   "id": "super-adaptation",
   "metadata": {},
   "outputs": [],
   "source": [
    "# Add more lines into the file\n",
    "more_lines = ['Hi, Sun!', 'Hello, Summer!', 'Hi, See!']\n",
    "with open('new_file.txt', 'a') as f:\n",
    " f.writelines('\\n' .join(more_lines))\n",
    "with open('new_file.txt', 'r') as f:\n",
    " print(f.read())\n",
    "f.close()"
   ]
  },
  {
   "cell_type": "markdown",
   "id": "determined-toronto",
   "metadata": {},
   "source": [
    "# 15. Strings Operators and Functions in Python"
   ]
  },
  {
   "cell_type": "markdown",
   "id": "local-elimination",
   "metadata": {},
   "source": [
    "### Special String Operators in Python"
   ]
  },
  {
   "cell_type": "code",
   "execution_count": null,
   "id": "acquired-invalid",
   "metadata": {},
   "outputs": [],
   "source": [
    "image_path = \"string_operations.png\"\n",
    "image = Image.open(image_path)"
   ]
  },
  {
   "cell_type": "code",
   "execution_count": null,
   "id": "bearing-electricity",
   "metadata": {},
   "outputs": [],
   "source": [
    "image"
   ]
  },
  {
   "cell_type": "markdown",
   "id": "variable-cancellation",
   "metadata": {},
   "source": [
    "### Strings are unchangeable"
   ]
  },
  {
   "cell_type": "code",
   "execution_count": null,
   "id": "retired-accreditation",
   "metadata": {},
   "outputs": [],
   "source": [
    "string_hello = 'Hello'\n",
    "string_python = 'Python!'\n",
    "print(string_hello)\n",
    "print(string_python)"
   ]
  },
  {
   "cell_type": "markdown",
   "id": "designed-billy",
   "metadata": {},
   "source": [
    "#### Deleting the items in a string is not supported since strings are immutable"
   ]
  },
  {
   "cell_type": "markdown",
   "id": "tracked-video",
   "metadata": {},
   "source": [
    "It returns a TypeError. However, the whole string can be deleted. When it is, it returns a NameError."
   ]
  },
  {
   "cell_type": "code",
   "execution_count": null,
   "id": "capital-apartment",
   "metadata": {},
   "outputs": [],
   "source": [
    "text = 'Python is a programming language.'\n",
    "print(text)\n",
    "del text[1]\n",
    "print(text)\n"
   ]
  },
  {
   "cell_type": "code",
   "execution_count": null,
   "id": "southern-number",
   "metadata": {},
   "outputs": [],
   "source": [
    "text = 'Python is a programming language.'\n",
    "print(text)\n",
    "del text\n",
    "print(text)"
   ]
  },
  {
   "cell_type": "markdown",
   "id": "scheduled-butler",
   "metadata": {},
   "source": [
    "#### Concetanation of strings"
   ]
  },
  {
   "cell_type": "code",
   "execution_count": null,
   "id": "automotive-certificate",
   "metadata": {},
   "outputs": [],
   "source": [
    "It combines two or more strings using the sign '+' to form a new string."
   ]
  },
  {
   "cell_type": "code",
   "execution_count": null,
   "id": "apparent-notebook",
   "metadata": {},
   "outputs": [],
   "source": [
    "text1 = 'Hello '\n",
    "text2 = 'Python!'\n",
    "new_text = text1 + text2\n",
    "print(new_text)"
   ]
  },
  {
   "cell_type": "markdown",
   "id": "verbal-catering",
   "metadata": {},
   "source": [
    "#### Appending (+=) adds a new string the the end of the current string"
   ]
  },
  {
   "cell_type": "markdown",
   "id": "pleasant-manchester",
   "metadata": {},
   "source": [
    "text1 = 'Hello '\n",
    "text2 = 'Python!'\n",
    "text1+=text2\n",
    "print(text1)"
   ]
  },
  {
   "cell_type": "markdown",
   "id": "unusual-engine",
   "metadata": {},
   "source": [
    "#### To repeat a string, the multiplication (*) operator is used"
   ]
  },
  {
   "cell_type": "code",
   "execution_count": null,
   "id": "oriented-joining",
   "metadata": {},
   "outputs": [],
   "source": [
    "text = 'Hello, Python! '\n",
    "print(text*4)"
   ]
  },
  {
   "cell_type": "markdown",
   "id": "patent-acoustic",
   "metadata": {},
   "source": [
    "#### Accessing the item by indexing"
   ]
  },
  {
   "cell_type": "code",
   "execution_count": null,
   "id": "decimal-melbourne",
   "metadata": {},
   "outputs": [],
   "source": [
    "text = 'Hello, Python!'\n",
    "print(text[0:5]) # Pozitive indexing\n",
    "print(text[4])\n",
    "print(text[-7:]) # Negative indexing\n",
    "print(text[-7:-1])\n"
   ]
  },
  {
   "cell_type": "markdown",
   "id": "steady-trader",
   "metadata": {},
   "source": [
    "#### Striding in slicing"
   ]
  },
  {
   "cell_type": "markdown",
   "id": "tired-orange",
   "metadata": {},
   "source": [
    "The third parameter specifies the stride, which refers to how many characters to move forward after the first\n",
    "character is retrieved from the string"
   ]
  },
  {
   "cell_type": "code",
   "execution_count": null,
   "id": "norwegian-republic",
   "metadata": {},
   "outputs": [],
   "source": [
    "text = 'Hello, Python!'\n",
    "print(len(text))\n",
    "print(text[:14]) # Default stride value is 1.\n",
    "print(text[0:14:2])\n",
    "print(text[::3])\n"
   ]
  },
  {
   "cell_type": "markdown",
   "id": "respected-viewer",
   "metadata": {},
   "source": [
    "#### Reverse string"
   ]
  },
  {
   "cell_type": "markdown",
   "id": "medium-damages",
   "metadata": {},
   "source": [
    "The stride value is equal to -1 if a reverse string is wanted to obtain"
   ]
  },
  {
   "cell_type": "code",
   "execution_count": null,
   "id": "exempt-portable",
   "metadata": {},
   "outputs": [],
   "source": [
    "text = 'Hello, Python!'\n",
    "print(text[::-1])"
   ]
  },
  {
   "cell_type": "markdown",
   "id": "gross-silicon",
   "metadata": {},
   "source": [
    "#### in and not in"
   ]
  },
  {
   "cell_type": "markdown",
   "id": "current-repair",
   "metadata": {},
   "source": [
    "- in returns True when the character or word is in the given string, otherwise False.\n",
    "- not in returns False when the character or word is in the given string, otherwise True."
   ]
  },
  {
   "cell_type": "code",
   "execution_count": null,
   "id": "rapid-forest",
   "metadata": {},
   "outputs": [],
   "source": [
    "text = 'Hello, Python!'\n",
    "print('H' in text)\n",
    "print('H' not in text)\n",
    "print('c' not in text)\n",
    "print('c' in text)\n"
   ]
  },
  {
   "cell_type": "markdown",
   "id": "hawaiian-telescope",
   "metadata": {},
   "source": [
    "### String Functions in Python"
   ]
  },
  {
   "cell_type": "markdown",
   "id": "arbitrary-patient",
   "metadata": {},
   "source": [
    "You can find some useful functions from the below table."
   ]
  },
  {
   "cell_type": "code",
   "execution_count": null,
   "id": "universal-sellers",
   "metadata": {},
   "outputs": [],
   "source": [
    "image_path = \"string_functions.png\"\n",
    "image = Image.open(image_path)"
   ]
  },
  {
   "cell_type": "code",
   "execution_count": null,
   "id": "realistic-lover",
   "metadata": {},
   "outputs": [],
   "source": [
    "image"
   ]
  },
  {
   "cell_type": "markdown",
   "id": "absent-commonwealth",
   "metadata": {},
   "source": [
    "### capitalize() function"
   ]
  },
  {
   "cell_type": "code",
   "execution_count": null,
   "id": "duplicate-scottish",
   "metadata": {},
   "outputs": [],
   "source": [
    "It converts the first character of the string into uppercase."
   ]
  },
  {
   "cell_type": "code",
   "execution_count": null,
   "id": "quiet-sense",
   "metadata": {},
   "outputs": [],
   "source": [
    "text = 'hello, python!'\n",
    "print(f'Before capitalizing: {text}')\n",
    "text = text.capitalize()\n",
    "print(f'After capitalizing: {text}')"
   ]
  },
  {
   "cell_type": "markdown",
   "id": "vanilla-parts",
   "metadata": {},
   "source": [
    "### casefold() function"
   ]
  },
  {
   "cell_type": "markdown",
   "id": "occasional-religious",
   "metadata": {},
   "source": [
    "It converts the characters in the certain string into lowercase."
   ]
  },
  {
   "cell_type": "code",
   "execution_count": null,
   "id": "economic-brother",
   "metadata": {},
   "outputs": [],
   "source": [
    "text = 'Hello, Python!'\n",
    "print(f'Before casefold: {text}')\n",
    "text = text.casefold()\n",
    "print(f'After casefold: {text}')"
   ]
  },
  {
   "cell_type": "markdown",
   "id": "positive-pricing",
   "metadata": {},
   "source": [
    "### center() function"
   ]
  },
  {
   "cell_type": "markdown",
   "id": "funky-satin",
   "metadata": {},
   "source": [
    "It will center align the string, using a specified character (space is default) as the fill character."
   ]
  },
  {
   "cell_type": "code",
   "execution_count": null,
   "id": "superb-mistake",
   "metadata": {},
   "outputs": [],
   "source": [
    "text = 'Hello, Python!'\n",
    "print(f'Before center() function: {text}')\n",
    "text = text.center(50)\n",
    "print(f'After center() function: {text}')\n",
    "new_text = 'Hi, Python!'\n",
    "new_text = new_text.center(50, '-')\n",
    "print(f'After center() function: {new_text}')"
   ]
  },
  {
   "cell_type": "markdown",
   "id": "finite-generator",
   "metadata": {},
   "source": [
    "### count() function"
   ]
  },
  {
   "cell_type": "markdown",
   "id": "developmental-baking",
   "metadata": {},
   "source": [
    "It returns the number of a certain characters in a string."
   ]
  },
  {
   "cell_type": "code",
   "execution_count": null,
   "id": "engaged-monitor",
   "metadata": {},
   "outputs": [],
   "source": [
    "text = 'Hello, Python!'\n",
    "print(f\"The number of the character 'o' in the string is {text.count('o')}.\")"
   ]
  },
  {
   "cell_type": "markdown",
   "id": "dress-paraguay",
   "metadata": {},
   "source": [
    "### endswith() function"
   ]
  },
  {
   "cell_type": "markdown",
   "id": "partial-soldier",
   "metadata": {},
   "source": [
    "It returns True if the strings ends with a certain value."
   ]
  },
  {
   "cell_type": "code",
   "execution_count": null,
   "id": "furnished-capture",
   "metadata": {},
   "outputs": [],
   "source": [
    "text = 'Hello, Python!'\n",
    "text = text.endswith('Python!')\n",
    "print(text)\n",
    "new_text = 'Hi, Python!'\n",
    "new_text = new_text.endswith('World!')\n",
    "print(new_text)\n"
   ]
  },
  {
   "cell_type": "markdown",
   "id": "original-fight",
   "metadata": {},
   "source": [
    "### find() function"
   ]
  },
  {
   "cell_type": "markdown",
   "id": "industrial-trade",
   "metadata": {},
   "source": [
    "It investigates the string for a certain value and returns the position of where it was found."
   ]
  },
  {
   "cell_type": "code",
   "execution_count": null,
   "id": "executed-flashing",
   "metadata": {},
   "outputs": [],
   "source": [
    "text = 'Hello, Python!'\n",
    "print(text.find('Python'))\n",
    "print(text.find('World', 0, 14)) # It returns -1 if the value is not found.\n"
   ]
  },
  {
   "cell_type": "markdown",
   "id": "immune-lying",
   "metadata": {},
   "source": [
    "### format() function"
   ]
  },
  {
   "cell_type": "markdown",
   "id": "soviet-glenn",
   "metadata": {},
   "source": [
    "- It formats the specified value(s) and insert them inside the string's placeholder.\n",
    "- The placeholder is defined using curly brackets: {}."
   ]
  },
  {
   "cell_type": "code",
   "execution_count": null,
   "id": "packed-breakfast",
   "metadata": {},
   "outputs": [],
   "source": [
    "text = 'Hello {} and Hi {}'.format('World!', 'Python!')\n",
    "print(text)\n",
    "text = 'Hello {world} and Hi {python}'.format(world='World!', python='Python!')\n",
    "print(text)\n",
    "text = 'Hello {0} and Hi {1}'.format('World!', 'Python!')\n",
    "print(text)\n",
    "text = 'Hello {1} and Hi {0}'.format('World!', 'Python!')\n",
    "print(text)"
   ]
  },
  {
   "cell_type": "markdown",
   "id": "continuous-enlargement",
   "metadata": {},
   "source": [
    "### index() function"
   ]
  },
  {
   "cell_type": "markdown",
   "id": "miniature-longitude",
   "metadata": {},
   "source": [
    "It examines the string for a certain value and returns the position of where it was found."
   ]
  },
  {
   "cell_type": "code",
   "execution_count": null,
   "id": "adjacent-discount",
   "metadata": {},
   "outputs": [],
   "source": [
    "text = 'Hello, Python!'\n",
    "print(text.index('Python!'))\n",
    "print(text.index('Hello'))\n",
    "print(text.index('Hi')) # If the value is not found, it returns a 'ValueError'\n"
   ]
  },
  {
   "cell_type": "markdown",
   "id": "expensive-tiger",
   "metadata": {},
   "source": [
    "### isalnum() function"
   ]
  },
  {
   "cell_type": "markdown",
   "id": "confidential-fantasy",
   "metadata": {},
   "source": [
    "It returns True if all characters in the string are alphanumeric."
   ]
  },
  {
   "cell_type": "code",
   "execution_count": null,
   "id": "intense-plain",
   "metadata": {},
   "outputs": [],
   "source": [
    "text = 'Hello, Python!'\n",
    "print(text.isalnum())\n",
    "msg = 'Hello1358'\n",
    "print(msg.isalnum())"
   ]
  },
  {
   "cell_type": "markdown",
   "id": "environmental-alexander",
   "metadata": {},
   "source": [
    "### isalpha() function"
   ]
  },
  {
   "cell_type": "markdown",
   "id": "linear-smell",
   "metadata": {},
   "source": [
    "- It returns True if all characters in the string are alphabets.\n",
    "- White spaces are not considered as alphabets and thus it returns False."
   ]
  },
  {
   "cell_type": "code",
   "execution_count": null,
   "id": "centered-lender",
   "metadata": {},
   "outputs": [],
   "source": [
    "text = 'Hello'\n",
    "print(text.isalpha())\n",
    "text = 'Hello1358' # The text contains numbers.\n",
    "print(text.isalpha())\n",
    "text = 'Hello Python!' # The text contains a white space.\n",
    "print(text.isalpha())\n"
   ]
  },
  {
   "cell_type": "markdown",
   "id": "incoming-scale",
   "metadata": {},
   "source": [
    "### isdecimal() function"
   ]
  },
  {
   "cell_type": "markdown",
   "id": "saved-weekend",
   "metadata": {},
   "source": [
    "It returns True if all the characters in the given string are decimal numbers ( 0-9)."
   ]
  },
  {
   "cell_type": "code",
   "execution_count": null,
   "id": "rotary-greeting",
   "metadata": {},
   "outputs": [],
   "source": [
    "text = 'Hello'\n",
    "print(text.isdecimal())\n",
    "numbered_text = '011235813'\n",
    "print(numbered_text.isdecimal())"
   ]
  },
  {
   "cell_type": "markdown",
   "id": "standing-visitor",
   "metadata": {},
   "source": [
    "### isdigit() function"
   ]
  },
  {
   "cell_type": "markdown",
   "id": "excessive-victor",
   "metadata": {},
   "source": [
    "This function returns True if all the characters in the string and the Unicode characters are digits."
   ]
  },
  {
   "cell_type": "code",
   "execution_count": null,
   "id": "computational-modeling",
   "metadata": {},
   "outputs": [],
   "source": [
    "numbered_text = '011235813'\n",
    "print(numbered_text.isdigit())\n"
   ]
  },
  {
   "cell_type": "markdown",
   "id": "complicated-surprise",
   "metadata": {},
   "source": [
    "### isidentifier() function"
   ]
  },
  {
   "cell_type": "markdown",
   "id": "searching-questionnaire",
   "metadata": {},
   "source": [
    "It returns True if the string is a valid identifier, on the contrary False."
   ]
  },
  {
   "cell_type": "code",
   "execution_count": null,
   "id": "difficult-complexity",
   "metadata": {},
   "outputs": [],
   "source": [
    "numbered_text = '011235813'\n",
    "print(numbered_text.isidentifier())\n",
    "variable = 'numbered_text'\n",
    "print(variable.isidentifier())\n"
   ]
  },
  {
   "cell_type": "markdown",
   "id": "recorded-reach",
   "metadata": {},
   "source": [
    "### isprintable() function"
   ]
  },
  {
   "cell_type": "markdown",
   "id": "buried-palestinian",
   "metadata": {},
   "source": [
    "It returns True if all the characters in the string are printable features."
   ]
  },
  {
   "cell_type": "code",
   "execution_count": null,
   "id": "swiss-variable",
   "metadata": {},
   "outputs": [],
   "source": [
    "text = 'Hello, Python!'\n",
    "print(text.isprintable())\n",
    "new_text = 'Hello, \\n Python!'\n",
    "print(new_text.isprintable())\n",
    "space = ' '\n",
    "print(space.isprintable())\n"
   ]
  },
  {
   "cell_type": "markdown",
   "id": "reverse-finger",
   "metadata": {},
   "source": [
    "### isspace() function"
   ]
  },
  {
   "cell_type": "markdown",
   "id": "spread-swing",
   "metadata": {},
   "source": [
    "It returns True if all the characters in the string are whitespaces."
   ]
  },
  {
   "cell_type": "code",
   "execution_count": null,
   "id": "balanced-control",
   "metadata": {},
   "outputs": [],
   "source": [
    "text = 'Hello, Python!'\n",
    "print(text.isspace())\n",
    "space = ' '\n",
    "print(space.isspace())"
   ]
  },
  {
   "cell_type": "markdown",
   "id": "instant-checklist",
   "metadata": {},
   "source": [
    "### islower() and lower() functions"
   ]
  },
  {
   "cell_type": "markdown",
   "id": "framed-employee",
   "metadata": {},
   "source": [
    "- The function islower() returns True if all the characters in the string are lower case, on the contrary False.\n",
    "- The function lower() converts the certain string to lower case."
   ]
  },
  {
   "cell_type": "code",
   "execution_count": null,
   "id": "monthly-bicycle",
   "metadata": {},
   "outputs": [],
   "source": [
    "text = 'Hello, Python!'\n",
    "print(text.islower())\n",
    "text = text.lower() # It converts to lower case all the characters in the string.\n",
    "print(text.islower()) # Now, it returns True.\n"
   ]
  },
  {
   "cell_type": "markdown",
   "id": "overall-observation",
   "metadata": {},
   "source": [
    "### isupper() and upper() functions"
   ]
  },
  {
   "cell_type": "markdown",
   "id": "relevant-arnold",
   "metadata": {},
   "source": [
    "- The function isupper() returns True if all the characters in the string are upper case, on the contrary False.\n",
    "- The function upper() converts the string to uppercase."
   ]
  },
  {
   "cell_type": "code",
   "execution_count": null,
   "id": "subject-luxury",
   "metadata": {},
   "outputs": [],
   "source": [
    "text = 'Hello, Python!'\n",
    "print(text.isupper())\n",
    "text = text.upper() # It converts to upper case all the characters in the string.\n",
    "print(text.isupper()) # Now, it returns True.\n"
   ]
  },
  {
   "cell_type": "markdown",
   "id": "obvious-lindsay",
   "metadata": {},
   "source": [
    "### join() function"
   ]
  },
  {
   "cell_type": "markdown",
   "id": "economic-poland",
   "metadata": {},
   "source": [
    "- It takes all items in an iterable and joins them into one string.\n",
    "- A string must be specified as the separator."
   ]
  },
  {
   "cell_type": "code",
   "execution_count": null,
   "id": "honest-candy",
   "metadata": {},
   "outputs": [],
   "source": [
    "text_list = ['Hello', 'World', 'Hi', 'Python']\n",
    "print('#'. join(text_list))\n",
    "text_tuple = ('Hello', 'World', 'Hi', 'Python')\n",
    "print('+'. join(text_tuple))\n",
    "text_set = {'Hello', 'World', 'Hi', 'Python'}\n",
    "print('--'. join(text_set))\n",
    "text_dict = {'val1': 'Hello', 'val2': 'World', 'val3': 'Hi', 'val4': 'Python'}\n",
    "print('--'. join(text_dict))"
   ]
  },
  {
   "cell_type": "markdown",
   "id": "sophisticated-communications",
   "metadata": {},
   "source": [
    "### ljust() function"
   ]
  },
  {
   "cell_type": "markdown",
   "id": "hired-boxing",
   "metadata": {},
   "source": [
    "It returns the left justified version of the certain string."
   ]
  },
  {
   "cell_type": "code",
   "execution_count": null,
   "id": "respected-provider",
   "metadata": {},
   "outputs": [],
   "source": [
    "text = 'Python'\n",
    "text = text.ljust(30, '-')\n",
    "print(text, 'is my favorite programming language.')"
   ]
  },
  {
   "cell_type": "markdown",
   "id": "higher-serve",
   "metadata": {},
   "source": [
    "### rjust() function"
   ]
  },
  {
   "cell_type": "markdown",
   "id": "rough-middle",
   "metadata": {},
   "source": [
    "It returns the right justified version of the certain string."
   ]
  },
  {
   "cell_type": "code",
   "execution_count": null,
   "id": "available-labor",
   "metadata": {},
   "outputs": [],
   "source": [
    "text = 'Python'\n",
    "text = text.rjust(30, '-')\n",
    "print(text, 'is my favorite programming language.')\n"
   ]
  },
  {
   "cell_type": "markdown",
   "id": "explicit-kinase",
   "metadata": {},
   "source": [
    "### lstrip() function"
   ]
  },
  {
   "cell_type": "markdown",
   "id": "higher-korea",
   "metadata": {},
   "source": [
    "It removes characters from the left based on the argument (a string specifying the set of characters to be\n",
    "removed)."
   ]
  },
  {
   "cell_type": "code",
   "execution_count": null,
   "id": "cheap-sense",
   "metadata": {},
   "outputs": [],
   "source": [
    "text = ' Hello Python! '\n",
    "print(text.lstrip()) # It did not delete the white spaces in the right side. "
   ]
  },
  {
   "cell_type": "markdown",
   "id": "ancient-priority",
   "metadata": {},
   "source": [
    "### rstrip() function"
   ]
  },
  {
   "cell_type": "markdown",
   "id": "accessory-complement",
   "metadata": {},
   "source": [
    "It removes characters from the right based on the argument (a string specifying the set of characters to be\n",
    "removed)."
   ]
  },
  {
   "cell_type": "code",
   "execution_count": null,
   "id": "precise-washer",
   "metadata": {},
   "outputs": [],
   "source": [
    "text = ' Hello Python! '\n",
    "print(text.rstrip()) # It did not delete the white spaces in the left side. "
   ]
  },
  {
   "cell_type": "markdown",
   "id": "serial-macintosh",
   "metadata": {},
   "source": [
    "### strip() function"
   ]
  },
  {
   "cell_type": "markdown",
   "id": "theoretical-spencer",
   "metadata": {},
   "source": [
    "- It removes or truncates the given characters from the beginning and the end of the original string.\n",
    "- The default behavior of the strip() method is to remove the whitespace from the beginning and at the end\n",
    "of the string."
   ]
  },
  {
   "cell_type": "code",
   "execution_count": null,
   "id": "resident-citation",
   "metadata": {},
   "outputs": [],
   "source": [
    "text = ' Hello Python! '\n",
    "print(text.strip()) # It deleted the white spaces in the both side. \n"
   ]
  },
  {
   "cell_type": "markdown",
   "id": "ordered-graphics",
   "metadata": {},
   "source": [
    "### replace() function"
   ]
  },
  {
   "cell_type": "markdown",
   "id": "greatest-elizabeth",
   "metadata": {},
   "source": [
    "Replaces a specified phrase with another specified phrase."
   ]
  },
  {
   "cell_type": "markdown",
   "id": "necessary-bracket",
   "metadata": {},
   "source": [
    "text = 'JavaScript is a programming language.'\n",
    "print(text)\n",
    "modified_text = text.replace('JavaScript', 'Python', 1)\n",
    "print(modified_text)"
   ]
  },
  {
   "cell_type": "code",
   "execution_count": null,
   "id": "processed-masters",
   "metadata": {},
   "outputs": [],
   "source": [
    "text = 'Jython is a programming language.'\n",
    "print(text)\n",
    "modified_text = text.replace('J', 'P')\n",
    "print(modified_text)"
   ]
  },
  {
   "cell_type": "markdown",
   "id": "center-hobby",
   "metadata": {},
   "source": [
    "### partition() function"
   ]
  },
  {
   "cell_type": "markdown",
   "id": "resistant-employment",
   "metadata": {},
   "source": [
    "- It searches for a specified string, and splits the string into a tuple containing three elements.\n",
    "- The first element contains the part before the specified string.\n",
    "- The second element contains the specified string.\n",
    "- The third element contains the part after the string."
   ]
  },
  {
   "cell_type": "code",
   "execution_count": null,
   "id": "colored-iceland",
   "metadata": {},
   "outputs": [],
   "source": [
    "text = 'Hello World!, Hi Python!'\n",
    "print(text.partition('Hi'))"
   ]
  },
  {
   "cell_type": "markdown",
   "id": "weighted-inspiration",
   "metadata": {},
   "source": [
    "### rfind() function"
   ]
  },
  {
   "cell_type": "markdown",
   "id": "reliable-split",
   "metadata": {},
   "source": [
    "- The rfind() method finds the last occurrence of the specified value.\n",
    "- The rfind() method returns -1 if the value is not found.\n",
    "- The rfind() method is almost the same as the rindex() method."
   ]
  },
  {
   "cell_type": "code",
   "execution_count": null,
   "id": "widespread-charles",
   "metadata": {},
   "outputs": [],
   "source": [
    "text = 'Hello, Python is my favorite programming language.'\n",
    "print(f\"'Python' is in the position {text.rfind('Python')}.\")\n",
    "print(f\"'my' is in the position {text.rfind('my')}.\")\n",
    "print(f\"'close' is in the position {text.rfind('close')}.\")"
   ]
  },
  {
   "cell_type": "markdown",
   "id": "juvenile-review",
   "metadata": {},
   "source": [
    "### rindex() function"
   ]
  },
  {
   "cell_type": "markdown",
   "id": "superb-sleeve",
   "metadata": {},
   "source": [
    "- The rindex() method finds the last occurrence of the specified value.\n",
    "- The rindex() method raises a ValueError exception if the value is not found.\n",
    "- The rindex() method is almost the same as the rfind() method."
   ]
  },
  {
   "cell_type": "code",
   "execution_count": null,
   "id": "stylish-termination",
   "metadata": {},
   "outputs": [],
   "source": [
    "text = 'Hello, Python is my favorite programming language.'\n",
    "print(f\"'Python' is in the position {text.rindex('Python')}.\")\n",
    "print(f\"'my' is in the position {text.rindex('my')}.\")\n",
    "print(f\"'close' is in the position {text.rindex('close')}.\")\n"
   ]
  },
  {
   "cell_type": "markdown",
   "id": "synthetic-jonathan",
   "metadata": {},
   "source": [
    "### swapcase() function"
   ]
  },
  {
   "cell_type": "markdown",
   "id": "anticipated-endorsement",
   "metadata": {},
   "source": [
    "This function converts the uppercase characters into lowercase and vice versa."
   ]
  },
  {
   "cell_type": "code",
   "execution_count": null,
   "id": "central-oregon",
   "metadata": {},
   "outputs": [],
   "source": [
    "text = 'Hello Python!'\n",
    "print(text.swapcase())\n",
    "text = 'hELLO pYTHON!'\n",
    "print(text.swapcase())\n"
   ]
  },
  {
   "cell_type": "markdown",
   "id": "opening-placement",
   "metadata": {},
   "source": [
    "### title() function"
   ]
  },
  {
   "cell_type": "markdown",
   "id": "demonstrated-horizontal",
   "metadata": {},
   "source": [
    "This function converts the first character in the given string into uppercase."
   ]
  },
  {
   "cell_type": "code",
   "execution_count": null,
   "id": "international-worth",
   "metadata": {},
   "outputs": [],
   "source": [
    "text = 'hello world, hi python!'\n",
    "print(text.title())"
   ]
  },
  {
   "cell_type": "markdown",
   "id": "crazy-phone",
   "metadata": {},
   "source": [
    "# 16. Arrays in Python"
   ]
  },
  {
   "cell_type": "markdown",
   "id": "communist-logging",
   "metadata": {},
   "source": [
    "- Array is a container which can hold a fix number of items and these items should be of the same type.\n",
    "- Most of the data structures make use of arrays to implement their algorithms.\n",
    "- Lists can be used to form arrays.\n",
    "- Following are the important terms to understand the concept of Array.\n",
    "- Element: Each item stored in an array is called an element.\n",
    "- Index: Each location of an element in an array has a numerical index, which is used to identify the\n",
    "element."
   ]
  },
  {
   "cell_type": "code",
   "execution_count": null,
   "id": "interesting-electric",
   "metadata": {},
   "outputs": [],
   "source": [
    "image_path = \"array.png\"\n",
    "image = Image.open(image_path)"
   ]
  },
  {
   "cell_type": "code",
   "execution_count": null,
   "id": "endless-conversation",
   "metadata": {},
   "outputs": [],
   "source": [
    "image"
   ]
  },
  {
   "cell_type": "markdown",
   "id": "caroline-desert",
   "metadata": {},
   "source": [
    "- Array index begins with 0.\n",
    "- Each element in the array can be accessed with its index number.\n",
    "- The length of the array describes the capacity to store the elements.\n",
    "- Basic array operations are Traverse, Insertion, Deletion, Search, and Update.\n"
   ]
  },
  {
   "cell_type": "markdown",
   "id": "atomic-senator",
   "metadata": {},
   "source": [
    "### Creating an array"
   ]
  },
  {
   "cell_type": "code",
   "execution_count": null,
   "id": "surprised-table",
   "metadata": {},
   "outputs": [],
   "source": [
    "You should import the module name 'array' as follows:"
   ]
  },
  {
   "cell_type": "markdown",
   "id": "typical-prediction",
   "metadata": {},
   "source": [
    "- import array or from array import (*).\n",
    "- (*) means that it covers all features of the array."
   ]
  },
  {
   "cell_type": "code",
   "execution_count": null,
   "id": "preceding-union",
   "metadata": {},
   "outputs": [],
   "source": [
    "# Import the module\n",
    "import array as arr\n",
    "from array import *\n"
   ]
  },
  {
   "cell_type": "code",
   "execution_count": null,
   "id": "emotional-uniform",
   "metadata": {},
   "outputs": [],
   "source": [
    "# To access more information regarding array, you can execute the following commands\n",
    "help(arr)"
   ]
  },
  {
   "cell_type": "markdown",
   "id": "sunrise-hometown",
   "metadata": {},
   "source": [
    "### Type code"
   ]
  },
  {
   "cell_type": "markdown",
   "id": "former-gates",
   "metadata": {},
   "source": [
    "- Arrays represent basic values and behave very much like lists, except the type of objects stored in them is\n",
    "constrained.\n",
    "- The type is specified at object creation time by using a type code, which is a single character.\n",
    "- The following type codes are defined:"
   ]
  },
  {
   "cell_type": "code",
   "execution_count": null,
   "id": "fresh-syndicate",
   "metadata": {},
   "outputs": [],
   "source": [
    "image_path = \"byte.png\"\n",
    "image = Image.open(image_path)"
   ]
  },
  {
   "cell_type": "code",
   "execution_count": null,
   "id": "developed-sapphire",
   "metadata": {},
   "outputs": [],
   "source": [
    "image"
   ]
  },
  {
   "cell_type": "code",
   "execution_count": null,
   "id": "conceptual-problem",
   "metadata": {},
   "outputs": [],
   "source": [
    "special_nums = arr.array('d', [0.577, 1.618, 2.718, 3.14, 6, 37, 1729])\n",
    "for i in special_nums:\n",
    " print(i)"
   ]
  },
  {
   "cell_type": "markdown",
   "id": "decimal-crash",
   "metadata": {},
   "source": [
    "### Accessing"
   ]
  },
  {
   "cell_type": "code",
   "execution_count": null,
   "id": "revised-surprise",
   "metadata": {},
   "outputs": [],
   "source": [
    "special_nums = arr.array('d', [0.577, 1.618, 2.718, 3.14, 6, 37, 1729])\n",
    "print(f'First element of numbers is {special_nums[0]}, called euler constant.')\n",
    "print(f'Second element of numbers is {special_nums[1]}, called golden_ratio.')\n",
    "print(f'Last element of numbers is {special_nums[-1]}, called Ramanujan-Hardy number.')\n"
   ]
  },
  {
   "cell_type": "markdown",
   "id": "pretty-literacy",
   "metadata": {},
   "source": [
    "### Changing or Updating"
   ]
  },
  {
   "cell_type": "code",
   "execution_count": null,
   "id": "demonstrated-siemens",
   "metadata": {},
   "outputs": [],
   "source": [
    "nums = arr.array('i', [0, 1, 1, 2, 3, 5, 8, 13, 21, 34])\n",
    "# Changing the first element of the array\n",
    "nums[0] = 55\n",
    "print(nums)\n",
    "# Changing 2nd to 4th elements of the array\n",
    "nums[1:4] =arr.array('i', [89, 144, 233, 377])\n",
    "print(nums)\n"
   ]
  },
  {
   "cell_type": "markdown",
   "id": "technical-triumph",
   "metadata": {},
   "source": [
    "### Deleting"
   ]
  },
  {
   "cell_type": "code",
   "execution_count": null,
   "id": "divine-louis",
   "metadata": {},
   "outputs": [],
   "source": [
    "nums = arr.array('i', [0, 1, 1, 2, 3, 5, 8, 13, 21, 34])\n",
    "# Deleting the first element of the array\n",
    "del nums[0]\n",
    "print(nums)\n",
    "# Deleting the 2nd to 4th elements of the array\n",
    "del nums[1:4]\n",
    "print(nums)"
   ]
  },
  {
   "cell_type": "markdown",
   "id": "catholic-documentation",
   "metadata": {},
   "source": [
    "### Lenght of the array"
   ]
  },
  {
   "cell_type": "code",
   "execution_count": null,
   "id": "useful-stability",
   "metadata": {},
   "outputs": [],
   "source": [
    "special_nums = arr.array('d', [0.577, 1.618, 2.718, 3.14, 6, 37, 1729])\n",
    "print(f'The length of the array is {len(special_nums)}.')\n"
   ]
  },
  {
   "cell_type": "markdown",
   "id": "ancient-teens",
   "metadata": {},
   "source": [
    "### Concatenation"
   ]
  },
  {
   "cell_type": "code",
   "execution_count": null,
   "id": "controlling-router",
   "metadata": {},
   "outputs": [],
   "source": [
    "special_nums = arr.array('d', [0.577, 1.618, 2.718, 3.14, 6, 37, 1729])\n",
    "fibonacci_nums = arr.array('d', [1, 1, 2, 3, 5, 8, 13, 21, 34])\n",
    "special_fibonacci_nums = arr.array('d')\n",
    "special_fibonacci_nums = special_nums + fibonacci_nums\n",
    "print(f'The new array called special_fibonacci_nums is {special_fibonacci_nums}.')"
   ]
  },
  {
   "cell_type": "markdown",
   "id": "matched-baseball",
   "metadata": {},
   "source": [
    "### Creating ID arrays"
   ]
  },
  {
   "cell_type": "code",
   "execution_count": null,
   "id": "under-nashville",
   "metadata": {},
   "outputs": [],
   "source": [
    "mult = 10\n",
    "one_array = [1]*mult\n",
    "print(one_array)"
   ]
  },
  {
   "cell_type": "code",
   "execution_count": null,
   "id": "burning-country",
   "metadata": {},
   "outputs": [],
   "source": [
    "mult = 10\n",
    "nums_array = [i for i in range(mult)]\n",
    "print(nums_array)\n"
   ]
  },
  {
   "cell_type": "markdown",
   "id": "ordered-glass",
   "metadata": {},
   "source": [
    "### Addition with the functions insert() and append()"
   ]
  },
  {
   "cell_type": "code",
   "execution_count": null,
   "id": "organizational-letters",
   "metadata": {},
   "outputs": [],
   "source": [
    "# Using the function 'insert()'\n",
    "fibonacci_nums = arr.array('i', [1, 1, 2, 3, 5, 8, 13, 21, 34])\n",
    "print('Before any additon into fibonacci numbers')\n",
    "for i in fibonacci_nums:\n",
    " print(i, end = ' ')\n",
    "print()\n",
    "print('After an element additon into fibonacci numbers')\n",
    "added_num = fibonacci_nums[-1] + fibonacci_nums[-2]\n",
    "fibonacci_nums.insert(9, added_num)\n",
    "for i in fibonacci_nums: \n",
    " print(i, end = ' ')\n",
    "print()\n",
    "print('After an element additon into fibonacci numbers')\n",
    "added_num = fibonacci_nums[-1] + fibonacci_nums[-2]\n",
    "fibonacci_nums.insert(10, added_num)\n",
    "for i in fibonacci_nums: \n",
    " print(i, end = ' ')\n"
   ]
  },
  {
   "cell_type": "code",
   "execution_count": null,
   "id": "included-queensland",
   "metadata": {},
   "outputs": [],
   "source": [
    "# Using the function 'append()'\n",
    "fibonacci_nums = arr.array('i', [1, 1, 2, 3, 5, 8, 13, 21, 34])\n",
    "print('Before any additon into fibonacci numbers')\n",
    "for i in fibonacci_nums:\n",
    " print(i, end = ' ')\n",
    "print()\n",
    "print('After an element additon into fibonacci numbers')\n",
    "added_num = fibonacci_nums[-1] + fibonacci_nums[-2]\n",
    "fibonacci_nums.append(added_num)\n",
    "for i in fibonacci_nums: \n",
    " print(i, end = ' ')\n",
    "print()\n",
    "print('After an element additon into fibonacci numbers')\n",
    "added_num = fibonacci_nums[-1] + fibonacci_nums[-2]\n",
    "fibonacci_nums.append(added_num)\n",
    "for i in fibonacci_nums: \n",
    " print(i, end = ' ')\n"
   ]
  },
  {
   "cell_type": "markdown",
   "id": "metropolitan-context",
   "metadata": {},
   "source": [
    "### Removing with the function remove() and pop()"
   ]
  },
  {
   "cell_type": "code",
   "execution_count": null,
   "id": "victorian-scholar",
   "metadata": {},
   "outputs": [],
   "source": [
    "# Using the function 'remove()'\n",
    "special_nums = arr.array('d', [0.577, 1.618, 2.718, 3.14, 6, 37, 1729])\n",
    "print('Before removing an element from the array')\n",
    "for i in special_nums:\n",
    " print(i, end = ' ')\n",
    "print()\n",
    "print('After removing an element from the array')\n",
    "special_nums.remove(0.577)\n",
    "for i in special_nums:\n",
    " print(i, end=' ')\n",
    "print()\n",
    "print('After removing one more element from the array')\n",
    "special_nums.remove(special_nums[0]) # We can make this using indexing\n",
    "for i in special_nums:\n",
    " print(i, end=' ')"
   ]
  },
  {
   "cell_type": "code",
   "execution_count": null,
   "id": "transsexual-nursing",
   "metadata": {},
   "outputs": [],
   "source": [
    "# Using the function 'pop()'\n",
    "# The function pop() removes the last element from the array\n",
    "special_nums = arr.array('d', [0.577, 1.618, 2.718, 3.14, 6, 37, 1729])\n",
    "print('Before removing an element from the array')\n",
    "for i in special_nums:\n",
    " print(i, end = ' ')\n",
    "print()\n",
    "print('After removing last element from the array')\n",
    "special_nums.pop()\n",
    "for i in special_nums:\n",
    " print(i, end=' ')\n",
    "print()\n",
    "print('After removing one more last element from the array')\n",
    "special_nums.pop()\n",
    "for i in special_nums:\n",
    " print(i, end=' ')\n",
    "print()\n",
    "print('After removing one more element using index from the array')\n",
    "special_nums.pop(3) # It deleted the pi number\n",
    "for i in special_nums:\n",
    " print(i, end=' ')\n",
    "print()\n"
   ]
  },
  {
   "cell_type": "markdown",
   "id": "brown-agent",
   "metadata": {},
   "source": [
    "### Slicing"
   ]
  },
  {
   "cell_type": "code",
   "execution_count": null,
   "id": "advanced-providence",
   "metadata": {},
   "outputs": [],
   "source": [
    "special_nums = arr.array('d', [0.577, 1.618, 2.718, 3.14, 6, 37, 1729])\n",
    "sliced_special_nums = special_nums[1:5] # It returns between index 1 and index 4, not index 5. \n",
    "print(sliced_special_nums)\n",
    "# or using for loop\n",
    "for i in sliced_special_nums:\n",
    " print(i, end = \" \")"
   ]
  },
  {
   "cell_type": "code",
   "execution_count": null,
   "id": "honest-chaos",
   "metadata": {},
   "outputs": [],
   "source": [
    "special_nums = arr.array('d', [0.577, 1.618, 2.718, 3.14, 6, 37, 1729])\n",
    "sliced_special_nums = special_nums[3:] # It returns index 3 and later. \n",
    "print(sliced_special_nums)\n"
   ]
  },
  {
   "cell_type": "code",
   "execution_count": null,
   "id": "altered-columbus",
   "metadata": {},
   "outputs": [],
   "source": [
    "special_nums = arr.array('d', [0.577, 1.618, 2.718, 3.14, 6, 37, 1729])\n",
    "sliced_special_nums = special_nums[:3] # It returns until index 2, not index 3. \n",
    "print(sliced_special_nums)"
   ]
  },
  {
   "cell_type": "code",
   "execution_count": null,
   "id": "spatial-effects",
   "metadata": {},
   "outputs": [],
   "source": [
    "special_nums = arr.array('d', [0.577, 1.618, 2.718, 3.14, 6, 37, 1729])\n",
    "sliced_special_nums = special_nums[:] # It returns all elements in the array\n",
    "print(sliced_special_nums)\n"
   ]
  },
  {
   "cell_type": "code",
   "execution_count": null,
   "id": "completed-honduras",
   "metadata": {},
   "outputs": [],
   "source": [
    "special_nums = arr.array('d', [0.577, 1.618, 2.718, 3.14, 6, 37, 1729])\n",
    "sliced_special_nums = special_nums[::-1] # It reverses the array. \n",
    "print(sliced_special_nums)"
   ]
  },
  {
   "cell_type": "markdown",
   "id": "rural-catholic",
   "metadata": {},
   "source": [
    "### Searching"
   ]
  },
  {
   "cell_type": "code",
   "execution_count": null,
   "id": "heard-hazard",
   "metadata": {},
   "outputs": [],
   "source": [
    "# To make a search in an array, use the function index()\n",
    "special_nums = arr.array('d', [0.577, 1.618, 2.718, 3.14, 6, 37, 1729])\n",
    "searched_item = special_nums.index(2.718)\n",
    "print(f'The searched item euler number 2.718 is present at index {searched_item}.')\n",
    "# printing with format\n",
    "print('The searched item euler number {} is present at index {}.'.format(2.718, searched_item))"
   ]
  },
  {
   "cell_type": "markdown",
   "id": "aware-modeling",
   "metadata": {},
   "source": [
    "### Copying"
   ]
  },
  {
   "cell_type": "markdown",
   "id": "measured-array",
   "metadata": {},
   "source": [
    "#### Copying using assignment"
   ]
  },
  {
   "cell_type": "markdown",
   "id": "marked-fever",
   "metadata": {},
   "source": [
    "This process gives the same ID number."
   ]
  },
  {
   "cell_type": "code",
   "execution_count": null,
   "id": "settled-quilt",
   "metadata": {},
   "outputs": [],
   "source": [
    "special_nums = arr.array('d', [0.577, 1.618, 2.718, 3.14, 6, 37, 1729])\n",
    "copied_special_nums = special_nums\n",
    "print(special_nums, 'with the ID number', id(special_nums))\n",
    "print(copied_special_nums, 'with the ID number', id(copied_special_nums))\n",
    "# Using for loop\n",
    "for i in special_nums:\n",
    " print(i, end= ' ')\n",
    "print()\n",
    "print(f'The ID number of the array special_nums is {id(special_nums)}.')\n",
    "for i in copied_special_nums:\n",
    " print(i, end= ' ')\n",
    "print()\n",
    "print(f'The ID number of the array copied_special_nums is {id(copied_special_nums)}.')"
   ]
  },
  {
   "cell_type": "markdown",
   "id": "caring-guest",
   "metadata": {},
   "source": [
    "#### Copying using view()"
   ]
  },
  {
   "cell_type": "code",
   "execution_count": null,
   "id": "dirty-creek",
   "metadata": {},
   "outputs": [],
   "source": [
    "# import numpy library\n",
    "import numpy as np\n",
    "# Copying the array\n",
    "special_nums = np.array( [0.577, 1.618, 2.718, 3.14, 6, 37, 1729])\n",
    "copied_special_nums = special_nums.view()\n",
    "print(special_nums, 'with the ID number', id(special_nums))\n",
    "print(copied_special_nums, 'with the ID number', id(copied_special_nums))\n",
    "#Using for loop\n",
    "for i in special_nums:\n",
    " print(i, end = ' ')\n",
    "print()\n",
    "for i in copied_special_nums:\n",
    " print(i, end = ' ')"
   ]
  },
  {
   "cell_type": "markdown",
   "id": "terminal-element",
   "metadata": {},
   "source": [
    "#### Copying using copy()"
   ]
  },
  {
   "cell_type": "markdown",
   "id": "pleasant-nudist",
   "metadata": {},
   "source": [
    "This process gives the different ID number"
   ]
  },
  {
   "cell_type": "code",
   "execution_count": null,
   "id": "uniform-hobby",
   "metadata": {},
   "outputs": [],
   "source": [
    "# import numpy library\n",
    "import numpy as np\n",
    "# Copying the array\n",
    "special_nums = np.array( [0.577, 1.618, 2.718, 3.14, 6, 37, 1729])\n",
    "copied_special_nums = special_nums.copy()\n",
    "print(special_nums, 'with the ID number', id(special_nums))\n",
    "print(copied_special_nums, 'with the ID number', id(copied_special_nums))\n",
    "#Using for loop\n",
    "for i in special_nums:\n",
    " print(i, end = ' ')\n",
    "print()\n",
    "for i in copied_special_nums:\n",
    " print(i, end = ' ')"
   ]
  },
  {
   "cell_type": "markdown",
   "id": "conscious-coffee",
   "metadata": {},
   "source": [
    "# 17. Lambda Functions in Python"
   ]
  },
  {
   "cell_type": "markdown",
   "id": "fourth-italian",
   "metadata": {},
   "source": [
    "- A lambda function is a small anonymous function.\n",
    "- A lambda function can take any number of arguments, but can only have one expression.\n",
    "- The expression is evaluated and returned.\n",
    "- Lambda functions can be used wherever function objects are required.\n",
    "- Lambda expressions (or lambda functions) are essentially blocks of code that can be assigned to variables,\n",
    "passed as an argument, or returned from a function call, in languages that support high-order functions.\n",
    "- They have been part of programming languages for quite some time.\n",
    "- The main role of the lambda function is better described in the scenarios when we employ them\n",
    "anonymously inside another function.\n",
    "- In Python, the lambda function can be utilized as an argument to the higher order functions as\n",
    "arguments."
   ]
  },
  {
   "cell_type": "code",
   "execution_count": null,
   "id": "nearby-tradition",
   "metadata": {},
   "outputs": [],
   "source": [
    "image_path = \"lambda.png\"\n",
    "image = Image.open(image_path)"
   ]
  },
  {
   "cell_type": "code",
   "execution_count": null,
   "id": "little-advancement",
   "metadata": {},
   "outputs": [],
   "source": [
    "image"
   ]
  },
  {
   "cell_type": "code",
   "execution_count": null,
   "id": "spare-episode",
   "metadata": {},
   "outputs": [],
   "source": [
    "# Define a function using 'def'\n",
    "def f(x):\n",
    " return x + 6\n",
    "print(f(3.14))\n",
    "# Define the same function using 'lambda'\n",
    "(lambda x: x+6) (3.14)\n"
   ]
  },
  {
   "cell_type": "code",
   "execution_count": null,
   "id": "lasting-advancement",
   "metadata": {},
   "outputs": [],
   "source": [
    "# Define a function using 'def'\n",
    "def f(x, y):\n",
    " return x + y\n",
    " \n",
    "print('The sum of {} and {} is'.format(3.14, 2.718), f(3.14, 2.718))\n",
    "# Define the same function using 'lambda\n",
    "print(f'The sum of pi number and euler number is {(lambda x, y: x+y)(3.14, 2.718)}.')\n"
   ]
  },
  {
   "cell_type": "code",
   "execution_count": null,
   "id": "otherwise-theology",
   "metadata": {},
   "outputs": [],
   "source": [
    "# Calculate the volume of a cube using def and lambda functions\n",
    "# def function\n",
    "def cube_volume_def(a):\n",
    " return a*a*a\n",
    "print(f'The volume of a cube using def function is {cube_volume_def(3.14)}.')\n",
    "# lambda function\n",
    "print(f'The volume of a cube using lambda function is {(lambda a: a*a*a)(3.14)}.')"
   ]
  },
  {
   "cell_type": "markdown",
   "id": "central-imagination",
   "metadata": {},
   "source": [
    "### Multiplication table"
   ]
  },
  {
   "cell_type": "code",
   "execution_count": null,
   "id": "pleased-pulse",
   "metadata": {},
   "outputs": [],
   "source": [
    "def mult_table(n):\n",
    " return lambda x:x*n\n",
    "n = int(input('Enter a number: '))\n",
    "y = mult_table(n)\n",
    "print(f'The entered number is {n}.')\n",
    "for i in range(11):\n",
    " print(('%d x %d = %d' %(n, i, y(i))))"
   ]
  },
  {
   "cell_type": "markdown",
   "id": "electoral-enclosure",
   "metadata": {},
   "source": [
    "### filter()"
   ]
  },
  {
   "cell_type": "code",
   "execution_count": null,
   "id": "important-offering",
   "metadata": {},
   "outputs": [],
   "source": [
    "# This program returns a new list when the special numbers in the list are divided by 2 and the remainder is equal to 0\n",
    "special_nums = [0.577, 1.618, 2.718, 3.14, 6, 28, 37, 1729]\n",
    "list(filter(lambda x:(x%2==0), special_nums))"
   ]
  },
  {
   "cell_type": "markdown",
   "id": "finished-centre",
   "metadata": {},
   "source": [
    "### map()"
   ]
  },
  {
   "cell_type": "code",
   "execution_count": null,
   "id": "ecological-conducting",
   "metadata": {},
   "outputs": [],
   "source": [
    "# This program will multiplicate each element of the list with 5 and followed by power of 2.\n",
    "special_nums = [0.577, 1.618, 2.718, 3.14, 6, 28, 37, 1729]\n",
    "print(f'Non special numbers are {list(map(lambda x: x*5, special_nums))}')\n",
    "print(f'Non special numbers list is {list(map(lambda x: pow(x, 2), special_nums))}')"
   ]
  },
  {
   "cell_type": "markdown",
   "id": "radical-collect",
   "metadata": {},
   "source": [
    "### List comprehensions"
   ]
  },
  {
   "cell_type": "code",
   "execution_count": null,
   "id": "advisory-northeast",
   "metadata": {},
   "outputs": [],
   "source": [
    "nums = [lambda a=a:a+3.14 for a in range(5)]\n",
    "nlis = []\n",
    "for num in nums:\n",
    " nlis.append(num())\n",
    "print(nlis)\n"
   ]
  },
  {
   "cell_type": "markdown",
   "id": "delayed-mouth",
   "metadata": {},
   "source": [
    "### lambda function with if/else"
   ]
  },
  {
   "cell_type": "code",
   "execution_count": null,
   "id": "recreational-arthritis",
   "metadata": {},
   "outputs": [],
   "source": [
    "age = int(input('Enter an age: '))\n",
    "print(f'The entered age is {age}.')\n",
    "(lambda age: print('Therefore, you can use a vote.') if (age>=18) else print('Therefore, you do not use a vote.'))(age)"
   ]
  },
  {
   "cell_type": "markdown",
   "id": "static-calendar",
   "metadata": {},
   "source": [
    "### lambda function usage with multiple statements"
   ]
  },
  {
   "cell_type": "code",
   "execution_count": null,
   "id": "affecting-shopping",
   "metadata": {},
   "outputs": [],
   "source": [
    "special_nums = [[0.577, 1.618, 2.718, 3.14], [6, 28, 37, 1729]]\n",
    "special_nums_sorted = lambda a: (sorted(i) for i in a)\n",
    "# Get the maximum of special numbers in the list\n",
    "special_nums_max = lambda a, f: [y[len(y)-1] for y in f(a)]\n",
    "print(f'The maximum of special numbers in each list is {special_nums_max(special_nums, special_nums_sorted)}.')\n",
    "# Get the minimum of special numbers in the list\n",
    "special_nums_min = lambda a, f: [y[len(y)-len(y)] for y in f(a)]\n",
    "print(f'The minimum of special numbers in each list is {special_nums_min(special_nums, special_nums_sorted)}.')\n",
    "# Get the second maximum of special numbers in the list\n",
    "special_nums_second_max = lambda a, f: [y[len(y)-2] for y in f(a)]\n",
    "print(f'The second maximum of special numbers in each list is {special_nums_second_max(special_nums, special_num"
   ]
  },
  {
   "cell_type": "markdown",
   "id": "going-grave",
   "metadata": {},
   "source": [
    "### Some examples"
   ]
  },
  {
   "cell_type": "code",
   "execution_count": null,
   "id": "patent-michigan",
   "metadata": {},
   "outputs": [],
   "source": [
    "def func(n):\n",
    " return lambda x: x*n\n",
    "mult_pi_number = func(3.14)\n",
    "mult_euler_constant = func(0.577)\n",
    "print(f'The multiplication of euler number and pi number is equal to {mult_pi_number(2.718)}.')\n",
    "print(f'The multiplication of euler number and euler constant is equal to {mult_euler_constant(2.718)}.')"
   ]
  },
  {
   "cell_type": "code",
   "execution_count": null,
   "id": "minor-lesson",
   "metadata": {},
   "outputs": [],
   "source": [
    "text = 'Python is a programming language.'\n",
    "print(lambda text: text)"
   ]
  },
  {
   "cell_type": "code",
   "execution_count": null,
   "id": "several-craft",
   "metadata": {},
   "outputs": [],
   "source": [
    "text = 'Python is a programming language.'\n",
    "(lambda text: print(text))(text)"
   ]
  },
  {
   "cell_type": "code",
   "execution_count": null,
   "id": "ongoing-contents",
   "metadata": {},
   "outputs": [],
   "source": [
    "lambda_list = []\n",
    "# Multiplication of pi number and 12 in one line using lambda function\n",
    "lambda_list.append((lambda x:x*3.14) (12))\n",
    "# Division of pi number and 12 in one line using lambda function\n",
    "lambda_list.append((lambda x: x/3.14) (12))\n",
    "# Addition of pi number and 12 in one line using lambda function\n",
    "lambda_list.append((lambda x: x+3.14) (12))\n",
    "# Subtraction of pi number and 12 in one line using lambda function\n",
    "lambda_list.append((lambda x: x-3.14) (12))\n",
    "# Remainder of pi number and 12 in one line using lambda function\n",
    "lambda_list.append((lambda x: x%3.14) (12))\n",
    "# Floor division of pi number and 12 in one line using lambda function\n",
    "lambda_list.append((lambda x: x//3.14) (12))\n",
    "# Exponential of pi number and 12 in one line using lambda function\n",
    "lambda_list.append((lambda x: x**3.14) (12))\n",
    "# Printing the list\n",
    "print(lambda_list)\n"
   ]
  },
  {
   "cell_type": "code",
   "execution_count": null,
   "id": "opening-investment",
   "metadata": {},
   "outputs": [],
   "source": [
    "# Using the function reduce() with lambda to get the sum abd average of the list.\n",
    "# You should import the library 'functools' first. \n",
    "import functools\n",
    "from functools import *\n",
    "special_nums = [0.577, 1.618, 2.718, 3.14, 6, 28, 37, 1729]\n",
    "print(f'The sum and average of the numbers in the list are {reduce((lambda a, b: a+b), special_nums)} and {reduce((la"
   ]
  },
  {
   "cell_type": "code",
   "execution_count": null,
   "id": "julian-sussex",
   "metadata": {},
   "outputs": [],
   "source": [
    "import itertools\n",
    "from itertools import product\n",
    "from numpy import sqrt\n",
    "X=[1]\n",
    "X1=[2]\n",
    "Y=[1,2,3]\n",
    "print(list(product(Y,X,X1)))\n",
    "print(list(map(lambda x: sqrt(x[1]+x[0]**x[2]),product(Y,X,X1))))"
   ]
  },
  {
   "cell_type": "code",
   "execution_count": null,
   "id": "julian-tractor",
   "metadata": {},
   "outputs": [],
   "source": [
    "help(functools)"
   ]
  },
  {
   "cell_type": "markdown",
   "id": "unlike-banking",
   "metadata": {},
   "source": [
    "# 18. Math Module Functions in Python"
   ]
  },
  {
   "cell_type": "markdown",
   "id": "static-photographer",
   "metadata": {},
   "source": [
    "- Python math module is defined as the most famous mathematical functions, which includes\n",
    "trigonometric functions, representation functions, logarithmic functions, etc.\n",
    "- Furthermore, it also defines two mathematical constants, i.e., Pie and Euler number, etc.\n",
    "- Pie (n): It is a well-known mathematical constant and defined as the ratio of circumstance to the diameter\n",
    "of a circle. Its value is 3.141592653589793.\n",
    "- Euler's number(e):It is defined as the base of the natural logarithmic, and its value is 2.718281828459045.\n",
    "- The math module has a set of methods and constants."
   ]
  },
  {
   "cell_type": "code",
   "execution_count": null,
   "id": "dependent-market",
   "metadata": {},
   "outputs": [],
   "source": [
    "# Import math module and functions\n",
    "import math\n",
    "from math import *\n"
   ]
  },
  {
   "cell_type": "code",
   "execution_count": null,
   "id": "native-movement",
   "metadata": {},
   "outputs": [],
   "source": [
    "# Many functions regarding math modules in python can be find using helf(math) method.\n",
    "help(math)\n"
   ]
  },
  {
   "cell_type": "markdown",
   "id": "covered-panel",
   "metadata": {},
   "source": [
    "#### acos() function"
   ]
  },
  {
   "cell_type": "markdown",
   "id": "strange-resort",
   "metadata": {},
   "source": [
    "- Return the arc cosine (measured in radians) of x.\n",
    "- The result is between 0 and pi.\n",
    "- The parameter must be a double value between -1 and 1."
   ]
  },
  {
   "cell_type": "code",
   "execution_count": null,
   "id": "radical-brush",
   "metadata": {},
   "outputs": [],
   "source": [
    "nlis = []\n",
    "nlis.append(math.acos(1))\n",
    "nlis.append(math.acos(-1))\n",
    "print(nlis)"
   ]
  },
  {
   "cell_type": "markdown",
   "id": "danish-telling",
   "metadata": {},
   "source": [
    "#### acosh() function"
   ]
  },
  {
   "cell_type": "code",
   "execution_count": null,
   "id": "pleased-tracker",
   "metadata": {},
   "outputs": [],
   "source": [
    "- It is a built-in method defined under the math module to calculate the hyperbolic arc cosine of the given\n",
    "parameter in radians.\n",
    "- For example, if x is passed as an acosh function (acosh(x)) parameter, it returns the hyperbolic arc cosine\n",
    "value."
   ]
  },
  {
   "cell_type": "code",
   "execution_count": null,
   "id": "deluxe-equation",
   "metadata": {},
   "outputs": [],
   "source": [
    "print(math.acosh(1729))"
   ]
  },
  {
   "cell_type": "markdown",
   "id": "julian-valentine",
   "metadata": {},
   "source": [
    "### asin() function"
   ]
  },
  {
   "cell_type": "markdown",
   "id": "controlling-referral",
   "metadata": {},
   "source": [
    "- Return the arc sine (measured in radians) of x.\n",
    "- The result is between -pi/2 and pi/2."
   ]
  },
  {
   "cell_type": "code",
   "execution_count": null,
   "id": "manual-wilderness",
   "metadata": {},
   "outputs": [],
   "source": [
    "nlis = []\n",
    "nlis.append(math.asin(1))\n",
    "nlis.append(math.asin(-1))\n",
    "print(nlis)"
   ]
  },
  {
   "cell_type": "markdown",
   "id": "front-forest",
   "metadata": {},
   "source": [
    "### asinh() function"
   ]
  },
  {
   "cell_type": "markdown",
   "id": "accompanied-finger",
   "metadata": {},
   "source": [
    "Return the inverse hyperbolic sine of x"
   ]
  },
  {
   "cell_type": "code",
   "execution_count": null,
   "id": "fifth-fraction",
   "metadata": {},
   "outputs": [],
   "source": [
    "print(math.asinh(1729))"
   ]
  },
  {
   "cell_type": "markdown",
   "id": "circular-notebook",
   "metadata": {},
   "source": [
    "### atan() function"
   ]
  },
  {
   "cell_type": "markdown",
   "id": "rubber-infrared",
   "metadata": {},
   "source": [
    "- Return the arc tangent (measured in radians) of x.\n",
    "- The result is between -pi/2 and pi/2."
   ]
  },
  {
   "cell_type": "code",
   "execution_count": null,
   "id": "quantitative-calgary",
   "metadata": {},
   "outputs": [],
   "source": [
    "nlis = []\n",
    "nlis.append(math.atan(math.inf)) # pozitive infinite\n",
    "nlis.append(math.atan(-math.inf)) # negative infinite\n",
    "print(nlis)"
   ]
  },
  {
   "cell_type": "markdown",
   "id": "accomplished-saturday",
   "metadata": {},
   "source": [
    "### atan2() function"
   ]
  },
  {
   "cell_type": "markdown",
   "id": "intimate-opening",
   "metadata": {},
   "source": [
    "- Return the arc tangent (measured in radians) of y/x.\n",
    "- Unlike atan(y/x), the signs of both x and y are considered."
   ]
  },
  {
   "cell_type": "code",
   "execution_count": null,
   "id": "objective-acquisition",
   "metadata": {},
   "outputs": [],
   "source": [
    "print(math.atan2(1729, 37))\n",
    "print(math.atan2(1729, -37))\n",
    "print(math.atan2(-1729, -37))\n",
    "print(math.atan2(-1729, 37))\n",
    "print(math.atan2(math.pi, math.inf))\n",
    "print(math.atan2(math.inf, math.e))\n",
    "print(math.atan2(math.tau, math.pi))"
   ]
  },
  {
   "cell_type": "markdown",
   "id": "shaped-portland",
   "metadata": {},
   "source": [
    "### atanh() function"
   ]
  },
  {
   "cell_type": "markdown",
   "id": "arranged-agriculture",
   "metadata": {},
   "source": [
    "Return the inverse hyperbolic tangent of x."
   ]
  },
  {
   "cell_type": "code",
   "execution_count": null,
   "id": "certified-detector",
   "metadata": {},
   "outputs": [],
   "source": [
    "nlis=[]\n",
    "nlis.append(math.atanh(-0.9999))\n",
    "nlis.append(math.atanh(0))\n",
    "nlis.append(math.atanh(0.9999))\n",
    "print(nlis)"
   ]
  },
  {
   "cell_type": "markdown",
   "id": "absent-athletics",
   "metadata": {},
   "source": [
    "### ceil() function"
   ]
  },
  {
   "cell_type": "markdown",
   "id": "modular-terrorist",
   "metadata": {},
   "source": [
    "- Rounds a number up to the nearest integer\n",
    "- Returns the smalles integer greater than or equal to variable"
   ]
  },
  {
   "cell_type": "code",
   "execution_count": null,
   "id": "drawn-brother",
   "metadata": {},
   "outputs": [],
   "source": [
    "pi_number = math.pi # math.pi is equal to pi_number 3.14.\n",
    "print(f'The nearest integer greater than pi number is {math.ceil(pi_number)}.')"
   ]
  },
  {
   "cell_type": "markdown",
   "id": "twenty-action",
   "metadata": {},
   "source": [
    "### comb() function"
   ]
  },
  {
   "cell_type": "markdown",
   "id": "colonial-union",
   "metadata": {},
   "source": [
    "- Number of ways to choose k items from n items without repetition and without order.\n",
    "- Evaluates to n!/(k!*(n - k)!) when k <= n and evaluates to zero when k>n.\n",
    "- Also called the binomial coefficient because it is equivalent to the coefficient of k-th term in polynomial\n",
    "expansion of the expression (1 + x)**n.\n",
    "- Raises TypeError if either of the arguments are not integers.\n",
    "- Raises ValueError if either of the arguments are negative."
   ]
  },
  {
   "cell_type": "code",
   "execution_count": null,
   "id": "portuguese-arrival",
   "metadata": {},
   "outputs": [],
   "source": [
    "print(f'The combination of 6 with 2 is {math.comb(6, 2)}.')\n",
    "print(math.comb(10, 3.14)) # It returns a TypeError\n"
   ]
  },
  {
   "cell_type": "markdown",
   "id": "copyrighted-rolling",
   "metadata": {},
   "source": [
    "### copysign() function"
   ]
  },
  {
   "cell_type": "markdown",
   "id": "scientific-tuition",
   "metadata": {},
   "source": [
    "Returns a float consisting of the value of the first parameter and the sign of the second parameter."
   ]
  },
  {
   "cell_type": "code",
   "execution_count": null,
   "id": "sacred-jungle",
   "metadata": {},
   "outputs": [],
   "source": [
    "print(f'The copysign of thes two numbers -3.14 and 2.718 is {math.copysign(-3.14, 2.718)}.')\n",
    "print(f'The copysign of thes two numbers 1729 and -0.577 is {math.copysign(1729, -0.577)}.')"
   ]
  },
  {
   "cell_type": "markdown",
   "id": "banner-cambridge",
   "metadata": {},
   "source": [
    "### cos() function"
   ]
  },
  {
   "cell_type": "markdown",
   "id": "athletic-pride",
   "metadata": {},
   "source": [
    "Return the cosine of x (measured in radians)."
   ]
  },
  {
   "cell_type": "code",
   "execution_count": null,
   "id": "involved-tuition",
   "metadata": {},
   "outputs": [],
   "source": [
    "print(math.cos(0))\n",
    "print(math.cos(math.pi/6))\n",
    "print(math.cos(-1))\n",
    "print(math.cos(1))\n",
    "print(math.cos(1729))\n",
    "print(math.cos(90))"
   ]
  },
  {
   "cell_type": "markdown",
   "id": "second-shannon",
   "metadata": {},
   "source": [
    "### cosh() function"
   ]
  },
  {
   "cell_type": "markdown",
   "id": "infinite-genealogy",
   "metadata": {},
   "source": [
    "Return the hyperbolic cosine of x."
   ]
  },
  {
   "cell_type": "code",
   "execution_count": null,
   "id": "severe-experience",
   "metadata": {},
   "outputs": [],
   "source": [
    "nlis = []\n",
    "nlis.append(math.cosh(1))\n",
    "nlis.append(math.cosh(0))\n",
    "nlis.append(math.cosh(-5))\n",
    "print(nlis)\n"
   ]
  },
  {
   "cell_type": "markdown",
   "id": "hairy-architect",
   "metadata": {},
   "source": [
    "### degrees() function"
   ]
  },
  {
   "cell_type": "markdown",
   "id": "placed-trinity",
   "metadata": {},
   "source": [
    "Convert angle x from radians to degrees."
   ]
  },
  {
   "cell_type": "code",
   "execution_count": null,
   "id": "signed-dietary",
   "metadata": {},
   "outputs": [],
   "source": [
    "nlis = []\n",
    "nlis.append(math.degrees(math.pi/2))\n",
    "nlis.append(math.degrees(math.pi))\n",
    "nlis.append(math.degrees(math.pi/4))\n",
    "nlis.append(math.degrees(-math.pi))\n",
    "print(nlis)\n"
   ]
  },
  {
   "cell_type": "markdown",
   "id": "heated-tenant",
   "metadata": {},
   "source": [
    "### dist() function"
   ]
  },
  {
   "cell_type": "markdown",
   "id": "variable-perfume",
   "metadata": {},
   "source": [
    "- Return the Euclidean distance between two points p and q.\n",
    "- The points should be specified as sequences (or iterables) of coordinates.\n",
    "- Both inputs must have the same dimension.\n",
    "- Roughly equivalent to: sqrt(sum((px - qx) ** 2.0 for px, qx in zip(p, q)))"
   ]
  },
  {
   "cell_type": "code",
   "execution_count": null,
   "id": "possible-moses",
   "metadata": {},
   "outputs": [],
   "source": [
    "print(math.dist([30], [60]))\n",
    "print(math.dist([0.577, 1.618], [3.14, 2.718]))\n",
    "x = [0.577, 1.618, 2.718]\n",
    "y = [6, 28, 37]\n",
    "print(math.dist(x, y))"
   ]
  },
  {
   "cell_type": "markdown",
   "id": "champion-commons",
   "metadata": {},
   "source": [
    "### erf() function"
   ]
  },
  {
   "cell_type": "markdown",
   "id": "important-logistics",
   "metadata": {},
   "source": [
    "- Error function at x.\n",
    "- This method accepts a value between - inf and + inf, and returns a value between - 1 to + 1."
   ]
  },
  {
   "cell_type": "code",
   "execution_count": null,
   "id": "interesting-sheriff",
   "metadata": {},
   "outputs": [],
   "source": [
    "nlis = []\n",
    "nlis.append(math.erf(math.inf))\n",
    "nlis.append(math.erf(math.pi))\n",
    "nlis.append(math.erf(math.e))\n",
    "nlis.append(math.erf(math.tau))\n",
    "nlis.append(math.erf(0))\n",
    "nlis.append(math.erf(6))\n",
    "nlis.append(math.erf(1.618))\n",
    "nlis.append(math.erf(0.577))\n",
    "nlis.append(math.erf(-math.inf))\n",
    "print(nlis)\n"
   ]
  },
  {
   "cell_type": "markdown",
   "id": "encouraging-understanding",
   "metadata": {},
   "source": [
    "### erfc() function"
   ]
  },
  {
   "cell_type": "markdown",
   "id": "emotional-apache",
   "metadata": {},
   "source": [
    "- Complementary error function at x.\n",
    "- This method accepts a value between - inf and + inf, and returns a value between 0 and 2."
   ]
  },
  {
   "cell_type": "code",
   "execution_count": null,
   "id": "anticipated-legend",
   "metadata": {},
   "outputs": [],
   "source": [
    "nlis = []\n",
    "nlis.append(math.erfc(math.inf))\n",
    "nlis.append(math.erfc(math.pi))\n",
    "nlis.append(math.erfc(math.e))\n",
    "nlis.append(math.erfc(math.tau))\n",
    "nlis.append(math.erfc(0))\n",
    "nlis.append(math.erfc(6))\n",
    "nlis.append(math.erfc(1.618))\n",
    "nlis.append(math.erfc(0.577))\n",
    "nlis.append(math.erfc(-math.inf))\n",
    "print(nlis)\n"
   ]
  },
  {
   "cell_type": "markdown",
   "id": "palestinian-tsunami",
   "metadata": {},
   "source": [
    "### exp() function"
   ]
  },
  {
   "cell_type": "markdown",
   "id": "separate-input",
   "metadata": {},
   "source": [
    "- The math.exp() method returns E raised to the power of x.\n",
    "- E is the base of the natural system of logarithms (approximately 2.718282) and x is the number passed to\n",
    "it."
   ]
  },
  {
   "cell_type": "code",
   "execution_count": null,
   "id": "skilled-geneva",
   "metadata": {},
   "outputs": [],
   "source": [
    "nlis = []\n",
    "nlis.append(math.exp(math.inf))\n",
    "nlis.append(math.exp(math.pi))\n",
    "nlis.append(math.exp(math.e))\n",
    "nlis.append(math.exp(math.tau))\n",
    "nlis.append(math.exp(0))\n",
    "nlis.append(math.exp(6))\n",
    "nlis.append(math.exp(1.618))\n",
    "nlis.append(math.exp(0.577))\n",
    "nlis.append(math.exp(-math.inf))\n",
    "print(nlis)\n"
   ]
  },
  {
   "cell_type": "markdown",
   "id": "technical-vaccine",
   "metadata": {},
   "source": [
    "### expm1() function"
   ]
  },
  {
   "cell_type": "markdown",
   "id": "taken-bibliography",
   "metadata": {},
   "source": [
    "- Return exp(x)-1.\n",
    "- This function avoids the loss of precision involved in the direct evaluation of exp(x)-1 for small x."
   ]
  },
  {
   "cell_type": "code",
   "execution_count": null,
   "id": "fifth-moral",
   "metadata": {},
   "outputs": [],
   "source": [
    "nlis = []\n",
    "nlis.append(math.expm1(math.inf))\n",
    "nlis.append(math.expm1(math.pi))\n",
    "nlis.append(math.expm1(math.e))\n",
    "nlis.append(math.expm1(math.tau))\n",
    "nlis.append(math.expm1(0))\n",
    "nlis.append(math.expm1(6))\n",
    "nlis.append(math.expm1(1.618))\n",
    "nlis.append(math.expm1(0.577))\n",
    "nlis.append(math.expm1(-math.inf))\n",
    "print(nlis)\n"
   ]
  },
  {
   "cell_type": "markdown",
   "id": "together-collins",
   "metadata": {},
   "source": [
    "### fabs() function"
   ]
  },
  {
   "cell_type": "markdown",
   "id": "historic-center",
   "metadata": {},
   "source": [
    "Returns the absolute value of a number"
   ]
  },
  {
   "cell_type": "code",
   "execution_count": null,
   "id": "varied-carnival",
   "metadata": {},
   "outputs": [],
   "source": [
    "print(f'The absolute value of the number -1.618 is {math.fabs(-1.618)}.')"
   ]
  },
  {
   "cell_type": "markdown",
   "id": "brutal-swaziland",
   "metadata": {},
   "source": [
    "### factorial() function"
   ]
  },
  {
   "cell_type": "markdown",
   "id": "quality-beijing",
   "metadata": {},
   "source": [
    "Returns the factorial of a number."
   ]
  },
  {
   "cell_type": "code",
   "execution_count": null,
   "id": "finished-hospital",
   "metadata": {},
   "outputs": [],
   "source": [
    "print(f'The factorial of the number 6 is {math.factorial(6)}.')\n"
   ]
  },
  {
   "cell_type": "code",
   "execution_count": null,
   "id": "sonic-rouge",
   "metadata": {},
   "outputs": [],
   "source": [
    "# Factorial of negative numbers returns a ValueError.\n",
    "print(math.factorial(-6))"
   ]
  },
  {
   "cell_type": "code",
   "execution_count": null,
   "id": "ethical-reproduction",
   "metadata": {},
   "outputs": [],
   "source": [
    "# Factorial of non-unteger numbers returns a TypeError.\n",
    "print(math.factorial(3.14))"
   ]
  },
  {
   "cell_type": "markdown",
   "id": "regional-flesh",
   "metadata": {},
   "source": [
    "### floor() functions:"
   ]
  },
  {
   "cell_type": "markdown",
   "id": "hazardous-fight",
   "metadata": {},
   "source": [
    "Rounds a number down to the nearest integer"
   ]
  },
  {
   "cell_type": "code",
   "execution_count": null,
   "id": "insured-thesaurus",
   "metadata": {},
   "outputs": [],
   "source": [
    "print(math.floor(3.14))"
   ]
  },
  {
   "cell_type": "markdown",
   "id": "involved-effect",
   "metadata": {},
   "source": [
    "### fmod() function"
   ]
  },
  {
   "cell_type": "markdown",
   "id": "scenic-compiler",
   "metadata": {},
   "source": [
    "Returns the remainder of x/y"
   ]
  },
  {
   "cell_type": "code",
   "execution_count": null,
   "id": "assumed-softball",
   "metadata": {},
   "outputs": [],
   "source": [
    "print(math.fmod(37, 6))\n",
    "print(math.fmod(1728, 37))"
   ]
  },
  {
   "cell_type": "markdown",
   "id": "polished-cloud",
   "metadata": {},
   "source": [
    "### frexp() function"
   ]
  },
  {
   "cell_type": "markdown",
   "id": "molecular-titanium",
   "metadata": {},
   "source": [
    "Returns the mantissa and the exponent, of a specified number"
   ]
  },
  {
   "cell_type": "code",
   "execution_count": null,
   "id": "sound-brain",
   "metadata": {},
   "outputs": [],
   "source": [
    "print(math.frexp(2.718))"
   ]
  },
  {
   "cell_type": "markdown",
   "id": "rough-register",
   "metadata": {},
   "source": [
    "### fsum() function"
   ]
  },
  {
   "cell_type": "markdown",
   "id": "rising-person",
   "metadata": {},
   "source": [
    "Returns the sum of all items in any iterable (tuples, arrays, lists, etc.)"
   ]
  },
  {
   "cell_type": "code",
   "execution_count": null,
   "id": "first-consciousness",
   "metadata": {},
   "outputs": [],
   "source": [
    "special_nums = [0.577, 1.618, 2.718, 3.14, 6, 28, 37, 1729]\n",
    "print(math.fsum(special_nums))"
   ]
  },
  {
   "cell_type": "markdown",
   "id": "bronze-immune",
   "metadata": {},
   "source": [
    "### gamma() function"
   ]
  },
  {
   "cell_type": "markdown",
   "id": "sacred-appliance",
   "metadata": {},
   "source": [
    "- Returns the gamma function at x.\n",
    "- You can find more information about gamma function from this Link.\n",
    "(https://en.wikipedia.org/wiki/Gamma_function)"
   ]
  },
  {
   "cell_type": "code",
   "execution_count": null,
   "id": "qualified-linux",
   "metadata": {},
   "outputs": [],
   "source": [
    "print(math.gamma(3.14))\n",
    "print(math.gamma(6))\n",
    "print(math.gamma(2.718))"
   ]
  },
  {
   "cell_type": "markdown",
   "id": "radical-pottery",
   "metadata": {},
   "source": [
    "### gcd() function"
   ]
  },
  {
   "cell_type": "markdown",
   "id": "marked-archive",
   "metadata": {},
   "source": [
    "Returns the greatest common divisor of two integers"
   ]
  },
  {
   "cell_type": "code",
   "execution_count": null,
   "id": "atlantic-dallas",
   "metadata": {},
   "outputs": [],
   "source": [
    "print(math.gcd(3, 10))\n",
    "print(math.gcd(4, 8))\n",
    "print(math.gcd(0, 0))"
   ]
  },
  {
   "cell_type": "markdown",
   "id": "catholic-grammar",
   "metadata": {},
   "source": [
    "### hypot() function"
   ]
  },
  {
   "cell_type": "markdown",
   "id": "monthly-punch",
   "metadata": {},
   "source": [
    "- Returns the Euclidean norm.\n",
    "- Multidimensional Euclidean distance from the origin to a point.\n",
    "- Roughly equivalent to: sqrt(sum(x**2 for x in coordinates))\n",
    "- For a two dimensional point (x, y), gives the hypotenuse using the Pythagorean theorem: sqrt(xx + yy)."
   ]
  },
  {
   "cell_type": "markdown",
   "id": "occupied-newport",
   "metadata": {},
   "source": [
    "print(math.hypot(3, 4))\n",
    "print(math.hypot(5, 12))\n",
    "print(math.hypot(8, 15))"
   ]
  },
  {
   "cell_type": "markdown",
   "id": "chicken-coral",
   "metadata": {},
   "source": [
    "### isclose() function"
   ]
  },
  {
   "cell_type": "markdown",
   "id": "german-gospel",
   "metadata": {},
   "source": [
    "- It checks whether two values are close to each other, or not.\n",
    "- Returns True if the values are close, otherwise False.\n",
    "- This method uses a relative or absolute tolerance, to see if the values are close.\n",
    "- Tip: It uses the following formula to compare the values: abs(a-b) <= max(rel_tol * max(abs(a), abs(b)),\n",
    "abs_tol)"
   ]
  },
  {
   "cell_type": "code",
   "execution_count": null,
   "id": "exciting-colombia",
   "metadata": {},
   "outputs": [],
   "source": [
    "print(math.isclose(math.pi, math.tau)) # tau number is 2 times higher than pi number\n",
    "print(math.isclose(3.14, 2.718))\n",
    "print(math.isclose(3.14, 1.618))\n",
    "print(math.isclose(10, 5, rel_tol = 3, abs_tol=0))\n",
    "print(math.isclose(3.14, 3.1400000000001))"
   ]
  },
  {
   "cell_type": "markdown",
   "id": "annoying-weekly",
   "metadata": {},
   "source": [
    "### isfinite() function"
   ]
  },
  {
   "cell_type": "markdown",
   "id": "tribal-proof",
   "metadata": {},
   "source": [
    "Return True if x is neither an infinity nor a NaN, and False otherwise."
   ]
  },
  {
   "cell_type": "code",
   "execution_count": null,
   "id": "institutional-network",
   "metadata": {},
   "outputs": [],
   "source": [
    "nlis = []\n",
    "nlis.append(math.isfinite(math.inf))\n",
    "nlis.append(math.isfinite(math.pi))\n",
    "nlis.append(math.isfinite(math.e))\n",
    "nlis.append(math.isfinite(math.tau))\n",
    "nlis.append(math.isfinite(0))\n",
    "nlis.append(math.isfinite(6))\n",
    "nlis.append(math.isfinite(1.618))\n",
    "nlis.append(math.isfinite(0.577))\n",
    "nlis.append(math.isfinite(-math.inf))\n",
    "nlis.append(math.isfinite(float('NaN')))\n",
    "nlis.append(math.isfinite(float('inf')))\n",
    "print(nlis)\n"
   ]
  },
  {
   "cell_type": "markdown",
   "id": "radical-month",
   "metadata": {},
   "source": [
    "### isinf() function"
   ]
  },
  {
   "cell_type": "markdown",
   "id": "leading-contrast",
   "metadata": {},
   "source": [
    "Return True if x is a positive or negative infinity, and False otherwise."
   ]
  },
  {
   "cell_type": "code",
   "execution_count": null,
   "id": "scenic-lebanon",
   "metadata": {},
   "outputs": [],
   "source": [
    "nlis = []\n",
    "nlis.append(math.isinf(math.inf))\n",
    "nlis.append(math.isinf(math.pi))\n",
    "nlis.append(math.isinf(math.e))\n",
    "nlis.append(math.isinf(math.tau))\n",
    "nlis.append(math.isinf(0))\n",
    "nlis.append(math.isinf(6))\n",
    "nlis.append(math.isinf(1.618))\n",
    "nlis.append(math.isinf(0.577))\n",
    "nlis.append(math.isinf(-math.inf))\n",
    "print(nlis)\n"
   ]
  },
  {
   "cell_type": "markdown",
   "id": "unique-enzyme",
   "metadata": {},
   "source": [
    "### snan() function"
   ]
  },
  {
   "cell_type": "markdown",
   "id": "suited-preserve",
   "metadata": {},
   "source": [
    "Return True if x is a NaN (not a number), and False otherwise."
   ]
  },
  {
   "cell_type": "code",
   "execution_count": null,
   "id": "chronic-garage",
   "metadata": {},
   "outputs": [],
   "source": [
    "nlis = []\n",
    "nlis.append(math.isnan(float('NaN')))\n",
    "nlis.append(math.isnan(math.inf))\n",
    "nlis.append(math.isnan(math.pi))\n",
    "nlis.append(math.isnan(math.e))\n",
    "nlis.append(math.isnan(math.tau))\n",
    "nlis.append(math.isnan(0))\n",
    "nlis.append(math.isnan(6))\n",
    "nlis.append(math.isnan(1.618))\n",
    "nlis.append(math.isnan(0.577))\n",
    "nlis.append(math.isnan(-math.inf))\n",
    "nlis.append(math.isnan(math.nan))\n",
    "print(nlis)\n"
   ]
  },
  {
   "cell_type": "markdown",
   "id": "above-format",
   "metadata": {},
   "source": [
    "### isqrt() function"
   ]
  },
  {
   "cell_type": "markdown",
   "id": "patent-encounter",
   "metadata": {},
   "source": [
    "- Rounds a square root number downwards to the nearest integer.\n",
    "- The returned square root value is the floor value of square root of a non-negative integer number.\n",
    "- It gives a ValueError and TypeError when a negative integer number and a float number are used,\n",
    "respectively."
   ]
  },
  {
   "cell_type": "code",
   "execution_count": null,
   "id": "biblical-reason",
   "metadata": {},
   "outputs": [],
   "source": [
    "print(math.isqrt(4))\n",
    "print(math.isqrt(5))\n",
    "print(math.isqrt(-5))"
   ]
  },
  {
   "cell_type": "code",
   "execution_count": null,
   "id": "funded-cleanup",
   "metadata": {},
   "outputs": [],
   "source": [
    "print(math.isqrt(3.14))"
   ]
  },
  {
   "cell_type": "markdown",
   "id": "mysterious-routine",
   "metadata": {},
   "source": [
    "### lcm() function"
   ]
  },
  {
   "cell_type": "markdown",
   "id": "spare-protein",
   "metadata": {},
   "source": [
    "Least Common Multiple."
   ]
  },
  {
   "cell_type": "code",
   "execution_count": null,
   "id": "dominant-orange",
   "metadata": {},
   "outputs": [],
   "source": [
    "nlis = []\n",
    "nlis.append(math.lcm(3, 5, 25))\n",
    "nlis.append(math.lcm(9, 6, 27))\n",
    "nlis.append(math.lcm(21, 27, 54))\n",
    "print(nlis)\n"
   ]
  },
  {
   "cell_type": "markdown",
   "id": "individual-flood",
   "metadata": {},
   "source": [
    "### ldexp() function"
   ]
  },
  {
   "cell_type": "markdown",
   "id": "naked-lodge",
   "metadata": {},
   "source": [
    "Returns the inverse of math.frexp() which is x*(2^i) of the given numbers x and i"
   ]
  },
  {
   "cell_type": "code",
   "execution_count": null,
   "id": "express-steal",
   "metadata": {},
   "outputs": [],
   "source": [
    "print(math.ldexp(20, 4))\n",
    "print(20*(2**4))\n"
   ]
  },
  {
   "cell_type": "markdown",
   "id": "collectible-house",
   "metadata": {},
   "source": [
    "### gamma() function"
   ]
  },
  {
   "cell_type": "markdown",
   "id": "employed-patient",
   "metadata": {},
   "source": [
    "Returns the log gamma value of x"
   ]
  },
  {
   "cell_type": "code",
   "execution_count": null,
   "id": "metric-banks",
   "metadata": {},
   "outputs": [],
   "source": [
    "print(math.gamma(6))\n",
    "print(math.lgamma(6))\n",
    "print(math.log(120)) # print(math.gamma(6)) = 120"
   ]
  },
  {
   "cell_type": "markdown",
   "id": "random-appraisal",
   "metadata": {},
   "source": [
    "### log() function"
   ]
  },
  {
   "cell_type": "markdown",
   "id": "alone-polyester",
   "metadata": {},
   "source": [
    "- log(x, [base=math.e])\n",
    "- Return the logarithm of x to the given base."
   ]
  },
  {
   "cell_type": "code",
   "execution_count": null,
   "id": "adjacent-effect",
   "metadata": {},
   "outputs": [],
   "source": [
    "nlis = []\n",
    "nlis.append(math.log(90))\n",
    "nlis.append(math.log(1))\n",
    "nlis.append(math.log(math.e))\n",
    "nlis.append(math.log(math.pi))\n",
    "nlis.append(math.log(math.tau))\n",
    "nlis.append(math.log(math.inf))\n",
    "nlis.append(math.log(math.nan))\n",
    "print(nlis)\n"
   ]
  },
  {
   "cell_type": "markdown",
   "id": "authorized-indianapolis",
   "metadata": {},
   "source": [
    "### log10() function"
   ]
  },
  {
   "cell_type": "markdown",
   "id": "sixth-newsletter",
   "metadata": {},
   "source": [
    "Return the base 10 logarithm of x."
   ]
  },
  {
   "cell_type": "code",
   "execution_count": null,
   "id": "passive-contents",
   "metadata": {},
   "outputs": [],
   "source": [
    "nlis = []\n",
    "nlis.append(math.log10(90))\n",
    "nlis.append(math.log10(1))\n",
    "nlis.append(math.log10(math.e))\n",
    "nlis.append(math.log10(math.pi))\n",
    "nlis.append(math.log10(math.tau))\n",
    "nlis.append(math.log10(math.inf))\n",
    "nlis.append(math.log10(math.nan))\n",
    "print(nlis)"
   ]
  },
  {
   "cell_type": "markdown",
   "id": "maritime-oklahoma",
   "metadata": {},
   "source": [
    "### log1p() function"
   ]
  },
  {
   "cell_type": "markdown",
   "id": "healthy-recall",
   "metadata": {},
   "source": [
    "Return the natural logarithm of 1+x (base e)."
   ]
  },
  {
   "cell_type": "code",
   "execution_count": null,
   "id": "another-country",
   "metadata": {},
   "outputs": [],
   "source": [
    "nlis = []\n",
    "nlis.append(math.log1p(90))\n",
    "nlis.append(math.log1p(1))\n",
    "nlis.append(math.log1p(math.e))\n",
    "nlis.append(math.log1p(math.pi))\n",
    "nlis.append(math.log1p(math.tau))\n",
    "nlis.append(math.log1p(math.inf))\n",
    "nlis.append(math.log1p(math.nan))\n",
    "print(nlis)"
   ]
  },
  {
   "cell_type": "markdown",
   "id": "formal-premises",
   "metadata": {},
   "source": [
    "### log2() function"
   ]
  },
  {
   "cell_type": "code",
   "execution_count": null,
   "id": "passing-credit",
   "metadata": {},
   "outputs": [],
   "source": [
    "nlis = []\n",
    "nlis.append(math.log2(90))\n",
    "nlis.append(math.log2(2))\n",
    "nlis.append(math.log2(1))\n",
    "nlis.append(math.log2(math.e))\n",
    "nlis.append(math.log2(math.pi))\n",
    "nlis.append(math.log2(math.tau))\n",
    "nlis.append(math.log2(math.inf))\n",
    "nlis.append(math.log2(math.nan))\n",
    "print(nlis)\n"
   ]
  },
  {
   "cell_type": "markdown",
   "id": "solar-municipality",
   "metadata": {},
   "source": [
    "### modf() function"
   ]
  },
  {
   "cell_type": "markdown",
   "id": "biblical-hotel",
   "metadata": {},
   "source": [
    "It returns the frwactional and integer parts of the certain number. Both the outputs carry the sign of x and\n",
    "are of type float."
   ]
  },
  {
   "cell_type": "code",
   "execution_count": null,
   "id": "powerful-harvest",
   "metadata": {},
   "outputs": [],
   "source": [
    "print(math.modf(math.pi))\n",
    "print(math.modf(math.e))\n",
    "print(math.modf(1.618))\n"
   ]
  },
  {
   "cell_type": "markdown",
   "id": "anonymous-stereo",
   "metadata": {},
   "source": [
    "### nextafter() function"
   ]
  },
  {
   "cell_type": "markdown",
   "id": "ongoing-bowling",
   "metadata": {},
   "source": [
    "- Return the next floating-point value after x towards y.\n",
    "- if x is equal to y then y is returned."
   ]
  },
  {
   "cell_type": "code",
   "execution_count": null,
   "id": "normal-voltage",
   "metadata": {},
   "outputs": [],
   "source": [
    "nlis = []\n",
    "nlis.append(math.nextafter(3.14, 90))\n",
    "nlis.append(math.nextafter(6, 2.718))\n",
    "nlis.append(math.nextafter(3, math.e))\n",
    "nlis.append(math.nextafter(28, math.inf))\n",
    "nlis.append(math.nextafter(1.618, math.nan))\n",
    "nlis.append(math.nextafter(1, 1))\n",
    "nlis.append(math.nextafter(0, 0))\n",
    "print(nlis)"
   ]
  },
  {
   "cell_type": "markdown",
   "id": "velvet-south",
   "metadata": {},
   "source": [
    "### perm() function"
   ]
  },
  {
   "cell_type": "markdown",
   "id": "presidential-catalog",
   "metadata": {},
   "source": [
    "Returns the number of ways to choose k items from n items with order and without repetition."
   ]
  },
  {
   "cell_type": "code",
   "execution_count": null,
   "id": "prompt-fundamental",
   "metadata": {},
   "outputs": [],
   "source": [
    "print(math.perm(6, 2))\n",
    "print(math.perm(6, 6))"
   ]
  },
  {
   "cell_type": "markdown",
   "id": "stainless-contractor",
   "metadata": {},
   "source": [
    "### pow() function"
   ]
  },
  {
   "cell_type": "markdown",
   "id": "interim-approval",
   "metadata": {},
   "source": [
    "Returns the value of x to the power of y."
   ]
  },
  {
   "cell_type": "code",
   "execution_count": null,
   "id": "oriental-rebel",
   "metadata": {},
   "outputs": [],
   "source": [
    "print(math.pow(10, 2))\n",
    "print(math.pow(math.pi, math.e))"
   ]
  },
  {
   "cell_type": "markdown",
   "id": "german-result",
   "metadata": {},
   "source": [
    "### prod() function"
   ]
  },
  {
   "cell_type": "markdown",
   "id": "aggressive-place",
   "metadata": {},
   "source": [
    "Returns the product of all the elements in an iterable"
   ]
  },
  {
   "cell_type": "code",
   "execution_count": null,
   "id": "private-going",
   "metadata": {},
   "outputs": [],
   "source": [
    "special_nums = [0.577, 1.618, 2.718, 3.14, 6, 28, 37, 1729]\n",
    "print(math.prod(special_nums))"
   ]
  },
  {
   "cell_type": "markdown",
   "id": "hazardous-origin",
   "metadata": {},
   "source": [
    "### radians() function"
   ]
  },
  {
   "cell_type": "markdown",
   "id": "published-education",
   "metadata": {},
   "source": [
    "Convert angle x from degrees to radians."
   ]
  },
  {
   "cell_type": "code",
   "execution_count": null,
   "id": "deadly-peripheral",
   "metadata": {},
   "outputs": [],
   "source": [
    "nlis = []\n",
    "nlis.append(math.radians(0))\n",
    "nlis.append(math.radians(30))\n",
    "nlis.append(math.radians(45))\n",
    "nlis.append(math.radians(60))\n",
    "nlis.append(math.radians(90))\n",
    "nlis.append(math.radians(120))\n",
    "nlis.append(math.radians(180))\n",
    "nlis.append(math.radians(270))\n",
    "nlis.append(math.radians(360))\n",
    "print(nlis)\n"
   ]
  },
  {
   "cell_type": "markdown",
   "id": "respective-teacher",
   "metadata": {},
   "source": [
    "### remainder() function"
   ]
  },
  {
   "cell_type": "markdown",
   "id": "ahead-association",
   "metadata": {},
   "source": [
    "- Difference between x and the closest integer multiple of y.\n",
    "- Return x - ny where ny is the closest integer multiple of y.\n",
    "- ReturnIn the case where x is exactly halfway between two multiples of\n",
    "- y, the nearest even value of n is used. The result is always exact."
   ]
  },
  {
   "cell_type": "code",
   "execution_count": null,
   "id": "collected-collapse",
   "metadata": {},
   "outputs": [],
   "source": [
    "nlis = []\n",
    "nlis.append(math.remainder(3.14, 2.718))\n",
    "nlis.append(math.remainder(6, 28))\n",
    "nlis.append(math.remainder(5, 3))\n",
    "nlis.append(math.remainder(1729, 37))\n",
    "print(nlis)"
   ]
  },
  {
   "cell_type": "markdown",
   "id": "numeric-salad",
   "metadata": {},
   "source": [
    "### sin() function"
   ]
  },
  {
   "cell_type": "markdown",
   "id": "fifth-barrier",
   "metadata": {},
   "source": [
    "- Return the sine of x (measured in radians).\n",
    "- Note: To find the sine of degrees, it must first be converted into radians with the math.radians() method."
   ]
  },
  {
   "cell_type": "markdown",
   "id": "latter-malawi",
   "metadata": {},
   "source": [
    "nlis = []\n",
    "nlis.append(math.sin(math.pi))\n",
    "nlis.append(math.sin(math.pi/2))\n",
    "nlis.append(math.sin(math.e))\n",
    "nlis.append(math.sin(math.nan))\n",
    "nlis.append(math.sin(math.tau))\n",
    "nlis.append(math.sin(30)\n",
    "nlis.append(math.sin(-5))\n",
    "nlis.append(math.sin(37))\n",
    "print(nlis)"
   ]
  },
  {
   "cell_type": "markdown",
   "id": "saving-elizabeth",
   "metadata": {},
   "source": [
    "### sinh() function"
   ]
  },
  {
   "cell_type": "markdown",
   "id": "demonstrated-italic",
   "metadata": {},
   "source": [
    " Return the hyperbolic sine of x."
   ]
  },
  {
   "cell_type": "code",
   "execution_count": null,
   "id": "mounted-hudson",
   "metadata": {},
   "outputs": [],
   "source": [
    "nlis = []\n",
    "nlis.append(math.sinh(1))\n",
    "nlis.append(math.sinh(0))\n",
    "nlis.append(math.sinh(-5))\n",
    "nlis.append(math.sinh(math.pi))\n",
    "nlis.append(math.sinh(math.e))\n",
    "nlis.append(math.sinh(math.tau))\n",
    "nlis.append(math.sinh(math.nan))\n",
    "nlis.append(math.sinh(math.inf))\n",
    "print(nlis)\n"
   ]
  },
  {
   "cell_type": "markdown",
   "id": "proper-rochester",
   "metadata": {},
   "source": [
    "### sqrt() function"
   ]
  },
  {
   "cell_type": "markdown",
   "id": "spectacular-community",
   "metadata": {},
   "source": [
    "Return the square root of x."
   ]
  },
  {
   "cell_type": "code",
   "execution_count": null,
   "id": "inappropriate-growing",
   "metadata": {},
   "outputs": [],
   "source": [
    "nlis = []\n",
    "nlis.append(math.sqrt(1))\n",
    "nlis.append(math.sqrt(0))\n",
    "nlis.append(math.sqrt(37))\n",
    "nlis.append(math.sqrt(math.pi))\n",
    "nlis.append(math.sqrt(math.e))\n",
    "nlis.append(math.sqrt(math.tau))\n",
    "nlis.append(math.sqrt(math.nan))\n",
    "nlis.append(math.sqrt(math.inf))\n",
    "print(nlis)\n"
   ]
  },
  {
   "cell_type": "markdown",
   "id": "expired-interstate",
   "metadata": {},
   "source": [
    "### tan() function"
   ]
  },
  {
   "cell_type": "markdown",
   "id": "paperback-progressive",
   "metadata": {},
   "source": [
    "Return the tangent of x (measured in radians)."
   ]
  },
  {
   "cell_type": "code",
   "execution_count": null,
   "id": "later-grave",
   "metadata": {},
   "outputs": [],
   "source": [
    "nlis = []\n",
    "nlis.append(math.tan(0))\n",
    "nlis.append(math.tan(30))\n",
    "nlis.append(math.tan(45))\n",
    "nlis.append(math.tan(60))\n",
    "nlis.append(math.tan(90))\n",
    "nlis.append(math.tan(120))\n",
    "nlis.append(math.tan(180))\n",
    "nlis.append(math.tan(270))\n",
    "nlis.append(math.tan(360))\n",
    "print(nlis)"
   ]
  },
  {
   "cell_type": "markdown",
   "id": "important-undergraduate",
   "metadata": {},
   "source": [
    "### tanh() function"
   ]
  },
  {
   "cell_type": "markdown",
   "id": "chronic-queen",
   "metadata": {},
   "source": [
    "Return the hyperbolic tangent of x."
   ]
  },
  {
   "cell_type": "code",
   "execution_count": null,
   "id": "unusual-acceptance",
   "metadata": {},
   "outputs": [],
   "source": [
    "nlis = []\n",
    "nlis.append(math.tanh(1))\n",
    "nlis.append(math.tanh(0))\n",
    "nlis.append(math.tanh(-5))\n",
    "nlis.append(math.tanh(math.pi))\n",
    "nlis.append(math.tanh(math.e))\n",
    "nlis.append(math.tanh(math.tau))\n",
    "nlis.append(math.tanh(math.nan))\n",
    "nlis.append(math.tanh(math.inf))\n",
    "print(nlis)\n"
   ]
  },
  {
   "cell_type": "markdown",
   "id": "suburban-lambda",
   "metadata": {},
   "source": [
    "### trunc() function"
   ]
  },
  {
   "cell_type": "markdown",
   "id": "composed-nature",
   "metadata": {},
   "source": [
    "- Truncates the Real x to the nearest Integral toward 0.\n",
    "- Returns the truncated integer parts of different numbers"
   ]
  },
  {
   "cell_type": "code",
   "execution_count": null,
   "id": "improved-purpose",
   "metadata": {},
   "outputs": [],
   "source": [
    "nlis = []\n",
    "nlis.append(math.trunc(1))\n",
    "nlis.append(math.trunc(0))\n",
    "nlis.append(math.trunc(-5))\n",
    "nlis.append(math.trunc(0.577))\n",
    "nlis.append(math.trunc(1.618))\n",
    "nlis.append(math.trunc(math.pi))\n",
    "nlis.append(math.trunc(math.e))\n",
    "nlis.append(math.trunc(math.tau))\n",
    "print(nlis)"
   ]
  },
  {
   "cell_type": "markdown",
   "id": "maritime-therapist",
   "metadata": {},
   "source": [
    "### ulp() function"
   ]
  },
  {
   "cell_type": "markdown",
   "id": "automatic-nudist",
   "metadata": {},
   "source": [
    "Return the value of the least significant bit of the float x."
   ]
  },
  {
   "cell_type": "code",
   "execution_count": null,
   "id": "helpful-yahoo",
   "metadata": {},
   "outputs": [],
   "source": [
    "import sys\n",
    "nlis = []\n",
    "nlis.append(math.ulp(1))\n",
    "nlis.append(math.ulp(0))\n",
    "nlis.append(math.ulp(-5))\n",
    "nlis.append(math.ulp(0.577))\n",
    "nlis.append(math.ulp(1.618))\n",
    "nlis.append(math.ulp(math.pi))\n",
    "nlis.append(math.ulp(math.e))\n",
    "nlis.append(math.ulp(math.tau))\n",
    "nlis.append(math.ulp(math.nan))\n",
    "nlis.append(math.ulp(math.inf))\n",
    "nlis.append(math.ulp(-math.inf))\n",
    "nlis.append(math.ulp(float('nan')))\n",
    "nlis.append(math.ulp(float('inf'))) \n",
    "x = sys.float_info.max\n",
    "nlis.append(math.ulp(x))\n",
    "print(nlis)"
   ]
  },
  {
   "cell_type": "markdown",
   "id": "empty-restaurant",
   "metadata": {},
   "source": [
    "# 19. List Comprehension in Python"
   ]
  },
  {
   "cell_type": "markdown",
   "id": "level-discount",
   "metadata": {},
   "source": [
    "- List comprehension in Python is an easy and compact syntax for creating a list from a string or another\n",
    "list.\n",
    "- It is a very concise way to create a new list by performing an operation on each item in the existing list.\n",
    "- List comprehension is considerably faster than processing a list using the for loop."
   ]
  },
  {
   "cell_type": "code",
   "execution_count": null,
   "id": "ahead-nebraska",
   "metadata": {},
   "outputs": [],
   "source": [
    "image_path = \"comprehension.png\"\n",
    "image = Image.open(image_path)"
   ]
  },
  {
   "cell_type": "code",
   "execution_count": null,
   "id": "designing-retirement",
   "metadata": {},
   "outputs": [],
   "source": [
    "image"
   ]
  },
  {
   "cell_type": "code",
   "execution_count": null,
   "id": "italic-interstate",
   "metadata": {},
   "outputs": [],
   "source": [
    "Examples"
   ]
  },
  {
   "cell_type": "code",
   "execution_count": null,
   "id": "acceptable-fantasy",
   "metadata": {},
   "outputs": [],
   "source": [
    "import math\n",
    "from math import *\n"
   ]
  },
  {
   "cell_type": "code",
   "execution_count": null,
   "id": "august-aurora",
   "metadata": {},
   "outputs": [],
   "source": [
    "# Using for loop\n",
    "cubic_nums = []\n",
    "for i in range(5):\n",
    " i**=3\n",
    " cubic_nums.append(i)\n",
    "print(cubic_nums)\n",
    "# Using list comprehension\n",
    "cubic_nums = [i**3 for i in range(5)]\n",
    "print(cubic_nums)\n",
    "# Using list comprehension\n",
    "cubic_nums = [math.pow(i, 3) for i in range(5)] \n",
    "print(cubic_nums)\n"
   ]
  },
  {
   "cell_type": "code",
   "execution_count": null,
   "id": "future-combine",
   "metadata": {},
   "outputs": [],
   "source": [
    "# Using for loop\n",
    "even_numbers = []\n",
    "for i in range(21):\n",
    " if i%2 == 0:\n",
    " even_numbers.append(i)\n",
    "print(even_numbers)\n",
    "# Using list comprehension\n",
    "even_numbers = [i for i in range(21) if i%2==0]\n",
    "print(even_numbers)"
   ]
  },
  {
   "cell_type": "code",
   "execution_count": null,
   "id": "comprehensive-champagne",
   "metadata": {},
   "outputs": [],
   "source": [
    "Example: The number of insexts in a lab doubles in size every month. Take the initial number of insects as\n",
    "input and output a list, showing the number of insects for each of the next 12 months, starting with 0, which is\n",
    "the initial value. So the resulting list should contain 12 items, each showing the number of insects at the\n",
    "beginning of that month."
   ]
  },
  {
   "cell_type": "code",
   "execution_count": null,
   "id": "disturbed-broadway",
   "metadata": {},
   "outputs": [],
   "source": [
    "# Using for loop\n",
    "n = int(input('Enter a number: '))\n",
    "print(f'The entered number is {n}.')\n",
    "insect_nums = []\n",
    "for i in range(12):\n",
    " i = n*(2**i)\n",
    " insect_nums.append(i)\n",
    "print(insect_nums)\n",
    " \n",
    "# Using list comprehension\n",
    "insect_nums = [n*(2**i) for i in range(0, 12)]\n",
    "print(insect_nums)"
   ]
  },
  {
   "cell_type": "code",
   "execution_count": null,
   "id": "pleased-handling",
   "metadata": {},
   "outputs": [],
   "source": [
    "# Create a list of multiplies of three from 0 to 30\n",
    "# Using for loop\n",
    "nlis =[]\n",
    "for i in range(30):\n",
    " if i%3 == 0:\n",
    " nlis.append(i)\n",
    "print(nlis)\n",
    "# Using list comprehension\n",
    "nlis = [i for i in range(30) if i%3==0]\n",
    "print(nlis)"
   ]
  },
  {
   "cell_type": "code",
   "execution_count": null,
   "id": "joint-forest",
   "metadata": {},
   "outputs": [],
   "source": [
    "# Using for loop\n",
    "text = []\n",
    "for i in 'Python is a programming language':\n",
    " text.append(i)\n",
    "print(text)\n",
    "# Using list comprehension\n",
    "text = [i for i in 'Python is a programming language']\n",
    "print(text)"
   ]
  },
  {
   "cell_type": "code",
   "execution_count": null,
   "id": "meaning-absence",
   "metadata": {},
   "outputs": [],
   "source": [
    "special_nums = [0.577, 1.618, 2.718, 3.14, 6, 28, 37, 1729]\n",
    "#Using for loop\n",
    "three_times = []\n",
    "for i in special_nums:\n",
    " i*=3\n",
    " three_times.append(i)\n",
    "print(three_times)\n",
    "# Using list comprehension\n",
    "three_times = [x*3 for x in special_nums]\n",
    "print(three_times)"
   ]
  },
  {
   "cell_type": "code",
   "execution_count": null,
   "id": "artificial-dress",
   "metadata": {},
   "outputs": [],
   "source": [
    "# Using for loop\n",
    "languages = ['Python', 'Java', 'JavaScript', 'C', 'C++', 'PHP']\n",
    "lang_lis = []\n",
    "for i in languages:\n",
    " if 't' in i:\n",
    " lang_lis.append(i)\n",
    "print(lang_lis)\n",
    "#Using list comprehension\n",
    "lang_lis = [i for i in languages if 't' in i]\n",
    "print(lang_lis)\n"
   ]
  },
  {
   "cell_type": "code",
   "execution_count": null,
   "id": "joined-proxy",
   "metadata": {},
   "outputs": [],
   "source": [
    "languages = ['Python', 'Java', 'JavaScript', 'C', 'C++', 'PHP']\n",
    "# Using for loop\n",
    "lang_lis = []\n",
    "for i in languages:\n",
    " if i != 'C':\n",
    " lang_lis.append(i)\n",
    "print(lang_lis)\n",
    "#Using list comprehension\n",
    "lang_lis = [i for i in languages if i != 'C']\n",
    "print(lang_lis)\n"
   ]
  },
  {
   "cell_type": "code",
   "execution_count": null,
   "id": "christian-collection",
   "metadata": {},
   "outputs": [],
   "source": [
    "special_nums = [0.577, 1.618, 2.718, 3.14, 6, 28, 37, 1729]\n",
    "# Using for loop\n",
    "new_lis = []\n",
    "for i in special_nums:\n",
    " if i < 5:\n",
    " new_lis.append(i)\n",
    "print(new_lis)\n",
    "# Using list comprehension\n",
    "new_lis = [i for i in special_nums if i < 5]\n",
    "print(new_lis)\n"
   ]
  },
  {
   "cell_type": "code",
   "execution_count": null,
   "id": "liquid-liability",
   "metadata": {},
   "outputs": [],
   "source": [
    "languages = ['Java', 'JavaScript', 'C', 'C++', 'PHP']\n",
    "# Using for loop\n",
    "lang_lis = []\n",
    "for i in languages:\n",
    " i = 'Python'\n",
    " lang_lis.append(i)\n",
    "print(lang_lis)\n",
    "#Using list comprehension\n",
    "lang_lis = ['Python' for i in languages]\n",
    "print(lang_lis)"
   ]
  },
  {
   "cell_type": "code",
   "execution_count": null,
   "id": "essential-sunrise",
   "metadata": {},
   "outputs": [],
   "source": [
    "languages = ['Java', 'JavaScript', 'C', 'C++', 'PHP']\n",
    "# Using for loop\n",
    "lang_lis = []\n",
    "for i in languages:\n",
    " if i != 'Java':\n",
    " lang_lis.append(i)\n",
    " else:\n",
    " lang_lis.append('Python')\n",
    "print(lang_lis)\n",
    "#Using list comprehension\n",
    "lang_lis = [i if i != 'Java' else 'Python' for i in languages]\n",
    "print(lang_lis)\n"
   ]
  },
  {
   "cell_type": "code",
   "execution_count": null,
   "id": "marked-eagle",
   "metadata": {},
   "outputs": [],
   "source": [
    "languages = ['Python', 'Java', 'JavaScript', 'C', 'C++', 'PHP']\n",
    "# Using for loop\n",
    "lang_lis = []\n",
    "for i in languages:\n",
    " i = i.upper()\n",
    " lang_lis.append(i)\n",
    "print(lang_lis)\n",
    "#Using list comprehension\n",
    "lang_lis = [i.upper() for i in languages]\n",
    "print(lang_lis)"
   ]
  },
  {
   "cell_type": "code",
   "execution_count": null,
   "id": "italic-peter",
   "metadata": {},
   "outputs": [],
   "source": [
    "# Using for loop\n",
    "python = []\n",
    "for i in 'Python':\n",
    " python.append(i)\n",
    "print(python)\n",
    "# Using list comprehension\n",
    "python = [i for i in 'Python']\n",
    "print(python)\n",
    "# Using lambda function\n",
    "python = list(map(lambda i: i, 'Python'))\n",
    "print(python)"
   ]
  },
  {
   "cell_type": "code",
   "execution_count": null,
   "id": "retained-bailey",
   "metadata": {},
   "outputs": [],
   "source": [
    "# Using for loop\n",
    "numbers = []\n",
    "for i in range(11):\n",
    " if i%2 == 0:\n",
    " numbers.append('Even')\n",
    " else:\n",
    " numbers.append('Odd')\n",
    "print(f'For loop: {numbers}')\n",
    "# Using list comprehension\n",
    "numbers = ['Even' if i%2==0 else 'Odd' for i in range(11)]\n",
    "print(f'List comprehension: {numbers}')\n",
    "# Using lambda function\n",
    "numbers = list(map(lambda i: i, ['Even' if i%2==0 else 'Odd' for i in range(11)]))\n",
    "print(f'Lambda: {numbers}')"
   ]
  },
  {
   "cell_type": "code",
   "execution_count": null,
   "id": "caring-bullet",
   "metadata": {},
   "outputs": [],
   "source": [
    "# Using nested for loop\n",
    "empty_list = []\n",
    "matrix_list = [[0.577, 1.618, 2.718, 3.14], [6, 28, 37, 1729]]\n",
    "for i in range(len(matrix_list[0])):\n",
    " T_row = []\n",
    " for row in matrix_list:\n",
    " T_row.append(row[i])\n",
    " empty_list.append(T_row)\n",
    "print(empty_list)\n",
    "# Using list comprehension\n",
    "empty_list = [[row[i] for row in matrix_list] for i in range(4)]\n",
    "print(empty_list)"
   ]
  },
  {
   "cell_type": "code",
   "execution_count": null,
   "id": "enhanced-answer",
   "metadata": {},
   "outputs": [],
   "source": [
    "# Using nested for loop\n",
    "empty_matrix = []\n",
    "for i in range(5):\n",
    " empty_matrix.append([])\n",
    " for j in range(5):\n",
    " empty_matrix[i].append(j)\n",
    "print(empty_matrix)\n",
    "# Using list comprehension\n",
    "empty_matrix = [[j for j in range(5)] for i in range(5)]\n",
    "print(empty_matrix)"
   ]
  },
  {
   "cell_type": "code",
   "execution_count": null,
   "id": "dimensional-anxiety",
   "metadata": {},
   "outputs": [],
   "source": [
    "# Transpose of 2D matrix\n",
    "matrix = [[0.577, 1.618, 0],\n",
    " [2.718, 3.14, 1],\n",
    " [6, 28, 28]]\n",
    "transpose_matrix = [[i[j] for i in matrix] for j in range(len(matrix))]\n",
    "print(transpose_matrix)"
   ]
  },
  {
   "cell_type": "markdown",
   "id": "improved-palmer",
   "metadata": {},
   "source": [
    "# 20. Decorators in Python"
   ]
  },
  {
   "cell_type": "markdown",
   "id": "institutional-window",
   "metadata": {},
   "source": [
    "- Decorators provide a simple syntax for calling higher-order functions.\n",
    "- By definition, a decorator is a function that takes another function and extends the behavior of the latter\n",
    "function without explicitly modifying it.\n",
    "- A decorator in Python is a function that takes another function as its argument, and returns yet another\n",
    "function.\n",
    "- Decorators can be extremely useful as they allow the extension of an existing function, without any\n",
    "modification to the original function source code.\n",
    "- In fact, there are two types of decorators in Python including class decorators and function\n",
    "decorators.\n",
    "- In application, decorators are majorly used in creating middle layer in the backend, it performs task like\n",
    "token authentication, validation, image compression and many more."
   ]
  },
  {
   "cell_type": "code",
   "execution_count": null,
   "id": "amateur-replication",
   "metadata": {},
   "outputs": [],
   "source": [
    "image_path = \"decorator.png\"\n",
    "image = Image.open(image_path)"
   ]
  },
  {
   "cell_type": "code",
   "execution_count": null,
   "id": "artistic-copyright",
   "metadata": {},
   "outputs": [],
   "source": [
    "image"
   ]
  },
  {
   "cell_type": "markdown",
   "id": "signal-sensitivity",
   "metadata": {},
   "source": [
    "#### Syntax for Decorator"
   ]
  },
  {
   "cell_type": "code",
   "execution_count": null,
   "id": "capital-petroleum",
   "metadata": {},
   "outputs": [],
   "source": [
    "\"\"\"\n",
    "@hello_decorator\n",
    "def hi_decorator():\n",
    " print(\"Hello\")\n",
    "\"\"\"\n",
    "'''\n",
    "Above code is equal to -\n",
    "def hi_decorator():\n",
    " print(\"Hello\")\n",
    " \n",
    "hi_decorator = hello_decorator(hi_decorator)\n",
    "'''"
   ]
  },
  {
   "cell_type": "code",
   "execution_count": null,
   "id": "unusual-benjamin",
   "metadata": {},
   "outputs": [],
   "source": [
    "# Import libraries\n",
    "import decorator\n",
    "from decorator import *\n",
    "import functools\n",
    "import math"
   ]
  },
  {
   "cell_type": "code",
   "execution_count": null,
   "id": "sacred-metropolitan",
   "metadata": {},
   "outputs": [],
   "source": [
    "help(decorator)"
   ]
  },
  {
   "cell_type": "markdown",
   "id": "alike-elizabeth",
   "metadata": {},
   "source": [
    "#### Functions"
   ]
  },
  {
   "cell_type": "code",
   "execution_count": null,
   "id": "talented-syndication",
   "metadata": {},
   "outputs": [],
   "source": [
    "# Define a function\n",
    "\"\"\" \n",
    "In the following function, when the code was executed, it yeilds the outputs for both functions. \n",
    "The function new_text() alluded to the function mytext() and behave as function. \n",
    "\"\"\"\n",
    "def mytext(text):\n",
    " print(text)\n",
    "mytext('Python is a programming language.')\n",
    "new_text = mytext\n",
    "new_text('Hell, Python!')\n"
   ]
  },
  {
   "cell_type": "code",
   "execution_count": null,
   "id": "handed-catch",
   "metadata": {},
   "outputs": [],
   "source": [
    "def multiplication(num):\n",
    " return num * num\n",
    "mult = multiplication\n",
    "mult(3.14)"
   ]
  },
  {
   "cell_type": "markdown",
   "id": "lesbian-indonesian",
   "metadata": {},
   "source": [
    "### Nested/Inner Function"
   ]
  },
  {
   "cell_type": "code",
   "execution_count": null,
   "id": "basic-distance",
   "metadata": {},
   "outputs": [],
   "source": [
    "# Define a function\n",
    "\"\"\" \n",
    "In the following function, it is nonsignificant how the child functions are announced. \n",
    "The implementation of the child function does influence on the output. \n",
    "These child functions are topically linked with the function mytext(), therefore they can not be called individually.\n",
    "\"\"\"\n",
    "def mytext():\n",
    " print('Python is a programming language.')\n",
    " def new_text():\n",
    " print('Hello, Python!')\n",
    " def message():\n",
    " print('Hi, World!')\n",
    " \n",
    " new_text()\n",
    " message()\n",
    "mytext()\n"
   ]
  },
  {
   "cell_type": "code",
   "execution_count": null,
   "id": "matched-tourism",
   "metadata": {},
   "outputs": [],
   "source": [
    "# Define a function\n",
    "\"\"\"\n",
    "In the following example, the function text() is nesred into the function message().\n",
    "It will return each time when the function tex() is called. \n",
    "\"\"\"\n",
    "def message():\n",
    " def text():\n",
    " print('Python is a programming language.')\n",
    " return text\n",
    "new_message = message()\n",
    "new_message()\n"
   ]
  },
  {
   "cell_type": "code",
   "execution_count": null,
   "id": "three-louisiana",
   "metadata": {},
   "outputs": [],
   "source": [
    "def function(num):\n",
    " def mult(num):\n",
    " return num*num\n",
    " \n",
    " output = mult(num)\n",
    " return output\n",
    "mult(3.14)\n"
   ]
  },
  {
   "cell_type": "code",
   "execution_count": null,
   "id": "oriented-shopper",
   "metadata": {},
   "outputs": [],
   "source": [
    "def msg(text):\n",
    " 'Hello, World!'\n",
    " def mail():\n",
    " 'Hi, Python!'\n",
    " print(text)\n",
    " \n",
    " mail()\n",
    "msg('Python is the most popular programming language.')\n"
   ]
  },
  {
   "cell_type": "markdown",
   "id": "dominican-pharmacology",
   "metadata": {},
   "source": [
    "### Passing functions"
   ]
  },
  {
   "cell_type": "code",
   "execution_count": null,
   "id": "conscious-scope",
   "metadata": {},
   "outputs": [],
   "source": [
    "# Define a function\n",
    "\"\"\"\n",
    "In this function, the mult() and divide() functions as argument in operator() function are passed.\n",
    "\"\"\"\n",
    "def mult(x):\n",
    " return x * 3.14\n",
    "def divide(x):\n",
    " return x/3.14\n",
    "def operator(function, x):\n",
    " number = function(x)\n",
    " return number\n",
    "print(operator(mult, 2.718))\n",
    "print(operator(divide, 1.618))\n"
   ]
  },
  {
   "cell_type": "code",
   "execution_count": null,
   "id": "assigned-spending",
   "metadata": {},
   "outputs": [],
   "source": [
    "def addition(num):\n",
    " return num + math.pi\n",
    "def called_function(func):\n",
    " added_number = math.e\n",
    " return func(added_number)\n",
    "called_function(addition)"
   ]
  },
  {
   "cell_type": "code",
   "execution_count": null,
   "id": "aggressive-electricity",
   "metadata": {},
   "outputs": [],
   "source": [
    "def decorator_one(function):\n",
    " def inner():\n",
    " num = function()\n",
    " return num * (num**num)\n",
    " return inner\n",
    "def decorator_two(function):\n",
    " def inner():\n",
    " num = function()\n",
    " return (num**num)/num\n",
    " return inner\n",
    "@decorator_one\n",
    "@decorator_two\n",
    "def number():\n",
    " return 4\n",
    "print(number())\n",
    "# The above decorator returns the following code\n",
    "x = pow(4, 4)/4\n",
    "print(x*(x**x))\n"
   ]
  },
  {
   "cell_type": "markdown",
   "id": "friendly-abuse",
   "metadata": {},
   "source": [
    "### Functions reverting other functions"
   ]
  },
  {
   "cell_type": "code",
   "execution_count": null,
   "id": "naked-congo",
   "metadata": {},
   "outputs": [],
   "source": [
    "def msg_func():\n",
    " def text():\n",
    " return \"Python is a programming language.\"\n",
    " return text\n",
    "msg = msg_func()\n",
    "print(msg())"
   ]
  },
  {
   "cell_type": "markdown",
   "id": "voluntary-partnership",
   "metadata": {},
   "source": [
    "### Decorating functions"
   ]
  },
  {
   "cell_type": "code",
   "execution_count": null,
   "id": "sunrise-tsunami",
   "metadata": {},
   "outputs": [],
   "source": [
    "# Define a decorating function\n",
    "\"\"\"\n",
    "In the following example, the function outer_addition that is some voluminous is decorated.\n",
    "\"\"\"\n",
    "def addition(a, b): \n",
    " print(a+b)\n",
    "def outer_addition(func):\n",
    " def inner(a, b): \n",
    " if a < b:\n",
    " a, b = b, a\n",
    " return func(a, b)\n",
    " return inner\n",
    "result = outer_addition(addition)\n",
    "result(math.pi, math.e)"
   ]
  },
  {
   "cell_type": "code",
   "execution_count": null,
   "id": "alpha-dispute",
   "metadata": {},
   "outputs": [],
   "source": [
    "\"\"\"\n",
    "Rather than above function, Python ensures to employ decorator in easy way with the symbol @ called 'pie' syntax, as\n",
    "\"\"\"\n",
    "def outer_addition(function):\n",
    " def inner(a, b): \n",
    " if a < b:\n",
    " a, b = b, a\n",
    " return function(a, b)\n",
    " return inner\n",
    "@outer_addition # Syntax of decorator\n",
    "def addition(a, b):\n",
    " print(a+b)\n",
    "result = outer_addition(addition)\n",
    "result(math.pi, math.e)"
   ]
  },
  {
   "cell_type": "code",
   "execution_count": null,
   "id": "accepted-carter",
   "metadata": {},
   "outputs": [],
   "source": [
    "def decorator_text_uppercase(func):\n",
    " def wrapper():\n",
    " function = func()\n",
    " text_uppercase = function.upper()\n",
    " return text_uppercase\n",
    " return wrapper\n",
    "# Using a function\n",
    "def text():\n",
    " return 'Python is the most popular programming language.'\n",
    "decorated_result = decorator_text_uppercase(text)\n",
    "print(decorated_result())\n",
    "# Using a decorator\n",
    "@decorator_text_uppercase\n",
    "def text():\n",
    " return 'Python is the most popular programming language.'\n",
    "print(text())"
   ]
  },
  {
   "cell_type": "code",
   "execution_count": null,
   "id": "appointed-stevens",
   "metadata": {},
   "outputs": [],
   "source": [
    "Reprocessing decorator\n",
    "The decorator can be reused by recalling that decorator function."
   ]
  },
  {
   "cell_type": "code",
   "execution_count": null,
   "id": "invisible-offer",
   "metadata": {},
   "outputs": [],
   "source": [
    "def do_twice(function):\n",
    " def wrapper_do_twice():\n",
    " function()\n",
    " function()\n",
    " return wrapper_do_twice\n",
    "@do_twice\n",
    "def text():\n",
    " print('Python is a programming language.')\n",
    "text()\n"
   ]
  },
  {
   "cell_type": "markdown",
   "id": "comparative-explosion",
   "metadata": {},
   "source": [
    "### Decorators with Arguments"
   ]
  },
  {
   "cell_type": "code",
   "execution_count": null,
   "id": "radical-business",
   "metadata": {},
   "outputs": [],
   "source": [
    "def do_twice(function):\n",
    " \"\"\"\n",
    " The function wrapper_function() can admit any number of argument and pass them on the function.\n",
    " \"\"\"\n",
    " def wrapper_function(*args, **kwargs):\n",
    " function(*args, **kwargs)\n",
    " function(*args, **kwargs)\n",
    " return wrapper_function\n",
    "@do_twice\n",
    "def text(programming_language):\n",
    " print(f'{programming_language} is a programming language.')\n",
    "text('Python')"
   ]
  },
  {
   "cell_type": "markdown",
   "id": "mineral-footage",
   "metadata": {},
   "source": [
    "### Returning values from decorated function"
   ]
  },
  {
   "cell_type": "code",
   "execution_count": null,
   "id": "informal-found",
   "metadata": {},
   "outputs": [],
   "source": [
    "@do_twice\n",
    "def returning(programming_language):\n",
    " print('Python is a programming language.')\n",
    " return f'Hello, {programming_language}'\n",
    "hello_python = returning('Python')"
   ]
  },
  {
   "cell_type": "code",
   "execution_count": null,
   "id": "accessory-insulation",
   "metadata": {},
   "outputs": [],
   "source": [
    "Fancy decorators\n",
    "@propertymethod\n",
    "@staticmethod\n",
    "@classmethod"
   ]
  },
  {
   "cell_type": "code",
   "execution_count": null,
   "id": "monetary-times",
   "metadata": {},
   "outputs": [],
   "source": [
    "class Microorganism:\n",
    " def __init__(self, name, product):\n",
    " self.name = name\n",
    " self.product = product\n",
    " @property\n",
    " def show(self):\n",
    " return self.name + ' produces ' + self.product + ' enzyme'\n",
    "organism = Microorganism('Aspergillus niger', 'inulinase')\n",
    "print(f'Microorganism name: {organism.name}')\n",
    "print(f'Microorganism product: {organism.product}')\n",
    "print(f'Message: {organism.show}.')\n"
   ]
  },
  {
   "cell_type": "code",
   "execution_count": null,
   "id": "resistant-marble",
   "metadata": {},
   "outputs": [],
   "source": [
    "class Micoorganism:\n",
    " @staticmethod\n",
    " def name():\n",
    " print('Aspergillus niger is a fungus that produces inulinase enzyme.')\n",
    "organims = Micoorganism()\n",
    "organims.name()\n",
    "Micoorganism.name()"
   ]
  },
  {
   "cell_type": "code",
   "execution_count": null,
   "id": "cognitive-difficulty",
   "metadata": {},
   "outputs": [],
   "source": [
    "class Microorganism:\n",
    " def __init__(self, name, product):\n",
    " self.name = name\n",
    " self.product = product\n",
    " \n",
    " @classmethod\n",
    " def display(cls):\n",
    " return cls('Aspergillus niger', 'inulinase')\n",
    "organism = Microorganism.display()\n",
    "print(f'The fungus {organism.name} produces {organism.product} enzyme.')"
   ]
  },
  {
   "cell_type": "markdown",
   "id": "bizarre-execution",
   "metadata": {},
   "source": [
    "### Decorator with arguments"
   ]
  },
  {
   "cell_type": "code",
   "execution_count": null,
   "id": "australian-circle",
   "metadata": {},
   "outputs": [],
   "source": [
    "\"\"\"\n",
    "In the following example, @iterate refers to a function object that can be called in another function.\n",
    "The @iterate(numbers=4) will return a function which behaves as a decorator.\n",
    "\"\"\"\n",
    "def iterate(numbers):\n",
    " def decorator_iterate(function):\n",
    " @functools.wraps(function)\n",
    " def wrapper(*args, **kwargs):\n",
    " for _ in range(numbers):\n",
    " worth = function(*args, **kwargs)\n",
    " return worth\n",
    " return wrapper\n",
    " return decorator_iterate\n",
    "@iterate(numbers=4)\n",
    "def function_one(name):\n",
    " print(f'{name}')\n",
    "x = function_one('Python')\n"
   ]
  },
  {
   "cell_type": "code",
   "execution_count": null,
   "id": "smoking-pennsylvania",
   "metadata": {},
   "outputs": [],
   "source": [
    "def arguments(func):\n",
    " def wrapper_arguments(argument_1, argument_2):\n",
    " print(f'The arguments are {argument_1} and {argument_2}.')\n",
    " func(argument_1, argument_2)\n",
    " return wrapper_arguments\n",
    "@arguments\n",
    "def programing_language(lang_1, lang_2):\n",
    " print(f'My favorite programming languages are {lang_1} and {lang_2}.')\n",
    "programing_language(\"Python\", \"R\")"
   ]
  },
  {
   "cell_type": "markdown",
   "id": "cathedral-moral",
   "metadata": {},
   "source": [
    "### Multiple decorators"
   ]
  },
  {
   "cell_type": "code",
   "execution_count": null,
   "id": "direct-minimum",
   "metadata": {},
   "outputs": [],
   "source": [
    "def splitted_text(text):\n",
    " def wrapper():\n",
    " function = text()\n",
    " text_splitting = function.split()\n",
    " return text_splitting\n",
    " return wrapper\n",
    "@splitted_text\n",
    "@decorator_text_uppercase # Calling other decorator above\n",
    "def text():\n",
    " return 'Python is the most popular programming language.'\n",
    "text()\n"
   ]
  },
  {
   "cell_type": "markdown",
   "id": "coastal-burner",
   "metadata": {},
   "source": [
    "### Arbitrary arguments"
   ]
  },
  {
   "cell_type": "code",
   "execution_count": null,
   "id": "ordinary-stretch",
   "metadata": {},
   "outputs": [],
   "source": [
    "def arbitrary_argument(func):\n",
    " def wrapper(*args,**kwargs):\n",
    " print(f'These are positional arguments {args}.')\n",
    " print(f'These are keyword arguments {kwargs}.')\n",
    " func(*args)\n",
    " return wrapper\n",
    "\"\"\"1. Without arguments decorator\"\"\"\n",
    "print(__doc__)\n",
    "@arbitrary_argument\n",
    "def without_argument():\n",
    " print(\"There is no argument in this decorator.\")\n",
    "without_argument()\n",
    "\"\"\"2. With positional arguments decorator\"\"\"\n",
    "print(__doc__)\n",
    "@arbitrary_argument\n",
    "def with_positional_argument(x1, x2, x3, x4, x5, x6):\n",
    " print(x1, x2, x3, x4, x5, x6)\n",
    "with_positional_argument(math.inf, math.tau, math.pi, math.e, math.nan, -math.inf)\n",
    "\"\"\"3. With keyword arguments decorator\"\"\"\n",
    "print(__doc__)\n",
    "@arbitrary_argument\n",
    "def with_keyword_argument():\n",
    " print(\"Python and R are my favorite programming languages and keyword arguments.\")\n",
    "with_keyword_argument(language_1=\"Python\", language_2=\"R\")"
   ]
  },
  {
   "cell_type": "markdown",
   "id": "grateful-assistant",
   "metadata": {},
   "source": [
    "### Debugging decorators"
   ]
  },
  {
   "cell_type": "code",
   "execution_count": null,
   "id": "palestinian-insert",
   "metadata": {},
   "outputs": [],
   "source": [
    "def capitalize_dec(function):\n",
    " @functools.wraps(function)\n",
    " def wrapper():\n",
    " return function().capitalize()\n",
    " return wrapper\n",
    "@capitalize_dec\n",
    "def message():\n",
    " \"Python is the most popular programming language.\"\n",
    " return 'PYTHON IS THE MOST POPULAR PROGRAMMING LANGUAGE. '\n",
    "print(message())\n",
    "print()\n",
    "print(message.__name__)\n",
    "print(message.__doc__)\n"
   ]
  },
  {
   "cell_type": "markdown",
   "id": "direct-bloom",
   "metadata": {},
   "source": [
    "### Preserving decorators"
   ]
  },
  {
   "cell_type": "code",
   "execution_count": null,
   "id": "hidden-natural",
   "metadata": {},
   "outputs": [],
   "source": [
    "def preserved_decorator(function):\n",
    " def wrapper():\n",
    " print('Before calling the function, this is printed.')\n",
    " function()\n",
    " print('After calling the function, this is printed.')\n",
    " return wrapper\n",
    "@preserved_decorator\n",
    "def message():\n",
    " \"\"\"This function prints the message when it is called.\"\"\"\n",
    " print('Python is the most popular programming language.')\n",
    "message()\n",
    "print(message.__name__)\n",
    "print(message.__doc__)\n",
    "print(message.__class__)\n",
    "print(message.__module__)\n",
    "print(message.__code__)\n",
    "print(message.__closure__)\n",
    "print(message.__annotations__)\n",
    "print(message.__dir__)\n",
    "print(message.__format__)\n"
   ]
  },
  {
   "cell_type": "markdown",
   "id": "respiratory-linux",
   "metadata": {},
   "source": [
    "## 21. Generators in Python"
   ]
  },
  {
   "cell_type": "markdown",
   "id": "unlikely-columbia",
   "metadata": {},
   "source": [
    "- Python generators are the functions that return tha traversal object and a simple way of creating iterators.\n",
    "- It traverses the entire items at once.\n",
    "- The generator can alos be an expression in which syntax is smilar to the list comprehension in python.\n",
    "- There is a lot of complexity in creating iteration in Python, it is required to implement iter() and next()\n",
    "methods to keep track of internal states.\n",
    "- It is a lenghty process to create iterators.\n",
    "- That is why the generator plays a significant role in simplfying this process.\n",
    "- If there is no value found in iteration, it raises StopIteration exception.\n",
    "- it is quite simple to create a generator in Python.\n",
    "- It is similar to the normal function defined by the def keyword and employs a yield keyword instead of\n",
    "return.\n",
    "- If the body of any function includes a yield statement, it automatically becomes a generator function.\n",
    "- The yield keyword is responsibel to control the flow of the generator function.\n",
    "- It pauses the function execution by saving all states and yielded to the caller.\n",
    "- Later it resumes execution when a successive function is called.\n",
    "- The return keyword returns a value and terminates the whole function and only one return statement can\n",
    "be employed in the function"
   ]
  },
  {
   "cell_type": "code",
   "execution_count": null,
   "id": "pediatric-hardware",
   "metadata": {},
   "outputs": [],
   "source": [
    "image_path = \"generator.png\"\n",
    "image = Image.open(image_path)"
   ]
  },
  {
   "cell_type": "code",
   "execution_count": null,
   "id": "increasing-broadcasting",
   "metadata": {},
   "outputs": [],
   "source": [
    "image"
   ]
  },
  {
   "cell_type": "code",
   "execution_count": null,
   "id": "proof-ribbon",
   "metadata": {},
   "outputs": [],
   "source": [
    "def function():\n",
    "    for i in range(10):\n",
    "        if i%2==0:\n",
    "            yield i\n",
    " \n",
    "list = []\n",
    "for i in function():\n",
    "    list.append(i)\n",
    "print(list)"
   ]
  },
  {
   "cell_type": "code",
   "execution_count": null,
   "id": "roman-dollar",
   "metadata": {},
   "outputs": [],
   "source": [
    "def func():\n",
    "    for i in range(25):\n",
    "        if i%4==0:\n",
    "            yield i\n",
    "num_list = []\n",
    "for i in func():\n",
    "    num_list.append(i)\n",
    "print(num_list)"
   ]
  },
  {
   "cell_type": "code",
   "execution_count": null,
   "id": "capable-ivory",
   "metadata": {},
   "outputs": [],
   "source": [
    "def message():\n",
    "    msg_one = 'Hello, World!'\n",
    "    yield msg_one\n",
    "    msg_two = 'Hi, Python!'\n",
    "    yield msg_two\n",
    "    msg_three = 'Python is the most popular programming language.'\n",
    "    yield msg_three\n",
    "result = message()\n",
    "print(next(result))\n",
    "print(next(result))\n",
    "print(next(result))\n"
   ]
  },
  {
   "cell_type": "code",
   "execution_count": null,
   "id": "clear-trigger",
   "metadata": {},
   "outputs": [],
   "source": [
    "\"\"\"\n",
    "In the following example, the list comprehension will return the list of cube of elements.\n",
    "Whereas the generator expression will return the reference of the calculated value.\n",
    "Rather than this application, the ^function 'next()' can be used on the generator object.\n",
    "\"\"\"\n",
    "special_nums = [0.577, 1.618, 2.718, 3.14, 6, 37, 1729]\n",
    "list_comp = [i*3 for i in special_nums]         # This is a list comprehension.\n",
    "generator_exp = (i*3 for i in special_nums)     # This is a generator expression.\n",
    "print(list_comp)\n",
    "print(generator_exp)\n"
   ]
  },
  {
   "cell_type": "code",
   "execution_count": null,
   "id": "lined-reservoir",
   "metadata": {},
   "outputs": [],
   "source": [
    "special_nums = [0.577, 1.618, 2.718, 3.14, 6, 37, 1729]\n",
    "generator_exp = (i*3 for i in special_nums) # This is a generator expression.\n",
    "nums_list = []\n",
    "nums_list.append(next(generator_exp))\n",
    "nums_list.append(next(generator_exp))\n",
    "nums_list.append(next(generator_exp))\n",
    "nums_list.append(next(generator_exp))\n",
    "nums_list.append(next(generator_exp))\n",
    "nums_list.append(next(generator_exp))\n",
    "nums_list.append(next(generator_exp))\n",
    "print(nums_list)\n"
   ]
  },
  {
   "cell_type": "code",
   "execution_count": null,
   "id": "institutional-interim",
   "metadata": {},
   "outputs": [],
   "source": [
    "def mult_table(n):\n",
    "    for i in range(0, 11):\n",
    "        yield n*i\n",
    "        i+=1\n",
    "mult_table_list = []\n",
    "for i in mult_table(20):\n",
    "    mult_table_list.append(i)\n",
    "print(mult_table_list)\n"
   ]
  },
  {
   "cell_type": "code",
   "execution_count": null,
   "id": "authorized-houston",
   "metadata": {},
   "outputs": [],
   "source": [
    "import sys\n",
    "# List comprehension\n",
    "cubic_nums_lc = [i**3 for i in range(1500)]\n",
    "print(f'Memory in bytes with list comprehension is {sys.getsizeof(cubic_nums_lc)}.')\n",
    "# Generator expression of the same conditions\n",
    "cubic_nums_gc = (i**3 for i in range(1500))\n",
    "print(f'Memory in bytes with generator expression is {sys.getsizeof(cubic_nums_gc)}.')\n"
   ]
  },
  {
   "cell_type": "markdown",
   "id": "freelance-climb",
   "metadata": {},
   "source": [
    "- You can find more information by executing the following command\n",
    "- help(sys)"
   ]
  },
  {
   "cell_type": "code",
   "execution_count": null,
   "id": "unavailable-rally",
   "metadata": {},
   "outputs": [],
   "source": [
    "# def infinite():\n",
    "#     count = 0\n",
    "#     while True:\n",
    "#         yield count\n",
    "#         count = count + 1\n",
    "# for i in infinite():\n",
    "#     print(i)"
   ]
  },
  {
   "cell_type": "code",
   "execution_count": null,
   "id": "connected-darkness",
   "metadata": {},
   "outputs": [],
   "source": [
    "def generator(a):\n",
    "    for i in range(a):\n",
    "        yield i\n",
    "gen = generator(6)\n",
    "print(next(gen))\n",
    "print(next(gen))\n",
    "print(next(gen))\n",
    "print(next(gen))\n",
    "print(next(gen))\n",
    "print(next(gen))\n",
    "print(next(gen))"
   ]
  },
  {
   "cell_type": "code",
   "execution_count": null,
   "id": "curious-serve",
   "metadata": {},
   "outputs": [],
   "source": [
    "def square_number(num):\n",
    "    for i in range(num):\n",
    "        yield i**i\n",
    "generator = square_number(6)\n",
    "# Using 'while' loop\n",
    "while True:\n",
    " try:\n",
    "    print(f'The number using while loop is {next(generator)}.')\n",
    " except StopIteration:\n",
    "    break\n",
    "# Using 'for' loop\n",
    "nlis = []\n",
    "for square in square_number(6):\n",
    "    nlis.append(square)\n",
    "print(f'The numbers using for loop are {nlis}.')\n",
    "# Using generator comprehension\n",
    "square = (i**i for i in range(6))\n",
    "square_list = []\n",
    "square_list.append(next(square))\n",
    "square_list.append(next(square))\n",
    "square_list.append(next(square))\n",
    "square_list.append(next(square))\n",
    "square_list.append(next(square))\n",
    "square_list.append(next(square))\n",
    "print(f'The numbers using generator comprehension are {square_list}.')\n"
   ]
  },
  {
   "cell_type": "code",
   "execution_count": null,
   "id": "japanese-asian",
   "metadata": {},
   "outputs": [],
   "source": [
    "import math\n",
    "sum(i**i for i in range(6))"
   ]
  },
  {
   "cell_type": "code",
   "execution_count": null,
   "id": "metropolitan-pillow",
   "metadata": {},
   "outputs": [],
   "source": [
    "def fibonacci(numbers):\n",
    "    a, b = 0, 1\n",
    "    for _ in range(numbers):\n",
    "        a, b = b, a+b\n",
    "        yield a\n",
    "def square(numbers):\n",
    "    for i in numbers:\n",
    "        yield i**2\n",
    "print(sum(square(fibonacci(25))))\n"
   ]
  },
  {
   "cell_type": "code",
   "execution_count": null,
   "id": "molecular-uzbekistan",
   "metadata": {},
   "outputs": [],
   "source": []
  }
 ],
 "metadata": {
  "kernelspec": {
   "display_name": "Python 3 (ipykernel)",
   "language": "python",
   "name": "python3"
  },
  "language_info": {
   "codemirror_mode": {
    "name": "ipython",
    "version": 3
   },
   "file_extension": ".py",
   "mimetype": "text/x-python",
   "name": "python",
   "nbconvert_exporter": "python",
   "pygments_lexer": "ipython3",
   "version": "3.11.3"
  }
 },
 "nbformat": 4,
 "nbformat_minor": 5
}
